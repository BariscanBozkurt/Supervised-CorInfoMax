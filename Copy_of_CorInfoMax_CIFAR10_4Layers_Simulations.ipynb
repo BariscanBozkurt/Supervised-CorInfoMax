{
 "cells": [
  {
   "cell_type": "markdown",
   "metadata": {
    "id": "c9dL_PWHQbpE"
   },
   "source": [
    "# Import Required Libraries"
   ]
  },
  {
   "cell_type": "code",
   "execution_count": 1,
   "metadata": {
    "id": "6lu9-cpvOfam"
   },
   "outputs": [],
   "source": [
    "import torch\n",
    "import matplotlib.pyplot as plt\n",
    "import numpy as np\n",
    "import torchvision\n",
    "import torch.nn.functional as F\n",
    "import argparse\n",
    "import matplotlib\n",
    "import pandas as pd\n",
    "\n",
    "from tqdm import tqdm\n",
    "import glob\n",
    "import os\n",
    "from datetime import datetime\n",
    "from itertools import product\n",
    "import time\n",
    "import math\n",
    "\n",
    "import warnings\n",
    "warnings.filterwarnings(\"ignore\")"
   ]
  },
  {
   "cell_type": "code",
   "execution_count": 2,
   "metadata": {
    "id": "YfZLQ92y4HFv"
   },
   "outputs": [],
   "source": [
    "def hard_sigmoid(x):\n",
    "    # Source : https://github.com/Laborieux-Axel/Equilibrium-Propagation/\n",
    "    return (1+F.hardtanh(2*x-1))*0.5\n",
    "\n",
    "def outer_prod_broadcasting(A, B):\n",
    "    \"\"\"Broadcasting trick\"\"\"\n",
    "    return A[...,None]*B[:,None]\n",
    "\n",
    "def torch2numpy(x):\n",
    "    return x.detach().cpu().numpy()\n",
    "\n",
    "def antisparse_clip(x):\n",
    "    return torch.clip(x, -1, 1)\n",
    "\n",
    "def evaluateContrastiveCorInfoMaxHopfield(model, loader, hopfield_g, neural_lr_start, neural_lr_stop,\n",
    "                                          neural_lr_rule, neural_lr_decay_multiplier,\n",
    "                                          T, device, printing = True):\n",
    "    # Evaluate the Contrastive CorInfoMax Hopfield model on a dataloader with T steps for the dynamics for the classification task\n",
    "    correct = 0\n",
    "    phase = 'Train' if loader.dataset.train else 'Test'\n",
    "\n",
    "    for x, y in loader:\n",
    "        x = x.view(x.size(0),-1).to(device).T\n",
    "        y = y.to(device)\n",
    "\n",
    "        neurons = model.init_neurons(x.size(1), device = model.device)\n",
    "\n",
    "        # dynamics for T time steps\n",
    "        neurons, _, _ = model.run_neural_dynamics_hopfield(x, 0, neurons, hopfield_g, neural_lr_start, neural_lr_stop, neural_lr_rule, neural_lr_decay_multiplier, T, beta = 0)\n",
    "\n",
    "        pred = torch.argmax(neurons[-1], dim=0).squeeze()\n",
    "        correct += (y == pred).sum().item()\n",
    "\n",
    "    acc = correct/len(loader.dataset)\n",
    "    if printing:\n",
    "        print(phase+' accuracy :\\t', acc)\n",
    "    return acc\n",
    "\n",
    "class ContrastiveCorInfoMaxHopfield():\n",
    "\n",
    "    def __init__(self, architecture, lambda_, epsilon, activation = hard_sigmoid, device = None):\n",
    "\n",
    "        self.architecture = architecture\n",
    "        self.lambda_ = lambda_\n",
    "        self.gam_ = (1 - lambda_) / lambda_\n",
    "        self.epsilon = epsilon\n",
    "        self.one_over_epsilon = 1 / epsilon\n",
    "        self.activation = activation\n",
    "        if device is None:\n",
    "            self.device = torch.device('cuda:0' if torch.cuda.is_available() else 'cpu')\n",
    "        else:\n",
    "            self.device = device\n",
    "\n",
    "        # Feedforward Synapses Initialization\n",
    "        Wff = []\n",
    "        for idx in range(len(architecture)-1):\n",
    "            weight = torch.randn(architecture[idx + 1], architecture[idx], requires_grad = False).to(self.device)\n",
    "            torch.nn.init.xavier_uniform_(weight)\n",
    "\n",
    "            Wff.append({'weight': weight})\n",
    "        Wff = np.array(Wff)\n",
    "\n",
    "        # Feedback Synapses Initialization\n",
    "        Wfb = []\n",
    "        for idx in range(len(architecture)-1):\n",
    "            weight = torch.eye(architecture[idx], architecture[idx + 1], requires_grad = False).to(self.device)\n",
    "            torch.nn.init.xavier_uniform_(weight)\n",
    "\n",
    "            Wfb.append({'weight': weight})\n",
    "        Wfb = np.array(Wfb)\n",
    "\n",
    "        # Lateral Synapses Initialization\n",
    "        B = []\n",
    "        for idx in range(len(architecture)-1):\n",
    "            weight = torch.randn(architecture[idx + 1], architecture[idx + 1], requires_grad = False).to(self.device)\n",
    "            torch.nn.init.xavier_uniform_(weight)\n",
    "            weight = weight @ weight.T\n",
    "            # weight = 1.0*torch.eye(architecture[idx + 1] + 1, architecture[idx + 1] + 1, requires_grad = False).to(self.device)\n",
    "            B.append({'weight': weight})\n",
    "        B = np.array(B)\n",
    "\n",
    "        # Correlation Matrices (Only for debugging)\n",
    "        Rfree = []\n",
    "        for idx in range(len(architecture) - 1):\n",
    "            weight = 1.0*torch.eye(architecture[idx + 1], architecture[idx + 1], requires_grad = False).to(self.device)\n",
    "            Rfree.append({'weight': weight})\n",
    "\n",
    "        Rfree = np.array(Rfree)\n",
    "\n",
    "        # Correlation Matrices (Only for debugging)\n",
    "        Rnudged = []\n",
    "        for idx in range(len(architecture) - 1):\n",
    "            weight = 1.0*torch.eye(architecture[idx + 1], architecture[idx + 1], requires_grad = False).to(self.device)\n",
    "            Rnudged.append({'weight': weight})\n",
    "\n",
    "        Rnudged = np.array(Rnudged)\n",
    "\n",
    "        self.Wff = Wff\n",
    "        self.Wfb = Wfb\n",
    "        self.B = B\n",
    "        self.Rfree = Rfree\n",
    "        self.Rnudged = Rnudged\n",
    "\n",
    "        ############ Some Debugging Logs ##########################\n",
    "        self.forward_backward_angles = []\n",
    "        self.layerwise_forward_corinfo_list_free = []\n",
    "        self.layerwise_backward_corinfo_list_free = []\n",
    "        self.layerwise_forward_corinfo_list_nudged = []\n",
    "        self.layerwise_backward_corinfo_list_nudged = []\n",
    "\n",
    "        self.neural_dynamics_free_forward_info_list = []\n",
    "        self.neural_dynamics_free_backward_info_list = []\n",
    "        self.neural_dynamics_nudged_forward_info_list = []\n",
    "        self.neural_dynamics_nudged_backward_info_list = []\n",
    "\n",
    "    ###############################################################\n",
    "    ############### HELPER METHODS ################################\n",
    "    ###############################################################\n",
    "    def copy_neurons(self, neurons):\n",
    "        copy = []\n",
    "        for n in neurons:\n",
    "            copy.append(torch.empty_like(n).copy_(n.data))#.requires_grad_())\n",
    "        return copy\n",
    "\n",
    "    def init_neurons(self, mbs, random_initialize = False, device = 'cuda'):\n",
    "        # Initializing the neurons\n",
    "        if random_initialize:\n",
    "            neurons = []\n",
    "            append = neurons.append\n",
    "            for size in self.architecture[1:]:\n",
    "                append(torch.randn((mbs, size), requires_grad=False, device=device).T)\n",
    "        else:\n",
    "            neurons = []\n",
    "            append = neurons.append\n",
    "            for size in self.architecture[1:]:\n",
    "                append(torch.zeros((mbs, size), requires_grad=False, device=device).T)\n",
    "        return neurons\n",
    "\n",
    "    ###############################################################\n",
    "    ############### REQUIRED FUNCTIONS FOR DEBUGGING ##############\n",
    "    ###############################################################\n",
    "    def angle_between_two_matrices(self, A, B):\n",
    "        \"\"\"Computes the angle between two matrices A and B.\n",
    "\n",
    "        Args:\n",
    "            A (torch.Tensor): Pytorch tensor of size m times n\n",
    "            B (torch.Tensor): Pytorch tensor of size m times n\n",
    "\n",
    "        Returns:\n",
    "            angle: angle between the matrices A and B. The formula is given by the following:\n",
    "                (180/pi) * acos[ Tr(A @ B.T) / sqrt(Tr(A @ A.T) * Tr(B @ B.T))]\n",
    "        \"\"\"\n",
    "\n",
    "        angle = (180 / torch.pi) * torch.acos(torch.trace(A @ B.T) / torch.sqrt(torch.trace(A @ A.T) * torch.trace(B @ B.T)))\n",
    "        return angle\n",
    "\n",
    "    def layerwise_forward_and_backward_correlative_information(self, layers, phase = \"free\"):\n",
    "        Wff = self.Wff\n",
    "        Wfb = self.Wfb\n",
    "        if phase == \"free\":\n",
    "            R = self.Rfree\n",
    "        elif phase == \"nudged\":\n",
    "            R = self.Rnudged\n",
    "        epsilon = self.epsilon\n",
    "        one_over_epsilon = self.one_over_epsilon\n",
    "        device = self.device\n",
    "        architecture = self.architecture\n",
    "\n",
    "        # epsilon_tensor = torch.Tensor([epsilon]).to(device)\n",
    "        batch_size = layers[0].shape[1]\n",
    "        batch_size_sqrt_root = np.sqrt(batch_size)\n",
    "        log_epsilon = np.log(epsilon)\n",
    "\n",
    "        forward_info_list = []\n",
    "        backward_info_list = []\n",
    "\n",
    "        for jj in range(len(architecture) - 2):\n",
    "            Identity_Matrix = epsilon * torch.eye(*R[jj + 1]['weight'].shape).to(device)\n",
    "            forward_info_jj= (torch.logdet(R[jj + 1]['weight'] + Identity_Matrix) - (1 / batch_size) * (one_over_epsilon * torch.norm(layers[jj + 2] - Wff[jj + 1]['weight'] @ layers[jj + 1]) ** 2 - layers[jj + 2].shape[0] * log_epsilon)).item()\n",
    "\n",
    "            forward_info_list.append(forward_info_jj)\n",
    "\n",
    "        for jj in range(len(architecture) - 2):\n",
    "            Identity_Matrix = epsilon * torch.eye(*R[jj]['weight'].shape).to(device)\n",
    "            backward_info_jj = (torch.logdet(R[jj]['weight'] + Identity_Matrix) - (1 / batch_size) * (one_over_epsilon * torch.norm((layers[jj + 1]) - Wfb[jj + 1]['weight'] @ layers[jj + 2]) ** 2 - (layers[jj + 1].shape[0] + 1) * log_epsilon)).item()\n",
    "\n",
    "            backward_info_list.append(backward_info_jj)\n",
    "\n",
    "        return forward_info_list, backward_info_list\n",
    "\n",
    "    ###############################################################\n",
    "    ############### NEURAL DYNAMICS ALGORITHMS ####################\n",
    "    ###############################################################\n",
    "    def run_neural_dynamics_hopfield(self, x, y, neurons, hopfield_g, neural_lr_start, neural_lr_stop,\n",
    "                                     lr_rule = \"constant\", lr_decay_multiplier = 0.1,\n",
    "                                     neural_dynamic_iterations = 10, beta = 1, take_debug_logs = False):\n",
    "\n",
    "        # if take_debug_logs:\n",
    "        if beta != 0:\n",
    "            phase = \"free\"\n",
    "        else:\n",
    "            phase = \"nudged\"\n",
    "        forward_info = []\n",
    "        backward_info = []\n",
    "\n",
    "        Wff = self.Wff\n",
    "        Wfb = self.Wfb\n",
    "        B = self.B\n",
    "        gam_ = self.gam_\n",
    "        epsilon = self.epsilon\n",
    "        one_over_epsilon = self.one_over_epsilon\n",
    "\n",
    "        neurons_intermediate = self.copy_neurons(neurons)\n",
    "        layers = [x] + neurons  # concatenate the input to other layers\n",
    "        for iter_count in range(neural_dynamic_iterations):\n",
    "\n",
    "            if lr_rule == \"constant\":\n",
    "                neural_lr = neural_lr_start\n",
    "            elif lr_rule == \"divide_by_loop_index\":\n",
    "                neural_lr = max(neural_lr_start / (iter_count + 1), neural_lr_stop)\n",
    "            elif lr_rule == \"divide_by_slow_loop_index\":\n",
    "                neural_lr = max(neural_lr_start / (iter_count * lr_decay_multiplier + 1), neural_lr_stop)\n",
    "\n",
    "            with torch.no_grad():\n",
    "                for jj in range(len(neurons)):\n",
    "                    if jj == len(neurons) - 1:\n",
    "\n",
    "                        basal_voltage = Wff[jj]['weight'] @ layers[jj] #+ Wff[jj]['bias']\n",
    "                        apical_voltage = (gam_ * B[jj]['weight'] @ ( layers[jj + 1]) + hopfield_g * layers[jj + 1]) - beta * (layers[jj + 1] - y)\n",
    "                        gradient_neurons = -hopfield_g * neurons_intermediate[jj] + one_over_epsilon * (basal_voltage - neurons_intermediate[jj]) + (apical_voltage - neurons_intermediate[jj])\n",
    "                        neurons_intermediate[jj] = neurons_intermediate[jj] + neural_lr * gradient_neurons\n",
    "                        neurons[jj] = self.activation(neurons_intermediate[jj])\n",
    "\n",
    "                    else:\n",
    "\n",
    "                        basal_voltage = Wff[jj]['weight'] @ layers[jj] #+ Wff[jj]['bias']\n",
    "                        apical_voltage = epsilon * (2 * gam_ * B[jj]['weight'] @ (layers[jj + 1]) + hopfield_g * layers[jj + 1]) + (Wfb[jj + 1]['weight'] @ layers[jj + 2])\n",
    "                        gradient_neurons = - hopfield_g * neurons_intermediate[jj] + one_over_epsilon * (basal_voltage - neurons_intermediate[jj]) + one_over_epsilon * (apical_voltage - neurons_intermediate[jj])\n",
    "                        neurons_intermediate[jj] = neurons_intermediate[jj] + neural_lr * gradient_neurons\n",
    "                        neurons[jj] = self.activation(neurons_intermediate[jj])\n",
    "                    layers = [x] + neurons  # concatenate the input to other layers\n",
    "\n",
    "            if take_debug_logs:\n",
    "                info_measures = self.layerwise_forward_and_backward_correlative_information(layers, phase)\n",
    "                forward_info.append(np.sum(info_measures[0]))\n",
    "                backward_info.append(np.sum(info_measures[1]))\n",
    "\n",
    "        return neurons, forward_info, backward_info\n",
    "\n",
    "    ###############################################################\n",
    "    ############### BATCH STEP ALGORITHMS #########################\n",
    "    ###############################################################\n",
    "    def batch_step_hopfield(self, x, y, hopfield_g, lr, neural_lr_start, neural_lr_stop, neural_lr_rule = \"constant\",\n",
    "                            neural_lr_decay_multiplier = 0.1, neural_dynamic_iterations_free = 20,\n",
    "                            neural_dynamic_iterations_nudged = 10, beta = 1, use_three_phase = False,\n",
    "                            take_debug_logs = False, weight_decay = False):\n",
    "\n",
    "        Wff, Wfb, B = self.Wff, self.Wfb, self.B\n",
    "        lambda_ = self.lambda_\n",
    "        gam_ = self.gam_\n",
    "        epsilon = self.epsilon\n",
    "\n",
    "        Rfree = self.Rfree # For debugging to check the correlation matrices vs inverse correlation matrices\n",
    "        Rnudged = self.Rnudged # For debugging to check the correlation matrices vs inverse correlation matrices\n",
    "\n",
    "        # neurons = self.init_neurons(x.size(1), device = self.device)\n",
    "        neurons = self.init_neurons(x.size(1), device = self.device)\n",
    "\n",
    "        (neurons,\n",
    "         free_forward_info,\n",
    "         free_backward_info\n",
    "        ) = self.run_neural_dynamics_hopfield(x, y, neurons, hopfield_g, neural_lr_start, neural_lr_stop, neural_lr_rule,\n",
    "                                             neural_lr_decay_multiplier, neural_dynamic_iterations_free, 0, take_debug_logs)\n",
    "\n",
    "\n",
    "        neurons1 = neurons.copy()\n",
    "        layers_free_ = [x] + neurons1\n",
    "\n",
    "        for jj in range(len(B)):\n",
    "\n",
    "            Rfree[jj]['weight'] = lambda_ * Rfree[jj]['weight'] + (1 - lambda_) * torch.mean(outer_prod_broadcasting(neurons1[jj].T, neurons1[jj].T), axis = 0)\n",
    "\n",
    "        (neurons,\n",
    "         nudged_forward_info,\n",
    "         nudged_backward_info\n",
    "        ) = self.run_neural_dynamics_hopfield(x, y, neurons, hopfield_g, neural_lr_start, neural_lr_stop, neural_lr_rule,\n",
    "                                              neural_lr_decay_multiplier, neural_dynamic_iterations_nudged, beta, take_debug_logs)\n",
    "\n",
    "\n",
    "        neurons2 = neurons.copy()\n",
    "\n",
    "        if use_three_phase:\n",
    "            neurons, _, _ = self.run_neural_dynamics_hopfield(x, y, neurons, hopfield_g, neural_lr_start, neural_lr_stop, neural_lr_rule,\n",
    "                                                              neural_lr_decay_multiplier, neural_dynamic_iterations_nudged, -beta, take_debug_logs)\n",
    "\n",
    "            neurons3 = neurons.copy()\n",
    "\n",
    "            layers_free = [x] + neurons3\n",
    "        else:\n",
    "            layers_free = [x] + neurons1\n",
    "\n",
    "        layers_nudged = [x] + neurons2\n",
    "\n",
    "        ## Compute forward errors\n",
    "        forward_errors_free = [layers_free[jj + 1] - (Wff[jj]['weight'] @ layers_free[jj]) for jj in range(len(Wff))]\n",
    "        forward_errors_nudged = [layers_nudged[jj + 1] - (Wff[jj]['weight'] @ layers_nudged[jj]) for jj in range(len(Wff))]\n",
    "        ## Compute backward errors\n",
    "        backward_errors_free = [(layers_free[jj]) - (Wfb[jj]['weight'] @ layers_free[jj + 1]) for jj in range(1, len(Wfb))]\n",
    "        backward_errors_nudged = [(layers_nudged[jj]) - (Wfb[jj]['weight'] @ layers_nudged[jj + 1]) for jj in range(1, len(Wfb))]\n",
    "\n",
    "        ### Learning updates for feed-forward and backward weights\n",
    "        for jj in range(len(Wff)):\n",
    "            Wff[jj]['weight'] += -(1/(beta * (int(use_three_phase) + 1))) * lr['ff'][jj] * torch.mean(outer_prod_broadcasting(forward_errors_free[jj].T, layers_free[jj].T) - outer_prod_broadcasting(forward_errors_nudged[jj].T, layers_nudged[jj].T), axis = 0)\n",
    "            if weight_decay:\n",
    "                Wff[jj]['weight'] -= lr['ff'][jj] * epsilon * Wff[jj]['weight']\n",
    "\n",
    "        for jj in range(1, len(Wfb)):\n",
    "            Wfb[jj]['weight'] += -(1/(beta * (int(use_three_phase) + 1))) * lr['fb'][jj] * torch.mean(outer_prod_broadcasting(backward_errors_free[jj - 1].T, layers_free[jj + 1].T) - outer_prod_broadcasting(backward_errors_nudged[jj - 1].T, layers_nudged[jj + 1].T), axis = 0)\n",
    "            if weight_decay:\n",
    "                Wfb[jj]['weight'] -= lr['fb'][jj] * epsilon * Wfb[jj]['weight']\n",
    "        ### Lateral Weight Updates\n",
    "        for jj in range(len(B)):\n",
    "            z = B[jj]['weight'] @ (neurons2[jj])\n",
    "            B_update = torch.mean(outer_prod_broadcasting(z.T, z.T), axis = 0)\n",
    "            B[jj]['weight'] = (1 / lambda_) * (B[jj]['weight'] - gam_ * B_update)\n",
    "\n",
    "            Rnudged[jj]['weight'] = lambda_ * Rnudged[jj]['weight'] + (1 - lambda_) * torch.mean(outer_prod_broadcasting(neurons2[jj].T, neurons2[jj].T), axis = 0)\n",
    "\n",
    "        self.B = B\n",
    "        self.Wff = Wff\n",
    "        self.Wfb = Wfb\n",
    "        self.Rfree = Rfree\n",
    "        self.Rnudged = Rnudged\n",
    "\n",
    "        if take_debug_logs:\n",
    "            instant_forward_backward_angles = []\n",
    "            for jj in range(1, len(Wff)):\n",
    "                instant_forward_backward_angles.append(self.angle_between_two_matrices(self.Wff[jj]['weight'], self.Wfb[jj]['weight'].T).item())\n",
    "\n",
    "            self.forward_backward_angles.append(instant_forward_backward_angles)\n",
    "\n",
    "            (forward_info_list_free,\n",
    "             backward_info_list_free,\n",
    "            ) = self.layerwise_forward_and_backward_correlative_information(layers_free_, \"free\")\n",
    "\n",
    "            (forward_info_list_nudged,\n",
    "             backward_info_list_nudged,\n",
    "            ) = self.layerwise_forward_and_backward_correlative_information(layers_free_, \"nudged\")\n",
    "\n",
    "            self.layerwise_forward_corinfo_list_free.append(forward_info_list_free)\n",
    "            self.layerwise_backward_corinfo_list_free.append(backward_info_list_free)\n",
    "            self.layerwise_forward_corinfo_list_nudged.append(forward_info_list_nudged)\n",
    "            self.layerwise_backward_corinfo_list_nudged.append(backward_info_list_nudged)\n",
    "\n",
    "            self.neural_dynamics_free_forward_info_list.append(free_forward_info)\n",
    "            self.neural_dynamics_free_backward_info_list.append(free_backward_info)\n",
    "            self.neural_dynamics_nudged_forward_info_list.append(nudged_forward_info)\n",
    "            self.neural_dynamics_nudged_backward_info_list.append(nudged_backward_info)\n",
    "        return neurons\n",
    "\n",
    "    def save_model_weights(self, pickle_name = \"CorInfoWeights\"):\n",
    "        Wff_save = []\n",
    "        for idx in range(len(self.Wff)):\n",
    "            weight = torch2numpy(self.Wff[idx]['weight'])\n",
    "            Wff_save.append({'weight': weight})\n",
    "\n",
    "        Wfb_save = []\n",
    "        for idx in range(len(self.Wfb)):\n",
    "            weight = torch2numpy(self.Wfb[idx]['weight'])\n",
    "            Wfb_save.append({'weight': weight})\n",
    "\n",
    "        B_save = []\n",
    "        for idx in range(len(self.B)):\n",
    "            weight = torch2numpy(self.B[idx]['weight'])\n",
    "            B_save.append({'weight': weight})\n",
    "\n",
    "        model_params = pd.DataFrame(columns = ['Wff', 'Wfb', 'B'])\n",
    "\n",
    "        model_params['Wff'] = Wff_save\n",
    "        model_params['Wfb'] = Wfb_save\n",
    "        model_params['B'] = B_save\n",
    "\n",
    "        model_params.to_pickle(pickle_name + \".pkl\")\n",
    "\n",
    "    def load_model_weights(self, pickle_name):\n",
    "        model_params_load = pd.read_pickle(pickle_name + \".pkl\")\n",
    "        for idx in range(len(self.Wff)):\n",
    "            self.Wff[idx]['weight'] = torch.tensor(model_params_load['Wff'].iloc[idx]['weight'], requires_grad = False).to(self.device)\n",
    "\n",
    "        for idx in range(len(self.Wfb)):\n",
    "            self.Wfb[idx]['weight'] = torch.tensor(model_params_load['Wfb'].iloc[idx]['weight'], requires_grad = False).to(self.device)\n",
    "\n",
    "        for idx in range(len(self.B)):\n",
    "            self.B[idx]['weight'] = torch.tensor(model_params_load['B'].iloc[idx]['weight'], requires_grad = False).to(self.device)\n"
   ]
  },
  {
   "cell_type": "code",
   "execution_count": 3,
   "metadata": {
    "colab": {
     "base_uri": "https://localhost:8080/"
    },
    "id": "1_GCfdXnOjab",
    "outputId": "72bba4fc-d994-4ed0-af6b-b812944d8a03"
   },
   "outputs": [
    {
     "name": "stdout",
     "output_type": "stream",
     "text": [
      "The results will be saved in simulation_results_CorInfoMax_CIFAR10_2126796.pkl\n",
      "Using device cuda\n"
     ]
    }
   ],
   "source": [
    "dataset_to_be_used = \"CIFAR10\" # Options: \"MNIST\", \"FashionMNIST\", \"CIFAR10\". We might add more later\n",
    "\n",
    "# Generate a unique name for the pickle to be saved for the simulation results\n",
    "pickle_name_for_results = \"simulation_results_CorInfoMax_\"+dataset_to_be_used+\"_\"+str(np.random.randint(5000000))+\".pkl\"\n",
    "print(\"The results will be saved in\", pickle_name_for_results)\n",
    "\n",
    "device = torch.device('cuda' if torch.cuda.is_available() else 'cpu')\n",
    "print(\"Using device\", device)"
   ]
  },
  {
   "cell_type": "markdown",
   "metadata": {
    "id": "zanNgI_fRry4"
   },
   "source": [
    "# Load Dataset"
   ]
  },
  {
   "cell_type": "code",
   "execution_count": 4,
   "metadata": {
    "colab": {
     "base_uri": "https://localhost:8080/"
    },
    "id": "gBGSStniP3Sw",
    "outputId": "3ea733f8-07d4-4e9c-c0ec-b707f649dead"
   },
   "outputs": [
    {
     "name": "stdout",
     "output_type": "stream",
     "text": [
      "Files already downloaded and verified\n",
      "Files already downloaded and verified\n"
     ]
    }
   ],
   "source": [
    "if dataset_to_be_used == \"MNIST\":\n",
    "    transform = torchvision.transforms.Compose([torchvision.transforms.ToTensor(),\n",
    "                                                torchvision.transforms.Normalize(mean=(0.0,), std=(1.0,))])\n",
    "\n",
    "    mnist_dset_train = torchvision.datasets.MNIST('data', train=True, transform=transform, target_transform=None, download=True)\n",
    "    train_loader = torch.utils.data.DataLoader(mnist_dset_train, batch_size=20, shuffle=True, num_workers=0)\n",
    "\n",
    "    mnist_dset_test = torchvision.datasets.MNIST('data', train=False, transform=transform, target_transform=None, download=True)\n",
    "    test_loader = torch.utils.data.DataLoader(mnist_dset_test, batch_size=20, shuffle=False, num_workers=0)\n",
    "\n",
    "elif dataset_to_be_used == \"FashionMNIST\":\n",
    "    transform = torchvision.transforms.Compose([torchvision.transforms.ToTensor(),\n",
    "                                                torchvision.transforms.Normalize(mean=(0.0,), std=(1.0,))])\n",
    "\n",
    "    mnist_dset_train = torchvision.datasets.FashionMNIST('data', train=True, transform=transform, target_transform=None, download=True)\n",
    "    train_loader = torch.utils.data.DataLoader(mnist_dset_train, batch_size=20, shuffle=True, num_workers=0)\n",
    "\n",
    "    mnist_dset_test = torchvision.datasets.FashionMNIST('data', train=False, transform=transform, target_transform=None, download=True)\n",
    "    test_loader = torch.utils.data.DataLoader(mnist_dset_test, batch_size=20, shuffle=False, num_workers=0)\n",
    "elif dataset_to_be_used == \"CIFAR10\":\n",
    "    transform = torchvision.transforms.Compose([torchvision.transforms.ToTensor(),\n",
    "                                                torchvision.transforms.Normalize(mean=(0.4914, 0.4822, 0.4465),\n",
    "                                                std=(3*0.2023, 3*0.1994, 3*0.2010))])\n",
    "\n",
    "    cifar_dset_train = torchvision.datasets.CIFAR10('data', train=True, transform=transform, target_transform=None, download=True)\n",
    "    train_loader = torch.utils.data.DataLoader(cifar_dset_train, batch_size=20, shuffle=True, num_workers=0)\n",
    "\n",
    "    cifar_dset_test = torchvision.datasets.CIFAR10('data', train=False, transform=transform, target_transform=None, download=True)\n",
    "    test_loader = torch.utils.data.DataLoader(cifar_dset_test, batch_size=20, shuffle=False, num_workers=0)\n",
    "\n",
    "else:\n",
    "    print(\"No such dataset is available for now!!\")"
   ]
  },
  {
   "cell_type": "markdown",
   "metadata": {
    "id": "WAX-oOJGSUA5"
   },
   "source": [
    "# Below Commented Dictionaries Includes Some Hyperparameter Selections for Each Dataset. Do not Change This Commented Part. Instead, a copy exists below to be used in the simulation. You can experiment with them."
   ]
  },
  {
   "cell_type": "code",
   "execution_count": 5,
   "metadata": {
    "id": "BxHk0QgqQKzs"
   },
   "outputs": [],
   "source": [
    "# mnist_hyper_param_dict = {\n",
    "#     \"activation\": hard_sigmoid,\n",
    "#     \"architecture\" : [784, 500, 10],\n",
    "#     \"beta\" : 1,\n",
    "#     \"lambda_\" : 0.99995,\n",
    "#     \"epsilon\" : 0.15,\n",
    "#     \"lr_start\" : {'ff' : np.array([0.3, 0.15]), 'fb': np.array([0.15, 0.1])},\n",
    "#     \"lr_decay_multiplier\" : 0.95,\n",
    "#     \"neural_lr_start\" : 0.1,\n",
    "#     \"neural_lr_stop\" : 0.001,\n",
    "#     \"neural_lr_rule\" : \"constant\",\n",
    "#     \"neural_lr_decay_multiplier\" : 0.01,\n",
    "#     \"neural_dynamic_iterations_free\" : 30,\n",
    "#     \"neural_dynamic_iterations_nudged\" : 10,\n",
    "#     \"hopfield_g\" : 0.1,\n",
    "#     \"use_random_sign_beta\" : True,\n",
    "#     \"use_three_phase\" : False\n",
    "# }\n",
    "\n",
    "# fashionmnist_hyper_param_dict = {\n",
    "#     \"activation\": hard_sigmoid,\n",
    "#     \"architecture\" : [784, 500, 10],\n",
    "#     \"beta\" : 1,\n",
    "#     \"lambda_\" : 0.99995,\n",
    "#     \"epsilon\" : 0.15,\n",
    "#     \"lr_start\" : {'ff' : np.array([0.2, 0.15]), 'fb': np.array([0.15, 0.1])},\n",
    "#     \"lr_decay_multiplier\" : 0.95,\n",
    "#     \"neural_lr_start\" : 0.1,\n",
    "#     \"neural_lr_stop\" : 0.001,\n",
    "#     \"neural_lr_rule\" : \"constant\",\n",
    "#     \"neural_lr_decay_multiplier\" : 0.01,\n",
    "#     \"neural_dynamic_iterations_free\" : 30,\n",
    "#     \"neural_dynamic_iterations_nudged\" : 10,\n",
    "#     \"hopfield_g\" : 0.1,\n",
    "#     \"use_random_sign_beta\" : True,\n",
    "#     \"use_three_phase\" : False\n",
    "# }\n",
    "\n",
    "# cifar_hyper_param_dict = {\n",
    "#     \"activation\": hard_sigmoid,\n",
    "#     \"architecture\" : [int(32*32*3), 500, 10],\n",
    "#     \"beta\" : 1,\n",
    "#     \"lambda_\" : 0.99995,\n",
    "#     \"epsilon\" : 0.15,\n",
    "#     \"lr_start\" : {'ff' : np.array([0.07, 0.03]), 'fb': np.array([np.nan, 0.02])},\n",
    "#     \"lr_decay_multiplier\" : 0.95,\n",
    "#     \"neural_lr_start\" : 0.1,\n",
    "#     \"neural_lr_stop\" : 0.001,\n",
    "#     \"neural_lr_rule\" : \"constant\",\n",
    "#     \"neural_lr_decay_multiplier\" : 0.01,\n",
    "#     \"neural_dynamic_iterations_free\" : 30,\n",
    "#     \"neural_dynamic_iterations_nudged\" : 10,\n",
    "#     \"hopfield_g\" : 0.1,\n",
    "#     \"use_random_sign_beta\" : True,\n",
    "#     \"use_three_phase\" : False\n",
    "# }"
   ]
  },
  {
   "cell_type": "markdown",
   "metadata": {
    "id": "gEHGuJLfUeFx"
   },
   "source": [
    "# Hyper - Parameter Selection"
   ]
  },
  {
   "cell_type": "code",
   "execution_count": 6,
   "metadata": {
    "id": "tSQcbD0SUHmL"
   },
   "outputs": [],
   "source": [
    "mnist_hyper_param_dict = {\n",
    "    \"activation\": hard_sigmoid,\n",
    "    \"architecture\" : [784, 500, 10],\n",
    "    \"beta\" : 1,\n",
    "    \"lambda_\" : 0.99995,\n",
    "    \"epsilon\" : 0.15,\n",
    "    \"lr_start\" : {'ff' : np.array([0.3, 0.15]), 'fb': np.array([0.15, 0.1])},\n",
    "    \"lr_decay_multiplier\" : 0.95,\n",
    "    \"neural_lr_start\" : 0.1,\n",
    "    \"neural_lr_stop\" : 0.001,\n",
    "    \"neural_lr_rule\" : \"constant\",\n",
    "    \"neural_lr_decay_multiplier\" : 0.01,\n",
    "    \"neural_dynamic_iterations_free\" : 30,\n",
    "    \"neural_dynamic_iterations_nudged\" : 10,\n",
    "    \"hopfield_g\" : 0.1,\n",
    "    \"use_random_sign_beta\" : True,\n",
    "    \"use_three_phase\" : False\n",
    "}\n",
    "\n",
    "fashionmnist_hyper_param_dict = {\n",
    "    \"activation\": hard_sigmoid,\n",
    "    \"architecture\" : [784, 500, 10],\n",
    "    \"beta\" : 1,\n",
    "    \"lambda_\" : 0.99995,\n",
    "    \"epsilon\" : 0.15,\n",
    "    \"lr_start\" : {'ff' : np.array([0.2, 0.15]), 'fb': np.array([0.15, 0.1])},\n",
    "    \"lr_decay_multiplier\" : 0.95,\n",
    "    \"neural_lr_start\" : 0.1,\n",
    "    \"neural_lr_stop\" : 0.001,\n",
    "    \"neural_lr_rule\" : \"constant\",\n",
    "    \"neural_lr_decay_multiplier\" : 0.01,\n",
    "    \"neural_dynamic_iterations_free\" : 30,\n",
    "    \"neural_dynamic_iterations_nudged\" : 10,\n",
    "    \"hopfield_g\" : 0.1,\n",
    "    \"use_random_sign_beta\" : True,\n",
    "    \"use_three_phase\" : False\n",
    "}\n",
    "\n",
    "# cifar_hyper_param_dict = {\n",
    "#     \"activation\": hard_sigmoid,\n",
    "#     \"architecture\" : [int(32*32*3), 1000, 1000, 500, 10],\n",
    "#     \"beta\" : 0.5,\n",
    "#     \"lambda_\" : 0.99999,\n",
    "#     \"epsilon\" : 0.15,\n",
    "#     \"lr_start\" : {'ff' : np.array([0.25 , 0.14 , 0.075, 0.045]), 'fb': np.array([  np.nan, 0.095, 0.075, 0.04 ])},\n",
    "#     \"lr_decay_multiplier\" : 0.95,\n",
    "#     \"neural_lr_start\" : 0.03,\n",
    "#     \"neural_lr_stop\" : 0.001,\n",
    "#     \"neural_lr_rule\" : \"constant\",\n",
    "#     \"neural_lr_decay_multiplier\" : 0.01,\n",
    "#     \"neural_dynamic_iterations_free\" : 80,\n",
    "#     \"neural_dynamic_iterations_nudged\" : 15,\n",
    "#     \"hopfield_g\" : 0.1,\n",
    "#     \"use_random_sign_beta\" : True,\n",
    "#     \"use_three_phase\" : False\n",
    "# }\n",
    "\n",
    "cifar_hyper_param_dict = {\n",
    "    \"activation\": hard_sigmoid,\n",
    "    \"architecture\" : [int(32*32*3), 1000, 10],\n",
    "    \"beta\" : 1,\n",
    "    \"lambda_\" : 0.99995,\n",
    "    \"epsilon\" : 0.15,\n",
    "    \"lr_start\" : {'ff' : np.array([0.07, 0.03]), 'fb': np.array([np.nan, 0.02])},\n",
    "    \"lr_decay_multiplier\" : 0.95,\n",
    "    \"neural_lr_start\" : 0.1,\n",
    "    \"neural_lr_stop\" : 0.001,\n",
    "    \"neural_lr_rule\" : \"constant\",\n",
    "    \"neural_lr_decay_multiplier\" : 0.01,\n",
    "    \"neural_dynamic_iterations_free\" : 30,\n",
    "    \"neural_dynamic_iterations_nudged\" : 10,\n",
    "    \"hopfield_g\" : 0.1,\n",
    "    \"use_random_sign_beta\" : True,\n",
    "    \"use_three_phase\" : False\n",
    "}"
   ]
  },
  {
   "cell_type": "code",
   "execution_count": 7,
   "metadata": {
    "id": "rzXFQ12NUiNl"
   },
   "outputs": [],
   "source": [
    "if dataset_to_be_used == \"MNIST\":\n",
    "    activation = mnist_hyper_param_dict[\"activation\"]\n",
    "    architecture = mnist_hyper_param_dict[\"architecture\"]\n",
    "    beta = mnist_hyper_param_dict[\"beta\"]\n",
    "    lambda_ = mnist_hyper_param_dict[\"lambda_\"]\n",
    "    epsilon = mnist_hyper_param_dict[\"epsilon\"]\n",
    "    lr_start = mnist_hyper_param_dict[\"lr_start\"]\n",
    "    lr_decay_multiplier = mnist_hyper_param_dict[\"lr_decay_multiplier\"]\n",
    "    neural_lr_start = mnist_hyper_param_dict[\"neural_lr_start\"]\n",
    "    neural_lr_stop = mnist_hyper_param_dict[\"neural_lr_stop\"]\n",
    "    neural_lr_rule = mnist_hyper_param_dict[\"neural_lr_rule\"]\n",
    "    neural_lr_decay_multiplier = mnist_hyper_param_dict[\"neural_lr_decay_multiplier\"]\n",
    "    neural_dynamic_iterations_free = mnist_hyper_param_dict[\"neural_dynamic_iterations_free\"]\n",
    "    neural_dynamic_iterations_nudged = mnist_hyper_param_dict[\"neural_dynamic_iterations_nudged\"]\n",
    "    hopfield_g = mnist_hyper_param_dict[\"hopfield_g\"]\n",
    "    use_random_sign_beta = mnist_hyper_param_dict[\"use_random_sign_beta\"]\n",
    "    use_three_phase = mnist_hyper_param_dict[\"use_three_phase\"]\n",
    "\n",
    "elif dataset_to_be_used == \"FashionMNIST\":\n",
    "    activation = fashionmnist_hyper_param_dict[\"activation\"]\n",
    "    architecture = fashionmnist_hyper_param_dict[\"architecture\"]\n",
    "    beta = fashionmnist_hyper_param_dict[\"beta\"]\n",
    "    lambda_ = fashionmnist_hyper_param_dict[\"lambda_\"]\n",
    "    epsilon = fashionmnist_hyper_param_dict[\"epsilon\"]\n",
    "    lr_start = fashionmnist_hyper_param_dict[\"lr_start\"]\n",
    "    lr_decay_multiplier = fashionmnist_hyper_param_dict[\"lr_decay_multiplier\"]\n",
    "    neural_lr_start = fashionmnist_hyper_param_dict[\"neural_lr_start\"]\n",
    "    neural_lr_stop = fashionmnist_hyper_param_dict[\"neural_lr_stop\"]\n",
    "    neural_lr_rule = fashionmnist_hyper_param_dict[\"neural_lr_rule\"]\n",
    "    neural_lr_decay_multiplier = fashionmnist_hyper_param_dict[\"neural_lr_decay_multiplier\"]\n",
    "    neural_dynamic_iterations_free = fashionmnist_hyper_param_dict[\"neural_dynamic_iterations_free\"]\n",
    "    neural_dynamic_iterations_nudged = fashionmnist_hyper_param_dict[\"neural_dynamic_iterations_nudged\"]\n",
    "    hopfield_g = fashionmnist_hyper_param_dict[\"hopfield_g\"]\n",
    "    use_random_sign_beta = fashionmnist_hyper_param_dict[\"use_random_sign_beta\"]\n",
    "    use_three_phase = fashionmnist_hyper_param_dict[\"use_three_phase\"]\n",
    "\n",
    "elif dataset_to_be_used == \"CIFAR10\":\n",
    "    activation = cifar_hyper_param_dict[\"activation\"]\n",
    "    architecture = cifar_hyper_param_dict[\"architecture\"]\n",
    "    beta = cifar_hyper_param_dict[\"beta\"]\n",
    "    lambda_ = cifar_hyper_param_dict[\"lambda_\"]\n",
    "    epsilon = cifar_hyper_param_dict[\"epsilon\"]\n",
    "    lr_start = cifar_hyper_param_dict[\"lr_start\"]\n",
    "    lr_decay_multiplier = cifar_hyper_param_dict[\"lr_decay_multiplier\"]\n",
    "    neural_lr_start = cifar_hyper_param_dict[\"neural_lr_start\"]\n",
    "    neural_lr_stop = cifar_hyper_param_dict[\"neural_lr_stop\"]\n",
    "    neural_lr_rule = cifar_hyper_param_dict[\"neural_lr_rule\"]\n",
    "    neural_lr_decay_multiplier = cifar_hyper_param_dict[\"neural_lr_decay_multiplier\"]\n",
    "    neural_dynamic_iterations_free = cifar_hyper_param_dict[\"neural_dynamic_iterations_free\"]\n",
    "    neural_dynamic_iterations_nudged = cifar_hyper_param_dict[\"neural_dynamic_iterations_nudged\"]\n",
    "    hopfield_g = cifar_hyper_param_dict[\"hopfield_g\"]\n",
    "    use_random_sign_beta = cifar_hyper_param_dict[\"use_random_sign_beta\"]\n",
    "    use_three_phase = cifar_hyper_param_dict[\"use_three_phase\"]"
   ]
  },
  {
   "cell_type": "code",
   "execution_count": 8,
   "metadata": {},
   "outputs": [],
   "source": [
    "hidden_size = architecture[1]"
   ]
  },
  {
   "cell_type": "code",
   "execution_count": 9,
   "metadata": {
    "id": "eq91UqBbWD4l"
   },
   "outputs": [],
   "source": [
    "n_epochs = 50\n",
    "seed_list = [10*j for j in range(5)]"
   ]
  },
  {
   "cell_type": "code",
   "execution_count": null,
   "metadata": {
    "colab": {
     "background_save": true,
     "base_uri": "https://localhost:8080/"
    },
    "id": "4-Iu8uYlViR0",
    "outputId": "16ee172a-754b-4cf3-e6cd-0f82b0754f31",
    "scrolled": true
   },
   "outputs": [
    {
     "name": "stdout",
     "output_type": "stream",
     "text": [
      "Forward Eigenvalue ratio:  0.912\n"
     ]
    },
    {
     "name": "stderr",
     "output_type": "stream",
     "text": [
      "\r",
      "0it [00:00, ?it/s]"
     ]
    },
    {
     "name": "stdout",
     "output_type": "stream",
     "text": [
      "Backward Eigenvalue ratio:  0.982\n"
     ]
    },
    {
     "name": "stderr",
     "output_type": "stream",
     "text": [
      "2500it [01:03, 39.16it/s]\n"
     ]
    },
    {
     "name": "stdout",
     "output_type": "stream",
     "text": [
      "Forward Eigenvalue ratio:  0.907\n"
     ]
    },
    {
     "name": "stderr",
     "output_type": "stream",
     "text": [
      "\r",
      "0it [00:00, ?it/s]"
     ]
    },
    {
     "name": "stdout",
     "output_type": "stream",
     "text": [
      "Backward Eigenvalue ratio:  0.975\n",
      "Epoch : 1, Train Accuracy : 0.33918, Test Accuracy : 0.3366\n"
     ]
    },
    {
     "name": "stderr",
     "output_type": "stream",
     "text": [
      "2500it [01:03, 39.07it/s]\n"
     ]
    },
    {
     "name": "stdout",
     "output_type": "stream",
     "text": [
      "Forward Eigenvalue ratio:  0.905\n"
     ]
    },
    {
     "name": "stderr",
     "output_type": "stream",
     "text": [
      "\r",
      "0it [00:00, ?it/s]"
     ]
    },
    {
     "name": "stdout",
     "output_type": "stream",
     "text": [
      "Backward Eigenvalue ratio:  0.972\n",
      "Epoch : 2, Train Accuracy : 0.39864, Test Accuracy : 0.3894\n"
     ]
    },
    {
     "name": "stderr",
     "output_type": "stream",
     "text": [
      "2500it [01:04, 39.04it/s]\n"
     ]
    },
    {
     "name": "stdout",
     "output_type": "stream",
     "text": [
      "Forward Eigenvalue ratio:  0.904\n"
     ]
    },
    {
     "name": "stderr",
     "output_type": "stream",
     "text": [
      "\r",
      "0it [00:00, ?it/s]"
     ]
    },
    {
     "name": "stdout",
     "output_type": "stream",
     "text": [
      "Backward Eigenvalue ratio:  0.969\n",
      "Epoch : 3, Train Accuracy : 0.43236, Test Accuracy : 0.4172\n"
     ]
    },
    {
     "name": "stderr",
     "output_type": "stream",
     "text": [
      "2500it [01:04, 39.02it/s]\n"
     ]
    },
    {
     "name": "stdout",
     "output_type": "stream",
     "text": [
      "Forward Eigenvalue ratio:  0.901\n"
     ]
    },
    {
     "name": "stderr",
     "output_type": "stream",
     "text": [
      "\r",
      "0it [00:00, ?it/s]"
     ]
    },
    {
     "name": "stdout",
     "output_type": "stream",
     "text": [
      "Backward Eigenvalue ratio:  0.968\n",
      "Epoch : 4, Train Accuracy : 0.45464, Test Accuracy : 0.4351\n"
     ]
    },
    {
     "name": "stderr",
     "output_type": "stream",
     "text": [
      "2500it [01:03, 39.15it/s]\n"
     ]
    },
    {
     "name": "stdout",
     "output_type": "stream",
     "text": [
      "Forward Eigenvalue ratio:  0.899\n"
     ]
    },
    {
     "name": "stderr",
     "output_type": "stream",
     "text": [
      "\r",
      "0it [00:00, ?it/s]"
     ]
    },
    {
     "name": "stdout",
     "output_type": "stream",
     "text": [
      "Backward Eigenvalue ratio:  0.967\n",
      "Epoch : 5, Train Accuracy : 0.47474, Test Accuracy : 0.4464\n"
     ]
    },
    {
     "name": "stderr",
     "output_type": "stream",
     "text": [
      "2500it [01:03, 39.18it/s]\n"
     ]
    },
    {
     "name": "stdout",
     "output_type": "stream",
     "text": [
      "Forward Eigenvalue ratio:  0.898\n"
     ]
    },
    {
     "name": "stderr",
     "output_type": "stream",
     "text": [
      "\r",
      "0it [00:00, ?it/s]"
     ]
    },
    {
     "name": "stdout",
     "output_type": "stream",
     "text": [
      "Backward Eigenvalue ratio:  0.966\n",
      "Epoch : 6, Train Accuracy : 0.48802, Test Accuracy : 0.4563\n"
     ]
    },
    {
     "name": "stderr",
     "output_type": "stream",
     "text": [
      "2500it [01:03, 39.16it/s]\n"
     ]
    },
    {
     "name": "stdout",
     "output_type": "stream",
     "text": [
      "Forward Eigenvalue ratio:  0.897\n"
     ]
    },
    {
     "name": "stderr",
     "output_type": "stream",
     "text": [
      "\r",
      "0it [00:00, ?it/s]"
     ]
    },
    {
     "name": "stdout",
     "output_type": "stream",
     "text": [
      "Backward Eigenvalue ratio:  0.964\n",
      "Epoch : 7, Train Accuracy : 0.50196, Test Accuracy : 0.4649\n"
     ]
    },
    {
     "name": "stderr",
     "output_type": "stream",
     "text": [
      "2500it [01:03, 39.15it/s]\n"
     ]
    },
    {
     "name": "stdout",
     "output_type": "stream",
     "text": [
      "Forward Eigenvalue ratio:  0.896\n"
     ]
    },
    {
     "name": "stderr",
     "output_type": "stream",
     "text": [
      "\r",
      "0it [00:00, ?it/s]"
     ]
    },
    {
     "name": "stdout",
     "output_type": "stream",
     "text": [
      "Backward Eigenvalue ratio:  0.964\n",
      "Epoch : 8, Train Accuracy : 0.51478, Test Accuracy : 0.4755\n"
     ]
    },
    {
     "name": "stderr",
     "output_type": "stream",
     "text": [
      "2500it [01:03, 39.17it/s]\n"
     ]
    },
    {
     "name": "stdout",
     "output_type": "stream",
     "text": [
      "Forward Eigenvalue ratio:  0.895\n"
     ]
    },
    {
     "name": "stderr",
     "output_type": "stream",
     "text": [
      "\r",
      "0it [00:00, ?it/s]"
     ]
    },
    {
     "name": "stdout",
     "output_type": "stream",
     "text": [
      "Backward Eigenvalue ratio:  0.963\n",
      "Epoch : 9, Train Accuracy : 0.52782, Test Accuracy : 0.48\n"
     ]
    },
    {
     "name": "stderr",
     "output_type": "stream",
     "text": [
      "2500it [01:03, 39.11it/s]\n"
     ]
    },
    {
     "name": "stdout",
     "output_type": "stream",
     "text": [
      "Forward Eigenvalue ratio:  0.892\n"
     ]
    },
    {
     "name": "stderr",
     "output_type": "stream",
     "text": [
      "\r",
      "0it [00:00, ?it/s]"
     ]
    },
    {
     "name": "stdout",
     "output_type": "stream",
     "text": [
      "Backward Eigenvalue ratio:  0.962\n",
      "Epoch : 10, Train Accuracy : 0.53692, Test Accuracy : 0.4868\n"
     ]
    },
    {
     "name": "stderr",
     "output_type": "stream",
     "text": [
      "2500it [01:03, 39.16it/s]\n"
     ]
    },
    {
     "name": "stdout",
     "output_type": "stream",
     "text": [
      "Forward Eigenvalue ratio:  0.892\n"
     ]
    },
    {
     "name": "stderr",
     "output_type": "stream",
     "text": [
      "\r",
      "0it [00:00, ?it/s]"
     ]
    },
    {
     "name": "stdout",
     "output_type": "stream",
     "text": [
      "Backward Eigenvalue ratio:  0.961\n",
      "Epoch : 11, Train Accuracy : 0.54596, Test Accuracy : 0.487\n"
     ]
    },
    {
     "name": "stderr",
     "output_type": "stream",
     "text": [
      "2500it [01:03, 39.17it/s]\n"
     ]
    },
    {
     "name": "stdout",
     "output_type": "stream",
     "text": [
      "Forward Eigenvalue ratio:  0.891\n"
     ]
    },
    {
     "name": "stderr",
     "output_type": "stream",
     "text": [
      "\r",
      "0it [00:00, ?it/s]"
     ]
    },
    {
     "name": "stdout",
     "output_type": "stream",
     "text": [
      "Backward Eigenvalue ratio:  0.961\n",
      "Epoch : 12, Train Accuracy : 0.55666, Test Accuracy : 0.496\n"
     ]
    },
    {
     "name": "stderr",
     "output_type": "stream",
     "text": [
      "2500it [01:03, 39.07it/s]\n"
     ]
    },
    {
     "name": "stdout",
     "output_type": "stream",
     "text": [
      "Forward Eigenvalue ratio:  0.891\n"
     ]
    },
    {
     "name": "stderr",
     "output_type": "stream",
     "text": [
      "\r",
      "0it [00:00, ?it/s]"
     ]
    },
    {
     "name": "stdout",
     "output_type": "stream",
     "text": [
      "Backward Eigenvalue ratio:  0.96\n",
      "Epoch : 13, Train Accuracy : 0.56572, Test Accuracy : 0.4947\n"
     ]
    },
    {
     "name": "stderr",
     "output_type": "stream",
     "text": [
      "2500it [01:03, 39.13it/s]\n"
     ]
    },
    {
     "name": "stdout",
     "output_type": "stream",
     "text": [
      "Forward Eigenvalue ratio:  0.89\n"
     ]
    },
    {
     "name": "stderr",
     "output_type": "stream",
     "text": [
      "\r",
      "0it [00:00, ?it/s]"
     ]
    },
    {
     "name": "stdout",
     "output_type": "stream",
     "text": [
      "Backward Eigenvalue ratio:  0.959\n",
      "Epoch : 14, Train Accuracy : 0.5746, Test Accuracy : 0.502\n"
     ]
    },
    {
     "name": "stderr",
     "output_type": "stream",
     "text": [
      "2350it [01:00, 38.99it/s]\n",
      "ERROR:root:Internal Python error in the inspect module.\n",
      "Below is the traceback from this internal error.\n",
      "\n",
      "ERROR:root:Internal Python error in the inspect module.\n",
      "Below is the traceback from this internal error.\n",
      "\n"
     ]
    },
    {
     "name": "stdout",
     "output_type": "stream",
     "text": [
      "Traceback (most recent call last):\n",
      "  File \"/kuacc/users/bbozkurt15/.conda/envs/bbozkurt15/lib/python3.8/site-packages/IPython/core/interactiveshell.py\", line 3444, in run_code\n",
      "    exec(code_obj, self.user_global_ns, self.user_ns)\n",
      "  File \"/tmp/ipykernel_186078/183860386.py\", line 61, in <module>\n",
      "    neurons = model.batch_step_hopfield( x, y_one_hot, hopfield_g,\n",
      "  File \"/tmp/ipykernel_186078/356138567.py\", line 272, in batch_step_hopfield\n",
      "    ) = self.run_neural_dynamics_hopfield(x, y, neurons, hopfield_g, neural_lr_start, neural_lr_stop, neural_lr_rule,\n",
      "  File \"/tmp/ipykernel_186078/356138567.py\", line 231, in run_neural_dynamics_hopfield\n",
      "    neurons_intermediate[jj] = neurons_intermediate[jj] + neural_lr * gradient_neurons\n",
      "KeyboardInterrupt\n",
      "\n",
      "During handling of the above exception, another exception occurred:\n",
      "\n",
      "Traceback (most recent call last):\n",
      "  File \"/kuacc/users/bbozkurt15/.conda/envs/bbozkurt15/lib/python3.8/site-packages/IPython/core/interactiveshell.py\", line 2064, in showtraceback\n",
      "    stb = value._render_traceback_()\n",
      "AttributeError: 'KeyboardInterrupt' object has no attribute '_render_traceback_'\n",
      "\n",
      "During handling of the above exception, another exception occurred:\n",
      "\n",
      "Traceback (most recent call last):\n",
      "  File \"/kuacc/users/bbozkurt15/.conda/envs/bbozkurt15/lib/python3.8/site-packages/IPython/core/ultratb.py\", line 1101, in get_records\n",
      "    return _fixed_getinnerframes(etb, number_of_lines_of_context, tb_offset)\n",
      "  File \"/kuacc/users/bbozkurt15/.conda/envs/bbozkurt15/lib/python3.8/site-packages/IPython/core/ultratb.py\", line 248, in wrapped\n",
      "    return f(*args, **kwargs)\n",
      "  File \"/kuacc/users/bbozkurt15/.conda/envs/bbozkurt15/lib/python3.8/site-packages/IPython/core/ultratb.py\", line 281, in _fixed_getinnerframes\n",
      "    records = fix_frame_records_filenames(inspect.getinnerframes(etb, context))\n",
      "  File \"/kuacc/users/bbozkurt15/.conda/envs/bbozkurt15/lib/python3.8/inspect.py\", line 1515, in getinnerframes\n",
      "    frameinfo = (tb.tb_frame,) + getframeinfo(tb, context)\n",
      "  File \"/kuacc/users/bbozkurt15/.conda/envs/bbozkurt15/lib/python3.8/inspect.py\", line 1473, in getframeinfo\n",
      "    filename = getsourcefile(frame) or getfile(frame)\n",
      "  File \"/kuacc/users/bbozkurt15/.conda/envs/bbozkurt15/lib/python3.8/inspect.py\", line 708, in getsourcefile\n",
      "    if getattr(getmodule(object, filename), '__loader__', None) is not None:\n",
      "  File \"/kuacc/users/bbozkurt15/.conda/envs/bbozkurt15/lib/python3.8/inspect.py\", line 754, in getmodule\n",
      "    os.path.realpath(f)] = module.__name__\n",
      "  File \"/kuacc/users/bbozkurt15/.conda/envs/bbozkurt15/lib/python3.8/posixpath.py\", line 391, in realpath\n",
      "    path, ok = _joinrealpath(filename[:0], filename, {})\n",
      "  File \"/kuacc/users/bbozkurt15/.conda/envs/bbozkurt15/lib/python3.8/posixpath.py\", line 425, in _joinrealpath\n",
      "    if not islink(newpath):\n",
      "  File \"/kuacc/users/bbozkurt15/.conda/envs/bbozkurt15/lib/python3.8/posixpath.py\", line 167, in islink\n",
      "    st = os.lstat(path)\n",
      "KeyboardInterrupt\n",
      "Traceback (most recent call last):\n",
      "  File \"/kuacc/users/bbozkurt15/.conda/envs/bbozkurt15/lib/python3.8/site-packages/IPython/core/interactiveshell.py\", line 3444, in run_code\n",
      "    exec(code_obj, self.user_global_ns, self.user_ns)\n",
      "  File \"/tmp/ipykernel_186078/183860386.py\", line 61, in <module>\n",
      "    neurons = model.batch_step_hopfield( x, y_one_hot, hopfield_g,\n",
      "  File \"/tmp/ipykernel_186078/356138567.py\", line 272, in batch_step_hopfield\n",
      "    ) = self.run_neural_dynamics_hopfield(x, y, neurons, hopfield_g, neural_lr_start, neural_lr_stop, neural_lr_rule,\n",
      "  File \"/tmp/ipykernel_186078/356138567.py\", line 231, in run_neural_dynamics_hopfield\n",
      "    neurons_intermediate[jj] = neurons_intermediate[jj] + neural_lr * gradient_neurons\n",
      "KeyboardInterrupt\n",
      "\n",
      "During handling of the above exception, another exception occurred:\n",
      "\n",
      "Traceback (most recent call last):\n",
      "  File \"/kuacc/users/bbozkurt15/.conda/envs/bbozkurt15/lib/python3.8/site-packages/IPython/core/interactiveshell.py\", line 2064, in showtraceback\n",
      "    stb = value._render_traceback_()\n",
      "AttributeError: 'KeyboardInterrupt' object has no attribute '_render_traceback_'\n",
      "\n",
      "During handling of the above exception, another exception occurred:\n",
      "\n",
      "Traceback (most recent call last):\n",
      "  File \"/kuacc/users/bbozkurt15/.conda/envs/bbozkurt15/lib/python3.8/site-packages/IPython/core/interactiveshell.py\", line 3364, in run_ast_nodes\n",
      "    if (await self.run_code(code, result,  async_=asy)):\n",
      "  File \"/kuacc/users/bbozkurt15/.conda/envs/bbozkurt15/lib/python3.8/site-packages/IPython/core/interactiveshell.py\", line 3461, in run_code\n",
      "    self.showtraceback(running_compiled_code=True)\n",
      "  File \"/kuacc/users/bbozkurt15/.conda/envs/bbozkurt15/lib/python3.8/site-packages/IPython/core/interactiveshell.py\", line 2066, in showtraceback\n",
      "    stb = self.InteractiveTB.structured_traceback(etype,\n",
      "  File \"/kuacc/users/bbozkurt15/.conda/envs/bbozkurt15/lib/python3.8/site-packages/IPython/core/ultratb.py\", line 1367, in structured_traceback\n",
      "    return FormattedTB.structured_traceback(\n",
      "  File \"/kuacc/users/bbozkurt15/.conda/envs/bbozkurt15/lib/python3.8/site-packages/IPython/core/ultratb.py\", line 1267, in structured_traceback\n",
      "    return VerboseTB.structured_traceback(\n",
      "  File \"/kuacc/users/bbozkurt15/.conda/envs/bbozkurt15/lib/python3.8/site-packages/IPython/core/ultratb.py\", line 1124, in structured_traceback\n",
      "    formatted_exception = self.format_exception_as_a_whole(etype, evalue, etb, number_of_lines_of_context,\n",
      "  File \"/kuacc/users/bbozkurt15/.conda/envs/bbozkurt15/lib/python3.8/site-packages/IPython/core/ultratb.py\", line 1082, in format_exception_as_a_whole\n",
      "    last_unique, recursion_repeat = find_recursion(orig_etype, evalue, records)\n",
      "  File \"/kuacc/users/bbozkurt15/.conda/envs/bbozkurt15/lib/python3.8/site-packages/IPython/core/ultratb.py\", line 382, in find_recursion\n",
      "    return len(records), 0\n",
      "TypeError: object of type 'NoneType' has no len()\n",
      "\n",
      "During handling of the above exception, another exception occurred:\n",
      "\n",
      "Traceback (most recent call last):\n",
      "  File \"/kuacc/users/bbozkurt15/.conda/envs/bbozkurt15/lib/python3.8/site-packages/IPython/core/interactiveshell.py\", line 2064, in showtraceback\n",
      "    stb = value._render_traceback_()\n",
      "AttributeError: 'TypeError' object has no attribute '_render_traceback_'\n",
      "\n",
      "During handling of the above exception, another exception occurred:\n",
      "\n",
      "Traceback (most recent call last):\n",
      "  File \"/kuacc/users/bbozkurt15/.conda/envs/bbozkurt15/lib/python3.8/site-packages/IPython/core/ultratb.py\", line 1101, in get_records\n",
      "    return _fixed_getinnerframes(etb, number_of_lines_of_context, tb_offset)\n",
      "  File \"/kuacc/users/bbozkurt15/.conda/envs/bbozkurt15/lib/python3.8/site-packages/IPython/core/ultratb.py\", line 248, in wrapped\n",
      "    return f(*args, **kwargs)\n",
      "  File \"/kuacc/users/bbozkurt15/.conda/envs/bbozkurt15/lib/python3.8/site-packages/IPython/core/ultratb.py\", line 281, in _fixed_getinnerframes\n",
      "    records = fix_frame_records_filenames(inspect.getinnerframes(etb, context))\n",
      "  File \"/kuacc/users/bbozkurt15/.conda/envs/bbozkurt15/lib/python3.8/inspect.py\", line 1515, in getinnerframes\n",
      "    frameinfo = (tb.tb_frame,) + getframeinfo(tb, context)\n",
      "  File \"/kuacc/users/bbozkurt15/.conda/envs/bbozkurt15/lib/python3.8/inspect.py\", line 1473, in getframeinfo\n",
      "    filename = getsourcefile(frame) or getfile(frame)\n",
      "  File \"/kuacc/users/bbozkurt15/.conda/envs/bbozkurt15/lib/python3.8/inspect.py\", line 708, in getsourcefile\n",
      "    if getattr(getmodule(object, filename), '__loader__', None) is not None:\n",
      "  File \"/kuacc/users/bbozkurt15/.conda/envs/bbozkurt15/lib/python3.8/inspect.py\", line 754, in getmodule\n",
      "    os.path.realpath(f)] = module.__name__\n",
      "  File \"/kuacc/users/bbozkurt15/.conda/envs/bbozkurt15/lib/python3.8/posixpath.py\", line 391, in realpath\n",
      "    path, ok = _joinrealpath(filename[:0], filename, {})\n",
      "  File \"/kuacc/users/bbozkurt15/.conda/envs/bbozkurt15/lib/python3.8/posixpath.py\", line 424, in _joinrealpath\n",
      "    newpath = join(path, name)\n",
      "  File \"/kuacc/users/bbozkurt15/.conda/envs/bbozkurt15/lib/python3.8/posixpath.py\", line 88, in join\n",
      "    path += sep + b\n",
      "KeyboardInterrupt\n"
     ]
    },
    {
     "name": "stderr",
     "output_type": "stream",
     "text": [
      "ERROR:root:Internal Python error in the inspect module.\n",
      "Below is the traceback from this internal error.\n",
      "\n"
     ]
    },
    {
     "name": "stdout",
     "output_type": "stream",
     "text": [
      "Traceback (most recent call last):\n",
      "  File \"/kuacc/users/bbozkurt15/.conda/envs/bbozkurt15/lib/python3.8/site-packages/IPython/core/interactiveshell.py\", line 3444, in run_code\n",
      "    exec(code_obj, self.user_global_ns, self.user_ns)\n",
      "  File \"/tmp/ipykernel_186078/183860386.py\", line 61, in <module>\n",
      "    neurons = model.batch_step_hopfield( x, y_one_hot, hopfield_g,\n",
      "  File \"/tmp/ipykernel_186078/356138567.py\", line 272, in batch_step_hopfield\n",
      "    ) = self.run_neural_dynamics_hopfield(x, y, neurons, hopfield_g, neural_lr_start, neural_lr_stop, neural_lr_rule,\n",
      "  File \"/tmp/ipykernel_186078/356138567.py\", line 231, in run_neural_dynamics_hopfield\n",
      "    neurons_intermediate[jj] = neurons_intermediate[jj] + neural_lr * gradient_neurons\n",
      "KeyboardInterrupt\n",
      "\n",
      "During handling of the above exception, another exception occurred:\n",
      "\n",
      "Traceback (most recent call last):\n",
      "  File \"/kuacc/users/bbozkurt15/.conda/envs/bbozkurt15/lib/python3.8/site-packages/IPython/core/interactiveshell.py\", line 2064, in showtraceback\n",
      "    stb = value._render_traceback_()\n",
      "AttributeError: 'KeyboardInterrupt' object has no attribute '_render_traceback_'\n",
      "\n",
      "During handling of the above exception, another exception occurred:\n",
      "\n",
      "Traceback (most recent call last):\n",
      "  File \"/kuacc/users/bbozkurt15/.conda/envs/bbozkurt15/lib/python3.8/site-packages/IPython/core/interactiveshell.py\", line 3364, in run_ast_nodes\n",
      "    if (await self.run_code(code, result,  async_=asy)):\n",
      "  File \"/kuacc/users/bbozkurt15/.conda/envs/bbozkurt15/lib/python3.8/site-packages/IPython/core/interactiveshell.py\", line 3461, in run_code\n",
      "    self.showtraceback(running_compiled_code=True)\n",
      "  File \"/kuacc/users/bbozkurt15/.conda/envs/bbozkurt15/lib/python3.8/site-packages/IPython/core/interactiveshell.py\", line 2066, in showtraceback\n",
      "    stb = self.InteractiveTB.structured_traceback(etype,\n",
      "  File \"/kuacc/users/bbozkurt15/.conda/envs/bbozkurt15/lib/python3.8/site-packages/IPython/core/ultratb.py\", line 1367, in structured_traceback\n",
      "    return FormattedTB.structured_traceback(\n",
      "  File \"/kuacc/users/bbozkurt15/.conda/envs/bbozkurt15/lib/python3.8/site-packages/IPython/core/ultratb.py\", line 1267, in structured_traceback\n",
      "    return VerboseTB.structured_traceback(\n",
      "  File \"/kuacc/users/bbozkurt15/.conda/envs/bbozkurt15/lib/python3.8/site-packages/IPython/core/ultratb.py\", line 1124, in structured_traceback\n",
      "    formatted_exception = self.format_exception_as_a_whole(etype, evalue, etb, number_of_lines_of_context,\n",
      "  File \"/kuacc/users/bbozkurt15/.conda/envs/bbozkurt15/lib/python3.8/site-packages/IPython/core/ultratb.py\", line 1082, in format_exception_as_a_whole\n",
      "    last_unique, recursion_repeat = find_recursion(orig_etype, evalue, records)\n",
      "  File \"/kuacc/users/bbozkurt15/.conda/envs/bbozkurt15/lib/python3.8/site-packages/IPython/core/ultratb.py\", line 382, in find_recursion\n",
      "    return len(records), 0\n",
      "TypeError: object of type 'NoneType' has no len()\n",
      "\n",
      "During handling of the above exception, another exception occurred:\n",
      "\n",
      "Traceback (most recent call last):\n",
      "  File \"/kuacc/users/bbozkurt15/.conda/envs/bbozkurt15/lib/python3.8/site-packages/IPython/core/interactiveshell.py\", line 2064, in showtraceback\n",
      "    stb = value._render_traceback_()\n",
      "AttributeError: 'TypeError' object has no attribute '_render_traceback_'\n",
      "\n",
      "During handling of the above exception, another exception occurred:\n",
      "\n",
      "Traceback (most recent call last):\n",
      "  File \"/kuacc/users/bbozkurt15/.conda/envs/bbozkurt15/lib/python3.8/site-packages/IPython/core/interactiveshell.py\", line 2947, in _run_cell\n",
      "    return runner(coro)\n",
      "  File \"/kuacc/users/bbozkurt15/.conda/envs/bbozkurt15/lib/python3.8/site-packages/IPython/core/async_helpers.py\", line 68, in _pseudo_sync_runner\n",
      "    coro.send(None)\n",
      "  File \"/kuacc/users/bbozkurt15/.conda/envs/bbozkurt15/lib/python3.8/site-packages/IPython/core/interactiveshell.py\", line 3172, in run_cell_async\n",
      "    has_raised = await self.run_ast_nodes(code_ast.body, cell_name,\n",
      "  File \"/kuacc/users/bbozkurt15/.conda/envs/bbozkurt15/lib/python3.8/site-packages/IPython/core/interactiveshell.py\", line 3383, in run_ast_nodes\n",
      "    self.showtraceback()\n",
      "  File \"/kuacc/users/bbozkurt15/.conda/envs/bbozkurt15/lib/python3.8/site-packages/IPython/core/interactiveshell.py\", line 2066, in showtraceback\n",
      "    stb = self.InteractiveTB.structured_traceback(etype,\n",
      "  File \"/kuacc/users/bbozkurt15/.conda/envs/bbozkurt15/lib/python3.8/site-packages/IPython/core/ultratb.py\", line 1367, in structured_traceback\n",
      "    return FormattedTB.structured_traceback(\n",
      "  File \"/kuacc/users/bbozkurt15/.conda/envs/bbozkurt15/lib/python3.8/site-packages/IPython/core/ultratb.py\", line 1267, in structured_traceback\n",
      "    return VerboseTB.structured_traceback(\n",
      "  File \"/kuacc/users/bbozkurt15/.conda/envs/bbozkurt15/lib/python3.8/site-packages/IPython/core/ultratb.py\", line 1142, in structured_traceback\n",
      "    formatted_exceptions += self.format_exception_as_a_whole(etype, evalue, etb, lines_of_context,\n",
      "  File \"/kuacc/users/bbozkurt15/.conda/envs/bbozkurt15/lib/python3.8/site-packages/IPython/core/ultratb.py\", line 1082, in format_exception_as_a_whole\n",
      "    last_unique, recursion_repeat = find_recursion(orig_etype, evalue, records)\n",
      "  File \"/kuacc/users/bbozkurt15/.conda/envs/bbozkurt15/lib/python3.8/site-packages/IPython/core/ultratb.py\", line 382, in find_recursion\n",
      "    return len(records), 0\n",
      "TypeError: object of type 'NoneType' has no len()\n",
      "\n",
      "During handling of the above exception, another exception occurred:\n",
      "\n",
      "Traceback (most recent call last):\n",
      "  File \"/kuacc/users/bbozkurt15/.conda/envs/bbozkurt15/lib/python3.8/site-packages/IPython/core/interactiveshell.py\", line 2064, in showtraceback\n",
      "    stb = value._render_traceback_()\n",
      "AttributeError: 'TypeError' object has no attribute '_render_traceback_'\n",
      "\n",
      "During handling of the above exception, another exception occurred:\n",
      "\n",
      "Traceback (most recent call last):\n",
      "  File \"/kuacc/users/bbozkurt15/.conda/envs/bbozkurt15/lib/python3.8/site-packages/IPython/core/ultratb.py\", line 1101, in get_records\n",
      "    return _fixed_getinnerframes(etb, number_of_lines_of_context, tb_offset)\n",
      "  File \"/kuacc/users/bbozkurt15/.conda/envs/bbozkurt15/lib/python3.8/site-packages/IPython/core/ultratb.py\", line 248, in wrapped\n",
      "    return f(*args, **kwargs)\n",
      "  File \"/kuacc/users/bbozkurt15/.conda/envs/bbozkurt15/lib/python3.8/site-packages/IPython/core/ultratb.py\", line 281, in _fixed_getinnerframes\n",
      "    records = fix_frame_records_filenames(inspect.getinnerframes(etb, context))\n",
      "  File \"/kuacc/users/bbozkurt15/.conda/envs/bbozkurt15/lib/python3.8/inspect.py\", line 1515, in getinnerframes\n",
      "    frameinfo = (tb.tb_frame,) + getframeinfo(tb, context)\n",
      "  File \"/kuacc/users/bbozkurt15/.conda/envs/bbozkurt15/lib/python3.8/inspect.py\", line 1473, in getframeinfo\n",
      "    filename = getsourcefile(frame) or getfile(frame)\n",
      "  File \"/kuacc/users/bbozkurt15/.conda/envs/bbozkurt15/lib/python3.8/inspect.py\", line 708, in getsourcefile\n",
      "    if getattr(getmodule(object, filename), '__loader__', None) is not None:\n",
      "  File \"/kuacc/users/bbozkurt15/.conda/envs/bbozkurt15/lib/python3.8/inspect.py\", line 754, in getmodule\n",
      "    os.path.realpath(f)] = module.__name__\n",
      "  File \"/kuacc/users/bbozkurt15/.conda/envs/bbozkurt15/lib/python3.8/posixpath.py\", line 391, in realpath\n",
      "    path, ok = _joinrealpath(filename[:0], filename, {})\n",
      "  File \"/kuacc/users/bbozkurt15/.conda/envs/bbozkurt15/lib/python3.8/posixpath.py\", line 425, in _joinrealpath\n",
      "    if not islink(newpath):\n",
      "  File \"/kuacc/users/bbozkurt15/.conda/envs/bbozkurt15/lib/python3.8/posixpath.py\", line 167, in islink\n",
      "    st = os.lstat(path)\n",
      "KeyboardInterrupt\n"
     ]
    }
   ],
   "source": [
    "RESULTS_DF = pd.DataFrame( columns = ['setting_number', 'seed', 'Model', 'Hyperparams', 'Trn_ACC_list', 'Tst_ACC_list', 'forward_backward_weight_angle_list'])\n",
    "\n",
    "setting_number = 1\n",
    "hyperparams_dict = {\"lr_start\" : lr_start, \"lr_decay_multiplier\" : lr_decay_multiplier,\n",
    "                    \"neural_dynamic_iterations_free\" : neural_dynamic_iterations_free,\n",
    "                    \"neural_dynamic_iterations_nudged\" : neural_dynamic_iterations_nudged,\n",
    "                    \"neural_lr_rule\" : neural_lr_rule, \"neural_lr\" : neural_lr_start,\n",
    "                    \"epsilon\" : epsilon, \"lambda\" : lambda_,\n",
    "                    \"architecture\" : architecture,\n",
    "                    \"three_phase\" : use_three_phase}\n",
    "# for seed_ in seed_list:\n",
    "#     np.random.seed(seed_)\n",
    "#     torch.manual_seed(seed_)\n",
    "\n",
    "trn_acc_list = []\n",
    "tst_acc_list = []\n",
    "model = ContrastiveCorInfoMaxHopfield(architecture = architecture, lambda_ = lambda_,\n",
    "                                        epsilon = epsilon, activation = activation)\n",
    "debug_iteration_point = 1\n",
    "\n",
    "hidden_layer_forward_error_corr = torch.zeros(hidden_size,hidden_size).to(device)\n",
    "hidden_layer_backward_error_corr = torch.zeros(hidden_size,hidden_size).to(device)\n",
    "for x, y in test_loader:\n",
    "    x = x.view(x.size(0),-1).to(device).T\n",
    "    y = y.to(device)\n",
    "\n",
    "    mbs = x.size(1)\n",
    "    neurons = model.init_neurons(x.size(1), device = model.device)\n",
    "\n",
    "    # dynamics for T time steps\n",
    "    neurons, _, _ = model.run_neural_dynamics_hopfield(x, 0, neurons, \n",
    "                                                       hopfield_g, neural_lr_start, neural_lr_stop, \n",
    "                                                       neural_lr_rule, neural_lr_decay_multiplier, \n",
    "                                                       neural_dynamic_iterations_free, beta = 0) \n",
    "    layers_free = [x] + neurons\n",
    "    forward_errors_free = [layers_free[jj + 1] - (model.Wff[jj]['weight'] @ layers_free[jj]) for jj in range(len(model.Wff))]\n",
    "\n",
    "    backward_errors_free = [(layers_free[jj]) - (model.Wfb[jj]['weight'] @ layers_free[jj + 1]) for jj in range(1, len(model.Wfb))]\n",
    "\n",
    "    hidden_layer_forward_error_corr += torch.sum(outer_prod_broadcasting(forward_errors_free[0].T, forward_errors_free[0].T), axis = 0)\n",
    "    hidden_layer_backward_error_corr += torch.sum(outer_prod_broadcasting(backward_errors_free[0].T, backward_errors_free[0].T), axis = 0)\n",
    "\n",
    "print(\"Forward Eigenvalue ratio: \", (np.linalg.eig(torch2numpy(hidden_layer_forward_error_corr / (len(test_loader)  * test_loader.batch_size)))[0] < epsilon).sum() / hidden_size)\n",
    "print(\"Backward Eigenvalue ratio: \", (np.linalg.eig(torch2numpy(hidden_layer_backward_error_corr / (len(test_loader)  * test_loader.batch_size)))[0] < epsilon).sum() / hidden_size)\n",
    "    \n",
    "    \n",
    "for epoch_ in range(n_epochs):\n",
    "    if epoch_ < 15:\n",
    "        lr = {'ff' : lr_start['ff'] * (lr_decay_multiplier)**epoch_, 'fb' : lr_start['fb'] * (lr_decay_multiplier)**epoch_}\n",
    "    else:\n",
    "        lr = {'ff' : lr_start['ff'] * (0.9)**epoch_, 'fb' : lr_start['fb'] * (0.9)**epoch_}\n",
    "    for idx, (x, y) in tqdm(enumerate(train_loader)):\n",
    "        x, y = x.to(device), y.to(device)\n",
    "        x = x.view(x.size(0),-1).T\n",
    "        y_one_hot = F.one_hot(y, 10).to(device).T\n",
    "        take_debug_logs_ = (idx % 500 == 0)\n",
    "        if use_random_sign_beta:\n",
    "            rnd_sgn = 2*np.random.randint(2) - 1\n",
    "            beta = rnd_sgn*beta\n",
    "\n",
    "        neurons = model.batch_step_hopfield( x, y_one_hot, hopfield_g,\n",
    "                                            lr, neural_lr_start, neural_lr_stop, neural_lr_rule,\n",
    "                                            neural_lr_decay_multiplier, neural_dynamic_iterations_free,\n",
    "                                            neural_dynamic_iterations_nudged, beta,\n",
    "                                            use_three_phase, take_debug_logs_)\n",
    "\n",
    "    trn_acc = evaluateContrastiveCorInfoMaxHopfield(model, train_loader, hopfield_g, neural_lr_start,\n",
    "                                                    neural_lr_stop, neural_lr_rule,\n",
    "                                                    neural_lr_decay_multiplier,\n",
    "                                                    neural_dynamic_iterations_free,\n",
    "                                                    device, printing = False)\n",
    "    tst_acc = evaluateContrastiveCorInfoMaxHopfield(model, test_loader, hopfield_g, neural_lr_start,\n",
    "                                                    neural_lr_stop, neural_lr_rule,\n",
    "                                                    neural_lr_decay_multiplier,\n",
    "                                                    neural_dynamic_iterations_free,\n",
    "                                                    device, printing = False)\n",
    "    hidden_layer_forward_error_corr = torch.zeros(hidden_size,hidden_size).to(device)\n",
    "    hidden_layer_backward_error_corr = torch.zeros(hidden_size,hidden_size).to(device)\n",
    "    for x, y in test_loader:\n",
    "        x = x.view(x.size(0),-1).to(device).T\n",
    "        y = y.to(device)\n",
    "\n",
    "        mbs = x.size(1)\n",
    "        neurons = model.init_neurons(x.size(1), device = model.device)\n",
    "\n",
    "        # dynamics for T time steps\n",
    "        neurons, _, _ = model.run_neural_dynamics_hopfield(x, 0, neurons, \n",
    "                                                           hopfield_g, neural_lr_start, neural_lr_stop, \n",
    "                                                           neural_lr_rule, neural_lr_decay_multiplier, \n",
    "                                                           neural_dynamic_iterations_free, beta = 0) \n",
    "        layers_free = [x] + neurons\n",
    "        forward_errors_free = [layers_free[jj + 1] - (model.Wff[jj]['weight'] @ layers_free[jj]) for jj in range(len(model.Wff))]\n",
    "\n",
    "        backward_errors_free = [(layers_free[jj]) - (model.Wfb[jj]['weight'] @ layers_free[jj + 1]) for jj in range(1, len(model.Wfb))]\n",
    "    \n",
    "        hidden_layer_forward_error_corr += torch.sum(outer_prod_broadcasting(forward_errors_free[0].T, forward_errors_free[0].T), axis = 0)\n",
    "        hidden_layer_backward_error_corr += torch.sum(outer_prod_broadcasting(backward_errors_free[0].T, backward_errors_free[0].T), axis = 0)\n",
    "\n",
    "    print(\"Forward Eigenvalue ratio: \", (np.linalg.eig(torch2numpy(hidden_layer_forward_error_corr / (len(test_loader)  * test_loader.batch_size)))[0] < epsilon).sum() / hidden_size)\n",
    "    print(\"Backward Eigenvalue ratio: \", (np.linalg.eig(torch2numpy(hidden_layer_backward_error_corr / (len(test_loader)  * test_loader.batch_size)))[0] < epsilon).sum() / hidden_size)\n",
    "    trn_acc_list.append(trn_acc)\n",
    "    tst_acc_list.append(tst_acc)\n",
    "    print(\"Epoch : {}, Train Accuracy : {}, Test Accuracy : {}\".format(epoch_+1, trn_acc, tst_acc))\n",
    "\n"
   ]
  },
  {
   "cell_type": "code",
   "execution_count": 10,
   "metadata": {},
   "outputs": [
    {
     "data": {
      "text/plain": [
       "500"
      ]
     },
     "execution_count": 10,
     "metadata": {},
     "output_type": "execute_result"
    }
   ],
   "source": [
    "len(test_loader) "
   ]
  },
  {
   "cell_type": "code",
   "execution_count": 11,
   "metadata": {},
   "outputs": [
    {
     "name": "stdout",
     "output_type": "stream",
     "text": [
      "ERROR! Session/line number was not unique in database. History logging moved to new session 349\n"
     ]
    },
    {
     "data": {
      "text/plain": [
       "20"
      ]
     },
     "execution_count": 11,
     "metadata": {},
     "output_type": "execute_result"
    }
   ],
   "source": [
    "test_loader.batch_size"
   ]
  },
  {
   "cell_type": "code",
   "execution_count": 12,
   "metadata": {},
   "outputs": [],
   "source": [
    "hidden_layer_forward_error_corr = torch.zeros(hidden_size,hidden_size).to(device)\n",
    "hidden_layer_backward_error_corr = torch.zeros(hidden_size,hidden_size).to(device)\n",
    "\n",
    "hidden_layer_forward_error_mean = torch.zeros(hidden_size).to(device)\n",
    "for x, y in test_loader:\n",
    "    x = x.view(x.size(0),-1).to(device).T\n",
    "    y = y.to(device)\n",
    "    \n",
    "    mbs = x.size(1)\n",
    "    neurons = model.init_neurons(x.size(1), device = model.device)\n",
    "\n",
    "    # dynamics for T time steps\n",
    "    neurons, _, _ = model.run_neural_dynamics_hopfield(x, 0, neurons, \n",
    "                                                       hopfield_g, neural_lr_start, neural_lr_stop, \n",
    "                                                       neural_lr_rule, neural_lr_decay_multiplier, \n",
    "                                                       neural_dynamic_iterations_free, beta = 0) \n",
    "    layers_free = [x] + neurons\n",
    "    forward_errors_free = [layers_free[jj + 1] - (model.Wff[jj]['weight'] @ layers_free[jj]) for jj in range(len(model.Wff))]\n",
    "\n",
    "    backward_errors_free = [(layers_free[jj]) - (model.Wfb[jj]['weight'] @ layers_free[jj + 1]) for jj in range(1, len(model.Wfb))]\n",
    "    \n",
    "    hidden_layer_forward_error_corr += torch.sum(outer_prod_broadcasting(forward_errors_free[0].T, forward_errors_free[0].T), axis = 0)\n",
    "    hidden_layer_backward_error_corr += torch.sum(outer_prod_broadcasting(backward_errors_free[0].T, backward_errors_free[0].T), axis = 0)\n",
    "    \n",
    "    hidden_layer_forward_error_mean += forward_errors_free[0].sum(axis = 1)\n",
    "    \n",
    "hidden_layer_forward_error_corr = hidden_layer_forward_error_corr / (len(test_loader)  * test_loader.batch_size)\n",
    "hidden_layer_backward_error_corr = hidden_layer_backward_error_corr / (len(test_loader)  * test_loader.batch_size)\n",
    "hidden_layer_forward_error_mean = hidden_layer_forward_error_mean / (len(test_loader)  * test_loader.batch_size)"
   ]
  },
  {
   "cell_type": "code",
   "execution_count": 13,
   "metadata": {},
   "outputs": [
    {
     "data": {
      "text/plain": [
       "tensor([ 2.1022e-01,  5.4478e-02,  9.5599e-02,  1.7977e-01,  1.9867e-01,\n",
       "         5.5976e-01,  1.7030e-01,  2.7289e-01,  1.4200e-01,  8.2779e-02,\n",
       "         3.3306e-02,  5.3312e-01,  2.2786e-01,  1.0687e-01,  1.6832e-01,\n",
       "         1.8543e-01,  1.2649e-01,  3.7706e-02,  1.8324e-01,  1.3089e-01,\n",
       "         2.4962e-01,  5.1208e-01,  3.2172e-01,  1.1186e-01,  1.1261e-01,\n",
       "         1.5961e-01,  1.7735e-01,  1.1504e-01,  3.4805e-01,  3.3422e-01,\n",
       "         3.8314e-01,  2.6562e-01,  1.1728e-01,  1.7309e-01,  1.8697e-01,\n",
       "         1.9911e-01,  7.4813e-02,  2.5115e-01,  7.1884e-02,  1.0388e-01,\n",
       "         5.8105e-02,  1.4528e-01,  2.0336e-01,  4.0638e-01,  4.3312e-02,\n",
       "         2.3296e-01,  9.9017e-02,  1.7335e-02,  3.3428e-02,  2.5260e-01,\n",
       "         5.7551e-02,  1.4299e-01,  8.4412e-02,  6.9070e-02,  8.8927e-02,\n",
       "         3.5374e-01,  1.9745e-01,  2.0208e-01,  2.0104e-01,  1.6172e-01,\n",
       "         3.9511e-01,  1.1096e-01,  2.3760e-01,  1.5793e-01,  1.1716e-01,\n",
       "         1.4143e-01,  1.4849e-01,  1.0970e-01,  2.5793e-01,  1.6498e-01,\n",
       "         7.8183e-02,  2.2946e-01,  2.5603e-01,  7.0994e-02,  2.4735e-01,\n",
       "         1.1159e-01,  2.0886e-01,  7.3536e-02,  1.0138e-01, -1.6266e-01,\n",
       "         1.5111e-01,  3.0379e-01,  2.3443e-01,  1.4872e-01,  1.2556e-01,\n",
       "         1.5634e-01,  2.6247e-01,  5.4107e-02,  7.5781e-02,  1.2284e-01,\n",
       "         1.4631e-01,  1.3970e-01,  1.2645e-02,  2.4203e-01,  1.5795e-01,\n",
       "         1.9870e-01,  3.6599e-02,  2.3753e-01,  1.4021e-01,  2.6623e-01,\n",
       "         2.0905e-01,  3.7698e-01,  8.3138e-01,  1.5581e-01,  2.1488e-01,\n",
       "         6.7906e-02,  3.7402e-01,  1.0903e-01,  2.0242e-01,  2.9776e-01,\n",
       "         5.2277e-01,  2.1989e-01,  9.0553e-02,  1.6899e-01,  5.2389e-02,\n",
       "        -9.9886e-03,  5.9567e-02,  1.1133e-01,  3.9015e-01,  4.6679e-02,\n",
       "         1.7879e-04,  1.7045e-01,  5.9696e-02, -4.8004e-02,  1.1046e-01,\n",
       "         1.5087e-01,  5.9909e-02,  1.5075e-01,  2.6642e-01,  1.0376e-01,\n",
       "         2.3184e-01,  1.3317e-01,  1.5823e-01,  6.1043e-02,  7.2695e-01,\n",
       "         3.1785e-01,  2.7957e-01,  1.0336e-01,  2.2047e-01,  1.0519e-01,\n",
       "         2.3949e-01,  1.0511e-01,  7.6934e-02,  1.5108e-02,  2.4395e-02,\n",
       "         1.8074e-01,  2.0054e-01,  1.6804e-01,  2.4388e-01,  1.3111e-01,\n",
       "         1.4732e-04,  1.4407e-01,  2.0546e-01,  1.3946e-01,  3.4921e-01,\n",
       "         1.2681e-01,  3.2158e-01,  2.8305e-01,  2.5231e-01,  2.4388e-01,\n",
       "         1.2011e-01,  2.0746e-01,  1.7986e-01, -2.3714e-03,  1.0999e-01,\n",
       "         2.7767e-01,  1.3839e-01,  1.1907e-01,  1.8293e-01,  9.6568e-02,\n",
       "         5.2960e-02,  2.7388e-01,  1.0968e-01,  2.9741e-01,  2.8817e-01,\n",
       "         1.2829e-01,  5.2015e-04,  7.6175e-02,  1.3438e-01,  2.7931e-01,\n",
       "         1.6002e-01,  2.2307e-01,  3.0717e-01,  5.3166e-02,  3.7577e-02,\n",
       "         2.9812e-03,  1.6665e-01,  2.6014e-01,  2.9811e-01,  1.0687e-01,\n",
       "         2.2542e-01,  1.7160e-01, -4.1606e-03,  2.1221e-01,  1.6835e-01,\n",
       "         1.3875e-01,  3.2811e-01,  3.2173e-01,  1.5553e-01,  7.4209e-02,\n",
       "         4.0886e-01,  2.6238e-01,  1.4487e-01,  4.0959e-01,  1.5168e-01,\n",
       "         1.3572e-01,  7.4080e-02,  1.7256e-01,  2.3321e-01,  9.4756e-02,\n",
       "         3.3267e-01,  5.0858e-01,  3.2142e-01,  1.1195e-01,  4.1130e-01,\n",
       "         1.1490e-01, -6.1775e-02,  1.7970e-01,  3.6101e-02,  5.4880e-02,\n",
       "         2.3661e-01,  8.6190e-02,  7.7569e-02,  2.1394e-02, -9.1583e-02,\n",
       "         1.5163e-01,  1.4025e-01,  1.6413e-01,  1.4211e-01,  1.4109e-01,\n",
       "         2.5832e-01,  1.0144e-01,  1.8117e-01,  1.7222e-01,  1.3485e-01,\n",
       "         1.1035e-01,  2.0214e-01,  1.1996e-01,  3.8938e-01,  4.8644e-02,\n",
       "         1.7922e-01,  1.5783e-01,  1.4892e-01,  1.0006e-01,  2.4390e-01,\n",
       "         4.4021e-01,  7.4937e-02,  3.9132e-02,  9.7353e-02,  3.4437e-01,\n",
       "         1.5973e-01,  2.3528e-01,  4.6706e-02,  2.1665e-01,  7.3597e-02,\n",
       "         1.3406e-01,  4.4904e-01, -1.4295e-02,  1.8789e-01,  1.2296e-01,\n",
       "         6.0560e-02,  3.1404e-01,  1.7066e-01,  2.0410e-01,  1.0858e-01,\n",
       "         9.0488e-02,  6.6441e-02,  1.6819e-01,  1.4354e-01,  2.2656e-01,\n",
       "         1.1943e-01,  2.5472e-01,  2.0339e-01,  1.4666e-01,  4.4973e-02,\n",
       "         9.3902e-02,  1.5347e-01,  8.1734e-02,  3.4525e-01,  1.5015e-01,\n",
       "         1.2978e-01,  2.1807e-01,  1.3487e-01,  1.6772e-01,  3.3959e-01,\n",
       "         1.2620e-01,  1.9054e-02,  1.5180e-01,  2.4256e-01,  2.4299e-01,\n",
       "         1.3230e-01,  3.0718e-01,  1.2977e-01,  1.2465e-01,  1.3490e-01,\n",
       "         4.2435e-02,  2.2591e-01,  1.6297e-01,  3.2871e-01,  9.0287e-01,\n",
       "         5.1210e-01,  2.8431e-01,  1.8773e-01,  2.1346e-01,  2.1502e-01,\n",
       "         7.5556e-02,  1.0251e-01,  9.5414e-02,  1.0693e-01,  3.5432e-01,\n",
       "         2.8180e-01,  3.3078e-01,  6.4466e-02,  3.3643e-01,  2.2190e-01,\n",
       "         1.8608e-01,  3.0816e-01,  1.4323e-01,  5.6424e-02,  4.1334e-02,\n",
       "         3.0575e-01,  1.1759e-01,  1.9372e-01,  2.7682e-01,  1.4478e-01,\n",
       "        -4.2113e-03,  8.8499e-03,  1.1037e-01,  9.3751e-02,  1.2216e-01,\n",
       "         2.6001e-01,  5.0976e-02,  2.0607e-01,  2.1168e-01,  2.3685e-01,\n",
       "         2.0274e-01,  1.5103e-01,  2.4007e-01,  1.5958e-01,  1.1284e-01,\n",
       "         4.9138e-01,  2.0943e-01,  1.0682e-01,  6.3311e-02,  1.6411e-01,\n",
       "         2.5514e-01,  1.0785e-01,  2.7758e-02,  2.2211e-01,  4.5305e-02,\n",
       "         3.5345e-01,  2.4839e-01,  1.4861e-01,  1.1252e-01,  1.0026e-01,\n",
       "         4.9227e-01,  1.5066e-01,  1.8852e-01,  6.2614e-02,  2.9165e-01,\n",
       "         4.2598e-02,  1.9998e-01,  1.6284e-01,  2.7292e-02,  1.7596e-01,\n",
       "         1.7073e-01,  6.3578e-02,  1.0574e-01,  1.6985e-01,  8.4651e-02,\n",
       "         4.9020e-02,  1.8231e-01,  9.4189e-02,  2.9487e-01,  1.9155e-01,\n",
       "         4.0627e-02,  6.5976e-02,  5.7468e-02,  2.4117e-02,  6.4121e-02,\n",
       "         1.6598e-01,  3.8537e-02,  2.4581e-01,  1.8874e-01,  3.4872e-02,\n",
       "         2.9183e-01,  3.2301e-01,  8.2826e-03,  6.7480e-01,  1.5570e-01,\n",
       "         2.6577e-01,  6.4130e-02,  4.5297e-02,  1.5546e-01,  6.9174e-02,\n",
       "         1.2302e-01, -8.8644e-03,  2.2385e-01,  1.6904e-01,  1.3530e-03,\n",
       "         2.4343e-02,  1.3456e-01,  1.3793e-01,  2.9940e-02,  1.9812e-01,\n",
       "         1.0277e-02, -1.6885e-02,  1.4356e-02,  6.8287e-02,  8.4211e-02,\n",
       "         1.0978e-01,  9.0116e-02, -4.1393e-01,  3.2361e-01,  3.0932e-01,\n",
       "         9.8388e-02,  7.4863e-02,  1.2956e-01,  2.1679e-01,  1.3174e-01,\n",
       "         1.9568e-01,  2.1270e-01,  1.0081e-01,  1.7945e-02,  2.2324e-01,\n",
       "         3.9120e-02,  1.4747e-01,  1.2824e-01,  2.7398e-01,  2.1204e-01,\n",
       "         1.2731e-01,  1.1869e-01,  2.5034e-01, -7.9460e-02,  2.5479e-01,\n",
       "        -1.8728e-01,  1.9688e-01,  2.8650e-01,  2.9153e-01,  7.5042e-02,\n",
       "         1.9477e-02, -8.8649e-03,  9.3300e-03,  1.3324e-01,  2.4865e-01,\n",
       "         1.3561e-01,  2.4981e-01,  9.0311e-02,  1.6761e-02,  1.2855e-01,\n",
       "         1.5512e-01,  3.9628e-01,  1.8078e-01,  1.4581e-01,  2.1880e-01,\n",
       "         1.0421e-01,  8.4563e-02,  1.7190e-01,  2.4796e-02,  5.0293e-01,\n",
       "         5.1947e-01,  1.6648e-01,  1.3433e-01,  3.3031e-01,  1.7308e-01,\n",
       "         5.3325e-02,  1.9848e-01,  1.4590e-01,  5.9203e-01,  1.0016e-01,\n",
       "         2.8377e-01,  1.4775e-01, -7.2124e-03,  2.0163e-01,  9.5639e-02,\n",
       "         1.8259e-01,  6.6766e-02,  6.8980e-02,  2.2754e-01,  9.3977e-02,\n",
       "         3.5540e-02,  9.1184e-02,  2.2036e-01,  7.4454e-02,  3.1052e-01,\n",
       "         9.9743e-02,  2.0676e-01,  1.4504e-01,  1.6800e-01,  1.1011e-01,\n",
       "         2.7072e-01,  1.7840e-01,  2.6370e-01,  2.6066e-01, -2.5099e-02,\n",
       "         1.5282e-01,  3.0048e-02,  2.2030e-01,  8.6179e-02,  5.3028e-02,\n",
       "         7.6767e-02,  2.1032e-01,  1.3436e-01,  1.0862e-01,  1.7233e-02,\n",
       "         1.6381e-01,  1.7427e-01, -7.6292e-02,  1.0042e-01,  5.3860e-01,\n",
       "         5.6860e-03,  1.7452e-01,  2.6902e-01,  2.0569e-01,  1.1427e-01,\n",
       "         2.7956e-01,  1.1594e-01,  1.0288e-01,  1.9491e-01,  5.5087e-02,\n",
       "         2.9218e-01,  2.2084e-01,  3.1655e-01,  2.7400e-01,  1.6849e-01,\n",
       "         1.5844e-01,  2.6158e-01,  2.1209e-01,  3.4806e-01,  1.7548e-01,\n",
       "         1.7004e-01,  2.7525e-01,  3.6498e-01,  2.5445e-01,  1.3451e-01,\n",
       "         1.2022e-01,  2.3113e-01,  7.4884e-02,  2.3474e-01,  3.6074e-01,\n",
       "         2.4505e-01,  1.4729e-01,  2.7336e-01, -6.2787e-02,  2.2746e-01,\n",
       "         1.3894e-01,  1.5578e-01,  1.3189e-01,  1.4061e-01,  1.1130e-01,\n",
       "        -1.0404e-01,  3.6569e-01,  1.8879e-01,  7.4838e-02,  2.1256e-01,\n",
       "         1.3962e-01,  2.1325e-01,  1.1672e-01,  7.3923e-02,  7.0613e-02,\n",
       "         1.2717e-01,  3.3479e-01,  1.0929e-01,  1.9364e-01,  2.6352e-02,\n",
       "         2.6378e-02,  2.2206e-01,  2.3798e-01,  5.3967e-02,  3.2639e-01,\n",
       "         3.1539e-01,  1.2605e-01,  1.0593e-01,  2.9605e-01,  5.1574e-02,\n",
       "         4.0358e-02,  3.9856e-01,  2.5437e-01,  1.0042e-01,  2.1149e-01,\n",
       "         3.9137e-01,  1.7886e-01,  3.2683e-01, -2.2880e-03,  2.0706e-01,\n",
       "         1.9502e-01,  1.8535e-01,  9.5530e-02,  1.6849e-01,  8.2888e-02,\n",
       "         2.1807e-01,  2.4093e-01,  6.4559e-02,  3.4383e-01,  1.7440e-01,\n",
       "         1.1131e-01,  1.1098e-01,  1.5593e-02,  3.5036e-01,  7.0987e-02,\n",
       "         9.1178e-02,  7.6475e-02,  1.0321e-01,  5.7939e-02,  1.0909e-01,\n",
       "         5.4846e-02,  1.0056e-01,  1.5456e-01,  2.5870e-01,  5.8196e-02,\n",
       "         1.6206e-01,  9.0409e-02,  1.2202e-01,  1.2114e-01,  2.3933e-01,\n",
       "         6.7794e-02,  4.6663e-01,  4.7107e-02,  1.5818e-01, -2.0791e-02,\n",
       "         4.2454e-01,  7.4907e-03,  1.1231e-01,  3.0438e-01,  8.6534e-02,\n",
       "        -4.2761e-02,  3.8344e-01,  3.3439e-02,  1.6473e-01, -1.8389e-02,\n",
       "         6.5396e-02, -8.8577e-02,  1.2105e-01, -4.0240e-02,  8.6364e-02,\n",
       "         6.0141e-02,  2.0816e-01,  1.4804e-01,  1.3150e-01,  1.3419e-01,\n",
       "         1.4484e-01,  1.4921e-01,  9.2033e-01,  1.3700e-01,  2.2074e-01,\n",
       "         1.0398e-01,  1.9734e-01,  1.3311e-01,  1.0147e-01, -6.2839e-03,\n",
       "         2.1156e-01, -4.4130e-03, -1.4403e-01,  1.1930e-01,  3.2339e-01,\n",
       "         1.2130e-01,  3.7058e-01,  2.6115e-01,  1.0934e-01,  3.8937e-01,\n",
       "         1.3646e-01,  1.6404e-01,  2.6712e-01,  1.3541e-01,  1.5409e-01,\n",
       "         9.9258e-02,  1.1517e-01,  2.6570e-01,  4.5387e-01,  2.9164e-01,\n",
       "         1.9380e-01,  8.0842e-02,  1.0754e-01,  1.3890e-01, -9.8576e-03,\n",
       "         1.1264e-01,  8.4853e-01,  1.7421e-01,  2.1284e-01,  1.7523e-01,\n",
       "        -1.3270e-02,  2.0243e-01,  1.7877e-01,  1.1025e-01,  6.2405e-02,\n",
       "         8.7826e-02,  2.6052e-01,  9.7402e-02,  2.2288e-01,  3.9913e-01,\n",
       "         4.4746e-01,  1.3186e-01,  1.0187e-01,  3.6579e-01,  2.5598e-01,\n",
       "         1.5310e-01,  3.1364e-01, -6.7495e-02,  2.2540e-01,  7.0557e-01,\n",
       "         2.4803e-01,  9.5427e-02,  1.0883e-01,  6.3152e-02,  3.8528e-01,\n",
       "         1.5057e-01,  1.8005e-01,  8.6058e-04,  1.9796e-01,  3.7983e-01,\n",
       "         2.7122e-01,  1.6273e-01,  2.1084e-01,  4.2550e-01,  2.2282e-01,\n",
       "         6.2590e-02,  3.1411e-01, -2.8707e-02,  5.3123e-02,  1.8759e-01,\n",
       "         2.7530e-01,  6.3346e-02,  2.5541e-01, -2.9355e-02,  1.2843e-01,\n",
       "         2.9916e-01,  2.9717e-01,  1.5562e-01,  2.6370e-01,  3.3980e-01,\n",
       "         3.9283e-01,  1.6455e-01,  2.6976e-01,  3.7045e-01,  1.6548e-01,\n",
       "         1.6621e-01,  2.7997e-02,  3.5003e-01,  6.5137e-01,  1.1492e-01,\n",
       "         6.5069e-02,  1.9985e-02,  6.2520e-02,  4.9674e-02,  1.2838e-01,\n",
       "         8.2702e-02,  2.4180e-01,  5.6657e-01,  8.1917e-02,  1.8356e-01,\n",
       "         1.5985e-01,  2.8015e-01,  1.1472e-01,  1.5610e-01,  1.1583e-01,\n",
       "         7.8592e-02,  2.5050e-01,  1.6750e-01,  2.5942e-01,  1.8659e-01,\n",
       "         1.1445e-01,  1.2318e-01,  4.4539e-01,  3.2161e-01,  2.5407e-01,\n",
       "         2.4618e-01,  1.2453e-01,  1.8185e-01,  1.1150e-01,  1.1516e-01,\n",
       "         1.9643e-01,  3.6061e-01,  4.5485e-01,  1.0516e-01,  1.8208e-01,\n",
       "        -2.9009e-02, -8.6848e-03,  2.7900e-01,  3.3378e-01,  7.4009e-02,\n",
       "         3.4509e-02,  1.7874e-01,  1.9602e-01,  1.7302e-01,  1.6557e-01,\n",
       "         1.8679e-01,  1.0583e-01,  1.0863e-01,  2.5917e-01,  5.5286e-02,\n",
       "         2.3766e-01,  7.4233e-02,  2.9308e-01,  3.5046e-02,  2.0860e-01,\n",
       "        -2.5456e-02,  2.2256e-01,  3.1989e-01,  1.4505e-01,  2.0688e-01,\n",
       "         2.5971e-01,  1.7619e-01,  1.6766e-01,  1.0145e-01,  3.3125e-02,\n",
       "         1.0768e-01,  1.1585e-01,  2.0460e-01,  2.7109e-01,  1.9317e-01,\n",
       "         2.8107e-01,  5.3545e-02, -4.6115e-02,  2.6601e-01,  2.0834e-01,\n",
       "         1.2354e-01,  2.4858e-01,  9.0680e-02,  3.9861e-03,  5.1257e-01,\n",
       "         1.0357e-01,  1.1080e-01,  1.7467e-01,  1.4430e-01,  1.8269e-01,\n",
       "         1.1648e-01,  2.2233e-01,  1.4081e-01,  1.1302e-01,  2.6151e-01,\n",
       "         3.2004e-02,  2.1247e-01,  1.6979e-01,  1.4880e-01,  2.3398e-01,\n",
       "         2.3337e-01,  2.4552e-01,  1.8031e-01,  7.4619e-02,  1.3360e-01,\n",
       "         9.1616e-02,  2.2978e-01,  4.3790e-02,  4.4252e-02,  1.8908e-01,\n",
       "         1.6506e-01,  1.3657e-01,  2.8798e-01,  3.0426e-01,  1.7419e-01,\n",
       "         2.8538e-01,  2.9242e-01,  1.0981e-01,  8.4131e-02,  2.5135e-01,\n",
       "         8.2558e-02,  1.5470e-01,  3.9158e-01,  1.4449e-01,  3.7858e-01,\n",
       "         9.6053e-02,  4.7944e-01,  1.6402e-01,  1.8454e-01, -3.6140e-02,\n",
       "         6.8554e-02, -2.2666e-03,  2.4213e-01, -4.9637e-03,  1.8288e-01,\n",
       "         1.6822e-01,  2.1201e-01,  1.7219e-01,  9.4063e-02,  1.3755e-01,\n",
       "         8.2097e-02,  1.2619e-01,  2.1900e-01,  2.2544e-01,  2.4341e-02,\n",
       "         1.3291e-01,  3.8106e-02,  2.5033e-01,  2.0397e-01,  2.7010e-01,\n",
       "         1.9348e-01,  5.4473e-02,  1.2633e-01,  1.4986e-01,  9.8135e-02,\n",
       "         1.5397e-01,  7.8539e-02,  9.4160e-02,  2.7468e-01,  6.5959e-01,\n",
       "         2.2689e-01,  9.8829e-02,  1.9874e-02, -1.9347e-01,  2.9683e-01,\n",
       "         2.6032e-01,  2.2571e-01,  1.2809e-01,  2.2759e-01,  1.9120e-01,\n",
       "         1.5017e-01,  7.4124e-02,  1.2458e-01,  3.1000e-01,  6.3218e-02,\n",
       "        -2.5053e-02,  2.0099e-01,  1.7187e-01,  2.8906e-01,  2.7996e-02,\n",
       "         1.1772e-01,  2.2090e-01,  1.2942e-01,  9.6014e-02,  2.3509e-01,\n",
       "         1.7225e-01, -5.1022e-02,  9.0963e-02,  1.5743e-01, -1.0394e-01,\n",
       "         6.6371e-02,  2.7204e-01,  2.8062e-01,  6.6297e-02,  5.1085e-02,\n",
       "         2.8689e-01,  2.5139e-01,  2.6686e-01,  2.0641e-02,  3.6250e-01,\n",
       "         3.6866e-01,  4.0685e-01,  1.1954e-01,  2.1561e-01,  6.0910e-02,\n",
       "         1.5004e-01,  1.5057e-01,  3.7448e-01,  1.0915e-01,  1.4156e-01,\n",
       "         2.1527e-01,  4.1847e-02,  1.5305e-01,  6.8666e-02,  1.2266e-01,\n",
       "         1.0595e-01,  1.3700e-01,  3.4496e-01,  2.4085e-01,  1.2366e-01,\n",
       "         2.9160e-01,  1.7664e-01,  1.8751e-01,  1.7910e-01,  2.3803e-01,\n",
       "         1.6303e-01,  1.1246e-01,  1.7117e-01,  2.2507e-02,  1.7902e-01,\n",
       "         1.8558e-01,  5.6754e-01,  2.7439e-01,  2.0246e-01,  2.5925e-01,\n",
       "         3.9199e-01,  2.5715e-01,  2.1136e-01,  3.8558e-01,  3.5508e-01,\n",
       "         4.8848e-01,  5.4757e-02,  1.0850e-01,  2.6993e-01,  4.9498e-02,\n",
       "         4.5138e-01,  9.5074e-02,  2.9431e-01,  1.3530e-01, -1.1836e-03,\n",
       "         5.0004e-02,  1.8659e-01,  2.8313e-02,  1.8453e-01, -1.7162e-02,\n",
       "         1.9650e-01,  7.0701e-02,  2.4818e-01,  2.5629e-01,  9.6746e-02,\n",
       "         2.9889e-01,  1.5449e-01,  1.3243e-01,  1.7472e-01,  1.3370e-01],\n",
       "       device='cuda:0')"
      ]
     },
     "execution_count": 13,
     "metadata": {},
     "output_type": "execute_result"
    }
   ],
   "source": [
    "hidden_layer_forward_error_mean"
   ]
  },
  {
   "cell_type": "code",
   "execution_count": 14,
   "metadata": {},
   "outputs": [
    {
     "data": {
      "text/plain": [
       "<matplotlib.image.AxesImage at 0x2ae95bd29b50>"
      ]
     },
     "execution_count": 14,
     "metadata": {},
     "output_type": "execute_result"
    },
    {
     "data": {
      "image/png": "[encoded data removed]",
      "text/plain": [
       "<Figure size 432x288 with 1 Axes>"
      ]
     },
     "metadata": {
      "needs_background": "light"
     },
     "output_type": "display_data"
    }
   ],
   "source": [
    "plt.imshow(torch2numpy(hidden_layer_forward_error_corr/ (500 * 20))[:50,:50])"
   ]
  },
  {
   "cell_type": "code",
   "execution_count": 15,
   "metadata": {},
   "outputs": [
    {
     "data": {
      "text/plain": [
       "0.993"
      ]
     },
     "execution_count": 15,
     "metadata": {},
     "output_type": "execute_result"
    }
   ],
   "source": [
    "(np.diag(torch2numpy(hidden_layer_forward_error_corr)) > epsilon).sum() / hidden_size"
   ]
  },
  {
   "cell_type": "code",
   "execution_count": 30,
   "metadata": {},
   "outputs": [
    {
     "data": {
      "text/plain": [
       "0.475"
      ]
     },
     "execution_count": 30,
     "metadata": {},
     "output_type": "execute_result"
    }
   ],
   "source": [
    "(np.linalg.eig(torch2numpy(hidden_layer_forward_error_corr))[0] < epsilon).sum() / hidden_size"
   ]
  },
  {
   "cell_type": "code",
   "execution_count": 29,
   "metadata": {},
   "outputs": [
    {
     "data": {
      "text/plain": [
       "0.71"
      ]
     },
     "execution_count": 29,
     "metadata": {},
     "output_type": "execute_result"
    }
   ],
   "source": [
    "(np.linalg.eig(torch2numpy(hidden_layer_backward_error_corr ))[0] < epsilon).sum() / hidden_size"
   ]
  },
  {
   "cell_type": "code",
   "execution_count": 27,
   "metadata": {},
   "outputs": [
    {
     "data": {
      "image/png": "[encoded data removed]",
      "text/plain": [
       "<Figure size 504x504 with 1 Axes>"
      ]
     },
     "metadata": {
      "needs_background": "light"
     },
     "output_type": "display_data"
    }
   ],
   "source": [
    "plt.figure(figsize = (7,7))\n",
    "plt.semilogy(np.linalg.eig(torch2numpy(hidden_layer_backward_error_corr ))[0])\n",
    "plt.axhline(y=0.15, color='r', linestyle='-')\n",
    "plt.grid()\n",
    "plt.ylabel(\"Eigenvalues\", fontsize =  20)\n",
    "plt.xticks(fontsize=20)\n",
    "plt.yticks(fontsize=20)\n",
    "plt.title(\"Backward Error Eigenvalues\", fontsize =  20)\n",
    "plt.show()"
   ]
  },
  {
   "cell_type": "code",
   "execution_count": 28,
   "metadata": {},
   "outputs": [
    {
     "data": {
      "image/png": "[encoded data removed]",
      "text/plain": [
       "<Figure size 504x504 with 1 Axes>"
      ]
     },
     "metadata": {
      "needs_background": "light"
     },
     "output_type": "display_data"
    }
   ],
   "source": [
    "plt.figure(figsize = (7,7))\n",
    "plt.semilogy(np.linalg.eig(torch2numpy(hidden_layer_forward_error_corr ))[0])\n",
    "plt.axhline(y=0.15, color='r', linestyle='-')\n",
    "plt.grid()\n",
    "plt.ylabel(\"Eigenvalues\", fontsize =  20)\n",
    "plt.title(\"Forward Error Eigenvalues\", fontsize =  20)\n",
    "plt.xticks(fontsize=20)\n",
    "plt.yticks(fontsize=20)\n",
    "plt.show()"
   ]
  },
  {
   "cell_type": "code",
   "execution_count": 38,
   "metadata": {},
   "outputs": [
    {
     "data": {
      "text/plain": [
       "tensor(-1741.5056, device='cuda:0')"
      ]
     },
     "execution_count": 38,
     "metadata": {},
     "output_type": "execute_result"
    }
   ],
   "source": [
    "torch.logdet(hidden_layer_backward_error_corr + epsilon * torch.eye(hidden_size).to(device))"
   ]
  },
  {
   "cell_type": "code",
   "execution_count": 37,
   "metadata": {},
   "outputs": [
    {
     "data": {
      "text/plain": [
       "tensor(0.2993, device='cuda:0')"
      ]
     },
     "execution_count": 37,
     "metadata": {},
     "output_type": "execute_result"
    }
   ],
   "source": [
    "(torch.logdet(hidden_layer_backward_error_corr + epsilon * torch.eye(hidden_size).to(device)) - (torch.logdet(epsilon * torch.eye(hidden_size).to(device)) + (1/epsilon) * torch.trace(hidden_layer_backward_error_corr)))/ torch.logdet(hidden_layer_backward_error_corr + epsilon * torch.eye(hidden_size).to(device))"
   ]
  },
  {
   "cell_type": "code",
   "execution_count": 40,
   "metadata": {},
   "outputs": [
    {
     "data": {
      "text/plain": [
       "tensor(3.0775, device='cuda:0')"
      ]
     },
     "execution_count": 40,
     "metadata": {},
     "output_type": "execute_result"
    }
   ],
   "source": [
    "(torch.logdet(hidden_layer_forward_error_corr + epsilon * torch.eye(hidden_size).to(device)) - (torch.logdet(epsilon * torch.eye(hidden_size).to(device)) + (1/epsilon) * torch.trace(hidden_layer_forward_error_corr)))/ torch.logdet(hidden_layer_forward_error_corr + epsilon * torch.eye(hidden_size).to(device))"
   ]
  },
  {
   "cell_type": "code",
   "execution_count": 44,
   "metadata": {},
   "outputs": [
    {
     "data": {
      "text/plain": [
       "tensor(3.0775, device='cuda:0')"
      ]
     },
     "execution_count": 44,
     "metadata": {},
     "output_type": "execute_result"
    }
   ],
   "source": [
    "(torch.logdet(hidden_layer_forward_error_corr + epsilon * torch.eye(hidden_size).to(device)) - (torch.logdet(epsilon * torch.eye(hidden_size)) + (1 / epsilon) * torch.trace(hidden_layer_forward_error_corr))) / torch.logdet(hidden_layer_forward_error_corr + epsilon * torch.eye(hidden_size).to(device))"
   ]
  },
  {
   "cell_type": "code",
   "execution_count": 45,
   "metadata": {},
   "outputs": [
    {
     "data": {
      "text/plain": [
       "tensor(-1553.8209, device='cuda:0')"
      ]
     },
     "execution_count": 45,
     "metadata": {},
     "output_type": "execute_result"
    }
   ],
   "source": [
    "torch.logdet(hidden_layer_forward_error_corr + epsilon * torch.eye(hidden_size).to(device))"
   ]
  },
  {
   "cell_type": "code",
   "execution_count": 46,
   "metadata": {},
   "outputs": [
    {
     "data": {
      "text/plain": [
       "tensor(-1897.1196)"
      ]
     },
     "execution_count": 46,
     "metadata": {},
     "output_type": "execute_result"
    }
   ],
   "source": [
    "torch.logdet(epsilon * torch.eye(hidden_size))"
   ]
  },
  {
   "cell_type": "code",
   "execution_count": 47,
   "metadata": {},
   "outputs": [
    {
     "data": {
      "text/plain": [
       "tensor(5125.2539, device='cuda:0')"
      ]
     },
     "execution_count": 47,
     "metadata": {},
     "output_type": "execute_result"
    }
   ],
   "source": [
    "(1 / epsilon) * torch.trace(hidden_layer_forward_error_corr)"
   ]
  },
  {
   "cell_type": "code",
   "execution_count": null,
   "metadata": {},
   "outputs": [],
   "source": [
    "(np.linalg.eig(torch2numpy(hidden_layer_forward_error_corr) - epsilon * np.eye(hidden_size,hidden_size))[0] > 0).sum() / hidden_size"
   ]
  },
  {
   "cell_type": "code",
   "execution_count": null,
   "metadata": {},
   "outputs": [],
   "source": [
    "layers_free = [x] + neurons\n",
    "forward_errors_free = [layers_free[jj + 1] - (model.Wff[jj]['weight'] @ layers_free[jj]) for jj in range(len(model.Wff))]\n",
    "\n",
    "backward_errors_free = [(layers_free[jj]) - (model.Wfb[jj]['weight'] @ layers_free[jj + 1]) for jj in range(1, len(model.Wfb))]"
   ]
  },
  {
   "cell_type": "code",
   "execution_count": null,
   "metadata": {},
   "outputs": [],
   "source": [
    "backward_errors_free[0].shape"
   ]
  },
  {
   "cell_type": "code",
   "execution_count": null,
   "metadata": {},
   "outputs": [],
   "source": [
    "x.shape"
   ]
  },
  {
   "cell_type": "code",
   "execution_count": null,
   "metadata": {},
   "outputs": [],
   "source": [
    "torch.sum(outer_prod_broadcasting(forward_errors_free[0].T, forward_errors_free[0].T), axis = 0).shape"
   ]
  },
  {
   "cell_type": "code",
   "execution_count": null,
   "metadata": {},
   "outputs": [],
   "source": [
    "backward_errors_free[0]"
   ]
  }
 ],
 "metadata": {
  "accelerator": "GPU",
  "colab": {
   "provenance": []
  },
  "gpuClass": "standard",
  "kernelspec": {
   "display_name": "Python 3 (ipykernel)",
   "language": "python",
   "name": "python3"
  },
  "language_info": {
   "codemirror_mode": {
    "name": "ipython",
    "version": 3
   },
   "file_extension": ".py",
   "mimetype": "text/x-python",
   "name": "python",
   "nbconvert_exporter": "python",
   "pygments_lexer": "ipython3",
   "version": "3.8.8"
  }
 },
 "nbformat": 4,
 "nbformat_minor": 1
}
