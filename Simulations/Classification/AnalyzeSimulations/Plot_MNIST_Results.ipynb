{
 "cells": [
  {
   "cell_type": "code",
   "execution_count": 1,
   "id": "2280b28e",
   "metadata": {},
   "outputs": [],
   "source": [
    "import sys\n",
    "sys.path.insert(0, '../Results')\n",
    "sys.path.insert(0, '../../../src')\n",
    "import pandas as pd\n",
    "import numpy as np\n",
    "import matplotlib.pyplot as plt\n",
    "import pickle\n",
    "import os\n",
    "from visualization import perc, SetPlotRC, ApplyFont"
   ]
  },
  {
   "cell_type": "markdown",
   "id": "033d0833",
   "metadata": {},
   "source": [
    "# CorInfoMax"
   ]
  },
  {
   "cell_type": "code",
   "execution_count": null,
   "id": "10adea3d",
   "metadata": {},
   "outputs": [],
   "source": []
  },
  {
   "cell_type": "markdown",
   "id": "d30147fd",
   "metadata": {},
   "source": [
    "# CSM"
   ]
  },
  {
   "cell_type": "code",
   "execution_count": 2,
   "id": "2c2acc0a",
   "metadata": {},
   "outputs": [
    {
     "data": {
      "text/plain": [
       "Index(['setting_number', 'seed', 'Model', 'Hyperparams', 'Trn_ACC_list',\n",
       "       'Tst_ACC_list'],\n",
       "      dtype='object')"
      ]
     },
     "execution_count": 2,
     "metadata": {},
     "output_type": "execute_result"
    }
   ],
   "source": [
    "df_results = pd.read_pickle(r\"../Results/simulation_results_CSM_MNIST.pkl\")\n",
    "df_results.columns"
   ]
  },
  {
   "cell_type": "code",
   "execution_count": 3,
   "id": "482eee4a",
   "metadata": {},
   "outputs": [
    {
     "data": {
      "text/html": [
       "<div>\n",
       "<style scoped>\n",
       "    .dataframe tbody tr th:only-of-type {\n",
       "        vertical-align: middle;\n",
       "    }\n",
       "\n",
       "    .dataframe tbody tr th {\n",
       "        vertical-align: top;\n",
       "    }\n",
       "\n",
       "    .dataframe thead th {\n",
       "        text-align: right;\n",
       "    }\n",
       "</style>\n",
       "<table border=\"1\" class=\"dataframe\">\n",
       "  <thead>\n",
       "    <tr style=\"text-align: right;\">\n",
       "      <th></th>\n",
       "      <th>setting_number</th>\n",
       "      <th>seed</th>\n",
       "      <th>Model</th>\n",
       "      <th>Hyperparams</th>\n",
       "      <th>Trn_ACC_list</th>\n",
       "      <th>Tst_ACC_list</th>\n",
       "      <th>Trn_ACC</th>\n",
       "      <th>Tst_ACC</th>\n",
       "    </tr>\n",
       "  </thead>\n",
       "  <tbody>\n",
       "    <tr>\n",
       "      <th>0</th>\n",
       "      <td>1</td>\n",
       "      <td>0</td>\n",
       "      <td>CSM</td>\n",
       "      <td>{'alphas_W': [0.5, 0.375], 'alphas_M': [-0.01]...</td>\n",
       "      <td>[0.9646833333333333, 0.9785166666666667, 0.981...</td>\n",
       "      <td>[0.9592, 0.9714, 0.9705, 0.9747, 0.9774, 0.976...</td>\n",
       "      <td>0.999967</td>\n",
       "      <td>0.9814</td>\n",
       "    </tr>\n",
       "    <tr>\n",
       "      <th>1</th>\n",
       "      <td>1</td>\n",
       "      <td>10</td>\n",
       "      <td>CSM</td>\n",
       "      <td>{'alphas_W': [0.5, 0.375], 'alphas_M': [-0.01]...</td>\n",
       "      <td>[0.9670166666666666, 0.97375, 0.98336666666666...</td>\n",
       "      <td>[0.9618, 0.9654, 0.9745, 0.9742, 0.9722, 0.972...</td>\n",
       "      <td>0.999850</td>\n",
       "      <td>0.9772</td>\n",
       "    </tr>\n",
       "    <tr>\n",
       "      <th>2</th>\n",
       "      <td>1</td>\n",
       "      <td>20</td>\n",
       "      <td>CSM</td>\n",
       "      <td>{'alphas_W': [0.5, 0.375], 'alphas_M': [-0.01]...</td>\n",
       "      <td>[0.9669833333333333, 0.9730833333333333, 0.979...</td>\n",
       "      <td>[0.9631, 0.9662, 0.9698, 0.9755, 0.9755, 0.973...</td>\n",
       "      <td>0.999883</td>\n",
       "      <td>0.9767</td>\n",
       "    </tr>\n",
       "    <tr>\n",
       "      <th>3</th>\n",
       "      <td>1</td>\n",
       "      <td>30</td>\n",
       "      <td>CSM</td>\n",
       "      <td>{'alphas_W': [0.5, 0.375], 'alphas_M': [-0.01]...</td>\n",
       "      <td>[0.9659833333333333, 0.9788333333333333, 0.981...</td>\n",
       "      <td>[0.962, 0.9703, 0.9724, 0.9754, 0.9757, 0.9731...</td>\n",
       "      <td>1.000000</td>\n",
       "      <td>0.9802</td>\n",
       "    </tr>\n",
       "    <tr>\n",
       "      <th>4</th>\n",
       "      <td>1</td>\n",
       "      <td>40</td>\n",
       "      <td>CSM</td>\n",
       "      <td>{'alphas_W': [0.5, 0.375], 'alphas_M': [-0.01]...</td>\n",
       "      <td>[0.9658, 0.97855, 0.981, 0.9852833333333333, 0...</td>\n",
       "      <td>[0.9599, 0.9713, 0.9715, 0.9735, 0.9788, 0.976...</td>\n",
       "      <td>0.999983</td>\n",
       "      <td>0.9784</td>\n",
       "    </tr>\n",
       "    <tr>\n",
       "      <th>5</th>\n",
       "      <td>1</td>\n",
       "      <td>50</td>\n",
       "      <td>CSM</td>\n",
       "      <td>{'alphas_W': [0.5, 0.375], 'alphas_M': [-0.01]...</td>\n",
       "      <td>[0.9687333333333333, 0.97565, 0.98313333333333...</td>\n",
       "      <td>[0.965, 0.966, 0.9726, 0.9727, 0.9768, 0.976, ...</td>\n",
       "      <td>0.997100</td>\n",
       "      <td>0.9750</td>\n",
       "    </tr>\n",
       "    <tr>\n",
       "      <th>6</th>\n",
       "      <td>1</td>\n",
       "      <td>60</td>\n",
       "      <td>CSM</td>\n",
       "      <td>{'alphas_W': [0.5, 0.375], 'alphas_M': [-0.01]...</td>\n",
       "      <td>[0.9622833333333334, 0.9785, 0.981633333333333...</td>\n",
       "      <td>[0.9557, 0.9694, 0.9704, 0.9752, 0.9772, 0.975...</td>\n",
       "      <td>0.999833</td>\n",
       "      <td>0.9783</td>\n",
       "    </tr>\n",
       "    <tr>\n",
       "      <th>7</th>\n",
       "      <td>1</td>\n",
       "      <td>70</td>\n",
       "      <td>CSM</td>\n",
       "      <td>{'alphas_W': [0.5, 0.375], 'alphas_M': [-0.01]...</td>\n",
       "      <td>[0.96395, 0.9721333333333333, 0.98156666666666...</td>\n",
       "      <td>[0.9598, 0.9643, 0.9724, 0.9658, 0.972, 0.9763...</td>\n",
       "      <td>0.098717</td>\n",
       "      <td>0.0980</td>\n",
       "    </tr>\n",
       "    <tr>\n",
       "      <th>8</th>\n",
       "      <td>1</td>\n",
       "      <td>80</td>\n",
       "      <td>CSM</td>\n",
       "      <td>{'alphas_W': [0.5, 0.375], 'alphas_M': [-0.01]...</td>\n",
       "      <td>[0.9628333333333333, 0.9753333333333334, 0.979...</td>\n",
       "      <td>[0.9565, 0.9694, 0.9689, 0.9737, 0.9735, 0.969...</td>\n",
       "      <td>0.999983</td>\n",
       "      <td>0.9821</td>\n",
       "    </tr>\n",
       "    <tr>\n",
       "      <th>9</th>\n",
       "      <td>1</td>\n",
       "      <td>90</td>\n",
       "      <td>CSM</td>\n",
       "      <td>{'alphas_W': [0.5, 0.375], 'alphas_M': [-0.01]...</td>\n",
       "      <td>[0.96505, 0.9754333333333334, 0.98311666666666...</td>\n",
       "      <td>[0.9607, 0.9672, 0.9738, 0.9728, 0.9694, 0.974...</td>\n",
       "      <td>0.999600</td>\n",
       "      <td>0.9792</td>\n",
       "    </tr>\n",
       "  </tbody>\n",
       "</table>\n",
       "</div>"
      ],
      "text/plain": [
       "  setting_number seed Model  \\\n",
       "0              1    0   CSM   \n",
       "1              1   10   CSM   \n",
       "2              1   20   CSM   \n",
       "3              1   30   CSM   \n",
       "4              1   40   CSM   \n",
       "5              1   50   CSM   \n",
       "6              1   60   CSM   \n",
       "7              1   70   CSM   \n",
       "8              1   80   CSM   \n",
       "9              1   90   CSM   \n",
       "\n",
       "                                         Hyperparams  \\\n",
       "0  {'alphas_W': [0.5, 0.375], 'alphas_M': [-0.01]...   \n",
       "1  {'alphas_W': [0.5, 0.375], 'alphas_M': [-0.01]...   \n",
       "2  {'alphas_W': [0.5, 0.375], 'alphas_M': [-0.01]...   \n",
       "3  {'alphas_W': [0.5, 0.375], 'alphas_M': [-0.01]...   \n",
       "4  {'alphas_W': [0.5, 0.375], 'alphas_M': [-0.01]...   \n",
       "5  {'alphas_W': [0.5, 0.375], 'alphas_M': [-0.01]...   \n",
       "6  {'alphas_W': [0.5, 0.375], 'alphas_M': [-0.01]...   \n",
       "7  {'alphas_W': [0.5, 0.375], 'alphas_M': [-0.01]...   \n",
       "8  {'alphas_W': [0.5, 0.375], 'alphas_M': [-0.01]...   \n",
       "9  {'alphas_W': [0.5, 0.375], 'alphas_M': [-0.01]...   \n",
       "\n",
       "                                        Trn_ACC_list  \\\n",
       "0  [0.9646833333333333, 0.9785166666666667, 0.981...   \n",
       "1  [0.9670166666666666, 0.97375, 0.98336666666666...   \n",
       "2  [0.9669833333333333, 0.9730833333333333, 0.979...   \n",
       "3  [0.9659833333333333, 0.9788333333333333, 0.981...   \n",
       "4  [0.9658, 0.97855, 0.981, 0.9852833333333333, 0...   \n",
       "5  [0.9687333333333333, 0.97565, 0.98313333333333...   \n",
       "6  [0.9622833333333334, 0.9785, 0.981633333333333...   \n",
       "7  [0.96395, 0.9721333333333333, 0.98156666666666...   \n",
       "8  [0.9628333333333333, 0.9753333333333334, 0.979...   \n",
       "9  [0.96505, 0.9754333333333334, 0.98311666666666...   \n",
       "\n",
       "                                        Tst_ACC_list   Trn_ACC  Tst_ACC  \n",
       "0  [0.9592, 0.9714, 0.9705, 0.9747, 0.9774, 0.976...  0.999967   0.9814  \n",
       "1  [0.9618, 0.9654, 0.9745, 0.9742, 0.9722, 0.972...  0.999850   0.9772  \n",
       "2  [0.9631, 0.9662, 0.9698, 0.9755, 0.9755, 0.973...  0.999883   0.9767  \n",
       "3  [0.962, 0.9703, 0.9724, 0.9754, 0.9757, 0.9731...  1.000000   0.9802  \n",
       "4  [0.9599, 0.9713, 0.9715, 0.9735, 0.9788, 0.976...  0.999983   0.9784  \n",
       "5  [0.965, 0.966, 0.9726, 0.9727, 0.9768, 0.976, ...  0.997100   0.9750  \n",
       "6  [0.9557, 0.9694, 0.9704, 0.9752, 0.9772, 0.975...  0.999833   0.9783  \n",
       "7  [0.9598, 0.9643, 0.9724, 0.9658, 0.972, 0.9763...  0.098717   0.0980  \n",
       "8  [0.9565, 0.9694, 0.9689, 0.9737, 0.9735, 0.969...  0.999983   0.9821  \n",
       "9  [0.9607, 0.9672, 0.9738, 0.9728, 0.9694, 0.974...  0.999600   0.9792  "
      ]
     },
     "execution_count": 3,
     "metadata": {},
     "output_type": "execute_result"
    }
   ],
   "source": [
    "df_results['Trn_ACC'] = df_results.apply(lambda row: row['Trn_ACC_list'][-1], axis = 1)\n",
    "df_results['Tst_ACC'] = df_results.apply(lambda row: row['Tst_ACC_list'][-1], axis = 1)\n",
    "df_results"
   ]
  },
  {
   "cell_type": "code",
   "execution_count": 4,
   "id": "2626c42e",
   "metadata": {},
   "outputs": [
    {
     "data": {
      "text/html": [
       "<div>\n",
       "<style scoped>\n",
       "    .dataframe tbody tr th:only-of-type {\n",
       "        vertical-align: middle;\n",
       "    }\n",
       "\n",
       "    .dataframe tbody tr th {\n",
       "        vertical-align: top;\n",
       "    }\n",
       "\n",
       "    .dataframe thead th {\n",
       "        text-align: right;\n",
       "    }\n",
       "</style>\n",
       "<table border=\"1\" class=\"dataframe\">\n",
       "  <thead>\n",
       "    <tr style=\"text-align: right;\">\n",
       "      <th></th>\n",
       "      <th>setting_number</th>\n",
       "      <th>Trn_ACC</th>\n",
       "      <th>Tst_ACC</th>\n",
       "    </tr>\n",
       "  </thead>\n",
       "  <tbody>\n",
       "    <tr>\n",
       "      <th>0</th>\n",
       "      <td>1</td>\n",
       "      <td>0.909492</td>\n",
       "      <td>0.89065</td>\n",
       "    </tr>\n",
       "  </tbody>\n",
       "</table>\n",
       "</div>"
      ],
      "text/plain": [
       "   setting_number   Trn_ACC  Tst_ACC\n",
       "0               1  0.909492  0.89065"
      ]
     },
     "execution_count": 4,
     "metadata": {},
     "output_type": "execute_result"
    }
   ],
   "source": [
    "df_setting = df_results[['setting_number', 'Trn_ACC', 'Tst_ACC']].groupby('setting_number').mean().reset_index()\n",
    "df_setting"
   ]
  },
  {
   "cell_type": "code",
   "execution_count": 5,
   "id": "a6a97fb1",
   "metadata": {},
   "outputs": [
    {
     "data": {
      "text/plain": [
       "1.0"
      ]
     },
     "execution_count": 5,
     "metadata": {},
     "output_type": "execute_result"
    }
   ],
   "source": [
    "best_setting = df_setting.iloc[df_setting['Trn_ACC'].argmin()]['setting_number']\n",
    "best_setting"
   ]
  },
  {
   "cell_type": "code",
   "execution_count": 6,
   "id": "2644cf68",
   "metadata": {},
   "outputs": [
    {
     "name": "stderr",
     "output_type": "stream",
     "text": [
      "findfont: Font family ['Times New Roman'] not found. Falling back to DejaVu Sans.\n",
      "findfont: Font family ['Times New Roman'] not found. Falling back to DejaVu Sans.\n"
     ]
    },
    {
     "data": {
      "image/png": "[encoded data removed]",
      "text/plain": [
       "<Figure size 800x480 with 1 Axes>"
      ]
     },
     "metadata": {
      "needs_background": "light"
     },
     "output_type": "display_data"
    }
   ],
   "source": [
    "data = np.stack(df_results.loc[df_results[\"setting_number\"] == best_setting]['Tst_ACC_list'].apply(lambda row: np.array(row)).to_numpy(), axis = 0)\n",
    "\n",
    "# compute the mean, 25/75 percentiles, and standard deviation\n",
    "mean_, perc_25, perc_75, std_data = perc(data)\n",
    "\n",
    "x = np.arange(1, mean_.shape[0]+1)\n",
    "fh2=plt.figure(figsize=(10, 6), dpi=80)\n",
    "plt.plot(x, mean_, linewidth=4, color='#006BB2')\n",
    "plt.fill_between(x, perc_25, perc_75, alpha=0.25, linewidth=0, color='#006BB2')\n",
    "\n",
    "\n",
    "gh=plt.grid(linewidth=2)\n",
    "plt.xticks(fontsize=20)\n",
    "plt.yticks(fontsize=20)\n",
    "plt.ylabel('Test Accuracy',fontsize=25)\n",
    "plt.xlabel(r\"Number of Epochs\",fontsize=25)\n",
    "plt.title(\"\")\n",
    "plt.axis([0.0,50,mean_[0] - 0.01,0.985])\n",
    "ApplyFont(plt.gca())"
   ]
  },
  {
   "cell_type": "markdown",
   "id": "9787a039",
   "metadata": {},
   "source": [
    "# EP"
   ]
  },
  {
   "cell_type": "code",
   "execution_count": 7,
   "id": "d8524e23",
   "metadata": {},
   "outputs": [
    {
     "data": {
      "text/plain": [
       "Index(['setting_number', 'seed', 'Model', 'Hyperparams', 'Trn_ACC_list',\n",
       "       'Tst_ACC_list'],\n",
       "      dtype='object')"
      ]
     },
     "execution_count": 7,
     "metadata": {},
     "output_type": "execute_result"
    }
   ],
   "source": [
    "df_results = pd.read_pickle(r\"../Results/simulation_results_EP_MNIST.pkl\")\n",
    "df_results.columns"
   ]
  },
  {
   "cell_type": "code",
   "execution_count": 8,
   "id": "a59cd866",
   "metadata": {},
   "outputs": [
    {
     "data": {
      "text/html": [
       "<div>\n",
       "<style scoped>\n",
       "    .dataframe tbody tr th:only-of-type {\n",
       "        vertical-align: middle;\n",
       "    }\n",
       "\n",
       "    .dataframe tbody tr th {\n",
       "        vertical-align: top;\n",
       "    }\n",
       "\n",
       "    .dataframe thead th {\n",
       "        text-align: right;\n",
       "    }\n",
       "</style>\n",
       "<table border=\"1\" class=\"dataframe\">\n",
       "  <thead>\n",
       "    <tr style=\"text-align: right;\">\n",
       "      <th></th>\n",
       "      <th>setting_number</th>\n",
       "      <th>seed</th>\n",
       "      <th>Model</th>\n",
       "      <th>Hyperparams</th>\n",
       "      <th>Trn_ACC_list</th>\n",
       "      <th>Tst_ACC_list</th>\n",
       "      <th>Trn_ACC</th>\n",
       "      <th>Tst_ACC</th>\n",
       "    </tr>\n",
       "  </thead>\n",
       "  <tbody>\n",
       "    <tr>\n",
       "      <th>0</th>\n",
       "      <td>1</td>\n",
       "      <td>0</td>\n",
       "      <td>EP</td>\n",
       "      <td>{'alphas_W': [0.1, 0.05], 'T1': 20, 'T2': 4, '...</td>\n",
       "      <td>[0.9564333333333334, 0.9715833333333334, 0.981...</td>\n",
       "      <td>[0.9511, 0.9621, 0.9701, 0.9716, 0.9732, 0.973...</td>\n",
       "      <td>0.999800</td>\n",
       "      <td>0.9752</td>\n",
       "    </tr>\n",
       "    <tr>\n",
       "      <th>1</th>\n",
       "      <td>1</td>\n",
       "      <td>10</td>\n",
       "      <td>EP</td>\n",
       "      <td>{'alphas_W': [0.1, 0.05], 'T1': 20, 'T2': 4, '...</td>\n",
       "      <td>[0.9576, 0.9675166666666667, 0.9777, 0.9851333...</td>\n",
       "      <td>[0.9522, 0.9592, 0.9664, 0.9719, 0.972, 0.9728...</td>\n",
       "      <td>1.000000</td>\n",
       "      <td>0.9757</td>\n",
       "    </tr>\n",
       "    <tr>\n",
       "      <th>2</th>\n",
       "      <td>1</td>\n",
       "      <td>20</td>\n",
       "      <td>EP</td>\n",
       "      <td>{'alphas_W': [0.1, 0.05], 'T1': 20, 'T2': 4, '...</td>\n",
       "      <td>[0.9533166666666667, 0.9724666666666667, 0.979...</td>\n",
       "      <td>[0.9455, 0.965, 0.9699, 0.9738, 0.9729, 0.9747...</td>\n",
       "      <td>0.999983</td>\n",
       "      <td>0.9776</td>\n",
       "    </tr>\n",
       "    <tr>\n",
       "      <th>3</th>\n",
       "      <td>1</td>\n",
       "      <td>30</td>\n",
       "      <td>EP</td>\n",
       "      <td>{'alphas_W': [0.1, 0.05], 'T1': 20, 'T2': 4, '...</td>\n",
       "      <td>[0.9569166666666666, 0.9715833333333334, 0.981...</td>\n",
       "      <td>[0.9523, 0.9629, 0.9696, 0.9687, 0.9691, 0.973...</td>\n",
       "      <td>0.999567</td>\n",
       "      <td>0.9752</td>\n",
       "    </tr>\n",
       "    <tr>\n",
       "      <th>4</th>\n",
       "      <td>1</td>\n",
       "      <td>40</td>\n",
       "      <td>EP</td>\n",
       "      <td>{'alphas_W': [0.1, 0.05], 'T1': 20, 'T2': 4, '...</td>\n",
       "      <td>[0.9607666666666667, 0.9740333333333333, 0.979...</td>\n",
       "      <td>[0.9556, 0.9642, 0.9669, 0.9707, 0.9705, 0.973...</td>\n",
       "      <td>0.999967</td>\n",
       "      <td>0.9769</td>\n",
       "    </tr>\n",
       "    <tr>\n",
       "      <th>5</th>\n",
       "      <td>1</td>\n",
       "      <td>50</td>\n",
       "      <td>EP</td>\n",
       "      <td>{'alphas_W': [0.1, 0.05], 'T1': 20, 'T2': 4, '...</td>\n",
       "      <td>[0.9577166666666667, 0.9735, 0.978116666666666...</td>\n",
       "      <td>[0.9523, 0.9633, 0.967, 0.9731, 0.9721, 0.9733...</td>\n",
       "      <td>0.999800</td>\n",
       "      <td>0.9756</td>\n",
       "    </tr>\n",
       "    <tr>\n",
       "      <th>6</th>\n",
       "      <td>1</td>\n",
       "      <td>60</td>\n",
       "      <td>EP</td>\n",
       "      <td>{'alphas_W': [0.1, 0.05], 'T1': 20, 'T2': 4, '...</td>\n",
       "      <td>[0.95725, 0.9740333333333333, 0.97928333333333...</td>\n",
       "      <td>[0.9498, 0.9657, 0.9693, 0.9689, 0.9716, 0.974...</td>\n",
       "      <td>1.000000</td>\n",
       "      <td>0.9760</td>\n",
       "    </tr>\n",
       "  </tbody>\n",
       "</table>\n",
       "</div>"
      ],
      "text/plain": [
       "  setting_number seed Model  \\\n",
       "0              1    0    EP   \n",
       "1              1   10    EP   \n",
       "2              1   20    EP   \n",
       "3              1   30    EP   \n",
       "4              1   40    EP   \n",
       "5              1   50    EP   \n",
       "6              1   60    EP   \n",
       "\n",
       "                                         Hyperparams  \\\n",
       "0  {'alphas_W': [0.1, 0.05], 'T1': 20, 'T2': 4, '...   \n",
       "1  {'alphas_W': [0.1, 0.05], 'T1': 20, 'T2': 4, '...   \n",
       "2  {'alphas_W': [0.1, 0.05], 'T1': 20, 'T2': 4, '...   \n",
       "3  {'alphas_W': [0.1, 0.05], 'T1': 20, 'T2': 4, '...   \n",
       "4  {'alphas_W': [0.1, 0.05], 'T1': 20, 'T2': 4, '...   \n",
       "5  {'alphas_W': [0.1, 0.05], 'T1': 20, 'T2': 4, '...   \n",
       "6  {'alphas_W': [0.1, 0.05], 'T1': 20, 'T2': 4, '...   \n",
       "\n",
       "                                        Trn_ACC_list  \\\n",
       "0  [0.9564333333333334, 0.9715833333333334, 0.981...   \n",
       "1  [0.9576, 0.9675166666666667, 0.9777, 0.9851333...   \n",
       "2  [0.9533166666666667, 0.9724666666666667, 0.979...   \n",
       "3  [0.9569166666666666, 0.9715833333333334, 0.981...   \n",
       "4  [0.9607666666666667, 0.9740333333333333, 0.979...   \n",
       "5  [0.9577166666666667, 0.9735, 0.978116666666666...   \n",
       "6  [0.95725, 0.9740333333333333, 0.97928333333333...   \n",
       "\n",
       "                                        Tst_ACC_list   Trn_ACC  Tst_ACC  \n",
       "0  [0.9511, 0.9621, 0.9701, 0.9716, 0.9732, 0.973...  0.999800   0.9752  \n",
       "1  [0.9522, 0.9592, 0.9664, 0.9719, 0.972, 0.9728...  1.000000   0.9757  \n",
       "2  [0.9455, 0.965, 0.9699, 0.9738, 0.9729, 0.9747...  0.999983   0.9776  \n",
       "3  [0.9523, 0.9629, 0.9696, 0.9687, 0.9691, 0.973...  0.999567   0.9752  \n",
       "4  [0.9556, 0.9642, 0.9669, 0.9707, 0.9705, 0.973...  0.999967   0.9769  \n",
       "5  [0.9523, 0.9633, 0.967, 0.9731, 0.9721, 0.9733...  0.999800   0.9756  \n",
       "6  [0.9498, 0.9657, 0.9693, 0.9689, 0.9716, 0.974...  1.000000   0.9760  "
      ]
     },
     "execution_count": 8,
     "metadata": {},
     "output_type": "execute_result"
    }
   ],
   "source": [
    "df_results['Trn_ACC'] = df_results.apply(lambda row: row['Trn_ACC_list'][-1], axis = 1)\n",
    "df_results['Tst_ACC'] = df_results.apply(lambda row: row['Tst_ACC_list'][-1], axis = 1)\n",
    "df_results"
   ]
  },
  {
   "cell_type": "code",
   "execution_count": 9,
   "id": "1977f8bf",
   "metadata": {},
   "outputs": [
    {
     "data": {
      "text/html": [
       "<div>\n",
       "<style scoped>\n",
       "    .dataframe tbody tr th:only-of-type {\n",
       "        vertical-align: middle;\n",
       "    }\n",
       "\n",
       "    .dataframe tbody tr th {\n",
       "        vertical-align: top;\n",
       "    }\n",
       "\n",
       "    .dataframe thead th {\n",
       "        text-align: right;\n",
       "    }\n",
       "</style>\n",
       "<table border=\"1\" class=\"dataframe\">\n",
       "  <thead>\n",
       "    <tr style=\"text-align: right;\">\n",
       "      <th></th>\n",
       "      <th>setting_number</th>\n",
       "      <th>Trn_ACC</th>\n",
       "      <th>Tst_ACC</th>\n",
       "    </tr>\n",
       "  </thead>\n",
       "  <tbody>\n",
       "    <tr>\n",
       "      <th>0</th>\n",
       "      <td>1</td>\n",
       "      <td>0.999874</td>\n",
       "      <td>0.976029</td>\n",
       "    </tr>\n",
       "  </tbody>\n",
       "</table>\n",
       "</div>"
      ],
      "text/plain": [
       "   setting_number   Trn_ACC   Tst_ACC\n",
       "0               1  0.999874  0.976029"
      ]
     },
     "execution_count": 9,
     "metadata": {},
     "output_type": "execute_result"
    }
   ],
   "source": [
    "df_setting = df_results[['setting_number', 'Trn_ACC', 'Tst_ACC']].groupby('setting_number').mean().reset_index()\n",
    "df_setting"
   ]
  },
  {
   "cell_type": "code",
   "execution_count": 10,
   "id": "4a82170a",
   "metadata": {},
   "outputs": [
    {
     "data": {
      "text/plain": [
       "1.0"
      ]
     },
     "execution_count": 10,
     "metadata": {},
     "output_type": "execute_result"
    }
   ],
   "source": [
    "best_setting = df_setting.iloc[df_setting['Trn_ACC'].argmin()]['setting_number']\n",
    "best_setting"
   ]
  },
  {
   "cell_type": "code",
   "execution_count": 11,
   "id": "8f757eac",
   "metadata": {},
   "outputs": [
    {
     "data": {
      "image/png": "[encoded data removed]",
      "text/plain": [
       "<Figure size 800x480 with 1 Axes>"
      ]
     },
     "metadata": {
      "needs_background": "light"
     },
     "output_type": "display_data"
    }
   ],
   "source": [
    "data = np.stack(df_results.loc[df_results[\"setting_number\"] == best_setting]['Tst_ACC_list'].apply(lambda row: np.array(row)).to_numpy(), axis = 0)\n",
    "\n",
    "# compute the mean, 25/75 percentiles, and standard deviation\n",
    "mean_, perc_25, perc_75, std_data = perc(data)\n",
    "\n",
    "x = np.arange(1, mean_.shape[0]+1)\n",
    "fh2=plt.figure(figsize=(10, 6), dpi=80)\n",
    "plt.plot(x, mean_, linewidth=4, color='#006BB2')\n",
    "plt.fill_between(x, perc_25, perc_75, alpha=0.25, linewidth=0, color='#006BB2')\n",
    "\n",
    "\n",
    "gh=plt.grid(linewidth=2)\n",
    "plt.xticks(fontsize=20)\n",
    "plt.yticks(fontsize=20)\n",
    "plt.ylabel('Test Accuracy',fontsize=25)\n",
    "plt.xlabel(r\"Number of Epochs\",fontsize=25)\n",
    "plt.title(\"\")\n",
    "plt.axis([0.0,50,mean_[0] - 0.01,0.985])\n",
    "ApplyFont(plt.gca())"
   ]
  },
  {
   "cell_type": "markdown",
   "id": "c07c43c4",
   "metadata": {},
   "source": [
    "# EP-Continual-Weight-Update"
   ]
  },
  {
   "cell_type": "code",
   "execution_count": null,
   "id": "444278a9",
   "metadata": {},
   "outputs": [],
   "source": []
  },
  {
   "cell_type": "markdown",
   "id": "64ad08c9",
   "metadata": {},
   "source": [
    "# PC"
   ]
  },
  {
   "cell_type": "code",
   "execution_count": 12,
   "id": "328e53cc",
   "metadata": {},
   "outputs": [
    {
     "data": {
      "text/plain": [
       "Index(['setting_number', 'seed', 'Model', 'Hyperparams', 'Trn_ACC_list',\n",
       "       'Tst_ACC_list'],\n",
       "      dtype='object')"
      ]
     },
     "execution_count": 12,
     "metadata": {},
     "output_type": "execute_result"
    }
   ],
   "source": [
    "df_results = pd.read_pickle(r\"../Results/simulation_results_PC_MNIST.pkl\")\n",
    "df_results.columns"
   ]
  },
  {
   "cell_type": "code",
   "execution_count": 13,
   "id": "b68bf6f8",
   "metadata": {},
   "outputs": [
    {
     "data": {
      "text/html": [
       "<div>\n",
       "<style scoped>\n",
       "    .dataframe tbody tr th:only-of-type {\n",
       "        vertical-align: middle;\n",
       "    }\n",
       "\n",
       "    .dataframe tbody tr th {\n",
       "        vertical-align: top;\n",
       "    }\n",
       "\n",
       "    .dataframe thead th {\n",
       "        text-align: right;\n",
       "    }\n",
       "</style>\n",
       "<table border=\"1\" class=\"dataframe\">\n",
       "  <thead>\n",
       "    <tr style=\"text-align: right;\">\n",
       "      <th></th>\n",
       "      <th>setting_number</th>\n",
       "      <th>seed</th>\n",
       "      <th>Model</th>\n",
       "      <th>Hyperparams</th>\n",
       "      <th>Trn_ACC_list</th>\n",
       "      <th>Tst_ACC_list</th>\n",
       "      <th>Trn_ACC</th>\n",
       "      <th>Tst_ACC</th>\n",
       "    </tr>\n",
       "  </thead>\n",
       "  <tbody>\n",
       "    <tr>\n",
       "      <th>0</th>\n",
       "      <td>1</td>\n",
       "      <td>0</td>\n",
       "      <td>PC</td>\n",
       "      <td>{'lr': 0.001, 'neural_lr_start': 0.1, 'neural_...</td>\n",
       "      <td>[0.95445, 0.9674666666666667, 0.9774, 0.980816...</td>\n",
       "      <td>[0.9512, 0.9617, 0.9714, 0.9707, 0.9737, 0.965...</td>\n",
       "      <td>0.993433</td>\n",
       "      <td>0.9715</td>\n",
       "    </tr>\n",
       "    <tr>\n",
       "      <th>1</th>\n",
       "      <td>1</td>\n",
       "      <td>10</td>\n",
       "      <td>PC</td>\n",
       "      <td>{'lr': 0.001, 'neural_lr_start': 0.1, 'neural_...</td>\n",
       "      <td>[0.95625, 0.8117, 0.9392333333333334, 0.954833...</td>\n",
       "      <td>[0.9517, 0.8247, 0.9376, 0.9503, 0.9604, 0.966...</td>\n",
       "      <td>0.994400</td>\n",
       "      <td>0.9709</td>\n",
       "    </tr>\n",
       "    <tr>\n",
       "      <th>2</th>\n",
       "      <td>1</td>\n",
       "      <td>20</td>\n",
       "      <td>PC</td>\n",
       "      <td>{'lr': 0.001, 'neural_lr_start': 0.1, 'neural_...</td>\n",
       "      <td>[0.9468, 0.9684666666666667, 0.974533333333333...</td>\n",
       "      <td>[0.9403, 0.9628, 0.9687, 0.9732, 0.9744, 0.977...</td>\n",
       "      <td>0.995567</td>\n",
       "      <td>0.9759</td>\n",
       "    </tr>\n",
       "    <tr>\n",
       "      <th>3</th>\n",
       "      <td>1</td>\n",
       "      <td>30</td>\n",
       "      <td>PC</td>\n",
       "      <td>{'lr': 0.001, 'neural_lr_start': 0.1, 'neural_...</td>\n",
       "      <td>[0.9597, 0.9650666666666666, 0.976566666666666...</td>\n",
       "      <td>[0.9547, 0.9591, 0.9681, 0.97, 0.9731, 0.974, ...</td>\n",
       "      <td>0.987450</td>\n",
       "      <td>0.9670</td>\n",
       "    </tr>\n",
       "    <tr>\n",
       "      <th>4</th>\n",
       "      <td>1</td>\n",
       "      <td>40</td>\n",
       "      <td>PC</td>\n",
       "      <td>{'lr': 0.001, 'neural_lr_start': 0.1, 'neural_...</td>\n",
       "      <td>[0.9545333333333333, 0.8729833333333333, 0.948...</td>\n",
       "      <td>[0.9514, 0.877, 0.9472, 0.9549, 0.9598, 0.9624...</td>\n",
       "      <td>0.967350</td>\n",
       "      <td>0.9544</td>\n",
       "    </tr>\n",
       "  </tbody>\n",
       "</table>\n",
       "</div>"
      ],
      "text/plain": [
       "  setting_number seed Model  \\\n",
       "0              1    0    PC   \n",
       "1              1   10    PC   \n",
       "2              1   20    PC   \n",
       "3              1   30    PC   \n",
       "4              1   40    PC   \n",
       "\n",
       "                                         Hyperparams  \\\n",
       "0  {'lr': 0.001, 'neural_lr_start': 0.1, 'neural_...   \n",
       "1  {'lr': 0.001, 'neural_lr_start': 0.1, 'neural_...   \n",
       "2  {'lr': 0.001, 'neural_lr_start': 0.1, 'neural_...   \n",
       "3  {'lr': 0.001, 'neural_lr_start': 0.1, 'neural_...   \n",
       "4  {'lr': 0.001, 'neural_lr_start': 0.1, 'neural_...   \n",
       "\n",
       "                                        Trn_ACC_list  \\\n",
       "0  [0.95445, 0.9674666666666667, 0.9774, 0.980816...   \n",
       "1  [0.95625, 0.8117, 0.9392333333333334, 0.954833...   \n",
       "2  [0.9468, 0.9684666666666667, 0.974533333333333...   \n",
       "3  [0.9597, 0.9650666666666666, 0.976566666666666...   \n",
       "4  [0.9545333333333333, 0.8729833333333333, 0.948...   \n",
       "\n",
       "                                        Tst_ACC_list   Trn_ACC  Tst_ACC  \n",
       "0  [0.9512, 0.9617, 0.9714, 0.9707, 0.9737, 0.965...  0.993433   0.9715  \n",
       "1  [0.9517, 0.8247, 0.9376, 0.9503, 0.9604, 0.966...  0.994400   0.9709  \n",
       "2  [0.9403, 0.9628, 0.9687, 0.9732, 0.9744, 0.977...  0.995567   0.9759  \n",
       "3  [0.9547, 0.9591, 0.9681, 0.97, 0.9731, 0.974, ...  0.987450   0.9670  \n",
       "4  [0.9514, 0.877, 0.9472, 0.9549, 0.9598, 0.9624...  0.967350   0.9544  "
      ]
     },
     "execution_count": 13,
     "metadata": {},
     "output_type": "execute_result"
    }
   ],
   "source": [
    "df_results['Trn_ACC'] = df_results.apply(lambda row: row['Trn_ACC_list'][-1], axis = 1)\n",
    "df_results['Tst_ACC'] = df_results.apply(lambda row: row['Tst_ACC_list'][-1], axis = 1)\n",
    "df_results"
   ]
  },
  {
   "cell_type": "code",
   "execution_count": 14,
   "id": "99251c69",
   "metadata": {},
   "outputs": [
    {
     "data": {
      "text/html": [
       "<div>\n",
       "<style scoped>\n",
       "    .dataframe tbody tr th:only-of-type {\n",
       "        vertical-align: middle;\n",
       "    }\n",
       "\n",
       "    .dataframe tbody tr th {\n",
       "        vertical-align: top;\n",
       "    }\n",
       "\n",
       "    .dataframe thead th {\n",
       "        text-align: right;\n",
       "    }\n",
       "</style>\n",
       "<table border=\"1\" class=\"dataframe\">\n",
       "  <thead>\n",
       "    <tr style=\"text-align: right;\">\n",
       "      <th></th>\n",
       "      <th>setting_number</th>\n",
       "      <th>Trn_ACC</th>\n",
       "      <th>Tst_ACC</th>\n",
       "    </tr>\n",
       "  </thead>\n",
       "  <tbody>\n",
       "    <tr>\n",
       "      <th>0</th>\n",
       "      <td>1</td>\n",
       "      <td>0.98764</td>\n",
       "      <td>0.96794</td>\n",
       "    </tr>\n",
       "  </tbody>\n",
       "</table>\n",
       "</div>"
      ],
      "text/plain": [
       "   setting_number  Trn_ACC  Tst_ACC\n",
       "0               1  0.98764  0.96794"
      ]
     },
     "execution_count": 14,
     "metadata": {},
     "output_type": "execute_result"
    }
   ],
   "source": [
    "df_setting = df_results[['setting_number', 'Trn_ACC', 'Tst_ACC']].groupby('setting_number').mean().reset_index()\n",
    "df_setting"
   ]
  },
  {
   "cell_type": "code",
   "execution_count": 15,
   "id": "e073993d",
   "metadata": {},
   "outputs": [
    {
     "data": {
      "text/plain": [
       "1.0"
      ]
     },
     "execution_count": 15,
     "metadata": {},
     "output_type": "execute_result"
    }
   ],
   "source": [
    "best_setting = df_setting.iloc[df_setting['Trn_ACC'].argmin()]['setting_number']\n",
    "best_setting"
   ]
  },
  {
   "cell_type": "code",
   "execution_count": 16,
   "id": "90874b0b",
   "metadata": {},
   "outputs": [
    {
     "data": {
      "image/png": "[encoded data removed]",
      "text/plain": [
       "<Figure size 800x480 with 1 Axes>"
      ]
     },
     "metadata": {
      "needs_background": "light"
     },
     "output_type": "display_data"
    }
   ],
   "source": [
    "data = np.stack(df_results.loc[df_results[\"setting_number\"] == best_setting]['Tst_ACC_list'].apply(lambda row: np.array(row)).to_numpy(), axis = 0)\n",
    "\n",
    "# compute the mean, 25/75 percentiles, and standard deviation\n",
    "mean_, perc_25, perc_75, std_data = perc(data)\n",
    "\n",
    "x = np.arange(1, mean_.shape[0]+1)\n",
    "fh2=plt.figure(figsize=(10, 6), dpi=80)\n",
    "plt.plot(x, mean_, linewidth=4, color='#006BB2')\n",
    "plt.fill_between(x, perc_25, perc_75, alpha=0.25, linewidth=0, color='#006BB2')\n",
    "\n",
    "\n",
    "gh=plt.grid(linewidth=2)\n",
    "plt.xticks(fontsize=20)\n",
    "plt.yticks(fontsize=20)\n",
    "plt.ylabel('Test Accuracy',fontsize=25)\n",
    "plt.xlabel(r\"Number of Epochs\",fontsize=25)\n",
    "plt.title(\"\")\n",
    "plt.axis([0.0,50,mean_[0] - 0.01,0.985])\n",
    "ApplyFont(plt.gca())"
   ]
  },
  {
   "cell_type": "markdown",
   "id": "cb39b95c",
   "metadata": {},
   "source": [
    "# PC-Nudge"
   ]
  },
  {
   "cell_type": "code",
   "execution_count": 17,
   "id": "34bf1530",
   "metadata": {},
   "outputs": [
    {
     "data": {
      "text/plain": [
       "Index(['setting_number', 'seed', 'Model', 'Hyperparams', 'Trn_ACC_list',\n",
       "       'Tst_ACC_list'],\n",
       "      dtype='object')"
      ]
     },
     "execution_count": 17,
     "metadata": {},
     "output_type": "execute_result"
    }
   ],
   "source": [
    "df_results = pd.read_pickle(r\"../Results/simulation_results_PCNudge_MNIST.pkl\")\n",
    "df_results.columns"
   ]
  },
  {
   "cell_type": "code",
   "execution_count": 18,
   "id": "32ce693c",
   "metadata": {},
   "outputs": [
    {
     "data": {
      "text/html": [
       "<div>\n",
       "<style scoped>\n",
       "    .dataframe tbody tr th:only-of-type {\n",
       "        vertical-align: middle;\n",
       "    }\n",
       "\n",
       "    .dataframe tbody tr th {\n",
       "        vertical-align: top;\n",
       "    }\n",
       "\n",
       "    .dataframe thead th {\n",
       "        text-align: right;\n",
       "    }\n",
       "</style>\n",
       "<table border=\"1\" class=\"dataframe\">\n",
       "  <thead>\n",
       "    <tr style=\"text-align: right;\">\n",
       "      <th></th>\n",
       "      <th>setting_number</th>\n",
       "      <th>seed</th>\n",
       "      <th>Model</th>\n",
       "      <th>Hyperparams</th>\n",
       "      <th>Trn_ACC_list</th>\n",
       "      <th>Tst_ACC_list</th>\n",
       "      <th>Trn_ACC</th>\n",
       "      <th>Tst_ACC</th>\n",
       "    </tr>\n",
       "  </thead>\n",
       "  <tbody>\n",
       "    <tr>\n",
       "      <th>0</th>\n",
       "      <td>1</td>\n",
       "      <td>0</td>\n",
       "      <td>PCNudge</td>\n",
       "      <td>{'lr': 0.001, 'supervised_lambda_weight': 0.00...</td>\n",
       "      <td>[0.9395166666666667, 0.9529833333333333, 0.960...</td>\n",
       "      <td>[0.94, 0.9524, 0.9579, 0.9634, 0.9654, 0.9693,...</td>\n",
       "      <td>0.993933</td>\n",
       "      <td>0.9798</td>\n",
       "    </tr>\n",
       "  </tbody>\n",
       "</table>\n",
       "</div>"
      ],
      "text/plain": [
       "  setting_number seed    Model  \\\n",
       "0              1    0  PCNudge   \n",
       "\n",
       "                                         Hyperparams  \\\n",
       "0  {'lr': 0.001, 'supervised_lambda_weight': 0.00...   \n",
       "\n",
       "                                        Trn_ACC_list  \\\n",
       "0  [0.9395166666666667, 0.9529833333333333, 0.960...   \n",
       "\n",
       "                                        Tst_ACC_list   Trn_ACC  Tst_ACC  \n",
       "0  [0.94, 0.9524, 0.9579, 0.9634, 0.9654, 0.9693,...  0.993933   0.9798  "
      ]
     },
     "execution_count": 18,
     "metadata": {},
     "output_type": "execute_result"
    }
   ],
   "source": [
    "df_results['Trn_ACC'] = df_results.apply(lambda row: row['Trn_ACC_list'][-1], axis = 1)\n",
    "df_results['Tst_ACC'] = df_results.apply(lambda row: row['Tst_ACC_list'][-1], axis = 1)\n",
    "df_results"
   ]
  },
  {
   "cell_type": "code",
   "execution_count": 19,
   "id": "5d036022",
   "metadata": {},
   "outputs": [
    {
     "data": {
      "text/html": [
       "<div>\n",
       "<style scoped>\n",
       "    .dataframe tbody tr th:only-of-type {\n",
       "        vertical-align: middle;\n",
       "    }\n",
       "\n",
       "    .dataframe tbody tr th {\n",
       "        vertical-align: top;\n",
       "    }\n",
       "\n",
       "    .dataframe thead th {\n",
       "        text-align: right;\n",
       "    }\n",
       "</style>\n",
       "<table border=\"1\" class=\"dataframe\">\n",
       "  <thead>\n",
       "    <tr style=\"text-align: right;\">\n",
       "      <th></th>\n",
       "      <th>setting_number</th>\n",
       "      <th>Trn_ACC</th>\n",
       "      <th>Tst_ACC</th>\n",
       "    </tr>\n",
       "  </thead>\n",
       "  <tbody>\n",
       "    <tr>\n",
       "      <th>0</th>\n",
       "      <td>1</td>\n",
       "      <td>0.993933</td>\n",
       "      <td>0.9798</td>\n",
       "    </tr>\n",
       "  </tbody>\n",
       "</table>\n",
       "</div>"
      ],
      "text/plain": [
       "   setting_number   Trn_ACC  Tst_ACC\n",
       "0               1  0.993933   0.9798"
      ]
     },
     "execution_count": 19,
     "metadata": {},
     "output_type": "execute_result"
    }
   ],
   "source": [
    "df_setting = df_results[['setting_number', 'Trn_ACC', 'Tst_ACC']].groupby('setting_number').mean().reset_index()\n",
    "df_setting"
   ]
  },
  {
   "cell_type": "code",
   "execution_count": 20,
   "id": "528562d0",
   "metadata": {},
   "outputs": [
    {
     "data": {
      "text/plain": [
       "1.0"
      ]
     },
     "execution_count": 20,
     "metadata": {},
     "output_type": "execute_result"
    }
   ],
   "source": [
    "best_setting = df_setting.iloc[df_setting['Trn_ACC'].argmin()]['setting_number']\n",
    "best_setting"
   ]
  },
  {
   "cell_type": "code",
   "execution_count": 21,
   "id": "94b62564",
   "metadata": {},
   "outputs": [
    {
     "data": {
      "image/png": "[encoded data removed]",
      "text/plain": [
       "<Figure size 800x480 with 1 Axes>"
      ]
     },
     "metadata": {
      "needs_background": "light"
     },
     "output_type": "display_data"
    }
   ],
   "source": [
    "data = np.stack(df_results.loc[df_results[\"setting_number\"] == best_setting]['Tst_ACC_list'].apply(lambda row: np.array(row)).to_numpy(), axis = 0)\n",
    "\n",
    "# compute the mean, 25/75 percentiles, and standard deviation\n",
    "mean_, perc_25, perc_75, std_data = perc(data)\n",
    "\n",
    "x = np.arange(1, mean_.shape[0]+1)\n",
    "fh2=plt.figure(figsize=(10, 6), dpi=80)\n",
    "plt.plot(x, mean_, linewidth=4, color='#006BB2')\n",
    "plt.fill_between(x, perc_25, perc_75, alpha=0.25, linewidth=0, color='#006BB2')\n",
    "\n",
    "\n",
    "gh=plt.grid(linewidth=2)\n",
    "plt.xticks(fontsize=20)\n",
    "plt.yticks(fontsize=20)\n",
    "plt.ylabel('Test Accuracy',fontsize=25)\n",
    "plt.xlabel(r\"Number of Epochs\",fontsize=25)\n",
    "plt.title(\"\")\n",
    "plt.axis([0.0,50,mean_[0] - 0.01,0.985])\n",
    "ApplyFont(plt.gca())"
   ]
  },
  {
   "cell_type": "markdown",
   "id": "663ebb5f",
   "metadata": {},
   "source": [
    "# Altogether"
   ]
  },
  {
   "cell_type": "code",
   "execution_count": null,
   "id": "69bc361a",
   "metadata": {},
   "outputs": [],
   "source": []
  }
 ],
 "metadata": {
  "kernelspec": {
   "display_name": "Python 3 (ipykernel)",
   "language": "python",
   "name": "python3"
  },
  "language_info": {
   "codemirror_mode": {
    "name": "ipython",
    "version": 3
   },
   "file_extension": ".py",
   "mimetype": "text/x-python",
   "name": "python",
   "nbconvert_exporter": "python",
   "pygments_lexer": "ipython3",
   "version": "3.8.8"
  }
 },
 "nbformat": 4,
 "nbformat_minor": 5
}
