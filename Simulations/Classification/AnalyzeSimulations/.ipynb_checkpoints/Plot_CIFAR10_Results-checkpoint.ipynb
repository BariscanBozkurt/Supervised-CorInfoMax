{
 "cells": [
  {
   "cell_type": "code",
   "execution_count": 1,
   "id": "2280b28e",
   "metadata": {},
   "outputs": [],
   "source": [
    "import sys\n",
    "sys.path.insert(0, '../Results')\n",
    "sys.path.insert(0, '../../../src')\n",
    "import pandas as pd\n",
    "import numpy as np\n",
    "import matplotlib.pyplot as plt\n",
    "import pickle\n",
    "import os\n",
    "from visualization import perc, SetPlotRC, ApplyFont"
   ]
  },
  {
   "cell_type": "markdown",
   "id": "033d0833",
   "metadata": {},
   "source": [
    "# CorInfoMax"
   ]
  },
  {
   "cell_type": "code",
   "execution_count": null,
   "id": "10adea3d",
   "metadata": {},
   "outputs": [],
   "source": []
  },
  {
   "cell_type": "markdown",
   "id": "d30147fd",
   "metadata": {},
   "source": [
    "# CSM"
   ]
  },
  {
   "cell_type": "code",
   "execution_count": 2,
   "id": "2c2acc0a",
   "metadata": {},
   "outputs": [],
   "source": [
    "# df_results = pd.read_pickle(r\"../Results/simulation_results_CSM_CIFAR10.pkl\")\n",
    "# df_results.columns"
   ]
  },
  {
   "cell_type": "code",
   "execution_count": 3,
   "id": "482eee4a",
   "metadata": {},
   "outputs": [],
   "source": [
    "# df_results['Trn_ACC'] = df_results.apply(lambda row: row['Trn_ACC_list'][-1], axis = 1)\n",
    "# df_results['Tst_ACC'] = df_results.apply(lambda row: row['Tst_ACC_list'][-1], axis = 1)\n",
    "# df_results"
   ]
  },
  {
   "cell_type": "code",
   "execution_count": 4,
   "id": "2626c42e",
   "metadata": {},
   "outputs": [],
   "source": [
    "# df_setting = df_results[['setting_number', 'Trn_ACC', 'Tst_ACC']].groupby('setting_number').mean().reset_index()\n",
    "# df_setting"
   ]
  },
  {
   "cell_type": "code",
   "execution_count": 5,
   "id": "a6a97fb1",
   "metadata": {},
   "outputs": [],
   "source": [
    "# best_setting = df_setting.iloc[df_setting['Trn_ACC'].argmax()]['setting_number']\n",
    "# best_setting"
   ]
  },
  {
   "cell_type": "code",
   "execution_count": 6,
   "id": "2644cf68",
   "metadata": {},
   "outputs": [],
   "source": [
    "# data = np.stack(df_results.loc[df_results[\"setting_number\"] == best_setting]['Tst_ACC_list'].apply(lambda row: np.array(row)).to_numpy(), axis = 0)\n",
    "\n",
    "# # compute the mean, 25/75 percentiles, and standard deviation\n",
    "# mean_, perc_25, perc_75, std_data = perc(data)\n",
    "\n",
    "# x = np.arange(1, mean_.shape[0]+1)\n",
    "# fh2=plt.figure(figsize=(10, 6), dpi=80)\n",
    "# plt.plot(x, mean_, linewidth=4, color='#006BB2')\n",
    "# plt.fill_between(x, perc_25, perc_75, alpha=0.25, linewidth=0, color='#006BB2')\n",
    "\n",
    "\n",
    "# gh=plt.grid(linewidth=2)\n",
    "# plt.xticks(fontsize=20)\n",
    "# plt.yticks(fontsize=20)\n",
    "# plt.ylabel('Test Accuracy',fontsize=25)\n",
    "# plt.xlabel(r\"Number of Epochs\",fontsize=25)\n",
    "# plt.title(\"\")\n",
    "# plt.axis([0.0,50,mean_[0] - 0.01,0.985])\n",
    "# ApplyFont(plt.gca())"
   ]
  },
  {
   "cell_type": "markdown",
   "id": "9787a039",
   "metadata": {},
   "source": [
    "# EP"
   ]
  },
  {
   "cell_type": "code",
   "execution_count": 7,
   "id": "d8524e23",
   "metadata": {},
   "outputs": [
    {
     "data": {
      "text/plain": [
       "Index(['setting_number', 'seed', 'Model', 'Hyperparams', 'Trn_ACC_list',\n",
       "       'Tst_ACC_list'],\n",
       "      dtype='object')"
      ]
     },
     "execution_count": 7,
     "metadata": {},
     "output_type": "execute_result"
    }
   ],
   "source": [
    "df_results = pd.read_pickle(r\"../Results/simulation_results_EP_CIFAR10.pkl\")\n",
    "df_results.columns"
   ]
  },
  {
   "cell_type": "code",
   "execution_count": 8,
   "id": "a59cd866",
   "metadata": {},
   "outputs": [
    {
     "data": {
      "text/html": [
       "<div>\n",
       "<style scoped>\n",
       "    .dataframe tbody tr th:only-of-type {\n",
       "        vertical-align: middle;\n",
       "    }\n",
       "\n",
       "    .dataframe tbody tr th {\n",
       "        vertical-align: top;\n",
       "    }\n",
       "\n",
       "    .dataframe thead th {\n",
       "        text-align: right;\n",
       "    }\n",
       "</style>\n",
       "<table border=\"1\" class=\"dataframe\">\n",
       "  <thead>\n",
       "    <tr style=\"text-align: right;\">\n",
       "      <th></th>\n",
       "      <th>setting_number</th>\n",
       "      <th>seed</th>\n",
       "      <th>Model</th>\n",
       "      <th>Hyperparams</th>\n",
       "      <th>Trn_ACC_list</th>\n",
       "      <th>Tst_ACC_list</th>\n",
       "      <th>Trn_ACC</th>\n",
       "      <th>Tst_ACC</th>\n",
       "    </tr>\n",
       "  </thead>\n",
       "  <tbody>\n",
       "    <tr>\n",
       "      <th>0</th>\n",
       "      <td>1</td>\n",
       "      <td>0</td>\n",
       "      <td>EP</td>\n",
       "      <td>{'alphas_W': [0.1, 0.05], 'T1': 20, 'T2': 4, '...</td>\n",
       "      <td>[0.41838, 0.48088, 0.51152, 0.52852, 0.5291, 0...</td>\n",
       "      <td>[0.3924, 0.443, 0.464, 0.4648, 0.4621, 0.4415,...</td>\n",
       "      <td>0.85350</td>\n",
       "      <td>0.4702</td>\n",
       "    </tr>\n",
       "    <tr>\n",
       "      <th>1</th>\n",
       "      <td>1</td>\n",
       "      <td>10</td>\n",
       "      <td>EP</td>\n",
       "      <td>{'alphas_W': [0.1, 0.05], 'T1': 20, 'T2': 4, '...</td>\n",
       "      <td>[0.44066, 0.44422, 0.50338, 0.52074, 0.54794, ...</td>\n",
       "      <td>[0.411, 0.4085, 0.4602, 0.4663, 0.4782, 0.4877...</td>\n",
       "      <td>0.85376</td>\n",
       "      <td>0.4845</td>\n",
       "    </tr>\n",
       "    <tr>\n",
       "      <th>2</th>\n",
       "      <td>1</td>\n",
       "      <td>20</td>\n",
       "      <td>EP</td>\n",
       "      <td>{'alphas_W': [0.1, 0.05], 'T1': 20, 'T2': 4, '...</td>\n",
       "      <td>[0.40046, 0.45514, 0.47478, 0.51494, 0.53376, ...</td>\n",
       "      <td>[0.3718, 0.4288, 0.4209, 0.4564, 0.46, 0.4594,...</td>\n",
       "      <td>0.83534</td>\n",
       "      <td>0.4723</td>\n",
       "    </tr>\n",
       "    <tr>\n",
       "      <th>3</th>\n",
       "      <td>1</td>\n",
       "      <td>30</td>\n",
       "      <td>EP</td>\n",
       "      <td>{'alphas_W': [0.1, 0.05], 'T1': 20, 'T2': 4, '...</td>\n",
       "      <td>[0.39372, 0.45712, 0.51948, 0.50366, 0.52786, ...</td>\n",
       "      <td>[0.3674, 0.414, 0.4695, 0.4451, 0.4583, 0.4585...</td>\n",
       "      <td>0.86248</td>\n",
       "      <td>0.4930</td>\n",
       "    </tr>\n",
       "  </tbody>\n",
       "</table>\n",
       "</div>"
      ],
      "text/plain": [
       "  setting_number seed Model  \\\n",
       "0              1    0    EP   \n",
       "1              1   10    EP   \n",
       "2              1   20    EP   \n",
       "3              1   30    EP   \n",
       "\n",
       "                                         Hyperparams  \\\n",
       "0  {'alphas_W': [0.1, 0.05], 'T1': 20, 'T2': 4, '...   \n",
       "1  {'alphas_W': [0.1, 0.05], 'T1': 20, 'T2': 4, '...   \n",
       "2  {'alphas_W': [0.1, 0.05], 'T1': 20, 'T2': 4, '...   \n",
       "3  {'alphas_W': [0.1, 0.05], 'T1': 20, 'T2': 4, '...   \n",
       "\n",
       "                                        Trn_ACC_list  \\\n",
       "0  [0.41838, 0.48088, 0.51152, 0.52852, 0.5291, 0...   \n",
       "1  [0.44066, 0.44422, 0.50338, 0.52074, 0.54794, ...   \n",
       "2  [0.40046, 0.45514, 0.47478, 0.51494, 0.53376, ...   \n",
       "3  [0.39372, 0.45712, 0.51948, 0.50366, 0.52786, ...   \n",
       "\n",
       "                                        Tst_ACC_list  Trn_ACC  Tst_ACC  \n",
       "0  [0.3924, 0.443, 0.464, 0.4648, 0.4621, 0.4415,...  0.85350   0.4702  \n",
       "1  [0.411, 0.4085, 0.4602, 0.4663, 0.4782, 0.4877...  0.85376   0.4845  \n",
       "2  [0.3718, 0.4288, 0.4209, 0.4564, 0.46, 0.4594,...  0.83534   0.4723  \n",
       "3  [0.3674, 0.414, 0.4695, 0.4451, 0.4583, 0.4585...  0.86248   0.4930  "
      ]
     },
     "execution_count": 8,
     "metadata": {},
     "output_type": "execute_result"
    }
   ],
   "source": [
    "df_results['Trn_ACC'] = df_results.apply(lambda row: row['Trn_ACC_list'][-1], axis = 1)\n",
    "df_results['Tst_ACC'] = df_results.apply(lambda row: row['Tst_ACC_list'][-1], axis = 1)\n",
    "df_results"
   ]
  },
  {
   "cell_type": "code",
   "execution_count": 9,
   "id": "1977f8bf",
   "metadata": {},
   "outputs": [
    {
     "data": {
      "text/html": [
       "<div>\n",
       "<style scoped>\n",
       "    .dataframe tbody tr th:only-of-type {\n",
       "        vertical-align: middle;\n",
       "    }\n",
       "\n",
       "    .dataframe tbody tr th {\n",
       "        vertical-align: top;\n",
       "    }\n",
       "\n",
       "    .dataframe thead th {\n",
       "        text-align: right;\n",
       "    }\n",
       "</style>\n",
       "<table border=\"1\" class=\"dataframe\">\n",
       "  <thead>\n",
       "    <tr style=\"text-align: right;\">\n",
       "      <th></th>\n",
       "      <th>setting_number</th>\n",
       "      <th>Trn_ACC</th>\n",
       "      <th>Tst_ACC</th>\n",
       "    </tr>\n",
       "  </thead>\n",
       "  <tbody>\n",
       "    <tr>\n",
       "      <th>0</th>\n",
       "      <td>1</td>\n",
       "      <td>0.85127</td>\n",
       "      <td>0.48</td>\n",
       "    </tr>\n",
       "  </tbody>\n",
       "</table>\n",
       "</div>"
      ],
      "text/plain": [
       "   setting_number  Trn_ACC  Tst_ACC\n",
       "0               1  0.85127     0.48"
      ]
     },
     "execution_count": 9,
     "metadata": {},
     "output_type": "execute_result"
    }
   ],
   "source": [
    "df_setting = df_results[['setting_number', 'Trn_ACC', 'Tst_ACC']].groupby('setting_number').mean().reset_index()\n",
    "df_setting"
   ]
  },
  {
   "cell_type": "code",
   "execution_count": 10,
   "id": "4a82170a",
   "metadata": {},
   "outputs": [
    {
     "data": {
      "text/plain": [
       "1.0"
      ]
     },
     "execution_count": 10,
     "metadata": {},
     "output_type": "execute_result"
    }
   ],
   "source": [
    "best_setting = df_setting.iloc[df_setting['Trn_ACC'].argmax()]['setting_number']\n",
    "best_setting"
   ]
  },
  {
   "cell_type": "code",
   "execution_count": 12,
   "id": "8f757eac",
   "metadata": {},
   "outputs": [
    {
     "data": {
      "image/png": "[encoded data removed]",
      "text/plain": [
       "<Figure size 800x480 with 1 Axes>"
      ]
     },
     "metadata": {
      "needs_background": "light"
     },
     "output_type": "display_data"
    }
   ],
   "source": [
    "data = np.stack(df_results.loc[df_results[\"setting_number\"] == best_setting]['Tst_ACC_list'].apply(lambda row: np.array(row)).to_numpy(), axis = 0)\n",
    "\n",
    "# compute the mean, 25/75 percentiles, and standard deviation\n",
    "mean_, perc_25, perc_75, std_data = perc(data)\n",
    "\n",
    "x = np.arange(1, mean_.shape[0]+1)\n",
    "fh2=plt.figure(figsize=(10, 6), dpi=80)\n",
    "plt.plot(x, mean_, linewidth=4, color='#006BB2')\n",
    "plt.fill_between(x, perc_25, perc_75, alpha=0.25, linewidth=0, color='#006BB2')\n",
    "\n",
    "\n",
    "gh=plt.grid(linewidth=2)\n",
    "plt.xticks(fontsize=20)\n",
    "plt.yticks(fontsize=20)\n",
    "plt.ylabel('Test Accuracy',fontsize=25)\n",
    "plt.xlabel(r\"Number of Epochs\",fontsize=25)\n",
    "plt.title(\"\")\n",
    "plt.axis([0.0,50,mean_[0] - 0.01,0.55])\n",
    "ApplyFont(plt.gca())"
   ]
  },
  {
   "cell_type": "markdown",
   "id": "c07c43c4",
   "metadata": {},
   "source": [
    "# EP-Continual-Weight-Update"
   ]
  },
  {
   "cell_type": "code",
   "execution_count": null,
   "id": "444278a9",
   "metadata": {},
   "outputs": [],
   "source": []
  },
  {
   "cell_type": "markdown",
   "id": "64ad08c9",
   "metadata": {},
   "source": [
    "# PC"
   ]
  },
  {
   "cell_type": "code",
   "execution_count": 12,
   "id": "328e53cc",
   "metadata": {},
   "outputs": [],
   "source": [
    "# df_results = pd.read_pickle(r\"../Results/simulation_results_PC_CIFAR10.pkl\")\n",
    "# df_results.columns"
   ]
  },
  {
   "cell_type": "code",
   "execution_count": 13,
   "id": "b68bf6f8",
   "metadata": {},
   "outputs": [],
   "source": [
    "# df_results['Trn_ACC'] = df_results.apply(lambda row: row['Trn_ACC_list'][-1], axis = 1)\n",
    "# df_results['Tst_ACC'] = df_results.apply(lambda row: row['Tst_ACC_list'][-1], axis = 1)\n",
    "# df_results"
   ]
  },
  {
   "cell_type": "code",
   "execution_count": 14,
   "id": "99251c69",
   "metadata": {},
   "outputs": [],
   "source": [
    "# df_setting = df_results[['setting_number', 'Trn_ACC', 'Tst_ACC']].groupby('setting_number').mean().reset_index()\n",
    "# df_setting"
   ]
  },
  {
   "cell_type": "code",
   "execution_count": 15,
   "id": "e073993d",
   "metadata": {},
   "outputs": [],
   "source": [
    "# best_setting = df_setting.iloc[df_setting['Trn_ACC'].argmax()]['setting_number']\n",
    "# best_setting #= 1"
   ]
  },
  {
   "cell_type": "code",
   "execution_count": 16,
   "id": "90874b0b",
   "metadata": {},
   "outputs": [],
   "source": [
    "# data = np.stack(df_results.loc[df_results[\"setting_number\"] == best_setting]['Tst_ACC_list'].apply(lambda row: np.array(row)).to_numpy(), axis = 0)\n",
    "\n",
    "# # compute the mean, 25/75 percentiles, and standard deviation\n",
    "# mean_, perc_25, perc_75, std_data = perc(data)\n",
    "\n",
    "# x = np.arange(1, mean_.shape[0]+1)\n",
    "# fh2=plt.figure(figsize=(10, 6), dpi=80)\n",
    "# plt.plot(x, mean_, linewidth=4, color='#006BB2')\n",
    "# plt.fill_between(x, perc_25, perc_75, alpha=0.25, linewidth=0, color='#006BB2')\n",
    "\n",
    "\n",
    "# gh=plt.grid(linewidth=2)\n",
    "# plt.xticks(fontsize=20)\n",
    "# plt.yticks(fontsize=20)\n",
    "# plt.ylabel('Test Accuracy',fontsize=25)\n",
    "# plt.xlabel(r\"Number of Epochs\",fontsize=25)\n",
    "# plt.title(\"\")\n",
    "# plt.axis([0.0,50,mean_[0] - 0.01,0.985])\n",
    "# ApplyFont(plt.gca())"
   ]
  },
  {
   "cell_type": "markdown",
   "id": "cb39b95c",
   "metadata": {},
   "source": [
    "# PC-Nudge"
   ]
  },
  {
   "cell_type": "code",
   "execution_count": 17,
   "id": "34bf1530",
   "metadata": {},
   "outputs": [],
   "source": [
    "# df_results = pd.read_pickle(r\"../Results/simulation_results_PCNudge_CIFAR10.pkl\")\n",
    "# df_results.columns"
   ]
  },
  {
   "cell_type": "code",
   "execution_count": 18,
   "id": "32ce693c",
   "metadata": {},
   "outputs": [],
   "source": [
    "# df_results['Trn_ACC'] = df_results.apply(lambda row: row['Trn_ACC_list'][-1], axis = 1)\n",
    "# df_results['Tst_ACC'] = df_results.apply(lambda row: row['Tst_ACC_list'][-1], axis = 1)\n",
    "# df_results"
   ]
  },
  {
   "cell_type": "code",
   "execution_count": 19,
   "id": "5d036022",
   "metadata": {},
   "outputs": [],
   "source": [
    "# df_setting = df_results[['setting_number', 'Trn_ACC', 'Tst_ACC']].groupby('setting_number').mean().reset_index()\n",
    "# df_setting"
   ]
  },
  {
   "cell_type": "code",
   "execution_count": 20,
   "id": "528562d0",
   "metadata": {},
   "outputs": [],
   "source": [
    "# best_setting = df_setting.iloc[df_setting['Trn_ACC'].argmax()]['setting_number']\n",
    "# best_setting"
   ]
  },
  {
   "cell_type": "code",
   "execution_count": 21,
   "id": "94b62564",
   "metadata": {},
   "outputs": [],
   "source": [
    "# data = np.stack(df_results.loc[df_results[\"setting_number\"] == best_setting]['Tst_ACC_list'].apply(lambda row: np.array(row)).to_numpy(), axis = 0)\n",
    "\n",
    "# # compute the mean, 25/75 percentiles, and standard deviation\n",
    "# mean_, perc_25, perc_75, std_data = perc(data)\n",
    "\n",
    "# x = np.arange(1, mean_.shape[0]+1)\n",
    "# fh2=plt.figure(figsize=(10, 6), dpi=80)\n",
    "# plt.plot(x, mean_, linewidth=4, color='#006BB2')\n",
    "# plt.fill_between(x, perc_25, perc_75, alpha=0.25, linewidth=0, color='#006BB2')\n",
    "\n",
    "\n",
    "# gh=plt.grid(linewidth=2)\n",
    "# plt.xticks(fontsize=20)\n",
    "# plt.yticks(fontsize=20)\n",
    "# plt.ylabel('Test Accuracy',fontsize=25)\n",
    "# plt.xlabel(r\"Number of Epochs\",fontsize=25)\n",
    "# plt.title(\"\")\n",
    "# plt.axis([0.0,50,mean_[0] - 0.01,0.985])\n",
    "# ApplyFont(plt.gca())"
   ]
  },
  {
   "cell_type": "markdown",
   "id": "663ebb5f",
   "metadata": {},
   "source": [
    "# Altogether"
   ]
  },
  {
   "cell_type": "code",
   "execution_count": null,
   "id": "69bc361a",
   "metadata": {},
   "outputs": [],
   "source": []
  }
 ],
 "metadata": {
  "kernelspec": {
   "display_name": "Python 3 (ipykernel)",
   "language": "python",
   "name": "python3"
  },
  "language_info": {
   "codemirror_mode": {
    "name": "ipython",
    "version": 3
   },
   "file_extension": ".py",
   "mimetype": "text/x-python",
   "name": "python",
   "nbconvert_exporter": "python",
   "pygments_lexer": "ipython3",
   "version": "3.8.8"
  }
 },
 "nbformat": 4,
 "nbformat_minor": 5
}
