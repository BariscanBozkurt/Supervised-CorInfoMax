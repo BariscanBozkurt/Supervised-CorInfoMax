{
 "cells": [
  {
   "cell_type": "code",
   "execution_count": 1,
   "id": "2280b28e",
   "metadata": {},
   "outputs": [],
   "source": [
    "import sys\n",
    "sys.path.insert(0, '../Results')\n",
    "sys.path.insert(0, '../../../src')\n",
    "import pandas as pd\n",
    "import numpy as np\n",
    "import matplotlib.pyplot as plt\n",
    "import pickle\n",
    "import os\n",
    "from visualization import perc, SetPlotRC, ApplyFont"
   ]
  },
  {
   "cell_type": "code",
   "execution_count": 2,
   "id": "ae2b82b1",
   "metadata": {},
   "outputs": [],
   "source": [
    "if not os.path.exists(\"Figures\"):\n",
    "    os.mkdir(\"Figures\")"
   ]
  },
  {
   "cell_type": "markdown",
   "id": "033d0833",
   "metadata": {},
   "source": [
    "# CorInfoMax"
   ]
  },
  {
   "cell_type": "code",
   "execution_count": 3,
   "id": "10adea3d",
   "metadata": {},
   "outputs": [
    {
     "name": "stdout",
     "output_type": "stream",
     "text": [
      "(20, 7)\n"
     ]
    },
    {
     "data": {
      "text/plain": [
       "Index(['setting_number', 'seed', 'Model', 'Hyperparams', 'Trn_ACC_list',\n",
       "       'Tst_ACC_list', 'forward_backward_weight_angle_list'],\n",
       "      dtype='object')"
      ]
     },
     "execution_count": 3,
     "metadata": {},
     "output_type": "execute_result"
    }
   ],
   "source": [
    "df_results = pd.read_pickle(r\"../Results/simulation_results_CorInfoMax_CIFAR10.pkl\")\n",
    "print(df_results.shape)\n",
    "df_results.columns"
   ]
  },
  {
   "cell_type": "code",
   "execution_count": 4,
   "id": "97dd5c3a",
   "metadata": {},
   "outputs": [
    {
     "data": {
      "text/html": [
       "<div>\n",
       "<style scoped>\n",
       "    .dataframe tbody tr th:only-of-type {\n",
       "        vertical-align: middle;\n",
       "    }\n",
       "\n",
       "    .dataframe tbody tr th {\n",
       "        vertical-align: top;\n",
       "    }\n",
       "\n",
       "    .dataframe thead th {\n",
       "        text-align: right;\n",
       "    }\n",
       "</style>\n",
       "<table border=\"1\" class=\"dataframe\">\n",
       "  <thead>\n",
       "    <tr style=\"text-align: right;\">\n",
       "      <th></th>\n",
       "      <th>setting_number</th>\n",
       "      <th>seed</th>\n",
       "      <th>Model</th>\n",
       "      <th>Hyperparams</th>\n",
       "      <th>Trn_ACC_list</th>\n",
       "      <th>Tst_ACC_list</th>\n",
       "      <th>forward_backward_weight_angle_list</th>\n",
       "      <th>Trn_ACC</th>\n",
       "      <th>Tst_ACC</th>\n",
       "    </tr>\n",
       "  </thead>\n",
       "  <tbody>\n",
       "    <tr>\n",
       "      <th>0</th>\n",
       "      <td>1</td>\n",
       "      <td>0</td>\n",
       "      <td>CorInfoMax</td>\n",
       "      <td>{'lr_start': {'ff': [0.07, 0.03], 'fb': [nan, ...</td>\n",
       "      <td>[0.33636, 0.39588, 0.43438, 0.45694, 0.47564, ...</td>\n",
       "      <td>[0.3272, 0.3881, 0.4216, 0.4379, 0.4501, 0.466...</td>\n",
       "      <td>[[89.96092987060547], [89.47801208496094], [88...</td>\n",
       "      <td>0.63040</td>\n",
       "      <td>0.5130</td>\n",
       "    </tr>\n",
       "    <tr>\n",
       "      <th>1</th>\n",
       "      <td>1</td>\n",
       "      <td>10</td>\n",
       "      <td>CorInfoMax</td>\n",
       "      <td>{'lr_start': {'ff': [0.07, 0.03], 'fb': [nan, ...</td>\n",
       "      <td>[0.32872, 0.40028, 0.43438, 0.46188, 0.4791, 0...</td>\n",
       "      <td>[0.3275, 0.3916, 0.4209, 0.4393, 0.4597, 0.467...</td>\n",
       "      <td>[[90.13799285888672], [89.88963317871094], [89...</td>\n",
       "      <td>0.62774</td>\n",
       "      <td>0.5161</td>\n",
       "    </tr>\n",
       "    <tr>\n",
       "      <th>2</th>\n",
       "      <td>1</td>\n",
       "      <td>20</td>\n",
       "      <td>CorInfoMax</td>\n",
       "      <td>{'lr_start': {'ff': [0.07, 0.03], 'fb': [nan, ...</td>\n",
       "      <td>[0.30438, 0.39652, 0.43574, 0.4591, 0.47888, 0...</td>\n",
       "      <td>[0.2958, 0.3944, 0.4294, 0.447, 0.4608, 0.4685...</td>\n",
       "      <td>[[89.70185852050781], [89.10952758789062], [88...</td>\n",
       "      <td>0.63216</td>\n",
       "      <td>0.5169</td>\n",
       "    </tr>\n",
       "    <tr>\n",
       "      <th>3</th>\n",
       "      <td>1</td>\n",
       "      <td>30</td>\n",
       "      <td>CorInfoMax</td>\n",
       "      <td>{'lr_start': {'ff': [0.07, 0.03], 'fb': [nan, ...</td>\n",
       "      <td>[0.33898, 0.39764, 0.43542, 0.46066, 0.479, 0....</td>\n",
       "      <td>[0.3391, 0.3949, 0.424, 0.442, 0.4545, 0.4643,...</td>\n",
       "      <td>[[90.49340057373047], [89.96391296386719], [89...</td>\n",
       "      <td>0.62966</td>\n",
       "      <td>0.5126</td>\n",
       "    </tr>\n",
       "    <tr>\n",
       "      <th>4</th>\n",
       "      <td>1</td>\n",
       "      <td>40</td>\n",
       "      <td>CorInfoMax</td>\n",
       "      <td>{'lr_start': {'ff': [0.07, 0.03], 'fb': [nan, ...</td>\n",
       "      <td>[0.33752, 0.40102, 0.4358, 0.45876, 0.48192, 0...</td>\n",
       "      <td>[0.3384, 0.392, 0.4216, 0.4389, 0.4581, 0.4652...</td>\n",
       "      <td>[[89.3494873046875], [89.14669799804688], [88....</td>\n",
       "      <td>0.63290</td>\n",
       "      <td>0.5138</td>\n",
       "    </tr>\n",
       "    <tr>\n",
       "      <th>5</th>\n",
       "      <td>1</td>\n",
       "      <td>50</td>\n",
       "      <td>CorInfoMax</td>\n",
       "      <td>{'lr_start': {'ff': [0.07, 0.03], 'fb': [nan, ...</td>\n",
       "      <td>[0.3441, 0.39884, 0.43218, 0.4601, 0.47802, 0....</td>\n",
       "      <td>[0.3427, 0.3899, 0.4219, 0.4396, 0.4561, 0.464...</td>\n",
       "      <td>[[89.42311096191406], [88.8380355834961], [87....</td>\n",
       "      <td>0.62702</td>\n",
       "      <td>0.5117</td>\n",
       "    </tr>\n",
       "    <tr>\n",
       "      <th>6</th>\n",
       "      <td>1</td>\n",
       "      <td>60</td>\n",
       "      <td>CorInfoMax</td>\n",
       "      <td>{'lr_start': {'ff': [0.07, 0.03], 'fb': [nan, ...</td>\n",
       "      <td>[0.33686, 0.39798, 0.43086, 0.46072, 0.4793, 0...</td>\n",
       "      <td>[0.3333, 0.3933, 0.4172, 0.4421, 0.4585, 0.470...</td>\n",
       "      <td>[[89.42182922363281], [89.06783294677734], [88...</td>\n",
       "      <td>0.63428</td>\n",
       "      <td>0.5205</td>\n",
       "    </tr>\n",
       "    <tr>\n",
       "      <th>7</th>\n",
       "      <td>1</td>\n",
       "      <td>70</td>\n",
       "      <td>CorInfoMax</td>\n",
       "      <td>{'lr_start': {'ff': [0.07, 0.03], 'fb': [nan, ...</td>\n",
       "      <td>[0.3499, 0.4021, 0.43586, 0.45852, 0.47956, 0....</td>\n",
       "      <td>[0.35, 0.3964, 0.4218, 0.4355, 0.4514, 0.4595,...</td>\n",
       "      <td>[[89.52362823486328], [88.96964263916016], [88...</td>\n",
       "      <td>0.63114</td>\n",
       "      <td>0.5140</td>\n",
       "    </tr>\n",
       "    <tr>\n",
       "      <th>8</th>\n",
       "      <td>1</td>\n",
       "      <td>80</td>\n",
       "      <td>CorInfoMax</td>\n",
       "      <td>{'lr_start': {'ff': [0.07, 0.03], 'fb': [nan, ...</td>\n",
       "      <td>[0.33364, 0.3939, 0.4296, 0.45624, 0.47738, 0....</td>\n",
       "      <td>[0.3373, 0.3932, 0.4256, 0.4429, 0.4548, 0.466...</td>\n",
       "      <td>[[90.96546173095703], [90.25321197509766], [89...</td>\n",
       "      <td>0.63134</td>\n",
       "      <td>0.5159</td>\n",
       "    </tr>\n",
       "    <tr>\n",
       "      <th>9</th>\n",
       "      <td>1</td>\n",
       "      <td>90</td>\n",
       "      <td>CorInfoMax</td>\n",
       "      <td>{'lr_start': {'ff': [0.07, 0.03], 'fb': [nan, ...</td>\n",
       "      <td>[0.31504, 0.38724, 0.42854, 0.4548, 0.4734, 0....</td>\n",
       "      <td>[0.3166, 0.3829, 0.4239, 0.4434, 0.4572, 0.468...</td>\n",
       "      <td>[[91.56926727294922], [91.17434692382812], [90...</td>\n",
       "      <td>0.63250</td>\n",
       "      <td>0.5214</td>\n",
       "    </tr>\n",
       "    <tr>\n",
       "      <th>10</th>\n",
       "      <td>2</td>\n",
       "      <td>0</td>\n",
       "      <td>CorInfoMax</td>\n",
       "      <td>{'lr_start': {'ff': [0.08, 0.04], 'fb': [nan, ...</td>\n",
       "      <td>[0.35438, 0.41598, 0.4498, 0.47134, 0.49126, 0...</td>\n",
       "      <td>[0.3444, 0.4052, 0.4339, 0.4486, 0.4621, 0.473...</td>\n",
       "      <td>[[89.96051788330078], [89.2210922241211], [88....</td>\n",
       "      <td>0.65300</td>\n",
       "      <td>0.5230</td>\n",
       "    </tr>\n",
       "    <tr>\n",
       "      <th>11</th>\n",
       "      <td>2</td>\n",
       "      <td>10</td>\n",
       "      <td>CorInfoMax</td>\n",
       "      <td>{'lr_start': {'ff': [0.08, 0.04], 'fb': [nan, ...</td>\n",
       "      <td>[0.35396, 0.41686, 0.4509, 0.4776, 0.49488, 0....</td>\n",
       "      <td>[0.3552, 0.404, 0.435, 0.4525, 0.4704, 0.4792,...</td>\n",
       "      <td>[[90.1380844116211], [89.72038269042969], [88....</td>\n",
       "      <td>0.65386</td>\n",
       "      <td>0.5212</td>\n",
       "    </tr>\n",
       "    <tr>\n",
       "      <th>12</th>\n",
       "      <td>2</td>\n",
       "      <td>20</td>\n",
       "      <td>CorInfoMax</td>\n",
       "      <td>{'lr_start': {'ff': [0.08, 0.04], 'fb': [nan, ...</td>\n",
       "      <td>[0.3455, 0.4131, 0.4522, 0.47456, 0.49696, 0.5...</td>\n",
       "      <td>[0.3411, 0.4084, 0.4406, 0.4573, 0.4679, 0.481...</td>\n",
       "      <td>[[89.70159912109375], [88.9116439819336], [88....</td>\n",
       "      <td>0.65816</td>\n",
       "      <td>0.5221</td>\n",
       "    </tr>\n",
       "    <tr>\n",
       "      <th>13</th>\n",
       "      <td>2</td>\n",
       "      <td>30</td>\n",
       "      <td>CorInfoMax</td>\n",
       "      <td>{'lr_start': {'ff': [0.08, 0.04], 'fb': [nan, ...</td>\n",
       "      <td>[0.3548, 0.41358, 0.45142, 0.47536, 0.49616, 0...</td>\n",
       "      <td>[0.3548, 0.4077, 0.4347, 0.4542, 0.4707, 0.475...</td>\n",
       "      <td>[[90.49285125732422], [89.67411041259766], [88...</td>\n",
       "      <td>0.65432</td>\n",
       "      <td>0.5209</td>\n",
       "    </tr>\n",
       "    <tr>\n",
       "      <th>14</th>\n",
       "      <td>2</td>\n",
       "      <td>40</td>\n",
       "      <td>CorInfoMax</td>\n",
       "      <td>{'lr_start': {'ff': [0.08, 0.04], 'fb': [nan, ...</td>\n",
       "      <td>[0.35834, 0.4199, 0.45322, 0.47428, 0.49948, 0...</td>\n",
       "      <td>[0.3587, 0.4041, 0.4323, 0.4489, 0.469, 0.4762...</td>\n",
       "      <td>[[89.34986114501953], [88.91513061523438], [87...</td>\n",
       "      <td>0.65474</td>\n",
       "      <td>0.5238</td>\n",
       "    </tr>\n",
       "    <tr>\n",
       "      <th>15</th>\n",
       "      <td>2</td>\n",
       "      <td>50</td>\n",
       "      <td>CorInfoMax</td>\n",
       "      <td>{'lr_start': {'ff': [0.08, 0.04], 'fb': [nan, ...</td>\n",
       "      <td>[0.35808, 0.41412, 0.4491, 0.47424, 0.49292, 0...</td>\n",
       "      <td>[0.357, 0.4026, 0.432, 0.4512, 0.4675, 0.4748,...</td>\n",
       "      <td>[[89.42295837402344], [88.55130004882812], [87...</td>\n",
       "      <td>0.65502</td>\n",
       "      <td>0.5212</td>\n",
       "    </tr>\n",
       "    <tr>\n",
       "      <th>16</th>\n",
       "      <td>2</td>\n",
       "      <td>60</td>\n",
       "      <td>CorInfoMax</td>\n",
       "      <td>{'lr_start': {'ff': [0.08, 0.04], 'fb': [nan, ...</td>\n",
       "      <td>[0.35182, 0.41732, 0.4477, 0.475, 0.49732, 0.5...</td>\n",
       "      <td>[0.346, 0.41, 0.4341, 0.4559, 0.4717, 0.4824, ...</td>\n",
       "      <td>[[89.4211654663086], [88.8219223022461], [87.8...</td>\n",
       "      <td>0.65648</td>\n",
       "      <td>0.5250</td>\n",
       "    </tr>\n",
       "    <tr>\n",
       "      <th>17</th>\n",
       "      <td>2</td>\n",
       "      <td>70</td>\n",
       "      <td>CorInfoMax</td>\n",
       "      <td>{'lr_start': {'ff': [0.08, 0.04], 'fb': [nan, ...</td>\n",
       "      <td>[0.3632, 0.41656, 0.45078, 0.47324, 0.49426, 0...</td>\n",
       "      <td>[0.3605, 0.4074, 0.4362, 0.4467, 0.4624, 0.472...</td>\n",
       "      <td>[[89.52247619628906], [88.7071304321289], [87....</td>\n",
       "      <td>0.65680</td>\n",
       "      <td>0.5230</td>\n",
       "    </tr>\n",
       "    <tr>\n",
       "      <th>18</th>\n",
       "      <td>2</td>\n",
       "      <td>80</td>\n",
       "      <td>CorInfoMax</td>\n",
       "      <td>{'lr_start': {'ff': [0.08, 0.04], 'fb': [nan, ...</td>\n",
       "      <td>[0.3511, 0.40946, 0.44666, 0.47232, 0.49394, 0...</td>\n",
       "      <td>[0.3507, 0.4067, 0.4364, 0.4505, 0.4651, 0.478...</td>\n",
       "      <td>[[90.96466064453125], [90.02580261230469], [88...</td>\n",
       "      <td>0.65514</td>\n",
       "      <td>0.5301</td>\n",
       "    </tr>\n",
       "    <tr>\n",
       "      <th>19</th>\n",
       "      <td>2</td>\n",
       "      <td>90</td>\n",
       "      <td>CorInfoMax</td>\n",
       "      <td>{'lr_start': {'ff': [0.08, 0.04], 'fb': [nan, ...</td>\n",
       "      <td>[0.34518, 0.40628, 0.4478, 0.4705, 0.49102, 0....</td>\n",
       "      <td>[0.344, 0.4015, 0.4379, 0.4533, 0.4666, 0.4783...</td>\n",
       "      <td>[[91.56912994384766], [91.00616455078125], [89...</td>\n",
       "      <td>0.65504</td>\n",
       "      <td>0.5225</td>\n",
       "    </tr>\n",
       "  </tbody>\n",
       "</table>\n",
       "</div>"
      ],
      "text/plain": [
       "   setting_number seed       Model  \\\n",
       "0               1    0  CorInfoMax   \n",
       "1               1   10  CorInfoMax   \n",
       "2               1   20  CorInfoMax   \n",
       "3               1   30  CorInfoMax   \n",
       "4               1   40  CorInfoMax   \n",
       "5               1   50  CorInfoMax   \n",
       "6               1   60  CorInfoMax   \n",
       "7               1   70  CorInfoMax   \n",
       "8               1   80  CorInfoMax   \n",
       "9               1   90  CorInfoMax   \n",
       "10              2    0  CorInfoMax   \n",
       "11              2   10  CorInfoMax   \n",
       "12              2   20  CorInfoMax   \n",
       "13              2   30  CorInfoMax   \n",
       "14              2   40  CorInfoMax   \n",
       "15              2   50  CorInfoMax   \n",
       "16              2   60  CorInfoMax   \n",
       "17              2   70  CorInfoMax   \n",
       "18              2   80  CorInfoMax   \n",
       "19              2   90  CorInfoMax   \n",
       "\n",
       "                                          Hyperparams  \\\n",
       "0   {'lr_start': {'ff': [0.07, 0.03], 'fb': [nan, ...   \n",
       "1   {'lr_start': {'ff': [0.07, 0.03], 'fb': [nan, ...   \n",
       "2   {'lr_start': {'ff': [0.07, 0.03], 'fb': [nan, ...   \n",
       "3   {'lr_start': {'ff': [0.07, 0.03], 'fb': [nan, ...   \n",
       "4   {'lr_start': {'ff': [0.07, 0.03], 'fb': [nan, ...   \n",
       "5   {'lr_start': {'ff': [0.07, 0.03], 'fb': [nan, ...   \n",
       "6   {'lr_start': {'ff': [0.07, 0.03], 'fb': [nan, ...   \n",
       "7   {'lr_start': {'ff': [0.07, 0.03], 'fb': [nan, ...   \n",
       "8   {'lr_start': {'ff': [0.07, 0.03], 'fb': [nan, ...   \n",
       "9   {'lr_start': {'ff': [0.07, 0.03], 'fb': [nan, ...   \n",
       "10  {'lr_start': {'ff': [0.08, 0.04], 'fb': [nan, ...   \n",
       "11  {'lr_start': {'ff': [0.08, 0.04], 'fb': [nan, ...   \n",
       "12  {'lr_start': {'ff': [0.08, 0.04], 'fb': [nan, ...   \n",
       "13  {'lr_start': {'ff': [0.08, 0.04], 'fb': [nan, ...   \n",
       "14  {'lr_start': {'ff': [0.08, 0.04], 'fb': [nan, ...   \n",
       "15  {'lr_start': {'ff': [0.08, 0.04], 'fb': [nan, ...   \n",
       "16  {'lr_start': {'ff': [0.08, 0.04], 'fb': [nan, ...   \n",
       "17  {'lr_start': {'ff': [0.08, 0.04], 'fb': [nan, ...   \n",
       "18  {'lr_start': {'ff': [0.08, 0.04], 'fb': [nan, ...   \n",
       "19  {'lr_start': {'ff': [0.08, 0.04], 'fb': [nan, ...   \n",
       "\n",
       "                                         Trn_ACC_list  \\\n",
       "0   [0.33636, 0.39588, 0.43438, 0.45694, 0.47564, ...   \n",
       "1   [0.32872, 0.40028, 0.43438, 0.46188, 0.4791, 0...   \n",
       "2   [0.30438, 0.39652, 0.43574, 0.4591, 0.47888, 0...   \n",
       "3   [0.33898, 0.39764, 0.43542, 0.46066, 0.479, 0....   \n",
       "4   [0.33752, 0.40102, 0.4358, 0.45876, 0.48192, 0...   \n",
       "5   [0.3441, 0.39884, 0.43218, 0.4601, 0.47802, 0....   \n",
       "6   [0.33686, 0.39798, 0.43086, 0.46072, 0.4793, 0...   \n",
       "7   [0.3499, 0.4021, 0.43586, 0.45852, 0.47956, 0....   \n",
       "8   [0.33364, 0.3939, 0.4296, 0.45624, 0.47738, 0....   \n",
       "9   [0.31504, 0.38724, 0.42854, 0.4548, 0.4734, 0....   \n",
       "10  [0.35438, 0.41598, 0.4498, 0.47134, 0.49126, 0...   \n",
       "11  [0.35396, 0.41686, 0.4509, 0.4776, 0.49488, 0....   \n",
       "12  [0.3455, 0.4131, 0.4522, 0.47456, 0.49696, 0.5...   \n",
       "13  [0.3548, 0.41358, 0.45142, 0.47536, 0.49616, 0...   \n",
       "14  [0.35834, 0.4199, 0.45322, 0.47428, 0.49948, 0...   \n",
       "15  [0.35808, 0.41412, 0.4491, 0.47424, 0.49292, 0...   \n",
       "16  [0.35182, 0.41732, 0.4477, 0.475, 0.49732, 0.5...   \n",
       "17  [0.3632, 0.41656, 0.45078, 0.47324, 0.49426, 0...   \n",
       "18  [0.3511, 0.40946, 0.44666, 0.47232, 0.49394, 0...   \n",
       "19  [0.34518, 0.40628, 0.4478, 0.4705, 0.49102, 0....   \n",
       "\n",
       "                                         Tst_ACC_list  \\\n",
       "0   [0.3272, 0.3881, 0.4216, 0.4379, 0.4501, 0.466...   \n",
       "1   [0.3275, 0.3916, 0.4209, 0.4393, 0.4597, 0.467...   \n",
       "2   [0.2958, 0.3944, 0.4294, 0.447, 0.4608, 0.4685...   \n",
       "3   [0.3391, 0.3949, 0.424, 0.442, 0.4545, 0.4643,...   \n",
       "4   [0.3384, 0.392, 0.4216, 0.4389, 0.4581, 0.4652...   \n",
       "5   [0.3427, 0.3899, 0.4219, 0.4396, 0.4561, 0.464...   \n",
       "6   [0.3333, 0.3933, 0.4172, 0.4421, 0.4585, 0.470...   \n",
       "7   [0.35, 0.3964, 0.4218, 0.4355, 0.4514, 0.4595,...   \n",
       "8   [0.3373, 0.3932, 0.4256, 0.4429, 0.4548, 0.466...   \n",
       "9   [0.3166, 0.3829, 0.4239, 0.4434, 0.4572, 0.468...   \n",
       "10  [0.3444, 0.4052, 0.4339, 0.4486, 0.4621, 0.473...   \n",
       "11  [0.3552, 0.404, 0.435, 0.4525, 0.4704, 0.4792,...   \n",
       "12  [0.3411, 0.4084, 0.4406, 0.4573, 0.4679, 0.481...   \n",
       "13  [0.3548, 0.4077, 0.4347, 0.4542, 0.4707, 0.475...   \n",
       "14  [0.3587, 0.4041, 0.4323, 0.4489, 0.469, 0.4762...   \n",
       "15  [0.357, 0.4026, 0.432, 0.4512, 0.4675, 0.4748,...   \n",
       "16  [0.346, 0.41, 0.4341, 0.4559, 0.4717, 0.4824, ...   \n",
       "17  [0.3605, 0.4074, 0.4362, 0.4467, 0.4624, 0.472...   \n",
       "18  [0.3507, 0.4067, 0.4364, 0.4505, 0.4651, 0.478...   \n",
       "19  [0.344, 0.4015, 0.4379, 0.4533, 0.4666, 0.4783...   \n",
       "\n",
       "                   forward_backward_weight_angle_list  Trn_ACC  Tst_ACC  \n",
       "0   [[89.96092987060547], [89.47801208496094], [88...  0.63040   0.5130  \n",
       "1   [[90.13799285888672], [89.88963317871094], [89...  0.62774   0.5161  \n",
       "2   [[89.70185852050781], [89.10952758789062], [88...  0.63216   0.5169  \n",
       "3   [[90.49340057373047], [89.96391296386719], [89...  0.62966   0.5126  \n",
       "4   [[89.3494873046875], [89.14669799804688], [88....  0.63290   0.5138  \n",
       "5   [[89.42311096191406], [88.8380355834961], [87....  0.62702   0.5117  \n",
       "6   [[89.42182922363281], [89.06783294677734], [88...  0.63428   0.5205  \n",
       "7   [[89.52362823486328], [88.96964263916016], [88...  0.63114   0.5140  \n",
       "8   [[90.96546173095703], [90.25321197509766], [89...  0.63134   0.5159  \n",
       "9   [[91.56926727294922], [91.17434692382812], [90...  0.63250   0.5214  \n",
       "10  [[89.96051788330078], [89.2210922241211], [88....  0.65300   0.5230  \n",
       "11  [[90.1380844116211], [89.72038269042969], [88....  0.65386   0.5212  \n",
       "12  [[89.70159912109375], [88.9116439819336], [88....  0.65816   0.5221  \n",
       "13  [[90.49285125732422], [89.67411041259766], [88...  0.65432   0.5209  \n",
       "14  [[89.34986114501953], [88.91513061523438], [87...  0.65474   0.5238  \n",
       "15  [[89.42295837402344], [88.55130004882812], [87...  0.65502   0.5212  \n",
       "16  [[89.4211654663086], [88.8219223022461], [87.8...  0.65648   0.5250  \n",
       "17  [[89.52247619628906], [88.7071304321289], [87....  0.65680   0.5230  \n",
       "18  [[90.96466064453125], [90.02580261230469], [88...  0.65514   0.5301  \n",
       "19  [[91.56912994384766], [91.00616455078125], [89...  0.65504   0.5225  "
      ]
     },
     "execution_count": 4,
     "metadata": {},
     "output_type": "execute_result"
    }
   ],
   "source": [
    "df_results['Trn_ACC'] = df_results.apply(lambda row: row['Trn_ACC_list'][-1], axis = 1)\n",
    "df_results['Tst_ACC'] = df_results.apply(lambda row: row['Tst_ACC_list'][-1], axis = 1)\n",
    "df_results"
   ]
  },
  {
   "cell_type": "code",
   "execution_count": 5,
   "id": "0de06353",
   "metadata": {},
   "outputs": [
    {
     "data": {
      "text/html": [
       "<div>\n",
       "<style scoped>\n",
       "    .dataframe tbody tr th:only-of-type {\n",
       "        vertical-align: middle;\n",
       "    }\n",
       "\n",
       "    .dataframe tbody tr th {\n",
       "        vertical-align: top;\n",
       "    }\n",
       "\n",
       "    .dataframe thead th {\n",
       "        text-align: right;\n",
       "    }\n",
       "</style>\n",
       "<table border=\"1\" class=\"dataframe\">\n",
       "  <thead>\n",
       "    <tr style=\"text-align: right;\">\n",
       "      <th></th>\n",
       "      <th>setting_number</th>\n",
       "      <th>Trn_ACC</th>\n",
       "      <th>Tst_ACC</th>\n",
       "    </tr>\n",
       "  </thead>\n",
       "  <tbody>\n",
       "    <tr>\n",
       "      <th>0</th>\n",
       "      <td>1</td>\n",
       "      <td>0.630914</td>\n",
       "      <td>0.51559</td>\n",
       "    </tr>\n",
       "    <tr>\n",
       "      <th>1</th>\n",
       "      <td>2</td>\n",
       "      <td>0.655256</td>\n",
       "      <td>0.52328</td>\n",
       "    </tr>\n",
       "  </tbody>\n",
       "</table>\n",
       "</div>"
      ],
      "text/plain": [
       "   setting_number   Trn_ACC  Tst_ACC\n",
       "0               1  0.630914  0.51559\n",
       "1               2  0.655256  0.52328"
      ]
     },
     "execution_count": 5,
     "metadata": {},
     "output_type": "execute_result"
    }
   ],
   "source": [
    "df_setting = df_results[['setting_number', 'Trn_ACC', 'Tst_ACC']].groupby('setting_number').mean().reset_index()\n",
    "df_setting"
   ]
  },
  {
   "cell_type": "code",
   "execution_count": 6,
   "id": "bb9a362d",
   "metadata": {},
   "outputs": [],
   "source": [
    "best_setting = df_setting.iloc[df_setting['Trn_ACC'].argmax()]['setting_number']\n",
    "best_setting #= 1"
   ]
  },
  {
   "cell_type": "code",
   "execution_count": 7,
   "id": "6bec30c9",
   "metadata": {},
   "outputs": [
    {
     "name": "stderr",
     "output_type": "stream",
     "text": [
      "findfont: Font family ['Times New Roman'] not found. Falling back to DejaVu Sans.\n",
      "findfont: Font family ['Times New Roman'] not found. Falling back to DejaVu Sans.\n"
     ]
    },
    {
     "data": {
      "image/png": "[encoded data removed]",
      "text/plain": [
       "<Figure size 800x480 with 1 Axes>"
      ]
     },
     "metadata": {
      "needs_background": "light"
     },
     "output_type": "display_data"
    }
   ],
   "source": [
    "data = np.stack(df_results.loc[df_results[\"setting_number\"] == best_setting]['Tst_ACC_list'].apply(lambda row: np.array(row)).to_numpy(), axis = 0)\n",
    "# data = np.array(df_results.iloc[0]['Tst_ACC_list'])[np.newaxis]#.apply(lambda row: np.array(row)).to_numpy(), axis = 0)\n",
    "\n",
    "# compute the mean, 25/75 percentiles, and standard deviation\n",
    "mean_, perc_25, perc_75, std_data = perc(data)\n",
    "\n",
    "x = np.arange(1, mean_.shape[0]+1)\n",
    "fh2=plt.figure(figsize=(10, 6), dpi=80)\n",
    "plt.plot(x, mean_, linewidth=4, color='#006BB2')\n",
    "plt.fill_between(x, perc_25, perc_75, alpha=0.25, linewidth=0, color='#006BB2')\n",
    "\n",
    "\n",
    "gh=plt.grid(linewidth=2)\n",
    "plt.xticks(fontsize=20)\n",
    "plt.yticks(fontsize=20)\n",
    "plt.ylabel('Test Accuracy',fontsize=25)\n",
    "plt.xlabel(r\"Number of Epochs\",fontsize=25)\n",
    "plt.title(\"\")\n",
    "plt.axis([0.0,50,mean_[0] - 0.01,0.53])\n",
    "ApplyFont(plt.gca())"
   ]
  },
  {
   "cell_type": "markdown",
   "id": "d30147fd",
   "metadata": {},
   "source": [
    "# CSM"
   ]
  },
  {
   "cell_type": "code",
   "execution_count": 8,
   "id": "2c2acc0a",
   "metadata": {},
   "outputs": [],
   "source": [
    "# df_results = pd.read_pickle(r\"../Results/simulation_results_CSM_CIFAR10.pkl\")\n",
    "# df_results.columns"
   ]
  },
  {
   "cell_type": "code",
   "execution_count": 9,
   "id": "482eee4a",
   "metadata": {},
   "outputs": [],
   "source": [
    "# df_results['Trn_ACC'] = df_results.apply(lambda row: row['Trn_ACC_list'][-1], axis = 1)\n",
    "# df_results['Tst_ACC'] = df_results.apply(lambda row: row['Tst_ACC_list'][-1], axis = 1)\n",
    "# df_results"
   ]
  },
  {
   "cell_type": "code",
   "execution_count": 10,
   "id": "2626c42e",
   "metadata": {},
   "outputs": [],
   "source": [
    "# df_setting = df_results[['setting_number', 'Trn_ACC', 'Tst_ACC']].groupby('setting_number').mean().reset_index()\n",
    "# df_setting"
   ]
  },
  {
   "cell_type": "code",
   "execution_count": 11,
   "id": "a6a97fb1",
   "metadata": {},
   "outputs": [],
   "source": [
    "# best_setting = df_setting.iloc[df_setting['Trn_ACC'].argmax()]['setting_number']\n",
    "# best_setting"
   ]
  },
  {
   "cell_type": "code",
   "execution_count": 12,
   "id": "2644cf68",
   "metadata": {},
   "outputs": [],
   "source": [
    "# data = np.stack(df_results.loc[df_results[\"setting_number\"] == best_setting]['Tst_ACC_list'].apply(lambda row: np.array(row)).to_numpy(), axis = 0)\n",
    "\n",
    "# # compute the mean, 25/75 percentiles, and standard deviation\n",
    "# mean_, perc_25, perc_75, std_data = perc(data)\n",
    "\n",
    "# x = np.arange(1, mean_.shape[0]+1)\n",
    "# fh2=plt.figure(figsize=(10, 6), dpi=80)\n",
    "# plt.plot(x, mean_, linewidth=4, color='#006BB2')\n",
    "# plt.fill_between(x, perc_25, perc_75, alpha=0.25, linewidth=0, color='#006BB2')\n",
    "\n",
    "\n",
    "# gh=plt.grid(linewidth=2)\n",
    "# plt.xticks(fontsize=20)\n",
    "# plt.yticks(fontsize=20)\n",
    "# plt.ylabel('Test Accuracy',fontsize=25)\n",
    "# plt.xlabel(r\"Number of Epochs\",fontsize=25)\n",
    "# plt.title(\"\")\n",
    "# plt.axis([0.0,50,mean_[0] - 0.01,0.985])\n",
    "# ApplyFont(plt.gca())"
   ]
  },
  {
   "cell_type": "markdown",
   "id": "9787a039",
   "metadata": {},
   "source": [
    "# EP"
   ]
  },
  {
   "cell_type": "code",
   "execution_count": 13,
   "id": "d8524e23",
   "metadata": {},
   "outputs": [
    {
     "name": "stdout",
     "output_type": "stream",
     "text": [
      "(13, 6)\n"
     ]
    },
    {
     "data": {
      "text/plain": [
       "Index(['setting_number', 'seed', 'Model', 'Hyperparams', 'Trn_ACC_list',\n",
       "       'Tst_ACC_list'],\n",
       "      dtype='object')"
      ]
     },
     "execution_count": 13,
     "metadata": {},
     "output_type": "execute_result"
    }
   ],
   "source": [
    "df_results = pd.read_pickle(r\"../Results/simulation_results_EP_CIFAR10_V2.pkl\")\n",
    "print(df_results.shape)\n",
    "df_results.columns"
   ]
  },
  {
   "cell_type": "code",
   "execution_count": 14,
   "id": "a59cd866",
   "metadata": {},
   "outputs": [
    {
     "data": {
      "text/html": [
       "<div>\n",
       "<style scoped>\n",
       "    .dataframe tbody tr th:only-of-type {\n",
       "        vertical-align: middle;\n",
       "    }\n",
       "\n",
       "    .dataframe tbody tr th {\n",
       "        vertical-align: top;\n",
       "    }\n",
       "\n",
       "    .dataframe thead th {\n",
       "        text-align: right;\n",
       "    }\n",
       "</style>\n",
       "<table border=\"1\" class=\"dataframe\">\n",
       "  <thead>\n",
       "    <tr style=\"text-align: right;\">\n",
       "      <th></th>\n",
       "      <th>setting_number</th>\n",
       "      <th>seed</th>\n",
       "      <th>Model</th>\n",
       "      <th>Hyperparams</th>\n",
       "      <th>Trn_ACC_list</th>\n",
       "      <th>Tst_ACC_list</th>\n",
       "      <th>Trn_ACC</th>\n",
       "      <th>Tst_ACC</th>\n",
       "    </tr>\n",
       "  </thead>\n",
       "  <tbody>\n",
       "    <tr>\n",
       "      <th>0</th>\n",
       "      <td>1</td>\n",
       "      <td>0</td>\n",
       "      <td>EP</td>\n",
       "      <td>{'alphas_W': [0.1, 0.05], 'T1': 20, 'T2': 4, '...</td>\n",
       "      <td>[0.41838, 0.48088, 0.51152, 0.52852, 0.5291, 0...</td>\n",
       "      <td>[0.3924, 0.443, 0.464, 0.4648, 0.4621, 0.4415,...</td>\n",
       "      <td>0.95726</td>\n",
       "      <td>0.4769</td>\n",
       "    </tr>\n",
       "    <tr>\n",
       "      <th>1</th>\n",
       "      <td>1</td>\n",
       "      <td>10</td>\n",
       "      <td>EP</td>\n",
       "      <td>{'alphas_W': [0.1, 0.05], 'T1': 20, 'T2': 4, '...</td>\n",
       "      <td>[0.44066, 0.44422, 0.50338, 0.52074, 0.54794, ...</td>\n",
       "      <td>[0.411, 0.4085, 0.4602, 0.4663, 0.4782, 0.4877...</td>\n",
       "      <td>0.96240</td>\n",
       "      <td>0.4865</td>\n",
       "    </tr>\n",
       "    <tr>\n",
       "      <th>2</th>\n",
       "      <td>1</td>\n",
       "      <td>20</td>\n",
       "      <td>EP</td>\n",
       "      <td>{'alphas_W': [0.1, 0.05], 'T1': 20, 'T2': 4, '...</td>\n",
       "      <td>[0.40046, 0.45514, 0.47478, 0.51494, 0.53376, ...</td>\n",
       "      <td>[0.3718, 0.4288, 0.4209, 0.4564, 0.46, 0.4594,...</td>\n",
       "      <td>0.96104</td>\n",
       "      <td>0.4890</td>\n",
       "    </tr>\n",
       "    <tr>\n",
       "      <th>3</th>\n",
       "      <td>1</td>\n",
       "      <td>30</td>\n",
       "      <td>EP</td>\n",
       "      <td>{'alphas_W': [0.1, 0.05], 'T1': 20, 'T2': 4, '...</td>\n",
       "      <td>[0.39372, 0.45712, 0.51948, 0.50366, 0.52786, ...</td>\n",
       "      <td>[0.3674, 0.414, 0.4695, 0.4451, 0.4583, 0.4585...</td>\n",
       "      <td>0.95686</td>\n",
       "      <td>0.4868</td>\n",
       "    </tr>\n",
       "    <tr>\n",
       "      <th>4</th>\n",
       "      <td>1</td>\n",
       "      <td>40</td>\n",
       "      <td>EP</td>\n",
       "      <td>{'alphas_W': [0.1, 0.05], 'T1': 20, 'T2': 4, '...</td>\n",
       "      <td>[0.44646, 0.45838, 0.50302, 0.51842, 0.543, 0....</td>\n",
       "      <td>[0.4133, 0.4207, 0.4499, 0.4633, 0.4784, 0.485...</td>\n",
       "      <td>0.96006</td>\n",
       "      <td>0.4910</td>\n",
       "    </tr>\n",
       "    <tr>\n",
       "      <th>5</th>\n",
       "      <td>1</td>\n",
       "      <td>50</td>\n",
       "      <td>EP</td>\n",
       "      <td>{'alphas_W': [0.1, 0.05], 'T1': 20, 'T2': 4, '...</td>\n",
       "      <td>[0.42292, 0.48272, 0.4744, 0.48914, 0.5265, 0....</td>\n",
       "      <td>[0.3938, 0.4517, 0.4246, 0.4341, 0.4567, 0.491...</td>\n",
       "      <td>0.96012</td>\n",
       "      <td>0.4856</td>\n",
       "    </tr>\n",
       "    <tr>\n",
       "      <th>6</th>\n",
       "      <td>1</td>\n",
       "      <td>60</td>\n",
       "      <td>EP</td>\n",
       "      <td>{'alphas_W': [0.1, 0.05], 'T1': 20, 'T2': 4, '...</td>\n",
       "      <td>[0.44162, 0.46774, 0.47346, 0.518, 0.52882, 0....</td>\n",
       "      <td>[0.4091, 0.4357, 0.4335, 0.4622, 0.4553, 0.459...</td>\n",
       "      <td>0.96454</td>\n",
       "      <td>0.4973</td>\n",
       "    </tr>\n",
       "    <tr>\n",
       "      <th>7</th>\n",
       "      <td>1</td>\n",
       "      <td>70</td>\n",
       "      <td>EP</td>\n",
       "      <td>{'alphas_W': [0.1, 0.05], 'T1': 20, 'T2': 4, '...</td>\n",
       "      <td>[0.4042, 0.44844, 0.45862, 0.50222, 0.49962, 0...</td>\n",
       "      <td>[0.3767, 0.4161, 0.4143, 0.4451, 0.4368, 0.477...</td>\n",
       "      <td>0.95740</td>\n",
       "      <td>0.4928</td>\n",
       "    </tr>\n",
       "    <tr>\n",
       "      <th>8</th>\n",
       "      <td>1</td>\n",
       "      <td>80</td>\n",
       "      <td>EP</td>\n",
       "      <td>{'alphas_W': [0.1, 0.05], 'T1': 20, 'T2': 4, '...</td>\n",
       "      <td>[0.42598, 0.45002, 0.51832, 0.4998, 0.53982, 0...</td>\n",
       "      <td>[0.4046, 0.4159, 0.4722, 0.4503, 0.4763, 0.485...</td>\n",
       "      <td>0.95824</td>\n",
       "      <td>0.4927</td>\n",
       "    </tr>\n",
       "    <tr>\n",
       "      <th>9</th>\n",
       "      <td>1</td>\n",
       "      <td>90</td>\n",
       "      <td>EP</td>\n",
       "      <td>{'alphas_W': [0.1, 0.05], 'T1': 20, 'T2': 4, '...</td>\n",
       "      <td>[0.45402, 0.44004, 0.5114, 0.53054, 0.48512, 0...</td>\n",
       "      <td>[0.4241, 0.3993, 0.4637, 0.4745, 0.4192, 0.474...</td>\n",
       "      <td>0.95994</td>\n",
       "      <td>0.4956</td>\n",
       "    </tr>\n",
       "    <tr>\n",
       "      <th>10</th>\n",
       "      <td>2</td>\n",
       "      <td>0</td>\n",
       "      <td>EP</td>\n",
       "      <td>{'alphas_W': [0.1, 0.05], 'T1': 20, 'T2': 4, '...</td>\n",
       "      <td>[0.41878, 0.48114, 0.51204, 0.5292, 0.52996, 0...</td>\n",
       "      <td>[0.3923, 0.4432, 0.4641, 0.465, 0.463, 0.4422,...</td>\n",
       "      <td>0.95790</td>\n",
       "      <td>0.4839</td>\n",
       "    </tr>\n",
       "    <tr>\n",
       "      <th>11</th>\n",
       "      <td>2</td>\n",
       "      <td>10</td>\n",
       "      <td>EP</td>\n",
       "      <td>{'alphas_W': [0.1, 0.05], 'T1': 20, 'T2': 4, '...</td>\n",
       "      <td>[0.44122, 0.44502, 0.50434, 0.52214, 0.5487, 0...</td>\n",
       "      <td>[0.4116, 0.4094, 0.4607, 0.468, 0.4794, 0.4878...</td>\n",
       "      <td>0.96302</td>\n",
       "      <td>0.4916</td>\n",
       "    </tr>\n",
       "    <tr>\n",
       "      <th>12</th>\n",
       "      <td>2</td>\n",
       "      <td>20</td>\n",
       "      <td>EP</td>\n",
       "      <td>{'alphas_W': [0.1, 0.05], 'T1': 20, 'T2': 4, '...</td>\n",
       "      <td>[0.40058, 0.45564, 0.47542, 0.5149, 0.53402, 0...</td>\n",
       "      <td>[0.3723, 0.4297, 0.4218, 0.4573, 0.4604, 0.46,...</td>\n",
       "      <td>0.96092</td>\n",
       "      <td>0.4968</td>\n",
       "    </tr>\n",
       "  </tbody>\n",
       "</table>\n",
       "</div>"
      ],
      "text/plain": [
       "   setting_number seed Model  \\\n",
       "0               1    0    EP   \n",
       "1               1   10    EP   \n",
       "2               1   20    EP   \n",
       "3               1   30    EP   \n",
       "4               1   40    EP   \n",
       "5               1   50    EP   \n",
       "6               1   60    EP   \n",
       "7               1   70    EP   \n",
       "8               1   80    EP   \n",
       "9               1   90    EP   \n",
       "10              2    0    EP   \n",
       "11              2   10    EP   \n",
       "12              2   20    EP   \n",
       "\n",
       "                                          Hyperparams  \\\n",
       "0   {'alphas_W': [0.1, 0.05], 'T1': 20, 'T2': 4, '...   \n",
       "1   {'alphas_W': [0.1, 0.05], 'T1': 20, 'T2': 4, '...   \n",
       "2   {'alphas_W': [0.1, 0.05], 'T1': 20, 'T2': 4, '...   \n",
       "3   {'alphas_W': [0.1, 0.05], 'T1': 20, 'T2': 4, '...   \n",
       "4   {'alphas_W': [0.1, 0.05], 'T1': 20, 'T2': 4, '...   \n",
       "5   {'alphas_W': [0.1, 0.05], 'T1': 20, 'T2': 4, '...   \n",
       "6   {'alphas_W': [0.1, 0.05], 'T1': 20, 'T2': 4, '...   \n",
       "7   {'alphas_W': [0.1, 0.05], 'T1': 20, 'T2': 4, '...   \n",
       "8   {'alphas_W': [0.1, 0.05], 'T1': 20, 'T2': 4, '...   \n",
       "9   {'alphas_W': [0.1, 0.05], 'T1': 20, 'T2': 4, '...   \n",
       "10  {'alphas_W': [0.1, 0.05], 'T1': 20, 'T2': 4, '...   \n",
       "11  {'alphas_W': [0.1, 0.05], 'T1': 20, 'T2': 4, '...   \n",
       "12  {'alphas_W': [0.1, 0.05], 'T1': 20, 'T2': 4, '...   \n",
       "\n",
       "                                         Trn_ACC_list  \\\n",
       "0   [0.41838, 0.48088, 0.51152, 0.52852, 0.5291, 0...   \n",
       "1   [0.44066, 0.44422, 0.50338, 0.52074, 0.54794, ...   \n",
       "2   [0.40046, 0.45514, 0.47478, 0.51494, 0.53376, ...   \n",
       "3   [0.39372, 0.45712, 0.51948, 0.50366, 0.52786, ...   \n",
       "4   [0.44646, 0.45838, 0.50302, 0.51842, 0.543, 0....   \n",
       "5   [0.42292, 0.48272, 0.4744, 0.48914, 0.5265, 0....   \n",
       "6   [0.44162, 0.46774, 0.47346, 0.518, 0.52882, 0....   \n",
       "7   [0.4042, 0.44844, 0.45862, 0.50222, 0.49962, 0...   \n",
       "8   [0.42598, 0.45002, 0.51832, 0.4998, 0.53982, 0...   \n",
       "9   [0.45402, 0.44004, 0.5114, 0.53054, 0.48512, 0...   \n",
       "10  [0.41878, 0.48114, 0.51204, 0.5292, 0.52996, 0...   \n",
       "11  [0.44122, 0.44502, 0.50434, 0.52214, 0.5487, 0...   \n",
       "12  [0.40058, 0.45564, 0.47542, 0.5149, 0.53402, 0...   \n",
       "\n",
       "                                         Tst_ACC_list  Trn_ACC  Tst_ACC  \n",
       "0   [0.3924, 0.443, 0.464, 0.4648, 0.4621, 0.4415,...  0.95726   0.4769  \n",
       "1   [0.411, 0.4085, 0.4602, 0.4663, 0.4782, 0.4877...  0.96240   0.4865  \n",
       "2   [0.3718, 0.4288, 0.4209, 0.4564, 0.46, 0.4594,...  0.96104   0.4890  \n",
       "3   [0.3674, 0.414, 0.4695, 0.4451, 0.4583, 0.4585...  0.95686   0.4868  \n",
       "4   [0.4133, 0.4207, 0.4499, 0.4633, 0.4784, 0.485...  0.96006   0.4910  \n",
       "5   [0.3938, 0.4517, 0.4246, 0.4341, 0.4567, 0.491...  0.96012   0.4856  \n",
       "6   [0.4091, 0.4357, 0.4335, 0.4622, 0.4553, 0.459...  0.96454   0.4973  \n",
       "7   [0.3767, 0.4161, 0.4143, 0.4451, 0.4368, 0.477...  0.95740   0.4928  \n",
       "8   [0.4046, 0.4159, 0.4722, 0.4503, 0.4763, 0.485...  0.95824   0.4927  \n",
       "9   [0.4241, 0.3993, 0.4637, 0.4745, 0.4192, 0.474...  0.95994   0.4956  \n",
       "10  [0.3923, 0.4432, 0.4641, 0.465, 0.463, 0.4422,...  0.95790   0.4839  \n",
       "11  [0.4116, 0.4094, 0.4607, 0.468, 0.4794, 0.4878...  0.96302   0.4916  \n",
       "12  [0.3723, 0.4297, 0.4218, 0.4573, 0.4604, 0.46,...  0.96092   0.4968  "
      ]
     },
     "execution_count": 14,
     "metadata": {},
     "output_type": "execute_result"
    }
   ],
   "source": [
    "df_results['Trn_ACC'] = df_results.apply(lambda row: row['Trn_ACC_list'][-1], axis = 1)\n",
    "df_results['Tst_ACC'] = df_results.apply(lambda row: row['Tst_ACC_list'][-1], axis = 1)\n",
    "df_results"
   ]
  },
  {
   "cell_type": "code",
   "execution_count": 15,
   "id": "1977f8bf",
   "metadata": {},
   "outputs": [
    {
     "data": {
      "text/html": [
       "<div>\n",
       "<style scoped>\n",
       "    .dataframe tbody tr th:only-of-type {\n",
       "        vertical-align: middle;\n",
       "    }\n",
       "\n",
       "    .dataframe tbody tr th {\n",
       "        vertical-align: top;\n",
       "    }\n",
       "\n",
       "    .dataframe thead th {\n",
       "        text-align: right;\n",
       "    }\n",
       "</style>\n",
       "<table border=\"1\" class=\"dataframe\">\n",
       "  <thead>\n",
       "    <tr style=\"text-align: right;\">\n",
       "      <th></th>\n",
       "      <th>setting_number</th>\n",
       "      <th>Trn_ACC</th>\n",
       "      <th>Tst_ACC</th>\n",
       "    </tr>\n",
       "  </thead>\n",
       "  <tbody>\n",
       "    <tr>\n",
       "      <th>0</th>\n",
       "      <td>1</td>\n",
       "      <td>0.959786</td>\n",
       "      <td>0.489420</td>\n",
       "    </tr>\n",
       "    <tr>\n",
       "      <th>1</th>\n",
       "      <td>2</td>\n",
       "      <td>0.960613</td>\n",
       "      <td>0.490767</td>\n",
       "    </tr>\n",
       "  </tbody>\n",
       "</table>\n",
       "</div>"
      ],
      "text/plain": [
       "   setting_number   Trn_ACC   Tst_ACC\n",
       "0               1  0.959786  0.489420\n",
       "1               2  0.960613  0.490767"
      ]
     },
     "execution_count": 15,
     "metadata": {},
     "output_type": "execute_result"
    }
   ],
   "source": [
    "df_setting = df_results[['setting_number', 'Trn_ACC', 'Tst_ACC']].groupby('setting_number').mean().reset_index()\n",
    "df_setting"
   ]
  },
  {
   "cell_type": "code",
   "execution_count": 16,
   "id": "4a82170a",
   "metadata": {},
   "outputs": [
    {
     "data": {
      "text/plain": [
       "2.0"
      ]
     },
     "execution_count": 16,
     "metadata": {},
     "output_type": "execute_result"
    }
   ],
   "source": [
    "best_setting = df_setting.iloc[df_setting['Trn_ACC'].argmax()]['setting_number']\n",
    "best_setting = 1"
   ]
  },
  {
   "cell_type": "code",
   "execution_count": 17,
   "id": "8f757eac",
   "metadata": {},
   "outputs": [
    {
     "data": {
      "image/png": "[encoded data removed]",
      "text/plain": [
       "<Figure size 800x480 with 1 Axes>"
      ]
     },
     "metadata": {
      "needs_background": "light"
     },
     "output_type": "display_data"
    }
   ],
   "source": [
    "data = np.stack(df_results.loc[df_results[\"setting_number\"] == best_setting]['Tst_ACC_list'].apply(lambda row: np.array(row)).to_numpy(), axis = 0)\n",
    "\n",
    "# compute the mean, 25/75 percentiles, and standard deviation\n",
    "mean_, perc_25, perc_75, std_data = perc(data)\n",
    "\n",
    "x = np.arange(1, mean_.shape[0]+1)\n",
    "fh2=plt.figure(figsize=(10, 6), dpi=80)\n",
    "plt.plot(x, mean_, linewidth=4, color='#006BB2')\n",
    "plt.fill_between(x, perc_25, perc_75, alpha=0.25, linewidth=0, color='#006BB2')\n",
    "\n",
    "\n",
    "gh=plt.grid(linewidth=2)\n",
    "plt.xticks(fontsize=20)\n",
    "plt.yticks(fontsize=20)\n",
    "plt.ylabel('Test Accuracy',fontsize=25)\n",
    "plt.xlabel(r\"Number of Epochs\",fontsize=25)\n",
    "plt.title(\"\")\n",
    "plt.axis([0.0,50,mean_[0] - 0.01,0.55])\n",
    "ApplyFont(plt.gca())"
   ]
  },
  {
   "cell_type": "markdown",
   "id": "c07c43c4",
   "metadata": {},
   "source": [
    "# EP-Continual-Weight-Update"
   ]
  },
  {
   "cell_type": "code",
   "execution_count": null,
   "id": "444278a9",
   "metadata": {},
   "outputs": [],
   "source": []
  },
  {
   "cell_type": "markdown",
   "id": "64ad08c9",
   "metadata": {},
   "source": [
    "# PC"
   ]
  },
  {
   "cell_type": "code",
   "execution_count": 18,
   "id": "328e53cc",
   "metadata": {},
   "outputs": [
    {
     "data": {
      "text/plain": [
       "Index(['setting_number', 'seed', 'Model', 'Hyperparams', 'Trn_ACC_list',\n",
       "       'Tst_ACC_list', 'Trn_ACC', 'Tst_ACC'],\n",
       "      dtype='object')"
      ]
     },
     "execution_count": 18,
     "metadata": {},
     "output_type": "execute_result"
    }
   ],
   "source": [
    "# df_results = pd.read_pickle(r\"../Results/simulation_results_PC_MNIST.pkl\")\n",
    "df_results.columns"
   ]
  },
  {
   "cell_type": "code",
   "execution_count": 19,
   "id": "b68bf6f8",
   "metadata": {},
   "outputs": [],
   "source": [
    "# df_results['Trn_ACC'] = df_results.apply(lambda row: row['Trn_ACC_list'][-1], axis = 1)\n",
    "# df_results['Tst_ACC'] = df_results.apply(lambda row: row['Tst_ACC_list'][-1], axis = 1)\n",
    "# df_results"
   ]
  },
  {
   "cell_type": "code",
   "execution_count": 20,
   "id": "99251c69",
   "metadata": {},
   "outputs": [],
   "source": [
    "# df_setting = df_results[['setting_number', 'Trn_ACC', 'Tst_ACC']].groupby('setting_number').mean().reset_index()\n",
    "# df_setting"
   ]
  },
  {
   "cell_type": "code",
   "execution_count": 21,
   "id": "e073993d",
   "metadata": {},
   "outputs": [],
   "source": [
    "# best_setting = df_setting.iloc[df_setting['Trn_ACC'].argmax()]['setting_number']\n",
    "# best_setting #= 1"
   ]
  },
  {
   "cell_type": "code",
   "execution_count": 22,
   "id": "90874b0b",
   "metadata": {},
   "outputs": [],
   "source": [
    "# data = np.stack(df_results.loc[df_results[\"setting_number\"] == best_setting]['Tst_ACC_list'].apply(lambda row: np.array(row)).to_numpy(), axis = 0)\n",
    "\n",
    "# # compute the mean, 25/75 percentiles, and standard deviation\n",
    "# mean_, perc_25, perc_75, std_data = perc(data)\n",
    "\n",
    "# x = np.arange(1, mean_.shape[0]+1)\n",
    "# fh2=plt.figure(figsize=(10, 6), dpi=80)\n",
    "# plt.plot(x, mean_, linewidth=4, color='#006BB2')\n",
    "# plt.fill_between(x, perc_25, perc_75, alpha=0.25, linewidth=0, color='#006BB2')\n",
    "\n",
    "\n",
    "# gh=plt.grid(linewidth=2)\n",
    "# plt.xticks(fontsize=20)\n",
    "# plt.yticks(fontsize=20)\n",
    "# plt.ylabel('Test Accuracy',fontsize=25)\n",
    "# plt.xlabel(r\"Number of Epochs\",fontsize=25)\n",
    "# plt.title(\"\")\n",
    "# plt.axis([0.0,50,mean_[0] - 0.01,0.985])\n",
    "# ApplyFont(plt.gca())"
   ]
  },
  {
   "cell_type": "markdown",
   "id": "cb39b95c",
   "metadata": {},
   "source": [
    "# PC-Nudge"
   ]
  },
  {
   "cell_type": "code",
   "execution_count": 23,
   "id": "34bf1530",
   "metadata": {},
   "outputs": [],
   "source": [
    "# df_results = pd.read_pickle(r\"../Results/simulation_results_PCNudge_MNIST.pkl\")\n",
    "# df_results.columns"
   ]
  },
  {
   "cell_type": "code",
   "execution_count": 24,
   "id": "32ce693c",
   "metadata": {},
   "outputs": [],
   "source": [
    "# df_results['Trn_ACC'] = df_results.apply(lambda row: row['Trn_ACC_list'][-1], axis = 1)\n",
    "# df_results['Tst_ACC'] = df_results.apply(lambda row: row['Tst_ACC_list'][-1], axis = 1)\n",
    "# df_results"
   ]
  },
  {
   "cell_type": "code",
   "execution_count": 25,
   "id": "5d036022",
   "metadata": {},
   "outputs": [],
   "source": [
    "# df_setting = df_results[['setting_number', 'Trn_ACC', 'Tst_ACC']].groupby('setting_number').mean().reset_index()\n",
    "# df_setting"
   ]
  },
  {
   "cell_type": "code",
   "execution_count": 26,
   "id": "528562d0",
   "metadata": {},
   "outputs": [],
   "source": [
    "# best_setting = df_setting.iloc[df_setting['Trn_ACC'].argmax()]['setting_number']\n",
    "# best_setting"
   ]
  },
  {
   "cell_type": "code",
   "execution_count": 27,
   "id": "94b62564",
   "metadata": {},
   "outputs": [],
   "source": [
    "# data = np.stack(df_results.loc[df_results[\"setting_number\"] == best_setting]['Tst_ACC_list'].apply(lambda row: np.array(row)).to_numpy(), axis = 0)\n",
    "\n",
    "# # compute the mean, 25/75 percentiles, and standard deviation\n",
    "# mean_, perc_25, perc_75, std_data = perc(data)\n",
    "\n",
    "# x = np.arange(1, mean_.shape[0]+1)\n",
    "# fh2=plt.figure(figsize=(10, 6), dpi=80)\n",
    "# plt.plot(x, mean_, linewidth=4, color='#006BB2')\n",
    "# plt.fill_between(x, perc_25, perc_75, alpha=0.25, linewidth=0, color='#006BB2')\n",
    "\n",
    "\n",
    "# gh=plt.grid(linewidth=2)\n",
    "# plt.xticks(fontsize=20)\n",
    "# plt.yticks(fontsize=20)\n",
    "# plt.ylabel('Test Accuracy',fontsize=25)\n",
    "# plt.xlabel(r\"Number of Epochs\",fontsize=25)\n",
    "# plt.title(\"\")\n",
    "# plt.axis([0.0,50,mean_[0] - 0.01,0.52])\n",
    "# ApplyFont(plt.gca())"
   ]
  },
  {
   "cell_type": "markdown",
   "id": "663ebb5f",
   "metadata": {},
   "source": [
    "# Altogether"
   ]
  },
  {
   "cell_type": "markdown",
   "id": "b500d3b2",
   "metadata": {},
   "source": [
    "### Read EP Results"
   ]
  },
  {
   "cell_type": "code",
   "execution_count": 28,
   "id": "95067acd",
   "metadata": {},
   "outputs": [],
   "source": [
    "df_results_ep = pd.read_pickle(r\"../Results/simulation_results_EP_CIFAR10_V2.pkl\")\n",
    "df_results_ep['Trn_ACC'] = df_results_ep.apply(lambda row: row['Trn_ACC_list'][-1], axis = 1)\n",
    "df_results_ep['Tst_ACC'] = df_results_ep.apply(lambda row: row['Tst_ACC_list'][-1], axis = 1)\n",
    "df_setting_ep = df_results_ep[['setting_number', 'Trn_ACC', 'Tst_ACC']].groupby('setting_number').mean().reset_index()\n",
    "best_setting_ep = df_setting_ep.iloc[df_setting_ep['Trn_ACC'].argmax()]['setting_number']\n",
    "\n",
    "data_ep_tst = np.stack(df_results_ep.loc[df_results_ep[\"setting_number\"] == best_setting_ep]['Tst_ACC_list'].apply(lambda row: np.array(row)).to_numpy(), axis = 0)\n",
    "data_ep_trn = np.stack(df_results_ep.loc[df_results_ep[\"setting_number\"] == best_setting_ep]['Trn_ACC_list'].apply(lambda row: np.array(row)).to_numpy(), axis = 0)\n",
    "\n",
    "# compute the mean, 25/75 percentiles, and standard deviation\n",
    "mean_ep_tst, perc_25_ep_tst, perc_75_ep_tst, std_data_ep_tst = perc(data_ep_tst)\n",
    "mean_ep_trn, perc_25_ep_trn, perc_75_ep_trn, std_data_ep_trn = perc(data_ep_trn)"
   ]
  },
  {
   "cell_type": "markdown",
   "id": "48e7c1d6",
   "metadata": {},
   "source": [
    "### Read CSM Results"
   ]
  },
  {
   "cell_type": "markdown",
   "id": "8b134592",
   "metadata": {},
   "source": [
    "### Read PC Results"
   ]
  },
  {
   "cell_type": "markdown",
   "id": "61731f44",
   "metadata": {},
   "source": [
    "### Read PC-Nudge Results"
   ]
  },
  {
   "cell_type": "markdown",
   "id": "79fb9aee",
   "metadata": {},
   "source": [
    "### Read CorInfoMax Results"
   ]
  },
  {
   "cell_type": "code",
   "execution_count": 29,
   "id": "222caa9b",
   "metadata": {},
   "outputs": [],
   "source": [
    "df_results_corinfo = pd.read_pickle(r\"../Results/simulation_results_CorInfoMax_CIFAR10.pkl\")\n",
    "df_results_corinfo['Trn_ACC'] = df_results_corinfo.apply(lambda row: row['Trn_ACC_list'][-1], axis = 1)\n",
    "df_results_corinfo['Tst_ACC'] = df_results_corinfo.apply(lambda row: row['Tst_ACC_list'][-1], axis = 1)\n",
    "df_setting_corinfo = df_results_corinfo[['setting_number', 'Trn_ACC', 'Tst_ACC']].groupby('setting_number').mean().reset_index()\n",
    "best_setting_corinfo = df_setting_corinfo.iloc[df_setting_corinfo['Trn_ACC'].argmax()]['setting_number']\n",
    "best_setting_corinfo = 1\n",
    "\n",
    "data_corinfo_tst = np.stack(df_results_corinfo.loc[df_results_corinfo[\"setting_number\"] == best_setting_corinfo]['Tst_ACC_list'].apply(lambda row: np.array(row)).to_numpy(), axis = 0)\n",
    "data_corinfo_trn = np.stack(df_results_corinfo.loc[df_results_corinfo[\"setting_number\"] == best_setting_corinfo]['Trn_ACC_list'].apply(lambda row: np.array(row)).to_numpy(), axis = 0)\n",
    "\n",
    "# compute the mean, 25/75 percentiles, and standard deviation\n",
    "mean_corinfo_tst, perc_25_corinfo_tst, perc_75_corinfo_tst, std_data_corinfo_tst = perc(data_corinfo_tst)\n",
    "mean_corinfo_trn, perc_25_corinfo_trn, perc_75_corinfo_trn, std_data_corinfo_trn = perc(data_corinfo_trn)"
   ]
  },
  {
   "cell_type": "code",
   "execution_count": 30,
   "id": "71f48a1f",
   "metadata": {},
   "outputs": [
    {
     "data": {
      "image/png": "[encoded data removed]",
      "text/plain": [
       "<Figure size 800x480 with 1 Axes>"
      ]
     },
     "metadata": {
      "needs_background": "light"
     },
     "output_type": "display_data"
    }
   ],
   "source": [
    "x = np.arange(1, mean_corinfo_tst.shape[0]+1)\n",
    "fh2=plt.figure(figsize=(10, 6), dpi=80)\n",
    "\n",
    "\n",
    "plt.plot(x, mean_corinfo_tst, linewidth=4, color='#006BB2', label = \"CorInfoMax\")\n",
    "plt.fill_between(x, mean_corinfo_tst - std_data_corinfo_tst, mean_corinfo_tst + std_data_corinfo_tst, alpha=0.25, linewidth=0, color='#006BB2')\n",
    "\n",
    "# plt.plot(x, mean_csm_tst, 'r--', linewidth=4, label = \"CSM\")\n",
    "# plt.fill_between(x, mean_csm_tst - std_data_csm_tst, mean_csm_tst + std_data_csm_tst, color = 'red', alpha=0.25, linewidth=0)\n",
    "\n",
    "plt.plot(x, mean_ep_tst, 'g--', linewidth=4, label = \"EP\")\n",
    "plt.fill_between(x, mean_ep_tst - std_data_ep_tst, mean_ep_tst + std_data_ep_tst, color = 'green', alpha=0.25, linewidth=0)\n",
    "\n",
    "# plt.plot(x, mean_pc_tst, 'b--', linewidth=4, label = \"PC\")\n",
    "# plt.fill_between(x, mean_pc_tst - std_data_pc_tst, mean_pc_tst + std_data_pc_tst, color = 'blue', alpha=0.25, linewidth=0)\n",
    "\n",
    "# plt.plot(x, mean_pcn_tst, '--', color = \"orange\", linewidth=4, label = \"PCN\")\n",
    "# plt.fill_between(x, mean_pcn_tst - std_data_pcn_tst, mean_pcn_tst + std_data_pcn_tst, color = 'orange', alpha=0.25, linewidth=0)\n",
    "\n",
    "\n",
    "gh=plt.grid(linewidth=2)\n",
    "plt.xticks(fontsize=20)\n",
    "plt.yticks(fontsize=20)\n",
    "plt.ylabel('Accuracy',fontsize=25)\n",
    "plt.xlabel(r\"Number of Epochs\",fontsize=25)\n",
    "plt.title(\"Test Accuracies on CIFAR10\",fontsize=25)\n",
    "plt.legend(fontsize = 20, loc = \"best\")\n",
    "plt.axis([0.0,50,mean_corinfo_tst[0] - 0.01,0.53])\n",
    "ApplyFont(plt.gca())\n",
    "plt.savefig('Figures/CorInfoMaxCIFAR10TestAccuracyComparison.pdf', format='pdf')"
   ]
  },
  {
   "cell_type": "code",
   "execution_count": 31,
   "id": "832c3de5",
   "metadata": {},
   "outputs": [
    {
     "data": {
      "image/png": "[encoded data removed]",
      "text/plain": [
       "<Figure size 800x480 with 1 Axes>"
      ]
     },
     "metadata": {
      "needs_background": "light"
     },
     "output_type": "display_data"
    }
   ],
   "source": [
    "x = np.arange(1, mean_corinfo_trn.shape[0]+1)\n",
    "fh2=plt.figure(figsize=(10, 6), dpi=80)\n",
    "\n",
    "\n",
    "plt.plot(x, mean_corinfo_trn, linewidth=4, color='#006BB2', label = \"CorInfoMax\")\n",
    "plt.fill_between(x, mean_corinfo_trn - std_data_corinfo_trn, mean_corinfo_trn + std_data_corinfo_trn, alpha=0.25, linewidth=0, color='#006BB2')\n",
    "\n",
    "# plt.plot(x, mean_csm_trn, 'r--', linewidth=4, label = \"CSM\")\n",
    "# plt.fill_between(x, mean_csm_trn - std_data_csm_trn, mean_csm_trn + std_data_csm_trn, color = 'red', alpha=0.25, linewidth=0)\n",
    "\n",
    "plt.plot(x, mean_ep_trn, 'g--', linewidth=4, label = \"EP\")\n",
    "plt.fill_between(x, mean_ep_trn - std_data_ep_trn, mean_ep_trn + std_data_ep_trn, color = 'green', alpha=0.25, linewidth=0)\n",
    "\n",
    "# plt.plot(x, mean_pc_trn, 'b--', linewidth=4, label = \"PC\")\n",
    "# plt.fill_between(x, mean_pc_trn - std_data_pc_trn, mean_pc_trn + std_data_pc_trn, color = 'blue', alpha=0.25, linewidth=0)\n",
    "\n",
    "# plt.plot(x, mean_pcn_trn, '--', color = \"orange\", linewidth=4, label = \"PCN\")\n",
    "# plt.fill_between(x, mean_pcn_trn - std_data_pcn_trn, mean_pcn_trn + std_data_pcn_trn, color = 'orange', alpha=0.25, linewidth=0)\n",
    "\n",
    "\n",
    "gh=plt.grid(linewidth=2)\n",
    "plt.xticks(fontsize=20)\n",
    "plt.yticks(fontsize=20)\n",
    "plt.ylabel('Accuracy',fontsize=25)\n",
    "plt.xlabel(r\"Number of Epochs\",fontsize=25)\n",
    "plt.title(\"Train Accuracies on CIFAR10\",fontsize=25)\n",
    "plt.legend(fontsize = 20, loc = \"best\")\n",
    "plt.axis([0.0,50,mean_corinfo_trn[0] - 0.01,1.001])\n",
    "ApplyFont(plt.gca())\n",
    "plt.savefig('Figures/CorInfoMaxCIFAR10TrainAccuracyComparison.pdf', format='pdf')"
   ]
  },
  {
   "cell_type": "code",
   "execution_count": null,
   "id": "5d7e8ec9",
   "metadata": {},
   "outputs": [],
   "source": []
  }
 ],
 "metadata": {
  "kernelspec": {
   "display_name": "Python 3 (ipykernel)",
   "language": "python",
   "name": "python3"
  },
  "language_info": {
   "codemirror_mode": {
    "name": "ipython",
    "version": 3
   },
   "file_extension": ".py",
   "mimetype": "text/x-python",
   "name": "python",
   "nbconvert_exporter": "python",
   "pygments_lexer": "ipython3",
   "version": "3.8.8"
  }
 },
 "nbformat": 4,
 "nbformat_minor": 5
}
