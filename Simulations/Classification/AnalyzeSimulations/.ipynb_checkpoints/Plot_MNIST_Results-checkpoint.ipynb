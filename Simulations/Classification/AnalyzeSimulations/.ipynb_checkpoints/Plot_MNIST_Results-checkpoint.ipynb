{
 "cells": [
  {
   "cell_type": "code",
   "execution_count": 1,
   "id": "8aa24235",
   "metadata": {},
   "outputs": [],
   "source": [
    "import sys\n",
    "sys.path.insert(0, '../Results')\n",
    "sys.path.insert(0, '../../../src')\n",
    "import pandas as pd\n",
    "import numpy as np\n",
    "import matplotlib.pyplot as plt\n",
    "import pickle\n",
    "import os\n",
    "from visualization import perc, SetPlotRC, ApplyFont"
   ]
  },
  {
   "cell_type": "markdown",
   "id": "3550e6db",
   "metadata": {},
   "source": [
    "# CorInfoMax"
   ]
  },
  {
   "cell_type": "code",
   "execution_count": null,
   "id": "1df1f451",
   "metadata": {},
   "outputs": [],
   "source": []
  },
  {
   "cell_type": "markdown",
   "id": "e121b84a",
   "metadata": {},
   "source": [
    "# CSM"
   ]
  },
  {
   "cell_type": "code",
   "execution_count": 2,
   "id": "fc6eb3f1",
   "metadata": {},
   "outputs": [
    {
     "data": {
      "text/plain": [
       "Index(['setting_number', 'seed', 'Model', 'Hyperparams', 'Trn_ACC_list',\n",
       "       'Tst_ACC_list'],\n",
       "      dtype='object')"
      ]
     },
     "execution_count": 2,
     "metadata": {},
     "output_type": "execute_result"
    }
   ],
   "source": [
    "df_wsm_results = pd.read_pickle(r\"../Results/simulation_results_CSM_MNIST.pkl\")\n",
    "df_wsm_results.columns"
   ]
  },
  {
   "cell_type": "code",
   "execution_count": 3,
   "id": "929530ba",
   "metadata": {},
   "outputs": [
    {
     "data": {
      "text/html": [
       "<div>\n",
       "<style scoped>\n",
       "    .dataframe tbody tr th:only-of-type {\n",
       "        vertical-align: middle;\n",
       "    }\n",
       "\n",
       "    .dataframe tbody tr th {\n",
       "        vertical-align: top;\n",
       "    }\n",
       "\n",
       "    .dataframe thead th {\n",
       "        text-align: right;\n",
       "    }\n",
       "</style>\n",
       "<table border=\"1\" class=\"dataframe\">\n",
       "  <thead>\n",
       "    <tr style=\"text-align: right;\">\n",
       "      <th></th>\n",
       "      <th>setting_number</th>\n",
       "      <th>seed</th>\n",
       "      <th>Model</th>\n",
       "      <th>Hyperparams</th>\n",
       "      <th>Trn_ACC_list</th>\n",
       "      <th>Tst_ACC_list</th>\n",
       "      <th>Trn_ACC</th>\n",
       "      <th>Tst_ACC</th>\n",
       "    </tr>\n",
       "  </thead>\n",
       "  <tbody>\n",
       "    <tr>\n",
       "      <th>0</th>\n",
       "      <td>1</td>\n",
       "      <td>0</td>\n",
       "      <td>CSM</td>\n",
       "      <td>{'alphas_W': [0.5, 0.375], 'alphas_M': [-0.01]...</td>\n",
       "      <td>[0.95365, 0.9737666666666667, 0.9731]</td>\n",
       "      <td>[0.9464, 0.9695, 0.9668]</td>\n",
       "      <td>0.973100</td>\n",
       "      <td>0.9668</td>\n",
       "    </tr>\n",
       "    <tr>\n",
       "      <th>1</th>\n",
       "      <td>1</td>\n",
       "      <td>10</td>\n",
       "      <td>CSM</td>\n",
       "      <td>{'alphas_W': [0.5, 0.375], 'alphas_M': [-0.01]...</td>\n",
       "      <td>[0.9528666666666666, 0.9687833333333333, 0.974...</td>\n",
       "      <td>[0.9507, 0.9611, 0.9635]</td>\n",
       "      <td>0.974483</td>\n",
       "      <td>0.9635</td>\n",
       "    </tr>\n",
       "  </tbody>\n",
       "</table>\n",
       "</div>"
      ],
      "text/plain": [
       "  setting_number seed Model  \\\n",
       "0              1    0   CSM   \n",
       "1              1   10   CSM   \n",
       "\n",
       "                                         Hyperparams  \\\n",
       "0  {'alphas_W': [0.5, 0.375], 'alphas_M': [-0.01]...   \n",
       "1  {'alphas_W': [0.5, 0.375], 'alphas_M': [-0.01]...   \n",
       "\n",
       "                                        Trn_ACC_list  \\\n",
       "0              [0.95365, 0.9737666666666667, 0.9731]   \n",
       "1  [0.9528666666666666, 0.9687833333333333, 0.974...   \n",
       "\n",
       "               Tst_ACC_list   Trn_ACC  Tst_ACC  \n",
       "0  [0.9464, 0.9695, 0.9668]  0.973100   0.9668  \n",
       "1  [0.9507, 0.9611, 0.9635]  0.974483   0.9635  "
      ]
     },
     "execution_count": 3,
     "metadata": {},
     "output_type": "execute_result"
    }
   ],
   "source": [
    "df_wsm_results['Trn_ACC'] = df_wsm_results.apply(lambda row: row['Trn_ACC_list'][-1], axis = 1)\n",
    "df_wsm_results['Tst_ACC'] = df_wsm_results.apply(lambda row: row['Tst_ACC_list'][-1], axis = 1)\n",
    "df_wsm_results"
   ]
  },
  {
   "cell_type": "code",
   "execution_count": 4,
   "id": "cb2e8d41",
   "metadata": {},
   "outputs": [
    {
     "data": {
      "text/html": [
       "<div>\n",
       "<style scoped>\n",
       "    .dataframe tbody tr th:only-of-type {\n",
       "        vertical-align: middle;\n",
       "    }\n",
       "\n",
       "    .dataframe tbody tr th {\n",
       "        vertical-align: top;\n",
       "    }\n",
       "\n",
       "    .dataframe thead th {\n",
       "        text-align: right;\n",
       "    }\n",
       "</style>\n",
       "<table border=\"1\" class=\"dataframe\">\n",
       "  <thead>\n",
       "    <tr style=\"text-align: right;\">\n",
       "      <th></th>\n",
       "      <th>setting_number</th>\n",
       "      <th>Trn_ACC</th>\n",
       "      <th>Tst_ACC</th>\n",
       "    </tr>\n",
       "  </thead>\n",
       "  <tbody>\n",
       "    <tr>\n",
       "      <th>0</th>\n",
       "      <td>1</td>\n",
       "      <td>0.973792</td>\n",
       "      <td>0.96515</td>\n",
       "    </tr>\n",
       "  </tbody>\n",
       "</table>\n",
       "</div>"
      ],
      "text/plain": [
       "   setting_number   Trn_ACC  Tst_ACC\n",
       "0               1  0.973792  0.96515"
      ]
     },
     "execution_count": 4,
     "metadata": {},
     "output_type": "execute_result"
    }
   ],
   "source": [
    "df_wsm_setting = df_wsm_results[['setting_number', 'Trn_ACC', 'Tst_ACC']].groupby('setting_number').mean().reset_index()\n",
    "df_wsm_setting"
   ]
  },
  {
   "cell_type": "code",
   "execution_count": 5,
   "id": "829bfa39",
   "metadata": {},
   "outputs": [
    {
     "data": {
      "text/plain": [
       "1.0"
      ]
     },
     "execution_count": 5,
     "metadata": {},
     "output_type": "execute_result"
    }
   ],
   "source": [
    "best_setting = df_wsm_setting.iloc[df_wsm_setting['Trn_ACC'].argmin()]['setting_number']\n",
    "best_setting"
   ]
  },
  {
   "cell_type": "code",
   "execution_count": 10,
   "id": "f90a17e2",
   "metadata": {},
   "outputs": [
    {
     "data": {
      "image/png": "[encoded data removed]",
      "text/plain": [
       "<Figure size 800x480 with 1 Axes>"
      ]
     },
     "metadata": {
      "needs_background": "light"
     },
     "output_type": "display_data"
    }
   ],
   "source": [
    "data = np.stack(df_wsm_results.loc[df_wsm_results[\"setting_number\"] == best_setting]['Tst_ACC_list'].apply(lambda row: np.array(row)).to_numpy(), axis = 0)\n",
    "\n",
    "# compute the mean, 25/75 percentiles, and standard deviation\n",
    "mean_, perc_25, perc_75, std_data = perc(data)\n",
    "\n",
    "x = np.arange(1, mean_.shape[0]+1)\n",
    "fh2=plt.figure(figsize=(10, 6), dpi=80)\n",
    "plt.plot(x, mean_, linewidth=4, color='#006BB2')\n",
    "plt.fill_between(x, perc_25, perc_75, alpha=0.25, linewidth=0, color='#006BB2')\n",
    "\n",
    "\n",
    "gh=plt.grid(linewidth=2)\n",
    "plt.xticks(fontsize=20)\n",
    "plt.yticks(fontsize=20)\n",
    "plt.ylabel('Test Accuracy',fontsize=25)\n",
    "plt.xlabel(r\"Number of Epochs\",fontsize=25)\n",
    "plt.title(\"\")\n",
    "plt.axis([0.0,50,mean_[0] - 0.01,0.985])\n",
    "ApplyFont(plt.gca())"
   ]
  },
  {
   "cell_type": "code",
   "execution_count": 9,
   "id": "eda888aa",
   "metadata": {},
   "outputs": [
    {
     "data": {
      "text/plain": [
       "array([0.94855, 0.9653 , 0.96515])"
      ]
     },
     "execution_count": 9,
     "metadata": {},
     "output_type": "execute_result"
    }
   ],
   "source": [
    "mean_"
   ]
  },
  {
   "cell_type": "markdown",
   "id": "c875b86a",
   "metadata": {},
   "source": [
    "# EP"
   ]
  },
  {
   "cell_type": "code",
   "execution_count": null,
   "id": "285ee80b",
   "metadata": {},
   "outputs": [],
   "source": []
  },
  {
   "cell_type": "markdown",
   "id": "e8e75cdc",
   "metadata": {},
   "source": [
    "# EP-Continual-Weight-Update"
   ]
  },
  {
   "cell_type": "code",
   "execution_count": null,
   "id": "7c37dc8a",
   "metadata": {},
   "outputs": [],
   "source": []
  },
  {
   "cell_type": "markdown",
   "id": "2fd4ffd4",
   "metadata": {},
   "source": [
    "# PC"
   ]
  },
  {
   "cell_type": "code",
   "execution_count": null,
   "id": "4264c878",
   "metadata": {},
   "outputs": [],
   "source": []
  },
  {
   "cell_type": "markdown",
   "id": "d2f8f545",
   "metadata": {},
   "source": [
    "# PC-Nudge"
   ]
  },
  {
   "cell_type": "code",
   "execution_count": null,
   "id": "16616518",
   "metadata": {},
   "outputs": [],
   "source": []
  },
  {
   "cell_type": "markdown",
   "id": "3b82ea06",
   "metadata": {},
   "source": [
    "# Altogether"
   ]
  },
  {
   "cell_type": "code",
   "execution_count": null,
   "id": "19611d8e",
   "metadata": {},
   "outputs": [],
   "source": []
  }
 ],
 "metadata": {
  "kernelspec": {
   "display_name": "Python 3 (ipykernel)",
   "language": "python",
   "name": "python3"
  },
  "language_info": {
   "codemirror_mode": {
    "name": "ipython",
    "version": 3
   },
   "file_extension": ".py",
   "mimetype": "text/x-python",
   "name": "python",
   "nbconvert_exporter": "python",
   "pygments_lexer": "ipython3",
   "version": "3.8.8"
  }
 },
 "nbformat": 4,
 "nbformat_minor": 5
}
