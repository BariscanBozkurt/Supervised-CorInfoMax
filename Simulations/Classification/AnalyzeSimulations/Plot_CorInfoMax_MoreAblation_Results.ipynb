{
 "cells": [
  {
   "cell_type": "code",
   "execution_count": 1,
   "id": "7d3eda6d-d969-44ce-aa31-4285193b1205",
   "metadata": {
    "tags": []
   },
   "outputs": [],
   "source": [
    "import sys\n",
    "sys.path.insert(0, '../Results')\n",
    "sys.path.insert(0, '../../../src')\n",
    "import pandas as pd\n",
    "import numpy as np\n",
    "import matplotlib.pyplot as plt\n",
    "import pickle\n",
    "import os\n",
    "from visualization import perc, SetPlotRC, ApplyFont"
   ]
  },
  {
   "cell_type": "code",
   "execution_count": 2,
   "id": "6f16d9fb-02e5-427e-bbe3-dc0dd2c9f8e2",
   "metadata": {
    "tags": []
   },
   "outputs": [],
   "source": [
    "if not os.path.exists(\"Figures\"):\n",
    "    os.mkdir(\"Figures\")"
   ]
  },
  {
   "cell_type": "markdown",
   "id": "5a2d236a-3073-4491-bf3d-490e18a876ba",
   "metadata": {},
   "source": [
    "# MNIST Results"
   ]
  },
  {
   "cell_type": "code",
   "execution_count": 3,
   "id": "338afe16-2877-4273-bc30-55330e668bc1",
   "metadata": {
    "tags": []
   },
   "outputs": [
    {
     "name": "stdout",
     "output_type": "stream",
     "text": [
      "2.0\n",
      "(4, 10)\n"
     ]
    }
   ],
   "source": [
    "df_results_corinfo_mnist = pd.read_pickle(r\"../Results/simulation_results_CorInfoMax_MNIST_muForward_Ablation_V1.pkl\")\n",
    "df_results_corinfo_mnist['Trn_ACC'] = df_results_corinfo_mnist.apply(lambda row: row['Trn_ACC_list'][-1], axis = 1)\n",
    "df_results_corinfo_mnist['Tst_ACC'] = df_results_corinfo_mnist.apply(lambda row: row['Tst_ACC_list'][-1], axis = 1)\n",
    "df_results_corinfo_mnist[\"muForward_multiplier\"] = df_results_corinfo_mnist.apply(lambda row: row[\"Hyperparams\"][\"muForward_multiplier\"], axis = 1)\n",
    "df_setting_corinfo_mnist = df_results_corinfo_mnist[['setting_number', 'Trn_ACC', 'Tst_ACC']].groupby('setting_number').mean().reset_index()\n",
    "best_setting_corinfo_mnist = df_setting_corinfo_mnist.iloc[df_setting_corinfo_mnist['Trn_ACC'].argmax()]['setting_number']\n",
    "print(best_setting_corinfo_mnist) #= 1\n",
    "\n",
    "print(df_results_corinfo_mnist.shape)"
   ]
  },
  {
   "cell_type": "code",
   "execution_count": 4,
   "id": "4909907b-a87a-429f-949d-dabb90f44f1f",
   "metadata": {
    "tags": []
   },
   "outputs": [
    {
     "data": {
      "text/html": [
       "<div>\n",
       "<style scoped>\n",
       "    .dataframe tbody tr th:only-of-type {\n",
       "        vertical-align: middle;\n",
       "    }\n",
       "\n",
       "    .dataframe tbody tr th {\n",
       "        vertical-align: top;\n",
       "    }\n",
       "\n",
       "    .dataframe thead th {\n",
       "        text-align: right;\n",
       "    }\n",
       "</style>\n",
       "<table border=\"1\" class=\"dataframe\">\n",
       "  <thead>\n",
       "    <tr style=\"text-align: right;\">\n",
       "      <th></th>\n",
       "      <th>muForward_multiplier</th>\n",
       "      <th>Trn_ACC</th>\n",
       "      <th>Tst_ACC</th>\n",
       "      <th>Trn_ACC_std</th>\n",
       "      <th>Tst_ACC_std</th>\n",
       "    </tr>\n",
       "  </thead>\n",
       "  <tbody>\n",
       "    <tr>\n",
       "      <th>0</th>\n",
       "      <td>0.10</td>\n",
       "      <td>0.930883</td>\n",
       "      <td>0.9285</td>\n",
       "      <td>0.020436</td>\n",
       "      <td>0.017708</td>\n",
       "    </tr>\n",
       "    <tr>\n",
       "      <th>1</th>\n",
       "      <td>0.25</td>\n",
       "      <td>0.967550</td>\n",
       "      <td>0.9632</td>\n",
       "      <td>NaN</td>\n",
       "      <td>NaN</td>\n",
       "    </tr>\n",
       "  </tbody>\n",
       "</table>\n",
       "</div>"
      ],
      "text/plain": [
       "   muForward_multiplier   Trn_ACC  Tst_ACC  Trn_ACC_std  Tst_ACC_std\n",
       "0                  0.10  0.930883   0.9285     0.020436     0.017708\n",
       "1                  0.25  0.967550   0.9632          NaN          NaN"
      ]
     },
     "execution_count": 4,
     "metadata": {},
     "output_type": "execute_result"
    }
   ],
   "source": [
    "df_setting = df_results_corinfo_mnist[['muForward_multiplier', 'Trn_ACC', 'Tst_ACC']].groupby('muForward_multiplier').mean().reset_index()\n",
    "df_setting[['Trn_ACC_std', 'Tst_ACC_std']] = df_results_corinfo_mnist[['muForward_multiplier', 'Trn_ACC', 'Tst_ACC']].groupby('muForward_multiplier').std().reset_index()[['Trn_ACC', 'Tst_ACC']]\n",
    "df_setting"
   ]
  },
  {
   "cell_type": "code",
   "execution_count": null,
   "id": "e3dbe007-e488-42e9-a00e-b0f63267efd3",
   "metadata": {},
   "outputs": [],
   "source": []
  },
  {
   "cell_type": "code",
   "execution_count": 5,
   "id": "e20e9fc0-a0b1-4882-b11e-d355bea724b2",
   "metadata": {
    "tags": []
   },
   "outputs": [
    {
     "name": "stdout",
     "output_type": "stream",
     "text": [
      "1.0\n",
      "(3, 10)\n"
     ]
    }
   ],
   "source": [
    "df_results_corinfo_mnist = pd.read_pickle(r\"../Results/simulation_results_CorInfoMax_MNIST_muBackward_Ablation_V1.pkl\")\n",
    "df_results_corinfo_mnist['Trn_ACC'] = df_results_corinfo_mnist.apply(lambda row: row['Trn_ACC_list'][-1], axis = 1)\n",
    "df_results_corinfo_mnist['Tst_ACC'] = df_results_corinfo_mnist.apply(lambda row: row['Tst_ACC_list'][-1], axis = 1)\n",
    "df_results_corinfo_mnist[\"muBackward_multiplier\"] = df_results_corinfo_mnist.apply(lambda row: row[\"Hyperparams\"][\"muBackward_multiplier\"], axis = 1)\n",
    "df_setting_corinfo_mnist = df_results_corinfo_mnist[['setting_number', 'Trn_ACC', 'Tst_ACC']].groupby('setting_number').mean().reset_index()\n",
    "best_setting_corinfo_mnist = df_setting_corinfo_mnist.iloc[df_setting_corinfo_mnist['Trn_ACC'].argmax()]['setting_number']\n",
    "print(best_setting_corinfo_mnist) #= 1\n",
    "print(df_results_corinfo_mnist.shape)\n"
   ]
  },
  {
   "cell_type": "code",
   "execution_count": 6,
   "id": "33945544-e890-472a-9b3a-24f982c7f17f",
   "metadata": {
    "tags": []
   },
   "outputs": [
    {
     "data": {
      "text/html": [
       "<div>\n",
       "<style scoped>\n",
       "    .dataframe tbody tr th:only-of-type {\n",
       "        vertical-align: middle;\n",
       "    }\n",
       "\n",
       "    .dataframe tbody tr th {\n",
       "        vertical-align: top;\n",
       "    }\n",
       "\n",
       "    .dataframe thead th {\n",
       "        text-align: right;\n",
       "    }\n",
       "</style>\n",
       "<table border=\"1\" class=\"dataframe\">\n",
       "  <thead>\n",
       "    <tr style=\"text-align: right;\">\n",
       "      <th></th>\n",
       "      <th>muBackward_multiplier</th>\n",
       "      <th>Trn_ACC</th>\n",
       "      <th>Tst_ACC</th>\n",
       "      <th>Trn_ACC_std</th>\n",
       "      <th>Tst_ACC_std</th>\n",
       "    </tr>\n",
       "  </thead>\n",
       "  <tbody>\n",
       "    <tr>\n",
       "      <th>0</th>\n",
       "      <td>0.1</td>\n",
       "      <td>0.99265</td>\n",
       "      <td>0.978567</td>\n",
       "      <td>0.000536</td>\n",
       "      <td>0.001159</td>\n",
       "    </tr>\n",
       "  </tbody>\n",
       "</table>\n",
       "</div>"
      ],
      "text/plain": [
       "   muBackward_multiplier  Trn_ACC   Tst_ACC  Trn_ACC_std  Tst_ACC_std\n",
       "0                    0.1  0.99265  0.978567     0.000536     0.001159"
      ]
     },
     "execution_count": 6,
     "metadata": {},
     "output_type": "execute_result"
    }
   ],
   "source": [
    "df_setting = df_results_corinfo_mnist[['muBackward_multiplier', 'Trn_ACC', 'Tst_ACC']].groupby('muBackward_multiplier').mean().reset_index()\n",
    "df_setting[['Trn_ACC_std', 'Tst_ACC_std']] = df_results_corinfo_mnist[['muBackward_multiplier', 'Trn_ACC', 'Tst_ACC']].groupby('muBackward_multiplier').std().reset_index()[['Trn_ACC', 'Tst_ACC']]\n",
    "df_setting"
   ]
  },
  {
   "cell_type": "code",
   "execution_count": null,
   "id": "4f487470-20fd-431e-84b9-6b5999f4186b",
   "metadata": {},
   "outputs": [],
   "source": []
  },
  {
   "cell_type": "code",
   "execution_count": 7,
   "id": "ebbd9280-3a46-47a7-865c-e6aaf6a190a5",
   "metadata": {
    "tags": []
   },
   "outputs": [
    {
     "name": "stdout",
     "output_type": "stream",
     "text": [
      "1.0\n",
      "(3, 10)\n"
     ]
    }
   ],
   "source": [
    "df_results_corinfo_mnist = pd.read_pickle(r\"../Results/simulation_results_CorInfoMax_MNIST_neural_lr_start_Ablation_V1.pkl\")\n",
    "df_results_corinfo_mnist['Trn_ACC'] = df_results_corinfo_mnist.apply(lambda row: row['Trn_ACC_list'][-1], axis = 1)\n",
    "df_results_corinfo_mnist['Tst_ACC'] = df_results_corinfo_mnist.apply(lambda row: row['Tst_ACC_list'][-1], axis = 1)\n",
    "df_results_corinfo_mnist[\"neural_lr_start\"] = df_results_corinfo_mnist.apply(lambda row: row[\"Hyperparams\"][\"neural_lr\"], axis = 1)\n",
    "df_setting_corinfo_mnist = df_results_corinfo_mnist[['setting_number', 'Trn_ACC', 'Tst_ACC']].groupby('setting_number').mean().reset_index()\n",
    "best_setting_corinfo_mnist = df_setting_corinfo_mnist.iloc[df_setting_corinfo_mnist['Trn_ACC'].argmax()]['setting_number']\n",
    "print(best_setting_corinfo_mnist) #= 1\n",
    "\n",
    "print(df_results_corinfo_mnist.shape)"
   ]
  },
  {
   "cell_type": "code",
   "execution_count": 8,
   "id": "c1f90cc9-c852-4982-8729-dc9b468e1bab",
   "metadata": {
    "tags": []
   },
   "outputs": [
    {
     "data": {
      "text/html": [
       "<div>\n",
       "<style scoped>\n",
       "    .dataframe tbody tr th:only-of-type {\n",
       "        vertical-align: middle;\n",
       "    }\n",
       "\n",
       "    .dataframe tbody tr th {\n",
       "        vertical-align: top;\n",
       "    }\n",
       "\n",
       "    .dataframe thead th {\n",
       "        text-align: right;\n",
       "    }\n",
       "</style>\n",
       "<table border=\"1\" class=\"dataframe\">\n",
       "  <thead>\n",
       "    <tr style=\"text-align: right;\">\n",
       "      <th></th>\n",
       "      <th>neural_lr_start</th>\n",
       "      <th>Trn_ACC</th>\n",
       "      <th>Tst_ACC</th>\n",
       "      <th>Trn_ACC_std</th>\n",
       "      <th>Tst_ACC_std</th>\n",
       "    </tr>\n",
       "  </thead>\n",
       "  <tbody>\n",
       "    <tr>\n",
       "      <th>0</th>\n",
       "      <td>0.015</td>\n",
       "      <td>0.103606</td>\n",
       "      <td>0.105867</td>\n",
       "      <td>0.007588</td>\n",
       "      <td>0.00671</td>\n",
       "    </tr>\n",
       "  </tbody>\n",
       "</table>\n",
       "</div>"
      ],
      "text/plain": [
       "   neural_lr_start   Trn_ACC   Tst_ACC  Trn_ACC_std  Tst_ACC_std\n",
       "0            0.015  0.103606  0.105867     0.007588      0.00671"
      ]
     },
     "execution_count": 8,
     "metadata": {},
     "output_type": "execute_result"
    }
   ],
   "source": [
    "df_setting = df_results_corinfo_mnist[['neural_lr_start', 'Trn_ACC', 'Tst_ACC']].groupby('neural_lr_start').mean().reset_index()\n",
    "df_setting[['Trn_ACC_std', 'Tst_ACC_std']] = df_results_corinfo_mnist[['neural_lr_start', 'Trn_ACC', 'Tst_ACC']].groupby('neural_lr_start').std().reset_index()[['Trn_ACC', 'Tst_ACC']]\n",
    "df_setting"
   ]
  },
  {
   "cell_type": "code",
   "execution_count": null,
   "id": "ed130ef4-743b-47f1-bb00-91632bc3b66a",
   "metadata": {},
   "outputs": [],
   "source": []
  },
  {
   "cell_type": "code",
   "execution_count": null,
   "id": "1c317955-f487-4ec2-9acc-950720ace868",
   "metadata": {},
   "outputs": [],
   "source": []
  },
  {
   "cell_type": "markdown",
   "id": "4b632eff-26d1-47a9-9cff-b87e72dfe86d",
   "metadata": {
    "tags": []
   },
   "source": [
    "# CIFAR10 Results"
   ]
  },
  {
   "cell_type": "code",
   "execution_count": 9,
   "id": "484fde55-03d2-4c54-9e7f-5843f512191a",
   "metadata": {
    "tags": []
   },
   "outputs": [
    {
     "name": "stdout",
     "output_type": "stream",
     "text": [
      "2.0\n",
      "(4, 10)\n"
     ]
    }
   ],
   "source": [
    "df_results_corinfo_cifar = pd.read_pickle(r\"../Results/simulation_results_CorInfoMax_CIFAR10_muForward_Ablation_V1.pkl\")\n",
    "df_results_corinfo_cifar['Trn_ACC'] = df_results_corinfo_cifar.apply(lambda row: row['Trn_ACC_list'][-1], axis = 1)\n",
    "df_results_corinfo_cifar['Tst_ACC'] = df_results_corinfo_cifar.apply(lambda row: row['Tst_ACC_list'][-1], axis = 1)\n",
    "df_results_corinfo_cifar[\"muForward_multiplier\"] = df_results_corinfo_cifar.apply(lambda row: row[\"Hyperparams\"][\"muForward_multiplier\"], axis = 1)\n",
    "df_setting_corinfo_cifar = df_results_corinfo_cifar[['setting_number', 'Trn_ACC', 'Tst_ACC']].groupby('setting_number').mean().reset_index()\n",
    "best_setting_corinfo_cifar = df_setting_corinfo_cifar.iloc[df_setting_corinfo_cifar['Trn_ACC'].argmax()]['setting_number']\n",
    "print(best_setting_corinfo_cifar) #= 1\n",
    "\n",
    "print(df_results_corinfo_cifar.shape)"
   ]
  },
  {
   "cell_type": "code",
   "execution_count": 10,
   "id": "f3d540ac-b8ff-4115-b48e-e71b8b73ab99",
   "metadata": {
    "tags": []
   },
   "outputs": [
    {
     "data": {
      "text/html": [
       "<div>\n",
       "<style scoped>\n",
       "    .dataframe tbody tr th:only-of-type {\n",
       "        vertical-align: middle;\n",
       "    }\n",
       "\n",
       "    .dataframe tbody tr th {\n",
       "        vertical-align: top;\n",
       "    }\n",
       "\n",
       "    .dataframe thead th {\n",
       "        text-align: right;\n",
       "    }\n",
       "</style>\n",
       "<table border=\"1\" class=\"dataframe\">\n",
       "  <thead>\n",
       "    <tr style=\"text-align: right;\">\n",
       "      <th></th>\n",
       "      <th>muForward_multiplier</th>\n",
       "      <th>Trn_ACC</th>\n",
       "      <th>Tst_ACC</th>\n",
       "      <th>Trn_ACC_std</th>\n",
       "      <th>Tst_ACC_std</th>\n",
       "    </tr>\n",
       "  </thead>\n",
       "  <tbody>\n",
       "    <tr>\n",
       "      <th>0</th>\n",
       "      <td>0.10</td>\n",
       "      <td>0.397673</td>\n",
       "      <td>0.390133</td>\n",
       "      <td>0.001324</td>\n",
       "      <td>0.001124</td>\n",
       "    </tr>\n",
       "    <tr>\n",
       "      <th>1</th>\n",
       "      <td>0.25</td>\n",
       "      <td>0.484520</td>\n",
       "      <td>0.453600</td>\n",
       "      <td>NaN</td>\n",
       "      <td>NaN</td>\n",
       "    </tr>\n",
       "  </tbody>\n",
       "</table>\n",
       "</div>"
      ],
      "text/plain": [
       "   muForward_multiplier   Trn_ACC   Tst_ACC  Trn_ACC_std  Tst_ACC_std\n",
       "0                  0.10  0.397673  0.390133     0.001324     0.001124\n",
       "1                  0.25  0.484520  0.453600          NaN          NaN"
      ]
     },
     "execution_count": 10,
     "metadata": {},
     "output_type": "execute_result"
    }
   ],
   "source": [
    "df_setting = df_results_corinfo_cifar[['muForward_multiplier', 'Trn_ACC', 'Tst_ACC']].groupby('muForward_multiplier').mean().reset_index()\n",
    "df_setting[['Trn_ACC_std', 'Tst_ACC_std']] = df_results_corinfo_cifar[['muForward_multiplier', 'Trn_ACC', 'Tst_ACC']].groupby('muForward_multiplier').std().reset_index()[['Trn_ACC', 'Tst_ACC']]\n",
    "df_setting"
   ]
  },
  {
   "cell_type": "code",
   "execution_count": null,
   "id": "239d89f5-f76f-4e97-9803-686a15ae5eac",
   "metadata": {},
   "outputs": [],
   "source": []
  },
  {
   "cell_type": "code",
   "execution_count": 11,
   "id": "7c83ccfc-2041-4654-bde4-10222319385b",
   "metadata": {
    "tags": []
   },
   "outputs": [
    {
     "name": "stdout",
     "output_type": "stream",
     "text": [
      "2.0\n",
      "(6, 10)\n"
     ]
    }
   ],
   "source": [
    "df_results_corinfo_cifar = pd.read_pickle(r\"../Results/simulation_results_CorInfoMax_CIFAR10_muBackward_Ablation_V1.pkl\")\n",
    "df_results_corinfo_cifar['Trn_ACC'] = df_results_corinfo_cifar.apply(lambda row: row['Trn_ACC_list'][-1], axis = 1)\n",
    "df_results_corinfo_cifar['Tst_ACC'] = df_results_corinfo_cifar.apply(lambda row: row['Tst_ACC_list'][-1], axis = 1)\n",
    "df_results_corinfo_cifar[\"muBackward_multiplier\"] = df_results_corinfo_cifar.apply(lambda row: row[\"Hyperparams\"][\"muBackward_multiplier\"], axis = 1)\n",
    "df_setting_corinfo_cifar = df_results_corinfo_cifar[['setting_number', 'Trn_ACC', 'Tst_ACC']].groupby('setting_number').mean().reset_index()\n",
    "best_setting_corinfo_mnist = df_setting_corinfo_cifar.iloc[df_setting_corinfo_cifar['Trn_ACC'].argmax()]['setting_number']\n",
    "print(best_setting_corinfo_mnist) #= 1\n",
    "\n",
    "print(df_results_corinfo_cifar.shape)"
   ]
  },
  {
   "cell_type": "code",
   "execution_count": 12,
   "id": "b2b81555-13cd-4480-934d-80ea909f22b0",
   "metadata": {
    "tags": []
   },
   "outputs": [
    {
     "data": {
      "text/html": [
       "<div>\n",
       "<style scoped>\n",
       "    .dataframe tbody tr th:only-of-type {\n",
       "        vertical-align: middle;\n",
       "    }\n",
       "\n",
       "    .dataframe tbody tr th {\n",
       "        vertical-align: top;\n",
       "    }\n",
       "\n",
       "    .dataframe thead th {\n",
       "        text-align: right;\n",
       "    }\n",
       "</style>\n",
       "<table border=\"1\" class=\"dataframe\">\n",
       "  <thead>\n",
       "    <tr style=\"text-align: right;\">\n",
       "      <th></th>\n",
       "      <th>muBackward_multiplier</th>\n",
       "      <th>Trn_ACC</th>\n",
       "      <th>Tst_ACC</th>\n",
       "      <th>Trn_ACC_std</th>\n",
       "      <th>Tst_ACC_std</th>\n",
       "    </tr>\n",
       "  </thead>\n",
       "  <tbody>\n",
       "    <tr>\n",
       "      <th>0</th>\n",
       "      <td>0.10</td>\n",
       "      <td>0.618753</td>\n",
       "      <td>0.512500</td>\n",
       "      <td>0.002179</td>\n",
       "      <td>0.002234</td>\n",
       "    </tr>\n",
       "    <tr>\n",
       "      <th>1</th>\n",
       "      <td>0.25</td>\n",
       "      <td>0.624407</td>\n",
       "      <td>0.515267</td>\n",
       "      <td>0.002087</td>\n",
       "      <td>0.003950</td>\n",
       "    </tr>\n",
       "  </tbody>\n",
       "</table>\n",
       "</div>"
      ],
      "text/plain": [
       "   muBackward_multiplier   Trn_ACC   Tst_ACC  Trn_ACC_std  Tst_ACC_std\n",
       "0                   0.10  0.618753  0.512500     0.002179     0.002234\n",
       "1                   0.25  0.624407  0.515267     0.002087     0.003950"
      ]
     },
     "execution_count": 12,
     "metadata": {},
     "output_type": "execute_result"
    }
   ],
   "source": [
    "df_setting = df_results_corinfo_cifar[['muBackward_multiplier', 'Trn_ACC', 'Tst_ACC']].groupby('muBackward_multiplier').mean().reset_index()\n",
    "df_setting[['Trn_ACC_std', 'Tst_ACC_std']] = df_results_corinfo_cifar[['muBackward_multiplier', 'Trn_ACC', 'Tst_ACC']].groupby('muBackward_multiplier').std().reset_index()[['Trn_ACC', 'Tst_ACC']]\n",
    "df_setting"
   ]
  },
  {
   "cell_type": "code",
   "execution_count": null,
   "id": "47e10310-2a44-476b-9892-78f44877bdca",
   "metadata": {
    "tags": []
   },
   "outputs": [],
   "source": []
  },
  {
   "cell_type": "code",
   "execution_count": 13,
   "id": "05759670-8ad5-489f-82a0-6101d7638ffe",
   "metadata": {
    "tags": []
   },
   "outputs": [
    {
     "name": "stdout",
     "output_type": "stream",
     "text": [
      "1.0\n",
      "(4, 10)\n"
     ]
    }
   ],
   "source": [
    "df_results_corinfo_cifar = pd.read_pickle(r\"../Results/simulation_results_CorInfoMax_CIFAR10_neural_lr_start_Ablation_V1.pkl\")\n",
    "df_results_corinfo_cifar['Trn_ACC'] = df_results_corinfo_cifar.apply(lambda row: row['Trn_ACC_list'][-1], axis = 1)\n",
    "df_results_corinfo_cifar['Tst_ACC'] = df_results_corinfo_cifar.apply(lambda row: row['Tst_ACC_list'][-1], axis = 1)\n",
    "df_results_corinfo_cifar[\"neural_lr_start\"] = df_results_corinfo_cifar.apply(lambda row: row[\"Hyperparams\"][\"neural_lr\"], axis = 1)\n",
    "df_setting_corinfo_cifar = df_results_corinfo_cifar[['setting_number', 'Trn_ACC', 'Tst_ACC']].groupby('setting_number').mean().reset_index()\n",
    "best_setting_corinfo_mnist = df_setting_corinfo_cifar.iloc[df_setting_corinfo_cifar['Trn_ACC'].argmax()]['setting_number']\n",
    "print(best_setting_corinfo_mnist) #= 1\n",
    "\n",
    "print(df_results_corinfo_cifar.shape)"
   ]
  },
  {
   "cell_type": "code",
   "execution_count": 14,
   "id": "3512f0ec-cb5c-487a-8524-88853870621c",
   "metadata": {
    "tags": []
   },
   "outputs": [
    {
     "data": {
      "text/html": [
       "<div>\n",
       "<style scoped>\n",
       "    .dataframe tbody tr th:only-of-type {\n",
       "        vertical-align: middle;\n",
       "    }\n",
       "\n",
       "    .dataframe tbody tr th {\n",
       "        vertical-align: top;\n",
       "    }\n",
       "\n",
       "    .dataframe thead th {\n",
       "        text-align: right;\n",
       "    }\n",
       "</style>\n",
       "<table border=\"1\" class=\"dataframe\">\n",
       "  <thead>\n",
       "    <tr style=\"text-align: right;\">\n",
       "      <th></th>\n",
       "      <th>neural_lr_start</th>\n",
       "      <th>Trn_ACC</th>\n",
       "      <th>Tst_ACC</th>\n",
       "      <th>Trn_ACC_std</th>\n",
       "      <th>Tst_ACC_std</th>\n",
       "    </tr>\n",
       "  </thead>\n",
       "  <tbody>\n",
       "    <tr>\n",
       "      <th>0</th>\n",
       "      <td>0.015</td>\n",
       "      <td>0.548333</td>\n",
       "      <td>0.492833</td>\n",
       "      <td>0.004602</td>\n",
       "      <td>0.002444</td>\n",
       "    </tr>\n",
       "    <tr>\n",
       "      <th>1</th>\n",
       "      <td>0.300</td>\n",
       "      <td>0.126680</td>\n",
       "      <td>0.124100</td>\n",
       "      <td>NaN</td>\n",
       "      <td>NaN</td>\n",
       "    </tr>\n",
       "  </tbody>\n",
       "</table>\n",
       "</div>"
      ],
      "text/plain": [
       "   neural_lr_start   Trn_ACC   Tst_ACC  Trn_ACC_std  Tst_ACC_std\n",
       "0            0.015  0.548333  0.492833     0.004602     0.002444\n",
       "1            0.300  0.126680  0.124100          NaN          NaN"
      ]
     },
     "execution_count": 14,
     "metadata": {},
     "output_type": "execute_result"
    }
   ],
   "source": [
    "df_setting = df_results_corinfo_cifar[['neural_lr_start', 'Trn_ACC', 'Tst_ACC']].groupby('neural_lr_start').mean().reset_index()\n",
    "df_setting[['Trn_ACC_std', 'Tst_ACC_std']] = df_results_corinfo_cifar[['neural_lr_start', 'Trn_ACC', 'Tst_ACC']].groupby('neural_lr_start').std().reset_index()[['Trn_ACC', 'Tst_ACC']]\n",
    "df_setting"
   ]
  },
  {
   "cell_type": "code",
   "execution_count": null,
   "id": "71b1c61d-2972-4ba1-aa97-1ddd39f834dd",
   "metadata": {},
   "outputs": [],
   "source": []
  }
 ],
 "metadata": {
  "kernelspec": {
   "display_name": "Python 3 (ipykernel)",
   "language": "python",
   "name": "python3"
  },
  "language_info": {
   "codemirror_mode": {
    "name": "ipython",
    "version": 3
   },
   "file_extension": ".py",
   "mimetype": "text/x-python",
   "name": "python",
   "nbconvert_exporter": "python",
   "pygments_lexer": "ipython3",
   "version": "3.11.5"
  }
 },
 "nbformat": 4,
 "nbformat_minor": 5
}
