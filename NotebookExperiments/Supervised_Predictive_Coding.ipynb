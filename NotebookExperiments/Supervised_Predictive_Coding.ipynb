{
 "cells": [
  {
   "cell_type": "code",
   "execution_count": 1,
   "id": "5fd7911f",
   "metadata": {},
   "outputs": [],
   "source": [
    "import sys\n",
    "sys.path.append(\"../src\")\n",
    "import torch\n",
    "import matplotlib.pyplot as plt\n",
    "import numpy as np\n",
    "import torchvision\n",
    "import torch.nn.functional as F\n",
    "\n",
    "import glob\n",
    "import os\n",
    "from datetime import datetime\n",
    "import time\n",
    "import math\n",
    "from tqdm import tqdm\n",
    "\n",
    "from itertools import repeat\n",
    "from torch.nn.parameter import Parameter\n",
    "import collections\n",
    "import matplotlib\n",
    "from torch_utils import *\n",
    "from PC import *\n",
    "from visualization import *\n",
    "# matplotlib.use('Agg')"
   ]
  },
  {
   "cell_type": "code",
   "execution_count": 2,
   "id": "56d87a07",
   "metadata": {},
   "outputs": [],
   "source": [
    "def evaluatePC(model, loader, neural_lr_start, neural_lr_stop, neural_lr_rule, \n",
    "                         neural_lr_decay_multiplier,\n",
    "                         neural_dynamic_iterations, device, printing = True):\n",
    "    # Evaluate the model on a dataloader with T steps for the dynamics\n",
    "    #model.eval()\n",
    "    correct=0\n",
    "    phase = 'Train' if loader.dataset.train else 'Test'\n",
    "    \n",
    "    for x, y in loader:\n",
    "        x = activation_inverse(2*x.view(x.size(0),-1).to(device).T - 1, \"sigmoid\")\n",
    "#         x = activation_inverse(x.view(x.size(0),-1).T, \"sigmoid\").to(device)\n",
    "        y = y.to(device)\n",
    "        \n",
    "        neurons = model.fast_forward(x)\n",
    "        \n",
    "#         # dynamics for T time steps\n",
    "#         neurons = model.run_neural_dynamics(x, y_one_hot, neurons, neural_lr_start, neural_lr_stop, \n",
    "#                                             neural_lr_rule,\n",
    "#                                             neural_lr_decay_multiplier, neural_dynamic_iterations, 0, \"test\")\n",
    "        pred = torch.argmax(neurons[-1], dim=0).squeeze()  # in this case prediction is done directly on the last (output) layer of neurons\n",
    "        correct += (y == pred).sum().item()\n",
    "\n",
    "    acc = correct/len(loader.dataset) \n",
    "    if printing:\n",
    "        print(phase+' accuracy :\\t', acc)   \n",
    "    return acc"
   ]
  },
  {
   "cell_type": "code",
   "execution_count": 3,
   "id": "0481fdbb",
   "metadata": {},
   "outputs": [
    {
     "data": {
      "text/plain": [
       "device(type='cuda', index=0)"
      ]
     },
     "execution_count": 3,
     "metadata": {},
     "output_type": "execute_result"
    }
   ],
   "source": [
    "device = torch.device('cuda:0' if torch.cuda.is_available() else 'cpu')\n",
    "device"
   ]
  },
  {
   "cell_type": "code",
   "execution_count": 4,
   "id": "94c4836a",
   "metadata": {},
   "outputs": [],
   "source": [
    "transform = torchvision.transforms.Compose([torchvision.transforms.ToTensor(), \n",
    "                                            torchvision.transforms.Normalize(mean=(0.0,), std=(1.0,))])\n",
    "\n",
    "mnist_dset_train = torchvision.datasets.MNIST('./data', train=True, transform=transform, target_transform=None, download=True)\n",
    "train_loader = torch.utils.data.DataLoader(mnist_dset_train, batch_size=20, shuffle=True, num_workers=0)\n",
    "\n",
    "mnist_dset_test = torchvision.datasets.MNIST('./data', train=False, transform=transform, target_transform=None, download=True)\n",
    "test_loader = torch.utils.data.DataLoader(mnist_dset_test, batch_size=20, shuffle=False, num_workers=0)"
   ]
  },
  {
   "cell_type": "code",
   "execution_count": 5,
   "id": "fd835cdc",
   "metadata": {},
   "outputs": [],
   "source": [
    "activation_type = \"sigmoid\"\n",
    "architecture = [784, 500, 500, 10]\n",
    "\n",
    "x,y = next(iter(train_loader))\n",
    "x = x.view(x.size(0),-1).to(device).T\n",
    "y_one_hot = F.one_hot(y, 10).to(device).T\n",
    "\n",
    "neural_lr_start = 0.1\n",
    "neural_lr_stop = 1e-3\n",
    "neural_lr_rule = \"constant\"\n",
    "neural_lr_decay_multiplier = 0.1\n",
    "neural_dynamic_iterations = 50\n",
    "\n",
    "lr_start = {'ff' : 0.001}\n",
    "\n",
    "model = SupervisedPredictiveCoding(architecture, activation_type)"
   ]
  },
  {
   "cell_type": "code",
   "execution_count": null,
   "id": "41771576",
   "metadata": {},
   "outputs": [
    {
     "name": "stderr",
     "output_type": "stream",
     "text": [
      "3000it [01:40, 29.87it/s]\n",
      "2it [00:00, 19.54it/s]"
     ]
    },
    {
     "name": "stdout",
     "output_type": "stream",
     "text": [
      "Epoch : 1, Train Accuracy : 0.8896333333333334, Test Accuracy : 0.8929\n"
     ]
    },
    {
     "name": "stderr",
     "output_type": "stream",
     "text": [
      "3000it [02:16, 21.90it/s]\n",
      "3it [00:00, 26.50it/s]"
     ]
    },
    {
     "name": "stdout",
     "output_type": "stream",
     "text": [
      "Epoch : 2, Train Accuracy : 0.9159666666666667, Test Accuracy : 0.9163\n"
     ]
    },
    {
     "name": "stderr",
     "output_type": "stream",
     "text": [
      "3000it [01:41, 29.60it/s]\n",
      "2it [00:00, 11.96it/s]"
     ]
    },
    {
     "name": "stdout",
     "output_type": "stream",
     "text": [
      "Epoch : 3, Train Accuracy : 0.93515, Test Accuracy : 0.9335\n"
     ]
    },
    {
     "name": "stderr",
     "output_type": "stream",
     "text": [
      "3000it [02:32, 19.62it/s]\n",
      "3it [00:00, 27.21it/s]"
     ]
    },
    {
     "name": "stdout",
     "output_type": "stream",
     "text": [
      "Epoch : 4, Train Accuracy : 0.9359333333333333, Test Accuracy : 0.934\n"
     ]
    },
    {
     "name": "stderr",
     "output_type": "stream",
     "text": [
      "3000it [01:43, 29.10it/s]\n",
      "2it [00:00, 14.71it/s]"
     ]
    },
    {
     "name": "stdout",
     "output_type": "stream",
     "text": [
      "Epoch : 5, Train Accuracy : 0.9476333333333333, Test Accuracy : 0.9455\n"
     ]
    },
    {
     "name": "stderr",
     "output_type": "stream",
     "text": [
      "3000it [02:20, 21.35it/s]\n",
      "3it [00:00, 27.07it/s]"
     ]
    },
    {
     "name": "stdout",
     "output_type": "stream",
     "text": [
      "Epoch : 6, Train Accuracy : 0.9464333333333333, Test Accuracy : 0.9447\n"
     ]
    },
    {
     "name": "stderr",
     "output_type": "stream",
     "text": [
      "3000it [01:54, 26.12it/s]\n",
      "3it [00:00, 26.74it/s]"
     ]
    },
    {
     "name": "stdout",
     "output_type": "stream",
     "text": [
      "Epoch : 7, Train Accuracy : 0.9543833333333334, Test Accuracy : 0.9519\n"
     ]
    },
    {
     "name": "stderr",
     "output_type": "stream",
     "text": [
      "3000it [01:55, 25.90it/s]\n",
      "2it [00:00, 14.37it/s]"
     ]
    },
    {
     "name": "stdout",
     "output_type": "stream",
     "text": [
      "Epoch : 8, Train Accuracy : 0.96235, Test Accuracy : 0.9601\n"
     ]
    },
    {
     "name": "stderr",
     "output_type": "stream",
     "text": [
      "3000it [03:23, 14.71it/s]\n",
      "2it [00:00, 14.11it/s]"
     ]
    },
    {
     "name": "stdout",
     "output_type": "stream",
     "text": [
      "Epoch : 9, Train Accuracy : 0.9561833333333334, Test Accuracy : 0.9525\n"
     ]
    },
    {
     "name": "stderr",
     "output_type": "stream",
     "text": [
      "1568it [01:46, 14.35it/s]"
     ]
    }
   ],
   "source": [
    "trn_acc_list = []\n",
    "tst_acc_list = []\n",
    "\n",
    "n_epochs = 50\n",
    "lr = lr_start\n",
    "for epoch_ in range(n_epochs):\n",
    "#     lr = {'ff' : lr_start['ff'] * (0.999)**epoch_}\n",
    "    for idx, (x, y) in tqdm(enumerate(train_loader)):\n",
    "        x, y = x.to(device), y.to(device)\n",
    "        x = activation_inverse(2*x.view(x.size(0),-1).T - 1, \"sigmoid\")\n",
    "#         x = activation_inverse(x.view(x.size(0),-1).T, \"sigmoid\")\n",
    "        y_one_hot = F.one_hot(y, 10).to(device).T\n",
    "        y_one_hot = 0.94 * y_one_hot + 0.03 * torch.ones(*y_one_hot.shape, device = device)\n",
    "        _ = model.batch_step(  x, y_one_hot, lr, neural_lr_start, neural_lr_stop, neural_lr_rule,\n",
    "                               neural_lr_decay_multiplier, neural_dynamic_iterations,\n",
    "                               optimizer = \"adam\")\n",
    "\n",
    "    trn_acc = evaluatePC(  model, train_loader, neural_lr_start, neural_lr_stop, neural_lr_rule, \n",
    "                           neural_lr_decay_multiplier,\n",
    "                           neural_dynamic_iterations, device, printing = False)\n",
    "    tst_acc = evaluatePC(  model, test_loader, neural_lr_start, neural_lr_stop, neural_lr_rule, \n",
    "                           neural_lr_decay_multiplier,\n",
    "                           neural_dynamic_iterations, device, printing = False)\n",
    "    trn_acc_list.append(trn_acc)\n",
    "    tst_acc_list.append(tst_acc)\n",
    "    \n",
    "    print(\"Epoch : {}, Train Accuracy : {}, Test Accuracy : {}\".format(epoch_+1, trn_acc, tst_acc))"
   ]
  },
  {
   "cell_type": "code",
   "execution_count": null,
   "id": "efa96c52",
   "metadata": {},
   "outputs": [],
   "source": [
    "neurons = model.fast_forward(activation_func(x, \"sigmoid\")[0])\n",
    "neurons[-1] = y_one_hot.to(torch.float)\n",
    "neurons = model.run_neural_dynamics(x, y, neurons, neural_lr_start, neural_lr_stop, neural_lr_rule, \n",
    "                          neural_lr_decay_multiplier, neural_dynamic_iterations)"
   ]
  },
  {
   "cell_type": "code",
   "execution_count": null,
   "id": "079682c7",
   "metadata": {},
   "outputs": [],
   "source": [
    "tst_acc = evaluatePC(  model, test_loader, neural_lr_start, neural_lr_stop, neural_lr_rule, \n",
    "                                 neural_lr_decay_multiplier,\n",
    "                                 neural_dynamic_iterations, device, printing = True)"
   ]
  },
  {
   "cell_type": "code",
   "execution_count": null,
   "id": "d2a47378",
   "metadata": {},
   "outputs": [],
   "source": [
    "Wff = model.Wff\n",
    "Wff[0]"
   ]
  },
  {
   "cell_type": "code",
   "execution_count": null,
   "id": "bdb827e2",
   "metadata": {},
   "outputs": [],
   "source": [
    "model.batch_step(x, y_one_hot, lr_start, neural_lr_start, neural_lr_stop, neural_lr_rule, \n",
    "                          neural_lr_decay_multiplier, neural_dynamic_iterations)"
   ]
  },
  {
   "cell_type": "code",
   "execution_count": null,
   "id": "928d0b6c",
   "metadata": {},
   "outputs": [],
   "source": [
    "model.Wff"
   ]
  },
  {
   "cell_type": "code",
   "execution_count": null,
   "id": "cf57e8d5",
   "metadata": {},
   "outputs": [],
   "source": [
    "evalua"
   ]
  },
  {
   "cell_type": "code",
   "execution_count": null,
   "id": "d8019626",
   "metadata": {},
   "outputs": [],
   "source": [
    "neurons = model.fast_forward(activation_func(x, \"sigmoid\")[0])"
   ]
  },
  {
   "cell_type": "code",
   "execution_count": null,
   "id": "fc1d14ad",
   "metadata": {},
   "outputs": [],
   "source": [
    "layers_after_activation, error_layers, grads = model.calculate_neural_dynamics_grad(x, y, neurons)"
   ]
  },
  {
   "cell_type": "code",
   "execution_count": null,
   "id": "6c8abae2",
   "metadata": {},
   "outputs": [],
   "source": [
    "grads"
   ]
  },
  {
   "cell_type": "code",
   "execution_count": null,
   "id": "af48ee54",
   "metadata": {},
   "outputs": [],
   "source": [
    "len(layers_after_activation), len(error_layers), len(grads)"
   ]
  },
  {
   "cell_type": "code",
   "execution_count": null,
   "id": "12557bac",
   "metadata": {},
   "outputs": [],
   "source": [
    "layers_after_activation[jj + 1][1].shape"
   ]
  },
  {
   "cell_type": "code",
   "execution_count": null,
   "id": "db8ff5bd",
   "metadata": {},
   "outputs": [],
   "source": [
    "jj = 0\n",
    "error_layers[jj + 1].shape, model.Wff[jj + 1]['weight'].shape"
   ]
  },
  {
   "cell_type": "code",
   "execution_count": null,
   "id": "3393a286",
   "metadata": {},
   "outputs": [],
   "source": [
    "len(layers_after_activation)"
   ]
  },
  {
   "cell_type": "code",
   "execution_count": null,
   "id": "efa5f678",
   "metadata": {},
   "outputs": [],
   "source": [
    "jj = 0\n",
    "Wff[jj]['weight'] @ layers_after_activation[jj][0]"
   ]
  },
  {
   "cell_type": "code",
   "execution_count": null,
   "id": "29385774",
   "metadata": {},
   "outputs": [],
   "source": [
    "variances"
   ]
  },
  {
   "cell_type": "code",
   "execution_count": null,
   "id": "d023f50c",
   "metadata": {},
   "outputs": [],
   "source": [
    "Wff = model.Wff\n",
    "variances = model.variances\n",
    "layers = [x] + neurons\n",
    "\n",
    "[(layers[jj+1] - (Wff[jj]['weight'] @ layers_after_activation[jj][0] + Wff[jj]['bias'])) / variances[jj + 1] for jj in range(len(layers) - 1)]"
   ]
  },
  {
   "cell_type": "code",
   "execution_count": null,
   "id": "733ecc75",
   "metadata": {},
   "outputs": [],
   "source": [
    "def activation_func(x, type_ = \"linear\"):\n",
    "    if type_ == \"linear\":\n",
    "        f_x = x\n",
    "        fp_x = torch.ones(*x.shape, device = x.device)\n",
    "    elif type_ == \"tanh\":\n",
    "        f_x = torch.tanh(x)\n",
    "        fp_x = torch.ones(*x.shape, device = x.device) - f_x ** 2\n",
    "    elif type_ == \"sigmoid\":\n",
    "        ones_vec = torch.ones(*x.shape, device = x.device)\n",
    "        f_x = 1 / (ones_vec + torch.exp(-x))\n",
    "        fp_x = f_x * (ones_vec - f_x)\n",
    "    elif type_ == \"relu\":\n",
    "        f_x = torch.maximum(x, torch.tensor([0], device = x.device))\n",
    "        fp_x = 1 * (x > 0)\n",
    "    elif type_ == \"exp\":\n",
    "        f_x = torch.exp(x)\n",
    "        fp_x = f_x\n",
    "    else: # Use linear\n",
    "        f_x = x\n",
    "        fp_x = torch.ones(*x.shape, device = x.device)\n",
    "        \n",
    "    return f_x, fp_x"
   ]
  },
  {
   "cell_type": "code",
   "execution_count": null,
   "id": "8f70d42f",
   "metadata": {},
   "outputs": [],
   "source": [
    "x = torch.randn(3,1, device = \"cuda\")\n",
    "x"
   ]
  },
  {
   "cell_type": "code",
   "execution_count": null,
   "id": "659c95a9",
   "metadata": {},
   "outputs": [],
   "source": [
    "x = torch.randn(3,1, device = \"cuda\")\n",
    "print(x)\n",
    "activation_func(x, type_ = \"sigmoid\")"
   ]
  },
  {
   "cell_type": "code",
   "execution_count": null,
   "id": "c0616a5b",
   "metadata": {},
   "outputs": [],
   "source": [
    "device = \"cuda\""
   ]
  },
  {
   "cell_type": "code",
   "execution_count": null,
   "id": "ca5be9cf",
   "metadata": {},
   "outputs": [],
   "source": [
    "(2 * torch.rand(3, 3, requires_grad = False).to(device) - 1) * (4 * np.sqrt(6 / (3 + 3)))"
   ]
  }
 ],
 "metadata": {
  "kernelspec": {
   "display_name": "Python 3 (ipykernel)",
   "language": "python",
   "name": "python3"
  },
  "language_info": {
   "codemirror_mode": {
    "name": "ipython",
    "version": 3
   },
   "file_extension": ".py",
   "mimetype": "text/x-python",
   "name": "python",
   "nbconvert_exporter": "python",
   "pygments_lexer": "ipython3",
   "version": "3.8.8"
  }
 },
 "nbformat": 4,
 "nbformat_minor": 5
}
