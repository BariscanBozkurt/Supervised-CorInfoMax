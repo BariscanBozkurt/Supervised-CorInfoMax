{
 "cells": [
  {
   "cell_type": "code",
   "execution_count": 1,
   "id": "89b20c38",
   "metadata": {},
   "outputs": [],
   "source": [
    "import sys\n",
    "sys.path.append(\"../../src\")\n",
    "import torch\n",
    "import matplotlib.pyplot as plt\n",
    "import numpy as np\n",
    "import torchvision\n",
    "import torch.nn.functional as F\n",
    "\n",
    "import glob\n",
    "import os\n",
    "from datetime import datetime\n",
    "import time\n",
    "import math\n",
    "from tqdm import tqdm\n",
    "\n",
    "from itertools import repeat\n",
    "from torch.nn.parameter import Parameter\n",
    "import collections\n",
    "import matplotlib\n",
    "from torch_utils import *\n",
    "from ContrastiveModels import ContrastiveCorInfoMaxHopfieldSparse\n",
    "from visualization import *\n",
    "# matplotlib.use('Agg')"
   ]
  },
  {
   "cell_type": "code",
   "execution_count": 2,
   "id": "ef0c0a15",
   "metadata": {},
   "outputs": [
    {
     "data": {
      "text/plain": [
       "device(type='cuda', index=0)"
      ]
     },
     "execution_count": 2,
     "metadata": {},
     "output_type": "execute_result"
    }
   ],
   "source": [
    "device = torch.device('cuda:0' if torch.cuda.is_available() else 'cpu')\n",
    "device"
   ]
  },
  {
   "cell_type": "code",
   "execution_count": 3,
   "id": "128dc72a",
   "metadata": {},
   "outputs": [
    {
     "name": "stdout",
     "output_type": "stream",
     "text": [
      "Files already downloaded and verified\n",
      "Files already downloaded and verified\n"
     ]
    }
   ],
   "source": [
    "transform = torchvision.transforms.Compose([torchvision.transforms.ToTensor(), \n",
    "                                            torchvision.transforms.Normalize(mean=(0.4914, 0.4822, 0.4465), \n",
    "                                            std=(3*0.2023, 3*0.1994, 3*0.2010))])\n",
    "\n",
    "cifar_dset_train = torchvision.datasets.CIFAR10('../../data', train=True, transform=transform, target_transform=None, download=True)\n",
    "train_loader = torch.utils.data.DataLoader(cifar_dset_train, batch_size=20, shuffle=True, num_workers=0)\n",
    "\n",
    "cifar_dset_test = torchvision.datasets.CIFAR10('../../data', train=False, transform=transform, target_transform=None, download=True)\n",
    "test_loader = torch.utils.data.DataLoader(cifar_dset_test, batch_size=20, shuffle=False, num_workers=0)"
   ]
  },
  {
   "cell_type": "code",
   "execution_count": 4,
   "id": "8c77e36f",
   "metadata": {},
   "outputs": [],
   "source": [
    "activation = hard_sigmoid\n",
    "architecture = architecture = [int(32*32*3), 1000, 10]\n",
    "\n",
    "beta = 1\n",
    "lambda_ = 0.99999\n",
    "epsilon = 0.15\n",
    "one_over_epsilon = 1 / epsilon\n",
    "lr_start = {'ff': np.array([0.09, 0.07]), 'fb': np.array([ np.nan, 0.045])}\n",
    "\n",
    "STlambda_lr_list = [1*1e-5, 0.01]\n",
    "sparse_layers = [1, 2]\n",
    "neural_lr_start = 0.025\n",
    "neural_lr_stop = 0.001\n",
    "neural_lr_rule = \"divide_by_slow_loop_index\"\n",
    "neural_lr_decay_multiplier = 0.01\n",
    "neural_dynamic_iterations_nudged = 10\n",
    "neural_dynamic_iterations_free = 30\n",
    "hopfield_g = 0.1\n",
    "use_random_sign_beta = True\n",
    "use_three_phase = False\n",
    "weight_decay = False\n",
    "\n",
    "model = ContrastiveCorInfoMaxHopfieldSparse(architecture = architecture, lambda_ = lambda_, \n",
    "                                            epsilon = epsilon, activation = activation, \n",
    "                                            sparse_layers = sparse_layers)"
   ]
  },
  {
   "cell_type": "code",
   "execution_count": 5,
   "id": "3448d1d0",
   "metadata": {},
   "outputs": [
    {
     "name": "stdout",
     "output_type": "stream",
     "text": [
      "Train accuracy :\t 0.11392\n"
     ]
    }
   ],
   "source": [
    "_ = evaluateContrastiveCorInfoMaxHopfieldSparse(model, train_loader, hopfield_g,\n",
    "                                                neural_lr_start, neural_lr_stop, STlambda_lr_list, neural_lr_rule, \n",
    "                                                neural_lr_decay_multiplier, neural_dynamic_iterations_free, device)"
   ]
  },
  {
   "cell_type": "code",
   "execution_count": 6,
   "id": "c89a5727",
   "metadata": {},
   "outputs": [],
   "source": [
    "# _ = evaluateContrastiveCorInfoMaxHopfieldSparse_topk( model, train_loader, hopfield_g,\n",
    "#                                                       neural_lr_start, neural_lr_stop, STlambda_lr, \n",
    "#                                                       neural_lr_rule, \n",
    "#                                                       neural_lr_decay_multiplier, \n",
    "#                                                       neural_dynamic_iterations_free, device)"
   ]
  },
  {
   "cell_type": "code",
   "execution_count": null,
   "id": "5c6107ac",
   "metadata": {},
   "outputs": [
    {
     "name": "stderr",
     "output_type": "stream",
     "text": [
      "2500it [03:20, 12.46it/s]\n",
      "0it [00:00, ?it/s]"
     ]
    },
    {
     "name": "stdout",
     "output_type": "stream",
     "text": [
      "Epoch : 1, Train Accuracy : 0.3661, Test Accuracy : 0.361\n",
      "Free Information ratio: [0.00809561]\n",
      "Nudged Information ratio: [0.0080953]\n"
     ]
    },
    {
     "name": "stderr",
     "output_type": "stream",
     "text": [
      "2500it [03:21, 12.43it/s]\n",
      "0it [00:00, ?it/s]"
     ]
    },
    {
     "name": "stdout",
     "output_type": "stream",
     "text": [
      "Epoch : 2, Train Accuracy : 0.41132, Test Accuracy : 0.4076\n",
      "Free Information ratio: [0.00530037]\n",
      "Nudged Information ratio: [0.00530001]\n"
     ]
    },
    {
     "name": "stderr",
     "output_type": "stream",
     "text": [
      "2500it [03:19, 12.55it/s]\n",
      "0it [00:00, ?it/s]"
     ]
    },
    {
     "name": "stdout",
     "output_type": "stream",
     "text": [
      "Epoch : 3, Train Accuracy : 0.37728, Test Accuracy : 0.3644\n",
      "Free Information ratio: [0.00334636]\n",
      "Nudged Information ratio: [0.0033462]\n"
     ]
    },
    {
     "name": "stderr",
     "output_type": "stream",
     "text": [
      "2500it [03:18, 12.61it/s]\n",
      "0it [00:00, ?it/s]"
     ]
    },
    {
     "name": "stdout",
     "output_type": "stream",
     "text": [
      "Epoch : 4, Train Accuracy : 0.44972, Test Accuracy : 0.4325\n",
      "Free Information ratio: [0.00916837]\n",
      "Nudged Information ratio: [0.00916698]\n"
     ]
    },
    {
     "name": "stderr",
     "output_type": "stream",
     "text": [
      "2500it [03:19, 12.54it/s]\n",
      "0it [00:00, ?it/s]"
     ]
    },
    {
     "name": "stdout",
     "output_type": "stream",
     "text": [
      "Epoch : 5, Train Accuracy : 0.47572, Test Accuracy : 0.45\n",
      "Free Information ratio: [0.01708824]\n",
      "Nudged Information ratio: [0.0170855]\n"
     ]
    },
    {
     "name": "stderr",
     "output_type": "stream",
     "text": [
      "2500it [03:19, 12.53it/s]\n",
      "0it [00:00, ?it/s]"
     ]
    },
    {
     "name": "stdout",
     "output_type": "stream",
     "text": [
      "Epoch : 6, Train Accuracy : 0.49254, Test Accuracy : 0.4627\n",
      "Free Information ratio: [0.01371413]\n",
      "Nudged Information ratio: [0.01371011]\n"
     ]
    },
    {
     "name": "stderr",
     "output_type": "stream",
     "text": [
      "2500it [03:19, 12.54it/s]\n",
      "0it [00:00, ?it/s]"
     ]
    },
    {
     "name": "stdout",
     "output_type": "stream",
     "text": [
      "Epoch : 7, Train Accuracy : 0.50492, Test Accuracy : 0.4651\n",
      "Free Information ratio: [0.0255444]\n",
      "Nudged Information ratio: [0.02553884]\n"
     ]
    },
    {
     "name": "stderr",
     "output_type": "stream",
     "text": [
      "2500it [03:19, 12.51it/s]\n",
      "0it [00:00, ?it/s]"
     ]
    },
    {
     "name": "stdout",
     "output_type": "stream",
     "text": [
      "Epoch : 8, Train Accuracy : 0.5207, Test Accuracy : 0.4737\n",
      "Free Information ratio: [0.01660144]\n",
      "Nudged Information ratio: [0.01659455]\n"
     ]
    },
    {
     "name": "stderr",
     "output_type": "stream",
     "text": [
      "2500it [03:20, 12.45it/s]\n",
      "0it [00:00, ?it/s]"
     ]
    },
    {
     "name": "stdout",
     "output_type": "stream",
     "text": [
      "Epoch : 9, Train Accuracy : 0.53178, Test Accuracy : 0.4783\n",
      "Free Information ratio: [0.01496058]\n",
      "Nudged Information ratio: [0.01495493]\n"
     ]
    },
    {
     "name": "stderr",
     "output_type": "stream",
     "text": [
      "2500it [03:21, 12.40it/s]\n",
      "0it [00:00, ?it/s]"
     ]
    },
    {
     "name": "stdout",
     "output_type": "stream",
     "text": [
      "Epoch : 10, Train Accuracy : 0.54546, Test Accuracy : 0.4851\n",
      "Free Information ratio: [0.01359629]\n",
      "Nudged Information ratio: [0.01358971]\n"
     ]
    },
    {
     "name": "stderr",
     "output_type": "stream",
     "text": [
      "2500it [03:19, 12.53it/s]\n",
      "0it [00:00, ?it/s]"
     ]
    },
    {
     "name": "stdout",
     "output_type": "stream",
     "text": [
      "Epoch : 11, Train Accuracy : 0.5471, Test Accuracy : 0.4858\n",
      "Free Information ratio: [0.01661596]\n",
      "Nudged Information ratio: [0.01660882]\n"
     ]
    },
    {
     "name": "stderr",
     "output_type": "stream",
     "text": [
      "2500it [03:18, 12.60it/s]\n",
      "0it [00:00, ?it/s]"
     ]
    },
    {
     "name": "stdout",
     "output_type": "stream",
     "text": [
      "Epoch : 12, Train Accuracy : 0.56366, Test Accuracy : 0.4973\n",
      "Free Information ratio: [0.01163879]\n",
      "Nudged Information ratio: [0.01163216]\n"
     ]
    },
    {
     "name": "stderr",
     "output_type": "stream",
     "text": [
      "2500it [03:18, 12.59it/s]\n",
      "0it [00:00, ?it/s]"
     ]
    },
    {
     "name": "stdout",
     "output_type": "stream",
     "text": [
      "Epoch : 13, Train Accuracy : 0.56898, Test Accuracy : 0.4939\n",
      "Free Information ratio: [0.01158302]\n",
      "Nudged Information ratio: [0.01157719]\n"
     ]
    },
    {
     "name": "stderr",
     "output_type": "stream",
     "text": [
      "2500it [03:20, 12.44it/s]\n",
      "0it [00:00, ?it/s]"
     ]
    },
    {
     "name": "stdout",
     "output_type": "stream",
     "text": [
      "Epoch : 14, Train Accuracy : 0.57626, Test Accuracy : 0.4982\n",
      "Free Information ratio: [0.01791691]\n",
      "Nudged Information ratio: [0.01790945]\n"
     ]
    },
    {
     "name": "stderr",
     "output_type": "stream",
     "text": [
      "2500it [03:21, 12.43it/s]\n",
      "0it [00:00, ?it/s]"
     ]
    },
    {
     "name": "stdout",
     "output_type": "stream",
     "text": [
      "Epoch : 15, Train Accuracy : 0.58072, Test Accuracy : 0.4958\n",
      "Free Information ratio: [0.01434317]\n",
      "Nudged Information ratio: [0.01433528]\n"
     ]
    },
    {
     "name": "stderr",
     "output_type": "stream",
     "text": [
      "2500it [03:20, 12.47it/s]\n",
      "0it [00:00, ?it/s]"
     ]
    },
    {
     "name": "stdout",
     "output_type": "stream",
     "text": [
      "Epoch : 16, Train Accuracy : 0.58638, Test Accuracy : 0.5007\n",
      "Free Information ratio: [0.0119302]\n",
      "Nudged Information ratio: [0.01192271]\n"
     ]
    },
    {
     "name": "stderr",
     "output_type": "stream",
     "text": [
      "2500it [03:19, 12.55it/s]\n",
      "0it [00:00, ?it/s]"
     ]
    },
    {
     "name": "stdout",
     "output_type": "stream",
     "text": [
      "Epoch : 17, Train Accuracy : 0.5915, Test Accuracy : 0.5032\n",
      "Free Information ratio: [0.01000368]\n",
      "Nudged Information ratio: [0.00999713]\n"
     ]
    },
    {
     "name": "stderr",
     "output_type": "stream",
     "text": [
      "2500it [03:19, 12.55it/s]\n",
      "0it [00:00, ?it/s]"
     ]
    },
    {
     "name": "stdout",
     "output_type": "stream",
     "text": [
      "Epoch : 18, Train Accuracy : 0.59274, Test Accuracy : 0.5004\n",
      "Free Information ratio: [0.0106618]\n",
      "Nudged Information ratio: [0.01065355]\n"
     ]
    },
    {
     "name": "stderr",
     "output_type": "stream",
     "text": [
      "2500it [02:11, 19.05it/s]\n",
      "0it [00:00, ?it/s]"
     ]
    },
    {
     "name": "stdout",
     "output_type": "stream",
     "text": [
      "Epoch : 19, Train Accuracy : 0.59986, Test Accuracy : 0.5032\n",
      "Free Information ratio: [0.0067108]\n",
      "Nudged Information ratio: [0.00670548]\n"
     ]
    },
    {
     "name": "stderr",
     "output_type": "stream",
     "text": [
      "2500it [02:11, 19.03it/s]\n",
      "0it [00:00, ?it/s]"
     ]
    },
    {
     "name": "stdout",
     "output_type": "stream",
     "text": [
      "Epoch : 20, Train Accuracy : 0.60036, Test Accuracy : 0.5043\n",
      "Free Information ratio: [0.01111868]\n",
      "Nudged Information ratio: [0.01110996]\n"
     ]
    },
    {
     "name": "stderr",
     "output_type": "stream",
     "text": [
      "2500it [02:12, 18.90it/s]\n",
      "0it [00:00, ?it/s]"
     ]
    },
    {
     "name": "stdout",
     "output_type": "stream",
     "text": [
      "Epoch : 21, Train Accuracy : 0.60446, Test Accuracy : 0.5051\n",
      "Free Information ratio: [0.01464981]\n",
      "Nudged Information ratio: [0.01463739]\n"
     ]
    },
    {
     "name": "stderr",
     "output_type": "stream",
     "text": [
      "2500it [02:12, 18.83it/s]\n",
      "0it [00:00, ?it/s]"
     ]
    },
    {
     "name": "stdout",
     "output_type": "stream",
     "text": [
      "Epoch : 22, Train Accuracy : 0.6055, Test Accuracy : 0.5066\n",
      "Free Information ratio: [0.00689981]\n",
      "Nudged Information ratio: [0.00689277]\n"
     ]
    },
    {
     "name": "stderr",
     "output_type": "stream",
     "text": [
      "2500it [02:12, 18.84it/s]\n",
      "0it [00:00, ?it/s]"
     ]
    },
    {
     "name": "stdout",
     "output_type": "stream",
     "text": [
      "Epoch : 23, Train Accuracy : 0.6082, Test Accuracy : 0.5083\n",
      "Free Information ratio: [0.01218169]\n",
      "Nudged Information ratio: [0.01217178]\n"
     ]
    },
    {
     "name": "stderr",
     "output_type": "stream",
     "text": [
      "2500it [02:12, 18.84it/s]\n",
      "0it [00:00, ?it/s]"
     ]
    },
    {
     "name": "stdout",
     "output_type": "stream",
     "text": [
      "Epoch : 24, Train Accuracy : 0.60928, Test Accuracy : 0.5081\n",
      "Free Information ratio: [0.00987625]\n",
      "Nudged Information ratio: [0.00986436]\n"
     ]
    },
    {
     "name": "stderr",
     "output_type": "stream",
     "text": [
      "2500it [02:11, 18.96it/s]\n",
      "0it [00:00, ?it/s]"
     ]
    },
    {
     "name": "stdout",
     "output_type": "stream",
     "text": [
      "Epoch : 25, Train Accuracy : 0.61034, Test Accuracy : 0.5069\n",
      "Free Information ratio: [0.01099001]\n",
      "Nudged Information ratio: [0.01097832]\n"
     ]
    },
    {
     "name": "stderr",
     "output_type": "stream",
     "text": [
      "2500it [02:10, 19.11it/s]\n",
      "0it [00:00, ?it/s]"
     ]
    },
    {
     "name": "stdout",
     "output_type": "stream",
     "text": [
      "Epoch : 26, Train Accuracy : 0.61316, Test Accuracy : 0.5069\n",
      "Free Information ratio: [0.00876206]\n",
      "Nudged Information ratio: [0.00875251]\n"
     ]
    },
    {
     "name": "stderr",
     "output_type": "stream",
     "text": [
      "2500it [02:11, 19.02it/s]\n"
     ]
    }
   ],
   "source": [
    "trn_acc_list = []\n",
    "tst_acc_list = []\n",
    "\n",
    "n_epochs = 30\n",
    "\n",
    "for epoch_ in range(n_epochs):\n",
    "    if epoch_ < 15:\n",
    "        lr = {'ff' : lr_start['ff'] * (0.95)**epoch_, 'fb' : lr_start['fb'] * (0.95)**epoch_}\n",
    "    else:\n",
    "        lr = {'ff' : lr_start['ff'] * (0.9)**epoch_, 'fb' : lr_start['fb'] * (0.9)**epoch_}\n",
    "    for idx, (x, y) in tqdm(enumerate(train_loader)):\n",
    "        x, y = x.to(device), y.to(device)\n",
    "        x = x.view(x.size(0),-1).T\n",
    "        y_one_hot = F.one_hot(y, 10).to(device).T\n",
    "        take_debug_logs_ = (idx % 500 == 0)\n",
    "        if use_random_sign_beta:\n",
    "            rnd_sgn = 2*np.random.randint(2) - 1\n",
    "            beta = rnd_sgn*beta\n",
    "            \n",
    "        neurons = model.batch_step_hopfield( x, y_one_hot, hopfield_g, \n",
    "                                             lr, neural_lr_start, neural_lr_stop, STlambda_lr_list, neural_lr_rule, \n",
    "                                             neural_lr_decay_multiplier, neural_dynamic_iterations_free,\n",
    "                                             neural_dynamic_iterations_nudged, beta, \n",
    "                                             use_three_phase, take_debug_logs_, weight_decay)\n",
    "    \n",
    "    trn_acc = evaluateContrastiveCorInfoMaxHopfieldSparse(  model, train_loader, hopfield_g, neural_lr_start, \n",
    "                                                            neural_lr_stop, STlambda_lr_list, neural_lr_rule, \n",
    "                                                            neural_lr_decay_multiplier, \n",
    "                                                            neural_dynamic_iterations_free, \n",
    "                                                            device, printing = False)\n",
    "    tst_acc = evaluateContrastiveCorInfoMaxHopfieldSparse(  model, test_loader, hopfield_g, neural_lr_start, \n",
    "                                                            neural_lr_stop, STlambda_lr_list, neural_lr_rule, \n",
    "                                                            neural_lr_decay_multiplier, \n",
    "                                                            neural_dynamic_iterations_free, \n",
    "                                                            device, printing = False)\n",
    "    trn_acc_list.append(trn_acc)\n",
    "    tst_acc_list.append(tst_acc)\n",
    "    \n",
    "    print(\"Epoch : {}, Train Accuracy : {}, Test Accuracy : {}\".format(epoch_+1, trn_acc, tst_acc))\n",
    "    print(\"Free Information ratio: {}\".format(np.array(model.layerwise_forward_corinfo_list_free)[-1] / np.array(model.layerwise_backward_corinfo_list_free)[-1]))\n",
    "    print(\"Nudged Information ratio: {}\".format(np.array(model.layerwise_forward_corinfo_list_nudged)[-1] / np.array(model.layerwise_backward_corinfo_list_nudged)[-1]))"
   ]
  },
  {
   "cell_type": "code",
   "execution_count": 25,
   "id": "4fb13489",
   "metadata": {},
   "outputs": [
    {
     "name": "stdout",
     "output_type": "stream",
     "text": [
      "Epoch : 30, Train Accuracy : 0.61552, Test Accuracy : 0.4743\n"
     ]
    }
   ],
   "source": [
    "print(\"Epoch : {}, Train Accuracy : {}, Test Accuracy : {}\".format(epoch_+1, trn_acc, tst_acc))"
   ]
  },
  {
   "cell_type": "code",
   "execution_count": null,
   "id": "f8191594",
   "metadata": {},
   "outputs": [],
   "source": [
    "tst_acc = evaluateContrastiveCorInfoMaxHopfieldSparse(  model, test_loader, hopfield_g, neural_lr_start, \n",
    "                                                        neural_lr_stop, STlambda_lr_list, neural_lr_rule, \n",
    "                                                        neural_lr_decay_multiplier, \n",
    "                                                        neural_dynamic_iterations_free, \n",
    "                                                        device, printing = True)"
   ]
  },
  {
   "cell_type": "code",
   "execution_count": null,
   "id": "a84119c5",
   "metadata": {},
   "outputs": [],
   "source": [
    "tst_acc = evaluateContrastiveCorInfoMaxHopfieldSparse(  model2, test_loader, hopfield_g, neural_lr_start, \n",
    "                                                        neural_lr_stop, STlambda_lr_list, neural_lr_rule, \n",
    "                                                        neural_lr_decay_multiplier, \n",
    "                                                        neural_dynamic_iterations_free, \n",
    "                                                        device, printing = True)"
   ]
  },
  {
   "cell_type": "code",
   "execution_count": 28,
   "id": "25ded4ef",
   "metadata": {},
   "outputs": [
    {
     "data": {
      "text/plain": [
       "[<matplotlib.lines.Line2D at 0x2b0937e193a0>]"
      ]
     },
     "execution_count": 28,
     "metadata": {},
     "output_type": "execute_result"
    },
    {
     "data": {
      "image/png": "[encoded data removed]",
      "text/plain": [
       "<Figure size 432x288 with 1 Axes>"
      ]
     },
     "metadata": {
      "needs_background": "light"
     },
     "output_type": "display_data"
    }
   ],
   "source": [
    "plt.plot(model.forward_backward_angles)"
   ]
  },
  {
   "cell_type": "code",
   "execution_count": 26,
   "id": "fe20a069",
   "metadata": {},
   "outputs": [
    {
     "data": {
      "image/png": "[encoded data removed]",
      "text/plain": [
       "<Figure size 864x576 with 1 Axes>"
      ]
     },
     "metadata": {
      "needs_background": "light"
     },
     "output_type": "display_data"
    }
   ],
   "source": [
    "plot_convergence_plot(trn_acc_list, xlabel = 'Number of Epochs', ylabel = 'Accuracy %',\n",
    "                      title = 'Contrastive CorInfoMax Train Accuracy w.r.t. Epochs', \n",
    "                      figsize = (12,8), fontsize = 25, linewidth = 3)"
   ]
  },
  {
   "cell_type": "code",
   "execution_count": 27,
   "id": "93e28c34",
   "metadata": {},
   "outputs": [
    {
     "data": {
      "image/png": "[encoded data removed]",
      "text/plain": [
       "<Figure size 864x576 with 1 Axes>"
      ]
     },
     "metadata": {
      "needs_background": "light"
     },
     "output_type": "display_data"
    }
   ],
   "source": [
    "plot_convergence_plot(tst_acc_list, xlabel = 'Number of Epochs', ylabel = 'Accuracy %',\n",
    "                      title = 'Contrastive CorInfoMax Test Accuracy w.r.t. Epochs', \n",
    "                      figsize = (12,8), fontsize = 25, linewidth = 3)"
   ]
  },
  {
   "cell_type": "code",
   "execution_count": null,
   "id": "8611a21d",
   "metadata": {},
   "outputs": [],
   "source": [
    "# from IPython.display import Math, display\n",
    "# ########### LATEX Style Display Matrix ###############\n",
    "# def display_matrix(array):\n",
    "#     \"\"\"Display given numpy array with Latex format in Jupyter Notebook.\n",
    "#     Args:\n",
    "#         array (numpy array): Array to be displayed\n",
    "#     \"\"\"\n",
    "#     data = \"\"\n",
    "#     for line in array:\n",
    "#         if len(line) == 1:\n",
    "#             data += \" %.3f &\" % line + r\" \\\\\\n\"\n",
    "#             continue\n",
    "#         for element in line:\n",
    "#             data += \" %.3f &\" % element\n",
    "#         data += r\" \\\\\" + \"\\n\"\n",
    "#     display(Math(\"\\\\begin{bmatrix} \\n%s\\\\end{bmatrix}\" % data))"
   ]
  },
  {
   "cell_type": "code",
   "execution_count": null,
   "id": "3e88fc87",
   "metadata": {},
   "outputs": [],
   "source": [
    "# display_matrix(model.B[0]['weight'][:10,:10])"
   ]
  },
  {
   "cell_type": "code",
   "execution_count": null,
   "id": "71cac654",
   "metadata": {},
   "outputs": [],
   "source": [
    "# display_matrix(torch.linalg.inv(model.Rh1)[:10,:10])"
   ]
  },
  {
   "cell_type": "code",
   "execution_count": null,
   "id": "e8f3192b",
   "metadata": {},
   "outputs": [],
   "source": [
    "# torch.norm(model.B[0]['weight'] - torch.linalg.inv(model.Rh1))"
   ]
  },
  {
   "cell_type": "code",
   "execution_count": null,
   "id": "865769b5",
   "metadata": {},
   "outputs": [],
   "source": [
    "# display_matrix(torch.linalg.inv(model.Rh2)[:10,:10])"
   ]
  },
  {
   "cell_type": "code",
   "execution_count": null,
   "id": "037434ac",
   "metadata": {},
   "outputs": [],
   "source": [
    "# In this section, we present the CorInfoMax network structure and corresponding neuronal dynamics for different selections of $\\displaystyle \\Pcal^{(k)}$. In particular, we can choose different presumed domain $\\displaystyle \\Pcal^{(k)}$ for each layer-$k$. To illustrate, consider $\\displaystyle \\Pcal^{(k)} = \\mathcal{B}_{1,+}=\\{\\rvr: \\|\\rvr\\|_1 \\leq 1, \\vzero \\leq \\rvr \\}$ that is the intersection of the $L1$ norm ball and the nonnegative orthant. To derive the network dynamics corresponding to $\\rvr^{(k)}[t]$, we consider the following constrained optimization similar to (\\ref{eq:objsysdynamics}),\n",
    "\n",
    "# \\begin{eqnarray}\n",
    "#     \\underset{\\rvr^{(k)}[t]}{\\text{maximize }} & \\Bigg( \\Bigg.\\frac{1}{2}(\\log \\det (\\hat{\\rmR}_{\\rvr^{(k)}}[t]+ \\epsilon_{k-1} \\mI)+\\log \\det (\\hat{\\rmR}_{\\rvr^{(k)}}[t]+ \\epsilon_{k} \\mI))\\nonumber\\\\  &-\\frac{1}{2\\epsilon_{k-1}}\\left\\|\\overset{\\rightarrow}{\\rve}^{(k)}[t]\\right\\|_2^2-\\frac{1}{2\\epsilon_k}\\left\\|\\overset{\\leftarrow}{\\rve}^{(k)}[t]\\right\\|_2^2\\Bigg. \\Bigg)\\label{eq:objsysdynamicsSparse}\\\\\n",
    "#     \\text{subject to} &  \\|\\rvr^{(k)}[t]\\|_1 \\le 1,\\nonumber\\\\\n",
    "#     &   \\mathbf{0}\\le \\rvr^{(k)}[t],\\nonumber\n",
    "# \\end{eqnarray}\n",
    "\n",
    "# We can write down the Lagrangian min-max problem corresponding to this optimization as \n",
    "# \\begin{eqnarray}\n",
    "# \\underset{{q}_k[t] \\ge 0}{\\text{minimize }} \n",
    "#  \\underset{\\rvr^{(k)}[t] \\ge \\vzero}{\\text{maximize }}  L(\\rvr^{(k)}[t], {q}_k[t])=O(\\rvr^{(k)}[t])+{q}_k[t](\\|\\rvr^{(k)}[t]\\|_1 - 1)\n",
    "# \\end{eqnarray}\n",
    "# where $O(\\rvr^{(k)}[t])$ is the objective in (\\ref{eq:objsysdynamicsSparse}). Following the proximal gradient update for $\\displaystyle \\rvr^{(k)}[t]$ with the gradient expression (\\ref{eq:gradrk}), we can write the output dynamics for layer-$k$ as follows, \n",
    "\n",
    "# \\begin{align}\n",
    "#     &\\tau_{\\rvu}\\frac{d \\rvu^{(k)}[t;s]}{ds}=-g_{lk}\\rvu^{(k)}[t;s]+g_{A,k}(\\rvv^{(k)}_A[t;s]-\\rvu^{(k)}[t;s])+g_{B,k}(\\rvv^{(k)}_B[t;s]-\\rvu^{(k)}[t;s]), \\nonumber%\\label{eq:hiddynamicsSparse1}\n",
    "#     \\\\\n",
    "#   &\\rvr^{(k)}[t;s]= \\text{ReLU}(\\rvu^{(k)}[t;s] - q^{(k)}[t;s]) \\nonumber, %\\label{eq:hiddynamicsSparse2}\n",
    "#   \\end{align}\n",
    "  \n",
    "# % \\begin{eqnarray}\n",
    "# %     \\tau_{\\rvu}\\frac{d \\rvu^{(k)}[t;s]}{ds}&=&-g_{lk}\\rvu^{(k)}[t;s]+\\frac{1}{\\epsilon_k}\\mM^{(k)}[t]\\vr^{(k)}[t;s]-\\frac{1}{\\epsilon_{k-1}}\\overset{\\rightarrow}{\\rve}_u^{(k)}[t;s]-\\frac{1}{\\epsilon_{k}}\\overset{\\leftarrow}{\\rve}_u^{(k)}[t;s], \\nonumber\\\\\n",
    "# %    \\overset{\\rightarrow}{\\rve}_u^{(k)}[t;s]&=&\\rvu^{(k)}[t;s]-\\mW^{(k-1)}_{ff}[t]\\rvr^{(k-1)}[t;s], \\nonumber\\\\\n",
    "# % \\overset{\\leftarrow}{\\rve}_u^{(k)}[t;s]&=&\\rvu^{(k)}[t;s]-\\mW^{(k)}_{fb}[t]\\rvr^{(k+1)}[t;s],\\nonumber\\\\\n",
    "# % \\rvr^{(k)}[t;s]&=& \\text{ReLU}(\\rvu^{(k)}[t;s] - q^{(k)}[t;s]) \\nonumber,\n",
    "# % \\end{eqnarray} \n",
    "\n",
    "# where we utilized the intermediate variable $\\displaystyle \\rvu^{(k)}$, and $\\text{ReLU}$ is the element-wise rectified linear unit.\n",
    "# The update corresponding to the Lagrangian variable $q_1[t;s]$ can be written based on the dual minimization,\n",
    "\n",
    "# \\begin{align}\n",
    "#     \\frac{d a_k[t;s]}{ds} = -a_k[t;s] + \\sum_{j = 1}^{N_k} \\rvr_j^{(k)}[t;s] - 1 + q^{(k)}[t;s], \\quad q^{(k)}[t;s] = \\text{ReLU}(a_k[t;s]) \\nonumber\n",
    "# \\end{align}\n",
    "\n",
    "# The Lagrangian variable $\\displaystyle q^{(k)}$ in the above formulation corresponds to an additional inhibition inter-neuron that takes input from the whole neurons of layer-$k$ and produces an inhibition signal."
   ]
  }
 ],
 "metadata": {
  "kernelspec": {
   "display_name": "Python 3 (ipykernel)",
   "language": "python",
   "name": "python3"
  },
  "language_info": {
   "codemirror_mode": {
    "name": "ipython",
    "version": 3
   },
   "file_extension": ".py",
   "mimetype": "text/x-python",
   "name": "python",
   "nbconvert_exporter": "python",
   "pygments_lexer": "ipython3",
   "version": "3.8.8"
  }
 },
 "nbformat": 4,
 "nbformat_minor": 5
}
