{
 "cells": [
  {
   "cell_type": "code",
   "execution_count": 1,
   "id": "15030e80",
   "metadata": {},
   "outputs": [],
   "source": [
    "import sys\n",
    "sys.path.append(\"../src\")\n",
    "import torch\n",
    "import matplotlib.pyplot as plt\n",
    "import numpy as np\n",
    "import torchvision\n",
    "import torch.nn.functional as F\n",
    "\n",
    "import glob\n",
    "import os\n",
    "from datetime import datetime\n",
    "import time\n",
    "import math\n",
    "from tqdm import tqdm\n",
    "\n",
    "from itertools import repeat\n",
    "from torch.nn.parameter import Parameter\n",
    "import collections\n",
    "import matplotlib\n",
    "from torch_utils import *\n",
    "from models import *\n",
    "from visualization import *\n",
    "# matplotlib.use('Agg')"
   ]
  },
  {
   "cell_type": "code",
   "execution_count": 2,
   "id": "46cef888",
   "metadata": {},
   "outputs": [
    {
     "data": {
      "text/plain": [
       "device(type='cuda', index=0)"
      ]
     },
     "execution_count": 2,
     "metadata": {},
     "output_type": "execute_result"
    }
   ],
   "source": [
    "device = torch.device('cuda:0' if torch.cuda.is_available() else 'cpu')\n",
    "device"
   ]
  },
  {
   "cell_type": "code",
   "execution_count": 3,
   "id": "c6271c18",
   "metadata": {},
   "outputs": [],
   "source": [
    "transform = torchvision.transforms.Compose([torchvision.transforms.ToTensor(), \n",
    "                                            torchvision.transforms.Normalize(mean=(0.0,), std=(1.0,))])\n",
    "\n",
    "mnist_dset_train = torchvision.datasets.MNIST('./data', train=True, transform=transform, target_transform=None, download=True)\n",
    "train_loader = torch.utils.data.DataLoader(mnist_dset_train, batch_size=20, shuffle=True, num_workers=0)\n",
    "\n",
    "mnist_dset_test = torchvision.datasets.MNIST('./data', train=False, transform=transform, target_transform=None, download=True)\n",
    "test_loader = torch.utils.data.DataLoader(mnist_dset_test, batch_size=20, shuffle=False, num_workers=0)"
   ]
  },
  {
   "cell_type": "code",
   "execution_count": 4,
   "id": "e3e690f4",
   "metadata": {},
   "outputs": [],
   "source": [
    "activation = hard_sigmoid\n",
    "architecture = [784, 500, 10]\n",
    "\n",
    "x,y = next(iter(train_loader))\n",
    "x = x.view(x.size(0),-1).to(device).T\n",
    "y_one_hot = F.one_hot(y, 10).to(device).T\n",
    "\n",
    "beta = 1\n",
    "lambda_ = 0.999\n",
    "epsilon = 0.1#0.5\n",
    "one_over_epsilon = 1 / epsilon\n",
    "lr_start = {'ff' : 0.01, 'fb': 0.001, 'lat': 1e-3}\n",
    "neural_lr_start = 0.1\n",
    "neural_lr_stop = 1e-3\n",
    "neural_lr_rule = \"divide_by_slow_loop_index\"\n",
    "neural_lr_decay_multiplier = 0.1\n",
    "neural_dynamic_iterations = 10\n",
    "model = CorInfoMax(architecture = architecture, lambda_ = lambda_,\n",
    "                           epsilon = epsilon, activation = activation)"
   ]
  },
  {
   "cell_type": "code",
   "execution_count": 5,
   "id": "fa97935c",
   "metadata": {},
   "outputs": [
    {
     "data": {
      "text/plain": [
       "[tensor([[0., 0., 0.,  ..., 0., 0., 0.],\n",
       "         [0., 0., 0.,  ..., 0., 0., 0.],\n",
       "         [0., 0., 0.,  ..., 0., 0., 0.],\n",
       "         ...,\n",
       "         [0., 0., 0.,  ..., 0., 0., 0.],\n",
       "         [0., 0., 0.,  ..., 0., 0., 0.],\n",
       "         [0., 0., 0.,  ..., 0., 0., 0.]], device='cuda:0'),\n",
       " tensor([[0., 0., 0., 0., 0., 0., 0., 0., 0., 0., 0., 0., 0., 0., 0., 0., 0., 0., 0., 0.],\n",
       "         [0., 0., 0., 0., 0., 0., 0., 0., 0., 0., 0., 0., 0., 0., 0., 0., 0., 0., 0., 0.],\n",
       "         [0., 0., 0., 0., 0., 0., 0., 0., 0., 0., 0., 0., 0., 0., 0., 0., 0., 0., 0., 0.],\n",
       "         [0., 0., 0., 0., 0., 0., 0., 0., 0., 0., 0., 0., 0., 0., 0., 0., 0., 0., 0., 0.],\n",
       "         [0., 0., 0., 0., 0., 0., 0., 0., 0., 0., 0., 0., 0., 0., 0., 0., 0., 0., 0., 0.],\n",
       "         [0., 0., 0., 0., 0., 0., 0., 0., 0., 0., 0., 0., 0., 0., 0., 0., 0., 0., 0., 0.],\n",
       "         [0., 0., 0., 0., 0., 0., 0., 0., 0., 0., 0., 0., 0., 0., 0., 0., 0., 0., 0., 0.],\n",
       "         [0., 0., 0., 0., 0., 0., 0., 0., 0., 0., 0., 0., 0., 0., 0., 0., 0., 0., 0., 0.],\n",
       "         [0., 0., 0., 0., 0., 0., 0., 0., 0., 0., 0., 0., 0., 0., 0., 0., 0., 0., 0., 0.],\n",
       "         [0., 0., 0., 0., 0., 0., 0., 0., 0., 0., 0., 0., 0., 0., 0., 0., 0., 0., 0., 0.]],\n",
       "        device='cuda:0')]"
      ]
     },
     "execution_count": 5,
     "metadata": {},
     "output_type": "execute_result"
    }
   ],
   "source": [
    "neurons = model.init_neurons(20)\n",
    "neurons"
   ]
  },
  {
   "cell_type": "code",
   "execution_count": 6,
   "id": "00a3e2db",
   "metadata": {},
   "outputs": [
    {
     "data": {
      "text/plain": [
       "[tensor([[ 0.7000,  0.0278, -3.0337,  ..., -1.0185, -2.3567, -1.6107],\n",
       "         [ 7.6684,  7.1523,  2.2729,  ...,  8.1805,  5.5208,  4.8485],\n",
       "         [ 2.3818,  0.9725, -1.2124,  ..., -1.9394,  0.8576, -3.4499],\n",
       "         ...,\n",
       "         [-1.6879, -1.8486, -2.2555,  ...,  0.1105, -1.8685,  3.8641],\n",
       "         [-1.9641, -2.2766, -0.4007,  ..., -1.8700,  0.7408, -5.1555],\n",
       "         [ 1.7551,  1.4266,  1.9611,  ...,  3.6627,  1.6223,  2.4620]],\n",
       "        device='cuda:0'),\n",
       " tensor([[0., 0., 0., 0., 0., 0., 0., 0., 0., 0., 0., 0., 0., 0., 0., 0., 0., 0., 0., 0.],\n",
       "         [0., 0., 0., 0., 0., 0., 0., 0., 0., 0., 0., 0., 0., 0., 0., 0., 0., 0., 0., 0.],\n",
       "         [0., 0., 0., 0., 0., 0., 0., 0., 0., 0., 0., 0., 0., 0., 0., 0., 0., 0., 0., 0.],\n",
       "         [0., 0., 0., 0., 0., 0., 0., 0., 0., 0., 0., 0., 0., 0., 0., 0., 0., 0., 0., 0.],\n",
       "         [0., 0., 0., 0., 0., 0., 0., 0., 0., 0., 0., 0., 0., 0., 0., 0., 0., 0., 0., 0.],\n",
       "         [0., 0., 0., 0., 0., 0., 0., 0., 0., 0., 0., 0., 0., 0., 0., 0., 0., 0., 0., 0.],\n",
       "         [0., 0., 0., 0., 0., 0., 0., 0., 0., 0., 0., 0., 0., 0., 0., 0., 0., 0., 0., 0.],\n",
       "         [0., 0., 0., 0., 0., 0., 0., 0., 0., 0., 0., 0., 0., 0., 0., 0., 0., 0., 0., 0.],\n",
       "         [0., 0., 0., 0., 0., 0., 0., 0., 0., 0., 0., 0., 0., 0., 0., 0., 0., 0., 0., 0.],\n",
       "         [0., 0., 0., 0., 0., 0., 0., 0., 0., 0., 0., 0., 0., 0., 0., 0., 0., 0., 0., 0.]],\n",
       "        device='cuda:0')]"
      ]
     },
     "execution_count": 6,
     "metadata": {},
     "output_type": "execute_result"
    }
   ],
   "source": [
    "grads = model.calculate_neural_dynamics_grad(x, y_one_hot, neurons, 0)\n",
    "grads"
   ]
  },
  {
   "cell_type": "code",
   "execution_count": 7,
   "id": "40405bfd",
   "metadata": {},
   "outputs": [
    {
     "data": {
      "text/plain": [
       "tensor([8, 6, 6, 8, 9, 8, 8, 1, 8, 0, 6, 9, 8, 8, 0, 0, 8, 8, 6, 1],\n",
       "       device='cuda:0')"
      ]
     },
     "execution_count": 7,
     "metadata": {},
     "output_type": "execute_result"
    }
   ],
   "source": [
    "neurons = model.init_neurons(20)\n",
    "neurons[-1] = y_one_hot.to(torch.float)\n",
    "neurons = model.run_neural_dynamics(x, y_one_hot, neurons, neural_lr_start, neural_lr_stop, neural_lr_rule,\n",
    "                                    neural_lr_decay_multiplier, neural_dynamic_iterations, beta)\n",
    "torch.argmax(neurons[-1], dim=0).squeeze()"
   ]
  },
  {
   "cell_type": "code",
   "execution_count": 8,
   "id": "39f19511",
   "metadata": {},
   "outputs": [
    {
     "data": {
      "text/plain": [
       "[tensor([[ 0.0700,  0.0028, -0.3034,  ..., -0.1018, -0.2357, -0.1611],\n",
       "         [ 0.7668,  0.7152,  0.2273,  ...,  0.8180,  0.5521,  0.4848],\n",
       "         [ 0.2382,  0.0973, -0.1212,  ..., -0.1939,  0.0858, -0.3450],\n",
       "         ...,\n",
       "         [-0.1688, -0.1849, -0.2256,  ...,  0.0111, -0.1869,  0.3864],\n",
       "         [-0.1964, -0.2277, -0.0401,  ..., -0.1870,  0.0741, -0.5155],\n",
       "         [ 0.1755,  0.1427,  0.1961,  ...,  0.3663,  0.1622,  0.2462]],\n",
       "        device='cuda:0'),\n",
       " tensor([[-0.1105,  0.5995, -0.5097, -0.4320,  0.3181, -0.0328, -0.1241,  0.2450,\n",
       "           0.0405,  0.1832,  0.6010,  0.1143,  0.0193, -0.5576,  0.2244, -0.1121,\n",
       "           0.1382,  0.0604, -0.4643, -0.1235],\n",
       "         [ 0.7400, -0.5330, -0.9301, -0.8341, -0.6046,  0.1549, -0.2467, -0.0705,\n",
       "          -0.2651, -0.2879, -0.9589, -0.1188, -0.3752, -0.1275,  0.5654, -0.4458,\n",
       "          -0.0269,  0.4367, -1.0961, -0.3917],\n",
       "         [-0.0339, -0.9653, -0.2359, -0.0989, -0.6299, -0.4312, -0.3142,  0.1167,\n",
       "          -0.1097, -0.4945, -1.1087, -0.4552, -0.6539, -0.4202, -1.3801, -1.0805,\n",
       "           0.0445, -0.3428,  0.5094, -0.2830],\n",
       "         [-0.2594,  0.2759,  0.0205, -0.5040,  0.2938,  0.2273,  0.0029, -0.1175,\n",
       "           0.0598,  0.2181,  0.3196, -0.0667, -0.0695, -0.4821,  0.1981,  0.1893,\n",
       "          -0.5557,  0.0093, -0.0079,  0.1580],\n",
       "         [-1.2242, -1.7455, -0.8826, -1.8131, -1.1899, -1.1653, -0.2026, -0.9474,\n",
       "          -1.1443, -1.4830, -1.4286, -1.3850, -0.6364, -1.1192, -1.3225, -1.2320,\n",
       "          -1.1016, -2.0844, -0.8564, -0.7476],\n",
       "         [-0.0740, -0.0355, -0.2207, -0.6537, -0.7629,  0.0631, -0.5943, -0.0749,\n",
       "           0.1124, -0.0925, -1.0921, -0.3813, -0.3150,  0.0765,  0.2237,  0.2429,\n",
       "           0.2932, -0.5616, -0.3199, -0.0109],\n",
       "         [-0.1798,  0.0593,  0.4966, -1.1545, -0.1307, -0.7717, -0.6101, -0.4608,\n",
       "          -0.6537, -0.4455,  0.1254, -0.2768, -0.4436, -0.1582, -0.4653, -1.1960,\n",
       "          -0.8649, -0.4446,  0.1404,  0.1514],\n",
       "         [-0.7734, -0.5094, -0.8610, -0.7777,  0.2046, -0.4692, -0.3316, -0.0127,\n",
       "          -0.2282, -0.6310, -0.3020, -0.9515, -0.1026, -0.3252, -0.3101, -0.5533,\n",
       "          -0.8857, -0.9730, -0.4090,  0.1117],\n",
       "         [ 0.4640, -0.3068, -0.4162, -0.3847,  0.0647,  0.9396,  0.2476,  0.2662,\n",
       "           0.0691,  0.2150, -0.7750, -0.4393,  0.0159,  0.6686,  0.5722, -0.0751,\n",
       "           0.2498, -0.0471, -0.3337, -0.2329],\n",
       "         [-0.6437,  0.2770,  0.1207, -0.3393,  0.4252, -0.5380, -0.0834, -0.0477,\n",
       "          -0.0784,  0.2187, -0.2538,  0.1864, -0.3216, -0.9070, -0.2747, -0.2473,\n",
       "          -0.1467, -0.1115, -0.0073,  0.0804]], device='cuda:0')]"
      ]
     },
     "execution_count": 8,
     "metadata": {},
     "output_type": "execute_result"
    }
   ],
   "source": [
    "model.fast_forward(x)"
   ]
  },
  {
   "cell_type": "code",
   "execution_count": 9,
   "id": "b6d0ac95",
   "metadata": {},
   "outputs": [
    {
     "data": {
      "text/plain": [
       "(torch.Size([10, 20]), torch.Size([10, 20]))"
      ]
     },
     "execution_count": 9,
     "metadata": {},
     "output_type": "execute_result"
    }
   ],
   "source": [
    "neurons[-1].shape, y_one_hot.shape"
   ]
  },
  {
   "cell_type": "code",
   "execution_count": 10,
   "id": "21081a29",
   "metadata": {},
   "outputs": [
    {
     "data": {
      "text/plain": [
       "'divide_by_slow_loop_index'"
      ]
     },
     "execution_count": 10,
     "metadata": {},
     "output_type": "execute_result"
    }
   ],
   "source": [
    "neural_lr_rule"
   ]
  },
  {
   "cell_type": "code",
   "execution_count": 19,
   "id": "2f4e6c7c",
   "metadata": {},
   "outputs": [
    {
     "data": {
      "text/plain": [
       "(tensor([0, 9, 3, 6, 8, 6, 4, 7, 0, 5, 1, 5, 3, 2, 8, 1, 7, 9, 0, 0],\n",
       "        device='cuda:0'),\n",
       " tensor([0, 9, 3, 6, 8, 6, 4, 7, 0, 5, 1, 5, 3, 2, 8, 1, 7, 9, 0, 0]))"
      ]
     },
     "execution_count": 19,
     "metadata": {},
     "output_type": "execute_result"
    }
   ],
   "source": [
    "activation = hard_sigmoid\n",
    "architecture = [784, 500, 10]\n",
    "\n",
    "x,y = next(iter(train_loader))\n",
    "x = x.view(x.size(0),-1).to(device).T\n",
    "y_one_hot = F.one_hot(y, 10).to(device).T\n",
    "\n",
    "beta = 1\n",
    "lambda_ = 0.999\n",
    "epsilon = 0.5#0.5\n",
    "one_over_epsilon = 1 / epsilon\n",
    "lr_start = {'ff' : 0.01, 'fb': 0.001, 'lat': 1e-3}\n",
    "neural_lr_start = 0.1\n",
    "neural_lr_stop = 1e-3\n",
    "# neural_lr_rule = \"divide_by_slow_loop_index\"\n",
    "neural_lr_rule = \"constant\"\n",
    "neural_lr_decay_multiplier = 0.1\n",
    "neural_dynamic_iterations = 50\n",
    "model = CorInfoMax(architecture = architecture, lambda_ = lambda_,\n",
    "                           epsilon = epsilon, activation = activation)\n",
    "\n",
    "neurons = model.batch_step(x, y_one_hot, lr_start, neural_lr_start, neural_lr_stop, neural_lr_rule, \n",
    "                           neural_lr_decay_multiplier, 5, 1, \"train\")\n",
    "torch.argmax(neurons[-1], dim=0).squeeze(), y"
   ]
  },
  {
   "cell_type": "code",
   "execution_count": 12,
   "id": "cdb3a32e",
   "metadata": {},
   "outputs": [
    {
     "data": {
      "text/plain": [
       "(tensor([1, 0, 6, 2, 9, 8, 8, 8, 5, 9, 0, 9, 8, 8, 1, 5, 5, 1, 2, 6],\n",
       "        device='cuda:0'),\n",
       " tensor([4, 3, 1, 2, 2, 4, 9, 5, 0, 0, 2, 9, 9, 2, 6, 0, 4, 8, 7, 1]))"
      ]
     },
     "execution_count": 12,
     "metadata": {},
     "output_type": "execute_result"
    }
   ],
   "source": [
    "neurons = model.fast_forward(x)\n",
    "torch.argmax(neurons[-1], dim=0).squeeze(), y"
   ]
  }
 ],
 "metadata": {
  "kernelspec": {
   "display_name": "Python 3 (ipykernel)",
   "language": "python",
   "name": "python3"
  },
  "language_info": {
   "codemirror_mode": {
    "name": "ipython",
    "version": 3
   },
   "file_extension": ".py",
   "mimetype": "text/x-python",
   "name": "python",
   "nbconvert_exporter": "python",
   "pygments_lexer": "ipython3",
   "version": "3.8.8"
  }
 },
 "nbformat": 4,
 "nbformat_minor": 5
}
