{
 "cells": [
  {
   "cell_type": "code",
   "execution_count": 1,
   "id": "80e5c529",
   "metadata": {},
   "outputs": [],
   "source": [
    "import sys\n",
    "sys.path.append(\"../src\")\n",
    "import torch\n",
    "import matplotlib.pyplot as plt\n",
    "import numpy as np\n",
    "import torchvision\n",
    "import torch.nn.functional as F\n",
    "\n",
    "import glob\n",
    "import os\n",
    "from datetime import datetime\n",
    "import time\n",
    "import math\n",
    "from tqdm import tqdm\n",
    "\n",
    "from itertools import repeat\n",
    "from torch.nn.parameter import Parameter\n",
    "import collections\n",
    "import matplotlib\n",
    "from torch_utils import *\n",
    "from modelsnew import *\n",
    "from visualization import *\n",
    "# matplotlib.use('Agg')"
   ]
  },
  {
   "cell_type": "code",
   "execution_count": 2,
   "id": "18107bbb",
   "metadata": {},
   "outputs": [
    {
     "data": {
      "text/plain": [
       "device(type='cuda', index=0)"
      ]
     },
     "execution_count": 2,
     "metadata": {},
     "output_type": "execute_result"
    }
   ],
   "source": [
    "device = torch.device('cuda:0' if torch.cuda.is_available() else 'cpu')\n",
    "device"
   ]
  },
  {
   "cell_type": "code",
   "execution_count": 3,
   "id": "4ca6090e",
   "metadata": {},
   "outputs": [],
   "source": [
    "transform = torchvision.transforms.Compose([torchvision.transforms.ToTensor(), \n",
    "                                            torchvision.transforms.Normalize(mean=(0.0,), std=(1.0,))])\n",
    "\n",
    "mnist_dset_train = torchvision.datasets.MNIST('./data', train=True, transform=transform, target_transform=None, download=True)\n",
    "train_loader = torch.utils.data.DataLoader(mnist_dset_train, batch_size=20, shuffle=True, num_workers=0)\n",
    "\n",
    "mnist_dset_test = torchvision.datasets.MNIST('./data', train=False, transform=transform, target_transform=None, download=True)\n",
    "test_loader = torch.utils.data.DataLoader(mnist_dset_test, batch_size=20, shuffle=False, num_workers=0)"
   ]
  },
  {
   "cell_type": "code",
   "execution_count": 4,
   "id": "8e5f3ee3",
   "metadata": {},
   "outputs": [],
   "source": [
    "activation = hard_sigmoid\n",
    "# activation = F.relu\n",
    "criterion = torch.nn.MSELoss(reduction='none').to(device)"
   ]
  },
  {
   "cell_type": "code",
   "execution_count": 5,
   "id": "6e1d9324",
   "metadata": {},
   "outputs": [],
   "source": [
    "architecture = [784, 500, 10]\n",
    "\n",
    "x,y = next(iter(train_loader))\n",
    "x = x.view(x.size(0),-1).to(device).T\n",
    "y_one_hot = F.one_hot(y, 10).to(device).T\n",
    "\n",
    "beta = 1\n",
    "lambda_h = 0.9999\n",
    "lambda_y = 0.9999\n",
    "epsilon = 0.15#0.5\n",
    "psiv=0.1 #0.9\n",
    "one_over_epsilon = 1 / epsilon\n",
    "lr_start = {'ff' : 0.275, 'fb': 0.05, 'lat': 1e-3}\n",
    "neural_lr_start = 0.01\n",
    "neural_lr_stop = 1e-3\n",
    "neural_lr_rule = \"constant\"\n",
    "neural_lr_decay_multiplier = 0.01\n",
    "model = TwoLayerCorInfoMax(architecture = architecture, lambda_h = lambda_h, lambda_y = lambda_y, psiv=psiv,\n",
    "                           epsilon = epsilon, activation = activation)\n",
    "#model.B[1]['weight']=10*model.B[1]['weight']\n",
    "#model.B[0]['weight']=3*model.B[0]['weight']"
   ]
  },
  {
   "cell_type": "code",
   "execution_count": 6,
   "id": "d8f708a6",
   "metadata": {},
   "outputs": [
    {
     "name": "stderr",
     "output_type": "stream",
     "text": [
      "3000it [00:32, 93.32it/s]\n",
      "9it [00:00, 84.83it/s]"
     ]
    },
    {
     "name": "stdout",
     "output_type": "stream",
     "text": [
      "Epoch : 1, Train Accuracy : 0.11236666666666667, Test Accuracy : 0.1135\n"
     ]
    },
    {
     "name": "stderr",
     "output_type": "stream",
     "text": [
      "3000it [00:32, 92.68it/s]\n",
      "9it [00:00, 86.16it/s]"
     ]
    },
    {
     "name": "stdout",
     "output_type": "stream",
     "text": [
      "Epoch : 2, Train Accuracy : 0.09871666666666666, Test Accuracy : 0.0979\n"
     ]
    },
    {
     "name": "stderr",
     "output_type": "stream",
     "text": [
      "3000it [00:31, 95.06it/s]\n",
      "9it [00:00, 84.76it/s]"
     ]
    },
    {
     "name": "stdout",
     "output_type": "stream",
     "text": [
      "Epoch : 3, Train Accuracy : 0.09871666666666666, Test Accuracy : 0.098\n"
     ]
    },
    {
     "name": "stderr",
     "output_type": "stream",
     "text": [
      "3000it [00:31, 96.19it/s]\n",
      "9it [00:00, 86.75it/s]"
     ]
    },
    {
     "name": "stdout",
     "output_type": "stream",
     "text": [
      "Epoch : 4, Train Accuracy : 0.09871666666666666, Test Accuracy : 0.098\n"
     ]
    },
    {
     "name": "stderr",
     "output_type": "stream",
     "text": [
      "3000it [00:31, 95.02it/s]\n",
      "9it [00:00, 86.09it/s]"
     ]
    },
    {
     "name": "stdout",
     "output_type": "stream",
     "text": [
      "Epoch : 5, Train Accuracy : 0.11236666666666667, Test Accuracy : 0.1135\n"
     ]
    },
    {
     "name": "stderr",
     "output_type": "stream",
     "text": [
      "3000it [00:31, 95.07it/s]\n",
      "9it [00:00, 86.15it/s]"
     ]
    },
    {
     "name": "stdout",
     "output_type": "stream",
     "text": [
      "Epoch : 6, Train Accuracy : 0.09871666666666666, Test Accuracy : 0.098\n"
     ]
    },
    {
     "name": "stderr",
     "output_type": "stream",
     "text": [
      "3000it [00:31, 96.12it/s]\n",
      "9it [00:00, 85.63it/s]"
     ]
    },
    {
     "name": "stdout",
     "output_type": "stream",
     "text": [
      "Epoch : 7, Train Accuracy : 0.09871666666666666, Test Accuracy : 0.098\n"
     ]
    },
    {
     "name": "stderr",
     "output_type": "stream",
     "text": [
      "3000it [00:31, 95.40it/s]\n",
      "9it [00:00, 86.91it/s]"
     ]
    },
    {
     "name": "stdout",
     "output_type": "stream",
     "text": [
      "Epoch : 8, Train Accuracy : 0.09871666666666666, Test Accuracy : 0.098\n"
     ]
    },
    {
     "name": "stderr",
     "output_type": "stream",
     "text": [
      "3000it [00:31, 95.03it/s]\n",
      "9it [00:00, 87.16it/s]"
     ]
    },
    {
     "name": "stdout",
     "output_type": "stream",
     "text": [
      "Epoch : 9, Train Accuracy : 0.11236666666666667, Test Accuracy : 0.1135\n"
     ]
    },
    {
     "name": "stderr",
     "output_type": "stream",
     "text": [
      "3000it [00:31, 95.57it/s]\n",
      "9it [00:00, 86.98it/s]"
     ]
    },
    {
     "name": "stdout",
     "output_type": "stream",
     "text": [
      "Epoch : 10, Train Accuracy : 0.11236666666666667, Test Accuracy : 0.1135\n"
     ]
    },
    {
     "name": "stderr",
     "output_type": "stream",
     "text": [
      "3000it [00:31, 96.07it/s]\n",
      "9it [00:00, 86.85it/s]"
     ]
    },
    {
     "name": "stdout",
     "output_type": "stream",
     "text": [
      "Epoch : 11, Train Accuracy : 0.11236666666666667, Test Accuracy : 0.1135\n"
     ]
    },
    {
     "name": "stderr",
     "output_type": "stream",
     "text": [
      "3000it [00:31, 94.67it/s]\n",
      "9it [00:00, 86.34it/s]"
     ]
    },
    {
     "name": "stdout",
     "output_type": "stream",
     "text": [
      "Epoch : 12, Train Accuracy : 0.1124, Test Accuracy : 0.1135\n"
     ]
    },
    {
     "name": "stderr",
     "output_type": "stream",
     "text": [
      "3000it [00:31, 95.16it/s]\n",
      "9it [00:00, 87.10it/s]"
     ]
    },
    {
     "name": "stdout",
     "output_type": "stream",
     "text": [
      "Epoch : 13, Train Accuracy : 0.0987, Test Accuracy : 0.098\n"
     ]
    },
    {
     "name": "stderr",
     "output_type": "stream",
     "text": [
      "3000it [00:31, 96.15it/s]\n",
      "9it [00:00, 82.10it/s]"
     ]
    },
    {
     "name": "stdout",
     "output_type": "stream",
     "text": [
      "Epoch : 14, Train Accuracy : 0.11236666666666667, Test Accuracy : 0.1135\n"
     ]
    },
    {
     "name": "stderr",
     "output_type": "stream",
     "text": [
      "3000it [00:31, 95.23it/s]\n",
      "9it [00:00, 87.17it/s]"
     ]
    },
    {
     "name": "stdout",
     "output_type": "stream",
     "text": [
      "Epoch : 15, Train Accuracy : 0.11238333333333334, Test Accuracy : 0.1135\n"
     ]
    },
    {
     "name": "stderr",
     "output_type": "stream",
     "text": [
      "3000it [00:31, 94.93it/s]\n",
      "9it [00:00, 86.88it/s]"
     ]
    },
    {
     "name": "stdout",
     "output_type": "stream",
     "text": [
      "Epoch : 16, Train Accuracy : 0.11236666666666667, Test Accuracy : 0.1135\n"
     ]
    },
    {
     "name": "stderr",
     "output_type": "stream",
     "text": [
      "3000it [00:31, 94.71it/s]\n",
      "5it [00:00, 46.70it/s]"
     ]
    },
    {
     "name": "stdout",
     "output_type": "stream",
     "text": [
      "Epoch : 17, Train Accuracy : 0.11236666666666667, Test Accuracy : 0.1135\n"
     ]
    },
    {
     "name": "stderr",
     "output_type": "stream",
     "text": [
      "3000it [00:31, 95.37it/s]\n",
      "10it [00:00, 94.60it/s]"
     ]
    },
    {
     "name": "stdout",
     "output_type": "stream",
     "text": [
      "Epoch : 18, Train Accuracy : 0.11236666666666667, Test Accuracy : 0.1135\n"
     ]
    },
    {
     "name": "stderr",
     "output_type": "stream",
     "text": [
      "3000it [00:31, 94.55it/s]\n",
      "10it [00:00, 92.95it/s]"
     ]
    },
    {
     "name": "stdout",
     "output_type": "stream",
     "text": [
      "Epoch : 19, Train Accuracy : 0.11236666666666667, Test Accuracy : 0.1135\n"
     ]
    },
    {
     "name": "stderr",
     "output_type": "stream",
     "text": [
      "3000it [00:31, 94.60it/s]\n",
      "10it [00:00, 91.29it/s]"
     ]
    },
    {
     "name": "stdout",
     "output_type": "stream",
     "text": [
      "Epoch : 20, Train Accuracy : 0.11236666666666667, Test Accuracy : 0.1135\n"
     ]
    },
    {
     "name": "stderr",
     "output_type": "stream",
     "text": [
      "3000it [00:31, 95.35it/s]\n",
      "10it [00:00, 95.10it/s]"
     ]
    },
    {
     "name": "stdout",
     "output_type": "stream",
     "text": [
      "Epoch : 21, Train Accuracy : 0.09871666666666666, Test Accuracy : 0.098\n"
     ]
    },
    {
     "name": "stderr",
     "output_type": "stream",
     "text": [
      "3000it [00:31, 95.73it/s]\n",
      "10it [00:00, 95.00it/s]"
     ]
    },
    {
     "name": "stdout",
     "output_type": "stream",
     "text": [
      "Epoch : 22, Train Accuracy : 0.09868333333333333, Test Accuracy : 0.098\n"
     ]
    },
    {
     "name": "stderr",
     "output_type": "stream",
     "text": [
      "3000it [00:31, 95.96it/s]\n",
      "10it [00:00, 95.18it/s]"
     ]
    },
    {
     "name": "stdout",
     "output_type": "stream",
     "text": [
      "Epoch : 23, Train Accuracy : 0.11236666666666667, Test Accuracy : 0.1135\n"
     ]
    },
    {
     "name": "stderr",
     "output_type": "stream",
     "text": [
      "3000it [00:31, 95.38it/s]\n",
      "10it [00:00, 94.97it/s]"
     ]
    },
    {
     "name": "stdout",
     "output_type": "stream",
     "text": [
      "Epoch : 24, Train Accuracy : 0.11236666666666667, Test Accuracy : 0.1135\n"
     ]
    },
    {
     "name": "stderr",
     "output_type": "stream",
     "text": [
      "3000it [00:31, 94.96it/s]\n",
      "10it [00:00, 94.66it/s]"
     ]
    },
    {
     "name": "stdout",
     "output_type": "stream",
     "text": [
      "Epoch : 25, Train Accuracy : 0.11236666666666667, Test Accuracy : 0.1135\n"
     ]
    },
    {
     "name": "stderr",
     "output_type": "stream",
     "text": [
      "3000it [00:31, 95.97it/s]\n",
      "10it [00:00, 95.44it/s]"
     ]
    },
    {
     "name": "stdout",
     "output_type": "stream",
     "text": [
      "Epoch : 26, Train Accuracy : 0.09871666666666666, Test Accuracy : 0.098\n"
     ]
    },
    {
     "name": "stderr",
     "output_type": "stream",
     "text": [
      "3000it [00:31, 95.15it/s]\n",
      "10it [00:00, 94.44it/s]"
     ]
    },
    {
     "name": "stdout",
     "output_type": "stream",
     "text": [
      "Epoch : 27, Train Accuracy : 0.11236666666666667, Test Accuracy : 0.1135\n"
     ]
    },
    {
     "name": "stderr",
     "output_type": "stream",
     "text": [
      "3000it [00:32, 93.62it/s]\n",
      "10it [00:00, 93.07it/s]"
     ]
    },
    {
     "name": "stdout",
     "output_type": "stream",
     "text": [
      "Epoch : 28, Train Accuracy : 0.11236666666666667, Test Accuracy : 0.1135\n"
     ]
    },
    {
     "name": "stderr",
     "output_type": "stream",
     "text": [
      "3000it [00:31, 95.21it/s]\n",
      "10it [00:00, 94.69it/s]"
     ]
    },
    {
     "name": "stdout",
     "output_type": "stream",
     "text": [
      "Epoch : 29, Train Accuracy : 0.09866666666666667, Test Accuracy : 0.098\n"
     ]
    },
    {
     "name": "stderr",
     "output_type": "stream",
     "text": [
      "3000it [00:31, 95.63it/s]\n",
      "10it [00:00, 94.02it/s]"
     ]
    },
    {
     "name": "stdout",
     "output_type": "stream",
     "text": [
      "Epoch : 30, Train Accuracy : 0.09863333333333334, Test Accuracy : 0.098\n"
     ]
    },
    {
     "name": "stderr",
     "output_type": "stream",
     "text": [
      "3000it [00:31, 95.12it/s]\n",
      "10it [00:00, 94.65it/s]"
     ]
    },
    {
     "name": "stdout",
     "output_type": "stream",
     "text": [
      "Epoch : 31, Train Accuracy : 0.11236666666666667, Test Accuracy : 0.1135\n"
     ]
    },
    {
     "name": "stderr",
     "output_type": "stream",
     "text": [
      "3000it [00:32, 92.97it/s]\n",
      "10it [00:00, 94.18it/s]"
     ]
    },
    {
     "name": "stdout",
     "output_type": "stream",
     "text": [
      "Epoch : 32, Train Accuracy : 0.11236666666666667, Test Accuracy : 0.1135\n"
     ]
    },
    {
     "name": "stderr",
     "output_type": "stream",
     "text": [
      "3000it [00:31, 95.83it/s]\n",
      "10it [00:00, 94.64it/s]"
     ]
    },
    {
     "name": "stdout",
     "output_type": "stream",
     "text": [
      "Epoch : 33, Train Accuracy : 0.09871666666666666, Test Accuracy : 0.098\n"
     ]
    },
    {
     "name": "stderr",
     "output_type": "stream",
     "text": [
      "3000it [00:31, 94.25it/s]\n",
      "10it [00:00, 95.16it/s]"
     ]
    },
    {
     "name": "stdout",
     "output_type": "stream",
     "text": [
      "Epoch : 34, Train Accuracy : 0.11236666666666667, Test Accuracy : 0.1135\n"
     ]
    },
    {
     "name": "stderr",
     "output_type": "stream",
     "text": [
      "3000it [00:31, 94.88it/s]\n",
      "10it [00:00, 95.33it/s]"
     ]
    },
    {
     "name": "stdout",
     "output_type": "stream",
     "text": [
      "Epoch : 35, Train Accuracy : 0.09871666666666666, Test Accuracy : 0.098\n"
     ]
    },
    {
     "name": "stderr",
     "output_type": "stream",
     "text": [
      "3000it [00:31, 95.95it/s]\n",
      "10it [00:00, 92.39it/s]"
     ]
    },
    {
     "name": "stdout",
     "output_type": "stream",
     "text": [
      "Epoch : 36, Train Accuracy : 0.09871666666666666, Test Accuracy : 0.098\n"
     ]
    },
    {
     "name": "stderr",
     "output_type": "stream",
     "text": [
      "3000it [00:31, 96.01it/s]\n",
      "10it [00:00, 96.10it/s]"
     ]
    },
    {
     "name": "stdout",
     "output_type": "stream",
     "text": [
      "Epoch : 37, Train Accuracy : 0.09871666666666666, Test Accuracy : 0.098\n"
     ]
    },
    {
     "name": "stderr",
     "output_type": "stream",
     "text": [
      "3000it [00:31, 95.65it/s]\n",
      "10it [00:00, 95.26it/s]"
     ]
    },
    {
     "name": "stdout",
     "output_type": "stream",
     "text": [
      "Epoch : 38, Train Accuracy : 0.11236666666666667, Test Accuracy : 0.1135\n"
     ]
    },
    {
     "name": "stderr",
     "output_type": "stream",
     "text": [
      "3000it [00:31, 95.21it/s]\n",
      "10it [00:00, 94.15it/s]"
     ]
    },
    {
     "name": "stdout",
     "output_type": "stream",
     "text": [
      "Epoch : 39, Train Accuracy : 0.11236666666666667, Test Accuracy : 0.1135\n"
     ]
    },
    {
     "name": "stderr",
     "output_type": "stream",
     "text": [
      "3000it [00:31, 96.26it/s]\n",
      "10it [00:00, 91.95it/s]"
     ]
    },
    {
     "name": "stdout",
     "output_type": "stream",
     "text": [
      "Epoch : 40, Train Accuracy : 0.09871666666666666, Test Accuracy : 0.098\n"
     ]
    },
    {
     "name": "stderr",
     "output_type": "stream",
     "text": [
      "3000it [00:31, 94.96it/s]\n",
      "10it [00:00, 92.99it/s]"
     ]
    },
    {
     "name": "stdout",
     "output_type": "stream",
     "text": [
      "Epoch : 41, Train Accuracy : 0.09871666666666666, Test Accuracy : 0.098\n"
     ]
    },
    {
     "name": "stderr",
     "output_type": "stream",
     "text": [
      "3000it [00:31, 95.09it/s]\n",
      "10it [00:00, 90.83it/s]"
     ]
    },
    {
     "name": "stdout",
     "output_type": "stream",
     "text": [
      "Epoch : 42, Train Accuracy : 0.09871666666666666, Test Accuracy : 0.098\n"
     ]
    },
    {
     "name": "stderr",
     "output_type": "stream",
     "text": [
      "3000it [00:31, 95.77it/s]\n",
      "10it [00:00, 94.85it/s]"
     ]
    },
    {
     "name": "stdout",
     "output_type": "stream",
     "text": [
      "Epoch : 43, Train Accuracy : 0.09871666666666666, Test Accuracy : 0.098\n"
     ]
    },
    {
     "name": "stderr",
     "output_type": "stream",
     "text": [
      "3000it [00:31, 95.59it/s]\n",
      "10it [00:00, 92.83it/s]"
     ]
    },
    {
     "name": "stdout",
     "output_type": "stream",
     "text": [
      "Epoch : 44, Train Accuracy : 0.09871666666666666, Test Accuracy : 0.098\n"
     ]
    },
    {
     "name": "stderr",
     "output_type": "stream",
     "text": [
      "3000it [00:31, 95.16it/s]\n",
      "10it [00:00, 94.74it/s]"
     ]
    },
    {
     "name": "stdout",
     "output_type": "stream",
     "text": [
      "Epoch : 45, Train Accuracy : 0.09871666666666666, Test Accuracy : 0.098\n"
     ]
    },
    {
     "name": "stderr",
     "output_type": "stream",
     "text": [
      "3000it [00:31, 95.47it/s]\n",
      "10it [00:00, 94.10it/s]"
     ]
    },
    {
     "name": "stdout",
     "output_type": "stream",
     "text": [
      "Epoch : 46, Train Accuracy : 0.09871666666666666, Test Accuracy : 0.098\n"
     ]
    },
    {
     "name": "stderr",
     "output_type": "stream",
     "text": [
      "3000it [00:31, 95.92it/s]\n",
      "10it [00:00, 95.39it/s]"
     ]
    },
    {
     "name": "stdout",
     "output_type": "stream",
     "text": [
      "Epoch : 47, Train Accuracy : 0.09871666666666666, Test Accuracy : 0.098\n"
     ]
    },
    {
     "name": "stderr",
     "output_type": "stream",
     "text": [
      "3000it [00:31, 95.17it/s]\n",
      "10it [00:00, 94.88it/s]"
     ]
    },
    {
     "name": "stdout",
     "output_type": "stream",
     "text": [
      "Epoch : 48, Train Accuracy : 0.09871666666666666, Test Accuracy : 0.098\n"
     ]
    },
    {
     "name": "stderr",
     "output_type": "stream",
     "text": [
      "3000it [00:31, 95.43it/s]\n",
      "10it [00:00, 94.11it/s]"
     ]
    },
    {
     "name": "stdout",
     "output_type": "stream",
     "text": [
      "Epoch : 49, Train Accuracy : 0.09871666666666666, Test Accuracy : 0.098\n"
     ]
    },
    {
     "name": "stderr",
     "output_type": "stream",
     "text": [
      "3000it [00:31, 95.33it/s]\n"
     ]
    },
    {
     "name": "stdout",
     "output_type": "stream",
     "text": [
      "Epoch : 50, Train Accuracy : 0.09871666666666666, Test Accuracy : 0.098\n"
     ]
    }
   ],
   "source": [
    "trn_acc_list = []\n",
    "tst_acc_list = []\n",
    "neural_dynamic_iterations_free = 20\n",
    "neural_dynamic_iterations_nudged = 10\n",
    "\n",
    "n_epochs = 50\n",
    "\n",
    "\n",
    "for epoch_ in range(n_epochs):\n",
    "    lr = {'ff' : lr_start['ff'] * (0.99)**epoch_, 'fb' : lr_start['fb'] * (0.99)**epoch_}\n",
    "    for idx, (x, y) in tqdm(enumerate(train_loader)):\n",
    "        x, y = x.to(device), y.to(device)\n",
    "        x = x.view(x.size(0),-1).T\n",
    "        y_one_hot = F.one_hot(y, 10).to(device).T\n",
    "\n",
    "        if True:\n",
    "            rnd_sgn = 2*np.random.randint(2) - 1\n",
    "            beta = rnd_sgn*beta\n",
    "        h, y_hat = model.batch_step_EP(  x, y_one_hot, lr, neural_lr_start, neural_lr_stop,\n",
    "                                         neural_lr_rule, neural_lr_decay_multiplier,\n",
    "                                         neural_dynamic_iterations_free, \n",
    "                                         neural_dynamic_iterations_nudged, beta)\n",
    "\n",
    "    trn_acc = evaluateCorInfoMaxV2(model, train_loader, neural_lr_start, neural_lr_stop, neural_lr_rule, neural_lr_decay_multiplier,\n",
    "                                   neural_dynamic_iterations_free, device = 'cuda', printing = False)\n",
    "    tst_acc = evaluateCorInfoMaxV2(model, test_loader, neural_lr_start, neural_lr_stop, neural_lr_rule, neural_lr_decay_multiplier,\n",
    "                                   neural_dynamic_iterations_free, device = 'cuda', printing = False)\n",
    "    trn_acc_list.append(trn_acc)\n",
    "    tst_acc_list.append(tst_acc)\n",
    "#     lr = {'ff' : 0.05 * (0.9)**epoch_, 'fb': 0.05 * (0.9) ** epoch_, 'lat': 1e-3}\n",
    "    \n",
    "    print(\"Epoch : {}, Train Accuracy : {}, Test Accuracy : {}\".format(epoch_+1, trn_acc, tst_acc))\n",
    "    "
   ]
  },
  {
   "cell_type": "code",
   "execution_count": 7,
   "id": "2863aa5b",
   "metadata": {},
   "outputs": [
    {
     "data": {
      "text/plain": [
       "tensor(nan, device='cuda:0')"
      ]
     },
     "execution_count": 7,
     "metadata": {},
     "output_type": "execute_result"
    }
   ],
   "source": [
    "torch.trace(model.B[0]['weight'])/architecture[1]"
   ]
  },
  {
   "cell_type": "code",
   "execution_count": 8,
   "id": "7b641b6c",
   "metadata": {},
   "outputs": [
    {
     "data": {
      "image/png": "[encoded data removed]",
      "text/plain": [
       "<Figure size 432x288 with 1 Axes>"
      ]
     },
     "metadata": {
      "needs_background": "light"
     },
     "output_type": "display_data"
    }
   ],
   "source": [
    "plt.plot(trn_acc_list)\n",
    "plt.plot(tst_acc_list)\n",
    "plt.grid()\n",
    "plt.show()"
   ]
  },
  {
   "cell_type": "code",
   "execution_count": 9,
   "id": "dc4f1876",
   "metadata": {},
   "outputs": [
    {
     "data": {
      "text/plain": [
       "array([{'weight': tensor([[nan, nan, nan,  ..., nan, nan, nan],\n",
       "               [nan, nan, nan,  ..., nan, nan, nan],\n",
       "               [nan, nan, nan,  ..., nan, nan, nan],\n",
       "               ...,\n",
       "               [nan, nan, nan,  ..., nan, nan, nan],\n",
       "               [nan, nan, nan,  ..., nan, nan, nan],\n",
       "               [nan, nan, nan,  ..., nan, nan, nan]], device='cuda:0'), 'bias': tensor([[nan],\n",
       "               [nan],\n",
       "               [nan],\n",
       "               [nan],\n",
       "               [nan],\n",
       "               [nan],\n",
       "               [nan],\n",
       "               [nan],\n",
       "               [nan],\n",
       "               [nan],\n",
       "               [nan],\n",
       "               [nan],\n",
       "               [nan],\n",
       "               [nan],\n",
       "               [nan],\n",
       "               [nan],\n",
       "               [nan],\n",
       "               [nan],\n",
       "               [nan],\n",
       "               [nan],\n",
       "               [nan],\n",
       "               [nan],\n",
       "               [nan],\n",
       "               [nan],\n",
       "               [nan],\n",
       "               [nan],\n",
       "               [nan],\n",
       "               [nan],\n",
       "               [nan],\n",
       "               [nan],\n",
       "               [nan],\n",
       "               [nan],\n",
       "               [nan],\n",
       "               [nan],\n",
       "               [nan],\n",
       "               [nan],\n",
       "               [nan],\n",
       "               [nan],\n",
       "               [nan],\n",
       "               [nan],\n",
       "               [nan],\n",
       "               [nan],\n",
       "               [nan],\n",
       "               [nan],\n",
       "               [nan],\n",
       "               [nan],\n",
       "               [nan],\n",
       "               [nan],\n",
       "               [nan],\n",
       "               [nan],\n",
       "               [nan],\n",
       "               [nan],\n",
       "               [nan],\n",
       "               [nan],\n",
       "               [nan],\n",
       "               [nan],\n",
       "               [nan],\n",
       "               [nan],\n",
       "               [nan],\n",
       "               [nan],\n",
       "               [nan],\n",
       "               [nan],\n",
       "               [nan],\n",
       "               [nan],\n",
       "               [nan],\n",
       "               [nan],\n",
       "               [nan],\n",
       "               [nan],\n",
       "               [nan],\n",
       "               [nan],\n",
       "               [nan],\n",
       "               [nan],\n",
       "               [nan],\n",
       "               [nan],\n",
       "               [nan],\n",
       "               [nan],\n",
       "               [nan],\n",
       "               [nan],\n",
       "               [nan],\n",
       "               [nan],\n",
       "               [nan],\n",
       "               [nan],\n",
       "               [nan],\n",
       "               [nan],\n",
       "               [nan],\n",
       "               [nan],\n",
       "               [nan],\n",
       "               [nan],\n",
       "               [nan],\n",
       "               [nan],\n",
       "               [nan],\n",
       "               [nan],\n",
       "               [nan],\n",
       "               [nan],\n",
       "               [nan],\n",
       "               [nan],\n",
       "               [nan],\n",
       "               [nan],\n",
       "               [nan],\n",
       "               [nan],\n",
       "               [nan],\n",
       "               [nan],\n",
       "               [nan],\n",
       "               [nan],\n",
       "               [nan],\n",
       "               [nan],\n",
       "               [nan],\n",
       "               [nan],\n",
       "               [nan],\n",
       "               [nan],\n",
       "               [nan],\n",
       "               [nan],\n",
       "               [nan],\n",
       "               [nan],\n",
       "               [nan],\n",
       "               [nan],\n",
       "               [nan],\n",
       "               [nan],\n",
       "               [nan],\n",
       "               [nan],\n",
       "               [nan],\n",
       "               [nan],\n",
       "               [nan],\n",
       "               [nan],\n",
       "               [nan],\n",
       "               [nan],\n",
       "               [nan],\n",
       "               [nan],\n",
       "               [nan],\n",
       "               [nan],\n",
       "               [nan],\n",
       "               [nan],\n",
       "               [nan],\n",
       "               [nan],\n",
       "               [nan],\n",
       "               [nan],\n",
       "               [nan],\n",
       "               [nan],\n",
       "               [nan],\n",
       "               [nan],\n",
       "               [nan],\n",
       "               [nan],\n",
       "               [nan],\n",
       "               [nan],\n",
       "               [nan],\n",
       "               [nan],\n",
       "               [nan],\n",
       "               [nan],\n",
       "               [nan],\n",
       "               [nan],\n",
       "               [nan],\n",
       "               [nan],\n",
       "               [nan],\n",
       "               [nan],\n",
       "               [nan],\n",
       "               [nan],\n",
       "               [nan],\n",
       "               [nan],\n",
       "               [nan],\n",
       "               [nan],\n",
       "               [nan],\n",
       "               [nan],\n",
       "               [nan],\n",
       "               [nan],\n",
       "               [nan],\n",
       "               [nan],\n",
       "               [nan],\n",
       "               [nan],\n",
       "               [nan],\n",
       "               [nan],\n",
       "               [nan],\n",
       "               [nan],\n",
       "               [nan],\n",
       "               [nan],\n",
       "               [nan],\n",
       "               [nan],\n",
       "               [nan],\n",
       "               [nan],\n",
       "               [nan],\n",
       "               [nan],\n",
       "               [nan],\n",
       "               [nan],\n",
       "               [nan],\n",
       "               [nan],\n",
       "               [nan],\n",
       "               [nan],\n",
       "               [nan],\n",
       "               [nan],\n",
       "               [nan],\n",
       "               [nan],\n",
       "               [nan],\n",
       "               [nan],\n",
       "               [nan],\n",
       "               [nan],\n",
       "               [nan],\n",
       "               [nan],\n",
       "               [nan],\n",
       "               [nan],\n",
       "               [nan],\n",
       "               [nan],\n",
       "               [nan],\n",
       "               [nan],\n",
       "               [nan],\n",
       "               [nan],\n",
       "               [nan],\n",
       "               [nan],\n",
       "               [nan],\n",
       "               [nan],\n",
       "               [nan],\n",
       "               [nan],\n",
       "               [nan],\n",
       "               [nan],\n",
       "               [nan],\n",
       "               [nan],\n",
       "               [nan],\n",
       "               [nan],\n",
       "               [nan],\n",
       "               [nan],\n",
       "               [nan],\n",
       "               [nan],\n",
       "               [nan],\n",
       "               [nan],\n",
       "               [nan],\n",
       "               [nan],\n",
       "               [nan],\n",
       "               [nan],\n",
       "               [nan],\n",
       "               [nan],\n",
       "               [nan],\n",
       "               [nan],\n",
       "               [nan],\n",
       "               [nan],\n",
       "               [nan],\n",
       "               [nan],\n",
       "               [nan],\n",
       "               [nan],\n",
       "               [nan],\n",
       "               [nan],\n",
       "               [nan],\n",
       "               [nan],\n",
       "               [nan],\n",
       "               [nan],\n",
       "               [nan],\n",
       "               [nan],\n",
       "               [nan],\n",
       "               [nan],\n",
       "               [nan],\n",
       "               [nan],\n",
       "               [nan],\n",
       "               [nan],\n",
       "               [nan],\n",
       "               [nan],\n",
       "               [nan],\n",
       "               [nan],\n",
       "               [nan],\n",
       "               [nan],\n",
       "               [nan],\n",
       "               [nan],\n",
       "               [nan],\n",
       "               [nan],\n",
       "               [nan],\n",
       "               [nan],\n",
       "               [nan],\n",
       "               [nan],\n",
       "               [nan],\n",
       "               [nan],\n",
       "               [nan],\n",
       "               [nan],\n",
       "               [nan],\n",
       "               [nan],\n",
       "               [nan],\n",
       "               [nan],\n",
       "               [nan],\n",
       "               [nan],\n",
       "               [nan],\n",
       "               [nan],\n",
       "               [nan],\n",
       "               [nan],\n",
       "               [nan],\n",
       "               [nan],\n",
       "               [nan],\n",
       "               [nan],\n",
       "               [nan],\n",
       "               [nan],\n",
       "               [nan],\n",
       "               [nan],\n",
       "               [nan],\n",
       "               [nan],\n",
       "               [nan],\n",
       "               [nan],\n",
       "               [nan],\n",
       "               [nan],\n",
       "               [nan],\n",
       "               [nan],\n",
       "               [nan],\n",
       "               [nan],\n",
       "               [nan],\n",
       "               [nan],\n",
       "               [nan],\n",
       "               [nan],\n",
       "               [nan],\n",
       "               [nan],\n",
       "               [nan],\n",
       "               [nan],\n",
       "               [nan],\n",
       "               [nan],\n",
       "               [nan],\n",
       "               [nan],\n",
       "               [nan],\n",
       "               [nan],\n",
       "               [nan],\n",
       "               [nan],\n",
       "               [nan],\n",
       "               [nan],\n",
       "               [nan],\n",
       "               [nan],\n",
       "               [nan],\n",
       "               [nan],\n",
       "               [nan],\n",
       "               [nan],\n",
       "               [nan],\n",
       "               [nan],\n",
       "               [nan],\n",
       "               [nan],\n",
       "               [nan],\n",
       "               [nan],\n",
       "               [nan],\n",
       "               [nan],\n",
       "               [nan],\n",
       "               [nan],\n",
       "               [nan],\n",
       "               [nan],\n",
       "               [nan],\n",
       "               [nan],\n",
       "               [nan],\n",
       "               [nan],\n",
       "               [nan],\n",
       "               [nan],\n",
       "               [nan],\n",
       "               [nan],\n",
       "               [nan],\n",
       "               [nan],\n",
       "               [nan],\n",
       "               [nan],\n",
       "               [nan],\n",
       "               [nan],\n",
       "               [nan],\n",
       "               [nan],\n",
       "               [nan],\n",
       "               [nan],\n",
       "               [nan],\n",
       "               [nan],\n",
       "               [nan],\n",
       "               [nan],\n",
       "               [nan],\n",
       "               [nan],\n",
       "               [nan],\n",
       "               [nan],\n",
       "               [nan],\n",
       "               [nan],\n",
       "               [nan],\n",
       "               [nan],\n",
       "               [nan],\n",
       "               [nan],\n",
       "               [nan],\n",
       "               [nan],\n",
       "               [nan],\n",
       "               [nan],\n",
       "               [nan],\n",
       "               [nan],\n",
       "               [nan],\n",
       "               [nan],\n",
       "               [nan],\n",
       "               [nan],\n",
       "               [nan],\n",
       "               [nan],\n",
       "               [nan],\n",
       "               [nan],\n",
       "               [nan],\n",
       "               [nan],\n",
       "               [nan],\n",
       "               [nan],\n",
       "               [nan],\n",
       "               [nan],\n",
       "               [nan],\n",
       "               [nan],\n",
       "               [nan],\n",
       "               [nan],\n",
       "               [nan],\n",
       "               [nan],\n",
       "               [nan],\n",
       "               [nan],\n",
       "               [nan],\n",
       "               [nan],\n",
       "               [nan],\n",
       "               [nan],\n",
       "               [nan],\n",
       "               [nan],\n",
       "               [nan],\n",
       "               [nan],\n",
       "               [nan],\n",
       "               [nan],\n",
       "               [nan],\n",
       "               [nan],\n",
       "               [nan],\n",
       "               [nan],\n",
       "               [nan],\n",
       "               [nan],\n",
       "               [nan],\n",
       "               [nan],\n",
       "               [nan],\n",
       "               [nan],\n",
       "               [nan],\n",
       "               [nan],\n",
       "               [nan],\n",
       "               [nan],\n",
       "               [nan],\n",
       "               [nan],\n",
       "               [nan],\n",
       "               [nan],\n",
       "               [nan],\n",
       "               [nan],\n",
       "               [nan],\n",
       "               [nan],\n",
       "               [nan],\n",
       "               [nan],\n",
       "               [nan],\n",
       "               [nan],\n",
       "               [nan],\n",
       "               [nan],\n",
       "               [nan],\n",
       "               [nan],\n",
       "               [nan],\n",
       "               [nan],\n",
       "               [nan],\n",
       "               [nan],\n",
       "               [nan],\n",
       "               [nan],\n",
       "               [nan],\n",
       "               [nan],\n",
       "               [nan],\n",
       "               [nan],\n",
       "               [nan],\n",
       "               [nan],\n",
       "               [nan],\n",
       "               [nan],\n",
       "               [nan],\n",
       "               [nan],\n",
       "               [nan],\n",
       "               [nan],\n",
       "               [nan],\n",
       "               [nan],\n",
       "               [nan],\n",
       "               [nan],\n",
       "               [nan],\n",
       "               [nan],\n",
       "               [nan],\n",
       "               [nan],\n",
       "               [nan],\n",
       "               [nan],\n",
       "               [nan],\n",
       "               [nan],\n",
       "               [nan],\n",
       "               [nan],\n",
       "               [nan],\n",
       "               [nan],\n",
       "               [nan],\n",
       "               [nan],\n",
       "               [nan],\n",
       "               [nan],\n",
       "               [nan],\n",
       "               [nan],\n",
       "               [nan],\n",
       "               [nan],\n",
       "               [nan],\n",
       "               [nan],\n",
       "               [nan],\n",
       "               [nan],\n",
       "               [nan],\n",
       "               [nan],\n",
       "               [nan],\n",
       "               [nan],\n",
       "               [nan],\n",
       "               [nan],\n",
       "               [nan],\n",
       "               [nan],\n",
       "               [nan],\n",
       "               [nan],\n",
       "               [nan],\n",
       "               [nan],\n",
       "               [nan],\n",
       "               [nan],\n",
       "               [nan],\n",
       "               [nan],\n",
       "               [nan],\n",
       "               [nan],\n",
       "               [nan],\n",
       "               [nan],\n",
       "               [nan],\n",
       "               [nan]], device='cuda:0')}                                                      ,\n",
       "       {'weight': tensor([[nan, nan, nan,  ..., nan, nan, nan],\n",
       "               [nan, nan, nan,  ..., nan, nan, nan],\n",
       "               [nan, nan, nan,  ..., nan, nan, nan],\n",
       "               ...,\n",
       "               [nan, nan, nan,  ..., nan, nan, nan],\n",
       "               [nan, nan, nan,  ..., nan, nan, nan],\n",
       "               [nan, nan, nan,  ..., nan, nan, nan]], device='cuda:0'), 'bias': tensor([[nan],\n",
       "               [nan],\n",
       "               [nan],\n",
       "               [nan],\n",
       "               [nan],\n",
       "               [nan],\n",
       "               [nan],\n",
       "               [nan],\n",
       "               [nan],\n",
       "               [nan]], device='cuda:0')}                                                      ],\n",
       "      dtype=object)"
      ]
     },
     "execution_count": 9,
     "metadata": {},
     "output_type": "execute_result"
    }
   ],
   "source": [
    "model.Wff"
   ]
  }
 ],
 "metadata": {
  "kernelspec": {
   "display_name": "Python 3 (ipykernel)",
   "language": "python",
   "name": "python3"
  },
  "language_info": {
   "codemirror_mode": {
    "name": "ipython",
    "version": 3
   },
   "file_extension": ".py",
   "mimetype": "text/x-python",
   "name": "python",
   "nbconvert_exporter": "python",
   "pygments_lexer": "ipython3",
   "version": "3.8.8"
  }
 },
 "nbformat": 4,
 "nbformat_minor": 5
}
