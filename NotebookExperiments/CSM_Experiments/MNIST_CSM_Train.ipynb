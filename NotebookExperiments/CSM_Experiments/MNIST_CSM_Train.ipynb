{
 "cells": [
  {
   "cell_type": "code",
   "execution_count": 1,
   "id": "fa17f1a6",
   "metadata": {},
   "outputs": [],
   "source": [
    "import torch\n",
    "import matplotlib.pyplot as plt\n",
    "import numpy as np\n",
    "import torchvision\n",
    "import torch.nn.functional as F\n",
    "import argparse\n",
    "import matplotlib\n",
    "from tqdm import tqdm\n",
    "import glob\n",
    "from PIL import Image\n",
    "import os\n",
    "from datetime import datetime\n",
    "import time\n",
    "import math\n",
    "import sys\n",
    "import sys\n",
    "sys.path.append(\"../../src\")\n",
    "from ContrastiveModels import *\n",
    "from visualization import *"
   ]
  },
  {
   "cell_type": "code",
   "execution_count": 2,
   "id": "4c583712",
   "metadata": {},
   "outputs": [
    {
     "data": {
      "text/plain": [
       "device(type='cuda', index=0)"
      ]
     },
     "execution_count": 2,
     "metadata": {},
     "output_type": "execute_result"
    }
   ],
   "source": [
    "device = torch.device('cuda:0' if torch.cuda.is_available() else 'cpu')\n",
    "device"
   ]
  },
  {
   "cell_type": "code",
   "execution_count": 3,
   "id": "686355e5",
   "metadata": {},
   "outputs": [],
   "source": [
    "transform = torchvision.transforms.Compose([torchvision.transforms.ToTensor(), \n",
    "                                            torchvision.transforms.Normalize(mean=(0.0,), std=(1.0,))])\n",
    "\n",
    "mnist_dset_train = torchvision.datasets.MNIST('../../data', train=True, transform=transform, target_transform=None, download=True)\n",
    "train_loader = torch.utils.data.DataLoader(mnist_dset_train, batch_size=20, shuffle=True, num_workers=0)\n",
    "\n",
    "mnist_dset_test = torchvision.datasets.MNIST('../../data', train=False, transform=transform, target_transform=None, download=True)\n",
    "test_loader = torch.utils.data.DataLoader(mnist_dset_test, batch_size=20, shuffle=False, num_workers=0)"
   ]
  },
  {
   "cell_type": "code",
   "execution_count": 4,
   "id": "b49c62f3",
   "metadata": {},
   "outputs": [],
   "source": [
    "activation = hard_sigmoid\n",
    "criterion = torch.nn.MSELoss(reduction='none').to(device)\n",
    "architecture = [784, 500, 10]\n",
    "alphas_W = [0.5, 0.375]\n",
    "alphas_M = [-0.01]\n",
    "\n",
    "model = CSM(architecture, activation, alphas_W, alphas_M)\n",
    "model = model.to(device)"
   ]
  },
  {
   "cell_type": "code",
   "execution_count": 5,
   "id": "6c5ed6ad",
   "metadata": {},
   "outputs": [
    {
     "name": "stdout",
     "output_type": "stream",
     "text": [
      "Test accuracy :\t 0.1412\n"
     ]
    },
    {
     "data": {
      "text/plain": [
       "0.1412"
      ]
     },
     "execution_count": 5,
     "metadata": {},
     "output_type": "execute_result"
    }
   ],
   "source": [
    "evaluateEP(model.to(device), test_loader, 20, 0.5, device)"
   ]
  },
  {
   "cell_type": "code",
   "execution_count": 6,
   "id": "68ac6218",
   "metadata": {},
   "outputs": [
    {
     "data": {
      "text/plain": [
       "CSM(\n",
       "  (W): ModuleList(\n",
       "    (0): Linear(in_features=784, out_features=500, bias=True)\n",
       "    (1): Linear(in_features=500, out_features=10, bias=True)\n",
       "  )\n",
       "  (M): ModuleList(\n",
       "    (0): Linear(in_features=500, out_features=500, bias=False)\n",
       "  )\n",
       "  (M_copy): ModuleList(\n",
       "    (0): Linear(in_features=500, out_features=500, bias=False)\n",
       "  )\n",
       ")"
      ]
     },
     "execution_count": 6,
     "metadata": {},
     "output_type": "execute_result"
    }
   ],
   "source": [
    "mbs = train_loader.batch_size\n",
    "start = time.time()\n",
    "iter_per_epochs = math.ceil(len(train_loader.dataset)/mbs)\n",
    "betas = (0.0, 1.0)\n",
    "beta_1, beta_2 = betas\n",
    "neural_lr = 0.5\n",
    "\n",
    "train_acc = [10.0]\n",
    "test_acc = [10.0]\n",
    "best = 0.0\n",
    "epoch_sofar = 0\n",
    "model.train()"
   ]
  },
  {
   "cell_type": "code",
   "execution_count": null,
   "id": "521a74b6",
   "metadata": {
    "scrolled": false
   },
   "outputs": [
    {
     "name": "stderr",
     "output_type": "stream",
     "text": [
      "3000it [01:36, 31.12it/s]\n",
      "2it [00:00, 14.03it/s]"
     ]
    },
    {
     "name": "stdout",
     "output_type": "stream",
     "text": [
      "Epoch : 1, Train Accuracy : 0.9602333333333334, Test Accuracy : 0.9558\n"
     ]
    },
    {
     "name": "stderr",
     "output_type": "stream",
     "text": [
      "3000it [03:09, 15.85it/s]\n",
      "2it [00:00, 15.51it/s]"
     ]
    },
    {
     "name": "stdout",
     "output_type": "stream",
     "text": [
      "Epoch : 2, Train Accuracy : 0.9795166666666667, Test Accuracy : 0.972\n"
     ]
    },
    {
     "name": "stderr",
     "output_type": "stream",
     "text": [
      "3000it [02:05, 23.97it/s]\n",
      "2it [00:00, 13.31it/s]"
     ]
    },
    {
     "name": "stdout",
     "output_type": "stream",
     "text": [
      "Epoch : 3, Train Accuracy : 0.9825833333333334, Test Accuracy : 0.9706\n"
     ]
    },
    {
     "name": "stderr",
     "output_type": "stream",
     "text": [
      "3000it [02:03, 24.20it/s]\n",
      "3it [00:00, 28.15it/s]"
     ]
    },
    {
     "name": "stdout",
     "output_type": "stream",
     "text": [
      "Epoch : 4, Train Accuracy : 0.9792333333333333, Test Accuracy : 0.9653\n"
     ]
    },
    {
     "name": "stderr",
     "output_type": "stream",
     "text": [
      "3000it [02:12, 22.71it/s]\n",
      "3it [00:00, 27.94it/s]"
     ]
    },
    {
     "name": "stdout",
     "output_type": "stream",
     "text": [
      "Epoch : 5, Train Accuracy : 0.9879166666666667, Test Accuracy : 0.975\n"
     ]
    },
    {
     "name": "stderr",
     "output_type": "stream",
     "text": [
      "3000it [02:21, 21.16it/s]\n",
      "2it [00:00, 13.39it/s]"
     ]
    },
    {
     "name": "stdout",
     "output_type": "stream",
     "text": [
      "Epoch : 6, Train Accuracy : 0.9879, Test Accuracy : 0.974\n"
     ]
    },
    {
     "name": "stderr",
     "output_type": "stream",
     "text": [
      "3000it [03:19, 15.02it/s]\n",
      "2it [00:00, 15.04it/s]"
     ]
    },
    {
     "name": "stdout",
     "output_type": "stream",
     "text": [
      "Epoch : 7, Train Accuracy : 0.9931166666666666, Test Accuracy : 0.9787\n"
     ]
    },
    {
     "name": "stderr",
     "output_type": "stream",
     "text": [
      "3000it [03:10, 15.76it/s]\n",
      "2it [00:00, 19.83it/s]"
     ]
    },
    {
     "name": "stdout",
     "output_type": "stream",
     "text": [
      "Epoch : 8, Train Accuracy : 0.99095, Test Accuracy : 0.9758\n"
     ]
    },
    {
     "name": "stderr",
     "output_type": "stream",
     "text": [
      "3000it [01:53, 26.53it/s]\n",
      "2it [00:00, 17.33it/s]"
     ]
    },
    {
     "name": "stdout",
     "output_type": "stream",
     "text": [
      "Epoch : 9, Train Accuracy : 0.9955333333333334, Test Accuracy : 0.9777\n"
     ]
    },
    {
     "name": "stderr",
     "output_type": "stream",
     "text": [
      "3000it [02:16, 21.91it/s]\n",
      "2it [00:00, 17.40it/s]"
     ]
    },
    {
     "name": "stdout",
     "output_type": "stream",
     "text": [
      "Epoch : 10, Train Accuracy : 0.9952833333333333, Test Accuracy : 0.9797\n"
     ]
    },
    {
     "name": "stderr",
     "output_type": "stream",
     "text": [
      "3000it [02:26, 20.50it/s]\n",
      "3it [00:00, 29.71it/s]"
     ]
    },
    {
     "name": "stdout",
     "output_type": "stream",
     "text": [
      "Epoch : 11, Train Accuracy : 0.9953666666666666, Test Accuracy : 0.9761\n"
     ]
    },
    {
     "name": "stderr",
     "output_type": "stream",
     "text": [
      "3000it [01:35, 31.37it/s]\n",
      "3it [00:00, 29.38it/s]"
     ]
    },
    {
     "name": "stdout",
     "output_type": "stream",
     "text": [
      "Epoch : 12, Train Accuracy : 0.9950166666666667, Test Accuracy : 0.9785\n"
     ]
    },
    {
     "name": "stderr",
     "output_type": "stream",
     "text": [
      "3000it [01:34, 31.69it/s]\n",
      "2it [00:00, 17.31it/s]"
     ]
    },
    {
     "name": "stdout",
     "output_type": "stream",
     "text": [
      "Epoch : 13, Train Accuracy : 0.9959333333333333, Test Accuracy : 0.9772\n"
     ]
    },
    {
     "name": "stderr",
     "output_type": "stream",
     "text": [
      "3000it [02:47, 17.93it/s]\n"
     ]
    }
   ],
   "source": [
    "trn_acc_list = []\n",
    "tst_acc_list = []\n",
    "T1 = 20\n",
    "T2 = 4\n",
    "random_sign = True\n",
    "n_epochs = 30\n",
    "for epoch_ in range(n_epochs):\n",
    "    for idx, (x, y) in tqdm(enumerate(train_loader)):\n",
    "        x, y = x.to(device), y.to(device)\n",
    "        neurons = model.init_neurons(x.size(0), device)\n",
    "        neurons = model(x, y, neurons, T1, neural_lr, beta=beta_1, criterion=criterion)\n",
    "        neurons_1 = copy(neurons)\n",
    "        if random_sign and (beta_1==0.0):\n",
    "            rnd_sgn = 2*np.random.randint(2) - 1\n",
    "            betas = beta_1, rnd_sgn*beta_2\n",
    "            beta_1, beta_2 = betas\n",
    "        neurons = model(x, y, neurons, T2, neural_lr, beta = beta_2, criterion=criterion)\n",
    "        neurons_2 = copy(neurons)\n",
    "        model.compute_syn_grads(x, y, neurons_1, neurons_2, betas, alphas_M, criterion)\n",
    "        #optimizer.step()\n",
    "    trn_acc = evaluateEP(model.to(device), train_loader, 20, neural_lr, device, False)\n",
    "    tst_acc = evaluateEP(model.to(device), test_loader, 20, neural_lr, device, False)\n",
    "    trn_acc_list.append(trn_acc)\n",
    "    tst_acc_list.append(tst_acc)\n",
    "    \n",
    "    print(\"Epoch : {}, Train Accuracy : {}, Test Accuracy : {}\".format(epoch_+1, trn_acc, tst_acc))"
   ]
  },
  {
   "cell_type": "code",
   "execution_count": null,
   "id": "8c29048f",
   "metadata": {},
   "outputs": [],
   "source": [
    "plot_convergence_plot(trn_acc_list, xlabel = 'Number of Epochs', ylabel = 'Accuracy %',\n",
    "                      title = 'CSM Train Accuracy w.r.t. Epochs', \n",
    "                      figsize = (12,8), fontsize = 25, linewidth = 3)"
   ]
  },
  {
   "cell_type": "code",
   "execution_count": null,
   "id": "cd0e95a9",
   "metadata": {},
   "outputs": [],
   "source": [
    "plot_convergence_plot(tst_acc_list, xlabel = 'Number of Epochs', ylabel = 'Accuracy %',\n",
    "                      title = 'CSM Test Accuracy w.r.t. Epochs', \n",
    "                      figsize = (12,8), fontsize = 25, linewidth = 3)"
   ]
  },
  {
   "cell_type": "code",
   "execution_count": null,
   "id": "6b08d1b7",
   "metadata": {},
   "outputs": [],
   "source": []
  }
 ],
 "metadata": {
  "kernelspec": {
   "display_name": "Python 3 (ipykernel)",
   "language": "python",
   "name": "python3"
  },
  "language_info": {
   "codemirror_mode": {
    "name": "ipython",
    "version": 3
   },
   "file_extension": ".py",
   "mimetype": "text/x-python",
   "name": "python",
   "nbconvert_exporter": "python",
   "pygments_lexer": "ipython3",
   "version": "3.8.8"
  }
 },
 "nbformat": 4,
 "nbformat_minor": 5
}
