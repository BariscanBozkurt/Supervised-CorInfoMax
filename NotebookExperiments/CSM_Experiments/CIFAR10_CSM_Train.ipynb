{
 "cells": [
  {
   "cell_type": "code",
   "execution_count": 1,
   "id": "fa17f1a6",
   "metadata": {},
   "outputs": [],
   "source": [
    "import torch\n",
    "import matplotlib.pyplot as plt\n",
    "import numpy as np\n",
    "import torchvision\n",
    "import torch.nn.functional as F\n",
    "import argparse\n",
    "import matplotlib\n",
    "from tqdm import tqdm\n",
    "import glob\n",
    "from PIL import Image\n",
    "import os\n",
    "from datetime import datetime\n",
    "import time\n",
    "import math\n",
    "import sys\n",
    "import sys\n",
    "sys.path.append(\"../src\")\n",
    "from models import *\n",
    "from visualization import *"
   ]
  },
  {
   "cell_type": "code",
   "execution_count": 2,
   "id": "4c583712",
   "metadata": {},
   "outputs": [
    {
     "data": {
      "text/plain": [
       "device(type='cuda', index=0)"
      ]
     },
     "execution_count": 2,
     "metadata": {},
     "output_type": "execute_result"
    }
   ],
   "source": [
    "device = torch.device('cuda:0' if torch.cuda.is_available() else 'cpu')\n",
    "device"
   ]
  },
  {
   "cell_type": "code",
   "execution_count": 3,
   "id": "686355e5",
   "metadata": {},
   "outputs": [
    {
     "name": "stdout",
     "output_type": "stream",
     "text": [
      "Files already downloaded and verified\n",
      "Files already downloaded and verified\n"
     ]
    }
   ],
   "source": [
    "transform = torchvision.transforms.Compose([torchvision.transforms.ToTensor(), \n",
    "                                            torchvision.transforms.Normalize(mean=(0.4914, 0.4822, 0.4465), \n",
    "                                            std=(3*0.2023, 3*0.1994, 3*0.2010))])\n",
    "\n",
    "cifar_dset_train = torchvision.datasets.CIFAR10('./data', train=True, transform=transform, target_transform=None, download=True)\n",
    "train_loader = torch.utils.data.DataLoader(cifar_dset_train, batch_size=20, shuffle=True, num_workers=0)\n",
    "\n",
    "cifar_dset_test = torchvision.datasets.CIFAR10('./data', train=False, transform=transform, target_transform=None, download=True)\n",
    "test_loader = torch.utils.data.DataLoader(cifar_dset_test, batch_size=20, shuffle=False, num_workers=0)"
   ]
  },
  {
   "cell_type": "code",
   "execution_count": 4,
   "id": "b49c62f3",
   "metadata": {},
   "outputs": [],
   "source": [
    "activation = hard_sigmoid\n",
    "criterion = torch.nn.MSELoss(reduction='none').to(device)\n",
    "architecture = [int(32*32*3), 500, 10]\n",
    "model = CSM(architecture, activation = activation)\n",
    "model = model.to(device)"
   ]
  },
  {
   "cell_type": "code",
   "execution_count": 5,
   "id": "27a9c322",
   "metadata": {},
   "outputs": [],
   "source": [
    "alphas_W = [0.059, 0.017]\n",
    "alphas_M = [-0.067]"
   ]
  },
  {
   "cell_type": "code",
   "execution_count": 6,
   "id": "c264bdc9",
   "metadata": {},
   "outputs": [],
   "source": [
    "optim_params = []\n",
    "for idx in range(len(model.W)):\n",
    "    optim_params.append(  {'params': model.W[idx].parameters(), 'lr': alphas_W[idx]}  )\n",
    "    \n",
    "for idx in range(len(model.M)):\n",
    "    optim_params.append(  {'params': model.M[idx].parameters(), 'lr': alphas_M[idx]}  )"
   ]
  },
  {
   "cell_type": "code",
   "execution_count": 7,
   "id": "32005d5f",
   "metadata": {},
   "outputs": [],
   "source": [
    "optimizer = torch.optim.SGD( optim_params, momentum=0.0 )\n",
    "scheduler = torch.optim.lr_scheduler.StepLR(optimizer, step_size=50, gamma=0.9)"
   ]
  },
  {
   "cell_type": "code",
   "execution_count": 8,
   "id": "6c5ed6ad",
   "metadata": {},
   "outputs": [
    {
     "name": "stdout",
     "output_type": "stream",
     "text": [
      "Test accuracy :\t 0.1208\n"
     ]
    },
    {
     "data": {
      "text/plain": [
       "0.1208"
      ]
     },
     "execution_count": 8,
     "metadata": {},
     "output_type": "execute_result"
    }
   ],
   "source": [
    "evaluateEP(model.to(device), test_loader, 20, device)"
   ]
  },
  {
   "cell_type": "code",
   "execution_count": 9,
   "id": "68ac6218",
   "metadata": {},
   "outputs": [
    {
     "data": {
      "text/plain": [
       "CSM(\n",
       "  (W): ModuleList(\n",
       "    (0): Linear(in_features=3072, out_features=500, bias=True)\n",
       "    (1): Linear(in_features=500, out_features=10, bias=True)\n",
       "  )\n",
       "  (M): ModuleList(\n",
       "    (0): Linear(in_features=500, out_features=500, bias=False)\n",
       "  )\n",
       "  (M_copy): ModuleList(\n",
       "    (0): Linear(in_features=500, out_features=500, bias=False)\n",
       "  )\n",
       ")"
      ]
     },
     "execution_count": 9,
     "metadata": {},
     "output_type": "execute_result"
    }
   ],
   "source": [
    "mbs = train_loader.batch_size\n",
    "start = time.time()\n",
    "iter_per_epochs = math.ceil(len(train_loader.dataset)/mbs)\n",
    "betas = (0.0, 1.0)\n",
    "beta_1, beta_2 = betas\n",
    "neural_lr = 0.2\n",
    "train_acc = [10.0]\n",
    "test_acc = [10.0]\n",
    "best = 0.0\n",
    "epoch_sofar = 0\n",
    "model.train()"
   ]
  },
  {
   "cell_type": "code",
   "execution_count": null,
   "id": "521a74b6",
   "metadata": {
    "scrolled": false
   },
   "outputs": [
    {
     "name": "stderr",
     "output_type": "stream",
     "text": [
      "2500it [02:45, 15.12it/s]\n",
      "2it [00:00, 13.59it/s]"
     ]
    },
    {
     "name": "stdout",
     "output_type": "stream",
     "text": [
      "Epoch : 1, Train Accuracy : 0.37652, Test Accuracy : 0.3643\n"
     ]
    },
    {
     "name": "stderr",
     "output_type": "stream",
     "text": [
      "2500it [02:46, 15.03it/s]\n",
      "2it [00:00, 13.74it/s]"
     ]
    },
    {
     "name": "stdout",
     "output_type": "stream",
     "text": [
      "Epoch : 2, Train Accuracy : 0.1, Test Accuracy : 0.1\n"
     ]
    },
    {
     "name": "stderr",
     "output_type": "stream",
     "text": [
      "2500it [02:47, 14.93it/s]\n",
      "2it [00:00, 13.66it/s]"
     ]
    },
    {
     "name": "stdout",
     "output_type": "stream",
     "text": [
      "Epoch : 3, Train Accuracy : 0.43454, Test Accuracy : 0.4044\n"
     ]
    },
    {
     "name": "stderr",
     "output_type": "stream",
     "text": [
      "2500it [02:48, 14.88it/s]\n",
      "2it [00:00, 14.19it/s]"
     ]
    },
    {
     "name": "stdout",
     "output_type": "stream",
     "text": [
      "Epoch : 4, Train Accuracy : 0.10012, Test Accuracy : 0.1\n"
     ]
    },
    {
     "name": "stderr",
     "output_type": "stream",
     "text": [
      "2500it [02:45, 15.13it/s]\n",
      "2it [00:00, 14.03it/s]"
     ]
    },
    {
     "name": "stdout",
     "output_type": "stream",
     "text": [
      "Epoch : 5, Train Accuracy : 0.45944, Test Accuracy : 0.4318\n"
     ]
    },
    {
     "name": "stderr",
     "output_type": "stream",
     "text": [
      "2500it [02:46, 15.02it/s]\n",
      "2it [00:00, 13.86it/s]"
     ]
    },
    {
     "name": "stdout",
     "output_type": "stream",
     "text": [
      "Epoch : 6, Train Accuracy : 0.46106, Test Accuracy : 0.4375\n"
     ]
    },
    {
     "name": "stderr",
     "output_type": "stream",
     "text": [
      "2500it [02:47, 14.94it/s]\n",
      "2it [00:00, 14.10it/s]"
     ]
    },
    {
     "name": "stdout",
     "output_type": "stream",
     "text": [
      "Epoch : 7, Train Accuracy : 0.48548, Test Accuracy : 0.4583\n"
     ]
    },
    {
     "name": "stderr",
     "output_type": "stream",
     "text": [
      "2500it [02:46, 15.02it/s]\n",
      "2it [00:00, 13.65it/s]"
     ]
    },
    {
     "name": "stdout",
     "output_type": "stream",
     "text": [
      "Epoch : 8, Train Accuracy : 0.49632, Test Accuracy : 0.4681\n"
     ]
    },
    {
     "name": "stderr",
     "output_type": "stream",
     "text": [
      "2500it [02:48, 14.86it/s]\n",
      "2it [00:00, 13.58it/s]"
     ]
    },
    {
     "name": "stdout",
     "output_type": "stream",
     "text": [
      "Epoch : 9, Train Accuracy : 0.48256, Test Accuracy : 0.4525\n"
     ]
    },
    {
     "name": "stderr",
     "output_type": "stream",
     "text": [
      "2500it [02:47, 14.89it/s]\n",
      "2it [00:00, 13.81it/s]"
     ]
    },
    {
     "name": "stdout",
     "output_type": "stream",
     "text": [
      "Epoch : 10, Train Accuracy : 0.4248, Test Accuracy : 0.3985\n"
     ]
    },
    {
     "name": "stderr",
     "output_type": "stream",
     "text": [
      "2500it [02:48, 14.85it/s]\n",
      "2it [00:00, 14.08it/s]"
     ]
    },
    {
     "name": "stdout",
     "output_type": "stream",
     "text": [
      "Epoch : 11, Train Accuracy : 0.49292, Test Accuracy : 0.4524\n"
     ]
    },
    {
     "name": "stderr",
     "output_type": "stream",
     "text": [
      "2500it [02:47, 14.90it/s]\n",
      "2it [00:00, 14.10it/s]"
     ]
    },
    {
     "name": "stdout",
     "output_type": "stream",
     "text": [
      "Epoch : 12, Train Accuracy : 0.50852, Test Accuracy : 0.4737\n"
     ]
    },
    {
     "name": "stderr",
     "output_type": "stream",
     "text": [
      "2500it [02:48, 14.85it/s]\n",
      "2it [00:00, 13.67it/s]"
     ]
    },
    {
     "name": "stdout",
     "output_type": "stream",
     "text": [
      "Epoch : 13, Train Accuracy : 0.44844, Test Accuracy : 0.4124\n"
     ]
    },
    {
     "name": "stderr",
     "output_type": "stream",
     "text": [
      "2500it [02:48, 14.88it/s]\n",
      "2it [00:00, 13.52it/s]"
     ]
    },
    {
     "name": "stdout",
     "output_type": "stream",
     "text": [
      "Epoch : 14, Train Accuracy : 0.1612, Test Accuracy : 0.1555\n"
     ]
    },
    {
     "name": "stderr",
     "output_type": "stream",
     "text": [
      "2500it [02:48, 14.80it/s]\n",
      "2it [00:00, 13.20it/s]"
     ]
    },
    {
     "name": "stdout",
     "output_type": "stream",
     "text": [
      "Epoch : 15, Train Accuracy : 0.32862, Test Accuracy : 0.3224\n"
     ]
    },
    {
     "name": "stderr",
     "output_type": "stream",
     "text": [
      "2500it [02:49, 14.77it/s]\n",
      "2it [00:00, 14.09it/s]"
     ]
    },
    {
     "name": "stdout",
     "output_type": "stream",
     "text": [
      "Epoch : 16, Train Accuracy : 0.52264, Test Accuracy : 0.474\n"
     ]
    },
    {
     "name": "stderr",
     "output_type": "stream",
     "text": [
      "2500it [02:48, 14.84it/s]\n",
      "2it [00:00, 13.75it/s]"
     ]
    },
    {
     "name": "stdout",
     "output_type": "stream",
     "text": [
      "Epoch : 17, Train Accuracy : 0.52058, Test Accuracy : 0.469\n"
     ]
    },
    {
     "name": "stderr",
     "output_type": "stream",
     "text": [
      "1258it [01:25, 14.39it/s]"
     ]
    }
   ],
   "source": [
    "trn_acc_list = []\n",
    "tst_acc_list = []\n",
    "T1 = 20\n",
    "T2 = 4\n",
    "random_sign = True\n",
    "n_epochs = 50\n",
    "for epoch_ in range(n_epochs):\n",
    "    for idx, (x, y) in tqdm(enumerate(train_loader)):\n",
    "        x, y = x.to(device), y.to(device)\n",
    "        neurons = model.init_neurons(x.size(0), device)\n",
    "        neurons = model(x, y, neurons, T1, neural_lr = neural_lr, beta=beta_1, criterion=criterion)\n",
    "        neurons_1 = copy(neurons)\n",
    "        if random_sign and (beta_1==0.0):\n",
    "            rnd_sgn = 2*np.random.randint(2) - 1\n",
    "            betas = beta_1, rnd_sgn*beta_2\n",
    "            beta_1, beta_2 = betas\n",
    "        neurons = model(x, y, neurons, T2, neural_lr = neural_lr, beta = beta_2, criterion=criterion)\n",
    "        neurons_2 = copy(neurons)\n",
    "        model.compute_syn_grads(x, y, neurons_1, neurons_2, betas, alphas_M, criterion)\n",
    "        optimizer.step()\n",
    "    scheduler.step()\n",
    "    model.eval()\n",
    "    correct = 0\n",
    "    for x, y in train_loader:\n",
    "        x, y = x.to(device), y.to(device)\n",
    "        neurons = model.init_neurons(x.size(0), device)\n",
    "        neurons = model(x, y, neurons, T1, neural_lr = neural_lr) # dynamics for T time steps\n",
    "        pred = torch.argmax(neurons[-1], dim=1).squeeze()  # in this case prediction is done directly on the last (output) layer of neurons\n",
    "        correct += (y == pred).sum().item()\n",
    "\n",
    "    trn_acc = correct/len(train_loader.dataset) \n",
    "    \n",
    "    correct = 0\n",
    "    for x, y in test_loader:\n",
    "        x, y = x.to(device), y.to(device)\n",
    "        neurons = model.init_neurons(x.size(0), device)\n",
    "        neurons = model(x, y, neurons, T1, neural_lr = neural_lr) # dynamics for T time steps\n",
    "        pred = torch.argmax(neurons[-1], dim=1).squeeze()  # in this case prediction is done directly on the last (output) layer of neurons\n",
    "        correct += (y == pred).sum().item()\n",
    "\n",
    "    tst_acc = correct/len(test_loader.dataset) \n",
    "    \n",
    "#     trn_acc = evaluateEP(model.to(device), train_loader, T1, device, False)\n",
    "#     tst_acc = evaluateEP(model.to(device), test_loader, T1, device, False)\n",
    "\n",
    "    trn_acc_list.append(trn_acc)\n",
    "    tst_acc_list.append(tst_acc)\n",
    "    \n",
    "    print(\"Epoch : {}, Train Accuracy : {}, Test Accuracy : {}\".format(epoch_+1, trn_acc, tst_acc))"
   ]
  },
  {
   "cell_type": "code",
   "execution_count": null,
   "id": "8c29048f",
   "metadata": {},
   "outputs": [],
   "source": [
    "plot_convergence_plot(trn_acc_list, xlabel = 'Number of Epochs', ylabel = 'Accuracy %',\n",
    "                      title = 'CSM Train Accuracy w.r.t. Epochs', \n",
    "                      figsize = (12,8), fontsize = 25, linewidth = 3)"
   ]
  },
  {
   "cell_type": "code",
   "execution_count": null,
   "id": "cd0e95a9",
   "metadata": {},
   "outputs": [],
   "source": [
    "plot_convergence_plot(tst_acc_list, xlabel = 'Number of Epochs', ylabel = 'Accuracy %',\n",
    "                      title = 'CSM Test Accuracy w.r.t. Epochs', \n",
    "                      figsize = (12,8), fontsize = 25, linewidth = 3)"
   ]
  }
 ],
 "metadata": {
  "kernelspec": {
   "display_name": "Python 3 (ipykernel)",
   "language": "python",
   "name": "python3"
  },
  "language_info": {
   "codemirror_mode": {
    "name": "ipython",
    "version": 3
   },
   "file_extension": ".py",
   "mimetype": "text/x-python",
   "name": "python",
   "nbconvert_exporter": "python",
   "pygments_lexer": "ipython3",
   "version": "3.8.8"
  }
 },
 "nbformat": 4,
 "nbformat_minor": 5
}
