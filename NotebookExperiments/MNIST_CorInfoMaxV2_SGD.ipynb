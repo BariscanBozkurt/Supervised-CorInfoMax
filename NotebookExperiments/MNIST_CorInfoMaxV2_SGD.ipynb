{
 "cells": [
  {
   "cell_type": "code",
   "execution_count": 1,
   "id": "5fd7911f",
   "metadata": {},
   "outputs": [],
   "source": [
    "import sys\n",
    "sys.path.append(\"../src\")\n",
    "import torch\n",
    "import matplotlib.pyplot as plt\n",
    "import numpy as np\n",
    "import torchvision\n",
    "import torch.nn.functional as F\n",
    "\n",
    "import glob\n",
    "import os\n",
    "from datetime import datetime\n",
    "import time\n",
    "import math\n",
    "from tqdm import tqdm\n",
    "\n",
    "from itertools import repeat\n",
    "from torch.nn.parameter import Parameter\n",
    "import collections\n",
    "import matplotlib\n",
    "from torch_utils import *\n",
    "from models import *\n",
    "from visualization import *\n",
    "# matplotlib.use('Agg')"
   ]
  },
  {
   "cell_type": "code",
   "execution_count": 2,
   "id": "0481fdbb",
   "metadata": {},
   "outputs": [
    {
     "data": {
      "text/plain": [
       "device(type='cuda', index=0)"
      ]
     },
     "execution_count": 2,
     "metadata": {},
     "output_type": "execute_result"
    }
   ],
   "source": [
    "device = torch.device('cuda:0' if torch.cuda.is_available() else 'cpu')\n",
    "device"
   ]
  },
  {
   "cell_type": "code",
   "execution_count": 3,
   "id": "94c4836a",
   "metadata": {},
   "outputs": [],
   "source": [
    "transform = torchvision.transforms.Compose([torchvision.transforms.ToTensor(), \n",
    "                                            torchvision.transforms.Normalize(mean=(0.5,), std=(0.5,))])\n",
    "\n",
    "mnist_dset_train = torchvision.datasets.MNIST('./data', train=True, transform=transform, target_transform=None, download=True)\n",
    "train_loader = torch.utils.data.DataLoader(mnist_dset_train, batch_size=20, shuffle=True, num_workers=0)\n",
    "\n",
    "mnist_dset_test = torchvision.datasets.MNIST('./data', train=False, transform=transform, target_transform=None, download=True)\n",
    "test_loader = torch.utils.data.DataLoader(mnist_dset_test, batch_size=20, shuffle=False, num_workers=0)"
   ]
  },
  {
   "cell_type": "code",
   "execution_count": 4,
   "id": "fd835cdc",
   "metadata": {},
   "outputs": [],
   "source": [
    "activation_type = \"tanh\"\n",
    "architecture = [784, 500, 500, 10]\n",
    "\n",
    "x,y = next(iter(train_loader))\n",
    "x = x.view(x.size(0),-1).to(device).T\n",
    "y_one_hot = F.one_hot(y, 10).to(device).T\n",
    "lambda_ = 0.9999\n",
    "epsilon = 0.1#0.5\n",
    "neural_lr_start = 0.1/10\n",
    "neural_lr_stop = 0.0001\n",
    "neural_lr_rule = \"divide_by_slow_loop_index\"\n",
    "neural_lr_decay_multiplier = 0.1\n",
    "neural_dynamic_iterations = 50\n",
    "\n",
    "lr_start = {'ff' : 0.01, \"fb\": 0.001}\n",
    "# lr_start = {'ff' : 0.001, \"fb\": 0.001}\n",
    "\n",
    "model = CorInfoMaxV2(architecture, lambda_, epsilon, activation_type)"
   ]
  },
  {
   "cell_type": "code",
   "execution_count": null,
   "id": "41771576",
   "metadata": {},
   "outputs": [
    {
     "name": "stderr",
     "output_type": "stream",
     "text": [
      "3000it [04:28, 11.17it/s]\n",
      "2it [00:00, 14.90it/s]"
     ]
    },
    {
     "name": "stdout",
     "output_type": "stream",
     "text": [
      "Epoch : 1, Train Accuracy : 0.7247833333333333, Test Accuracy : 0.7326\n"
     ]
    },
    {
     "name": "stderr",
     "output_type": "stream",
     "text": [
      "3000it [04:13, 11.83it/s]\n",
      "2it [00:00, 11.34it/s]"
     ]
    },
    {
     "name": "stdout",
     "output_type": "stream",
     "text": [
      "Epoch : 2, Train Accuracy : 0.7994666666666667, Test Accuracy : 0.8054\n"
     ]
    },
    {
     "name": "stderr",
     "output_type": "stream",
     "text": [
      "3000it [04:16, 11.69it/s]\n",
      "2it [00:00, 11.06it/s]"
     ]
    },
    {
     "name": "stdout",
     "output_type": "stream",
     "text": [
      "Epoch : 3, Train Accuracy : 0.8394166666666667, Test Accuracy : 0.8455\n"
     ]
    },
    {
     "name": "stderr",
     "output_type": "stream",
     "text": [
      "3000it [04:28, 11.17it/s]\n",
      "0it [00:00, ?it/s]"
     ]
    },
    {
     "name": "stdout",
     "output_type": "stream",
     "text": [
      "Epoch : 4, Train Accuracy : 0.8340666666666666, Test Accuracy : 0.8385\n"
     ]
    },
    {
     "name": "stderr",
     "output_type": "stream",
     "text": [
      "3000it [04:29, 11.12it/s]\n",
      "2it [00:00, 11.81it/s]"
     ]
    },
    {
     "name": "stdout",
     "output_type": "stream",
     "text": [
      "Epoch : 5, Train Accuracy : 0.8387666666666667, Test Accuracy : 0.8466\n"
     ]
    },
    {
     "name": "stderr",
     "output_type": "stream",
     "text": [
      "3000it [04:26, 11.25it/s]\n",
      "1it [00:00,  9.99it/s]"
     ]
    },
    {
     "name": "stdout",
     "output_type": "stream",
     "text": [
      "Epoch : 6, Train Accuracy : 0.83365, Test Accuracy : 0.8387\n"
     ]
    },
    {
     "name": "stderr",
     "output_type": "stream",
     "text": [
      "3000it [04:23, 11.39it/s]\n",
      "0it [00:00, ?it/s]"
     ]
    },
    {
     "name": "stdout",
     "output_type": "stream",
     "text": [
      "Epoch : 7, Train Accuracy : 0.8355, Test Accuracy : 0.8425\n"
     ]
    },
    {
     "name": "stderr",
     "output_type": "stream",
     "text": [
      "2613it [03:53, 11.24it/s]"
     ]
    }
   ],
   "source": [
    "trn_acc_list = []\n",
    "tst_acc_list = []\n",
    "\n",
    "n_epochs = 10\n",
    "lr = lr_start\n",
    "for epoch_ in range(n_epochs):\n",
    "    lr = {'ff' : lr_start['ff'] * (0.9)**epoch_, 'fb' : lr_start['fb'] * (0.9)**epoch_}\n",
    "    for idx, (x, y) in tqdm(enumerate(train_loader)):\n",
    "        x, y = x.to(device).view(x.size(0),-1).T, y.to(device)\n",
    "        x_ = torch.clone(x)\n",
    "        #x = activation_inverse(x.view(x.size(0),-1).T, activation_type)\n",
    "        #x = x.view(x.size(0),-1).T\n",
    "        y_one_hot = F.one_hot(y, 10).to(device).T\n",
    "        #y_one_hot = 0.94 * y_one_hot + 0.03 * torch.ones(*y_one_hot.shape, device = device)\n",
    "        _ = model.batch_step( x, y_one_hot, lr, neural_lr_start, neural_lr_stop, neural_lr_rule,\n",
    "                              neural_lr_decay_multiplier, neural_dynamic_iterations, optimizer = \"sgd\"\n",
    "                            )\n",
    "#         break\n",
    "#     break\n",
    "    trn_acc = evaluatePC(model, train_loader, device, False, activation_type = activation_type, printing = False)\n",
    "    tst_acc = evaluatePC(model, test_loader, device, False, activation_type = activation_type, printing = False)\n",
    "    trn_acc_list.append(trn_acc)\n",
    "    tst_acc_list.append(tst_acc)\n",
    "    \n",
    "    print(\"Epoch : {}, Train Accuracy : {}, Test Accuracy : {}\".format(epoch_+1, trn_acc, tst_acc))"
   ]
  },
  {
   "cell_type": "code",
   "execution_count": null,
   "id": "9840f33a",
   "metadata": {},
   "outputs": [],
   "source": [
    "torch.norm(activation_func(x, \"tanh\")[0] - x_.view(x_.size(0),-1).T)"
   ]
  },
  {
   "cell_type": "code",
   "execution_count": null,
   "id": "05942579",
   "metadata": {},
   "outputs": [],
   "source": [
    "model = CorInfoMaxV2(architecture, lambda_, epsilon, activation_type)\n",
    "lambda_ = 0.9999\n",
    "epsilon = 0.1#0.5\n",
    "neural_lr_start = 0.1/25\n",
    "neural_lr_stop = 0.0001\n",
    "neural_lr_rule = \"divide_by_slow_loop_index\"\n",
    "neural_lr_decay_multiplier = 0.1\n",
    "neural_dynamic_iterations = 50\n",
    "\n",
    "x,y = next(iter(train_loader))\n",
    "x, y = x.to(device), y.to(device)\n",
    "y_one_hot = F.one_hot(y, 10).to(device).T\n",
    "x = activation_inverse(x.view(x.size(0),-1).T, activation_type)\n",
    "\n",
    "neurons = model.init_neurons(x.size(1), device = model.device)\n",
    "neurons = model.fast_forward(x)\n",
    "\n",
    "# if mode == \"train\":\n",
    "neurons[-1] = y_one_hot.to(torch.float)\n",
    "\n",
    "neurons = model.run_neural_dynamics(x, y_one_hot, neurons, neural_lr_start, neural_lr_stop, neural_lr_rule, \n",
    "                                   neural_lr_decay_multiplier, neural_dynamic_iterations, 1)"
   ]
  },
  {
   "cell_type": "code",
   "execution_count": null,
   "id": "67477708",
   "metadata": {},
   "outputs": [],
   "source": [
    "activation_inverse(torch.tensor([-1]), \"tanh\")"
   ]
  },
  {
   "cell_type": "code",
   "execution_count": null,
   "id": "42a1edb9",
   "metadata": {},
   "outputs": [],
   "source": [
    "neuron_grads = model.calculate_neural_dynamics_grad(x,y_one_hot, neurons, 1, \"train\")"
   ]
  },
  {
   "cell_type": "code",
   "execution_count": null,
   "id": "8d19faae",
   "metadata": {},
   "outputs": [],
   "source": [
    "neuron_grads"
   ]
  },
  {
   "cell_type": "code",
   "execution_count": null,
   "id": "519188b3",
   "metadata": {},
   "outputs": [],
   "source": [
    "neurons[-2]"
   ]
  },
  {
   "cell_type": "code",
   "execution_count": null,
   "id": "202708bb",
   "metadata": {},
   "outputs": [],
   "source": [
    "plot_convergence_plot(trn_acc_list, xlabel = 'Number of Epochs', ylabel = 'Accuracy %',\n",
    "                      title = 'PC Train Accuracy w.r.t. Epochs', \n",
    "                      figsize = (12,8), fontsize = 25, linewidth = 3)"
   ]
  },
  {
   "cell_type": "code",
   "execution_count": null,
   "id": "63978453",
   "metadata": {},
   "outputs": [],
   "source": [
    "plot_convergence_plot(tst_acc_list, xlabel = 'Number of Epochs', ylabel = 'Accuracy %',\n",
    "                      title = 'PC Test Accuracy w.r.t. Epochs', \n",
    "                      figsize = (12,8), fontsize = 25, linewidth = 3)"
   ]
  },
  {
   "cell_type": "code",
   "execution_count": null,
   "id": "5d8b2979",
   "metadata": {},
   "outputs": [],
   "source": [
    "plt.figure(figsize = (7,7))\n",
    "plt.imshow(torch2numpy(model.B[0][\"weight\"]))"
   ]
  },
  {
   "cell_type": "code",
   "execution_count": null,
   "id": "e8a00169",
   "metadata": {},
   "outputs": [],
   "source": [
    "plt.figure(figsize = (7,7))\n",
    "plt.imshow(torch2numpy(model.Bsigma[1][\"weight\"]))"
   ]
  },
  {
   "cell_type": "code",
   "execution_count": null,
   "id": "77a21245",
   "metadata": {},
   "outputs": [],
   "source": [
    "model.Bsigma[1][\"weight\"]"
   ]
  }
 ],
 "metadata": {
  "kernelspec": {
   "display_name": "Python 3 (ipykernel)",
   "language": "python",
   "name": "python3"
  },
  "language_info": {
   "codemirror_mode": {
    "name": "ipython",
    "version": 3
   },
   "file_extension": ".py",
   "mimetype": "text/x-python",
   "name": "python",
   "nbconvert_exporter": "python",
   "pygments_lexer": "ipython3",
   "version": "3.8.8"
  }
 },
 "nbformat": 4,
 "nbformat_minor": 5
}
