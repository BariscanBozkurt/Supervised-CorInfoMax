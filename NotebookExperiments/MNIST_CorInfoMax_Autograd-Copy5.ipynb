{
 "cells": [
  {
   "cell_type": "code",
   "execution_count": 1,
   "id": "5fd7911f",
   "metadata": {},
   "outputs": [],
   "source": [
    "import sys\n",
    "sys.path.append(\"../src\")\n",
    "import torch\n",
    "import matplotlib.pyplot as plt\n",
    "import numpy as np\n",
    "import torchvision\n",
    "import torch.nn.functional as F\n",
    "\n",
    "import glob\n",
    "import os\n",
    "from datetime import datetime\n",
    "import time\n",
    "import math\n",
    "from tqdm import tqdm\n",
    "\n",
    "from itertools import repeat\n",
    "from torch.nn.parameter import Parameter\n",
    "import collections\n",
    "import matplotlib\n",
    "from torch_utils import *\n",
    "from ExplicitModels import *\n",
    "from visualization import *\n",
    "# matplotlib.use('Agg')"
   ]
  },
  {
   "cell_type": "code",
   "execution_count": 2,
   "id": "0481fdbb",
   "metadata": {},
   "outputs": [
    {
     "data": {
      "text/plain": [
       "device(type='cuda', index=0)"
      ]
     },
     "execution_count": 2,
     "metadata": {},
     "output_type": "execute_result"
    }
   ],
   "source": [
    "device = torch.device('cuda:0' if torch.cuda.is_available() else 'cpu')\n",
    "device"
   ]
  },
  {
   "cell_type": "code",
   "execution_count": 3,
   "id": "94c4836a",
   "metadata": {},
   "outputs": [],
   "source": [
    "transform = torchvision.transforms.Compose([torchvision.transforms.ToTensor(), \n",
    "                                            torchvision.transforms.Normalize(mean=(0.1306,), std=(0.3081,))])\n",
    "\n",
    "mnist_dset_train = torchvision.datasets.MNIST('./data', train=True, transform=transform, target_transform=None, download=True)\n",
    "train_loader = torch.utils.data.DataLoader(mnist_dset_train, batch_size=20, shuffle=True, num_workers=0)\n",
    "\n",
    "mnist_dset_test = torchvision.datasets.MNIST('./data', train=False, transform=transform, target_transform=None, download=True)\n",
    "test_loader = torch.utils.data.DataLoader(mnist_dset_test, batch_size=20, shuffle=False, num_workers=0)"
   ]
  },
  {
   "cell_type": "code",
   "execution_count": 4,
   "id": "d1f114a4",
   "metadata": {},
   "outputs": [],
   "source": [
    "def evaluatePC2(model, loader, device, apply_activation_inverse = True, activation_type = \"sigmoid\", printing = True):\n",
    "    # Evaluate Predictive Coding Model on Classification Task\n",
    "    correct=0\n",
    "    phase = 'Train' if loader.dataset.train else 'Test'\n",
    "    \n",
    "    for x, y in loader:\n",
    "        if apply_activation_inverse:\n",
    "            x = activation_inverse(x.view(x.size(0),-1).T, activation_type).to(device)\n",
    "        else:\n",
    "            x = x.view(x.size(0),-1).T.to(device)\n",
    "\n",
    "        y = y.to(device)\n",
    "        \n",
    "        neurons = model.fast_forward(x)\n",
    "\n",
    "        pred = torch.argmax(neurons[-1][:10,:], dim=0).squeeze()  \n",
    "        correct += (y == pred).sum().item()\n",
    "\n",
    "    acc = correct/len(loader.dataset) \n",
    "    if printing:\n",
    "        print(phase+' accuracy :\\t', acc)   \n",
    "    return acc"
   ]
  },
  {
   "cell_type": "code",
   "execution_count": 5,
   "id": "fd835cdc",
   "metadata": {},
   "outputs": [],
   "source": [
    "def mysoftmax(x, dim = 0):\n",
    "    return F.softmax(x, dim)\n",
    "\n",
    "def kWTA(inp_vector, k = 1):\n",
    "    tmpx = torch.clone(inp_vector)\n",
    "    topval = tmpx.topk(k, dim=0)[0][k - 1]\n",
    "    topval = topval.repeat(tmpx.shape[0], 1)\n",
    "    comp = (inp_vector>=topval)\n",
    "    return comp*inp_vector\n",
    "\n",
    "def Sparsify_kWTA(inp_vector, sparsity = 0.1):\n",
    "    k = int(inp_vector.shape[0] * sparsity)\n",
    "    if k == 0:\n",
    "        k = 1\n",
    "    tmpx = torch.clone(inp_vector)\n",
    "    topval = tmpx.topk(k, dim=0)[0][k - 1]\n",
    "    topval = topval.repeat(tmpx.shape[0], 1)\n",
    "    comp = (inp_vector>=topval)\n",
    "    return comp*inp_vector\n",
    "\n",
    "activation = Sparsify_kWTA\n",
    "activation = torch.nn.LeakyReLU(0.0)\n",
    "activation = torch.sigmoid\n",
    "\n",
    "architecture = [784, 500, 50]\n",
    "nc = 10\n",
    "lambda_ = 0.9999\n",
    "epsilon = 0.01\n",
    "neural_lr_start = 0.1\n",
    "neural_lr_stop = 0.00\n",
    "neural_lr_rule = \"constant\"\n",
    "neural_lr_decay_multiplier = 0.005\n",
    "neural_dynamic_iterations = 50\n",
    "\n",
    "model = CorInfoMaxBiDirectional_wAutoGradV2(architecture, nc, lambda_, epsilon, activation, \n",
    "                                            optimizer_type = \"sgd\",\n",
    "                                            optim_lr_ff = 0.01, optim_lr_fb = 0.001, \n",
    "                                            use_stepLR = True, sgd_weight_decay = 0.001, \n",
    "                                            stepLR_step_size = 10*3000)"
   ]
  },
  {
   "cell_type": "code",
   "execution_count": 6,
   "id": "1562863c",
   "metadata": {},
   "outputs": [],
   "source": [
    "x, y = next(iter(train_loader))\n",
    "x = x.view(x.size(0),-1).T\n",
    "x, y = x.to(device), y.to(device)\n",
    "y_one_hot = F.one_hot(y, 10).to(device).T\n",
    "neurons = model.init_neurons(x.size(1))\n",
    "# neurons = model.fast_forward(x)\n",
    "# mode = \"train\"\n",
    "# if mode == \"train\":\n",
    "#     neurons[-1] = y.to(torch.float)\n",
    "\n",
    "\n",
    "neurons = model.run_neural_dynamics( x, y_one_hot, neurons, neural_lr_start, neural_lr_stop, lr_rule = neural_lr_rule,\n",
    "                                    lr_decay_multiplier = neural_lr_decay_multiplier, \n",
    "                                    neural_dynamic_iterations = neural_dynamic_iterations)\n",
    "\n",
    "# neurons[-1]"
   ]
  },
  {
   "cell_type": "code",
   "execution_count": 7,
   "id": "375212ae",
   "metadata": {},
   "outputs": [
    {
     "data": {
      "text/plain": [
       "torch.Size([50, 20])"
      ]
     },
     "execution_count": 7,
     "metadata": {},
     "output_type": "execute_result"
    }
   ],
   "source": [
    "neurons[-1].shape"
   ]
  },
  {
   "cell_type": "code",
   "execution_count": 8,
   "id": "6dd0f98e",
   "metadata": {},
   "outputs": [
    {
     "data": {
      "text/plain": [
       "tensor([9, 8, 2, 3, 9, 1, 0, 3, 7, 7, 4, 9, 8, 1, 1, 7, 5, 8, 2, 1],\n",
       "       device='cuda:0')"
      ]
     },
     "execution_count": 8,
     "metadata": {},
     "output_type": "execute_result"
    }
   ],
   "source": [
    "y"
   ]
  },
  {
   "cell_type": "code",
   "execution_count": 9,
   "id": "d14b4e4a",
   "metadata": {},
   "outputs": [],
   "source": [
    "# neurons[-1][:,1]"
   ]
  },
  {
   "cell_type": "code",
   "execution_count": 10,
   "id": "43fd8379",
   "metadata": {},
   "outputs": [
    {
     "data": {
      "text/plain": [
       "[<matplotlib.lines.Line2D at 0x2b05353598b0>]"
      ]
     },
     "execution_count": 10,
     "metadata": {},
     "output_type": "execute_result"
    },
    {
     "data": {
      "image/png": "[encoded data removed]",
      "text/plain": [
       "<Figure size 432x288 with 1 Axes>"
      ]
     },
     "metadata": {
      "needs_background": "light"
     },
     "output_type": "display_data"
    }
   ],
   "source": [
    "plt.plot(model.neural_dynamics_loss_list)"
   ]
  },
  {
   "cell_type": "code",
   "execution_count": 7,
   "id": "7fe5ae77",
   "metadata": {},
   "outputs": [],
   "source": [
    "# F.softmax(neurons[0], 0)[:,0]"
   ]
  },
  {
   "cell_type": "code",
   "execution_count": 8,
   "id": "f5ddb537",
   "metadata": {},
   "outputs": [],
   "source": [
    "# torch.sum(F.softmax(neurons[0], 0), 0)"
   ]
  },
  {
   "cell_type": "code",
   "execution_count": 9,
   "id": "4fe66593",
   "metadata": {},
   "outputs": [],
   "source": [
    "# optim_params = []\n",
    "# for idx in range(len(model.Wff)):\n",
    "#     for key_ in [\"weight\", \"bias\"]:\n",
    "#         optim_params.append(  {'params': model.Wff[idx][key_], 'lr': lr_start[\"ff\"]}  )"
   ]
  },
  {
   "cell_type": "code",
   "execution_count": 10,
   "id": "c7526f50",
   "metadata": {},
   "outputs": [],
   "source": [
    "# optimizer = torch.optim.Adam(optim_params, maximize = True)"
   ]
  },
  {
   "cell_type": "code",
   "execution_count": null,
   "id": "e07503a8",
   "metadata": {},
   "outputs": [
    {
     "name": "stderr",
     "output_type": "stream",
     "text": [
      "3000it [04:14, 11.78it/s]\n",
      "2it [00:00, 10.90it/s]"
     ]
    },
    {
     "name": "stdout",
     "output_type": "stream",
     "text": [
      "Epoch : 1, Train Accuracy : 0.6232333333333333, Test Accuracy : 0.6273\n"
     ]
    },
    {
     "name": "stderr",
     "output_type": "stream",
     "text": [
      "3000it [04:00, 12.47it/s]\n",
      "2it [00:00, 10.06it/s]"
     ]
    },
    {
     "name": "stdout",
     "output_type": "stream",
     "text": [
      "Epoch : 2, Train Accuracy : 0.5899, Test Accuracy : 0.5975\n"
     ]
    },
    {
     "name": "stderr",
     "output_type": "stream",
     "text": [
      "3000it [03:17, 15.22it/s]\n",
      "1it [00:00,  9.54it/s]"
     ]
    },
    {
     "name": "stdout",
     "output_type": "stream",
     "text": [
      "Epoch : 3, Train Accuracy : 0.4869833333333333, Test Accuracy : 0.49\n"
     ]
    },
    {
     "name": "stderr",
     "output_type": "stream",
     "text": [
      "3000it [03:13, 15.52it/s]\n",
      "1it [00:00,  9.42it/s]"
     ]
    },
    {
     "name": "stdout",
     "output_type": "stream",
     "text": [
      "Epoch : 4, Train Accuracy : 0.3580333333333333, Test Accuracy : 0.3471\n"
     ]
    },
    {
     "name": "stderr",
     "output_type": "stream",
     "text": [
      "3000it [03:52, 12.88it/s]\n",
      "1it [00:00,  8.18it/s]"
     ]
    },
    {
     "name": "stdout",
     "output_type": "stream",
     "text": [
      "Epoch : 5, Train Accuracy : 0.22241666666666668, Test Accuracy : 0.2106\n"
     ]
    },
    {
     "name": "stderr",
     "output_type": "stream",
     "text": [
      "3000it [04:21, 11.45it/s]\n",
      "2it [00:00, 14.27it/s]"
     ]
    },
    {
     "name": "stdout",
     "output_type": "stream",
     "text": [
      "Epoch : 6, Train Accuracy : 0.17601666666666665, Test Accuracy : 0.162\n"
     ]
    },
    {
     "name": "stderr",
     "output_type": "stream",
     "text": [
      "3000it [03:42, 13.46it/s]\n",
      "2it [00:00, 11.79it/s]"
     ]
    },
    {
     "name": "stdout",
     "output_type": "stream",
     "text": [
      "Epoch : 7, Train Accuracy : 0.13541666666666666, Test Accuracy : 0.1233\n"
     ]
    },
    {
     "name": "stderr",
     "output_type": "stream",
     "text": [
      "3000it [03:50, 13.01it/s]\n",
      "2it [00:00, 12.82it/s]"
     ]
    },
    {
     "name": "stdout",
     "output_type": "stream",
     "text": [
      "Epoch : 8, Train Accuracy : 0.1386, Test Accuracy : 0.1256\n"
     ]
    },
    {
     "name": "stderr",
     "output_type": "stream",
     "text": [
      "3000it [03:36, 13.87it/s]\n",
      "1it [00:00,  9.24it/s]"
     ]
    },
    {
     "name": "stdout",
     "output_type": "stream",
     "text": [
      "Epoch : 9, Train Accuracy : 0.1127, Test Accuracy : 0.1023\n"
     ]
    },
    {
     "name": "stderr",
     "output_type": "stream",
     "text": [
      "3000it [03:46, 13.22it/s]\n",
      "1it [00:00,  7.49it/s]"
     ]
    },
    {
     "name": "stdout",
     "output_type": "stream",
     "text": [
      "Epoch : 10, Train Accuracy : 0.10588333333333333, Test Accuracy : 0.0968\n"
     ]
    },
    {
     "name": "stderr",
     "output_type": "stream",
     "text": [
      "3000it [04:01, 12.43it/s]\n",
      "2it [00:00, 12.84it/s]"
     ]
    },
    {
     "name": "stdout",
     "output_type": "stream",
     "text": [
      "Epoch : 11, Train Accuracy : 0.10956666666666667, Test Accuracy : 0.1003\n"
     ]
    },
    {
     "name": "stderr",
     "output_type": "stream",
     "text": [
      "3000it [03:52, 12.90it/s]\n",
      "1it [00:00,  9.54it/s]"
     ]
    },
    {
     "name": "stdout",
     "output_type": "stream",
     "text": [
      "Epoch : 12, Train Accuracy : 0.11456666666666666, Test Accuracy : 0.1037\n"
     ]
    },
    {
     "name": "stderr",
     "output_type": "stream",
     "text": [
      "3000it [03:45, 13.29it/s]\n",
      "2it [00:00, 10.67it/s]"
     ]
    },
    {
     "name": "stdout",
     "output_type": "stream",
     "text": [
      "Epoch : 13, Train Accuracy : 0.11175, Test Accuracy : 0.104\n"
     ]
    },
    {
     "name": "stderr",
     "output_type": "stream",
     "text": [
      "3000it [03:10, 15.77it/s]\n",
      "1it [00:00,  9.96it/s]"
     ]
    },
    {
     "name": "stdout",
     "output_type": "stream",
     "text": [
      "Epoch : 14, Train Accuracy : 0.13473333333333334, Test Accuracy : 0.1397\n"
     ]
    },
    {
     "name": "stderr",
     "output_type": "stream",
     "text": [
      "3000it [03:41, 13.57it/s]\n",
      "2it [00:00, 10.38it/s]"
     ]
    },
    {
     "name": "stdout",
     "output_type": "stream",
     "text": [
      "Epoch : 15, Train Accuracy : 0.0809, Test Accuracy : 0.0821\n"
     ]
    },
    {
     "name": "stderr",
     "output_type": "stream",
     "text": [
      "3000it [04:03, 12.32it/s]\n",
      "2it [00:00, 10.43it/s]"
     ]
    },
    {
     "name": "stdout",
     "output_type": "stream",
     "text": [
      "Epoch : 16, Train Accuracy : 0.19675, Test Accuracy : 0.191\n"
     ]
    },
    {
     "name": "stderr",
     "output_type": "stream",
     "text": [
      "3000it [03:58, 12.55it/s]\n",
      "1it [00:00,  8.68it/s]"
     ]
    },
    {
     "name": "stdout",
     "output_type": "stream",
     "text": [
      "Epoch : 17, Train Accuracy : 0.29568333333333335, Test Accuracy : 0.2889\n"
     ]
    },
    {
     "name": "stderr",
     "output_type": "stream",
     "text": [
      "3000it [03:34, 13.98it/s]\n",
      "1it [00:00,  8.67it/s]"
     ]
    },
    {
     "name": "stdout",
     "output_type": "stream",
     "text": [
      "Epoch : 18, Train Accuracy : 0.06588333333333334, Test Accuracy : 0.0622\n"
     ]
    },
    {
     "name": "stderr",
     "output_type": "stream",
     "text": [
      "3000it [03:36, 13.83it/s]\n",
      "1it [00:00,  9.91it/s]"
     ]
    },
    {
     "name": "stdout",
     "output_type": "stream",
     "text": [
      "Epoch : 19, Train Accuracy : 0.24258333333333335, Test Accuracy : 0.2314\n"
     ]
    },
    {
     "name": "stderr",
     "output_type": "stream",
     "text": [
      "3000it [03:04, 16.23it/s]\n",
      "1it [00:00,  9.68it/s]"
     ]
    },
    {
     "name": "stdout",
     "output_type": "stream",
     "text": [
      "Epoch : 20, Train Accuracy : 0.22608333333333333, Test Accuracy : 0.2165\n"
     ]
    },
    {
     "name": "stderr",
     "output_type": "stream",
     "text": [
      "3000it [03:14, 15.40it/s]\n",
      "1it [00:00,  9.22it/s]"
     ]
    },
    {
     "name": "stdout",
     "output_type": "stream",
     "text": [
      "Epoch : 21, Train Accuracy : 0.21498333333333333, Test Accuracy : 0.21\n"
     ]
    },
    {
     "name": "stderr",
     "output_type": "stream",
     "text": [
      "3000it [03:29, 14.31it/s]\n",
      "2it [00:00, 12.64it/s]"
     ]
    },
    {
     "name": "stdout",
     "output_type": "stream",
     "text": [
      "Epoch : 22, Train Accuracy : 0.21088333333333334, Test Accuracy : 0.2086\n"
     ]
    },
    {
     "name": "stderr",
     "output_type": "stream",
     "text": [
      "3000it [03:16, 15.30it/s]\n",
      "2it [00:00, 10.46it/s]"
     ]
    },
    {
     "name": "stdout",
     "output_type": "stream",
     "text": [
      "Epoch : 23, Train Accuracy : 0.18265, Test Accuracy : 0.1759\n"
     ]
    },
    {
     "name": "stderr",
     "output_type": "stream",
     "text": [
      "3000it [03:14, 15.45it/s]\n",
      "1it [00:00,  9.99it/s]"
     ]
    },
    {
     "name": "stdout",
     "output_type": "stream",
     "text": [
      "Epoch : 24, Train Accuracy : 0.19068333333333334, Test Accuracy : 0.1838\n"
     ]
    },
    {
     "name": "stderr",
     "output_type": "stream",
     "text": [
      "3000it [03:16, 15.23it/s]\n",
      "1it [00:00,  9.65it/s]"
     ]
    },
    {
     "name": "stdout",
     "output_type": "stream",
     "text": [
      "Epoch : 25, Train Accuracy : 0.19438333333333332, Test Accuracy : 0.1925\n"
     ]
    },
    {
     "name": "stderr",
     "output_type": "stream",
     "text": [
      "2886it [03:27, 17.07it/s]"
     ]
    }
   ],
   "source": [
    "model = CorInfoMaxBiDirectional_wAutoGradV2(architecture, nc, lambda_, epsilon, activation, \n",
    "                                            optimizer_type = \"sgd\",\n",
    "                                            optim_lr_ff = 0.001, optim_lr_fb = 0.001, \n",
    "                                            use_stepLR = True, sgd_weight_decay = 0.001, \n",
    "                                            stepLR_step_size = 10*3000)\n",
    "\n",
    "trn_acc_list = []\n",
    "tst_acc_list = []\n",
    "\n",
    "n_epochs = 50\n",
    "\n",
    "for epoch_ in range(n_epochs):\n",
    "    if epoch_ > 12:\n",
    "        neural_lr_start = 0.05\n",
    "    if epoch_ > 17:\n",
    "        neural_lr_start = 0.03\n",
    "    for idx, (x, y) in tqdm(enumerate(train_loader)):\n",
    "        x, y = x.to(device), y.to(device)\n",
    "        #x = activation_inverse(x.view(x.size(0),-1).T, \"sigmoid\")\n",
    "        x = x.view(x.size(0),-1).T\n",
    "        y_one_hot = F.one_hot(y, 10).to(device).T\n",
    "        #y_one_hot = 0.94 * y_one_hot + 0.03 * torch.ones(*y_one_hot.shape, device = device)\n",
    "        y_one_hot = 4*y_one_hot\n",
    "        \n",
    "        model.batch_step(  x, y_one_hot, neural_lr_start, neural_lr_stop, neural_lr_rule,\n",
    "                           neural_lr_decay_multiplier, neural_dynamic_iterations,\n",
    "                         )\n",
    "\n",
    "    trn_acc = evaluatePC(model, train_loader, device, False, \n",
    "                         printing = False)\n",
    "    tst_acc = evaluatePC(model, test_loader, device, False, \n",
    "                         printing = False)\n",
    "    trn_acc_list.append(trn_acc)\n",
    "    tst_acc_list.append(tst_acc)\n",
    "    \n",
    "    print(\"Epoch : {}, Train Accuracy : {}, Test Accuracy : {}\".format(epoch_+1, trn_acc, tst_acc))"
   ]
  },
  {
   "cell_type": "code",
   "execution_count": null,
   "id": "7a7d56f3",
   "metadata": {},
   "outputs": [],
   "source": [
    "# def inverse_leaky_relu(x, negative_slope = 0.1):\n",
    "#     out = torch.zeros(*x.shape)\n",
    "#     out[x >]"
   ]
  },
  {
   "cell_type": "code",
   "execution_count": null,
   "id": "20113615",
   "metadata": {},
   "outputs": [],
   "source": [
    "Wfb[1]['weight'] @ yy + Wfb[1]['bias']"
   ]
  },
  {
   "cell_type": "code",
   "execution_count": null,
   "id": "40bc48ab",
   "metadata": {},
   "outputs": [],
   "source": [
    "torch.clip(Wfb[1]['weight'] @ yy + Wfb[1]['bias'], 1e-3, 1-1e-3)"
   ]
  },
  {
   "cell_type": "code",
   "execution_count": null,
   "id": "9d7da3a4",
   "metadata": {},
   "outputs": [],
   "source": [
    "model.Wfb[1]"
   ]
  },
  {
   "cell_type": "code",
   "execution_count": null,
   "id": "c2aa3ff1",
   "metadata": {},
   "outputs": [],
   "source": [
    "cc = 0\n",
    "yy = torch.randn(10, 1).to(device)\n",
    "yy[cc] = 4\n",
    "Wfb = model.Wfb\n",
    "out = torch.clip(Wfb[0]['weight'] @ activation_inverse(torch.clip(Wfb[1]['weight'] @ yy + Wfb[1]['bias'], 1e-3, 1-1e-3), 'sigmoid') + Wfb[0]['bias'], 1e-3, 1-1e-3).view(28 ,28)\n",
    "out = torch2numpy(out)\n",
    "plt.imshow(out)"
   ]
  },
  {
   "cell_type": "code",
   "execution_count": null,
   "id": "b5e2e1ca",
   "metadata": {},
   "outputs": [],
   "source": []
  },
  {
   "cell_type": "code",
   "execution_count": null,
   "id": "26994c95",
   "metadata": {},
   "outputs": [],
   "source": [
    "def accuracy_topk(output, target, topk=(1,)):\n",
    "    \"\"\"Computes the precision@k for the specified values of k\"\"\"\n",
    "    maxk = max(topk)\n",
    "    batch_size = target.size(0)\n",
    "\n",
    "    _, pred = output.topk(maxk, 1, True, True)\n",
    "    pred = pred.t()\n",
    "    correct = pred.eq(target.view(1, -1).expand_as(pred))\n",
    "\n",
    "    res = []\n",
    "    for k in topk:\n",
    "        correct_k = correct[:k].flatten().float().sum(0)\n",
    "        res.append(correct_k.mul_(100.0 / batch_size))\n",
    "        \n",
    "    result = [res_.item() for res_ in res]\n",
    "    if len(result) == 1:\n",
    "        result = result[0]\n",
    "    return result\n",
    "\n",
    "def evaluatePC_topk(model, loader, device, apply_activation_inverse = True, \n",
    "                    activation_type = \"sigmoid\", topk = [2], printing = True):\n",
    "    # Evaluate Predictive Coding Model on Classification Task\n",
    "    correct=0\n",
    "    phase = 'Train' if loader.dataset.train else 'Test'\n",
    "    \n",
    "    for x, y in loader:\n",
    "        if apply_activation_inverse:\n",
    "            x = activation_inverse(x.view(x.size(0),-1).T, activation_type).to(device)\n",
    "        else:\n",
    "            x = x.view(x.size(0),-1).T.to(device)\n",
    "        batch_size = x.size(1)\n",
    "        y = y.to(device)\n",
    "        \n",
    "        neurons = model.fast_forward(x)\n",
    "\n",
    "        #pred = torch.argmax(neurons[-1], dim=0).squeeze()  \n",
    "        pred = neurons[-1]\n",
    "        correct += accuracy_topk(pred.T, y, topk) * batch_size\n",
    "\n",
    "    acc = correct/len(loader.dataset) \n",
    "    if printing:\n",
    "        print(phase+' accuracy :\\t', acc)   \n",
    "    return acc\n",
    "\n",
    "trn_acc = evaluatePC_topk(model, train_loader, device, False, \n",
    "                     printing = True, topk = [2])\n",
    "tst_acc = evaluatePC_topk(model, test_loader, device, False, \n",
    "                     printing = True, topk = [2])"
   ]
  },
  {
   "cell_type": "code",
   "execution_count": null,
   "id": "c8101e29",
   "metadata": {},
   "outputs": [],
   "source": [
    "for g in model.optimizer.param_groups:\n",
    "    g['lr'] = g['lr']/100"
   ]
  },
  {
   "cell_type": "code",
   "execution_count": null,
   "id": "0629fa79",
   "metadata": {},
   "outputs": [],
   "source": [
    "\n",
    "\n",
    "for epoch_ in range(n_epochs):\n",
    "    for idx, (x, y) in tqdm(enumerate(train_loader)):\n",
    "        x, y = x.to(device), y.to(device)\n",
    "        #x = activation_inverse(x.view(x.size(0),-1).T, \"sigmoid\")\n",
    "        x = x.view(x.size(0),-1).T\n",
    "        y_one_hot = F.one_hot(y, 10).to(device).T\n",
    "        y_one_hot = 0.94 * y_one_hot + 0.03 * torch.ones(*y_one_hot.shape, device = device)\n",
    "        \n",
    "        model.batch_step(  x, y_one_hot, neural_lr_start, neural_lr_stop, neural_lr_rule,\n",
    "                           neural_lr_decay_multiplier, neural_dynamic_iterations,\n",
    "                         )\n",
    "\n",
    "    trn_acc = evaluatePC(model, train_loader, device, False, \n",
    "                         printing = False)\n",
    "    tst_acc = evaluatePC(model, test_loader, device, False, \n",
    "                         printing = False)\n",
    "    trn_acc_list.append(trn_acc)\n",
    "    tst_acc_list.append(tst_acc)\n",
    "    \n",
    "    print(\"Epoch : {}, Train Accuracy : {}, Test Accuracy : {}\".format(epoch_+1, trn_acc, tst_acc))"
   ]
  },
  {
   "cell_type": "code",
   "execution_count": null,
   "id": "e092a82a",
   "metadata": {},
   "outputs": [],
   "source": []
  }
 ],
 "metadata": {
  "kernelspec": {
   "display_name": "Python 3 (ipykernel)",
   "language": "python",
   "name": "python3"
  },
  "language_info": {
   "codemirror_mode": {
    "name": "ipython",
    "version": 3
   },
   "file_extension": ".py",
   "mimetype": "text/x-python",
   "name": "python",
   "nbconvert_exporter": "python",
   "pygments_lexer": "ipython3",
   "version": "3.8.8"
  }
 },
 "nbformat": 4,
 "nbformat_minor": 5
}
