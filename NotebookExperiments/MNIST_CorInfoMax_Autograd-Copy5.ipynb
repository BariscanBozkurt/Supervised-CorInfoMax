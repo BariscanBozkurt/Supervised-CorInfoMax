{
 "cells": [
  {
   "cell_type": "code",
   "execution_count": 1,
   "id": "5fd7911f",
   "metadata": {},
   "outputs": [],
   "source": [
    "import sys\n",
    "sys.path.append(\"../src\")\n",
    "import torch\n",
    "import matplotlib.pyplot as plt\n",
    "import numpy as np\n",
    "import torchvision\n",
    "import torch.nn.functional as F\n",
    "\n",
    "import glob\n",
    "import os\n",
    "from datetime import datetime\n",
    "import time\n",
    "import math\n",
    "from tqdm import tqdm\n",
    "\n",
    "from itertools import repeat\n",
    "from torch.nn.parameter import Parameter\n",
    "import collections\n",
    "import matplotlib\n",
    "from torch_utils import *\n",
    "from ExplicitModels import *\n",
    "from visualization import *\n",
    "# matplotlib.use('Agg')"
   ]
  },
  {
   "cell_type": "code",
   "execution_count": 2,
   "id": "0481fdbb",
   "metadata": {},
   "outputs": [
    {
     "data": {
      "text/plain": [
       "device(type='cuda', index=0)"
      ]
     },
     "execution_count": 2,
     "metadata": {},
     "output_type": "execute_result"
    }
   ],
   "source": [
    "device = torch.device('cuda:0' if torch.cuda.is_available() else 'cpu')\n",
    "device"
   ]
  },
  {
   "cell_type": "code",
   "execution_count": 3,
   "id": "94c4836a",
   "metadata": {},
   "outputs": [],
   "source": [
    "transform = torchvision.transforms.Compose([torchvision.transforms.ToTensor(), \n",
    "                                            torchvision.transforms.Normalize(mean=(0.1306,), std=(0.3081,))])\n",
    "\n",
    "mnist_dset_train = torchvision.datasets.MNIST('./data', train=True, transform=transform, target_transform=None, download=True)\n",
    "train_loader = torch.utils.data.DataLoader(mnist_dset_train, batch_size=20, shuffle=True, num_workers=0)\n",
    "\n",
    "mnist_dset_test = torchvision.datasets.MNIST('./data', train=False, transform=transform, target_transform=None, download=True)\n",
    "test_loader = torch.utils.data.DataLoader(mnist_dset_test, batch_size=20, shuffle=False, num_workers=0)"
   ]
  },
  {
   "cell_type": "code",
   "execution_count": 4,
   "id": "d1f114a4",
   "metadata": {},
   "outputs": [],
   "source": [
    "def evaluatePC2(model, loader, device, apply_activation_inverse = True, activation_type = \"sigmoid\", printing = True):\n",
    "    # Evaluate Predictive Coding Model on Classification Task\n",
    "    correct=0\n",
    "    phase = 'Train' if loader.dataset.train else 'Test'\n",
    "    \n",
    "    for x, y in loader:\n",
    "        if apply_activation_inverse:\n",
    "            x = activation_inverse(x.view(x.size(0),-1).T, activation_type).to(device)\n",
    "        else:\n",
    "            x = x.view(x.size(0),-1).T.to(device)\n",
    "\n",
    "        y = y.to(device)\n",
    "        \n",
    "        neurons = model.fast_forward(x)\n",
    "\n",
    "        pred = torch.argmax(neurons[-1][:10,:], dim=0).squeeze()  \n",
    "        correct += (y == pred).sum().item()\n",
    "\n",
    "    acc = correct/len(loader.dataset) \n",
    "    if printing:\n",
    "        print(phase+' accuracy :\\t', acc)   \n",
    "    return acc"
   ]
  },
  {
   "cell_type": "code",
   "execution_count": 5,
   "id": "fd835cdc",
   "metadata": {},
   "outputs": [],
   "source": [
    "def mysoftmax(x, dim = 0):\n",
    "    return F.softmax(x, dim)\n",
    "\n",
    "def kWTA(inp_vector, k = 1):\n",
    "    tmpx = torch.clone(inp_vector)\n",
    "    topval = tmpx.topk(k, dim=0)[0][k - 1]\n",
    "    topval = topval.repeat(tmpx.shape[0], 1)\n",
    "    comp = (inp_vector>=topval)\n",
    "    return comp*inp_vector\n",
    "\n",
    "def Sparsify_kWTA(inp_vector, sparsity = 0.1):\n",
    "    k = int(inp_vector.shape[0] * sparsity)\n",
    "    if k == 0:\n",
    "        k = 1\n",
    "    tmpx = torch.clone(inp_vector)\n",
    "    topval = tmpx.topk(k, dim=0)[0][k - 1]\n",
    "    topval = topval.repeat(tmpx.shape[0], 1)\n",
    "    comp = (inp_vector>=topval)\n",
    "    return comp*inp_vector\n",
    "\n",
    "activation = Sparsify_kWTA\n",
    "# activation = torch.nn.LeakyReLU(0.0)\n",
    "# activation = torch.sigmoid\n",
    "\n",
    "architecture = [784, 500, 50]\n",
    "nc = 10\n",
    "lambda_ = 0.9999\n",
    "epsilon = 0.01\n",
    "neural_lr_start = 0.01\n",
    "neural_lr_stop = 0.00\n",
    "neural_lr_rule = \"constant\"\n",
    "neural_lr_decay_multiplier = 0.005\n",
    "neural_dynamic_iterations = 70\n",
    "\n",
    "model = CorInfoMaxBiDirectional_wAutoGradV2(architecture, nc, lambda_, epsilon, activation, \n",
    "                                            optimizer_type = \"sgd\",\n",
    "                                            optim_lr_ff = 0.01, optim_lr_fb = 0.0001, \n",
    "                                            use_stepLR = True, sgd_weight_decay = 0.001, \n",
    "                                            stepLR_step_size = 10*3000)"
   ]
  },
  {
   "cell_type": "code",
   "execution_count": 6,
   "id": "1562863c",
   "metadata": {},
   "outputs": [],
   "source": [
    "x, y = next(iter(train_loader))\n",
    "x = x.view(x.size(0),-1).T\n",
    "x, y = x.to(device), y.to(device)\n",
    "y_one_hot = F.one_hot(y, 10).to(device).T\n",
    "neurons = model.init_neurons(x.size(1))\n",
    "# neurons = model.fast_forward(x)\n",
    "# mode = \"train\"\n",
    "# if mode == \"train\":\n",
    "#     neurons[-1] = y.to(torch.float)\n",
    "\n",
    "\n",
    "neurons = model.run_neural_dynamics( x, y_one_hot, neurons, neural_lr_start, neural_lr_stop, lr_rule = neural_lr_rule,\n",
    "                                    lr_decay_multiplier = neural_lr_decay_multiplier, \n",
    "                                    neural_dynamic_iterations = neural_dynamic_iterations)\n",
    "\n",
    "# neurons[-1]"
   ]
  },
  {
   "cell_type": "code",
   "execution_count": 7,
   "id": "6ec87d4f",
   "metadata": {},
   "outputs": [
    {
     "data": {
      "text/plain": [
       "[<matplotlib.lines.Line2D at 0x2b9d3b629fd0>]"
      ]
     },
     "execution_count": 7,
     "metadata": {},
     "output_type": "execute_result"
    },
    {
     "data": {
      "image/png": "[encoded data removed]",
      "text/plain": [
       "<Figure size 432x288 with 1 Axes>"
      ]
     },
     "metadata": {
      "needs_background": "light"
     },
     "output_type": "display_data"
    }
   ],
   "source": [
    "plt.plot(model.neural_dynamics_loss_list)"
   ]
  },
  {
   "cell_type": "code",
   "execution_count": null,
   "id": "e07503a8",
   "metadata": {},
   "outputs": [
    {
     "name": "stderr",
     "output_type": "stream",
     "text": [
      "3000it [05:38,  8.87it/s]\n",
      "1it [00:00,  7.92it/s]"
     ]
    },
    {
     "name": "stdout",
     "output_type": "stream",
     "text": [
      "Epoch : 1, Train Accuracy : 0.8594833333333334, Test Accuracy : 0.8644\n"
     ]
    },
    {
     "name": "stderr",
     "output_type": "stream",
     "text": [
      "3000it [05:39,  8.83it/s]\n",
      "1it [00:00,  8.93it/s]"
     ]
    },
    {
     "name": "stdout",
     "output_type": "stream",
     "text": [
      "Epoch : 2, Train Accuracy : 0.8622666666666666, Test Accuracy : 0.8642\n"
     ]
    },
    {
     "name": "stderr",
     "output_type": "stream",
     "text": [
      "3000it [05:33,  8.99it/s]\n",
      "1it [00:00,  8.32it/s]"
     ]
    },
    {
     "name": "stdout",
     "output_type": "stream",
     "text": [
      "Epoch : 3, Train Accuracy : 0.86275, Test Accuracy : 0.8648\n"
     ]
    },
    {
     "name": "stderr",
     "output_type": "stream",
     "text": [
      "3000it [05:33,  9.00it/s]\n",
      "1it [00:00,  8.26it/s]"
     ]
    },
    {
     "name": "stdout",
     "output_type": "stream",
     "text": [
      "Epoch : 4, Train Accuracy : 0.8576, Test Accuracy : 0.8598\n"
     ]
    },
    {
     "name": "stderr",
     "output_type": "stream",
     "text": [
      "3000it [05:36,  8.91it/s]\n",
      "1it [00:00,  8.43it/s]"
     ]
    },
    {
     "name": "stdout",
     "output_type": "stream",
     "text": [
      "Epoch : 5, Train Accuracy : 0.8607166666666667, Test Accuracy : 0.8604\n"
     ]
    },
    {
     "name": "stderr",
     "output_type": "stream",
     "text": [
      "3000it [05:36,  8.91it/s]\n",
      "1it [00:00,  8.05it/s]"
     ]
    },
    {
     "name": "stdout",
     "output_type": "stream",
     "text": [
      "Epoch : 6, Train Accuracy : 0.86575, Test Accuracy : 0.8669\n"
     ]
    },
    {
     "name": "stderr",
     "output_type": "stream",
     "text": [
      "3000it [05:36,  8.91it/s]\n",
      "1it [00:00,  8.18it/s]"
     ]
    },
    {
     "name": "stdout",
     "output_type": "stream",
     "text": [
      "Epoch : 7, Train Accuracy : 0.86025, Test Accuracy : 0.8612\n"
     ]
    },
    {
     "name": "stderr",
     "output_type": "stream",
     "text": [
      "3000it [05:37,  8.90it/s]\n",
      "1it [00:00,  8.30it/s]"
     ]
    },
    {
     "name": "stdout",
     "output_type": "stream",
     "text": [
      "Epoch : 8, Train Accuracy : 0.85665, Test Accuracy : 0.8554\n"
     ]
    },
    {
     "name": "stderr",
     "output_type": "stream",
     "text": [
      "3000it [05:41,  8.78it/s]\n",
      "1it [00:00,  8.14it/s]"
     ]
    },
    {
     "name": "stdout",
     "output_type": "stream",
     "text": [
      "Epoch : 9, Train Accuracy : 0.8380666666666666, Test Accuracy : 0.8339\n"
     ]
    },
    {
     "name": "stderr",
     "output_type": "stream",
     "text": [
      "3000it [05:42,  8.77it/s]\n",
      "1it [00:00,  8.07it/s]"
     ]
    },
    {
     "name": "stdout",
     "output_type": "stream",
     "text": [
      "Epoch : 10, Train Accuracy : 0.812, Test Accuracy : 0.8116\n"
     ]
    },
    {
     "name": "stderr",
     "output_type": "stream",
     "text": [
      "3000it [05:43,  8.73it/s]\n",
      "1it [00:00,  8.08it/s]"
     ]
    },
    {
     "name": "stdout",
     "output_type": "stream",
     "text": [
      "Epoch : 11, Train Accuracy : 0.8039166666666666, Test Accuracy : 0.8015\n"
     ]
    },
    {
     "name": "stderr",
     "output_type": "stream",
     "text": [
      "3000it [05:42,  8.76it/s]\n",
      "1it [00:00,  8.50it/s]"
     ]
    },
    {
     "name": "stdout",
     "output_type": "stream",
     "text": [
      "Epoch : 12, Train Accuracy : 0.7645333333333333, Test Accuracy : 0.7647\n"
     ]
    },
    {
     "name": "stderr",
     "output_type": "stream",
     "text": [
      "3000it [05:45,  8.69it/s]\n",
      "1it [00:00,  8.00it/s]"
     ]
    },
    {
     "name": "stdout",
     "output_type": "stream",
     "text": [
      "Epoch : 13, Train Accuracy : 0.6910166666666666, Test Accuracy : 0.6913\n"
     ]
    },
    {
     "name": "stderr",
     "output_type": "stream",
     "text": [
      "3000it [05:44,  8.70it/s]\n",
      "1it [00:00,  8.37it/s]"
     ]
    },
    {
     "name": "stdout",
     "output_type": "stream",
     "text": [
      "Epoch : 14, Train Accuracy : 0.8491333333333333, Test Accuracy : 0.8473\n"
     ]
    },
    {
     "name": "stderr",
     "output_type": "stream",
     "text": [
      "3000it [05:44,  8.70it/s]\n",
      "1it [00:00,  8.27it/s]"
     ]
    },
    {
     "name": "stdout",
     "output_type": "stream",
     "text": [
      "Epoch : 15, Train Accuracy : 0.8487333333333333, Test Accuracy : 0.8446\n"
     ]
    },
    {
     "name": "stderr",
     "output_type": "stream",
     "text": [
      "3000it [05:41,  8.78it/s]\n",
      "1it [00:00,  8.50it/s]"
     ]
    },
    {
     "name": "stdout",
     "output_type": "stream",
     "text": [
      "Epoch : 16, Train Accuracy : 0.83995, Test Accuracy : 0.8387\n"
     ]
    },
    {
     "name": "stderr",
     "output_type": "stream",
     "text": [
      "3000it [05:42,  8.76it/s]\n",
      "1it [00:00,  8.23it/s]"
     ]
    },
    {
     "name": "stdout",
     "output_type": "stream",
     "text": [
      "Epoch : 17, Train Accuracy : 0.82165, Test Accuracy : 0.8223\n"
     ]
    },
    {
     "name": "stderr",
     "output_type": "stream",
     "text": [
      "3000it [05:40,  8.80it/s]\n",
      "1it [00:00,  8.23it/s]"
     ]
    },
    {
     "name": "stdout",
     "output_type": "stream",
     "text": [
      "Epoch : 18, Train Accuracy : 0.8151166666666667, Test Accuracy : 0.8119\n"
     ]
    },
    {
     "name": "stderr",
     "output_type": "stream",
     "text": [
      "3000it [05:42,  8.77it/s]\n",
      "1it [00:00,  7.97it/s]"
     ]
    },
    {
     "name": "stdout",
     "output_type": "stream",
     "text": [
      "Epoch : 19, Train Accuracy : 0.7743166666666667, Test Accuracy : 0.7744\n"
     ]
    },
    {
     "name": "stderr",
     "output_type": "stream",
     "text": [
      "3000it [05:40,  8.81it/s]\n",
      "1it [00:00,  7.90it/s]"
     ]
    },
    {
     "name": "stdout",
     "output_type": "stream",
     "text": [
      "Epoch : 20, Train Accuracy : 0.7355833333333334, Test Accuracy : 0.7376\n"
     ]
    },
    {
     "name": "stderr",
     "output_type": "stream",
     "text": [
      "3000it [05:38,  8.86it/s]\n",
      "1it [00:00,  8.04it/s]"
     ]
    },
    {
     "name": "stdout",
     "output_type": "stream",
     "text": [
      "Epoch : 21, Train Accuracy : 0.7134666666666667, Test Accuracy : 0.7073\n"
     ]
    },
    {
     "name": "stderr",
     "output_type": "stream",
     "text": [
      "3000it [05:40,  8.81it/s]\n",
      "1it [00:00,  8.23it/s]"
     ]
    },
    {
     "name": "stdout",
     "output_type": "stream",
     "text": [
      "Epoch : 22, Train Accuracy : 0.6883666666666667, Test Accuracy : 0.6855\n"
     ]
    },
    {
     "name": "stderr",
     "output_type": "stream",
     "text": [
      "3000it [05:43,  8.74it/s]\n",
      "1it [00:00,  7.75it/s]"
     ]
    },
    {
     "name": "stdout",
     "output_type": "stream",
     "text": [
      "Epoch : 23, Train Accuracy : 0.6484333333333333, Test Accuracy : 0.6453\n"
     ]
    },
    {
     "name": "stderr",
     "output_type": "stream",
     "text": [
      "3000it [05:46,  8.66it/s]\n",
      "1it [00:00,  8.14it/s]"
     ]
    },
    {
     "name": "stdout",
     "output_type": "stream",
     "text": [
      "Epoch : 24, Train Accuracy : 0.61325, Test Accuracy : 0.6064\n"
     ]
    },
    {
     "name": "stderr",
     "output_type": "stream",
     "text": [
      "3000it [05:45,  8.69it/s]\n",
      "1it [00:00,  7.88it/s]"
     ]
    },
    {
     "name": "stdout",
     "output_type": "stream",
     "text": [
      "Epoch : 25, Train Accuracy : 0.5816, Test Accuracy : 0.58\n"
     ]
    },
    {
     "name": "stderr",
     "output_type": "stream",
     "text": [
      "3000it [05:45,  8.68it/s]\n",
      "1it [00:00,  7.82it/s]"
     ]
    },
    {
     "name": "stdout",
     "output_type": "stream",
     "text": [
      "Epoch : 26, Train Accuracy : 0.5440833333333334, Test Accuracy : 0.5407\n"
     ]
    },
    {
     "name": "stderr",
     "output_type": "stream",
     "text": [
      "3000it [05:45,  8.68it/s]\n",
      "1it [00:00,  8.10it/s]"
     ]
    },
    {
     "name": "stdout",
     "output_type": "stream",
     "text": [
      "Epoch : 27, Train Accuracy : 0.5188166666666667, Test Accuracy : 0.5183\n"
     ]
    },
    {
     "name": "stderr",
     "output_type": "stream",
     "text": [
      "3000it [05:43,  8.73it/s]\n",
      "1it [00:00,  8.06it/s]"
     ]
    },
    {
     "name": "stdout",
     "output_type": "stream",
     "text": [
      "Epoch : 28, Train Accuracy : 0.49845, Test Accuracy : 0.4942\n"
     ]
    },
    {
     "name": "stderr",
     "output_type": "stream",
     "text": [
      "3000it [05:44,  8.72it/s]\n",
      "1it [00:00,  7.73it/s]"
     ]
    },
    {
     "name": "stdout",
     "output_type": "stream",
     "text": [
      "Epoch : 29, Train Accuracy : 0.48206666666666664, Test Accuracy : 0.4793\n"
     ]
    },
    {
     "name": "stderr",
     "output_type": "stream",
     "text": [
      "3000it [05:42,  8.75it/s]\n",
      "1it [00:00,  8.08it/s]"
     ]
    },
    {
     "name": "stdout",
     "output_type": "stream",
     "text": [
      "Epoch : 30, Train Accuracy : 0.46495, Test Accuracy : 0.4576\n"
     ]
    },
    {
     "name": "stderr",
     "output_type": "stream",
     "text": [
      "3000it [05:43,  8.74it/s]\n",
      "1it [00:00,  7.81it/s]"
     ]
    },
    {
     "name": "stdout",
     "output_type": "stream",
     "text": [
      "Epoch : 31, Train Accuracy : 0.43816666666666665, Test Accuracy : 0.4356\n"
     ]
    },
    {
     "name": "stderr",
     "output_type": "stream",
     "text": [
      "3000it [05:42,  8.76it/s]\n",
      "1it [00:00,  7.91it/s]"
     ]
    },
    {
     "name": "stdout",
     "output_type": "stream",
     "text": [
      "Epoch : 32, Train Accuracy : 0.42361666666666664, Test Accuracy : 0.4177\n"
     ]
    },
    {
     "name": "stderr",
     "output_type": "stream",
     "text": [
      "1830it [03:30,  8.75it/s]"
     ]
    }
   ],
   "source": [
    "model = CorInfoMaxBiDirectional_wAutoGradV2(architecture, nc, lambda_, epsilon, activation, \n",
    "                                            optimizer_type = \"sgd\",\n",
    "                                            optim_lr_ff = 0.002, optim_lr_fb = 0.0001, \n",
    "                                            use_stepLR = True, sgd_weight_decay = 0.001, \n",
    "                                            stepLR_step_size = 10*3000)\n",
    "\n",
    "trn_acc_list = []\n",
    "tst_acc_list = []\n",
    "\n",
    "n_epochs = 50\n",
    "\n",
    "for epoch_ in range(n_epochs):\n",
    "    if epoch_ > 12:\n",
    "        neural_lr_start = 0.05\n",
    "    if epoch_ > 17:\n",
    "        neural_lr_start = 0.03\n",
    "    for idx, (x, y) in tqdm(enumerate(train_loader)):\n",
    "        x, y = x.to(device), y.to(device)\n",
    "        #x = activation_inverse(x.view(x.size(0),-1).T, \"sigmoid\")\n",
    "        x = x.view(x.size(0),-1).T\n",
    "        y_one_hot = F.one_hot(y, 10).to(device).T\n",
    "        #y_one_hot = 0.94 * y_one_hot + 0.03 * torch.ones(*y_one_hot.shape, device = device)\n",
    "        y_one_hot = 4*y_one_hot\n",
    "        \n",
    "        model.batch_step(  x, y_one_hot, neural_lr_start, neural_lr_stop, neural_lr_rule,\n",
    "                           neural_lr_decay_multiplier, neural_dynamic_iterations,\n",
    "                         )\n",
    "\n",
    "    trn_acc = evaluatePC(model, train_loader, device, False, \n",
    "                         printing = False)\n",
    "    tst_acc = evaluatePC(model, test_loader, device, False, \n",
    "                         printing = False)\n",
    "    trn_acc_list.append(trn_acc)\n",
    "    tst_acc_list.append(tst_acc)\n",
    "    \n",
    "    print(\"Epoch : {}, Train Accuracy : {}, Test Accuracy : {}\".format(epoch_+1, trn_acc, tst_acc))"
   ]
  },
  {
   "cell_type": "code",
   "execution_count": null,
   "id": "7a7d56f3",
   "metadata": {},
   "outputs": [],
   "source": [
    "# def inverse_leaky_relu(x, negative_slope = 0.1):\n",
    "#     out = torch.zeros(*x.shape)\n",
    "#     out[x >]"
   ]
  },
  {
   "cell_type": "code",
   "execution_count": null,
   "id": "20113615",
   "metadata": {},
   "outputs": [],
   "source": [
    "Wfb[1]['weight'] @ yy + Wfb[1]['bias']"
   ]
  },
  {
   "cell_type": "code",
   "execution_count": null,
   "id": "40bc48ab",
   "metadata": {},
   "outputs": [],
   "source": [
    "torch.clip(Wfb[1]['weight'] @ yy + Wfb[1]['bias'], 1e-3, 1-1e-3)"
   ]
  },
  {
   "cell_type": "code",
   "execution_count": null,
   "id": "9d7da3a4",
   "metadata": {},
   "outputs": [],
   "source": [
    "model.Wfb[1]"
   ]
  },
  {
   "cell_type": "code",
   "execution_count": null,
   "id": "c2aa3ff1",
   "metadata": {},
   "outputs": [],
   "source": [
    "cc = 0\n",
    "yy = torch.randn(10, 1).to(device)\n",
    "yy[cc] = 4\n",
    "Wfb = model.Wfb\n",
    "out = torch.clip(Wfb[0]['weight'] @ activation_inverse(torch.clip(Wfb[1]['weight'] @ yy + Wfb[1]['bias'], 1e-3, 1-1e-3), 'sigmoid') + Wfb[0]['bias'], 1e-3, 1-1e-3).view(28 ,28)\n",
    "out = torch2numpy(out)\n",
    "plt.imshow(out)"
   ]
  },
  {
   "cell_type": "code",
   "execution_count": null,
   "id": "b5e2e1ca",
   "metadata": {},
   "outputs": [],
   "source": []
  },
  {
   "cell_type": "code",
   "execution_count": null,
   "id": "26994c95",
   "metadata": {},
   "outputs": [],
   "source": [
    "def accuracy_topk(output, target, topk=(1,)):\n",
    "    \"\"\"Computes the precision@k for the specified values of k\"\"\"\n",
    "    maxk = max(topk)\n",
    "    batch_size = target.size(0)\n",
    "\n",
    "    _, pred = output.topk(maxk, 1, True, True)\n",
    "    pred = pred.t()\n",
    "    correct = pred.eq(target.view(1, -1).expand_as(pred))\n",
    "\n",
    "    res = []\n",
    "    for k in topk:\n",
    "        correct_k = correct[:k].flatten().float().sum(0)\n",
    "        res.append(correct_k.mul_(100.0 / batch_size))\n",
    "        \n",
    "    result = [res_.item() for res_ in res]\n",
    "    if len(result) == 1:\n",
    "        result = result[0]\n",
    "    return result\n",
    "\n",
    "def evaluatePC_topk(model, loader, device, apply_activation_inverse = True, \n",
    "                    activation_type = \"sigmoid\", topk = [2], printing = True):\n",
    "    # Evaluate Predictive Coding Model on Classification Task\n",
    "    correct=0\n",
    "    phase = 'Train' if loader.dataset.train else 'Test'\n",
    "    \n",
    "    for x, y in loader:\n",
    "        if apply_activation_inverse:\n",
    "            x = activation_inverse(x.view(x.size(0),-1).T, activation_type).to(device)\n",
    "        else:\n",
    "            x = x.view(x.size(0),-1).T.to(device)\n",
    "        batch_size = x.size(1)\n",
    "        y = y.to(device)\n",
    "        \n",
    "        neurons = model.fast_forward(x)\n",
    "\n",
    "        #pred = torch.argmax(neurons[-1], dim=0).squeeze()  \n",
    "        pred = neurons[-1]\n",
    "        correct += accuracy_topk(pred.T, y, topk) * batch_size\n",
    "\n",
    "    acc = correct/len(loader.dataset) \n",
    "    if printing:\n",
    "        print(phase+' accuracy :\\t', acc)   \n",
    "    return acc\n",
    "\n",
    "trn_acc = evaluatePC_topk(model, train_loader, device, False, \n",
    "                     printing = True, topk = [2])\n",
    "tst_acc = evaluatePC_topk(model, test_loader, device, False, \n",
    "                     printing = True, topk = [2])"
   ]
  },
  {
   "cell_type": "code",
   "execution_count": null,
   "id": "c8101e29",
   "metadata": {},
   "outputs": [],
   "source": [
    "for g in model.optimizer.param_groups:\n",
    "    g['lr'] = g['lr']/100"
   ]
  },
  {
   "cell_type": "code",
   "execution_count": null,
   "id": "0629fa79",
   "metadata": {},
   "outputs": [],
   "source": [
    "\n",
    "\n",
    "for epoch_ in range(n_epochs):\n",
    "    for idx, (x, y) in tqdm(enumerate(train_loader)):\n",
    "        x, y = x.to(device), y.to(device)\n",
    "        #x = activation_inverse(x.view(x.size(0),-1).T, \"sigmoid\")\n",
    "        x = x.view(x.size(0),-1).T\n",
    "        y_one_hot = F.one_hot(y, 10).to(device).T\n",
    "        y_one_hot = 0.94 * y_one_hot + 0.03 * torch.ones(*y_one_hot.shape, device = device)\n",
    "        \n",
    "        model.batch_step(  x, y_one_hot, neural_lr_start, neural_lr_stop, neural_lr_rule,\n",
    "                           neural_lr_decay_multiplier, neural_dynamic_iterations,\n",
    "                         )\n",
    "\n",
    "    trn_acc = evaluatePC(model, train_loader, device, False, \n",
    "                         printing = False)\n",
    "    tst_acc = evaluatePC(model, test_loader, device, False, \n",
    "                         printing = False)\n",
    "    trn_acc_list.append(trn_acc)\n",
    "    tst_acc_list.append(tst_acc)\n",
    "    \n",
    "    print(\"Epoch : {}, Train Accuracy : {}, Test Accuracy : {}\".format(epoch_+1, trn_acc, tst_acc))"
   ]
  },
  {
   "cell_type": "code",
   "execution_count": null,
   "id": "e092a82a",
   "metadata": {},
   "outputs": [],
   "source": []
  }
 ],
 "metadata": {
  "kernelspec": {
   "display_name": "Python 3 (ipykernel)",
   "language": "python",
   "name": "python3"
  },
  "language_info": {
   "codemirror_mode": {
    "name": "ipython",
    "version": 3
   },
   "file_extension": ".py",
   "mimetype": "text/x-python",
   "name": "python",
   "nbconvert_exporter": "python",
   "pygments_lexer": "ipython3",
   "version": "3.8.8"
  }
 },
 "nbformat": 4,
 "nbformat_minor": 5
}
