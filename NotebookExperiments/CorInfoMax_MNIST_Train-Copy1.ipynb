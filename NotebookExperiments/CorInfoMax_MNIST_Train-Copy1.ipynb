{
 "cells": [
  {
   "cell_type": "code",
   "execution_count": 1,
   "id": "e39d372d",
   "metadata": {},
   "outputs": [],
   "source": [
    "import sys\n",
    "sys.path.append(\"../src\")\n",
    "import torch\n",
    "import matplotlib.pyplot as plt\n",
    "import numpy as np\n",
    "import torchvision\n",
    "import torch.nn.functional as F\n",
    "\n",
    "import glob\n",
    "import os\n",
    "from datetime import datetime\n",
    "import time\n",
    "import math\n",
    "from tqdm import tqdm\n",
    "\n",
    "from itertools import repeat\n",
    "from torch.nn.parameter import Parameter\n",
    "import collections\n",
    "import matplotlib\n",
    "from torch_utils import *\n",
    "from models import *\n",
    "from visualization import *\n",
    "# matplotlib.use('Agg')"
   ]
  },
  {
   "cell_type": "code",
   "execution_count": 2,
   "id": "2f458ac2",
   "metadata": {},
   "outputs": [],
   "source": [
    "def evaluateCorInfoMaxV3(model, loader, neural_lr_start, neural_lr_stop, neural_lr_rule, \n",
    "                         neural_lr_decay_multiplier,\n",
    "                         neural_dynamic_iterations, device, printing = True):\n",
    "    # Evaluate the model on a dataloader with T steps for the dynamics\n",
    "    #model.eval()\n",
    "    correct=0\n",
    "    phase = 'Train' if loader.dataset.train else 'Test'\n",
    "    \n",
    "    for x, y in loader:\n",
    "#         x = x.view(x.size(0),-1).to(device).T\n",
    "#         x = activation_inverse(2*x.view(x.size(0),-1).T - 1, \"sigmoid\").to(device)\n",
    "        x = activation_inverse(x.view(x.size(0),-1).T , \"sigmoid\").to(device)\n",
    "        y = y.to(device)\n",
    "        \n",
    "        neurons = model.fast_forward(x)\n",
    "        \n",
    "        # dynamics for T time steps\n",
    "        neurons = model.run_neural_dynamics(x, y_one_hot, neurons, neural_lr_start, neural_lr_stop, \n",
    "                                            neural_lr_rule,\n",
    "                                            neural_lr_decay_multiplier, neural_dynamic_iterations, 0, \"test\")\n",
    "        pred = torch.argmax(neurons[-1], dim=0).squeeze()  # in this case prediction is done directly on the last (output) layer of neurons\n",
    "        correct += (y == pred).sum().item()\n",
    "\n",
    "    acc = correct/len(loader.dataset) \n",
    "    if printing:\n",
    "        print(phase+' accuracy :\\t', acc)   \n",
    "    return acc\n",
    "\n",
    "def evaluateCorInfoMaxV4(model, loader, neural_lr_start, neural_lr_stop, neural_lr_rule, \n",
    "                         neural_lr_decay_multiplier,\n",
    "                         neural_dynamic_iterations, device, printing = True):\n",
    "    # Evaluate the model on a dataloader with T steps for the dynamics\n",
    "    #model.eval()\n",
    "    correct=0\n",
    "    phase = 'Train' if loader.dataset.train else 'Test'\n",
    "    \n",
    "    for x, y in loader:\n",
    "#         x = x.view(x.size(0),-1).to(device).T\n",
    "#         x = activation_inverse(2*x.view(x.size(0),-1).T - 1, \"sigmoid\").to(device)\n",
    "        x = activation_inverse(x.view(x.size(0),-1).T, \"sigmoid\").to(device)\n",
    "        y = y.to(device)\n",
    "        \n",
    "        neurons = model.fast_forward(x)\n",
    "        \n",
    "#         # dynamics for T time steps\n",
    "#         neurons = model.run_neural_dynamics(x, y_one_hot, neurons, neural_lr_start, neural_lr_stop, \n",
    "#                                             neural_lr_rule,\n",
    "#                                             neural_lr_decay_multiplier, neural_dynamic_iterations, 0, \"test\")\n",
    "        pred = torch.argmax(neurons[-1], dim=0).squeeze()  # in this case prediction is done directly on the last (output) layer of neurons\n",
    "        correct += (y == pred).sum().item()\n",
    "\n",
    "    acc = correct/len(loader.dataset) \n",
    "    if printing:\n",
    "        print(phase+' accuracy :\\t', acc)   \n",
    "    return acc"
   ]
  },
  {
   "cell_type": "code",
   "execution_count": 3,
   "id": "cea1ff3f",
   "metadata": {},
   "outputs": [
    {
     "data": {
      "text/plain": [
       "device(type='cuda', index=0)"
      ]
     },
     "execution_count": 3,
     "metadata": {},
     "output_type": "execute_result"
    }
   ],
   "source": [
    "device = torch.device('cuda:0' if torch.cuda.is_available() else 'cpu')\n",
    "device"
   ]
  },
  {
   "cell_type": "code",
   "execution_count": 4,
   "id": "4018d2d9",
   "metadata": {},
   "outputs": [],
   "source": [
    "transform = torchvision.transforms.Compose([torchvision.transforms.ToTensor(), \n",
    "                                            torchvision.transforms.Normalize(mean=(0.0,), std=(1.0,))])\n",
    "\n",
    "mnist_dset_train = torchvision.datasets.MNIST('./data', train=True, transform=transform, target_transform=None, download=True)\n",
    "train_loader = torch.utils.data.DataLoader(mnist_dset_train, batch_size=20, shuffle=True, num_workers=0)\n",
    "\n",
    "mnist_dset_test = torchvision.datasets.MNIST('./data', train=False, transform=transform, target_transform=None, download=True)\n",
    "test_loader = torch.utils.data.DataLoader(mnist_dset_test, batch_size=20, shuffle=False, num_workers=0)"
   ]
  },
  {
   "cell_type": "code",
   "execution_count": 5,
   "id": "71519c2b",
   "metadata": {},
   "outputs": [],
   "source": [
    "activation = hard_sigmoid\n",
    "activation_type = \"sigmoid\"\n",
    "architecture = [784, 500, 10]\n",
    "\n",
    "x,y = next(iter(train_loader))\n",
    "x = x.view(x.size(0),-1).to(device).T\n",
    "y_one_hot = F.one_hot(y, 10).to(device).T\n",
    "\n",
    "beta = 1\n",
    "lambda_ = 0.999\n",
    "epsilon = 0.1#0.5\n",
    "one_over_epsilon = 1 / epsilon\n",
    "lr_start = {'ff' : 0.01, 'fb': 0.001, 'lat': 1e-3}\n",
    "neural_lr_start = 0.02\n",
    "neural_lr_stop = 1e-3\n",
    "neural_lr_rule = \"divide_by_slow_loop_index\"\n",
    "neural_lr_decay_multiplier = 0.1\n",
    "neural_dynamic_iterations = 50\n",
    "output_sparsity = True\n",
    "STlambda_lr = 0.005\n",
    "model = CorInfoMaxV2( architecture = architecture, lambda_ = lambda_,\n",
    "                    epsilon = epsilon, activation_type = activation_type,\n",
    "                    output_sparsity = output_sparsity, STlambda_lr = STlambda_lr\n",
    "                  )"
   ]
  },
  {
   "cell_type": "code",
   "execution_count": 6,
   "id": "a6fb16c2",
   "metadata": {},
   "outputs": [
    {
     "name": "stdout",
     "output_type": "stream",
     "text": [
      "Test accuracy :\t 0.1\n"
     ]
    },
    {
     "data": {
      "text/plain": [
       "0.1"
      ]
     },
     "execution_count": 6,
     "metadata": {},
     "output_type": "execute_result"
    }
   ],
   "source": [
    "evaluateCorInfoMaxV3(model, test_loader, neural_lr_start, neural_lr_stop, neural_lr_rule, \n",
    "                         neural_lr_decay_multiplier,\n",
    "                         neural_dynamic_iterations, device, printing = True)"
   ]
  },
  {
   "cell_type": "code",
   "execution_count": 7,
   "id": "5421fb13",
   "metadata": {},
   "outputs": [
    {
     "name": "stderr",
     "output_type": "stream",
     "text": [
      "3000it [02:33, 19.51it/s]\n",
      "2it [00:00, 18.40it/s]"
     ]
    },
    {
     "name": "stdout",
     "output_type": "stream",
     "text": [
      "Epoch : 1, Train Accuracy : 0.4805, Test Accuracy : 0.4842\n"
     ]
    },
    {
     "name": "stderr",
     "output_type": "stream",
     "text": [
      "3000it [02:33, 19.56it/s]\n",
      "3it [00:00, 20.26it/s]"
     ]
    },
    {
     "name": "stdout",
     "output_type": "stream",
     "text": [
      "Epoch : 2, Train Accuracy : 0.5909166666666666, Test Accuracy : 0.5928\n"
     ]
    },
    {
     "name": "stderr",
     "output_type": "stream",
     "text": [
      "3000it [02:33, 19.55it/s]\n",
      "2it [00:00, 17.98it/s]"
     ]
    },
    {
     "name": "stdout",
     "output_type": "stream",
     "text": [
      "Epoch : 3, Train Accuracy : 0.5993166666666667, Test Accuracy : 0.595\n"
     ]
    },
    {
     "name": "stderr",
     "output_type": "stream",
     "text": [
      "3000it [02:33, 19.56it/s]\n",
      "2it [00:00, 18.89it/s]"
     ]
    },
    {
     "name": "stdout",
     "output_type": "stream",
     "text": [
      "Epoch : 4, Train Accuracy : 0.6197833333333334, Test Accuracy : 0.6216\n"
     ]
    },
    {
     "name": "stderr",
     "output_type": "stream",
     "text": [
      "3000it [02:33, 19.56it/s]\n",
      "2it [00:00, 18.10it/s]"
     ]
    },
    {
     "name": "stdout",
     "output_type": "stream",
     "text": [
      "Epoch : 5, Train Accuracy : 0.6461666666666667, Test Accuracy : 0.6501\n"
     ]
    },
    {
     "name": "stderr",
     "output_type": "stream",
     "text": [
      "3000it [02:33, 19.53it/s]\n",
      "2it [00:00, 17.40it/s]"
     ]
    },
    {
     "name": "stdout",
     "output_type": "stream",
     "text": [
      "Epoch : 6, Train Accuracy : 0.6432333333333333, Test Accuracy : 0.6429\n"
     ]
    },
    {
     "name": "stderr",
     "output_type": "stream",
     "text": [
      "3000it [02:33, 19.56it/s]\n",
      "2it [00:00, 18.24it/s]"
     ]
    },
    {
     "name": "stdout",
     "output_type": "stream",
     "text": [
      "Epoch : 7, Train Accuracy : 0.6372333333333333, Test Accuracy : 0.6391\n"
     ]
    },
    {
     "name": "stderr",
     "output_type": "stream",
     "text": [
      "3000it [01:21, 36.59it/s]\n",
      "4it [00:00, 35.87it/s]"
     ]
    },
    {
     "name": "stdout",
     "output_type": "stream",
     "text": [
      "Epoch : 8, Train Accuracy : 0.6000833333333333, Test Accuracy : 0.5947\n"
     ]
    },
    {
     "name": "stderr",
     "output_type": "stream",
     "text": [
      "3000it [01:17, 38.65it/s]\n",
      "4it [00:00, 35.67it/s]"
     ]
    },
    {
     "name": "stdout",
     "output_type": "stream",
     "text": [
      "Epoch : 9, Train Accuracy : 0.62365, Test Accuracy : 0.6222\n"
     ]
    },
    {
     "name": "stderr",
     "output_type": "stream",
     "text": [
      "3000it [01:17, 38.61it/s]\n",
      "4it [00:00, 36.39it/s]"
     ]
    },
    {
     "name": "stdout",
     "output_type": "stream",
     "text": [
      "Epoch : 10, Train Accuracy : 0.5976666666666667, Test Accuracy : 0.594\n"
     ]
    },
    {
     "name": "stderr",
     "output_type": "stream",
     "text": [
      "3000it [01:17, 38.79it/s]\n",
      "4it [00:00, 35.79it/s]"
     ]
    },
    {
     "name": "stdout",
     "output_type": "stream",
     "text": [
      "Epoch : 11, Train Accuracy : 0.62635, Test Accuracy : 0.6271\n"
     ]
    },
    {
     "name": "stderr",
     "output_type": "stream",
     "text": [
      "3000it [01:18, 38.46it/s]\n",
      "4it [00:00, 35.53it/s]"
     ]
    },
    {
     "name": "stdout",
     "output_type": "stream",
     "text": [
      "Epoch : 12, Train Accuracy : 0.59065, Test Accuracy : 0.5865\n"
     ]
    },
    {
     "name": "stderr",
     "output_type": "stream",
     "text": [
      "3000it [01:17, 38.51it/s]\n",
      "4it [00:00, 36.16it/s]"
     ]
    },
    {
     "name": "stdout",
     "output_type": "stream",
     "text": [
      "Epoch : 13, Train Accuracy : 0.6321333333333333, Test Accuracy : 0.6322\n"
     ]
    },
    {
     "name": "stderr",
     "output_type": "stream",
     "text": [
      "3000it [01:17, 38.68it/s]\n",
      "4it [00:00, 35.48it/s]"
     ]
    },
    {
     "name": "stdout",
     "output_type": "stream",
     "text": [
      "Epoch : 14, Train Accuracy : 0.6033333333333334, Test Accuracy : 0.5985\n"
     ]
    },
    {
     "name": "stderr",
     "output_type": "stream",
     "text": [
      "3000it [01:17, 38.59it/s]\n",
      "4it [00:00, 35.82it/s]"
     ]
    },
    {
     "name": "stdout",
     "output_type": "stream",
     "text": [
      "Epoch : 15, Train Accuracy : 0.5715333333333333, Test Accuracy : 0.5651\n"
     ]
    },
    {
     "name": "stderr",
     "output_type": "stream",
     "text": [
      "3000it [01:18, 38.39it/s]\n",
      "4it [00:00, 36.28it/s]"
     ]
    },
    {
     "name": "stdout",
     "output_type": "stream",
     "text": [
      "Epoch : 16, Train Accuracy : 0.6290166666666667, Test Accuracy : 0.6333\n"
     ]
    },
    {
     "name": "stderr",
     "output_type": "stream",
     "text": [
      "3000it [01:17, 38.80it/s]\n",
      "4it [00:00, 35.66it/s]"
     ]
    },
    {
     "name": "stdout",
     "output_type": "stream",
     "text": [
      "Epoch : 17, Train Accuracy : 0.6065666666666667, Test Accuracy : 0.6033\n"
     ]
    },
    {
     "name": "stderr",
     "output_type": "stream",
     "text": [
      "3000it [01:18, 38.46it/s]\n",
      "4it [00:00, 36.42it/s]"
     ]
    },
    {
     "name": "stdout",
     "output_type": "stream",
     "text": [
      "Epoch : 18, Train Accuracy : 0.6156666666666667, Test Accuracy : 0.6171\n"
     ]
    },
    {
     "name": "stderr",
     "output_type": "stream",
     "text": [
      "3000it [01:17, 38.60it/s]\n",
      "4it [00:00, 36.15it/s]"
     ]
    },
    {
     "name": "stdout",
     "output_type": "stream",
     "text": [
      "Epoch : 19, Train Accuracy : 0.5598333333333333, Test Accuracy : 0.5478\n"
     ]
    },
    {
     "name": "stderr",
     "output_type": "stream",
     "text": [
      "3000it [01:20, 37.47it/s]\n",
      "4it [00:00, 35.56it/s]"
     ]
    },
    {
     "name": "stdout",
     "output_type": "stream",
     "text": [
      "Epoch : 20, Train Accuracy : 0.5620166666666667, Test Accuracy : 0.5655\n"
     ]
    },
    {
     "name": "stderr",
     "output_type": "stream",
     "text": [
      "3000it [01:17, 38.50it/s]\n",
      "4it [00:00, 36.10it/s]"
     ]
    },
    {
     "name": "stdout",
     "output_type": "stream",
     "text": [
      "Epoch : 21, Train Accuracy : 0.5372, Test Accuracy : 0.5279\n"
     ]
    },
    {
     "name": "stderr",
     "output_type": "stream",
     "text": [
      "3000it [01:18, 38.40it/s]\n",
      "4it [00:00, 35.67it/s]"
     ]
    },
    {
     "name": "stdout",
     "output_type": "stream",
     "text": [
      "Epoch : 22, Train Accuracy : 0.5388333333333334, Test Accuracy : 0.5286\n"
     ]
    },
    {
     "name": "stderr",
     "output_type": "stream",
     "text": [
      "3000it [01:17, 38.79it/s]\n",
      "4it [00:00, 35.23it/s]"
     ]
    },
    {
     "name": "stdout",
     "output_type": "stream",
     "text": [
      "Epoch : 23, Train Accuracy : 0.5695666666666667, Test Accuracy : 0.5691\n"
     ]
    },
    {
     "name": "stderr",
     "output_type": "stream",
     "text": [
      "3000it [01:17, 38.54it/s]\n",
      "4it [00:00, 35.77it/s]"
     ]
    },
    {
     "name": "stdout",
     "output_type": "stream",
     "text": [
      "Epoch : 24, Train Accuracy : 0.53765, Test Accuracy : 0.5307\n"
     ]
    },
    {
     "name": "stderr",
     "output_type": "stream",
     "text": [
      "3000it [01:17, 38.57it/s]\n",
      "4it [00:00, 36.10it/s]"
     ]
    },
    {
     "name": "stdout",
     "output_type": "stream",
     "text": [
      "Epoch : 25, Train Accuracy : 0.56235, Test Accuracy : 0.5571\n"
     ]
    },
    {
     "name": "stderr",
     "output_type": "stream",
     "text": [
      "3000it [01:17, 38.60it/s]\n",
      "4it [00:00, 35.98it/s]"
     ]
    },
    {
     "name": "stdout",
     "output_type": "stream",
     "text": [
      "Epoch : 26, Train Accuracy : 0.5915833333333333, Test Accuracy : 0.591\n"
     ]
    },
    {
     "name": "stderr",
     "output_type": "stream",
     "text": [
      "3000it [01:17, 38.66it/s]\n",
      "4it [00:00, 35.89it/s]"
     ]
    },
    {
     "name": "stdout",
     "output_type": "stream",
     "text": [
      "Epoch : 27, Train Accuracy : 0.5629666666666666, Test Accuracy : 0.5588\n"
     ]
    },
    {
     "name": "stderr",
     "output_type": "stream",
     "text": [
      "3000it [01:17, 38.61it/s]\n",
      "4it [00:00, 35.35it/s]"
     ]
    },
    {
     "name": "stdout",
     "output_type": "stream",
     "text": [
      "Epoch : 28, Train Accuracy : 0.5804166666666667, Test Accuracy : 0.5816\n"
     ]
    },
    {
     "name": "stderr",
     "output_type": "stream",
     "text": [
      "3000it [01:17, 38.58it/s]\n",
      "4it [00:00, 36.10it/s]"
     ]
    },
    {
     "name": "stdout",
     "output_type": "stream",
     "text": [
      "Epoch : 29, Train Accuracy : 0.50765, Test Accuracy : 0.5022\n"
     ]
    },
    {
     "name": "stderr",
     "output_type": "stream",
     "text": [
      "3000it [01:17, 38.53it/s]\n",
      "4it [00:00, 35.76it/s]"
     ]
    },
    {
     "name": "stdout",
     "output_type": "stream",
     "text": [
      "Epoch : 30, Train Accuracy : 0.09871666666666666, Test Accuracy : 0.098\n"
     ]
    },
    {
     "name": "stderr",
     "output_type": "stream",
     "text": [
      "3000it [01:17, 38.88it/s]\n",
      "4it [00:00, 35.49it/s]"
     ]
    },
    {
     "name": "stdout",
     "output_type": "stream",
     "text": [
      "Epoch : 31, Train Accuracy : 0.09871666666666666, Test Accuracy : 0.098\n"
     ]
    },
    {
     "name": "stderr",
     "output_type": "stream",
     "text": [
      "3000it [01:17, 38.65it/s]\n",
      "4it [00:00, 36.21it/s]"
     ]
    },
    {
     "name": "stdout",
     "output_type": "stream",
     "text": [
      "Epoch : 32, Train Accuracy : 0.09871666666666666, Test Accuracy : 0.098\n"
     ]
    },
    {
     "name": "stderr",
     "output_type": "stream",
     "text": [
      "3000it [01:17, 38.70it/s]\n",
      "4it [00:00, 35.99it/s]"
     ]
    },
    {
     "name": "stdout",
     "output_type": "stream",
     "text": [
      "Epoch : 33, Train Accuracy : 0.09871666666666666, Test Accuracy : 0.098\n"
     ]
    },
    {
     "name": "stderr",
     "output_type": "stream",
     "text": [
      "3000it [01:17, 38.57it/s]\n",
      "4it [00:00, 36.09it/s]"
     ]
    },
    {
     "name": "stdout",
     "output_type": "stream",
     "text": [
      "Epoch : 34, Train Accuracy : 0.09871666666666666, Test Accuracy : 0.098\n"
     ]
    },
    {
     "name": "stderr",
     "output_type": "stream",
     "text": [
      "3000it [01:18, 38.46it/s]\n",
      "4it [00:00, 35.92it/s]"
     ]
    },
    {
     "name": "stdout",
     "output_type": "stream",
     "text": [
      "Epoch : 35, Train Accuracy : 0.09871666666666666, Test Accuracy : 0.098\n"
     ]
    },
    {
     "name": "stderr",
     "output_type": "stream",
     "text": [
      "3000it [01:17, 38.76it/s]\n",
      "4it [00:00, 35.82it/s]"
     ]
    },
    {
     "name": "stdout",
     "output_type": "stream",
     "text": [
      "Epoch : 36, Train Accuracy : 0.09871666666666666, Test Accuracy : 0.098\n"
     ]
    },
    {
     "name": "stderr",
     "output_type": "stream",
     "text": [
      "3000it [01:17, 38.49it/s]\n",
      "4it [00:00, 35.61it/s]"
     ]
    },
    {
     "name": "stdout",
     "output_type": "stream",
     "text": [
      "Epoch : 37, Train Accuracy : 0.09871666666666666, Test Accuracy : 0.098\n"
     ]
    },
    {
     "name": "stderr",
     "output_type": "stream",
     "text": [
      "3000it [01:17, 38.49it/s]\n",
      "4it [00:00, 35.56it/s]"
     ]
    },
    {
     "name": "stdout",
     "output_type": "stream",
     "text": [
      "Epoch : 38, Train Accuracy : 0.09871666666666666, Test Accuracy : 0.098\n"
     ]
    },
    {
     "name": "stderr",
     "output_type": "stream",
     "text": [
      "3000it [01:17, 38.47it/s]\n",
      "4it [00:00, 35.73it/s]"
     ]
    },
    {
     "name": "stdout",
     "output_type": "stream",
     "text": [
      "Epoch : 39, Train Accuracy : 0.09871666666666666, Test Accuracy : 0.098\n"
     ]
    },
    {
     "name": "stderr",
     "output_type": "stream",
     "text": [
      "3000it [01:18, 38.37it/s]\n",
      "4it [00:00, 35.57it/s]"
     ]
    },
    {
     "name": "stdout",
     "output_type": "stream",
     "text": [
      "Epoch : 40, Train Accuracy : 0.09871666666666666, Test Accuracy : 0.098\n"
     ]
    },
    {
     "name": "stderr",
     "output_type": "stream",
     "text": [
      "3000it [01:18, 38.30it/s]\n",
      "4it [00:00, 35.72it/s]"
     ]
    },
    {
     "name": "stdout",
     "output_type": "stream",
     "text": [
      "Epoch : 41, Train Accuracy : 0.09871666666666666, Test Accuracy : 0.098\n"
     ]
    },
    {
     "name": "stderr",
     "output_type": "stream",
     "text": [
      "3000it [01:18, 38.41it/s]\n",
      "4it [00:00, 35.93it/s]"
     ]
    },
    {
     "name": "stdout",
     "output_type": "stream",
     "text": [
      "Epoch : 42, Train Accuracy : 0.09871666666666666, Test Accuracy : 0.098\n"
     ]
    },
    {
     "name": "stderr",
     "output_type": "stream",
     "text": [
      "3000it [01:18, 38.23it/s]\n",
      "4it [00:00, 34.91it/s]"
     ]
    },
    {
     "name": "stdout",
     "output_type": "stream",
     "text": [
      "Epoch : 43, Train Accuracy : 0.09871666666666666, Test Accuracy : 0.098\n"
     ]
    },
    {
     "name": "stderr",
     "output_type": "stream",
     "text": [
      "3000it [01:18, 38.38it/s]\n",
      "4it [00:00, 35.44it/s]"
     ]
    },
    {
     "name": "stdout",
     "output_type": "stream",
     "text": [
      "Epoch : 44, Train Accuracy : 0.09871666666666666, Test Accuracy : 0.098\n"
     ]
    },
    {
     "name": "stderr",
     "output_type": "stream",
     "text": [
      "3000it [01:18, 38.34it/s]\n",
      "4it [00:00, 36.26it/s]"
     ]
    },
    {
     "name": "stdout",
     "output_type": "stream",
     "text": [
      "Epoch : 45, Train Accuracy : 0.09871666666666666, Test Accuracy : 0.098\n"
     ]
    },
    {
     "name": "stderr",
     "output_type": "stream",
     "text": [
      "3000it [01:17, 38.56it/s]\n",
      "4it [00:00, 36.50it/s]"
     ]
    },
    {
     "name": "stdout",
     "output_type": "stream",
     "text": [
      "Epoch : 46, Train Accuracy : 0.09871666666666666, Test Accuracy : 0.098\n"
     ]
    },
    {
     "name": "stderr",
     "output_type": "stream",
     "text": [
      "3000it [01:18, 38.32it/s]\n",
      "4it [00:00, 35.58it/s]"
     ]
    },
    {
     "name": "stdout",
     "output_type": "stream",
     "text": [
      "Epoch : 47, Train Accuracy : 0.09871666666666666, Test Accuracy : 0.098\n"
     ]
    },
    {
     "name": "stderr",
     "output_type": "stream",
     "text": [
      "3000it [01:17, 38.68it/s]\n",
      "2it [00:00, 17.92it/s]"
     ]
    },
    {
     "name": "stdout",
     "output_type": "stream",
     "text": [
      "Epoch : 48, Train Accuracy : 0.09871666666666666, Test Accuracy : 0.098\n"
     ]
    },
    {
     "name": "stderr",
     "output_type": "stream",
     "text": [
      "3000it [01:18, 38.40it/s]\n",
      "4it [00:00, 35.46it/s]"
     ]
    },
    {
     "name": "stdout",
     "output_type": "stream",
     "text": [
      "Epoch : 49, Train Accuracy : 0.09871666666666666, Test Accuracy : 0.098\n"
     ]
    },
    {
     "name": "stderr",
     "output_type": "stream",
     "text": [
      "3000it [01:17, 38.52it/s]\n"
     ]
    },
    {
     "name": "stdout",
     "output_type": "stream",
     "text": [
      "Epoch : 50, Train Accuracy : 0.09871666666666666, Test Accuracy : 0.098\n"
     ]
    }
   ],
   "source": [
    "trn_acc_list = []\n",
    "tst_acc_list = []\n",
    "\n",
    "n_epochs = 50\n",
    "\n",
    "for epoch_ in range(n_epochs):\n",
    "    lr = {'ff' : lr_start['ff'] * (0.99)**epoch_, 'fb' : lr_start['fb'] * (0.99)**epoch_}\n",
    "    for idx, (x, y) in tqdm(enumerate(train_loader)):\n",
    "        x, y = x.to(device), y.to(device)\n",
    "#         x = x.view(x.size(0),-1).T\n",
    "#         x = activation_inverse(2*x.view(x.size(0),-1).T - 1, \"sigmoid\")\n",
    "        x = activation_inverse(x.view(x.size(0),-1).T, \"sigmoid\")\n",
    "        y_one_hot = F.one_hot(y, 10).to(device).T\n",
    "\n",
    "        _ = model.batch_step(  x, y_one_hot, lr, neural_lr_start, neural_lr_stop, neural_lr_rule,\n",
    "                                    neural_lr_decay_multiplier, neural_dynamic_iterations, beta)\n",
    "\n",
    "    trn_acc = evaluateCorInfoMaxV4(  model, train_loader, neural_lr_start, neural_lr_stop, neural_lr_rule, \n",
    "                                     neural_lr_decay_multiplier,\n",
    "                                     neural_dynamic_iterations, device, printing = False)\n",
    "    tst_acc = evaluateCorInfoMaxV4(  model, test_loader, neural_lr_start, neural_lr_stop, neural_lr_rule, \n",
    "                                     neural_lr_decay_multiplier,\n",
    "                                     neural_dynamic_iterations, device, printing = False)\n",
    "    trn_acc_list.append(trn_acc)\n",
    "    tst_acc_list.append(tst_acc)\n",
    "    \n",
    "    print(\"Epoch : {}, Train Accuracy : {}, Test Accuracy : {}\".format(epoch_+1, trn_acc, tst_acc))"
   ]
  },
  {
   "cell_type": "code",
   "execution_count": 8,
   "id": "b11504b0",
   "metadata": {},
   "outputs": [
    {
     "data": {
      "text/plain": [
       "array([{'weight': tensor([[nan, nan, nan,  ..., nan, nan, nan],\n",
       "               [nan, nan, nan,  ..., nan, nan, nan],\n",
       "               [nan, nan, nan,  ..., nan, nan, nan],\n",
       "               ...,\n",
       "               [nan, nan, nan,  ..., nan, nan, nan],\n",
       "               [nan, nan, nan,  ..., nan, nan, nan],\n",
       "               [nan, nan, nan,  ..., nan, nan, nan]], device='cuda:0'), 'bias': tensor([[nan],\n",
       "               [nan],\n",
       "               [nan],\n",
       "               [nan],\n",
       "               [nan],\n",
       "               [nan],\n",
       "               [nan],\n",
       "               [nan],\n",
       "               [nan],\n",
       "               [nan],\n",
       "               [nan],\n",
       "               [nan],\n",
       "               [nan],\n",
       "               [nan],\n",
       "               [nan],\n",
       "               [nan],\n",
       "               [nan],\n",
       "               [nan],\n",
       "               [nan],\n",
       "               [nan],\n",
       "               [nan],\n",
       "               [nan],\n",
       "               [nan],\n",
       "               [nan],\n",
       "               [nan],\n",
       "               [nan],\n",
       "               [nan],\n",
       "               [nan],\n",
       "               [nan],\n",
       "               [nan],\n",
       "               [nan],\n",
       "               [nan],\n",
       "               [nan],\n",
       "               [nan],\n",
       "               [nan],\n",
       "               [nan],\n",
       "               [nan],\n",
       "               [nan],\n",
       "               [nan],\n",
       "               [nan],\n",
       "               [nan],\n",
       "               [nan],\n",
       "               [nan],\n",
       "               [nan],\n",
       "               [nan],\n",
       "               [nan],\n",
       "               [nan],\n",
       "               [nan],\n",
       "               [nan],\n",
       "               [nan],\n",
       "               [nan],\n",
       "               [nan],\n",
       "               [nan],\n",
       "               [nan],\n",
       "               [nan],\n",
       "               [nan],\n",
       "               [nan],\n",
       "               [nan],\n",
       "               [nan],\n",
       "               [nan],\n",
       "               [nan],\n",
       "               [nan],\n",
       "               [nan],\n",
       "               [nan],\n",
       "               [nan],\n",
       "               [nan],\n",
       "               [nan],\n",
       "               [nan],\n",
       "               [nan],\n",
       "               [nan],\n",
       "               [nan],\n",
       "               [nan],\n",
       "               [nan],\n",
       "               [nan],\n",
       "               [nan],\n",
       "               [nan],\n",
       "               [nan],\n",
       "               [nan],\n",
       "               [nan],\n",
       "               [nan],\n",
       "               [nan],\n",
       "               [nan],\n",
       "               [nan],\n",
       "               [nan],\n",
       "               [nan],\n",
       "               [nan],\n",
       "               [nan],\n",
       "               [nan],\n",
       "               [nan],\n",
       "               [nan],\n",
       "               [nan],\n",
       "               [nan],\n",
       "               [nan],\n",
       "               [nan],\n",
       "               [nan],\n",
       "               [nan],\n",
       "               [nan],\n",
       "               [nan],\n",
       "               [nan],\n",
       "               [nan],\n",
       "               [nan],\n",
       "               [nan],\n",
       "               [nan],\n",
       "               [nan],\n",
       "               [nan],\n",
       "               [nan],\n",
       "               [nan],\n",
       "               [nan],\n",
       "               [nan],\n",
       "               [nan],\n",
       "               [nan],\n",
       "               [nan],\n",
       "               [nan],\n",
       "               [nan],\n",
       "               [nan],\n",
       "               [nan],\n",
       "               [nan],\n",
       "               [nan],\n",
       "               [nan],\n",
       "               [nan],\n",
       "               [nan],\n",
       "               [nan],\n",
       "               [nan],\n",
       "               [nan],\n",
       "               [nan],\n",
       "               [nan],\n",
       "               [nan],\n",
       "               [nan],\n",
       "               [nan],\n",
       "               [nan],\n",
       "               [nan],\n",
       "               [nan],\n",
       "               [nan],\n",
       "               [nan],\n",
       "               [nan],\n",
       "               [nan],\n",
       "               [nan],\n",
       "               [nan],\n",
       "               [nan],\n",
       "               [nan],\n",
       "               [nan],\n",
       "               [nan],\n",
       "               [nan],\n",
       "               [nan],\n",
       "               [nan],\n",
       "               [nan],\n",
       "               [nan],\n",
       "               [nan],\n",
       "               [nan],\n",
       "               [nan],\n",
       "               [nan],\n",
       "               [nan],\n",
       "               [nan],\n",
       "               [nan],\n",
       "               [nan],\n",
       "               [nan],\n",
       "               [nan],\n",
       "               [nan],\n",
       "               [nan],\n",
       "               [nan],\n",
       "               [nan],\n",
       "               [nan],\n",
       "               [nan],\n",
       "               [nan],\n",
       "               [nan],\n",
       "               [nan],\n",
       "               [nan],\n",
       "               [nan],\n",
       "               [nan],\n",
       "               [nan],\n",
       "               [nan],\n",
       "               [nan],\n",
       "               [nan],\n",
       "               [nan],\n",
       "               [nan],\n",
       "               [nan],\n",
       "               [nan],\n",
       "               [nan],\n",
       "               [nan],\n",
       "               [nan],\n",
       "               [nan],\n",
       "               [nan],\n",
       "               [nan],\n",
       "               [nan],\n",
       "               [nan],\n",
       "               [nan],\n",
       "               [nan],\n",
       "               [nan],\n",
       "               [nan],\n",
       "               [nan],\n",
       "               [nan],\n",
       "               [nan],\n",
       "               [nan],\n",
       "               [nan],\n",
       "               [nan],\n",
       "               [nan],\n",
       "               [nan],\n",
       "               [nan],\n",
       "               [nan],\n",
       "               [nan],\n",
       "               [nan],\n",
       "               [nan],\n",
       "               [nan],\n",
       "               [nan],\n",
       "               [nan],\n",
       "               [nan],\n",
       "               [nan],\n",
       "               [nan],\n",
       "               [nan],\n",
       "               [nan],\n",
       "               [nan],\n",
       "               [nan],\n",
       "               [nan],\n",
       "               [nan],\n",
       "               [nan],\n",
       "               [nan],\n",
       "               [nan],\n",
       "               [nan],\n",
       "               [nan],\n",
       "               [nan],\n",
       "               [nan],\n",
       "               [nan],\n",
       "               [nan],\n",
       "               [nan],\n",
       "               [nan],\n",
       "               [nan],\n",
       "               [nan],\n",
       "               [nan],\n",
       "               [nan],\n",
       "               [nan],\n",
       "               [nan],\n",
       "               [nan],\n",
       "               [nan],\n",
       "               [nan],\n",
       "               [nan],\n",
       "               [nan],\n",
       "               [nan],\n",
       "               [nan],\n",
       "               [nan],\n",
       "               [nan],\n",
       "               [nan],\n",
       "               [nan],\n",
       "               [nan],\n",
       "               [nan],\n",
       "               [nan],\n",
       "               [nan],\n",
       "               [nan],\n",
       "               [nan],\n",
       "               [nan],\n",
       "               [nan],\n",
       "               [nan],\n",
       "               [nan],\n",
       "               [nan],\n",
       "               [nan],\n",
       "               [nan],\n",
       "               [nan],\n",
       "               [nan],\n",
       "               [nan],\n",
       "               [nan],\n",
       "               [nan],\n",
       "               [nan],\n",
       "               [nan],\n",
       "               [nan],\n",
       "               [nan],\n",
       "               [nan],\n",
       "               [nan],\n",
       "               [nan],\n",
       "               [nan],\n",
       "               [nan],\n",
       "               [nan],\n",
       "               [nan],\n",
       "               [nan],\n",
       "               [nan],\n",
       "               [nan],\n",
       "               [nan],\n",
       "               [nan],\n",
       "               [nan],\n",
       "               [nan],\n",
       "               [nan],\n",
       "               [nan],\n",
       "               [nan],\n",
       "               [nan],\n",
       "               [nan],\n",
       "               [nan],\n",
       "               [nan],\n",
       "               [nan],\n",
       "               [nan],\n",
       "               [nan],\n",
       "               [nan],\n",
       "               [nan],\n",
       "               [nan],\n",
       "               [nan],\n",
       "               [nan],\n",
       "               [nan],\n",
       "               [nan],\n",
       "               [nan],\n",
       "               [nan],\n",
       "               [nan],\n",
       "               [nan],\n",
       "               [nan],\n",
       "               [nan],\n",
       "               [nan],\n",
       "               [nan],\n",
       "               [nan],\n",
       "               [nan],\n",
       "               [nan],\n",
       "               [nan],\n",
       "               [nan],\n",
       "               [nan],\n",
       "               [nan],\n",
       "               [nan],\n",
       "               [nan],\n",
       "               [nan],\n",
       "               [nan],\n",
       "               [nan],\n",
       "               [nan],\n",
       "               [nan],\n",
       "               [nan],\n",
       "               [nan],\n",
       "               [nan],\n",
       "               [nan],\n",
       "               [nan],\n",
       "               [nan],\n",
       "               [nan],\n",
       "               [nan],\n",
       "               [nan],\n",
       "               [nan],\n",
       "               [nan],\n",
       "               [nan],\n",
       "               [nan],\n",
       "               [nan],\n",
       "               [nan],\n",
       "               [nan],\n",
       "               [nan],\n",
       "               [nan],\n",
       "               [nan],\n",
       "               [nan],\n",
       "               [nan],\n",
       "               [nan],\n",
       "               [nan],\n",
       "               [nan],\n",
       "               [nan],\n",
       "               [nan],\n",
       "               [nan],\n",
       "               [nan],\n",
       "               [nan],\n",
       "               [nan],\n",
       "               [nan],\n",
       "               [nan],\n",
       "               [nan],\n",
       "               [nan],\n",
       "               [nan],\n",
       "               [nan],\n",
       "               [nan],\n",
       "               [nan],\n",
       "               [nan],\n",
       "               [nan],\n",
       "               [nan],\n",
       "               [nan],\n",
       "               [nan],\n",
       "               [nan],\n",
       "               [nan],\n",
       "               [nan],\n",
       "               [nan],\n",
       "               [nan],\n",
       "               [nan],\n",
       "               [nan],\n",
       "               [nan],\n",
       "               [nan],\n",
       "               [nan],\n",
       "               [nan],\n",
       "               [nan],\n",
       "               [nan],\n",
       "               [nan],\n",
       "               [nan],\n",
       "               [nan],\n",
       "               [nan],\n",
       "               [nan],\n",
       "               [nan],\n",
       "               [nan],\n",
       "               [nan],\n",
       "               [nan],\n",
       "               [nan],\n",
       "               [nan],\n",
       "               [nan],\n",
       "               [nan],\n",
       "               [nan],\n",
       "               [nan],\n",
       "               [nan],\n",
       "               [nan],\n",
       "               [nan],\n",
       "               [nan],\n",
       "               [nan],\n",
       "               [nan],\n",
       "               [nan],\n",
       "               [nan],\n",
       "               [nan],\n",
       "               [nan],\n",
       "               [nan],\n",
       "               [nan],\n",
       "               [nan],\n",
       "               [nan],\n",
       "               [nan],\n",
       "               [nan],\n",
       "               [nan],\n",
       "               [nan],\n",
       "               [nan],\n",
       "               [nan],\n",
       "               [nan],\n",
       "               [nan],\n",
       "               [nan],\n",
       "               [nan],\n",
       "               [nan],\n",
       "               [nan],\n",
       "               [nan],\n",
       "               [nan],\n",
       "               [nan],\n",
       "               [nan],\n",
       "               [nan],\n",
       "               [nan],\n",
       "               [nan],\n",
       "               [nan],\n",
       "               [nan],\n",
       "               [nan],\n",
       "               [nan],\n",
       "               [nan],\n",
       "               [nan],\n",
       "               [nan],\n",
       "               [nan],\n",
       "               [nan],\n",
       "               [nan],\n",
       "               [nan],\n",
       "               [nan],\n",
       "               [nan],\n",
       "               [nan],\n",
       "               [nan],\n",
       "               [nan],\n",
       "               [nan],\n",
       "               [nan],\n",
       "               [nan],\n",
       "               [nan],\n",
       "               [nan],\n",
       "               [nan],\n",
       "               [nan],\n",
       "               [nan],\n",
       "               [nan],\n",
       "               [nan],\n",
       "               [nan],\n",
       "               [nan],\n",
       "               [nan],\n",
       "               [nan],\n",
       "               [nan],\n",
       "               [nan],\n",
       "               [nan],\n",
       "               [nan],\n",
       "               [nan],\n",
       "               [nan],\n",
       "               [nan],\n",
       "               [nan],\n",
       "               [nan],\n",
       "               [nan],\n",
       "               [nan],\n",
       "               [nan],\n",
       "               [nan],\n",
       "               [nan],\n",
       "               [nan],\n",
       "               [nan],\n",
       "               [nan],\n",
       "               [nan],\n",
       "               [nan],\n",
       "               [nan],\n",
       "               [nan],\n",
       "               [nan],\n",
       "               [nan],\n",
       "               [nan],\n",
       "               [nan],\n",
       "               [nan],\n",
       "               [nan],\n",
       "               [nan],\n",
       "               [nan],\n",
       "               [nan],\n",
       "               [nan],\n",
       "               [nan],\n",
       "               [nan],\n",
       "               [nan],\n",
       "               [nan],\n",
       "               [nan],\n",
       "               [nan],\n",
       "               [nan],\n",
       "               [nan],\n",
       "               [nan],\n",
       "               [nan],\n",
       "               [nan],\n",
       "               [nan],\n",
       "               [nan],\n",
       "               [nan],\n",
       "               [nan],\n",
       "               [nan],\n",
       "               [nan],\n",
       "               [nan]], device='cuda:0')}                                                      ,\n",
       "       {'weight': tensor([[nan, nan, nan,  ..., nan, nan, nan],\n",
       "               [nan, nan, nan,  ..., nan, nan, nan],\n",
       "               [nan, nan, nan,  ..., nan, nan, nan],\n",
       "               ...,\n",
       "               [nan, nan, nan,  ..., nan, nan, nan],\n",
       "               [nan, nan, nan,  ..., nan, nan, nan],\n",
       "               [nan, nan, nan,  ..., nan, nan, nan]], device='cuda:0'), 'bias': tensor([[nan],\n",
       "               [nan],\n",
       "               [nan],\n",
       "               [nan],\n",
       "               [nan],\n",
       "               [nan],\n",
       "               [nan],\n",
       "               [nan],\n",
       "               [nan],\n",
       "               [nan]], device='cuda:0')}                                                      ],\n",
       "      dtype=object)"
      ]
     },
     "execution_count": 8,
     "metadata": {},
     "output_type": "execute_result"
    }
   ],
   "source": [
    "model.Wff"
   ]
  },
  {
   "cell_type": "code",
   "execution_count": 9,
   "id": "1c9b11b3",
   "metadata": {},
   "outputs": [
    {
     "name": "stdout",
     "output_type": "stream",
     "text": [
      "Epoch : 50, Train Accuracy : 0.09871666666666666, Test Accuracy : 0.098\n"
     ]
    }
   ],
   "source": [
    "trn_acc = evaluateCorInfoMaxV4(  model, train_loader, neural_lr_start, neural_lr_stop, neural_lr_rule, \n",
    "                                 neural_lr_decay_multiplier,\n",
    "                                 neural_dynamic_iterations, device, printing = False)\n",
    "tst_acc = evaluateCorInfoMaxV4(  model, test_loader, neural_lr_start, neural_lr_stop, neural_lr_rule, \n",
    "                                 neural_lr_decay_multiplier,\n",
    "                                 neural_dynamic_iterations, device, printing = False)\n",
    "trn_acc_list.append(trn_acc)\n",
    "tst_acc_list.append(tst_acc)\n",
    "\n",
    "print(\"Epoch : {}, Train Accuracy : {}, Test Accuracy : {}\".format(epoch_+1, trn_acc, tst_acc))"
   ]
  },
  {
   "cell_type": "code",
   "execution_count": 10,
   "id": "1ad465f4",
   "metadata": {},
   "outputs": [
    {
     "name": "stdout",
     "output_type": "stream",
     "text": [
      "Epoch : 50, Train Accuracy : 0.09871666666666666, Test Accuracy : 0.098\n"
     ]
    }
   ],
   "source": [
    "neural_lr_start = 0.1\n",
    "neural_lr_stop = 1e-3\n",
    "neural_lr_rule = \"divide_by_slow_loop_index\"\n",
    "neural_lr_decay_multiplier = 0.1\n",
    "neural_dynamic_iterations = 50\n",
    "output_sparsity = True\n",
    "STlambda_lr = 0.01\n",
    "\n",
    "trn_acc = evaluateCorInfoMaxV3(  model, train_loader, neural_lr_start, neural_lr_stop, neural_lr_rule, \n",
    "                                 neural_lr_decay_multiplier,\n",
    "                                 neural_dynamic_iterations, device, printing = False)\n",
    "tst_acc = evaluateCorInfoMaxV3(  model, test_loader, neural_lr_start, neural_lr_stop, neural_lr_rule, \n",
    "                                 neural_lr_decay_multiplier,\n",
    "                                 neural_dynamic_iterations, device, printing = False)\n",
    "trn_acc_list.append(trn_acc)\n",
    "tst_acc_list.append(tst_acc)\n",
    "print(\"Epoch : {}, Train Accuracy : {}, Test Accuracy : {}\".format(epoch_+1, trn_acc, tst_acc))"
   ]
  },
  {
   "cell_type": "code",
   "execution_count": 11,
   "id": "45ff16b2",
   "metadata": {},
   "outputs": [
    {
     "name": "stdout",
     "output_type": "stream",
     "text": [
      "Epoch : 50, Train Accuracy : 0.09871666666666666, Test Accuracy : 0.098\n"
     ]
    }
   ],
   "source": [
    "print(\"Epoch : {}, Train Accuracy : {}, Test Accuracy : {}\".format(epoch_+1, trn_acc, tst_acc))"
   ]
  },
  {
   "cell_type": "code",
   "execution_count": null,
   "id": "3e7f8950",
   "metadata": {},
   "outputs": [],
   "source": []
  },
  {
   "cell_type": "code",
   "execution_count": null,
   "id": "4f229c18",
   "metadata": {},
   "outputs": [],
   "source": []
  },
  {
   "cell_type": "code",
   "execution_count": null,
   "id": "8d3d34ae",
   "metadata": {},
   "outputs": [],
   "source": []
  },
  {
   "cell_type": "code",
   "execution_count": null,
   "id": "0db52d94",
   "metadata": {},
   "outputs": [],
   "source": []
  },
  {
   "cell_type": "code",
   "execution_count": null,
   "id": "0727d327",
   "metadata": {},
   "outputs": [],
   "source": []
  }
 ],
 "metadata": {
  "kernelspec": {
   "display_name": "Python 3 (ipykernel)",
   "language": "python",
   "name": "python3"
  },
  "language_info": {
   "codemirror_mode": {
    "name": "ipython",
    "version": 3
   },
   "file_extension": ".py",
   "mimetype": "text/x-python",
   "name": "python",
   "nbconvert_exporter": "python",
   "pygments_lexer": "ipython3",
   "version": "3.8.8"
  }
 },
 "nbformat": 4,
 "nbformat_minor": 5
}
