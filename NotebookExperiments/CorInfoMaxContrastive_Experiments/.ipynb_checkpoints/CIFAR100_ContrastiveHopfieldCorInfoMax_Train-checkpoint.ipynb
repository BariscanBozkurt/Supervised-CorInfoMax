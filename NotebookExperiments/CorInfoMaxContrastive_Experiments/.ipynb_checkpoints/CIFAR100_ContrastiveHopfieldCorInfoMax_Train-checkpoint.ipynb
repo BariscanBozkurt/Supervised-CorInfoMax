{
 "cells": [
  {
   "cell_type": "code",
   "execution_count": 1,
   "id": "89b20c38",
   "metadata": {},
   "outputs": [],
   "source": [
    "import sys\n",
    "sys.path.append(\"../../src\")\n",
    "import torch\n",
    "import matplotlib.pyplot as plt\n",
    "import numpy as np\n",
    "import torchvision\n",
    "import torch.nn.functional as F\n",
    "\n",
    "import glob\n",
    "import os\n",
    "from datetime import datetime\n",
    "import time\n",
    "import math\n",
    "from tqdm import tqdm\n",
    "\n",
    "from itertools import repeat\n",
    "from torch.nn.parameter import Parameter\n",
    "import collections\n",
    "import matplotlib\n",
    "from torch_utils import *\n",
    "from ContrastiveModels import *\n",
    "from visualization import *\n",
    "# matplotlib.use('Agg')"
   ]
  },
  {
   "cell_type": "code",
   "execution_count": 2,
   "id": "ef0c0a15",
   "metadata": {},
   "outputs": [
    {
     "data": {
      "text/plain": [
       "device(type='cuda', index=0)"
      ]
     },
     "execution_count": 2,
     "metadata": {},
     "output_type": "execute_result"
    }
   ],
   "source": [
    "device = torch.device('cuda:0' if torch.cuda.is_available() else 'cpu')\n",
    "device"
   ]
  },
  {
   "cell_type": "code",
   "execution_count": 3,
   "id": "128dc72a",
   "metadata": {},
   "outputs": [
    {
     "name": "stdout",
     "output_type": "stream",
     "text": [
      "Files already downloaded and verified\n",
      "Files already downloaded and verified\n"
     ]
    }
   ],
   "source": [
    "transform = torchvision.transforms.Compose([torchvision.transforms.ToTensor(), \n",
    "                                            torchvision.transforms.Normalize(mean=(0.4914, 0.4822, 0.4465), \n",
    "                                            std=(3*0.2023, 3*0.1994, 3*0.2010))])\n",
    "\n",
    "# transform = torchvision.transforms.Compose([torchvision.transforms.ToTensor(), \n",
    "#                                             torchvision.transforms.Normalize(mean=(0.5071, 0.4865, 0.4409), \n",
    "#                                             std=(0.2648, 0.2542, 0.2733))])\n",
    "\n",
    "# transform = torchvision.transforms.Compose([torchvision.transforms.ToTensor(), \n",
    "#                                             torchvision.transforms.Normalize(mean=(0.0,), std=(1.0,))])\n",
    "\n",
    "cifar_dset_train = torchvision.datasets.CIFAR100('../../data', train=True, transform=transform, target_transform=None, download=True)\n",
    "train_loader = torch.utils.data.DataLoader(cifar_dset_train, batch_size=20, shuffle=True, num_workers=0)\n",
    "\n",
    "cifar_dset_test = torchvision.datasets.CIFAR100('../../data', train=False, transform=transform, target_transform=None, download=True)\n",
    "test_loader = torch.utils.data.DataLoader(cifar_dset_test, batch_size=20, shuffle=False, num_workers=0)"
   ]
  },
  {
   "cell_type": "code",
   "execution_count": 4,
   "id": "8c77e36f",
   "metadata": {},
   "outputs": [],
   "source": [
    "# activation = hard_sigmoid\n",
    "# # architecture = [int(32*32*3), 500, 10]\n",
    "# architecture = [int(32*32*3), 2500, 500, 100]\n",
    "\n",
    "# x,y = next(iter(train_loader))\n",
    "# x = x.view(x.size(0),-1).to(device).T\n",
    "# y_one_hot = F.one_hot(y, 100).to(device).T\n",
    "\n",
    "# beta = 0.2\n",
    "# lambda_ = 0.99999\n",
    "# epsilon = 0.15\n",
    "# one_over_epsilon = 1 / epsilon\n",
    "# lr_start = {'ff' : np.array([0.4, 0.25, 0.2]), 'fb': np.array([np.nan, 0.22, 0.11])}\n",
    "\n",
    "# neural_lr_start = 0.1\n",
    "# neural_lr_stop = 0.001\n",
    "# neural_lr_rule = \"constant\"\n",
    "# neural_lr_decay_multiplier = 0.01\n",
    "# neural_dynamic_iterations_nudged = 10\n",
    "# neural_dynamic_iterations_free = 30\n",
    "# hopfield_g = 0.1\n",
    "# use_random_sign_beta = True\n",
    "# use_three_phase = False\n",
    "# weight_decay = False\n",
    "\n",
    "\n",
    "# activation = hard_sigmoid\n",
    "# # architecture = [int(32*32*3), 500, 10]\n",
    "# architecture = [int(32*32*3), 2000,  100]\n",
    "\n",
    "# beta = 1\n",
    "# lambda_ = 0.99999\n",
    "# epsilon = 0.15\n",
    "# one_over_epsilon = 1 / epsilon\n",
    "# lr_start = {'ff' : np.array([0.1, 0.08]), 'fb': np.array([np.nan, 0.02])}\n",
    "\n",
    "# neural_lr_start = 0.05\n",
    "# neural_lr_stop = 0.001\n",
    "# neural_lr_rule = \"divide_by_slow_loop_index\"\n",
    "# neural_lr_decay_multiplier = 0.01\n",
    "# neural_dynamic_iterations_nudged = 10\n",
    "# neural_dynamic_iterations_free = 50\n",
    "# hopfield_g = 0.1\n",
    "# use_random_sign_beta = True\n",
    "# use_three_phase = False\n",
    "# weight_decay = False\n",
    "\n",
    "\n",
    "### The Below hyperparams reaches to Epoch : 7, (top (1, 5)) Train Accuracy : [0.1252  0.27034], Test Accuracy : [0.1165 0.2551], Epoch : 9, (top (1, 5)) Train Accuracy : [0.14868 0.3013 ], Test Accuracy : [0.1363 0.2833]\n",
    "# activation = hard_sigmoid\n",
    "# architecture = [int(32*32*3), 2000, 1000, 100]\n",
    "\n",
    "# beta = 1\n",
    "# lambda_ = 0.99999\n",
    "# epsilon = 0.15\n",
    "# one_over_epsilon = 1 / epsilon\n",
    "# lr_start =  {'ff' : np.array([0.15, 0.12, 0.07]), 'fb': np.array([np.nan, 0.05, 0.03])}\n",
    "\n",
    "# neural_lr_start = 0.04\n",
    "# neural_lr_stop = 0.001\n",
    "# neural_lr_rule = \"constant\"\n",
    "# neural_lr_decay_multiplier = 0.01\n",
    "# neural_dynamic_iterations_nudged = 20\n",
    "# neural_dynamic_iterations_free = 50\n",
    "# hopfield_g = 0.1\n",
    "# use_random_sign_beta = True\n",
    "# use_three_phase = False\n",
    "# weight_decay = False\n",
    "\n",
    "\n",
    "activation = hard_sigmoid\n",
    "architecture = [int(32*32*3), 2000, 1000, 100]\n",
    "\n",
    "beta = 1\n",
    "lambda_ = 0.99999\n",
    "epsilon = 0.15\n",
    "one_over_epsilon = 1 / epsilon\n",
    "lr_start =  {'ff' : np.array([0.16, 0.13, 0.08]), 'fb': np.array([np.nan, 0.06, 0.04])}\n",
    "\n",
    "neural_lr_start = 0.06\n",
    "neural_lr_stop = 0.001\n",
    "neural_lr_rule = \"constant\"\n",
    "neural_lr_decay_multiplier = 0.01\n",
    "neural_dynamic_iterations_nudged = 20\n",
    "neural_dynamic_iterations_free = 50\n",
    "hopfield_g = 0.1\n",
    "use_random_sign_beta = True\n",
    "use_three_phase = False\n",
    "weight_decay = False\n",
    "\n",
    "model = ContrastiveCorInfoMaxHopfield(architecture = architecture, lambda_ = lambda_, \n",
    "                                      epsilon = epsilon, activation = activation)"
   ]
  },
  {
   "cell_type": "code",
   "execution_count": 5,
   "id": "3448d1d0",
   "metadata": {},
   "outputs": [],
   "source": [
    "# _ = evaluateContrastiveCorInfoMaxHopfield(model, train_loader, hopfield_g,\n",
    "#                                           neural_lr_start, neural_lr_stop, neural_lr_rule, \n",
    "#                                           neural_lr_decay_multiplier, neural_dynamic_iterations_free, device)"
   ]
  },
  {
   "cell_type": "code",
   "execution_count": null,
   "id": "5c6107ac",
   "metadata": {},
   "outputs": [
    {
     "name": "stderr",
     "output_type": "stream",
     "text": [
      "2500it [06:02,  6.90it/s]\n",
      "0it [00:00, ?it/s]"
     ]
    },
    {
     "name": "stdout",
     "output_type": "stream",
     "text": [
      "Epoch : 1, (top (1, 5)) Train Accuracy : [0.03118 0.10584], Test Accuracy : [0.0309 0.1024]\n",
      "Free Information ratio: [0.50570255 0.0261165 ]\n",
      "Nudged Information ratio: [0.50570259 0.02611648]\n"
     ]
    },
    {
     "name": "stderr",
     "output_type": "stream",
     "text": [
      "2500it [05:55,  7.03it/s]\n",
      "0it [00:00, ?it/s]"
     ]
    },
    {
     "name": "stdout",
     "output_type": "stream",
     "text": [
      "Epoch : 2, (top (1, 5)) Train Accuracy : [0.06058 0.1567 ], Test Accuracy : [0.0601 0.1542]\n",
      "Free Information ratio: [0.51835166 0.04100792]\n",
      "Nudged Information ratio: [0.51835176 0.04100789]\n"
     ]
    },
    {
     "name": "stderr",
     "output_type": "stream",
     "text": [
      "2500it [06:02,  6.89it/s]\n",
      "0it [00:00, ?it/s]"
     ]
    },
    {
     "name": "stdout",
     "output_type": "stream",
     "text": [
      "Epoch : 3, (top (1, 5)) Train Accuracy : [0.07338 0.19058], Test Accuracy : [0.0746 0.186 ]\n",
      "Free Information ratio: [0.5519059  0.05125736]\n",
      "Nudged Information ratio: [0.5519059  0.05125728]\n"
     ]
    },
    {
     "name": "stderr",
     "output_type": "stream",
     "text": [
      "2500it [06:02,  6.90it/s]\n",
      "0it [00:00, ?it/s]"
     ]
    },
    {
     "name": "stdout",
     "output_type": "stream",
     "text": [
      "Epoch : 4, (top (1, 5)) Train Accuracy : [0.09358 0.22152], Test Accuracy : [0.0907 0.216 ]\n",
      "Free Information ratio: [0.63135133 0.06497837]\n",
      "Nudged Information ratio: [0.63135122 0.06497821]\n"
     ]
    },
    {
     "name": "stderr",
     "output_type": "stream",
     "text": [
      "2500it [06:02,  6.90it/s]\n",
      "0it [00:00, ?it/s]"
     ]
    },
    {
     "name": "stdout",
     "output_type": "stream",
     "text": [
      "Epoch : 5, (top (1, 5)) Train Accuracy : [0.11146 0.25282], Test Accuracy : [0.1077 0.2418]\n",
      "Free Information ratio: [0.71121305 0.07606693]\n",
      "Nudged Information ratio: [0.71121284 0.07606672]\n"
     ]
    },
    {
     "name": "stderr",
     "output_type": "stream",
     "text": [
      "2500it [06:02,  6.90it/s]\n",
      "0it [00:00, ?it/s]"
     ]
    },
    {
     "name": "stdout",
     "output_type": "stream",
     "text": [
      "Epoch : 6, (top (1, 5)) Train Accuracy : [0.12542 0.27668], Test Accuracy : [0.1165 0.2637]\n",
      "Free Information ratio: [0.67179281 0.06956075]\n",
      "Nudged Information ratio: [0.6717923  0.06956036]\n"
     ]
    },
    {
     "name": "stderr",
     "output_type": "stream",
     "text": [
      "2500it [06:01,  6.91it/s]\n",
      "0it [00:00, ?it/s]"
     ]
    },
    {
     "name": "stdout",
     "output_type": "stream",
     "text": [
      "Epoch : 7, (top (1, 5)) Train Accuracy : [0.1404  0.29754], Test Accuracy : [0.1297 0.2829]\n",
      "Free Information ratio: [0.7481385  0.08251888]\n",
      "Nudged Information ratio: [0.74813795 0.08251842]\n"
     ]
    },
    {
     "name": "stderr",
     "output_type": "stream",
     "text": [
      "2500it [06:02,  6.90it/s]\n",
      "0it [00:00, ?it/s]"
     ]
    },
    {
     "name": "stdout",
     "output_type": "stream",
     "text": [
      "Epoch : 8, (top (1, 5)) Train Accuracy : [0.15274 0.3133 ], Test Accuracy : [0.1368 0.2954]\n",
      "Free Information ratio: [0.77822692 0.08674608]\n",
      "Nudged Information ratio: [0.77822632 0.08674559]\n"
     ]
    },
    {
     "name": "stderr",
     "output_type": "stream",
     "text": [
      "2500it [06:02,  6.90it/s]\n",
      "0it [00:00, ?it/s]"
     ]
    },
    {
     "name": "stdout",
     "output_type": "stream",
     "text": [
      "Epoch : 9, (top (1, 5)) Train Accuracy : [0.16172 0.32278], Test Accuracy : [0.1446 0.3034]\n",
      "Free Information ratio: [0.8292307  0.09351156]\n",
      "Nudged Information ratio: [0.82922988 0.09351096]\n"
     ]
    },
    {
     "name": "stderr",
     "output_type": "stream",
     "text": [
      "2500it [06:02,  6.90it/s]\n",
      "0it [00:00, ?it/s]"
     ]
    },
    {
     "name": "stdout",
     "output_type": "stream",
     "text": [
      "Epoch : 10, (top (1, 5)) Train Accuracy : [0.1692  0.32896], Test Accuracy : [0.1496 0.3088]\n",
      "Free Information ratio: [0.85368278 0.10152082]\n",
      "Nudged Information ratio: [0.85368176 0.10152003]\n"
     ]
    },
    {
     "name": "stderr",
     "output_type": "stream",
     "text": [
      "2500it [06:02,  6.90it/s]\n",
      "0it [00:00, ?it/s]"
     ]
    },
    {
     "name": "stdout",
     "output_type": "stream",
     "text": [
      "Epoch : 11, (top (1, 5)) Train Accuracy : [0.17472 0.33444], Test Accuracy : [0.1552 0.3135]\n",
      "Free Information ratio: [0.90777867 0.10538375]\n",
      "Nudged Information ratio: [0.9077778  0.10538298]\n"
     ]
    },
    {
     "name": "stderr",
     "output_type": "stream",
     "text": [
      "2500it [06:02,  6.90it/s]\n",
      "0it [00:00, ?it/s]"
     ]
    },
    {
     "name": "stdout",
     "output_type": "stream",
     "text": [
      "Epoch : 12, (top (1, 5)) Train Accuracy : [0.18674 0.34654], Test Accuracy : [0.1634 0.3193]\n",
      "Free Information ratio: [0.94578964 0.12299577]\n",
      "Nudged Information ratio: [0.94578857 0.12299492]\n"
     ]
    },
    {
     "name": "stderr",
     "output_type": "stream",
     "text": [
      "2500it [06:02,  6.90it/s]\n",
      "0it [00:00, ?it/s]"
     ]
    },
    {
     "name": "stdout",
     "output_type": "stream",
     "text": [
      "Epoch : 13, (top (1, 5)) Train Accuracy : [0.19386 0.35838], Test Accuracy : [0.1692 0.3294]\n",
      "Free Information ratio: [1.00338097 0.12182823]\n",
      "Nudged Information ratio: [1.00337978 0.12182731]\n"
     ]
    },
    {
     "name": "stderr",
     "output_type": "stream",
     "text": [
      "2500it [06:02,  6.89it/s]\n",
      "0it [00:00, ?it/s]"
     ]
    },
    {
     "name": "stdout",
     "output_type": "stream",
     "text": [
      "Epoch : 14, (top (1, 5)) Train Accuracy : [0.20866 0.36734], Test Accuracy : [0.177  0.3352]\n",
      "Free Information ratio: [0.96191285 0.11830089]\n",
      "Nudged Information ratio: [0.96191162 0.11829991]\n"
     ]
    },
    {
     "name": "stderr",
     "output_type": "stream",
     "text": [
      "2500it [06:03,  6.88it/s]\n",
      "0it [00:00, ?it/s]"
     ]
    },
    {
     "name": "stdout",
     "output_type": "stream",
     "text": [
      "Epoch : 15, (top (1, 5)) Train Accuracy : [0.21468 0.38046], Test Accuracy : [0.1805 0.3446]\n",
      "Free Information ratio: [0.93110389 0.11377757]\n",
      "Nudged Information ratio: [0.9311026 0.1137765]\n"
     ]
    },
    {
     "name": "stderr",
     "output_type": "stream",
     "text": [
      "2500it [06:03,  6.88it/s]\n",
      "0it [00:00, ?it/s]"
     ]
    },
    {
     "name": "stdout",
     "output_type": "stream",
     "text": [
      "Epoch : 16, (top (1, 5)) Train Accuracy : [0.2192  0.38416], Test Accuracy : [0.1835 0.3442]\n",
      "Free Information ratio: [1.00014585 0.12450042]\n",
      "Nudged Information ratio: [1.00014431 0.12449917]\n"
     ]
    },
    {
     "name": "stderr",
     "output_type": "stream",
     "text": [
      "2500it [06:03,  6.88it/s]\n",
      "0it [00:00, ?it/s]"
     ]
    },
    {
     "name": "stdout",
     "output_type": "stream",
     "text": [
      "Epoch : 17, (top (1, 5)) Train Accuracy : [0.23268 0.39328], Test Accuracy : [0.193  0.3509]\n",
      "Free Information ratio: [0.92293686 0.11259603]\n",
      "Nudged Information ratio: [0.9229353  0.11259466]\n"
     ]
    },
    {
     "name": "stderr",
     "output_type": "stream",
     "text": [
      "2500it [06:03,  6.89it/s]\n",
      "0it [00:00, ?it/s]"
     ]
    },
    {
     "name": "stdout",
     "output_type": "stream",
     "text": [
      "Epoch : 18, (top (1, 5)) Train Accuracy : [0.2339  0.39662], Test Accuracy : [0.1896 0.3516]\n",
      "Free Information ratio: [0.98493492 0.1145013 ]\n",
      "Nudged Information ratio: [0.9849332  0.11449986]\n"
     ]
    },
    {
     "name": "stderr",
     "output_type": "stream",
     "text": [
      "2500it [05:14,  7.95it/s]\n",
      "0it [00:00, ?it/s]"
     ]
    },
    {
     "name": "stdout",
     "output_type": "stream",
     "text": [
      "Epoch : 19, (top (1, 5)) Train Accuracy : [0.24154 0.40316], Test Accuracy : [0.1935 0.3529]\n",
      "Free Information ratio: [1.02878206 0.12406209]\n",
      "Nudged Information ratio: [1.02878045 0.1240607 ]\n"
     ]
    },
    {
     "name": "stderr",
     "output_type": "stream",
     "text": [
      "2500it [04:21,  9.56it/s]\n",
      "0it [00:00, ?it/s]"
     ]
    },
    {
     "name": "stdout",
     "output_type": "stream",
     "text": [
      "Epoch : 20, (top (1, 5)) Train Accuracy : [0.24504 0.40918], Test Accuracy : [0.1955 0.3586]\n",
      "Free Information ratio: [1.04233389 0.12911486]\n",
      "Nudged Information ratio: [1.04233226 0.12911341]\n"
     ]
    },
    {
     "name": "stderr",
     "output_type": "stream",
     "text": [
      "2500it [04:21,  9.57it/s]\n",
      "0it [00:00, ?it/s]"
     ]
    },
    {
     "name": "stdout",
     "output_type": "stream",
     "text": [
      "Epoch : 21, (top (1, 5)) Train Accuracy : [0.25634 0.40932], Test Accuracy : [0.2    0.3514]\n",
      "Free Information ratio: [0.98132228 0.12132242]\n",
      "Nudged Information ratio: [0.98132049 0.12132079]\n"
     ]
    },
    {
     "name": "stderr",
     "output_type": "stream",
     "text": [
      "2500it [04:20,  9.59it/s]\n",
      "0it [00:00, ?it/s]"
     ]
    },
    {
     "name": "stdout",
     "output_type": "stream",
     "text": [
      "Epoch : 22, (top (1, 5)) Train Accuracy : [0.26196 0.41952], Test Accuracy : [0.2009 0.3655]\n",
      "Free Information ratio: [1.01877959 0.1295474 ]\n",
      "Nudged Information ratio: [1.0187779  0.12954579]\n"
     ]
    },
    {
     "name": "stderr",
     "output_type": "stream",
     "text": [
      "2500it [04:20,  9.59it/s]\n",
      "0it [00:00, ?it/s]"
     ]
    },
    {
     "name": "stdout",
     "output_type": "stream",
     "text": [
      "Epoch : 23, (top (1, 5)) Train Accuracy : [0.27192 0.42314], Test Accuracy : [0.2066 0.3645]\n",
      "Free Information ratio: [1.03745423 0.12628762]\n",
      "Nudged Information ratio: [1.03745239 0.1262859 ]\n"
     ]
    },
    {
     "name": "stderr",
     "output_type": "stream",
     "text": [
      "2500it [04:21,  9.58it/s]\n",
      "0it [00:00, ?it/s]"
     ]
    },
    {
     "name": "stdout",
     "output_type": "stream",
     "text": [
      "Epoch : 24, (top (1, 5)) Train Accuracy : [0.27544 0.42476], Test Accuracy : [0.2068 0.356 ]\n",
      "Free Information ratio: [1.05119474 0.13905149]\n",
      "Nudged Information ratio: [1.05119287 0.13904966]\n"
     ]
    },
    {
     "name": "stderr",
     "output_type": "stream",
     "text": [
      "2500it [04:21,  9.58it/s]\n",
      "0it [00:00, ?it/s]"
     ]
    },
    {
     "name": "stdout",
     "output_type": "stream",
     "text": [
      "Epoch : 25, (top (1, 5)) Train Accuracy : [0.28294 0.43504], Test Accuracy : [0.2113 0.374 ]\n",
      "Free Information ratio: [1.05740755 0.13980897]\n",
      "Nudged Information ratio: [1.05740566 0.13980714]\n"
     ]
    },
    {
     "name": "stderr",
     "output_type": "stream",
     "text": [
      "2500it [04:21,  9.57it/s]\n",
      "0it [00:00, ?it/s]"
     ]
    },
    {
     "name": "stdout",
     "output_type": "stream",
     "text": [
      "Epoch : 26, (top (1, 5)) Train Accuracy : [0.29012 0.43424], Test Accuracy : [0.2143 0.3659]\n",
      "Free Information ratio: [0.91678381 0.12356088]\n",
      "Nudged Information ratio: [0.9167816  0.12355875]\n"
     ]
    },
    {
     "name": "stderr",
     "output_type": "stream",
     "text": [
      "2500it [04:21,  9.57it/s]\n",
      "0it [00:00, ?it/s]"
     ]
    },
    {
     "name": "stdout",
     "output_type": "stream",
     "text": [
      "Epoch : 27, (top (1, 5)) Train Accuracy : [0.29988 0.4429 ], Test Accuracy : [0.2165 0.3685]\n",
      "Free Information ratio: [1.00583966 0.13399442]\n",
      "Nudged Information ratio: [1.00583755 0.1339923 ]\n"
     ]
    },
    {
     "name": "stderr",
     "output_type": "stream",
     "text": [
      "2500it [04:21,  9.57it/s]\n",
      "0it [00:00, ?it/s]"
     ]
    },
    {
     "name": "stdout",
     "output_type": "stream",
     "text": [
      "Epoch : 28, (top (1, 5)) Train Accuracy : [0.303   0.44028], Test Accuracy : [0.2192 0.3678]\n",
      "Free Information ratio: [0.95427826 0.14827011]\n",
      "Nudged Information ratio: [0.95427613 0.14826798]\n"
     ]
    },
    {
     "name": "stderr",
     "output_type": "stream",
     "text": [
      "2500it [04:21,  9.56it/s]\n",
      "0it [00:00, ?it/s]"
     ]
    },
    {
     "name": "stdout",
     "output_type": "stream",
     "text": [
      "Epoch : 29, (top (1, 5)) Train Accuracy : [0.08188 0.12792], Test Accuracy : [0.0731 0.1201]\n",
      "Free Information ratio: [1.71900231 0.86357694]\n",
      "Nudged Information ratio: [1.71900188 0.86357658]\n"
     ]
    },
    {
     "name": "stderr",
     "output_type": "stream",
     "text": [
      "2500it [04:21,  9.58it/s]\n",
      "0it [00:00, ?it/s]"
     ]
    },
    {
     "name": "stdout",
     "output_type": "stream",
     "text": [
      "Epoch : 30, (top (1, 5)) Train Accuracy : [0.07078 0.11632], Test Accuracy : [0.0663 0.1121]\n",
      "Free Information ratio: [10.23872386  1.64649122]\n",
      "Nudged Information ratio: [10.23872386  1.64649108]\n"
     ]
    },
    {
     "name": "stderr",
     "output_type": "stream",
     "text": [
      "2500it [04:21,  9.58it/s]\n",
      "0it [00:00, ?it/s]"
     ]
    },
    {
     "name": "stdout",
     "output_type": "stream",
     "text": [
      "Epoch : 31, (top (1, 5)) Train Accuracy : [0.04876 0.0926 ], Test Accuracy : [0.0432 0.0878]\n",
      "Free Information ratio: [31.82853844  2.25040874]\n",
      "Nudged Information ratio: [31.82853844  2.25040851]\n"
     ]
    },
    {
     "name": "stderr",
     "output_type": "stream",
     "text": [
      "2500it [04:20,  9.58it/s]\n",
      "0it [00:00, ?it/s]"
     ]
    },
    {
     "name": "stdout",
     "output_type": "stream",
     "text": [
      "Epoch : 32, (top (1, 5)) Train Accuracy : [0.03502 0.0758 ], Test Accuracy : [0.0343 0.0754]\n",
      "Free Information ratio: [81.73988676  2.96405512]\n",
      "Nudged Information ratio: [81.73988676  2.96405512]\n"
     ]
    },
    {
     "name": "stderr",
     "output_type": "stream",
     "text": [
      "2500it [04:20,  9.59it/s]\n",
      "0it [00:00, ?it/s]"
     ]
    },
    {
     "name": "stdout",
     "output_type": "stream",
     "text": [
      "Epoch : 33, (top (1, 5)) Train Accuracy : [0.03278 0.07374], Test Accuracy : [0.0328 0.0737]\n",
      "Free Information ratio: [134.00493324   3.46342752]\n",
      "Nudged Information ratio: [134.00493324   3.46342752]\n"
     ]
    },
    {
     "name": "stderr",
     "output_type": "stream",
     "text": [
      "2500it [04:21,  9.57it/s]\n",
      "0it [00:00, ?it/s]"
     ]
    },
    {
     "name": "stdout",
     "output_type": "stream",
     "text": [
      "Epoch : 34, (top (1, 5)) Train Accuracy : [0.03386 0.07468], Test Accuracy : [0.0334 0.0739]\n",
      "Free Information ratio: [201.58040515   3.91633433]\n",
      "Nudged Information ratio: [201.58040515   3.91633433]\n"
     ]
    },
    {
     "name": "stderr",
     "output_type": "stream",
     "text": [
      "2500it [04:21,  9.57it/s]\n",
      "0it [00:00, ?it/s]"
     ]
    },
    {
     "name": "stdout",
     "output_type": "stream",
     "text": [
      "Epoch : 35, (top (1, 5)) Train Accuracy : [0.0305  0.07074], Test Accuracy : [0.0307 0.071 ]\n",
      "Free Information ratio: [310.26025388   4.51159992]\n",
      "Nudged Information ratio: [310.26025388   4.51159992]\n"
     ]
    },
    {
     "name": "stderr",
     "output_type": "stream",
     "text": [
      "2500it [04:20,  9.58it/s]\n",
      "0it [00:00, ?it/s]"
     ]
    },
    {
     "name": "stdout",
     "output_type": "stream",
     "text": [
      "Epoch : 36, (top (1, 5)) Train Accuracy : [0.01856 0.05862], Test Accuracy : [0.0179 0.058 ]\n",
      "Free Information ratio: [457.57038048   5.12178686]\n",
      "Nudged Information ratio: [457.57038048   5.12178686]\n"
     ]
    },
    {
     "name": "stderr",
     "output_type": "stream",
     "text": [
      "2500it [04:20,  9.58it/s]\n",
      "0it [00:00, ?it/s]"
     ]
    },
    {
     "name": "stdout",
     "output_type": "stream",
     "text": [
      "Epoch : 37, (top (1, 5)) Train Accuracy : [0.02068 0.06072], Test Accuracy : [0.0202 0.0604]\n",
      "Free Information ratio: [534.24790355   5.35739201]\n",
      "Nudged Information ratio: [534.24790355   5.35739201]\n"
     ]
    },
    {
     "name": "stderr",
     "output_type": "stream",
     "text": [
      "2500it [04:21,  9.57it/s]\n",
      "0it [00:00, ?it/s]"
     ]
    },
    {
     "name": "stdout",
     "output_type": "stream",
     "text": [
      "Epoch : 38, (top (1, 5)) Train Accuracy : [0.02124 0.06108], Test Accuracy : [0.0212 0.0609]\n",
      "Free Information ratio: [545.9716962    5.50073371]\n",
      "Nudged Information ratio: [545.9716962    5.50073371]\n"
     ]
    },
    {
     "name": "stderr",
     "output_type": "stream",
     "text": [
      "2500it [04:21,  9.58it/s]\n",
      "0it [00:00, ?it/s]"
     ]
    },
    {
     "name": "stdout",
     "output_type": "stream",
     "text": [
      "Epoch : 39, (top (1, 5)) Train Accuracy : [0.02166 0.06156], Test Accuracy : [0.0211 0.0608]\n",
      "Free Information ratio: [585.2791401    5.61013529]\n",
      "Nudged Information ratio: [585.2791401    5.61013529]\n"
     ]
    },
    {
     "name": "stderr",
     "output_type": "stream",
     "text": [
      "1000it [01:44,  9.99it/s]"
     ]
    }
   ],
   "source": [
    "trn_acc_list = []\n",
    "tst_acc_list = []\n",
    "\n",
    "n_epochs = 50\n",
    "lr = lr_start\n",
    "for epoch_ in range(n_epochs):\n",
    "    if epoch_ < 20:\n",
    "        lr = {'ff' : lr_start['ff'] * (0.99)**epoch_, 'fb' : lr_start['fb'] * (0.99)**epoch_}\n",
    "    else:\n",
    "        lr = {'ff' : lr_start['ff'] * (0.9)**epoch_, 'fb' : lr_start['fb'] * (0.9)**epoch_}\n",
    "    for idx, (x, y) in tqdm(enumerate(train_loader)):\n",
    "        x, y = x.to(device), y.to(device)\n",
    "        x = x.view(x.size(0),-1).T\n",
    "        y_one_hot = F.one_hot(y, 100).to(device).T\n",
    "        take_debug_logs_ = (idx % 500 == 0)\n",
    "        if use_random_sign_beta:\n",
    "            rnd_sgn = 2*np.random.randint(2) - 1\n",
    "            beta = rnd_sgn*beta\n",
    "            \n",
    "        neurons = model.batch_step_hopfield( x, y_one_hot, hopfield_g, \n",
    "                                             lr, neural_lr_start, neural_lr_stop, neural_lr_rule, \n",
    "                                             neural_lr_decay_multiplier, neural_dynamic_iterations_free,\n",
    "                                             neural_dynamic_iterations_nudged, beta, \n",
    "                                             use_three_phase, take_debug_logs_, weight_decay)\n",
    "    \n",
    "    trn_acc = evaluateContrastiveCorInfoMaxHopfield_topk( model, train_loader, hopfield_g, neural_lr_start, \n",
    "                                                            neural_lr_stop, neural_lr_rule, \n",
    "                                                            neural_lr_decay_multiplier, \n",
    "                                                            neural_dynamic_iterations_free, \n",
    "                                                            device, topk = (1,5), printing = False)\n",
    "    tst_acc = evaluateContrastiveCorInfoMaxHopfield_topk( model, test_loader, hopfield_g, neural_lr_start, \n",
    "                                                            neural_lr_stop, neural_lr_rule, \n",
    "                                                            neural_lr_decay_multiplier, \n",
    "                                                            neural_dynamic_iterations_free, \n",
    "                                                            device, topk = (1, 5), printing = False)\n",
    "    trn_acc_list.append(trn_acc)\n",
    "    tst_acc_list.append(tst_acc)\n",
    "    \n",
    "    print(\"Epoch : {}, (top {}) Train Accuracy : {}, Test Accuracy : {}\".format( epoch_+1,(1,5), trn_acc, tst_acc))\n",
    "    print(\"Free Information ratio: {}\".format(np.array(model.layerwise_forward_corinfo_list_free)[-1] / np.array(model.layerwise_backward_corinfo_list_free)[-1]))\n",
    "    print(\"Nudged Information ratio: {}\".format(np.array(model.layerwise_forward_corinfo_list_nudged)[-1] / np.array(model.layerwise_backward_corinfo_list_nudged)[-1]))"
   ]
  },
  {
   "cell_type": "code",
   "execution_count": null,
   "id": "ea3d0cf6",
   "metadata": {},
   "outputs": [],
   "source": [
    "plt.plot(np.array(tst_acc_list)[:,0])"
   ]
  },
  {
   "cell_type": "code",
   "execution_count": null,
   "id": "82e39c63",
   "metadata": {},
   "outputs": [],
   "source": [
    "# for epoch_ in range(n_epochs, n_epochs + 25):\n",
    "#     lr = {'ff' : lr_start['ff'] * (0.95)**epoch_, 'fb' : lr_start['fb'] * (0.95)**epoch_}\n",
    "#     for idx, (x, y) in tqdm(enumerate(train_loader)):\n",
    "#         x, y = x.to(device), y.to(device)\n",
    "#         x = x.view(x.size(0),-1).T\n",
    "#         y_one_hot = F.one_hot(y, 10).to(device).T\n",
    "#         take_debug_logs_ = (idx % 500 == 0)\n",
    "#         if use_random_sign_beta:\n",
    "#             rnd_sgn = 2*np.random.randint(2) - 1\n",
    "#             beta = rnd_sgn*beta\n",
    "            \n",
    "#         neurons = model.batch_step_hopfield( x, y_one_hot, hopfield_g, \n",
    "#                                              lr, neural_lr_start, neural_lr_stop, neural_lr_rule, \n",
    "#                                              neural_lr_decay_multiplier, neural_dynamic_iterations_free,\n",
    "#                                              neural_dynamic_iterations_nudged, beta, \n",
    "#                                              use_three_phase, take_debug_logs_, weight_decay)\n",
    "    \n",
    "#     trn_acc = evaluateContrastiveCorInfoMaxHopfield(model, train_loader, hopfield_g, neural_lr_start, \n",
    "#                                                     neural_lr_stop, neural_lr_rule, \n",
    "#                                                     neural_lr_decay_multiplier, \n",
    "#                                                     neural_dynamic_iterations_free, \n",
    "#                                                     device, printing = False)\n",
    "#     tst_acc = evaluateContrastiveCorInfoMaxHopfield(model, test_loader, hopfield_g, neural_lr_start, \n",
    "#                                                     neural_lr_stop, neural_lr_rule, \n",
    "#                                                     neural_lr_decay_multiplier, \n",
    "#                                                     neural_dynamic_iterations_free, \n",
    "#                                                     device, printing = False)\n",
    "#     trn_acc_list.append(trn_acc)\n",
    "#     tst_acc_list.append(tst_acc)\n",
    "    \n",
    "#     print(\"Epoch : {}, Train Accuracy : {}, Test Accuracy : {}\".format(epoch_+1, trn_acc, tst_acc))\n",
    "#     print(\"Free Information ratio: {}\".format(np.array(model.layerwise_forward_corinfo_list_free)[-1] / np.array(model.layerwise_backward_corinfo_list_free)[-1]))\n",
    "#     print(\"Nudged Information ratio: {}\".format(np.array(model.layerwise_forward_corinfo_list_nudged)[-1] / np.array(model.layerwise_backward_corinfo_list_nudged)[-1]))"
   ]
  },
  {
   "cell_type": "code",
   "execution_count": null,
   "id": "fe20a069",
   "metadata": {},
   "outputs": [],
   "source": [
    "plot_convergence_plot(trn_acc_list, xlabel = 'Number of Epochs', ylabel = 'Accuracy %',\n",
    "                      title = 'Contrastive CorInfoMax Train Accuracy w.r.t. Epochs', \n",
    "                      figsize = (12,8), fontsize = 25, linewidth = 3)"
   ]
  },
  {
   "cell_type": "code",
   "execution_count": null,
   "id": "93e28c34",
   "metadata": {},
   "outputs": [],
   "source": [
    "plot_convergence_plot(tst_acc_list, xlabel = 'Number of Epochs', ylabel = 'Accuracy %',\n",
    "                      title = 'Contrastive CorInfoMax Test Accuracy w.r.t. Epochs', \n",
    "                      figsize = (12,8), fontsize = 25, linewidth = 3)"
   ]
  },
  {
   "cell_type": "code",
   "execution_count": null,
   "id": "b5c388ae",
   "metadata": {},
   "outputs": [],
   "source": [
    "plt.plot(model.forward_backward_angles)"
   ]
  },
  {
   "cell_type": "code",
   "execution_count": null,
   "id": "e9f1fc23",
   "metadata": {},
   "outputs": [],
   "source": [
    "plt.plot((model.neural_dynamics_free_backward_info_list[10]))"
   ]
  },
  {
   "cell_type": "code",
   "execution_count": null,
   "id": "a2c32aea",
   "metadata": {},
   "outputs": [],
   "source": [
    "x.shape"
   ]
  },
  {
   "cell_type": "code",
   "execution_count": null,
   "id": "8611a21d",
   "metadata": {},
   "outputs": [],
   "source": [
    "# from IPython.display import Math, display\n",
    "# ########### LATEX Style Display Matrix ###############\n",
    "# def display_matrix(array):\n",
    "#     \"\"\"Display given numpy array with Latex format in Jupyter Notebook.\n",
    "#     Args:\n",
    "#         array (numpy array): Array to be displayed\n",
    "#     \"\"\"\n",
    "#     data = \"\"\n",
    "#     for line in array:\n",
    "#         if len(line) == 1:\n",
    "#             data += \" %.3f &\" % line + r\" \\\\\\n\"\n",
    "#             continue\n",
    "#         for element in line:\n",
    "#             data += \" %.3f &\" % element\n",
    "#         data += r\" \\\\\" + \"\\n\"\n",
    "#     display(Math(\"\\\\begin{bmatrix} \\n%s\\\\end{bmatrix}\" % data))"
   ]
  },
  {
   "cell_type": "code",
   "execution_count": null,
   "id": "3e88fc87",
   "metadata": {},
   "outputs": [],
   "source": [
    "# display_matrix(model.B[0]['weight'][:10,:10])"
   ]
  },
  {
   "cell_type": "code",
   "execution_count": null,
   "id": "71cac654",
   "metadata": {},
   "outputs": [],
   "source": [
    "# display_matrix(torch.linalg.inv(model.Rh1)[:10,:10])"
   ]
  },
  {
   "cell_type": "code",
   "execution_count": null,
   "id": "e8f3192b",
   "metadata": {},
   "outputs": [],
   "source": [
    "# torch.norm(model.B[0]['weight'] - torch.linalg.inv(model.Rh1))"
   ]
  },
  {
   "cell_type": "code",
   "execution_count": null,
   "id": "865769b5",
   "metadata": {},
   "outputs": [],
   "source": [
    "# display_matrix(torch.linalg.inv(model.Rh2)[:10,:10])"
   ]
  }
 ],
 "metadata": {
  "kernelspec": {
   "display_name": "Python 3 (ipykernel)",
   "language": "python",
   "name": "python3"
  },
  "language_info": {
   "codemirror_mode": {
    "name": "ipython",
    "version": 3
   },
   "file_extension": ".py",
   "mimetype": "text/x-python",
   "name": "python",
   "nbconvert_exporter": "python",
   "pygments_lexer": "ipython3",
   "version": "3.8.8"
  }
 },
 "nbformat": 4,
 "nbformat_minor": 5
}
