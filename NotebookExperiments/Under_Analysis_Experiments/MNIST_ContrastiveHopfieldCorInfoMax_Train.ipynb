{
 "cells": [
  {
   "cell_type": "code",
   "execution_count": 1,
   "id": "89b20c38",
   "metadata": {},
   "outputs": [],
   "source": [
    "import sys\n",
    "sys.path.append(\"../../src\")\n",
    "import torch\n",
    "import matplotlib.pyplot as plt\n",
    "import numpy as np\n",
    "import torchvision\n",
    "import torch.nn.functional as F\n",
    "\n",
    "import glob\n",
    "import os\n",
    "from datetime import datetime\n",
    "import time\n",
    "import math\n",
    "from tqdm import tqdm\n",
    "\n",
    "from itertools import repeat\n",
    "from torch.nn.parameter import Parameter\n",
    "import collections\n",
    "import matplotlib\n",
    "from torch_utils import *\n",
    "from utils import display_matrix\n",
    "from debug import *\n",
    "from visualization import *\n",
    "# matplotlib.use('Agg')"
   ]
  },
  {
   "cell_type": "code",
   "execution_count": 2,
   "id": "ef0c0a15",
   "metadata": {},
   "outputs": [
    {
     "data": {
      "text/plain": [
       "device(type='cuda', index=0)"
      ]
     },
     "execution_count": 2,
     "metadata": {},
     "output_type": "execute_result"
    }
   ],
   "source": [
    "device = torch.device('cuda:0' if torch.cuda.is_available() else 'cpu')\n",
    "device"
   ]
  },
  {
   "cell_type": "code",
   "execution_count": 3,
   "id": "128dc72a",
   "metadata": {},
   "outputs": [],
   "source": [
    "transform = torchvision.transforms.Compose([torchvision.transforms.ToTensor(), \n",
    "                                            torchvision.transforms.Normalize(mean=(0.0,), std=(1.0,))])\n",
    "\n",
    "mnist_dset_train = torchvision.datasets.MNIST('../../data', train=True, transform=transform, target_transform=None, download=True)\n",
    "train_loader = torch.utils.data.DataLoader(mnist_dset_train, batch_size=20, shuffle=True, num_workers=0)\n",
    "\n",
    "mnist_dset_test = torchvision.datasets.MNIST('../../data', train=False, transform=transform, target_transform=None, download=True)\n",
    "test_loader = torch.utils.data.DataLoader(mnist_dset_test, batch_size=20, shuffle=False, num_workers=0)"
   ]
  },
  {
   "cell_type": "code",
   "execution_count": 4,
   "id": "8c77e36f",
   "metadata": {},
   "outputs": [],
   "source": [
    "activation = hard_sigmoid\n",
    "architecture = [784, 500, 10]\n",
    "\n",
    "x,y = next(iter(train_loader))\n",
    "x = x.view(x.size(0),-1).to(device).T\n",
    "y_one_hot = F.one_hot(y, 10).to(device).T\n",
    "\n",
    "beta = 1\n",
    "lambda_ = 0.99995\n",
    "epsilon = 0.15\n",
    "one_over_epsilon = 1 / epsilon\n",
    "lr_start = {'ff' : np.array([0.3, 0.15]), 'fb': np.array([0.15, 0.1])}\n",
    "\n",
    "neural_lr_start = 0.1\n",
    "neural_lr_stop = 0.001\n",
    "neural_lr_rule = \"constant\"\n",
    "neural_lr_decay_multiplier = 0.01\n",
    "neural_dynamic_iterations_nudged = 10\n",
    "neural_dynamic_iterations_free = 20\n",
    "hopfield_g = 0.05\n",
    "\n",
    "use_random_sign_beta = False\n",
    "use_three_phase = True\n",
    "n_epochs = 20\n",
    "\n",
    "model = ContrastiveCorInfoMaxHopfield(architecture = architecture, lambda_ = lambda_, \n",
    "                                      epsilon = epsilon, activation = activation)"
   ]
  },
  {
   "cell_type": "code",
   "execution_count": 5,
   "id": "70882507",
   "metadata": {},
   "outputs": [],
   "source": [
    "# def append_ones_row_vector_to_tensor(inp_vector):\n",
    "#     return torch.cat((inp_vector, torch.ones(1, inp_vector.shape[1]).to(inp_vector.device)), 0)"
   ]
  },
  {
   "cell_type": "code",
   "execution_count": 6,
   "id": "36caab39",
   "metadata": {},
   "outputs": [],
   "source": [
    "# x, y = next(iter(train_loader))\n",
    "# x, y = x.to(device), y.to(device)\n",
    "# x = x.view(x.size(0),-1).T\n",
    "# y_one_hot = F.one_hot(y, 10).to(device).T\n",
    "# print(model.B[0]['weight'][:-1].shape)\n",
    "# neurons = model.init_neurons(x.size(1), device = model.device)\n",
    "\n",
    "# torch.cat((neurons[0], torch.ones(1, neurons[0].shape[1]).to(device)), 0).shape\n",
    "# append_ones_row_vector_to_tensor(neurons[0]).shape"
   ]
  },
  {
   "cell_type": "code",
   "execution_count": 7,
   "id": "3448d1d0",
   "metadata": {},
   "outputs": [
    {
     "name": "stdout",
     "output_type": "stream",
     "text": [
      "Train accuracy :\t 0.0897\n"
     ]
    }
   ],
   "source": [
    "_ = evaluateContrastiveCorInfoMaxHopfield(model, train_loader, hopfield_g,\n",
    "                                          neural_lr_start, neural_lr_stop, neural_lr_rule, \n",
    "                                          neural_lr_decay_multiplier, neural_dynamic_iterations_free, device)"
   ]
  },
  {
   "cell_type": "code",
   "execution_count": 8,
   "id": "5c6107ac",
   "metadata": {},
   "outputs": [
    {
     "name": "stderr",
     "output_type": "stream",
     "text": [
      "3000it [01:24, 35.54it/s]\n",
      "4it [00:00, 32.28it/s]"
     ]
    },
    {
     "name": "stdout",
     "output_type": "stream",
     "text": [
      "Epoch : 1, Train Accuracy : 0.09871666666666666, Test Accuracy : 0.098\n"
     ]
    },
    {
     "name": "stderr",
     "output_type": "stream",
     "text": [
      "86it [00:02, 33.58it/s]\n",
      "ERROR:root:Internal Python error in the inspect module.\n",
      "Below is the traceback from this internal error.\n",
      "\n"
     ]
    },
    {
     "name": "stdout",
     "output_type": "stream",
     "text": [
      "Traceback (most recent call last):\n",
      "  File \"/kuacc/users/bbozkurt15/.conda/envs/bbozkurt15/lib/python3.8/site-packages/IPython/core/interactiveshell.py\", line 3444, in run_code\n",
      "    exec(code_obj, self.user_global_ns, self.user_ns)\n",
      "  File \"/tmp/ipykernel_192472/1029133116.py\", line 16, in <module>\n",
      "    neurons = model.batch_step_hopfield( x, y_one_hot, hopfield_g,\n",
      "  File \"../../src/debug.py\", line 265, in batch_step_hopfield\n",
      "    neurons = self.run_neural_dynamics_hopfield(x, y, neurons, hopfield_g, neural_lr_start, neural_lr_stop, neural_lr_rule,\n",
      "  File \"../../src/debug.py\", line 227, in run_neural_dynamics_hopfield\n",
      "    gradient_neurons = - hopfield_g * neurons_intermediate[jj] + one_over_epsilon * (basal_voltage - neurons_intermediate[jj]) + one_over_epsilon * (apical_voltage - neurons_intermediate[jj])\n",
      "KeyboardInterrupt\n",
      "\n",
      "During handling of the above exception, another exception occurred:\n",
      "\n",
      "Traceback (most recent call last):\n",
      "  File \"/kuacc/users/bbozkurt15/.conda/envs/bbozkurt15/lib/python3.8/site-packages/IPython/core/interactiveshell.py\", line 2064, in showtraceback\n",
      "    stb = value._render_traceback_()\n",
      "AttributeError: 'KeyboardInterrupt' object has no attribute '_render_traceback_'\n",
      "\n",
      "During handling of the above exception, another exception occurred:\n",
      "\n",
      "Traceback (most recent call last):\n",
      "  File \"/kuacc/users/bbozkurt15/.conda/envs/bbozkurt15/lib/python3.8/site-packages/IPython/core/ultratb.py\", line 1101, in get_records\n",
      "    return _fixed_getinnerframes(etb, number_of_lines_of_context, tb_offset)\n",
      "  File \"/kuacc/users/bbozkurt15/.conda/envs/bbozkurt15/lib/python3.8/site-packages/IPython/core/ultratb.py\", line 248, in wrapped\n",
      "    return f(*args, **kwargs)\n",
      "  File \"/kuacc/users/bbozkurt15/.conda/envs/bbozkurt15/lib/python3.8/site-packages/IPython/core/ultratb.py\", line 281, in _fixed_getinnerframes\n",
      "    records = fix_frame_records_filenames(inspect.getinnerframes(etb, context))\n",
      "  File \"/kuacc/users/bbozkurt15/.conda/envs/bbozkurt15/lib/python3.8/inspect.py\", line 1515, in getinnerframes\n",
      "    frameinfo = (tb.tb_frame,) + getframeinfo(tb, context)\n",
      "  File \"/kuacc/users/bbozkurt15/.conda/envs/bbozkurt15/lib/python3.8/inspect.py\", line 1473, in getframeinfo\n",
      "    filename = getsourcefile(frame) or getfile(frame)\n",
      "  File \"/kuacc/users/bbozkurt15/.conda/envs/bbozkurt15/lib/python3.8/inspect.py\", line 708, in getsourcefile\n",
      "    if getattr(getmodule(object, filename), '__loader__', None) is not None:\n",
      "  File \"/kuacc/users/bbozkurt15/.conda/envs/bbozkurt15/lib/python3.8/inspect.py\", line 751, in getmodule\n",
      "    f = getabsfile(module)\n",
      "  File \"/kuacc/users/bbozkurt15/.conda/envs/bbozkurt15/lib/python3.8/inspect.py\", line 720, in getabsfile\n",
      "    _filename = getsourcefile(object) or getfile(object)\n",
      "  File \"/kuacc/users/bbozkurt15/.conda/envs/bbozkurt15/lib/python3.8/inspect.py\", line 705, in getsourcefile\n",
      "    if os.path.exists(filename):\n",
      "  File \"/kuacc/users/bbozkurt15/.conda/envs/bbozkurt15/lib/python3.8/genericpath.py\", line 19, in exists\n",
      "    os.stat(path)\n",
      "KeyboardInterrupt\n"
     ]
    },
    {
     "ename": "TypeError",
     "evalue": "object of type 'NoneType' has no len()",
     "output_type": "error",
     "traceback": [
      "\u001b[0;31m---------------------------------------------------------------------------\u001b[0m",
      "\u001b[0;31mKeyboardInterrupt\u001b[0m                         Traceback (most recent call last)",
      "    \u001b[0;31m[... skipping hidden 1 frame]\u001b[0m\n",
      "\u001b[0;32m/tmp/ipykernel_192472/1029133116.py\u001b[0m in \u001b[0;36m<module>\u001b[0;34m\u001b[0m\n\u001b[1;32m     15\u001b[0m \u001b[0;34m\u001b[0m\u001b[0m\n\u001b[0;32m---> 16\u001b[0;31m         neurons = model.batch_step_hopfield( x, y_one_hot, hopfield_g, \n\u001b[0m\u001b[1;32m     17\u001b[0m                                              \u001b[0mlr\u001b[0m\u001b[0;34m,\u001b[0m \u001b[0mneural_lr_start\u001b[0m\u001b[0;34m,\u001b[0m \u001b[0mneural_lr_stop\u001b[0m\u001b[0;34m,\u001b[0m \u001b[0mneural_lr_rule\u001b[0m\u001b[0;34m,\u001b[0m\u001b[0;34m\u001b[0m\u001b[0;34m\u001b[0m\u001b[0m\n",
      "\u001b[0;32m/scratch/users/bbozkurt15/Supervised-CorInfoMax/src/debug.py\u001b[0m in \u001b[0;36mbatch_step_hopfield\u001b[0;34m(self, x, y, hopfield_g, lr, neural_lr_start, neural_lr_stop, neural_lr_rule, neural_lr_decay_multiplier, neural_dynamic_iterations_free, neural_dynamic_iterations_nudged, beta, use_three_phase, take_debug_logs)\u001b[0m\n\u001b[1;32m    264\u001b[0m \u001b[0;34m\u001b[0m\u001b[0m\n\u001b[0;32m--> 265\u001b[0;31m         neurons = self.run_neural_dynamics_hopfield(x, y, neurons, hopfield_g, neural_lr_start, neural_lr_stop, neural_lr_rule, \n\u001b[0m\u001b[1;32m    266\u001b[0m                                                     neural_lr_decay_multiplier, neural_dynamic_iterations_nudged, beta)\n",
      "\u001b[0;32m/scratch/users/bbozkurt15/Supervised-CorInfoMax/src/debug.py\u001b[0m in \u001b[0;36mrun_neural_dynamics_hopfield\u001b[0;34m(self, x, y, neurons, hopfield_g, neural_lr_start, neural_lr_stop, lr_rule, lr_decay_multiplier, neural_dynamic_iterations, beta)\u001b[0m\n\u001b[1;32m    226\u001b[0m                         \u001b[0mapical_voltage\u001b[0m \u001b[0;34m=\u001b[0m \u001b[0mepsilon\u001b[0m \u001b[0;34m*\u001b[0m \u001b[0;34m(\u001b[0m\u001b[0;36m2\u001b[0m \u001b[0;34m*\u001b[0m \u001b[0mgam_\u001b[0m \u001b[0;34m*\u001b[0m \u001b[0mB\u001b[0m\u001b[0;34m[\u001b[0m\u001b[0mjj\u001b[0m\u001b[0;34m]\u001b[0m\u001b[0;34m[\u001b[0m\u001b[0;34m'weight'\u001b[0m\u001b[0;34m]\u001b[0m\u001b[0;34m[\u001b[0m\u001b[0;34m:\u001b[0m\u001b[0;34m-\u001b[0m\u001b[0;36m1\u001b[0m\u001b[0;34m]\u001b[0m \u001b[0;34m@\u001b[0m \u001b[0mself\u001b[0m\u001b[0;34m.\u001b[0m\u001b[0mappend_ones_row_vector_to_tensor\u001b[0m\u001b[0;34m(\u001b[0m\u001b[0mlayers\u001b[0m\u001b[0;34m[\u001b[0m\u001b[0mjj\u001b[0m \u001b[0;34m+\u001b[0m \u001b[0;36m1\u001b[0m\u001b[0;34m]\u001b[0m\u001b[0;34m)\u001b[0m \u001b[0;34m+\u001b[0m \u001b[0mhopfield_g\u001b[0m \u001b[0;34m*\u001b[0m \u001b[0mlayers\u001b[0m\u001b[0;34m[\u001b[0m\u001b[0mjj\u001b[0m \u001b[0;34m+\u001b[0m \u001b[0;36m1\u001b[0m\u001b[0;34m]\u001b[0m\u001b[0;34m)\u001b[0m \u001b[0;34m+\u001b[0m \u001b[0;34m(\u001b[0m\u001b[0mWfb\u001b[0m\u001b[0;34m[\u001b[0m\u001b[0mjj\u001b[0m \u001b[0;34m+\u001b[0m \u001b[0;36m1\u001b[0m\u001b[0;34m]\u001b[0m\u001b[0;34m[\u001b[0m\u001b[0;34m'weight'\u001b[0m\u001b[0;34m]\u001b[0m \u001b[0;34m@\u001b[0m \u001b[0mlayers\u001b[0m\u001b[0;34m[\u001b[0m\u001b[0mjj\u001b[0m \u001b[0;34m+\u001b[0m \u001b[0;36m2\u001b[0m\u001b[0;34m]\u001b[0m\u001b[0;34m)\u001b[0m\u001b[0;34m[\u001b[0m\u001b[0;34m:\u001b[0m\u001b[0;34m-\u001b[0m\u001b[0;36m1\u001b[0m\u001b[0;34m]\u001b[0m \u001b[0;31m#+ Wfb[jj + 1]['bias']\u001b[0m\u001b[0;34m\u001b[0m\u001b[0;34m\u001b[0m\u001b[0m\n\u001b[0;32m--> 227\u001b[0;31m                         \u001b[0mgradient_neurons\u001b[0m \u001b[0;34m=\u001b[0m \u001b[0;34m-\u001b[0m \u001b[0mhopfield_g\u001b[0m \u001b[0;34m*\u001b[0m \u001b[0mneurons_intermediate\u001b[0m\u001b[0;34m[\u001b[0m\u001b[0mjj\u001b[0m\u001b[0;34m]\u001b[0m \u001b[0;34m+\u001b[0m \u001b[0mone_over_epsilon\u001b[0m \u001b[0;34m*\u001b[0m \u001b[0;34m(\u001b[0m\u001b[0mbasal_voltage\u001b[0m \u001b[0;34m-\u001b[0m \u001b[0mneurons_intermediate\u001b[0m\u001b[0;34m[\u001b[0m\u001b[0mjj\u001b[0m\u001b[0;34m]\u001b[0m\u001b[0;34m)\u001b[0m \u001b[0;34m+\u001b[0m \u001b[0mone_over_epsilon\u001b[0m \u001b[0;34m*\u001b[0m \u001b[0;34m(\u001b[0m\u001b[0mapical_voltage\u001b[0m \u001b[0;34m-\u001b[0m \u001b[0mneurons_intermediate\u001b[0m\u001b[0;34m[\u001b[0m\u001b[0mjj\u001b[0m\u001b[0;34m]\u001b[0m\u001b[0;34m)\u001b[0m\u001b[0;34m\u001b[0m\u001b[0;34m\u001b[0m\u001b[0m\n\u001b[0m\u001b[1;32m    228\u001b[0m                         \u001b[0mneurons_intermediate\u001b[0m\u001b[0;34m[\u001b[0m\u001b[0mjj\u001b[0m\u001b[0;34m]\u001b[0m \u001b[0;34m=\u001b[0m \u001b[0mneurons_intermediate\u001b[0m\u001b[0;34m[\u001b[0m\u001b[0mjj\u001b[0m\u001b[0;34m]\u001b[0m \u001b[0;34m+\u001b[0m \u001b[0mneural_lr\u001b[0m \u001b[0;34m*\u001b[0m \u001b[0mgradient_neurons\u001b[0m\u001b[0;34m\u001b[0m\u001b[0;34m\u001b[0m\u001b[0m\n",
      "\u001b[0;31mKeyboardInterrupt\u001b[0m: ",
      "\nDuring handling of the above exception, another exception occurred:\n",
      "\u001b[0;31mAttributeError\u001b[0m                            Traceback (most recent call last)",
      "\u001b[0;32m~/.conda/envs/bbozkurt15/lib/python3.8/site-packages/IPython/core/interactiveshell.py\u001b[0m in \u001b[0;36mshowtraceback\u001b[0;34m(self, exc_tuple, filename, tb_offset, exception_only, running_compiled_code)\u001b[0m\n\u001b[1;32m   2063\u001b[0m                         \u001b[0;31m# in the engines. This should return a list of strings.\u001b[0m\u001b[0;34m\u001b[0m\u001b[0;34m\u001b[0m\u001b[0;34m\u001b[0m\u001b[0m\n\u001b[0;32m-> 2064\u001b[0;31m                         \u001b[0mstb\u001b[0m \u001b[0;34m=\u001b[0m \u001b[0mvalue\u001b[0m\u001b[0;34m.\u001b[0m\u001b[0m_render_traceback_\u001b[0m\u001b[0;34m(\u001b[0m\u001b[0;34m)\u001b[0m\u001b[0;34m\u001b[0m\u001b[0;34m\u001b[0m\u001b[0m\n\u001b[0m\u001b[1;32m   2065\u001b[0m                     \u001b[0;32mexcept\u001b[0m \u001b[0mException\u001b[0m\u001b[0;34m:\u001b[0m\u001b[0;34m\u001b[0m\u001b[0;34m\u001b[0m\u001b[0m\n",
      "\u001b[0;31mAttributeError\u001b[0m: 'KeyboardInterrupt' object has no attribute '_render_traceback_'",
      "\nDuring handling of the above exception, another exception occurred:\n",
      "\u001b[0;31mTypeError\u001b[0m                                 Traceback (most recent call last)",
      "    \u001b[0;31m[... skipping hidden 1 frame]\u001b[0m\n",
      "\u001b[0;32m~/.conda/envs/bbozkurt15/lib/python3.8/site-packages/IPython/core/interactiveshell.py\u001b[0m in \u001b[0;36mshowtraceback\u001b[0;34m(self, exc_tuple, filename, tb_offset, exception_only, running_compiled_code)\u001b[0m\n\u001b[1;32m   2064\u001b[0m                         \u001b[0mstb\u001b[0m \u001b[0;34m=\u001b[0m \u001b[0mvalue\u001b[0m\u001b[0;34m.\u001b[0m\u001b[0m_render_traceback_\u001b[0m\u001b[0;34m(\u001b[0m\u001b[0;34m)\u001b[0m\u001b[0;34m\u001b[0m\u001b[0;34m\u001b[0m\u001b[0m\n\u001b[1;32m   2065\u001b[0m                     \u001b[0;32mexcept\u001b[0m \u001b[0mException\u001b[0m\u001b[0;34m:\u001b[0m\u001b[0;34m\u001b[0m\u001b[0;34m\u001b[0m\u001b[0m\n\u001b[0;32m-> 2066\u001b[0;31m                         stb = self.InteractiveTB.structured_traceback(etype,\n\u001b[0m\u001b[1;32m   2067\u001b[0m                                             value, tb, tb_offset=tb_offset)\n\u001b[1;32m   2068\u001b[0m \u001b[0;34m\u001b[0m\u001b[0m\n",
      "\u001b[0;32m~/.conda/envs/bbozkurt15/lib/python3.8/site-packages/IPython/core/ultratb.py\u001b[0m in \u001b[0;36mstructured_traceback\u001b[0;34m(self, etype, value, tb, tb_offset, number_of_lines_of_context)\u001b[0m\n\u001b[1;32m   1365\u001b[0m         \u001b[0;32melse\u001b[0m\u001b[0;34m:\u001b[0m\u001b[0;34m\u001b[0m\u001b[0;34m\u001b[0m\u001b[0m\n\u001b[1;32m   1366\u001b[0m             \u001b[0mself\u001b[0m\u001b[0;34m.\u001b[0m\u001b[0mtb\u001b[0m \u001b[0;34m=\u001b[0m \u001b[0mtb\u001b[0m\u001b[0;34m\u001b[0m\u001b[0;34m\u001b[0m\u001b[0m\n\u001b[0;32m-> 1367\u001b[0;31m         return FormattedTB.structured_traceback(\n\u001b[0m\u001b[1;32m   1368\u001b[0m             self, etype, value, tb, tb_offset, number_of_lines_of_context)\n\u001b[1;32m   1369\u001b[0m \u001b[0;34m\u001b[0m\u001b[0m\n",
      "\u001b[0;32m~/.conda/envs/bbozkurt15/lib/python3.8/site-packages/IPython/core/ultratb.py\u001b[0m in \u001b[0;36mstructured_traceback\u001b[0;34m(self, etype, value, tb, tb_offset, number_of_lines_of_context)\u001b[0m\n\u001b[1;32m   1265\u001b[0m         \u001b[0;32mif\u001b[0m \u001b[0mmode\u001b[0m \u001b[0;32min\u001b[0m \u001b[0mself\u001b[0m\u001b[0;34m.\u001b[0m\u001b[0mverbose_modes\u001b[0m\u001b[0;34m:\u001b[0m\u001b[0;34m\u001b[0m\u001b[0;34m\u001b[0m\u001b[0m\n\u001b[1;32m   1266\u001b[0m             \u001b[0;31m# Verbose modes need a full traceback\u001b[0m\u001b[0;34m\u001b[0m\u001b[0;34m\u001b[0m\u001b[0;34m\u001b[0m\u001b[0m\n\u001b[0;32m-> 1267\u001b[0;31m             return VerboseTB.structured_traceback(\n\u001b[0m\u001b[1;32m   1268\u001b[0m                 \u001b[0mself\u001b[0m\u001b[0;34m,\u001b[0m \u001b[0metype\u001b[0m\u001b[0;34m,\u001b[0m \u001b[0mvalue\u001b[0m\u001b[0;34m,\u001b[0m \u001b[0mtb\u001b[0m\u001b[0;34m,\u001b[0m \u001b[0mtb_offset\u001b[0m\u001b[0;34m,\u001b[0m \u001b[0mnumber_of_lines_of_context\u001b[0m\u001b[0;34m\u001b[0m\u001b[0;34m\u001b[0m\u001b[0m\n\u001b[1;32m   1269\u001b[0m             )\n",
      "\u001b[0;32m~/.conda/envs/bbozkurt15/lib/python3.8/site-packages/IPython/core/ultratb.py\u001b[0m in \u001b[0;36mstructured_traceback\u001b[0;34m(self, etype, evalue, etb, tb_offset, number_of_lines_of_context)\u001b[0m\n\u001b[1;32m   1122\u001b[0m         \u001b[0;34m\"\"\"Return a nice text document describing the traceback.\"\"\"\u001b[0m\u001b[0;34m\u001b[0m\u001b[0;34m\u001b[0m\u001b[0m\n\u001b[1;32m   1123\u001b[0m \u001b[0;34m\u001b[0m\u001b[0m\n\u001b[0;32m-> 1124\u001b[0;31m         formatted_exception = self.format_exception_as_a_whole(etype, evalue, etb, number_of_lines_of_context,\n\u001b[0m\u001b[1;32m   1125\u001b[0m                                                                tb_offset)\n\u001b[1;32m   1126\u001b[0m \u001b[0;34m\u001b[0m\u001b[0m\n",
      "\u001b[0;32m~/.conda/envs/bbozkurt15/lib/python3.8/site-packages/IPython/core/ultratb.py\u001b[0m in \u001b[0;36mformat_exception_as_a_whole\u001b[0;34m(self, etype, evalue, etb, number_of_lines_of_context, tb_offset)\u001b[0m\n\u001b[1;32m   1080\u001b[0m \u001b[0;34m\u001b[0m\u001b[0m\n\u001b[1;32m   1081\u001b[0m \u001b[0;34m\u001b[0m\u001b[0m\n\u001b[0;32m-> 1082\u001b[0;31m         \u001b[0mlast_unique\u001b[0m\u001b[0;34m,\u001b[0m \u001b[0mrecursion_repeat\u001b[0m \u001b[0;34m=\u001b[0m \u001b[0mfind_recursion\u001b[0m\u001b[0;34m(\u001b[0m\u001b[0morig_etype\u001b[0m\u001b[0;34m,\u001b[0m \u001b[0mevalue\u001b[0m\u001b[0;34m,\u001b[0m \u001b[0mrecords\u001b[0m\u001b[0;34m)\u001b[0m\u001b[0;34m\u001b[0m\u001b[0;34m\u001b[0m\u001b[0m\n\u001b[0m\u001b[1;32m   1083\u001b[0m \u001b[0;34m\u001b[0m\u001b[0m\n\u001b[1;32m   1084\u001b[0m         \u001b[0mframes\u001b[0m \u001b[0;34m=\u001b[0m \u001b[0mself\u001b[0m\u001b[0;34m.\u001b[0m\u001b[0mformat_records\u001b[0m\u001b[0;34m(\u001b[0m\u001b[0mrecords\u001b[0m\u001b[0;34m,\u001b[0m \u001b[0mlast_unique\u001b[0m\u001b[0;34m,\u001b[0m \u001b[0mrecursion_repeat\u001b[0m\u001b[0;34m)\u001b[0m\u001b[0;34m\u001b[0m\u001b[0;34m\u001b[0m\u001b[0m\n",
      "\u001b[0;32m~/.conda/envs/bbozkurt15/lib/python3.8/site-packages/IPython/core/ultratb.py\u001b[0m in \u001b[0;36mfind_recursion\u001b[0;34m(etype, value, records)\u001b[0m\n\u001b[1;32m    380\u001b[0m     \u001b[0;31m# first frame (from in to out) that looks different.\u001b[0m\u001b[0;34m\u001b[0m\u001b[0;34m\u001b[0m\u001b[0;34m\u001b[0m\u001b[0m\n\u001b[1;32m    381\u001b[0m     \u001b[0;32mif\u001b[0m \u001b[0;32mnot\u001b[0m \u001b[0mis_recursion_error\u001b[0m\u001b[0;34m(\u001b[0m\u001b[0metype\u001b[0m\u001b[0;34m,\u001b[0m \u001b[0mvalue\u001b[0m\u001b[0;34m,\u001b[0m \u001b[0mrecords\u001b[0m\u001b[0;34m)\u001b[0m\u001b[0;34m:\u001b[0m\u001b[0;34m\u001b[0m\u001b[0;34m\u001b[0m\u001b[0m\n\u001b[0;32m--> 382\u001b[0;31m         \u001b[0;32mreturn\u001b[0m \u001b[0mlen\u001b[0m\u001b[0;34m(\u001b[0m\u001b[0mrecords\u001b[0m\u001b[0;34m)\u001b[0m\u001b[0;34m,\u001b[0m \u001b[0;36m0\u001b[0m\u001b[0;34m\u001b[0m\u001b[0;34m\u001b[0m\u001b[0m\n\u001b[0m\u001b[1;32m    383\u001b[0m \u001b[0;34m\u001b[0m\u001b[0m\n\u001b[1;32m    384\u001b[0m     \u001b[0;31m# Select filename, lineno, func_name to track frames with\u001b[0m\u001b[0;34m\u001b[0m\u001b[0;34m\u001b[0m\u001b[0;34m\u001b[0m\u001b[0m\n",
      "\u001b[0;31mTypeError\u001b[0m: object of type 'NoneType' has no len()"
     ]
    }
   ],
   "source": [
    "trn_acc_list = []\n",
    "tst_acc_list = []\n",
    "\n",
    "for epoch_ in range(n_epochs):\n",
    "    lr = {'ff' : lr_start['ff'] * (0.99)**epoch_, 'fb' : lr_start['fb'] * (0.99)**epoch_}\n",
    "    for idx, (x, y) in tqdm(enumerate(train_loader)):\n",
    "        x, y = x.to(device), y.to(device)\n",
    "        x = x.view(x.size(0),-1).T\n",
    "        y_one_hot = F.one_hot(y, 10).to(device).T\n",
    "        \n",
    "        take_debug_logs_ = (idx % 500 == 0)\n",
    "        if use_random_sign_beta:\n",
    "            rnd_sgn = 2*np.random.randint(2) - 1\n",
    "            beta = rnd_sgn*beta\n",
    "            \n",
    "        neurons = model.batch_step_hopfield( x, y_one_hot, hopfield_g, \n",
    "                                             lr, neural_lr_start, neural_lr_stop, neural_lr_rule, \n",
    "                                             neural_lr_decay_multiplier, neural_dynamic_iterations_free,\n",
    "                                             neural_dynamic_iterations_nudged, beta, \n",
    "                                             use_three_phase, take_debug_logs_)\n",
    "    \n",
    "    trn_acc = evaluateContrastiveCorInfoMaxHopfield(model, train_loader, hopfield_g, neural_lr_start, \n",
    "                                                    neural_lr_stop, neural_lr_rule, \n",
    "                                                    neural_lr_decay_multiplier, \n",
    "                                                    neural_dynamic_iterations_free, \n",
    "                                                    device, printing = False)\n",
    "    tst_acc = evaluateContrastiveCorInfoMaxHopfield(model, test_loader, hopfield_g, neural_lr_start, \n",
    "                                                    neural_lr_stop, neural_lr_rule, \n",
    "                                                    neural_lr_decay_multiplier, \n",
    "                                                    neural_dynamic_iterations_free, \n",
    "                                                    device, printing = False)\n",
    "    trn_acc_list.append(trn_acc)\n",
    "    tst_acc_list.append(tst_acc)\n",
    "    \n",
    "    print(\"Epoch : {}, Train Accuracy : {}, Test Accuracy : {}\".format(epoch_+1, trn_acc, tst_acc))"
   ]
  },
  {
   "cell_type": "code",
   "execution_count": null,
   "id": "fe20a069",
   "metadata": {},
   "outputs": [],
   "source": [
    "plot_convergence_plot(trn_acc_list, xlabel = 'Number of Epochs', ylabel = 'Accuracy %',\n",
    "                      title = 'Contrastive CorInfoMax Train Accuracy w.r.t. Epochs', \n",
    "                      figsize = (12,8), fontsize = 25, linewidth = 3)"
   ]
  },
  {
   "cell_type": "code",
   "execution_count": null,
   "id": "93e28c34",
   "metadata": {},
   "outputs": [],
   "source": [
    "plot_convergence_plot(tst_acc_list, xlabel = 'Number of Epochs', ylabel = 'Accuracy %',\n",
    "                      title = 'Contrastive CorInfoMax Test Accuracy w.r.t. Epochs', \n",
    "                      figsize = (12,8), fontsize = 25, linewidth = 3)"
   ]
  },
  {
   "cell_type": "code",
   "execution_count": null,
   "id": "3e950d3e",
   "metadata": {},
   "outputs": [],
   "source": [
    "plt.figure(figsize = (18, 12))\n",
    "plt.plot(model.forward_backward_angles, linewidth=2)\n",
    "plt.xlabel(\"Number of Debug Points\", fontsize=45)\n",
    "plt.ylabel(\"Angle (Degree)\", fontsize=45)\n",
    "plt.title(\"Angles of Forward and Backward Weights\", fontsize=45)\n",
    "plt.grid()\n",
    "plt.xticks(fontsize=45)\n",
    "plt.yticks(fontsize=45)\n",
    "plt.show()"
   ]
  },
  {
   "cell_type": "code",
   "execution_count": 9,
   "id": "a72b3557",
   "metadata": {},
   "outputs": [
    {
     "data": {
      "text/plain": [
       "[<matplotlib.lines.Line2D at 0x2ab0238a8cd0>]"
      ]
     },
     "execution_count": 9,
     "metadata": {},
     "output_type": "execute_result"
    },
    {
     "data": {
      "image/png": "[encoded data removed]",
      "text/plain": [
       "<Figure size 432x288 with 1 Axes>"
      ]
     },
     "metadata": {
      "needs_background": "light"
     },
     "output_type": "display_data"
    }
   ],
   "source": [
    "plt.plot(np.array(model.layerwise_forward_corinfo_list_nudged) - np.array(model.layerwise_forward_corinfo_list_free))\n",
    "# plt.show()\n",
    "\n",
    "plt.plot(np.array(model.layerwise_backward_corinfo_list_nudged) - np.array(model.layerwise_backward_corinfo_list_free))\n",
    "# plt.show()\n",
    "\n"
   ]
  },
  {
   "cell_type": "code",
   "execution_count": 10,
   "id": "12f5298a",
   "metadata": {},
   "outputs": [
    {
     "data": {
      "image/png": "[encoded data removed]",
      "text/plain": [
       "<Figure size 432x288 with 1 Axes>"
      ]
     },
     "metadata": {
      "needs_background": "light"
     },
     "output_type": "display_data"
    }
   ],
   "source": [
    "plt.plot(model.layerwise_backward_corinfo_list_free)\n",
    "# plt.show()\n",
    "\n",
    "plt.plot(model.layerwise_backward_corinfo_list_nudged)\n",
    "plt.show()\n",
    "\n"
   ]
  },
  {
   "cell_type": "code",
   "execution_count": 11,
   "id": "94a41047",
   "metadata": {},
   "outputs": [],
   "source": [
    "# model.layerwise_backward_corinfo_list_free, model.layerwise_backward_corinfo_list_nudged"
   ]
  },
  {
   "cell_type": "code",
   "execution_count": 12,
   "id": "017784fe",
   "metadata": {},
   "outputs": [
    {
     "data": {
      "image/png": "[encoded data removed]",
      "text/plain": [
       "<Figure size 432x288 with 1 Axes>"
      ]
     },
     "metadata": {
      "needs_background": "light"
     },
     "output_type": "display_data"
    }
   ],
   "source": [
    "plt.plot(model.layerwise_forward_corinfo_list_free)\n",
    "# plt.show()\n",
    "\n",
    "plt.plot(model.layerwise_forward_corinfo_list_nudged)\n",
    "plt.show()\n",
    "\n"
   ]
  },
  {
   "cell_type": "code",
   "execution_count": null,
   "id": "6e5cbf13",
   "metadata": {},
   "outputs": [],
   "source": [
    "plt.plot(np.array(model.layerwise_forward_corinfo_list_free) / np.array(model.layerwise_backward_corinfo_list_free))"
   ]
  },
  {
   "cell_type": "code",
   "execution_count": null,
   "id": "5bb034f7",
   "metadata": {},
   "outputs": [],
   "source": [
    "model.layerwise_forward_corinfo_list_free"
   ]
  },
  {
   "cell_type": "code",
   "execution_count": null,
   "id": "59cce7cc",
   "metadata": {},
   "outputs": [],
   "source": [
    "model.layerwise_forward_corinfo_list_nudged"
   ]
  },
  {
   "cell_type": "code",
   "execution_count": null,
   "id": "68b5f2a4",
   "metadata": {},
   "outputs": [],
   "source": [
    "plt.plot(np.array(model.layerwise_forward_corinfo_list_nudged) - np.array(model.layerwise_forward_corinfo_list_free))\n",
    "# plt.show()\n",
    "\n",
    "plt.plot(np.array(model.layerwise_backward_corinfo_list_nudged) - np.array(model.layerwise_backward_corinfo_list_free))\n",
    "# plt.show()\n",
    "\n"
   ]
  },
  {
   "cell_type": "code",
   "execution_count": null,
   "id": "d62117fa",
   "metadata": {},
   "outputs": [],
   "source": [
    "x,y = next(iter(train_loader))\n",
    "x, y = x.to(device), y.to(device)\n",
    "x = x.view(x.size(0),-1).T\n",
    "y_one_hot = F.one_hot(y, 10).to(device).T\n",
    "\n",
    "neurons = model.init_neurons(x.size(1), device = model.device)\n",
    "\n",
    "neurons = model.run_neural_dynamics_hopfield(x, y, neurons, hopfield_g, neural_lr_start, neural_lr_stop, neural_lr_rule, \n",
    "                                             neural_lr_decay_multiplier, neural_dynamic_iterations_free, 1)\n",
    "\n",
    "layers = [x] + neurons\n",
    "Wff = model.Wff\n",
    "Wfb = model.Wfb\n",
    "B = model.B\n",
    "Rfree = model.Rfree\n",
    "Rnudged = model.Rnudged\n",
    "print(len(Wff), len(Wfb), len(B), len(Rfree), len(Rnudged))"
   ]
  },
  {
   "cell_type": "code",
   "execution_count": null,
   "id": "774d30c6",
   "metadata": {},
   "outputs": [],
   "source": [
    "torch.norm(neurons[0] - (Wff[0]['weight'] @ x + Wff[0]['bias']))"
   ]
  },
  {
   "cell_type": "code",
   "execution_count": null,
   "id": "328d6e3e",
   "metadata": {},
   "outputs": [],
   "source": [
    "norm_check = 0\n",
    "bs = neurons[0].shape[1]\n",
    "for ii in range(bs):\n",
    "    norm_check +=(lambda_ ** (bs - ii + 1)) * torch.norm((neurons[0] - (Wff[0]['weight'] @ x + Wff[0]['bias']))[:,ii])\n",
    "    \n",
    "norm_check"
   ]
  },
  {
   "cell_type": "code",
   "execution_count": null,
   "id": "2bd61d4e",
   "metadata": {},
   "outputs": [],
   "source": [
    "torch.norm(neurons[1] - (Wff[1]['weight'] @ neurons[0] + Wff[1]['bias']))"
   ]
  },
  {
   "cell_type": "code",
   "execution_count": null,
   "id": "bc6a1c3b",
   "metadata": {},
   "outputs": [],
   "source": [
    "norm_check = 0\n",
    "bs = neurons[0].shape[1]\n",
    "for ii in range(bs):\n",
    "    norm_check +=(lambda_ ** (bs - ii + 1)) * torch.norm((neurons[1] - (Wff[1]['weight'] @ neurons[0] + Wff[1]['bias']))[:,ii])\n",
    "    \n",
    "norm_check"
   ]
  },
  {
   "cell_type": "code",
   "execution_count": null,
   "id": "8aabddcf",
   "metadata": {},
   "outputs": [],
   "source": [
    "58.9840 / 13.4070"
   ]
  },
  {
   "cell_type": "code",
   "execution_count": null,
   "id": "4d7c1025",
   "metadata": {},
   "outputs": [],
   "source": [
    "233.0565 / 53.0576"
   ]
  },
  {
   "cell_type": "code",
   "execution_count": null,
   "id": "fd3cb8d1",
   "metadata": {},
   "outputs": [],
   "source": [
    "np.sqrt(20)"
   ]
  },
  {
   "cell_type": "code",
   "execution_count": null,
   "id": "c4656149",
   "metadata": {},
   "outputs": [],
   "source": [
    "np.log(epsilon), torch.log(torch.Tensor([epsilon]).to(device)) "
   ]
  },
  {
   "cell_type": "code",
   "execution_count": null,
   "id": "dd7aeb1a",
   "metadata": {},
   "outputs": [],
   "source": [
    "(neurons[0] - (Wff[0]['weight'] @ x + Wff[0]['bias'])).shape"
   ]
  },
  {
   "cell_type": "code",
   "execution_count": null,
   "id": "61e7faa1",
   "metadata": {},
   "outputs": [],
   "source": [
    "norm_check = 0\n",
    "bs = neurons[0].shape[1]\n",
    "for ii in range(bs):\n",
    "    norm_check +=(lambda_ ** (bs - ii + 1)) * torch.norm((neurons[0] - (Wff[0]['weight'] @ x + Wff[0]['bias']))[:,4])\n",
    "    \n",
    "norm_check"
   ]
  },
  {
   "cell_type": "code",
   "execution_count": null,
   "id": "8b84ca35",
   "metadata": {},
   "outputs": [],
   "source": [
    "lambda_"
   ]
  },
  {
   "cell_type": "code",
   "execution_count": null,
   "id": "1b4d8bd1",
   "metadata": {},
   "outputs": [],
   "source": [
    "torch.linalg.matrix_rank(R[0]['weight'])"
   ]
  },
  {
   "cell_type": "code",
   "execution_count": null,
   "id": "27eb97a2",
   "metadata": {},
   "outputs": [],
   "source": [
    "(torch.eye(*R[0]['weight'].shape).to(device))"
   ]
  },
  {
   "cell_type": "code",
   "execution_count": null,
   "id": "a51e9881",
   "metadata": {},
   "outputs": [],
   "source": [
    "torch.logdet(R[0]['weight'] + epsilon * torch.eye(*R[0]['weight'].shape).to(device))"
   ]
  },
  {
   "cell_type": "code",
   "execution_count": null,
   "id": "0cae338d",
   "metadata": {},
   "outputs": [],
   "source": [
    "torch.logdet(R[0]['weight'].type(torch.float64) + epsilon * torch.eye(*R[0]['weight'].shape).to(device))"
   ]
  },
  {
   "cell_type": "code",
   "execution_count": null,
   "id": "31ecd2bb",
   "metadata": {},
   "outputs": [],
   "source": [
    "torch.float64"
   ]
  },
  {
   "cell_type": "code",
   "execution_count": null,
   "id": "38135a27",
   "metadata": {},
   "outputs": [],
   "source": [
    "torch2numpy(epsilon * torch.eye(*R[0]['weight'].shape).to(device)).shape"
   ]
  },
  {
   "cell_type": "code",
   "execution_count": null,
   "id": "c7ba32ae",
   "metadata": {},
   "outputs": [],
   "source": [
    "np.linalg.det(torch2numpy(R[0]['weight']))"
   ]
  },
  {
   "cell_type": "code",
   "execution_count": null,
   "id": "7af81704",
   "metadata": {},
   "outputs": [],
   "source": [
    "np.linalg.det(torch2numpy(R[0]['weight'] + epsilon * torch.eye(*R[0]['weight'].shape).to(device))) == 0"
   ]
  },
  {
   "cell_type": "code",
   "execution_count": null,
   "id": "3360d616",
   "metadata": {},
   "outputs": [],
   "source": [
    "torch.linalg.matrix_rank(B[0]['weight'])"
   ]
  },
  {
   "cell_type": "code",
   "execution_count": null,
   "id": "95d65599",
   "metadata": {},
   "outputs": [],
   "source": [
    "np.linalg.det(torch2numpy(B[0]['weight']))"
   ]
  },
  {
   "cell_type": "code",
   "execution_count": null,
   "id": "fa0860fa",
   "metadata": {},
   "outputs": [],
   "source": [
    "torch.logdet(B[0]['weight'])"
   ]
  },
  {
   "cell_type": "code",
   "execution_count": null,
   "id": "fe608502",
   "metadata": {},
   "outputs": [],
   "source": [
    "forward_info_list = []\n",
    "for jj in range(len(model.architecture) - 2):\n",
    "    forward_info_jj = (torch.logdet(R[jj + 1]['weight'] + epsilon * torch.eye(*R[jj + 1]['weight'].shape).to(device)) - one_over_epsilon * torch.norm(layers[jj + 2] - Wff[jj + 1]['weight'] @ layers[jj + 1] - Wff[jj + 1]['bias']) ** 2).item()\n",
    "    forward_info_list.append(forward_info_jj)\n",
    "    \n",
    "backward_info_list = []\n",
    "for jj in range(len(model.architecture) - 2):\n",
    "    backward_info_jj = (torch.logdet(R[jj]['weight'] + epsilon * torch.eye(*R[jj]['weight'].shape).to(device)) - one_over_epsilon * torch.norm(model.append_ones_row_vector_to_tensor(layers[jj + 1]) - Wfb[jj + 1]['weight'] @ layers[jj + 2]) ** 2).item()\n",
    "    backward_info_list.append(backward_info_jj)"
   ]
  },
  {
   "cell_type": "code",
   "execution_count": null,
   "id": "9bb87552",
   "metadata": {},
   "outputs": [],
   "source": [
    "forward_info_list, backward_info_list"
   ]
  },
  {
   "cell_type": "code",
   "execution_count": null,
   "id": "856fa7e2",
   "metadata": {},
   "outputs": [],
   "source": [
    "jj = -1\n",
    "torch.logdet(torch.inverse(B[jj + 1]['weight']) + epsilon * torch.eye(*B[jj + 1]['weight'].shape).to(device))"
   ]
  },
  {
   "cell_type": "code",
   "execution_count": null,
   "id": "6fba0c24",
   "metadata": {},
   "outputs": [],
   "source": [
    "jj = -1\n",
    "torch.logdet(torch.inverse(B[jj + 1]['weight'][:-1,:-1]) + epsilon * torch.eye(*B[jj + 1]['weight'][:-1,:-1].shape).to(device))"
   ]
  },
  {
   "cell_type": "code",
   "execution_count": null,
   "id": "877864e6",
   "metadata": {},
   "outputs": [],
   "source": [
    "jj = -1\n",
    "torch.logdet(torch.inverse((B[jj + 1]['weight']) + epsilon * torch.eye(*B[jj + 1]['weight'].shape).to(device))[:-1,:-1])"
   ]
  },
  {
   "cell_type": "code",
   "execution_count": null,
   "id": "3e875497",
   "metadata": {},
   "outputs": [],
   "source": [
    "torch.logdet(torch.inverse(B[0]['weight']) + epsilon * torch.eye(*B[0]['weight'].shape).to(device)) - one_over_epsilon * torch.norm(model.append_ones_row_vector_to_tensor(layers[1]) - Wfb[1]['weight'] @ layers[2]) ** 2"
   ]
  },
  {
   "cell_type": "code",
   "execution_count": null,
   "id": "68d3d0c9",
   "metadata": {},
   "outputs": [],
   "source": [
    "(Wff[1]['weight'] @ layers[1] -  Wff[1]['bias']).shape"
   ]
  },
  {
   "cell_type": "code",
   "execution_count": null,
   "id": "d7fe47ab",
   "metadata": {},
   "outputs": [],
   "source": [
    "layers[2].shape"
   ]
  },
  {
   "cell_type": "code",
   "execution_count": null,
   "id": "dce09bac",
   "metadata": {},
   "outputs": [],
   "source": [
    "torch.logdet(torch.inverse(B[1]['weight']) + epsilon * torch.eye(*B[1]['weight'].shape).to(device)) - one_over_epsilon * torch.norm(layers[2] - Wff[1]['weight'] @ layers[1] - Wff[1]['bias']) ** 2"
   ]
  },
  {
   "cell_type": "code",
   "execution_count": null,
   "id": "3e88fc87",
   "metadata": {},
   "outputs": [],
   "source": [
    "display_matrix(model.B[0]['weight'][:10,:10])"
   ]
  },
  {
   "cell_type": "code",
   "execution_count": null,
   "id": "71cac654",
   "metadata": {},
   "outputs": [],
   "source": [
    "display_matrix(torch.linalg.inv(model.R[0]['weight'])[:10,:10])"
   ]
  },
  {
   "cell_type": "code",
   "execution_count": null,
   "id": "51951ba0",
   "metadata": {},
   "outputs": [],
   "source": [
    "# from torch_utils import *"
   ]
  },
  {
   "cell_type": "code",
   "execution_count": null,
   "id": "e706925d",
   "metadata": {},
   "outputs": [],
   "source": [
    "# def angle_between_two_matrices(A, B):\n",
    "#     \"\"\"Computes the angle between two matrices A and B.\n",
    "\n",
    "#     Args:\n",
    "#         A (torch.Tensor): Pytorch tensor of size m times n\n",
    "#         B (torch.Tensor): Pytorch tensor of size m times n\n",
    "\n",
    "#     Returns:\n",
    "#         angle: angle between the matrices A and B. The formula is given by the following:\n",
    "#                (180/pi) * acos[ Tr(A @ B.T) / sqrt(Tr(A @ A.T) * Tr(B @ B.T))] \n",
    "#     \"\"\"\n",
    "\n",
    "#     angle = (180 / torch.pi) * torch.acos(torch.trace(A @ B.T) / torch.sqrt(torch.trace(A @ A.T) * torch.trace(B @ B.T)))\n",
    "#     return angle"
   ]
  },
  {
   "cell_type": "code",
   "execution_count": null,
   "id": "3c7decc0",
   "metadata": {},
   "outputs": [],
   "source": [
    "plt.plot(model.forward_backward_angles)"
   ]
  },
  {
   "cell_type": "code",
   "execution_count": null,
   "id": "b93b7579",
   "metadata": {},
   "outputs": [],
   "source": [
    "angle_between_two_matrices(model.Wff[1]['weight'], model.Wfb[1]['weight'].T).item()"
   ]
  },
  {
   "cell_type": "code",
   "execution_count": null,
   "id": "e8f3192b",
   "metadata": {},
   "outputs": [],
   "source": [
    "# torch.norm(model.B[0]['weight'] - torch.linalg.inv(model.Rh1))"
   ]
  },
  {
   "cell_type": "code",
   "execution_count": null,
   "id": "865769b5",
   "metadata": {},
   "outputs": [],
   "source": [
    "# display_matrix(torch.linalg.inv(model.Rh2)[:10,:10])"
   ]
  }
 ],
 "metadata": {
  "kernelspec": {
   "display_name": "Python 3 (ipykernel)",
   "language": "python",
   "name": "python3"
  },
  "language_info": {
   "codemirror_mode": {
    "name": "ipython",
    "version": 3
   },
   "file_extension": ".py",
   "mimetype": "text/x-python",
   "name": "python",
   "nbconvert_exporter": "python",
   "pygments_lexer": "ipython3",
   "version": "3.8.8"
  }
 },
 "nbformat": 4,
 "nbformat_minor": 5
}
