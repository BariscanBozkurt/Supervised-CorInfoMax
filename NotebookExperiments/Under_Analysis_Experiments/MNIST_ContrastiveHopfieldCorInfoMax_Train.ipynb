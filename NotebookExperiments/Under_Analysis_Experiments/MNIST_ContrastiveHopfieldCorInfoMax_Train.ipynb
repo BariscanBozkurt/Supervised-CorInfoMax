{
 "cells": [
  {
   "cell_type": "code",
   "execution_count": 1,
   "id": "89b20c38",
   "metadata": {},
   "outputs": [],
   "source": [
    "import sys\n",
    "sys.path.append(\"../../src\")\n",
    "import torch\n",
    "import matplotlib.pyplot as plt\n",
    "import numpy as np\n",
    "import torchvision\n",
    "import torch.nn.functional as F\n",
    "\n",
    "import glob\n",
    "import os\n",
    "from datetime import datetime\n",
    "import time\n",
    "import math\n",
    "from tqdm import tqdm\n",
    "\n",
    "from itertools import repeat\n",
    "from torch.nn.parameter import Parameter\n",
    "import collections\n",
    "import matplotlib\n",
    "from torch_utils import *\n",
    "# from utils import display_matrix\n",
    "from debug.debug import *\n",
    "from visualization import *\n",
    "# matplotlib.use('Agg')"
   ]
  },
  {
   "cell_type": "code",
   "execution_count": 2,
   "id": "ef0c0a15",
   "metadata": {},
   "outputs": [
    {
     "data": {
      "text/plain": [
       "device(type='cuda', index=0)"
      ]
     },
     "execution_count": 2,
     "metadata": {},
     "output_type": "execute_result"
    }
   ],
   "source": [
    "device = torch.device('cuda:0' if torch.cuda.is_available() else 'cpu')\n",
    "device"
   ]
  },
  {
   "cell_type": "code",
   "execution_count": 3,
   "id": "128dc72a",
   "metadata": {},
   "outputs": [],
   "source": [
    "transform = torchvision.transforms.Compose([torchvision.transforms.ToTensor(), \n",
    "                                            torchvision.transforms.Normalize(mean=(0.0,), std=(1.0,))])\n",
    "\n",
    "mnist_dset_train = torchvision.datasets.MNIST('../../data', train=True, transform=transform, target_transform=None, download=True)\n",
    "train_loader = torch.utils.data.DataLoader(mnist_dset_train, batch_size=20, shuffle=True, num_workers=0)\n",
    "\n",
    "mnist_dset_test = torchvision.datasets.MNIST('../../data', train=False, transform=transform, target_transform=None, download=True)\n",
    "test_loader = torch.utils.data.DataLoader(mnist_dset_test, batch_size=20, shuffle=False, num_workers=0)"
   ]
  },
  {
   "cell_type": "markdown",
   "id": "726f01c2",
   "metadata": {},
   "source": [
    "# Possible Hyperparameter Selections are Commented Below"
   ]
  },
  {
   "cell_type": "code",
   "execution_count": 4,
   "id": "6648198c",
   "metadata": {},
   "outputs": [],
   "source": [
    "## The below works fine with xavier weight initialization. It reaches to 2-3% train and test errors\n",
    "# activation = hard_sigmoid\n",
    "# architecture = [784, 500, 10]\n",
    "\n",
    "# beta = 1\n",
    "# lambda_ = 0.99995\n",
    "# epsilon = 0.15\n",
    "# one_over_epsilon = 1 / epsilon\n",
    "# lr_start = {'ff' : np.array([0.3, 0.15]), 'fb': np.array([0.15, 0.1])}\n",
    "\n",
    "# neural_lr_start = 0.1\n",
    "# neural_lr_stop = 0.001\n",
    "# neural_lr_rule = \"constant\"\n",
    "# neural_lr_decay_multiplier = 0.01\n",
    "# neural_dynamic_iterations_nudged = 10\n",
    "# neural_dynamic_iterations_free = 20\n",
    "# hopfield_g = 0.05\n",
    "\n",
    "# use_random_sign_beta = False\n",
    "# use_three_phase = True\n",
    "# n_epochs = 20\n",
    "\n",
    "## The following is not bad. It reaches to (Epoch : 20, Train Accuracy : 0.9647166666666667, Test Accuracy : 0.9558)\n",
    "\n",
    "# activation = hard_sigmoid\n",
    "# architecture = [784, 128, 64, 10]\n",
    "\n",
    "# beta = 1\n",
    "# lambda_ = 0.99995\n",
    "# epsilon = 0.15\n",
    "# one_over_epsilon = 1 / epsilon\n",
    "# lr_start = {'ff' : np.array([0.25, 0.15, 0.1]), 'fb': np.array([0.1, 0.05, 0.05])}\n",
    "\n",
    "# neural_lr_start = 0.1\n",
    "# neural_lr_stop = 0.001\n",
    "# neural_lr_rule = \"constant\"\n",
    "# neural_lr_decay_multiplier = 0.01\n",
    "# neural_dynamic_iterations_nudged = 10\n",
    "# neural_dynamic_iterations_free = 20\n",
    "# hopfield_g = 0.05\n",
    "\n",
    "# use_random_sign_beta = False\n",
    "# use_three_phase = True\n",
    "# n_epochs = 20\n",
    "\n",
    "\n",
    "## The below is not that bad\n",
    "\n",
    "# activation = hard_sigmoid\n",
    "# architecture = [784, 128, 64, 10]\n",
    "\n",
    "# beta = 1\n",
    "# lambda_ = 0.9999\n",
    "# epsilon = 0.15\n",
    "# one_over_epsilon = 1 / epsilon\n",
    "# lr_start = {'ff' : np.array([0.25, 0.15, 0.15]), 'fb': np.array([np.nan, 0.05, 0.05])}\n",
    "\n",
    "# neural_lr_start = 0.1\n",
    "# neural_lr_stop = 0.001\n",
    "# neural_lr_rule = \"constant\"\n",
    "# neural_lr_decay_multiplier = 0.01\n",
    "# neural_dynamic_iterations_nudged = 10\n",
    "# neural_dynamic_iterations_free = 20\n",
    "# hopfield_g = 0.05\n",
    "\n",
    "# use_random_sign_beta = False\n",
    "# use_three_phase = True\n",
    "# n_epochs = 20"
   ]
  },
  {
   "cell_type": "code",
   "execution_count": 20,
   "id": "8c77e36f",
   "metadata": {},
   "outputs": [],
   "source": [
    "def linear(x):\n",
    "    return x\n",
    "\n",
    "activation = hard_sigmoid\n",
    "architecture = [784, 500, 10]\n",
    "\n",
    "beta = 1\n",
    "lambda_ = 0.99995\n",
    "epsilon = 0.15\n",
    "one_over_epsilon = 1 / epsilon\n",
    "lr_start = {'ff' : np.array([0.3, 0.15]), 'fb': np.array([0.15, 0.1])}\n",
    "\n",
    "neural_lr_start = 0.1\n",
    "neural_lr_stop = 0.001\n",
    "neural_lr_rule = \"constant\"\n",
    "neural_lr_decay_multiplier = 0.01\n",
    "neural_dynamic_iterations_nudged = 10\n",
    "neural_dynamic_iterations_free = 30\n",
    "hopfield_g = 0.05\n",
    "\n",
    "use_random_sign_beta = False\n",
    "use_three_phase = True\n",
    "n_epochs = 20\n",
    "\n",
    "model = ContrastiveCorInfoMaxHopfield(architecture = architecture, lambda_ = lambda_, \n",
    "                                       epsilon = epsilon, activation = activation)"
   ]
  },
  {
   "cell_type": "code",
   "execution_count": 10,
   "id": "a9c75156",
   "metadata": {},
   "outputs": [],
   "source": [
    "# def linear(x):\n",
    "#     return x\n",
    "\n",
    "# activation = hard_sigmoid\n",
    "# architecture = [784, 500, 10]\n",
    "\n",
    "# beta = 0.1\n",
    "# lambda_ = 0.99995\n",
    "# epsilon = 0.15\n",
    "# one_over_epsilon = 1 / epsilon\n",
    "# lr_start = {'ff' : np.array([0.001, 0.001]), 'fb': np.array([0.001, 0.0005])}\n",
    "\n",
    "# neural_lr_start = 0.1\n",
    "# neural_lr_stop = 0.001\n",
    "# neural_lr_rule = \"constant\"\n",
    "# neural_lr_decay_multiplier = 0.01\n",
    "# neural_dynamic_iterations_nudged = 10\n",
    "# neural_dynamic_iterations_free = 30\n",
    "# hopfield_g = 0.05\n",
    "\n",
    "# use_random_sign_beta = False\n",
    "# use_three_phase = False\n",
    "# n_epochs = 20\n",
    "\n",
    "# model = ContrastiveCorInfoMaxHopfield2(architecture = architecture, lambda_ = lambda_, \n",
    "#                                        epsilon = epsilon, activation = activation)"
   ]
  },
  {
   "cell_type": "code",
   "execution_count": 11,
   "id": "70882507",
   "metadata": {},
   "outputs": [],
   "source": [
    "# def append_ones_row_vector_to_tensor(inp_vector):\n",
    "#     return torch.cat((inp_vector, torch.ones(1, inp_vector.shape[1]).to(inp_vector.device)), 0)"
   ]
  },
  {
   "cell_type": "code",
   "execution_count": 12,
   "id": "36caab39",
   "metadata": {},
   "outputs": [],
   "source": [
    "# x, y = next(iter(train_loader))\n",
    "# x, y = x.to(device), y.to(device)\n",
    "# x = x.view(x.size(0),-1).T\n",
    "# y_one_hot = F.one_hot(y, 10).to(device).T\n",
    "# print(model.B[0]['weight'][:-1].shape)\n",
    "# neurons = model.init_neurons(x.size(1), device = model.device)\n",
    "\n",
    "# torch.cat((neurons[0], torch.ones(1, neurons[0].shape[1]).to(device)), 0).shape\n",
    "# append_ones_row_vector_to_tensor(neurons[0]).shape"
   ]
  },
  {
   "cell_type": "code",
   "execution_count": 21,
   "id": "3448d1d0",
   "metadata": {},
   "outputs": [
    {
     "name": "stdout",
     "output_type": "stream",
     "text": [
      "Train accuracy :\t 0.07006666666666667\n"
     ]
    }
   ],
   "source": [
    "_ = evaluateContrastiveCorInfoMaxHopfield(model, train_loader, hopfield_g,\n",
    "                                          neural_lr_start, neural_lr_stop, neural_lr_rule, \n",
    "                                          neural_lr_decay_multiplier, \n",
    "                                          neural_dynamic_iterations_free, device)"
   ]
  },
  {
   "cell_type": "code",
   "execution_count": 22,
   "id": "5c6107ac",
   "metadata": {},
   "outputs": [
    {
     "name": "stderr",
     "output_type": "stream",
     "text": [
      "3000it [01:41, 29.48it/s]\n",
      "0it [00:00, ?it/s]"
     ]
    },
    {
     "name": "stdout",
     "output_type": "stream",
     "text": [
      "Epoch : 1, Train Accuracy : 0.9086833333333333, Test Accuracy : 0.9111\n",
      "Nudged Information ratio: [0.10157576]\n"
     ]
    },
    {
     "name": "stderr",
     "output_type": "stream",
     "text": [
      "3000it [01:40, 29.99it/s]\n",
      "0it [00:00, ?it/s]"
     ]
    },
    {
     "name": "stdout",
     "output_type": "stream",
     "text": [
      "Epoch : 2, Train Accuracy : 0.9328333333333333, Test Accuracy : 0.9323\n",
      "Nudged Information ratio: [0.09514641]\n"
     ]
    },
    {
     "name": "stderr",
     "output_type": "stream",
     "text": [
      "3000it [01:40, 29.75it/s]\n",
      "0it [00:00, ?it/s]"
     ]
    },
    {
     "name": "stdout",
     "output_type": "stream",
     "text": [
      "Epoch : 3, Train Accuracy : 0.9426833333333333, Test Accuracy : 0.9415\n",
      "Nudged Information ratio: [0.08972153]\n"
     ]
    },
    {
     "name": "stderr",
     "output_type": "stream",
     "text": [
      "3000it [01:41, 29.43it/s]\n",
      "0it [00:00, ?it/s]"
     ]
    },
    {
     "name": "stdout",
     "output_type": "stream",
     "text": [
      "Epoch : 4, Train Accuracy : 0.9505166666666667, Test Accuracy : 0.9484\n",
      "Nudged Information ratio: [0.0731472]\n"
     ]
    },
    {
     "name": "stderr",
     "output_type": "stream",
     "text": [
      "3000it [01:42, 29.32it/s]\n",
      "0it [00:00, ?it/s]"
     ]
    },
    {
     "name": "stdout",
     "output_type": "stream",
     "text": [
      "Epoch : 5, Train Accuracy : 0.9577333333333333, Test Accuracy : 0.9538\n",
      "Nudged Information ratio: [0.07028019]\n"
     ]
    },
    {
     "name": "stderr",
     "output_type": "stream",
     "text": [
      "3000it [01:41, 29.48it/s]\n",
      "0it [00:00, ?it/s]"
     ]
    },
    {
     "name": "stdout",
     "output_type": "stream",
     "text": [
      "Epoch : 6, Train Accuracy : 0.96155, Test Accuracy : 0.9577\n",
      "Nudged Information ratio: [0.06698646]\n"
     ]
    },
    {
     "name": "stderr",
     "output_type": "stream",
     "text": [
      "3000it [01:42, 29.25it/s]\n",
      "0it [00:00, ?it/s]"
     ]
    },
    {
     "name": "stdout",
     "output_type": "stream",
     "text": [
      "Epoch : 7, Train Accuracy : 0.9640166666666666, Test Accuracy : 0.9599\n",
      "Nudged Information ratio: [0.06674856]\n"
     ]
    },
    {
     "name": "stderr",
     "output_type": "stream",
     "text": [
      "3000it [01:41, 29.67it/s]\n",
      "0it [00:00, ?it/s]"
     ]
    },
    {
     "name": "stdout",
     "output_type": "stream",
     "text": [
      "Epoch : 8, Train Accuracy : 0.9665833333333333, Test Accuracy : 0.9612\n",
      "Nudged Information ratio: [0.05693944]\n"
     ]
    },
    {
     "name": "stderr",
     "output_type": "stream",
     "text": [
      "3000it [01:45, 28.42it/s]\n",
      "0it [00:00, ?it/s]"
     ]
    },
    {
     "name": "stdout",
     "output_type": "stream",
     "text": [
      "Epoch : 9, Train Accuracy : 0.9678166666666667, Test Accuracy : 0.9639\n",
      "Nudged Information ratio: [0.05394368]\n"
     ]
    },
    {
     "name": "stderr",
     "output_type": "stream",
     "text": [
      "3000it [01:39, 30.00it/s]\n",
      "0it [00:00, ?it/s]"
     ]
    },
    {
     "name": "stdout",
     "output_type": "stream",
     "text": [
      "Epoch : 10, Train Accuracy : 0.9696833333333333, Test Accuracy : 0.9644\n",
      "Nudged Information ratio: [0.05420568]\n"
     ]
    },
    {
     "name": "stderr",
     "output_type": "stream",
     "text": [
      "3000it [01:40, 29.92it/s]\n",
      "0it [00:00, ?it/s]"
     ]
    },
    {
     "name": "stdout",
     "output_type": "stream",
     "text": [
      "Epoch : 11, Train Accuracy : 0.9704166666666667, Test Accuracy : 0.9656\n",
      "Nudged Information ratio: [0.04550248]\n"
     ]
    },
    {
     "name": "stderr",
     "output_type": "stream",
     "text": [
      "3000it [01:42, 29.17it/s]\n",
      "0it [00:00, ?it/s]"
     ]
    },
    {
     "name": "stdout",
     "output_type": "stream",
     "text": [
      "Epoch : 12, Train Accuracy : 0.9715666666666667, Test Accuracy : 0.966\n",
      "Nudged Information ratio: [0.04763709]\n"
     ]
    },
    {
     "name": "stderr",
     "output_type": "stream",
     "text": [
      "3000it [01:42, 29.14it/s]\n",
      "0it [00:00, ?it/s]"
     ]
    },
    {
     "name": "stdout",
     "output_type": "stream",
     "text": [
      "Epoch : 13, Train Accuracy : 0.9726, Test Accuracy : 0.9672\n",
      "Nudged Information ratio: [0.04460281]\n"
     ]
    },
    {
     "name": "stderr",
     "output_type": "stream",
     "text": [
      "3000it [01:42, 29.32it/s]\n",
      "0it [00:00, ?it/s]"
     ]
    },
    {
     "name": "stdout",
     "output_type": "stream",
     "text": [
      "Epoch : 14, Train Accuracy : 0.97285, Test Accuracy : 0.9672\n",
      "Nudged Information ratio: [0.04367981]\n"
     ]
    },
    {
     "name": "stderr",
     "output_type": "stream",
     "text": [
      "3000it [02:22, 21.12it/s]\n",
      "0it [00:00, ?it/s]"
     ]
    },
    {
     "name": "stdout",
     "output_type": "stream",
     "text": [
      "Epoch : 15, Train Accuracy : 0.97365, Test Accuracy : 0.967\n",
      "Nudged Information ratio: [0.04830499]\n"
     ]
    },
    {
     "name": "stderr",
     "output_type": "stream",
     "text": [
      "3000it [02:26, 20.44it/s]\n",
      "0it [00:00, ?it/s]"
     ]
    },
    {
     "name": "stdout",
     "output_type": "stream",
     "text": [
      "Epoch : 16, Train Accuracy : 0.97365, Test Accuracy : 0.9675\n",
      "Nudged Information ratio: [0.04215997]\n"
     ]
    },
    {
     "name": "stderr",
     "output_type": "stream",
     "text": [
      "3000it [03:01, 16.55it/s]\n",
      "0it [00:00, ?it/s]"
     ]
    },
    {
     "name": "stdout",
     "output_type": "stream",
     "text": [
      "Epoch : 17, Train Accuracy : 0.9746833333333333, Test Accuracy : 0.9682\n",
      "Nudged Information ratio: [0.04223407]\n"
     ]
    },
    {
     "name": "stderr",
     "output_type": "stream",
     "text": [
      "3000it [04:28, 11.17it/s]\n",
      "0it [00:00, ?it/s]"
     ]
    },
    {
     "name": "stdout",
     "output_type": "stream",
     "text": [
      "Epoch : 18, Train Accuracy : 0.9747166666666667, Test Accuracy : 0.9674\n",
      "Nudged Information ratio: [0.04430812]\n"
     ]
    },
    {
     "name": "stderr",
     "output_type": "stream",
     "text": [
      "2996it [04:41, 10.64it/s]\n"
     ]
    },
    {
     "ename": "KeyboardInterrupt",
     "evalue": "",
     "output_type": "error",
     "traceback": [
      "\u001b[0;31m---------------------------------------------------------------------------\u001b[0m",
      "\u001b[0;31mKeyboardInterrupt\u001b[0m                         Traceback (most recent call last)",
      "\u001b[0;32m/tmp/ipykernel_188781/3216409034.py\u001b[0m in \u001b[0;36m<module>\u001b[0;34m\u001b[0m\n\u001b[1;32m     14\u001b[0m             \u001b[0mbeta\u001b[0m \u001b[0;34m=\u001b[0m \u001b[0mrnd_sgn\u001b[0m\u001b[0;34m*\u001b[0m\u001b[0mbeta\u001b[0m\u001b[0;34m\u001b[0m\u001b[0;34m\u001b[0m\u001b[0m\n\u001b[1;32m     15\u001b[0m \u001b[0;34m\u001b[0m\u001b[0m\n\u001b[0;32m---> 16\u001b[0;31m         neurons = model.batch_step_hopfield( x, y_one_hot, hopfield_g, \n\u001b[0m\u001b[1;32m     17\u001b[0m                                              \u001b[0mlr\u001b[0m\u001b[0;34m,\u001b[0m \u001b[0mneural_lr_start\u001b[0m\u001b[0;34m,\u001b[0m \u001b[0mneural_lr_stop\u001b[0m\u001b[0;34m,\u001b[0m \u001b[0mneural_lr_rule\u001b[0m\u001b[0;34m,\u001b[0m\u001b[0;34m\u001b[0m\u001b[0;34m\u001b[0m\u001b[0m\n\u001b[1;32m     18\u001b[0m                                              \u001b[0mneural_lr_decay_multiplier\u001b[0m\u001b[0;34m,\u001b[0m \u001b[0mneural_dynamic_iterations_free\u001b[0m\u001b[0;34m,\u001b[0m\u001b[0;34m\u001b[0m\u001b[0;34m\u001b[0m\u001b[0m\n",
      "\u001b[0;32m/scratch/users/bbozkurt15/Supervised-CorInfoMax/src/debug/debug.py\u001b[0m in \u001b[0;36mbatch_step_hopfield\u001b[0;34m(self, x, y, hopfield_g, lr, neural_lr_start, neural_lr_stop, neural_lr_rule, neural_lr_decay_multiplier, neural_dynamic_iterations_free, neural_dynamic_iterations_nudged, beta, use_three_phase, take_debug_logs)\u001b[0m\n\u001b[1;32m    330\u001b[0m          \u001b[0mfree_forward_info\u001b[0m\u001b[0;34m,\u001b[0m\u001b[0;34m\u001b[0m\u001b[0;34m\u001b[0m\u001b[0m\n\u001b[1;32m    331\u001b[0m          \u001b[0mfree_backward_info\u001b[0m\u001b[0;34m\u001b[0m\u001b[0;34m\u001b[0m\u001b[0m\n\u001b[0;32m--> 332\u001b[0;31m         \u001b[0;34m)\u001b[0m \u001b[0;34m=\u001b[0m \u001b[0mself\u001b[0m\u001b[0;34m.\u001b[0m\u001b[0mrun_neural_dynamics_hopfield\u001b[0m\u001b[0;34m(\u001b[0m\u001b[0mx\u001b[0m\u001b[0;34m,\u001b[0m \u001b[0my\u001b[0m\u001b[0;34m,\u001b[0m \u001b[0mneurons\u001b[0m\u001b[0;34m,\u001b[0m \u001b[0mhopfield_g\u001b[0m\u001b[0;34m,\u001b[0m \u001b[0mneural_lr_start\u001b[0m\u001b[0;34m,\u001b[0m \u001b[0mneural_lr_stop\u001b[0m\u001b[0;34m,\u001b[0m \u001b[0mneural_lr_rule\u001b[0m\u001b[0;34m,\u001b[0m\u001b[0;34m\u001b[0m\u001b[0;34m\u001b[0m\u001b[0m\n\u001b[0m\u001b[1;32m    333\u001b[0m                                              neural_lr_decay_multiplier, neural_dynamic_iterations_free, 0, take_debug_logs)\n\u001b[1;32m    334\u001b[0m \u001b[0;34m\u001b[0m\u001b[0m\n",
      "\u001b[0;32m/scratch/users/bbozkurt15/Supervised-CorInfoMax/src/debug/debug.py\u001b[0m in \u001b[0;36mrun_neural_dynamics_hopfield\u001b[0;34m(self, x, y, neurons, hopfield_g, neural_lr_start, neural_lr_stop, lr_rule, lr_decay_multiplier, neural_dynamic_iterations, beta, take_debug_logs)\u001b[0m\n\u001b[1;32m    298\u001b[0m                         \u001b[0mbasal_voltage\u001b[0m \u001b[0;34m=\u001b[0m \u001b[0mWff\u001b[0m\u001b[0;34m[\u001b[0m\u001b[0mjj\u001b[0m\u001b[0;34m]\u001b[0m\u001b[0;34m[\u001b[0m\u001b[0;34m'weight'\u001b[0m\u001b[0;34m]\u001b[0m \u001b[0;34m@\u001b[0m \u001b[0mlayers\u001b[0m\u001b[0;34m[\u001b[0m\u001b[0mjj\u001b[0m\u001b[0;34m]\u001b[0m \u001b[0;34m+\u001b[0m \u001b[0mWff\u001b[0m\u001b[0;34m[\u001b[0m\u001b[0mjj\u001b[0m\u001b[0;34m]\u001b[0m\u001b[0;34m[\u001b[0m\u001b[0;34m'bias'\u001b[0m\u001b[0;34m]\u001b[0m\u001b[0;34m\u001b[0m\u001b[0;34m\u001b[0m\u001b[0m\n\u001b[1;32m    299\u001b[0m                         \u001b[0mapical_voltage\u001b[0m \u001b[0;34m=\u001b[0m \u001b[0mepsilon\u001b[0m \u001b[0;34m*\u001b[0m \u001b[0;34m(\u001b[0m\u001b[0;36m2\u001b[0m \u001b[0;34m*\u001b[0m \u001b[0mgam_\u001b[0m \u001b[0;34m*\u001b[0m \u001b[0mB\u001b[0m\u001b[0;34m[\u001b[0m\u001b[0mjj\u001b[0m\u001b[0;34m]\u001b[0m\u001b[0;34m[\u001b[0m\u001b[0;34m'weight'\u001b[0m\u001b[0;34m]\u001b[0m\u001b[0;34m[\u001b[0m\u001b[0;34m:\u001b[0m\u001b[0;34m-\u001b[0m\u001b[0;36m1\u001b[0m\u001b[0;34m]\u001b[0m \u001b[0;34m@\u001b[0m \u001b[0mself\u001b[0m\u001b[0;34m.\u001b[0m\u001b[0mappend_ones_row_vector_to_tensor\u001b[0m\u001b[0;34m(\u001b[0m\u001b[0mlayers\u001b[0m\u001b[0;34m[\u001b[0m\u001b[0mjj\u001b[0m \u001b[0;34m+\u001b[0m \u001b[0;36m1\u001b[0m\u001b[0;34m]\u001b[0m\u001b[0;34m)\u001b[0m \u001b[0;34m+\u001b[0m \u001b[0mhopfield_g\u001b[0m \u001b[0;34m*\u001b[0m \u001b[0mlayers\u001b[0m\u001b[0;34m[\u001b[0m\u001b[0mjj\u001b[0m \u001b[0;34m+\u001b[0m \u001b[0;36m1\u001b[0m\u001b[0;34m]\u001b[0m\u001b[0;34m)\u001b[0m \u001b[0;34m+\u001b[0m \u001b[0;34m(\u001b[0m\u001b[0mWfb\u001b[0m\u001b[0;34m[\u001b[0m\u001b[0mjj\u001b[0m \u001b[0;34m+\u001b[0m \u001b[0;36m1\u001b[0m\u001b[0;34m]\u001b[0m\u001b[0;34m[\u001b[0m\u001b[0;34m'weight'\u001b[0m\u001b[0;34m]\u001b[0m \u001b[0;34m@\u001b[0m \u001b[0mlayers\u001b[0m\u001b[0;34m[\u001b[0m\u001b[0mjj\u001b[0m \u001b[0;34m+\u001b[0m \u001b[0;36m2\u001b[0m\u001b[0;34m]\u001b[0m\u001b[0;34m)\u001b[0m\u001b[0;34m[\u001b[0m\u001b[0;34m:\u001b[0m\u001b[0;34m-\u001b[0m\u001b[0;36m1\u001b[0m\u001b[0;34m]\u001b[0m \u001b[0;31m#+ Wfb[jj + 1]['bias']\u001b[0m\u001b[0;34m\u001b[0m\u001b[0;34m\u001b[0m\u001b[0m\n\u001b[0;32m--> 300\u001b[0;31m                         \u001b[0mgradient_neurons\u001b[0m \u001b[0;34m=\u001b[0m \u001b[0;34m-\u001b[0m \u001b[0mhopfield_g\u001b[0m \u001b[0;34m*\u001b[0m \u001b[0mneurons_intermediate\u001b[0m\u001b[0;34m[\u001b[0m\u001b[0mjj\u001b[0m\u001b[0;34m]\u001b[0m \u001b[0;34m+\u001b[0m \u001b[0mone_over_epsilon\u001b[0m \u001b[0;34m*\u001b[0m \u001b[0;34m(\u001b[0m\u001b[0mbasal_voltage\u001b[0m \u001b[0;34m-\u001b[0m \u001b[0mneurons_intermediate\u001b[0m\u001b[0;34m[\u001b[0m\u001b[0mjj\u001b[0m\u001b[0;34m]\u001b[0m\u001b[0;34m)\u001b[0m \u001b[0;34m+\u001b[0m \u001b[0mone_over_epsilon\u001b[0m \u001b[0;34m*\u001b[0m \u001b[0;34m(\u001b[0m\u001b[0mapical_voltage\u001b[0m \u001b[0;34m-\u001b[0m \u001b[0mneurons_intermediate\u001b[0m\u001b[0;34m[\u001b[0m\u001b[0mjj\u001b[0m\u001b[0;34m]\u001b[0m\u001b[0;34m)\u001b[0m\u001b[0;34m\u001b[0m\u001b[0;34m\u001b[0m\u001b[0m\n\u001b[0m\u001b[1;32m    301\u001b[0m                         \u001b[0mneurons_intermediate\u001b[0m\u001b[0;34m[\u001b[0m\u001b[0mjj\u001b[0m\u001b[0;34m]\u001b[0m \u001b[0;34m=\u001b[0m \u001b[0mneurons_intermediate\u001b[0m\u001b[0;34m[\u001b[0m\u001b[0mjj\u001b[0m\u001b[0;34m]\u001b[0m \u001b[0;34m+\u001b[0m \u001b[0mneural_lr\u001b[0m \u001b[0;34m*\u001b[0m \u001b[0mgradient_neurons\u001b[0m\u001b[0;34m\u001b[0m\u001b[0;34m\u001b[0m\u001b[0m\n\u001b[1;32m    302\u001b[0m                         \u001b[0mneurons\u001b[0m\u001b[0;34m[\u001b[0m\u001b[0mjj\u001b[0m\u001b[0;34m]\u001b[0m \u001b[0;34m=\u001b[0m \u001b[0mself\u001b[0m\u001b[0;34m.\u001b[0m\u001b[0mactivation\u001b[0m\u001b[0;34m(\u001b[0m\u001b[0mneurons_intermediate\u001b[0m\u001b[0;34m[\u001b[0m\u001b[0mjj\u001b[0m\u001b[0;34m]\u001b[0m\u001b[0;34m)\u001b[0m\u001b[0;34m\u001b[0m\u001b[0;34m\u001b[0m\u001b[0m\n",
      "\u001b[0;31mKeyboardInterrupt\u001b[0m: "
     ]
    }
   ],
   "source": [
    "trn_acc_list = []\n",
    "tst_acc_list = []\n",
    "\n",
    "for epoch_ in range(n_epochs):\n",
    "    lr = {'ff' : lr_start['ff'] * (0.95)**epoch_, 'fb' : lr_start['fb'] * (0.95)**epoch_}\n",
    "    for idx, (x, y) in tqdm(enumerate(train_loader)):\n",
    "        x, y = x.to(device), y.to(device)\n",
    "        x = x.view(x.size(0),-1).T\n",
    "        y_one_hot = F.one_hot(y, 10).to(device).T\n",
    "        \n",
    "        take_debug_logs_ = (idx % 500 == 0)\n",
    "        if use_random_sign_beta:\n",
    "            rnd_sgn = 2*np.random.randint(2) - 1\n",
    "            beta = rnd_sgn*beta\n",
    "            \n",
    "        neurons = model.batch_step_hopfield( x, y_one_hot, hopfield_g, \n",
    "                                             lr, neural_lr_start, neural_lr_stop, neural_lr_rule, \n",
    "                                             neural_lr_decay_multiplier, neural_dynamic_iterations_free,\n",
    "                                             neural_dynamic_iterations_nudged, beta, \n",
    "                                             use_three_phase, take_debug_logs_)\n",
    "    \n",
    "    trn_acc = evaluateContrastiveCorInfoMaxHopfield(model, train_loader, hopfield_g, neural_lr_start, \n",
    "                                                    neural_lr_stop, neural_lr_rule, \n",
    "                                                    neural_lr_decay_multiplier, \n",
    "                                                    neural_dynamic_iterations_free, \n",
    "                                                    device, printing = False)\n",
    "    tst_acc = evaluateContrastiveCorInfoMaxHopfield(model, test_loader, hopfield_g, neural_lr_start, \n",
    "                                                    neural_lr_stop, neural_lr_rule, \n",
    "                                                    neural_lr_decay_multiplier, \n",
    "                                                    neural_dynamic_iterations_free, \n",
    "                                                    device, printing = False)\n",
    "    trn_acc_list.append(trn_acc)\n",
    "    tst_acc_list.append(tst_acc)\n",
    "    \n",
    "    print(\"Epoch : {}, Train Accuracy : {}, Test Accuracy : {}\".format(epoch_+1, trn_acc, tst_acc))\n",
    "#     print(\"Free Information ratio: {}\".format(np.array(model.layerwise_forward_corinfo_list_free)[-1] / np.array(model.layerwise_backward_corinfo_list_free)[-1]))\n",
    "    print(\"Nudged Information ratio: {}\".format(np.array(model.layerwise_forward_corinfo_list_nudged)[-1] / np.array(model.layerwise_backward_corinfo_list_nudged)[-1]))"
   ]
  },
  {
   "cell_type": "code",
   "execution_count": 23,
   "id": "fe20a069",
   "metadata": {},
   "outputs": [
    {
     "data": {
      "image/png": "[encoded data removed]",
      "text/plain": [
       "<Figure size 864x576 with 1 Axes>"
      ]
     },
     "metadata": {
      "needs_background": "light"
     },
     "output_type": "display_data"
    }
   ],
   "source": [
    "plot_convergence_plot(trn_acc_list, xlabel = 'Number of Epochs', ylabel = 'Accuracy %',\n",
    "                      title = 'Contrastive CorInfoMax Train Accuracy w.r.t. Epochs', \n",
    "                      figsize = (12,8), fontsize = 25, linewidth = 3)"
   ]
  },
  {
   "cell_type": "code",
   "execution_count": 24,
   "id": "93e28c34",
   "metadata": {},
   "outputs": [
    {
     "data": {
      "image/png": "[encoded data removed]",
      "text/plain": [
       "<Figure size 864x576 with 1 Axes>"
      ]
     },
     "metadata": {
      "needs_background": "light"
     },
     "output_type": "display_data"
    }
   ],
   "source": [
    "plot_convergence_plot(tst_acc_list, xlabel = 'Number of Epochs', ylabel = 'Accuracy %',\n",
    "                      title = 'Contrastive CorInfoMax Test Accuracy w.r.t. Epochs', \n",
    "                      figsize = (12,8), fontsize = 25, linewidth = 3)"
   ]
  },
  {
   "cell_type": "code",
   "execution_count": 25,
   "id": "e42ac2b0",
   "metadata": {},
   "outputs": [
    {
     "data": {
      "text/plain": [
       "[[90.05337524414062],\n",
       " [80.75244140625],\n",
       " [77.12565612792969],\n",
       " [75.20730590820312],\n",
       " [73.24803161621094],\n",
       " [72.34674072265625],\n",
       " [71.66996765136719],\n",
       " [71.21923828125],\n",
       " [70.84983825683594],\n",
       " [70.58256530761719],\n",
       " [70.41480255126953],\n",
       " [70.22223663330078],\n",
       " [70.07157135009766],\n",
       " [70.01883697509766],\n",
       " [69.94290161132812],\n",
       " [69.88470458984375],\n",
       " [69.88300323486328],\n",
       " [69.89783477783203],\n",
       " [69.90805053710938],\n",
       " [69.92539978027344],\n",
       " [69.99222564697266],\n",
       " [70.072998046875],\n",
       " [70.19669342041016],\n",
       " [70.27629852294922],\n",
       " [70.39897918701172],\n",
       " [70.4563217163086],\n",
       " [70.57157897949219],\n",
       " [70.73049926757812],\n",
       " [70.8553466796875],\n",
       " [70.96251678466797],\n",
       " [71.0933609008789],\n",
       " [71.26890563964844],\n",
       " [71.37238311767578],\n",
       " [71.51264953613281],\n",
       " [71.71585083007812],\n",
       " [71.85250091552734],\n",
       " [72.06766510009766],\n",
       " [72.23898315429688],\n",
       " [72.39959716796875],\n",
       " [72.5785903930664],\n",
       " [72.74890899658203],\n",
       " [72.93177032470703],\n",
       " [73.01676177978516],\n",
       " [73.23151397705078],\n",
       " [73.40565490722656],\n",
       " [73.57450866699219],\n",
       " [73.85196685791016],\n",
       " [73.94066619873047],\n",
       " [74.1244125366211],\n",
       " [74.30752563476562],\n",
       " [74.39468383789062],\n",
       " [74.62628173828125],\n",
       " [74.7654800415039],\n",
       " [74.87066650390625],\n",
       " [75.09656524658203],\n",
       " [75.22415161132812],\n",
       " [75.34117126464844],\n",
       " [75.47150421142578],\n",
       " [75.69673156738281],\n",
       " [75.87175750732422],\n",
       " [76.0154800415039],\n",
       " [76.14283752441406],\n",
       " [76.285888671875],\n",
       " [76.44641876220703],\n",
       " [76.61450958251953],\n",
       " [76.72765350341797],\n",
       " [76.90668487548828],\n",
       " [77.03771209716797],\n",
       " [77.13313293457031],\n",
       " [77.28441619873047],\n",
       " [77.40125274658203],\n",
       " [77.56636810302734],\n",
       " [77.66144561767578],\n",
       " [77.74467468261719],\n",
       " [77.85931396484375],\n",
       " [78.06059265136719],\n",
       " [78.12596130371094],\n",
       " [78.34308624267578],\n",
       " [78.42231750488281],\n",
       " [78.54743957519531],\n",
       " [78.63961791992188],\n",
       " [78.76075744628906],\n",
       " [78.90392303466797],\n",
       " [78.99755096435547],\n",
       " [79.10568237304688],\n",
       " [79.1972427368164],\n",
       " [79.29996490478516],\n",
       " [79.42752075195312],\n",
       " [79.49011993408203],\n",
       " [79.6084976196289],\n",
       " [79.6782455444336],\n",
       " [79.81099700927734],\n",
       " [79.90618133544922],\n",
       " [80.00296020507812],\n",
       " [80.09371185302734],\n",
       " [80.18830108642578],\n",
       " [80.31098937988281],\n",
       " [80.41988372802734],\n",
       " [80.50846862792969],\n",
       " [80.59329986572266],\n",
       " [80.60355377197266],\n",
       " [80.68193817138672],\n",
       " [80.88593292236328],\n",
       " [80.94029998779297],\n",
       " [81.0465316772461],\n",
       " [81.0772933959961],\n",
       " [81.16087341308594],\n",
       " [81.22119903564453],\n",
       " [81.3210678100586],\n",
       " [81.40155029296875],\n",
       " [81.45045471191406],\n",
       " [81.56217193603516],\n",
       " [81.61573791503906],\n",
       " [81.62368774414062]]"
      ]
     },
     "execution_count": 25,
     "metadata": {},
     "output_type": "execute_result"
    }
   ],
   "source": [
    "model.forward_backward_angles"
   ]
  },
  {
   "cell_type": "code",
   "execution_count": 26,
   "id": "3e950d3e",
   "metadata": {},
   "outputs": [
    {
     "data": {
      "image/png": "[encoded data removed]",
      "text/plain": [
       "<Figure size 1296x864 with 1 Axes>"
      ]
     },
     "metadata": {
      "needs_background": "light"
     },
     "output_type": "display_data"
    }
   ],
   "source": [
    "plt.figure(figsize = (18, 12))\n",
    "plt.plot(model.forward_backward_angles, linewidth=2)\n",
    "plt.xlabel(\"Number of Debug Points\", fontsize=45)\n",
    "plt.ylabel(\"Angle (Degree)\", fontsize=45)\n",
    "plt.title(\"Angles of Forward and Backward Weights\", fontsize=45)\n",
    "plt.grid()\n",
    "plt.xticks(fontsize=45)\n",
    "plt.yticks(fontsize=45)\n",
    "plt.show()"
   ]
  },
  {
   "cell_type": "code",
   "execution_count": 18,
   "id": "a72b3557",
   "metadata": {},
   "outputs": [
    {
     "data": {
      "text/plain": [
       "[<matplotlib.lines.Line2D at 0x2b1aaea6fe20>]"
      ]
     },
     "execution_count": 18,
     "metadata": {},
     "output_type": "execute_result"
    },
    {
     "data": {
      "image/png": "[encoded data removed]",
      "text/plain": [
       "<Figure size 432x288 with 1 Axes>"
      ]
     },
     "metadata": {
      "needs_background": "light"
     },
     "output_type": "display_data"
    }
   ],
   "source": [
    "plt.plot(np.array(model.layerwise_forward_corinfo_list_nudged))# - np.array(model.layerwise_forward_corinfo_list_free))\n",
    "# plt.show()\n",
    "\n",
    "plt.plot(np.array(model.layerwise_backward_corinfo_list_nudged))# - np.array(model.layerwise_backward_corinfo_list_free))\n",
    "# plt.show()\n",
    "\n"
   ]
  },
  {
   "cell_type": "code",
   "execution_count": 19,
   "id": "12f5298a",
   "metadata": {},
   "outputs": [
    {
     "data": {
      "image/png": "[encoded data removed]",
      "text/plain": [
       "<Figure size 432x288 with 1 Axes>"
      ]
     },
     "metadata": {
      "needs_background": "light"
     },
     "output_type": "display_data"
    }
   ],
   "source": [
    "plt.plot(model.layerwise_backward_corinfo_list_free)\n",
    "# plt.show()\n",
    "\n",
    "plt.plot(model.layerwise_backward_corinfo_list_nudged)\n",
    "plt.show()\n",
    "\n"
   ]
  },
  {
   "cell_type": "code",
   "execution_count": null,
   "id": "8ae12e48",
   "metadata": {},
   "outputs": [],
   "source": [
    "5"
   ]
  },
  {
   "cell_type": "code",
   "execution_count": 15,
   "id": "94a41047",
   "metadata": {},
   "outputs": [],
   "source": [
    "# model.layerwise_backward_corinfo_list_free, model.layerwise_backward_corinfo_list_nudged"
   ]
  },
  {
   "cell_type": "code",
   "execution_count": 15,
   "id": "017784fe",
   "metadata": {},
   "outputs": [
    {
     "data": {
      "image/png": "[encoded data removed]",
      "text/plain": [
       "<Figure size 432x288 with 1 Axes>"
      ]
     },
     "metadata": {
      "needs_background": "light"
     },
     "output_type": "display_data"
    }
   ],
   "source": [
    "plt.plot(model.layerwise_forward_corinfo_list_free)\n",
    "# plt.show()\n",
    "\n",
    "plt.plot(model.layerwise_forward_corinfo_list_nudged)\n",
    "plt.show()\n",
    "\n"
   ]
  },
  {
   "cell_type": "code",
   "execution_count": 17,
   "id": "6e5cbf13",
   "metadata": {},
   "outputs": [
    {
     "data": {
      "text/plain": [
       "[<matplotlib.lines.Line2D at 0x2ae508638d30>]"
      ]
     },
     "execution_count": 17,
     "metadata": {},
     "output_type": "execute_result"
    },
    {
     "data": {
      "image/png": "[encoded data removed]",
      "text/plain": [
       "<Figure size 432x288 with 1 Axes>"
      ]
     },
     "metadata": {
      "needs_background": "light"
     },
     "output_type": "display_data"
    }
   ],
   "source": [
    "plt.plot(np.array(model.layerwise_forward_corinfo_list_free) / np.array(model.layerwise_backward_corinfo_list_free))"
   ]
  },
  {
   "cell_type": "code",
   "execution_count": 18,
   "id": "5bb034f7",
   "metadata": {},
   "outputs": [
    {
     "data": {
      "text/plain": [
       "[<matplotlib.lines.Line2D at 0x2ae503facaf0>]"
      ]
     },
     "execution_count": 18,
     "metadata": {},
     "output_type": "execute_result"
    },
    {
     "data": {
      "image/png": "[encoded data removed]",
      "text/plain": [
       "<Figure size 432x288 with 1 Axes>"
      ]
     },
     "metadata": {
      "needs_background": "light"
     },
     "output_type": "display_data"
    }
   ],
   "source": [
    "plt.plot(model.neural_dynamics_free_forward_info_list[8])"
   ]
  },
  {
   "cell_type": "code",
   "execution_count": 19,
   "id": "df796171",
   "metadata": {},
   "outputs": [
    {
     "data": {
      "text/plain": [
       "[<matplotlib.lines.Line2D at 0x2ae503f69370>]"
      ]
     },
     "execution_count": 19,
     "metadata": {},
     "output_type": "execute_result"
    },
    {
     "data": {
      "image/png": "[encoded data removed]",
      "text/plain": [
       "<Figure size 432x288 with 1 Axes>"
      ]
     },
     "metadata": {
      "needs_background": "light"
     },
     "output_type": "display_data"
    }
   ],
   "source": [
    "plt.plot(model.neural_dynamics_free_backward_info_list[5])"
   ]
  },
  {
   "cell_type": "code",
   "execution_count": 20,
   "id": "8e5b16f5",
   "metadata": {},
   "outputs": [
    {
     "data": {
      "text/plain": [
       "[<matplotlib.lines.Line2D at 0x2ae5034dee20>]"
      ]
     },
     "execution_count": 20,
     "metadata": {},
     "output_type": "execute_result"
    },
    {
     "data": {
      "image/png": "[encoded data removed]",
      "text/plain": [
       "<Figure size 432x288 with 1 Axes>"
      ]
     },
     "metadata": {
      "needs_background": "light"
     },
     "output_type": "display_data"
    }
   ],
   "source": [
    "plt.plot(model.neural_dynamics_nudged_backward_info_list[10])"
   ]
  },
  {
   "cell_type": "code",
   "execution_count": 21,
   "id": "59cce7cc",
   "metadata": {},
   "outputs": [
    {
     "data": {
      "text/plain": [
       "[[-0.5723836421966553],\n",
       " [-12.354476928710938],\n",
       " [-23.24678611755371],\n",
       " [-28.977827072143555],\n",
       " [-32.79563903808594],\n",
       " [-31.92905044555664],\n",
       " [-36.84695816040039],\n",
       " [-34.98084259033203],\n",
       " [-43.87493133544922],\n",
       " [-42.75783920288086],\n",
       " [-53.217430114746094],\n",
       " [-50.486083984375],\n",
       " [-41.5759162902832],\n",
       " [-50.21199035644531],\n",
       " [-46.345088958740234],\n",
       " [-44.491268157958984],\n",
       " [-44.84934997558594],\n",
       " [-46.87738800048828],\n",
       " [-48.93721389770508],\n",
       " [-46.38496780395508],\n",
       " [-48.05594253540039],\n",
       " [-53.20217514038086],\n",
       " [-38.802032470703125],\n",
       " [-43.34989547729492],\n",
       " [-48.70357894897461],\n",
       " [-49.438655853271484],\n",
       " [-48.75530242919922],\n",
       " [-53.349395751953125],\n",
       " [-48.01948165893555],\n",
       " [-43.5160026550293],\n",
       " [-48.341766357421875],\n",
       " [-49.84435272216797],\n",
       " [-55.42311096191406],\n",
       " [-49.03413009643555],\n",
       " [-50.6007080078125],\n",
       " [-54.20766067504883],\n",
       " [-53.747310638427734],\n",
       " [-51.37038040161133],\n",
       " [-43.85066223144531],\n",
       " [-45.5890007019043],\n",
       " [-55.008758544921875],\n",
       " [-48.508766174316406],\n",
       " [-51.11688995361328],\n",
       " [-53.28353500366211],\n",
       " [-48.313045501708984],\n",
       " [-46.739349365234375],\n",
       " [-61.62846374511719],\n",
       " [-61.700531005859375],\n",
       " [-45.99754333496094],\n",
       " [-53.87108612060547],\n",
       " [-55.59611892700195],\n",
       " [-49.343589782714844],\n",
       " [-54.60551452636719],\n",
       " [-54.90010070800781],\n",
       " [-54.904747009277344],\n",
       " [-62.6610107421875],\n",
       " [-50.589317321777344],\n",
       " [-51.90385055541992],\n",
       " [-49.33945083618164],\n",
       " [-50.0640869140625],\n",
       " [-51.70671081542969],\n",
       " [-59.89160919189453],\n",
       " [-61.30298614501953],\n",
       " [-53.05498504638672],\n",
       " [-47.917518615722656],\n",
       " [-59.379234313964844],\n",
       " [-59.850929260253906],\n",
       " [-59.591426849365234],\n",
       " [-56.25291442871094],\n",
       " [-50.534210205078125],\n",
       " [-70.63926696777344],\n",
       " [-63.896793365478516],\n",
       " [-47.76478576660156],\n",
       " [-51.778926849365234],\n",
       " [-59.86790084838867],\n",
       " [-51.796539306640625],\n",
       " [-49.354434967041016],\n",
       " [-54.44110870361328],\n",
       " [-50.034217834472656],\n",
       " [-48.471012115478516],\n",
       " [-52.287681579589844],\n",
       " [-58.64501953125],\n",
       " [-62.33692169189453],\n",
       " [-47.18231201171875],\n",
       " [-50.53263473510742],\n",
       " [-50.66880798339844],\n",
       " [-69.69818878173828],\n",
       " [-59.04951477050781],\n",
       " [-53.10586929321289],\n",
       " [-61.90312576293945],\n",
       " [-55.601478576660156],\n",
       " [-56.69468688964844],\n",
       " [-48.37500762939453],\n",
       " [-58.75336837768555],\n",
       " [-63.266510009765625],\n",
       " [-61.299678802490234],\n",
       " [-51.9913444519043],\n",
       " [-51.14727783203125],\n",
       " [-61.17864227294922],\n",
       " [-62.24270248413086],\n",
       " [-54.44451904296875],\n",
       " [-53.11138916015625],\n",
       " [-52.6788330078125],\n",
       " [-54.43476104736328],\n",
       " [-61.51816177368164],\n",
       " [-56.22412872314453],\n",
       " [-55.849117279052734],\n",
       " [-64.16885375976562],\n",
       " [-57.26611328125],\n",
       " [-59.81226348876953],\n",
       " [-60.49037170410156],\n",
       " [-50.99140930175781],\n",
       " [-57.539310455322266],\n",
       " [-54.72259521484375],\n",
       " [-52.86198043823242],\n",
       " [-65.28860473632812],\n",
       " [-59.08039093017578],\n",
       " [-57.94331741333008],\n",
       " [-60.02272033691406],\n",
       " [-60.84030532836914]]"
      ]
     },
     "execution_count": 21,
     "metadata": {},
     "output_type": "execute_result"
    }
   ],
   "source": [
    "model.layerwise_forward_corinfo_list_nudged"
   ]
  },
  {
   "cell_type": "code",
   "execution_count": 22,
   "id": "68b5f2a4",
   "metadata": {},
   "outputs": [
    {
     "data": {
      "text/plain": [
       "[<matplotlib.lines.Line2D at 0x2ae5034811f0>]"
      ]
     },
     "execution_count": 22,
     "metadata": {},
     "output_type": "execute_result"
    },
    {
     "data": {
      "image/png": "[encoded data removed]",
      "text/plain": [
       "<Figure size 432x288 with 1 Axes>"
      ]
     },
     "metadata": {
      "needs_background": "light"
     },
     "output_type": "display_data"
    }
   ],
   "source": [
    "plt.plot(np.array(model.layerwise_forward_corinfo_list_nudged) - np.array(model.layerwise_forward_corinfo_list_free))\n",
    "# plt.show()\n",
    "\n",
    "plt.plot(np.array(model.layerwise_backward_corinfo_list_nudged) - np.array(model.layerwise_backward_corinfo_list_free))\n",
    "# plt.show()\n",
    "\n"
   ]
  },
  {
   "cell_type": "code",
   "execution_count": 23,
   "id": "d62117fa",
   "metadata": {},
   "outputs": [
    {
     "name": "stdout",
     "output_type": "stream",
     "text": [
      "2 2 2 2 2\n"
     ]
    }
   ],
   "source": [
    "x,y = next(iter(train_loader))\n",
    "x, y = x.to(device), y.to(device)\n",
    "x = x.view(x.size(0),-1).T\n",
    "y_one_hot = F.one_hot(y, 10).to(device).T\n",
    "\n",
    "neurons = model.init_neurons(x.size(1), device = model.device)\n",
    "\n",
    "neurons, _, _ = model.run_neural_dynamics_hopfield(x, y, neurons, hopfield_g, neural_lr_start, neural_lr_stop, neural_lr_rule, \n",
    "                                             neural_lr_decay_multiplier, neural_dynamic_iterations_free, 1)\n",
    "\n",
    "layers = [x] + neurons\n",
    "Wff = model.Wff\n",
    "Wfb = model.Wfb\n",
    "B = model.B\n",
    "Rfree = model.Rfree\n",
    "Rnudged = model.Rnudged\n",
    "print(len(Wff), len(Wfb), len(B), len(Rfree), len(Rnudged))"
   ]
  },
  {
   "cell_type": "code",
   "execution_count": null,
   "id": "c963fe87",
   "metadata": {},
   "outputs": [],
   "source": []
  },
  {
   "cell_type": "code",
   "execution_count": 24,
   "id": "543143d6",
   "metadata": {},
   "outputs": [
    {
     "data": {
      "text/plain": [
       "tensor(-inf, device='cuda:0')"
      ]
     },
     "execution_count": 24,
     "metadata": {},
     "output_type": "execute_result"
    }
   ],
   "source": [
    "torch.log(torch.det(Rnudged[0]['weight']))"
   ]
  },
  {
   "cell_type": "code",
   "execution_count": 25,
   "id": "519da528",
   "metadata": {},
   "outputs": [
    {
     "data": {
      "text/plain": [
       "torch.Size([500, 20])"
      ]
     },
     "execution_count": 25,
     "metadata": {},
     "output_type": "execute_result"
    }
   ],
   "source": [
    "neurons[0].shape"
   ]
  },
  {
   "cell_type": "code",
   "execution_count": 26,
   "id": "998cd59c",
   "metadata": {},
   "outputs": [
    {
     "ename": "IndexError",
     "evalue": "index 2 is out of bounds for axis 0 with size 2",
     "output_type": "error",
     "traceback": [
      "\u001b[0;31m---------------------------------------------------------------------------\u001b[0m",
      "\u001b[0;31mIndexError\u001b[0m                                Traceback (most recent call last)",
      "\u001b[0;32m/tmp/ipykernel_77591/2207235304.py\u001b[0m in \u001b[0;36m<module>\u001b[0;34m\u001b[0m\n\u001b[0;32m----> 1\u001b[0;31m \u001b[0mtorch\u001b[0m\u001b[0;34m.\u001b[0m\u001b[0mlogdet\u001b[0m\u001b[0;34m(\u001b[0m\u001b[0mRfree\u001b[0m\u001b[0;34m[\u001b[0m\u001b[0;36m2\u001b[0m\u001b[0;34m]\u001b[0m\u001b[0;34m[\u001b[0m\u001b[0;34m'weight'\u001b[0m\u001b[0;34m]\u001b[0m\u001b[0;34m)\u001b[0m\u001b[0;34m\u001b[0m\u001b[0;34m\u001b[0m\u001b[0m\n\u001b[0m",
      "\u001b[0;31mIndexError\u001b[0m: index 2 is out of bounds for axis 0 with size 2"
     ]
    }
   ],
   "source": [
    "torch.logdet(Rfree[2]['weight'])"
   ]
  },
  {
   "cell_type": "code",
   "execution_count": null,
   "id": "774d30c6",
   "metadata": {},
   "outputs": [],
   "source": [
    "torch.norm(neurons[0] - (Wff[0]['weight'] @ x + Wff[0]['bias']))**2"
   ]
  },
  {
   "cell_type": "code",
   "execution_count": null,
   "id": "328d6e3e",
   "metadata": {},
   "outputs": [],
   "source": [
    "norm_check = 0\n",
    "bs = neurons[0].shape[1]\n",
    "for ii in range(bs):\n",
    "    norm_check +=(lambda_ ** (bs - ii + 1)) * torch.norm((neurons[0] - (Wff[0]['weight'] @ x + Wff[0]['bias']))[:,ii])**2\n",
    "    \n",
    "norm_check"
   ]
  },
  {
   "cell_type": "code",
   "execution_count": null,
   "id": "2bd61d4e",
   "metadata": {},
   "outputs": [],
   "source": [
    "torch.norm(neurons[1] - (Wff[1]['weight'] @ neurons[0] + Wff[1]['bias']))**2"
   ]
  },
  {
   "cell_type": "code",
   "execution_count": null,
   "id": "bc6a1c3b",
   "metadata": {},
   "outputs": [],
   "source": [
    "norm_check = 0\n",
    "bs = neurons[0].shape[1]\n",
    "for ii in range(bs):\n",
    "    norm_check +=(lambda_ ** (bs - ii + 1)) * torch.norm((neurons[1] - (Wff[1]['weight'] @ neurons[0] + Wff[1]['bias']))[:,ii])**2\n",
    "    \n",
    "norm_check"
   ]
  },
  {
   "cell_type": "code",
   "execution_count": null,
   "id": "8aabddcf",
   "metadata": {},
   "outputs": [],
   "source": [
    "58.9840 / 13.4070"
   ]
  },
  {
   "cell_type": "code",
   "execution_count": null,
   "id": "4d7c1025",
   "metadata": {},
   "outputs": [],
   "source": [
    "233.0565 / 53.0576"
   ]
  },
  {
   "cell_type": "code",
   "execution_count": null,
   "id": "fd3cb8d1",
   "metadata": {},
   "outputs": [],
   "source": [
    "np.sqrt(20)"
   ]
  },
  {
   "cell_type": "code",
   "execution_count": null,
   "id": "c4656149",
   "metadata": {},
   "outputs": [],
   "source": [
    "np.log(epsilon), torch.log(torch.Tensor([epsilon]).to(device)) "
   ]
  },
  {
   "cell_type": "code",
   "execution_count": null,
   "id": "dd7aeb1a",
   "metadata": {},
   "outputs": [],
   "source": [
    "(neurons[0] - (Wff[0]['weight'] @ x + Wff[0]['bias'])).shape"
   ]
  },
  {
   "cell_type": "code",
   "execution_count": null,
   "id": "61e7faa1",
   "metadata": {},
   "outputs": [],
   "source": [
    "norm_check = 0\n",
    "bs = neurons[0].shape[1]\n",
    "for ii in range(bs):\n",
    "    norm_check +=(lambda_ ** (bs - ii + 1)) * torch.norm((neurons[0] - (Wff[0]['weight'] @ x + Wff[0]['bias']))[:,4])\n",
    "    \n",
    "norm_check"
   ]
  },
  {
   "cell_type": "code",
   "execution_count": null,
   "id": "8b84ca35",
   "metadata": {},
   "outputs": [],
   "source": [
    "lambda_"
   ]
  },
  {
   "cell_type": "code",
   "execution_count": null,
   "id": "1b4d8bd1",
   "metadata": {},
   "outputs": [],
   "source": [
    "torch.linalg.matrix_rank(R[0]['weight'])"
   ]
  },
  {
   "cell_type": "code",
   "execution_count": null,
   "id": "27eb97a2",
   "metadata": {},
   "outputs": [],
   "source": [
    "(torch.eye(*R[0]['weight'].shape).to(device))"
   ]
  },
  {
   "cell_type": "code",
   "execution_count": null,
   "id": "a51e9881",
   "metadata": {},
   "outputs": [],
   "source": [
    "torch.logdet(R[0]['weight'] + epsilon * torch.eye(*R[0]['weight'].shape).to(device))"
   ]
  },
  {
   "cell_type": "code",
   "execution_count": null,
   "id": "0cae338d",
   "metadata": {},
   "outputs": [],
   "source": [
    "torch.logdet(R[0]['weight'].type(torch.float64) + epsilon * torch.eye(*R[0]['weight'].shape).to(device))"
   ]
  },
  {
   "cell_type": "code",
   "execution_count": null,
   "id": "31ecd2bb",
   "metadata": {},
   "outputs": [],
   "source": [
    "torch.float64"
   ]
  },
  {
   "cell_type": "code",
   "execution_count": null,
   "id": "38135a27",
   "metadata": {},
   "outputs": [],
   "source": [
    "torch2numpy(epsilon * torch.eye(*R[0]['weight'].shape).to(device)).shape"
   ]
  },
  {
   "cell_type": "code",
   "execution_count": null,
   "id": "c7ba32ae",
   "metadata": {},
   "outputs": [],
   "source": [
    "np.linalg.det(torch2numpy(R[0]['weight']))"
   ]
  },
  {
   "cell_type": "code",
   "execution_count": null,
   "id": "7af81704",
   "metadata": {},
   "outputs": [],
   "source": [
    "np.linalg.det(torch2numpy(R[0]['weight'] + epsilon * torch.eye(*R[0]['weight'].shape).to(device))) == 0"
   ]
  },
  {
   "cell_type": "code",
   "execution_count": null,
   "id": "3360d616",
   "metadata": {},
   "outputs": [],
   "source": [
    "torch.linalg.matrix_rank(B[0]['weight'])"
   ]
  },
  {
   "cell_type": "code",
   "execution_count": null,
   "id": "95d65599",
   "metadata": {},
   "outputs": [],
   "source": [
    "np.linalg.det(torch2numpy(B[0]['weight']))"
   ]
  },
  {
   "cell_type": "code",
   "execution_count": null,
   "id": "fa0860fa",
   "metadata": {},
   "outputs": [],
   "source": [
    "torch.logdet(B[0]['weight'])"
   ]
  },
  {
   "cell_type": "code",
   "execution_count": null,
   "id": "fe608502",
   "metadata": {},
   "outputs": [],
   "source": [
    "forward_info_list = []\n",
    "for jj in range(len(model.architecture) - 2):\n",
    "    forward_info_jj = (torch.logdet(R[jj + 1]['weight'] + epsilon * torch.eye(*R[jj + 1]['weight'].shape).to(device)) - one_over_epsilon * torch.norm(layers[jj + 2] - Wff[jj + 1]['weight'] @ layers[jj + 1] - Wff[jj + 1]['bias']) ** 2).item()\n",
    "    forward_info_list.append(forward_info_jj)\n",
    "    \n",
    "backward_info_list = []\n",
    "for jj in range(len(model.architecture) - 2):\n",
    "    backward_info_jj = (torch.logdet(R[jj]['weight'] + epsilon * torch.eye(*R[jj]['weight'].shape).to(device)) - one_over_epsilon * torch.norm(model.append_ones_row_vector_to_tensor(layers[jj + 1]) - Wfb[jj + 1]['weight'] @ layers[jj + 2]) ** 2).item()\n",
    "    backward_info_list.append(backward_info_jj)"
   ]
  },
  {
   "cell_type": "code",
   "execution_count": null,
   "id": "9bb87552",
   "metadata": {},
   "outputs": [],
   "source": [
    "forward_info_list, backward_info_list"
   ]
  },
  {
   "cell_type": "code",
   "execution_count": null,
   "id": "856fa7e2",
   "metadata": {},
   "outputs": [],
   "source": [
    "jj = -1\n",
    "torch.logdet(torch.inverse(B[jj + 1]['weight']) + epsilon * torch.eye(*B[jj + 1]['weight'].shape).to(device))"
   ]
  },
  {
   "cell_type": "code",
   "execution_count": null,
   "id": "6fba0c24",
   "metadata": {},
   "outputs": [],
   "source": [
    "jj = -1\n",
    "torch.logdet(torch.inverse(B[jj + 1]['weight'][:-1,:-1]) + epsilon * torch.eye(*B[jj + 1]['weight'][:-1,:-1].shape).to(device))"
   ]
  },
  {
   "cell_type": "code",
   "execution_count": null,
   "id": "877864e6",
   "metadata": {},
   "outputs": [],
   "source": [
    "jj = -1\n",
    "torch.logdet(torch.inverse((B[jj + 1]['weight']) + epsilon * torch.eye(*B[jj + 1]['weight'].shape).to(device))[:-1,:-1])"
   ]
  },
  {
   "cell_type": "code",
   "execution_count": null,
   "id": "3e875497",
   "metadata": {},
   "outputs": [],
   "source": [
    "torch.logdet(torch.inverse(B[0]['weight']) + epsilon * torch.eye(*B[0]['weight'].shape).to(device)) - one_over_epsilon * torch.norm(model.append_ones_row_vector_to_tensor(layers[1]) - Wfb[1]['weight'] @ layers[2]) ** 2"
   ]
  },
  {
   "cell_type": "code",
   "execution_count": null,
   "id": "68d3d0c9",
   "metadata": {},
   "outputs": [],
   "source": [
    "(Wff[1]['weight'] @ layers[1] -  Wff[1]['bias']).shape"
   ]
  },
  {
   "cell_type": "code",
   "execution_count": null,
   "id": "d7fe47ab",
   "metadata": {},
   "outputs": [],
   "source": [
    "layers[2].shape"
   ]
  },
  {
   "cell_type": "code",
   "execution_count": null,
   "id": "dce09bac",
   "metadata": {},
   "outputs": [],
   "source": [
    "torch.logdet(torch.inverse(B[1]['weight']) + epsilon * torch.eye(*B[1]['weight'].shape).to(device)) - one_over_epsilon * torch.norm(layers[2] - Wff[1]['weight'] @ layers[1] - Wff[1]['bias']) ** 2"
   ]
  },
  {
   "cell_type": "code",
   "execution_count": null,
   "id": "3e88fc87",
   "metadata": {},
   "outputs": [],
   "source": [
    "display_matrix(model.B[0]['weight'][:10,:10])"
   ]
  },
  {
   "cell_type": "code",
   "execution_count": null,
   "id": "71cac654",
   "metadata": {},
   "outputs": [],
   "source": [
    "display_matrix(torch.linalg.inv(model.R[0]['weight'])[:10,:10])"
   ]
  },
  {
   "cell_type": "code",
   "execution_count": null,
   "id": "51951ba0",
   "metadata": {},
   "outputs": [],
   "source": [
    "# from torch_utils import *"
   ]
  },
  {
   "cell_type": "code",
   "execution_count": null,
   "id": "e706925d",
   "metadata": {},
   "outputs": [],
   "source": [
    "# def angle_between_two_matrices(A, B):\n",
    "#     \"\"\"Computes the angle between two matrices A and B.\n",
    "\n",
    "#     Args:\n",
    "#         A (torch.Tensor): Pytorch tensor of size m times n\n",
    "#         B (torch.Tensor): Pytorch tensor of size m times n\n",
    "\n",
    "#     Returns:\n",
    "#         angle: angle between the matrices A and B. The formula is given by the following:\n",
    "#                (180/pi) * acos[ Tr(A @ B.T) / sqrt(Tr(A @ A.T) * Tr(B @ B.T))] \n",
    "#     \"\"\"\n",
    "\n",
    "#     angle = (180 / torch.pi) * torch.acos(torch.trace(A @ B.T) / torch.sqrt(torch.trace(A @ A.T) * torch.trace(B @ B.T)))\n",
    "#     return angle"
   ]
  },
  {
   "cell_type": "code",
   "execution_count": null,
   "id": "3c7decc0",
   "metadata": {},
   "outputs": [],
   "source": [
    "plt.plot(model.forward_backward_angles)"
   ]
  },
  {
   "cell_type": "code",
   "execution_count": null,
   "id": "b93b7579",
   "metadata": {},
   "outputs": [],
   "source": [
    "angle_between_two_matrices(model.Wff[1]['weight'], model.Wfb[1]['weight'].T).item()"
   ]
  },
  {
   "cell_type": "code",
   "execution_count": null,
   "id": "e8f3192b",
   "metadata": {},
   "outputs": [],
   "source": [
    "# torch.norm(model.B[0]['weight'] - torch.linalg.inv(model.Rh1))"
   ]
  },
  {
   "cell_type": "code",
   "execution_count": null,
   "id": "865769b5",
   "metadata": {},
   "outputs": [],
   "source": [
    "# display_matrix(torch.linalg.inv(model.Rh2)[:10,:10])"
   ]
  }
 ],
 "metadata": {
  "kernelspec": {
   "display_name": "Python 3 (ipykernel)",
   "language": "python",
   "name": "python3"
  },
  "language_info": {
   "codemirror_mode": {
    "name": "ipython",
    "version": 3
   },
   "file_extension": ".py",
   "mimetype": "text/x-python",
   "name": "python",
   "nbconvert_exporter": "python",
   "pygments_lexer": "ipython3",
   "version": "3.8.8"
  }
 },
 "nbformat": 4,
 "nbformat_minor": 5
}
