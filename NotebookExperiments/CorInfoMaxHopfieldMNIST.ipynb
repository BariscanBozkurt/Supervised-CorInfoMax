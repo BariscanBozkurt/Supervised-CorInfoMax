{
 "cells": [
  {
   "cell_type": "code",
   "execution_count": 1,
   "id": "7492e9cc",
   "metadata": {},
   "outputs": [],
   "source": [
    "import sys\n",
    "sys.path.append(\"../src\")\n",
    "import torch\n",
    "import matplotlib.pyplot as plt\n",
    "import numpy as np\n",
    "import torchvision\n",
    "import torch.nn.functional as F\n",
    "\n",
    "import glob\n",
    "import os\n",
    "from datetime import datetime\n",
    "import time\n",
    "import math\n",
    "from tqdm import tqdm\n",
    "\n",
    "from itertools import repeat\n",
    "from torch.nn.parameter import Parameter\n",
    "import collections\n",
    "import matplotlib\n",
    "from torch_utils import *\n",
    "from models import *\n",
    "from visualization import *\n",
    "# matplotlib.use('Agg')"
   ]
  },
  {
   "cell_type": "code",
   "execution_count": 2,
   "id": "155e542e",
   "metadata": {},
   "outputs": [
    {
     "data": {
      "text/plain": [
       "device(type='cuda', index=0)"
      ]
     },
     "execution_count": 2,
     "metadata": {},
     "output_type": "execute_result"
    }
   ],
   "source": [
    "device = torch.device('cuda:0' if torch.cuda.is_available() else 'cpu')\n",
    "device"
   ]
  },
  {
   "cell_type": "code",
   "execution_count": 3,
   "id": "c51f0747",
   "metadata": {},
   "outputs": [],
   "source": [
    "transform = torchvision.transforms.Compose([torchvision.transforms.ToTensor(), \n",
    "                                            torchvision.transforms.Normalize(mean=(0.0,), std=(1.0,))])\n",
    "\n",
    "mnist_dset_train = torchvision.datasets.MNIST('./data', train=True, transform=transform, target_transform=None, download=True)\n",
    "train_loader = torch.utils.data.DataLoader(mnist_dset_train, batch_size=20, shuffle=True, num_workers=0)\n",
    "\n",
    "mnist_dset_test = torchvision.datasets.MNIST('./data', train=False, transform=transform, target_transform=None, download=True)\n",
    "test_loader = torch.utils.data.DataLoader(mnist_dset_test, batch_size=20, shuffle=False, num_workers=0)"
   ]
  },
  {
   "cell_type": "code",
   "execution_count": 4,
   "id": "de1ad4d6",
   "metadata": {},
   "outputs": [],
   "source": [
    "activation = hard_sigmoid\n",
    "criterion = torch.nn.MSELoss(reduction='none').to(device)"
   ]
  },
  {
   "cell_type": "code",
   "execution_count": 5,
   "id": "953b2eef",
   "metadata": {},
   "outputs": [],
   "source": [
    "architecture = [784, 500, 10]\n",
    "\n",
    "x,y = next(iter(train_loader))\n",
    "x = x.view(x.size(0),-1).to(device).T\n",
    "y_one_hot = F.one_hot(y, 10).to(device).T\n",
    "\n",
    "beta = 1\n",
    "lambda_h = 0.9\n",
    "lambda_y = 0.9\n",
    "epsilon = 0.1\n",
    "one_over_epsilon = 1 / epsilon\n",
    "lr = {'ff' : 0.01, 'fb': 0.01, 'lat': 1e-3}\n",
    "neural_lr = 0.001\n",
    "model = TwoLayerCorInfoMaxHopfield(architecture = architecture, lambda_h = lambda_h, lambda_y = lambda_y, \n",
    "                           epsilon = epsilon, activation = activation)"
   ]
  },
  {
   "cell_type": "code",
   "execution_count": 5,
   "id": "bf85ec83",
   "metadata": {},
   "outputs": [
    {
     "name": "stderr",
     "output_type": "stream",
     "text": [
      "3000it [00:41, 72.74it/s]\n",
      "7it [00:00, 66.03it/s]"
     ]
    },
    {
     "name": "stdout",
     "output_type": "stream",
     "text": [
      "Epoch : 1, Train Accuracy : 0.10178333333333334, Test Accuracy : 0.1046\n"
     ]
    },
    {
     "name": "stderr",
     "output_type": "stream",
     "text": [
      "248it [00:03, 72.07it/s]\n",
      "ERROR:root:Internal Python error in the inspect module.\n",
      "Below is the traceback from this internal error.\n",
      "\n"
     ]
    },
    {
     "name": "stdout",
     "output_type": "stream",
     "text": [
      "Traceback (most recent call last):\n",
      "  File \"/kuacc/users/bbozkurt15/.conda/envs/bbozkurt15/lib/python3.8/site-packages/IPython/core/interactiveshell.py\", line 3444, in run_code\n",
      "    exec(code_obj, self.user_global_ns, self.user_ns)\n",
      "  File \"/tmp/ipykernel_3912/868097122.py\", line 19, in <module>\n",
      "    h, y_hat = model.batch_step(  x, y_one_hot, lr, neural_lr, neural_dynamic_iterations_free,\n",
      "  File \"../src/models.py\", line 162, in batch_step\n",
      "    h, y_hat = self.run_neural_dynamics(x, h, y_hat, y_label, neural_lr,\n",
      "  File \"../src/models.py\", line 132, in run_neural_dynamics\n",
      "    grad_h, grad_y = self.calculate_neural_dynamics_grad(x, h, vh, y_hat, vy, y, beta)\n",
      "  File \"../src/models.py\", line 118, in calculate_neural_dynamics_grad\n",
      "    grad_h = -vh + 2* gam_h * M0 @ h - one_over_epsilon * (h - (Wff[0]['weight'] @ x + Wff[0]['bias'])) - one_over_epsilon * (h - (Wfb[1]['weight'] @ y_hat + Wfb[1]['bias']))\n",
      "KeyboardInterrupt\n",
      "\n",
      "During handling of the above exception, another exception occurred:\n",
      "\n",
      "Traceback (most recent call last):\n",
      "  File \"/kuacc/users/bbozkurt15/.conda/envs/bbozkurt15/lib/python3.8/site-packages/IPython/core/interactiveshell.py\", line 2064, in showtraceback\n",
      "    stb = value._render_traceback_()\n",
      "AttributeError: 'KeyboardInterrupt' object has no attribute '_render_traceback_'\n",
      "\n",
      "During handling of the above exception, another exception occurred:\n",
      "\n",
      "Traceback (most recent call last):\n",
      "  File \"/kuacc/users/bbozkurt15/.conda/envs/bbozkurt15/lib/python3.8/site-packages/IPython/core/ultratb.py\", line 1101, in get_records\n",
      "    return _fixed_getinnerframes(etb, number_of_lines_of_context, tb_offset)\n",
      "  File \"/kuacc/users/bbozkurt15/.conda/envs/bbozkurt15/lib/python3.8/site-packages/IPython/core/ultratb.py\", line 248, in wrapped\n",
      "    return f(*args, **kwargs)\n",
      "  File \"/kuacc/users/bbozkurt15/.conda/envs/bbozkurt15/lib/python3.8/site-packages/IPython/core/ultratb.py\", line 281, in _fixed_getinnerframes\n",
      "    records = fix_frame_records_filenames(inspect.getinnerframes(etb, context))\n",
      "  File \"/kuacc/users/bbozkurt15/.conda/envs/bbozkurt15/lib/python3.8/inspect.py\", line 1515, in getinnerframes\n",
      "    frameinfo = (tb.tb_frame,) + getframeinfo(tb, context)\n",
      "  File \"/kuacc/users/bbozkurt15/.conda/envs/bbozkurt15/lib/python3.8/inspect.py\", line 1473, in getframeinfo\n",
      "    filename = getsourcefile(frame) or getfile(frame)\n",
      "  File \"/kuacc/users/bbozkurt15/.conda/envs/bbozkurt15/lib/python3.8/inspect.py\", line 708, in getsourcefile\n",
      "    if getattr(getmodule(object, filename), '__loader__', None) is not None:\n",
      "  File \"/kuacc/users/bbozkurt15/.conda/envs/bbozkurt15/lib/python3.8/inspect.py\", line 751, in getmodule\n",
      "    f = getabsfile(module)\n",
      "  File \"/kuacc/users/bbozkurt15/.conda/envs/bbozkurt15/lib/python3.8/inspect.py\", line 720, in getabsfile\n",
      "    _filename = getsourcefile(object) or getfile(object)\n",
      "  File \"/kuacc/users/bbozkurt15/.conda/envs/bbozkurt15/lib/python3.8/inspect.py\", line 705, in getsourcefile\n",
      "    if os.path.exists(filename):\n",
      "  File \"/kuacc/users/bbozkurt15/.conda/envs/bbozkurt15/lib/python3.8/genericpath.py\", line 19, in exists\n",
      "    os.stat(path)\n",
      "KeyboardInterrupt\n"
     ]
    },
    {
     "name": "stderr",
     "output_type": "stream",
     "text": [
      "ERROR:root:Internal Python error in the inspect module.\n",
      "Below is the traceback from this internal error.\n",
      "\n"
     ]
    },
    {
     "name": "stdout",
     "output_type": "stream",
     "text": [
      "Traceback (most recent call last):\n",
      "  File \"/kuacc/users/bbozkurt15/.conda/envs/bbozkurt15/lib/python3.8/site-packages/IPython/core/interactiveshell.py\", line 3444, in run_code\n",
      "    exec(code_obj, self.user_global_ns, self.user_ns)\n",
      "  File \"/tmp/ipykernel_3912/868097122.py\", line 19, in <module>\n",
      "    h, y_hat = model.batch_step(  x, y_one_hot, lr, neural_lr, neural_dynamic_iterations_free,\n",
      "  File \"../src/models.py\", line 162, in batch_step\n",
      "    h, y_hat = self.run_neural_dynamics(x, h, y_hat, y_label, neural_lr,\n",
      "  File \"../src/models.py\", line 132, in run_neural_dynamics\n",
      "    grad_h, grad_y = self.calculate_neural_dynamics_grad(x, h, vh, y_hat, vy, y, beta)\n",
      "  File \"../src/models.py\", line 118, in calculate_neural_dynamics_grad\n",
      "    grad_h = -vh + 2* gam_h * M0 @ h - one_over_epsilon * (h - (Wff[0]['weight'] @ x + Wff[0]['bias'])) - one_over_epsilon * (h - (Wfb[1]['weight'] @ y_hat + Wfb[1]['bias']))\n",
      "KeyboardInterrupt\n",
      "\n",
      "During handling of the above exception, another exception occurred:\n",
      "\n",
      "Traceback (most recent call last):\n",
      "  File \"/kuacc/users/bbozkurt15/.conda/envs/bbozkurt15/lib/python3.8/site-packages/IPython/core/interactiveshell.py\", line 2064, in showtraceback\n",
      "    stb = value._render_traceback_()\n",
      "AttributeError: 'KeyboardInterrupt' object has no attribute '_render_traceback_'\n",
      "\n",
      "During handling of the above exception, another exception occurred:\n",
      "\n",
      "Traceback (most recent call last):\n",
      "  File \"/kuacc/users/bbozkurt15/.conda/envs/bbozkurt15/lib/python3.8/site-packages/IPython/core/interactiveshell.py\", line 3364, in run_ast_nodes\n",
      "    if (await self.run_code(code, result,  async_=asy)):\n",
      "  File \"/kuacc/users/bbozkurt15/.conda/envs/bbozkurt15/lib/python3.8/site-packages/IPython/core/interactiveshell.py\", line 3461, in run_code\n",
      "    self.showtraceback(running_compiled_code=True)\n",
      "  File \"/kuacc/users/bbozkurt15/.conda/envs/bbozkurt15/lib/python3.8/site-packages/IPython/core/interactiveshell.py\", line 2066, in showtraceback\n",
      "    stb = self.InteractiveTB.structured_traceback(etype,\n",
      "  File \"/kuacc/users/bbozkurt15/.conda/envs/bbozkurt15/lib/python3.8/site-packages/IPython/core/ultratb.py\", line 1367, in structured_traceback\n",
      "    return FormattedTB.structured_traceback(\n",
      "  File \"/kuacc/users/bbozkurt15/.conda/envs/bbozkurt15/lib/python3.8/site-packages/IPython/core/ultratb.py\", line 1267, in structured_traceback\n",
      "    return VerboseTB.structured_traceback(\n",
      "  File \"/kuacc/users/bbozkurt15/.conda/envs/bbozkurt15/lib/python3.8/site-packages/IPython/core/ultratb.py\", line 1124, in structured_traceback\n",
      "    formatted_exception = self.format_exception_as_a_whole(etype, evalue, etb, number_of_lines_of_context,\n",
      "  File \"/kuacc/users/bbozkurt15/.conda/envs/bbozkurt15/lib/python3.8/site-packages/IPython/core/ultratb.py\", line 1082, in format_exception_as_a_whole\n",
      "    last_unique, recursion_repeat = find_recursion(orig_etype, evalue, records)\n",
      "  File \"/kuacc/users/bbozkurt15/.conda/envs/bbozkurt15/lib/python3.8/site-packages/IPython/core/ultratb.py\", line 382, in find_recursion\n",
      "    return len(records), 0\n",
      "TypeError: object of type 'NoneType' has no len()\n",
      "\n",
      "During handling of the above exception, another exception occurred:\n",
      "\n",
      "Traceback (most recent call last):\n",
      "  File \"/kuacc/users/bbozkurt15/.conda/envs/bbozkurt15/lib/python3.8/site-packages/IPython/core/interactiveshell.py\", line 2064, in showtraceback\n",
      "    stb = value._render_traceback_()\n",
      "AttributeError: 'TypeError' object has no attribute '_render_traceback_'\n",
      "\n",
      "During handling of the above exception, another exception occurred:\n",
      "\n",
      "Traceback (most recent call last):\n",
      "  File \"/kuacc/users/bbozkurt15/.conda/envs/bbozkurt15/lib/python3.8/site-packages/IPython/core/ultratb.py\", line 1101, in get_records\n",
      "    return _fixed_getinnerframes(etb, number_of_lines_of_context, tb_offset)\n",
      "  File \"/kuacc/users/bbozkurt15/.conda/envs/bbozkurt15/lib/python3.8/site-packages/IPython/core/ultratb.py\", line 248, in wrapped\n",
      "    return f(*args, **kwargs)\n",
      "  File \"/kuacc/users/bbozkurt15/.conda/envs/bbozkurt15/lib/python3.8/site-packages/IPython/core/ultratb.py\", line 281, in _fixed_getinnerframes\n",
      "    records = fix_frame_records_filenames(inspect.getinnerframes(etb, context))\n",
      "  File \"/kuacc/users/bbozkurt15/.conda/envs/bbozkurt15/lib/python3.8/inspect.py\", line 1515, in getinnerframes\n",
      "    frameinfo = (tb.tb_frame,) + getframeinfo(tb, context)\n",
      "  File \"/kuacc/users/bbozkurt15/.conda/envs/bbozkurt15/lib/python3.8/inspect.py\", line 1473, in getframeinfo\n",
      "    filename = getsourcefile(frame) or getfile(frame)\n",
      "  File \"/kuacc/users/bbozkurt15/.conda/envs/bbozkurt15/lib/python3.8/inspect.py\", line 708, in getsourcefile\n",
      "    if getattr(getmodule(object, filename), '__loader__', None) is not None:\n",
      "  File \"/kuacc/users/bbozkurt15/.conda/envs/bbozkurt15/lib/python3.8/inspect.py\", line 754, in getmodule\n",
      "    os.path.realpath(f)] = module.__name__\n",
      "  File \"/kuacc/users/bbozkurt15/.conda/envs/bbozkurt15/lib/python3.8/posixpath.py\", line 391, in realpath\n",
      "    path, ok = _joinrealpath(filename[:0], filename, {})\n",
      "  File \"/kuacc/users/bbozkurt15/.conda/envs/bbozkurt15/lib/python3.8/posixpath.py\", line 411, in _joinrealpath\n",
      "    name, _, rest = rest.partition(sep)\n",
      "KeyboardInterrupt\n"
     ]
    },
    {
     "name": "stderr",
     "output_type": "stream",
     "text": [
      "\n",
      "KeyboardInterrupt\n",
      "\n"
     ]
    }
   ],
   "source": [
    "trn_acc_list = []\n",
    "tst_acc_list = []\n",
    "neural_dynamic_iterations_free = 20\n",
    "neural_dynamic_iterations_nudged = 4\n",
    "# lambda_h = 0.01\n",
    "# lambda_y = 0.01\n",
    "# epsilon = 1\n",
    "# one_over_epsilon = 1 / epsilon\n",
    "n_epochs = 50\n",
    "# lr = {'ff' : 1e-3, 'fb': 1e-3, 'lat': 1e-3}\n",
    "# neural_lr = 0.25\n",
    "\n",
    "for epoch_ in range(n_epochs):\n",
    "    for idx, (x, y) in tqdm(enumerate(train_loader)):\n",
    "        x, y = x.to(device), y.to(device)\n",
    "        x = x.view(x.size(0),-1).T\n",
    "        y_one_hot = F.one_hot(y, 10).to(device).T\n",
    "\n",
    "        h, y_hat = model.batch_step(  x, y_one_hot, lr, neural_lr, neural_dynamic_iterations_free, \n",
    "                                      neural_dynamic_iterations_nudged, beta)\n",
    "    \n",
    "    trn_acc = evaluateCorInfoMax(model, train_loader, neural_lr, 20, device = 'cuda', printing = False)\n",
    "    tst_acc = evaluateCorInfoMax(model, test_loader, neural_lr, 20, device = 'cuda', printing = False)\n",
    "    trn_acc_list.append(trn_acc)\n",
    "    tst_acc_list.append(tst_acc)\n",
    "#     lr = {'ff' : 0.05 * (0.9)**epoch_, 'fb': 0.05 * (0.9) ** epoch_, 'lat': 1e-3}\n",
    "    \n",
    "    print(\"Epoch : {}, Train Accuracy : {}, Test Accuracy : {}\".format(epoch_+1, trn_acc, tst_acc))"
   ]
  },
  {
   "cell_type": "code",
   "execution_count": 233,
   "id": "95d928fa",
   "metadata": {},
   "outputs": [],
   "source": [
    "architecture = [784, 500, 10]\n",
    "\n",
    "x, y = next(iter(train_loader))\n",
    "\n",
    "x, y = x.to(device), y.to(device)\n",
    "x = x.view(x.size(0),-1).T\n",
    "y_one_hot = F.one_hot(y, 10).to(device).T\n",
    "\n",
    "beta = 1\n",
    "lambda_h = 0.99\n",
    "lambda_y = 0.99\n",
    "epsilon = 0.01\n",
    "one_over_epsilon = 1 / epsilon\n",
    "lr = {'ff' : 0.01, 'fb': 0.01, 'lat': 1e-3}\n",
    "model = TwoLayerCorInfoMaxHopfield(architecture = architecture, lambda_h = lambda_h, lambda_y = lambda_y, \n",
    "                           epsilon = epsilon, activation = activation, initialization = \"xavier\")\n",
    "\n",
    "neural_lr = 0.001\n",
    "h, y_hat = model.init_neurons(x.size(1), device = model.device, random_initialize = False)\n",
    "neural_dynamic_iterations = 1\n",
    "vh,vy = torch.clone(h), torch.clone(y_hat)\n",
    "gam_h, gam_y = model.gam_h, model.gam_y\n",
    "for iter_count in range(neural_dynamic_iterations):\n",
    "    with torch.no_grad():       \n",
    "        grad_h, grad_y = model.calculate_neural_dynamics_grad(x, h, vh, y_hat, vy, y, beta = 1)\n",
    "        vh = vh + neural_lr * grad_h\n",
    "        h = model.activation(0.5 * (1 / gam_h) * vh)\n",
    "\n",
    "        vy = vy + neural_lr * grad_y\n",
    "        y_hat = model.activation((1 / gam_y) * vy)"
   ]
  },
  {
   "cell_type": "code",
   "execution_count": 234,
   "id": "bc21d3f1",
   "metadata": {},
   "outputs": [
    {
     "data": {
      "text/plain": [
       "tensor([0, 0, 0, 0, 1, 0, 0, 0, 0, 0], device='cuda:0')"
      ]
     },
     "execution_count": 234,
     "metadata": {},
     "output_type": "execute_result"
    }
   ],
   "source": [
    "y_one_hot[:,1]"
   ]
  },
  {
   "cell_type": "code",
   "execution_count": 235,
   "id": "2331c475",
   "metadata": {},
   "outputs": [],
   "source": [
    "B, Wff, Wfb = model.B, model.Wff, model.Wfb"
   ]
  },
  {
   "cell_type": "code",
   "execution_count": 236,
   "id": "1f3a6d78",
   "metadata": {},
   "outputs": [],
   "source": [
    "# h, y_hat = model.init_neurons(x.size(1), device = model.device, random_initialize = True)\n",
    "# vh,vy = torch.clone(h), torch.clone(y_hat)\n",
    "# M0 = B[0]['weight'] + torch.eye(B[0]['weight'].shape[0], requires_grad=False, device = model.device)\n",
    "# M1 = B[1]['weight'] + torch.eye(B[1]['weight'].shape[0], requires_grad=False, device = model.device)\n",
    "# -vy + gam_y * M1 @ y_hat - one_over_epsilon * (y_hat - (Wff[1]['weight'] @ h + Wff[1]['bias'])) + 2 * beta * (y - y_hat)"
   ]
  },
  {
   "cell_type": "code",
   "execution_count": 237,
   "id": "499b4b58",
   "metadata": {},
   "outputs": [
    {
     "data": {
      "text/plain": [
       "tensor([[18.,  8.,  2., 12.,  2., 10., 10., 12.,  8.,  4., 18.,  0., 18., 10.,\n",
       "          8.,  8., 16.,  6., 14., 14.],\n",
       "        [18.,  8.,  2., 12.,  2., 10., 10., 12.,  8.,  4., 18.,  0., 18., 10.,\n",
       "          8.,  8., 16.,  6., 14., 14.],\n",
       "        [18.,  8.,  2., 12.,  2., 10., 10., 12.,  8.,  4., 18.,  0., 18., 10.,\n",
       "          8.,  8., 16.,  6., 14., 14.],\n",
       "        [18.,  8.,  2., 12.,  2., 10., 10., 12.,  8.,  4., 18.,  0., 18., 10.,\n",
       "          8.,  8., 16.,  6., 14., 14.],\n",
       "        [18.,  8.,  2., 12.,  2., 10., 10., 12.,  8.,  4., 18.,  0., 18., 10.,\n",
       "          8.,  8., 16.,  6., 14., 14.],\n",
       "        [18.,  8.,  2., 12.,  2., 10., 10., 12.,  8.,  4., 18.,  0., 18., 10.,\n",
       "          8.,  8., 16.,  6., 14., 14.],\n",
       "        [18.,  8.,  2., 12.,  2., 10., 10., 12.,  8.,  4., 18.,  0., 18., 10.,\n",
       "          8.,  8., 16.,  6., 14., 14.],\n",
       "        [18.,  8.,  2., 12.,  2., 10., 10., 12.,  8.,  4., 18.,  0., 18., 10.,\n",
       "          8.,  8., 16.,  6., 14., 14.],\n",
       "        [18.,  8.,  2., 12.,  2., 10., 10., 12.,  8.,  4., 18.,  0., 18., 10.,\n",
       "          8.,  8., 16.,  6., 14., 14.],\n",
       "        [18.,  8.,  2., 12.,  2., 10., 10., 12.,  8.,  4., 18.,  0., 18., 10.,\n",
       "          8.,  8., 16.,  6., 14., 14.]], device='cuda:0')"
      ]
     },
     "execution_count": 237,
     "metadata": {},
     "output_type": "execute_result"
    }
   ],
   "source": [
    "grad_y"
   ]
  },
  {
   "cell_type": "code",
   "execution_count": 238,
   "id": "6dcd9dd1",
   "metadata": {},
   "outputs": [
    {
     "data": {
      "text/plain": [
       "tensor([0.0080, 0.0080, 0.0080, 0.0080, 0.0080, 0.0080, 0.0080, 0.0080, 0.0080,\n",
       "        0.0080], device='cuda:0')"
      ]
     },
     "execution_count": 238,
     "metadata": {},
     "output_type": "execute_result"
    }
   ],
   "source": [
    "vy[:,1]"
   ]
  },
  {
   "cell_type": "code",
   "execution_count": 239,
   "id": "766d6b3f",
   "metadata": {},
   "outputs": [
    {
     "data": {
      "text/plain": [
       "tensor([0.7920, 0.7920, 0.7920, 0.7920, 0.7920, 0.7920, 0.7920, 0.7920, 0.7920,\n",
       "        0.7920], device='cuda:0')"
      ]
     },
     "execution_count": 239,
     "metadata": {},
     "output_type": "execute_result"
    }
   ],
   "source": [
    "y_hat[:,1]"
   ]
  },
  {
   "cell_type": "code",
   "execution_count": null,
   "id": "0b25dc99",
   "metadata": {},
   "outputs": [],
   "source": [
    "architecture = [784, 500, 10]\n",
    "\n",
    "x, y = next(iter(train_loader))\n",
    "\n",
    "x, y = x.to(device), y.to(device)\n",
    "x = x.view(x.size(0),-1).T\n",
    "y_one_hot = F.one_hot(y, 10).to(device).T\n",
    "\n",
    "beta = 1\n",
    "lambda_h = 0.999\n",
    "lambda_y = 0.999\n",
    "epsilon = 0.1\n",
    "one_over_epsilon = 1 / epsilon\n",
    "lr = {'ff' : 0.01, 'fb': 0.01, 'lat': 1e-3}\n",
    "\n",
    "model = TwoLayerCorInfoMax(architecture = architecture, lambda_h = lambda_h, lambda_y = lambda_y, \n",
    "                           epsilon = epsilon, activation = activation)\n",
    "\n",
    "neural_lr = 0.0001\n",
    "h, y_hat = model.init_neurons(x.size(1), device = model.device, random_initialize = False)\n",
    "neural_dynamic_iterations = 4\n",
    "for iter_count in range(neural_dynamic_iterations):\n",
    "    with torch.no_grad():       \n",
    "        grad_h, grad_y = model.calculate_neural_dynamics_grad(x, h, y_hat, y, beta = 1)\n",
    "        h = model.activation(h + neural_lr * grad_h)\n",
    "        y_hat = model.activation(y + neural_lr * grad_y)"
   ]
  },
  {
   "cell_type": "code",
   "execution_count": null,
   "id": "65bd3294",
   "metadata": {},
   "outputs": [],
   "source": [
    "y_hat"
   ]
  },
  {
   "cell_type": "code",
   "execution_count": null,
   "id": "bbc4a5e4",
   "metadata": {},
   "outputs": [],
   "source": [
    "# vh = vh + neural_lr * grad_h\n",
    "# h = model.activation(0.5 * (1 / model.gam_h) * vh)\n",
    "neural_lr = 0.01\n",
    "h, y_hat = model.init_neurons(x.size(1), device = model.device, random_initialize = False)\n",
    "neural_dynamic_iterations = 4\n",
    "vh,vy = torch.clone(h), torch.clone(y_hat)\n",
    "gam_h, gam_y = model.gam_h, model.gam_y\n",
    "# for iter_count in range(neural_dynamic_iterations):\n",
    "#     with torch.no_grad():       \n",
    "#         grad_h, grad_y = model.calculate_neural_dynamics_grad(x, h, vh, y_hat, vy, y, beta = 1)\n",
    "#         vh = vh + neural_lr * grad_h\n",
    "#         h = model.activation(0.5 * (1 / gam_h) * vh)\n",
    "\n",
    "#         vy = vy + neural_lr * grad_y\n",
    "#         y_hat = model.activation((1 / gam_y) * vy)\n",
    "for iter_count in range(neural_dynamic_iterations):\n",
    "    with torch.no_grad():       \n",
    "        grad_h, grad_y = model.calculate_neural_dynamics_grad(x, h, vh, y_hat, vy, y, beta = 0)\n",
    "        h = model.activation(h + neural_lr * grad_h)\n",
    "\n",
    "        y_hat = model.activation(y + neural_lr * grad_y)"
   ]
  },
  {
   "cell_type": "code",
   "execution_count": null,
   "id": "f23cccfc",
   "metadata": {},
   "outputs": [],
   "source": [
    "torch.argmax(y_hat, 0)"
   ]
  },
  {
   "cell_type": "code",
   "execution_count": null,
   "id": "3e307a91",
   "metadata": {},
   "outputs": [],
   "source": [
    "model.Wff"
   ]
  },
  {
   "cell_type": "code",
   "execution_count": null,
   "id": "127982dc",
   "metadata": {},
   "outputs": [],
   "source": [
    "y_hat"
   ]
  },
  {
   "cell_type": "code",
   "execution_count": null,
   "id": "0bfb1a7f",
   "metadata": {},
   "outputs": [],
   "source": [
    "(y_hat)"
   ]
  }
 ],
 "metadata": {
  "kernelspec": {
   "display_name": "Python 3 (ipykernel)",
   "language": "python",
   "name": "python3"
  },
  "language_info": {
   "codemirror_mode": {
    "name": "ipython",
    "version": 3
   },
   "file_extension": ".py",
   "mimetype": "text/x-python",
   "name": "python",
   "nbconvert_exporter": "python",
   "pygments_lexer": "ipython3",
   "version": "3.8.8"
  }
 },
 "nbformat": 4,
 "nbformat_minor": 5
}
