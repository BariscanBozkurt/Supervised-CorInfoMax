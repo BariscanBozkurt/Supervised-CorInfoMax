{
 "cells": [
  {
   "cell_type": "code",
   "execution_count": 1,
   "id": "5eb83261",
   "metadata": {},
   "outputs": [],
   "source": [
    "import sys\n",
    "sys.path.append(\"../src\")\n",
    "import torch\n",
    "import matplotlib.pyplot as plt\n",
    "import numpy as np\n",
    "import torchvision\n",
    "import torch.nn.functional as F\n",
    "\n",
    "import glob\n",
    "import os\n",
    "from datetime import datetime\n",
    "import time\n",
    "import math\n",
    "from tqdm import tqdm\n",
    "\n",
    "from itertools import repeat\n",
    "from torch.nn.parameter import Parameter\n",
    "import collections\n",
    "import matplotlib\n",
    "from torch_utils import *\n",
    "from models import *\n",
    "from visualization import *\n",
    "# matplotlib.use('Agg')"
   ]
  },
  {
   "cell_type": "code",
   "execution_count": 2,
   "id": "b2163b22",
   "metadata": {},
   "outputs": [
    {
     "data": {
      "text/plain": [
       "device(type='cuda', index=0)"
      ]
     },
     "execution_count": 2,
     "metadata": {},
     "output_type": "execute_result"
    }
   ],
   "source": [
    "device = torch.device('cuda:0' if torch.cuda.is_available() else 'cpu')\n",
    "device"
   ]
  },
  {
   "cell_type": "code",
   "execution_count": 3,
   "id": "a2a076ac",
   "metadata": {},
   "outputs": [],
   "source": [
    "transform = torchvision.transforms.Compose([torchvision.transforms.ToTensor(), \n",
    "                                            torchvision.transforms.Normalize(mean=(0.0,), std=(1.0,))])\n",
    "\n",
    "mnist_dset_train = torchvision.datasets.MNIST('./data', train=True, transform=transform, target_transform=None, download=True)\n",
    "train_loader = torch.utils.data.DataLoader(mnist_dset_train, batch_size=20, shuffle=True, num_workers=0)\n",
    "\n",
    "mnist_dset_test = torchvision.datasets.MNIST('./data', train=False, transform=transform, target_transform=None, download=True)\n",
    "test_loader = torch.utils.data.DataLoader(mnist_dset_test, batch_size=20, shuffle=False, num_workers=0)"
   ]
  },
  {
   "cell_type": "code",
   "execution_count": 4,
   "id": "51886539",
   "metadata": {},
   "outputs": [],
   "source": [
    "activation = hard_sigmoid\n",
    "architecture = [784, 500, 10]\n",
    "\n",
    "x,y = next(iter(train_loader))\n",
    "x = x.view(x.size(0),-1).to(device).T\n",
    "y_one_hot = F.one_hot(y, 10).to(device).T\n",
    "\n",
    "beta = 1\n",
    "lambda_ = 0.999\n",
    "epsilon = 0.1#0.5\n",
    "one_over_epsilon = 1 / epsilon\n",
    "lr_start = {'ff' : 0.01, 'fb': 0.001, 'lat': 1e-3}\n",
    "neural_lr_start = 0.1\n",
    "neural_lr_stop = 1e-3\n",
    "neural_lr_rule = \"divide_by_slow_loop_index\"\n",
    "neural_lr_decay_multiplier = 0.1\n",
    "model = CorInfoMax(architecture = architecture, lambda_ = lambda_,\n",
    "                           epsilon = epsilon, activation = activation)"
   ]
  },
  {
   "cell_type": "code",
   "execution_count": 5,
   "id": "e403fe29",
   "metadata": {},
   "outputs": [
    {
     "data": {
      "text/plain": [
       "[tensor([[0., 0., 0.,  ..., 0., 0., 0.],\n",
       "         [0., 0., 0.,  ..., 0., 0., 0.],\n",
       "         [0., 0., 0.,  ..., 0., 0., 0.],\n",
       "         ...,\n",
       "         [0., 0., 0.,  ..., 0., 0., 0.],\n",
       "         [0., 0., 0.,  ..., 0., 0., 0.],\n",
       "         [0., 0., 0.,  ..., 0., 0., 0.]], device='cuda:0'),\n",
       " tensor([[0., 0., 0., 0., 0., 0., 0., 0., 0., 0., 0., 0., 0., 0., 0., 0., 0., 0., 0., 0.],\n",
       "         [0., 0., 0., 0., 0., 0., 0., 0., 0., 0., 0., 0., 0., 0., 0., 0., 0., 0., 0., 0.],\n",
       "         [0., 0., 0., 0., 0., 0., 0., 0., 0., 0., 0., 0., 0., 0., 0., 0., 0., 0., 0., 0.],\n",
       "         [0., 0., 0., 0., 0., 0., 0., 0., 0., 0., 0., 0., 0., 0., 0., 0., 0., 0., 0., 0.],\n",
       "         [0., 0., 0., 0., 0., 0., 0., 0., 0., 0., 0., 0., 0., 0., 0., 0., 0., 0., 0., 0.],\n",
       "         [0., 0., 0., 0., 0., 0., 0., 0., 0., 0., 0., 0., 0., 0., 0., 0., 0., 0., 0., 0.],\n",
       "         [0., 0., 0., 0., 0., 0., 0., 0., 0., 0., 0., 0., 0., 0., 0., 0., 0., 0., 0., 0.],\n",
       "         [0., 0., 0., 0., 0., 0., 0., 0., 0., 0., 0., 0., 0., 0., 0., 0., 0., 0., 0., 0.],\n",
       "         [0., 0., 0., 0., 0., 0., 0., 0., 0., 0., 0., 0., 0., 0., 0., 0., 0., 0., 0., 0.],\n",
       "         [0., 0., 0., 0., 0., 0., 0., 0., 0., 0., 0., 0., 0., 0., 0., 0., 0., 0., 0., 0.]],\n",
       "        device='cuda:0')]"
      ]
     },
     "execution_count": 5,
     "metadata": {},
     "output_type": "execute_result"
    }
   ],
   "source": [
    "neurons = model.init_neurons(20)\n",
    "neurons"
   ]
  },
  {
   "cell_type": "code",
   "execution_count": 6,
   "id": "b2352352",
   "metadata": {},
   "outputs": [
    {
     "data": {
      "text/plain": [
       "[tensor([[-2.4885,  0.4672, -0.0859,  ..., -3.8411, -0.9001, -0.9166],\n",
       "         [-4.4560,  4.8609, -1.3593,  ..., -0.2791, -5.1989,  1.1242],\n",
       "         [-3.5220, -0.0646, -3.4889,  ...,  0.7695, -5.6820, -2.0572],\n",
       "         ...,\n",
       "         [-1.3956, -0.6573, -1.7025,  ..., -1.2321,  3.5394, -1.5662],\n",
       "         [ 2.5555, -2.5297, -5.6591,  ...,  2.3994,  0.2526, -3.9241],\n",
       "         [ 8.9963, -0.5278,  1.8709,  ..., -1.6381,  3.8061,  4.1860]],\n",
       "        device='cuda:0'),\n",
       " tensor([[0., 0., 0., 0., 0., 0., 0., 0., 0., 0., 0., 0., 0., 0., 0., 0., 0., 0., 0., 0.],\n",
       "         [0., 0., 0., 0., 0., 0., 0., 0., 0., 0., 0., 0., 0., 0., 0., 0., 0., 0., 0., 0.],\n",
       "         [0., 0., 0., 0., 0., 0., 0., 0., 0., 0., 0., 0., 0., 0., 0., 0., 0., 0., 0., 0.],\n",
       "         [0., 0., 0., 0., 0., 0., 0., 0., 0., 0., 0., 0., 0., 0., 0., 0., 0., 0., 0., 0.],\n",
       "         [0., 0., 0., 0., 0., 0., 0., 0., 0., 0., 0., 0., 0., 0., 0., 0., 0., 0., 0., 0.],\n",
       "         [0., 0., 0., 0., 0., 0., 0., 0., 0., 0., 0., 0., 0., 0., 0., 0., 0., 0., 0., 0.],\n",
       "         [0., 0., 0., 0., 0., 0., 0., 0., 0., 0., 0., 0., 0., 0., 0., 0., 0., 0., 0., 0.],\n",
       "         [0., 0., 0., 0., 0., 0., 0., 0., 0., 0., 0., 0., 0., 0., 0., 0., 0., 0., 0., 0.],\n",
       "         [0., 0., 0., 0., 0., 0., 0., 0., 0., 0., 0., 0., 0., 0., 0., 0., 0., 0., 0., 0.],\n",
       "         [0., 0., 0., 0., 0., 0., 0., 0., 0., 0., 0., 0., 0., 0., 0., 0., 0., 0., 0., 0.]],\n",
       "        device='cuda:0')]"
      ]
     },
     "execution_count": 6,
     "metadata": {},
     "output_type": "execute_result"
    }
   ],
   "source": [
    "grads = model.calculate_neural_dynamics_grad(x, y_one_hot, neurons, 0)\n",
    "grads"
   ]
  },
  {
   "cell_type": "code",
   "execution_count": 7,
   "id": "91da9549",
   "metadata": {},
   "outputs": [
    {
     "data": {
      "text/plain": [
       "tensor([0, 1, 6, 9, 5, 4, 0, 5, 6, 2, 4, 8, 9, 2, 7, 4, 8, 3, 5, 6],\n",
       "       device='cuda:0')"
      ]
     },
     "execution_count": 7,
     "metadata": {},
     "output_type": "execute_result"
    }
   ],
   "source": [
    "neurons = model.init_neurons(20)\n",
    "neurons[-1] = y_one_hot.to(torch.float)\n",
    "neurons = model.run_neural_dynamics(x, y_one_hot, neurons, neural_lr_start, neural_lr_stop, neural_lr_rule,\n",
    "                                    neural_lr_decay_multiplier, neural_dynamic_iterations, beta)\n",
    "torch.argmax(neurons[-1], dim=0).squeeze()"
   ]
  },
  {
   "cell_type": "code",
   "execution_count": 8,
   "id": "6fde6d3b",
   "metadata": {},
   "outputs": [
    {
     "data": {
      "text/plain": [
       "[tensor([[-0.2489,  0.0467, -0.0086,  ..., -0.3841, -0.0900, -0.0917],\n",
       "         [-0.4456,  0.4861, -0.1359,  ..., -0.0279, -0.5199,  0.1124],\n",
       "         [-0.3522, -0.0065, -0.3489,  ...,  0.0769, -0.5682, -0.2057],\n",
       "         ...,\n",
       "         [-0.1396, -0.0657, -0.1703,  ..., -0.1232,  0.3539, -0.1566],\n",
       "         [ 0.2555, -0.2530, -0.5659,  ...,  0.2399,  0.0253, -0.3924],\n",
       "         [ 0.8996, -0.0528,  0.1871,  ..., -0.1638,  0.3806,  0.4186]],\n",
       "        device='cuda:0'),\n",
       " tensor([[ 0.2031, -0.2748,  0.9648, -0.0395, -0.0969,  0.4200,  0.1278,  0.1575,\n",
       "           0.7930,  0.0178,  0.0760, -0.4702,  0.1120,  0.5362,  0.2541,  0.3529,\n",
       "          -0.0212,  0.0138, -0.0928,  0.7035],\n",
       "         [-0.0627, -0.2970, -0.3474, -0.2350, -0.4529, -0.2391,  0.1234,  0.0575,\n",
       "          -0.2118, -0.6514,  0.0062,  0.2661, -0.1857, -0.5614,  0.0467, -0.0579,\n",
       "           0.0090, -0.5980, -0.0037,  0.0798],\n",
       "         [-0.0884, -0.2127, -0.4401,  0.4362, -0.0316,  0.2202, -0.6029, -0.4336,\n",
       "          -0.6775,  0.1473,  0.2806, -1.0649, -0.5955, -0.5817,  0.2800, -0.2055,\n",
       "          -0.7549,  0.1066,  0.3841, -0.8360],\n",
       "         [ 0.3192, -0.1682,  0.1894,  0.1631,  0.3787,  0.1707, -0.5675,  0.4904,\n",
       "           0.4674,  0.0370,  0.3607,  0.3592,  0.5276,  0.2510,  0.3031,  0.1519,\n",
       "           0.2218, -0.1738,  0.2874,  0.4910],\n",
       "         [ 0.1585,  0.3269, -0.9900,  0.1779,  0.1910, -0.3661, -0.2038, -0.1853,\n",
       "           0.1801, -1.3851, -0.2857, -0.8477, -0.7125, -0.5405, -0.1032, -0.6471,\n",
       "          -0.8444,  0.2640, -0.4658, -0.9625],\n",
       "         [-0.4561,  0.7556,  0.4022,  1.1020,  0.0812,  0.5482,  0.6080,  0.8415,\n",
       "           0.1472,  0.1453,  0.5487,  0.3484,  0.8066,  0.4100,  0.3823,  0.4342,\n",
       "           1.0047,  0.7008,  0.4050,  0.6741],\n",
       "         [ 0.4455,  0.1366, -0.2666, -0.4217, -0.3122, -0.3571, -0.0871, -0.0398,\n",
       "          -0.6809, -1.0283, -0.3221, -0.3943, -0.3258, -0.0857, -0.1681, -0.0688,\n",
       "           0.0156,  0.2612,  0.5558, -0.3180],\n",
       "         [-0.3971,  0.0500, -0.3404,  0.0404,  0.0312,  0.4616, -0.0602, -0.1261,\n",
       "          -0.3345,  0.2974, -0.6869,  0.0752, -0.2786,  0.0504, -0.4456,  0.3529,\n",
       "          -0.1839, -0.5309, -0.0434, -0.3430],\n",
       "         [ 0.2857, -0.5003, -0.0879, -0.5137, -0.5575, -0.1713, -0.1210, -0.6443,\n",
       "          -0.5626, -0.1721, -0.3072, -0.4878,  0.0321,  0.0627, -0.3629, -0.6430,\n",
       "           0.0986, -0.8338, -0.4886, -0.1788],\n",
       "         [ 0.7615, -0.0597,  0.2437, -0.2129,  0.8118, -0.2880,  0.8954,  0.8306,\n",
       "           0.7513,  0.5381,  0.8753,  0.4031,  0.4097,  0.4191,  0.8448,  0.7026,\n",
       "           0.3599,  0.6146,  0.6268,  1.2098]], device='cuda:0')]"
      ]
     },
     "execution_count": 8,
     "metadata": {},
     "output_type": "execute_result"
    }
   ],
   "source": [
    "model.fast_forward(x)"
   ]
  },
  {
   "cell_type": "code",
   "execution_count": 10,
   "id": "719336fc",
   "metadata": {},
   "outputs": [
    {
     "data": {
      "text/plain": [
       "(torch.Size([10, 20]), torch.Size([10, 20]))"
      ]
     },
     "execution_count": 10,
     "metadata": {},
     "output_type": "execute_result"
    }
   ],
   "source": [
    "neurons[-1].shape, y_one_hot.shape"
   ]
  },
  {
   "cell_type": "code",
   "execution_count": 11,
   "id": "a8cc4c2c",
   "metadata": {},
   "outputs": [
    {
     "data": {
      "text/plain": [
       "(tensor([0, 1, 6, 9, 5, 4, 0, 5, 6, 2, 4, 8, 9, 2, 7, 4, 8, 3, 5, 6],\n",
       "        device='cuda:0'),\n",
       " tensor([0, 1, 6, 9, 5, 4, 0, 5, 6, 2, 4, 8, 9, 2, 7, 4, 8, 3, 5, 6]))"
      ]
     },
     "execution_count": 11,
     "metadata": {},
     "output_type": "execute_result"
    }
   ],
   "source": [
    "neurons = model.batch_step(x, y_one_hot, neural_lr_start, neural_lr_stop, neural_lr_rule, \n",
    "                           neural_lr_decay_multiplier, 5, 1)\n",
    "torch.argmax(neurons[-1], dim=0).squeeze(), y"
   ]
  },
  {
   "cell_type": "code",
   "execution_count": 13,
   "id": "869bdb5d",
   "metadata": {},
   "outputs": [
    {
     "data": {
      "text/plain": [
       "(tensor([9, 5, 0, 5, 9, 7, 9, 5, 0, 7, 9, 1, 5, 0, 9, 9, 5, 5, 6, 9],\n",
       "        device='cuda:0'),\n",
       " tensor([0, 1, 6, 9, 5, 4, 0, 5, 6, 2, 4, 8, 9, 2, 7, 4, 8, 3, 5, 6]))"
      ]
     },
     "execution_count": 13,
     "metadata": {},
     "output_type": "execute_result"
    }
   ],
   "source": [
    "neurons = model.fast_forward(x)\n",
    "torch.argmax(neurons[-1], dim=0).squeeze(), y"
   ]
  }
 ],
 "metadata": {
  "kernelspec": {
   "display_name": "Python 3 (ipykernel)",
   "language": "python",
   "name": "python3"
  },
  "language_info": {
   "codemirror_mode": {
    "name": "ipython",
    "version": 3
   },
   "file_extension": ".py",
   "mimetype": "text/x-python",
   "name": "python",
   "nbconvert_exporter": "python",
   "pygments_lexer": "ipython3",
   "version": "3.8.8"
  }
 },
 "nbformat": 4,
 "nbformat_minor": 5
}
