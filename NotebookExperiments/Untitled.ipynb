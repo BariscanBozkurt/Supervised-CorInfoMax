{
 "cells": [
  {
   "cell_type": "code",
   "execution_count": 1,
   "id": "5b053868",
   "metadata": {},
   "outputs": [],
   "source": [
    "import numpy as np"
   ]
  },
  {
   "cell_type": "code",
   "execution_count": 18,
   "id": "a65a57b9",
   "metadata": {},
   "outputs": [],
   "source": [
    "M = np.random.randn(2,2)\n",
    "zero = np.zeros((1,2))\n",
    "sqrt_alpha = np.array([1]).reshape(1,1)\n",
    "v_over_alpha = np.random.randn(2,1)\n"
   ]
  },
  {
   "cell_type": "code",
   "execution_count": 19,
   "id": "2f1c27cc",
   "metadata": {},
   "outputs": [
    {
     "data": {
      "text/plain": [
       "(array([[-1.78212652],\n",
       "        [-0.59768578]]),\n",
       " array([[-1.06464077, -1.46502892],\n",
       "        [ 1.13123502, -1.3128215 ]]))"
      ]
     },
     "execution_count": 19,
     "metadata": {},
     "output_type": "execute_result"
    }
   ],
   "source": [
    "v_over_alpha, M"
   ]
  },
  {
   "cell_type": "code",
   "execution_count": 20,
   "id": "f7c196f1",
   "metadata": {},
   "outputs": [
    {
     "data": {
      "text/plain": [
       "(array([[1]]), array([[0., 0.]]))"
      ]
     },
     "execution_count": 20,
     "metadata": {},
     "output_type": "execute_result"
    }
   ],
   "source": [
    "sqrt_alpha, zero"
   ]
  },
  {
   "cell_type": "code",
   "execution_count": 30,
   "id": "23ce43ba",
   "metadata": {},
   "outputs": [],
   "source": [
    "\n",
    "above = np.hstack((sqrt_alpha, zero))\n",
    "bottom = np.hstack((v_over_alpha, M))"
   ]
  },
  {
   "cell_type": "code",
   "execution_count": 31,
   "id": "f0e74fb9",
   "metadata": {},
   "outputs": [
    {
     "data": {
      "text/plain": [
       "array([[1., 0., 0.]])"
      ]
     },
     "execution_count": 31,
     "metadata": {},
     "output_type": "execute_result"
    }
   ],
   "source": [
    "above"
   ]
  },
  {
   "cell_type": "code",
   "execution_count": 32,
   "id": "71e4998a",
   "metadata": {},
   "outputs": [
    {
     "data": {
      "text/plain": [
       "array([[-1.78212652, -1.06464077, -1.46502892],\n",
       "       [-0.59768578,  1.13123502, -1.3128215 ]])"
      ]
     },
     "execution_count": 32,
     "metadata": {},
     "output_type": "execute_result"
    }
   ],
   "source": [
    "bottom"
   ]
  },
  {
   "cell_type": "code",
   "execution_count": 33,
   "id": "0f1c7b96",
   "metadata": {},
   "outputs": [
    {
     "data": {
      "text/plain": [
       "array([[ 1.        ,  0.        ,  0.        ],\n",
       "       [-1.78212652, -1.06464077, -1.46502892],\n",
       "       [-0.59768578,  1.13123502, -1.3128215 ]])"
      ]
     },
     "execution_count": 33,
     "metadata": {},
     "output_type": "execute_result"
    }
   ],
   "source": [
    "np.vstack((above, bottom))"
   ]
  }
 ],
 "metadata": {
  "kernelspec": {
   "display_name": "Python 3 (ipykernel)",
   "language": "python",
   "name": "python3"
  },
  "language_info": {
   "codemirror_mode": {
    "name": "ipython",
    "version": 3
   },
   "file_extension": ".py",
   "mimetype": "text/x-python",
   "name": "python",
   "nbconvert_exporter": "python",
   "pygments_lexer": "ipython3",
   "version": "3.8.8"
  }
 },
 "nbformat": 4,
 "nbformat_minor": 5
}
