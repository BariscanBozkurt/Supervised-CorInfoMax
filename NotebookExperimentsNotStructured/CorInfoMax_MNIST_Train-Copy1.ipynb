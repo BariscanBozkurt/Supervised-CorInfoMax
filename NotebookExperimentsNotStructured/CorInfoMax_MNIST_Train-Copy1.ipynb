{
 "cells": [
  {
   "cell_type": "code",
   "execution_count": 1,
   "id": "e39d372d",
   "metadata": {},
   "outputs": [],
   "source": [
    "import sys\n",
    "sys.path.append(\"../src\")\n",
    "import torch\n",
    "import matplotlib.pyplot as plt\n",
    "import numpy as np\n",
    "import torchvision\n",
    "import torch.nn.functional as F\n",
    "\n",
    "import glob\n",
    "import os\n",
    "from datetime import datetime\n",
    "import time\n",
    "import math\n",
    "from tqdm import tqdm\n",
    "\n",
    "from itertools import repeat\n",
    "from torch.nn.parameter import Parameter\n",
    "import collections\n",
    "import matplotlib\n",
    "from torch_utils import *\n",
    "from models import *\n",
    "from visualization import *\n",
    "# matplotlib.use('Agg')"
   ]
  },
  {
   "cell_type": "code",
   "execution_count": 2,
   "id": "2f458ac2",
   "metadata": {},
   "outputs": [],
   "source": [
    "def evaluateCorInfoMaxV3(model, loader, neural_lr_start, neural_lr_stop, neural_lr_rule, \n",
    "                         neural_lr_decay_multiplier,\n",
    "                         neural_dynamic_iterations, device, printing = True):\n",
    "    # Evaluate the model on a dataloader with T steps for the dynamics\n",
    "    #model.eval()\n",
    "    correct=0\n",
    "    phase = 'Train' if loader.dataset.train else 'Test'\n",
    "    \n",
    "    for x, y in loader:\n",
    "#         x = x.view(x.size(0),-1).to(device).T\n",
    "#         x = activation_inverse(2*x.view(x.size(0),-1).T - 1, \"sigmoid\").to(device)\n",
    "        x = activation_inverse(x.view(x.size(0),-1).T , \"sigmoid\").to(device)\n",
    "        y = y.to(device)\n",
    "        \n",
    "        neurons = model.fast_forward(x)\n",
    "        \n",
    "        # dynamics for T time steps\n",
    "        neurons = model.run_neural_dynamics(x, y_one_hot, neurons, neural_lr_start, neural_lr_stop, \n",
    "                                            neural_lr_rule,\n",
    "                                            neural_lr_decay_multiplier, neural_dynamic_iterations, 0, \"test\")\n",
    "        pred = torch.argmax(neurons[-1], dim=0).squeeze()  # in this case prediction is done directly on the last (output) layer of neurons\n",
    "        correct += (y == pred).sum().item()\n",
    "\n",
    "    acc = correct/len(loader.dataset) \n",
    "    if printing:\n",
    "        print(phase+' accuracy :\\t', acc)   \n",
    "    return acc\n",
    "\n",
    "def evaluateCorInfoMaxV4(model, loader, neural_lr_start, neural_lr_stop, neural_lr_rule, \n",
    "                         neural_lr_decay_multiplier,\n",
    "                         neural_dynamic_iterations, device, printing = True):\n",
    "    # Evaluate the model on a dataloader with T steps for the dynamics\n",
    "    #model.eval()\n",
    "    correct=0\n",
    "    phase = 'Train' if loader.dataset.train else 'Test'\n",
    "    \n",
    "    for x, y in loader:\n",
    "#         x = x.view(x.size(0),-1).to(device).T\n",
    "#         x = activation_inverse(2*x.view(x.size(0),-1).T - 1, \"sigmoid\").to(device)\n",
    "        x = activation_inverse(x.view(x.size(0),-1).T, \"sigmoid\").to(device)\n",
    "        y = y.to(device)\n",
    "        \n",
    "        neurons = model.fast_forward(x)\n",
    "        \n",
    "#         # dynamics for T time steps\n",
    "#         neurons = model.run_neural_dynamics(x, y_one_hot, neurons, neural_lr_start, neural_lr_stop, \n",
    "#                                             neural_lr_rule,\n",
    "#                                             neural_lr_decay_multiplier, neural_dynamic_iterations, 0, \"test\")\n",
    "        pred = torch.argmax(neurons[-1], dim=0).squeeze()  # in this case prediction is done directly on the last (output) layer of neurons\n",
    "        correct += (y == pred).sum().item()\n",
    "\n",
    "    acc = correct/len(loader.dataset) \n",
    "    if printing:\n",
    "        print(phase+' accuracy :\\t', acc)   \n",
    "    return acc"
   ]
  },
  {
   "cell_type": "code",
   "execution_count": 3,
   "id": "cea1ff3f",
   "metadata": {},
   "outputs": [
    {
     "data": {
      "text/plain": [
       "device(type='cuda', index=0)"
      ]
     },
     "execution_count": 3,
     "metadata": {},
     "output_type": "execute_result"
    }
   ],
   "source": [
    "device = torch.device('cuda:0' if torch.cuda.is_available() else 'cpu')\n",
    "device"
   ]
  },
  {
   "cell_type": "code",
   "execution_count": 4,
   "id": "4018d2d9",
   "metadata": {},
   "outputs": [],
   "source": [
    "transform = torchvision.transforms.Compose([torchvision.transforms.ToTensor(), \n",
    "                                            torchvision.transforms.Normalize(mean=(0.0,), std=(1.0,))])\n",
    "\n",
    "mnist_dset_train = torchvision.datasets.MNIST('./data', train=True, transform=transform, target_transform=None, download=True)\n",
    "train_loader = torch.utils.data.DataLoader(mnist_dset_train, batch_size=20, shuffle=True, num_workers=0)\n",
    "\n",
    "mnist_dset_test = torchvision.datasets.MNIST('./data', train=False, transform=transform, target_transform=None, download=True)\n",
    "test_loader = torch.utils.data.DataLoader(mnist_dset_test, batch_size=20, shuffle=False, num_workers=0)"
   ]
  },
  {
   "cell_type": "code",
   "execution_count": 5,
   "id": "71519c2b",
   "metadata": {},
   "outputs": [],
   "source": [
    "activation = hard_sigmoid\n",
    "activation_type = \"sigmoid\"\n",
    "architecture = [784, 500, 10]\n",
    "\n",
    "x,y = next(iter(train_loader))\n",
    "x = x.view(x.size(0),-1).to(device).T\n",
    "y_one_hot = F.one_hot(y, 10).to(device).T\n",
    "\n",
    "beta = 1\n",
    "lambda_ = 0.999\n",
    "epsilon = 0.1#0.5\n",
    "one_over_epsilon = 1 / epsilon\n",
    "lr_start = {'ff' : 0.01, 'fb': 0.001, 'lat': 1e-3}\n",
    "neural_lr_start = 0.01\n",
    "neural_lr_stop = 1e-3\n",
    "neural_lr_rule = \"divide_by_slow_loop_index\"\n",
    "neural_lr_decay_multiplier = 0.1\n",
    "neural_dynamic_iterations = 50\n",
    "output_sparsity = True\n",
    "STlambda_lr = 0.005\n",
    "model = CorInfoMaxV2( architecture = architecture, lambda_ = lambda_,\n",
    "                    epsilon = epsilon, activation_type = activation_type,\n",
    "                    output_sparsity = output_sparsity, STlambda_lr = STlambda_lr\n",
    "                  )"
   ]
  },
  {
   "cell_type": "code",
   "execution_count": 6,
   "id": "a6fb16c2",
   "metadata": {},
   "outputs": [
    {
     "name": "stdout",
     "output_type": "stream",
     "text": [
      "Test accuracy :\t 0.1119\n"
     ]
    },
    {
     "data": {
      "text/plain": [
       "0.1119"
      ]
     },
     "execution_count": 6,
     "metadata": {},
     "output_type": "execute_result"
    }
   ],
   "source": [
    "evaluateCorInfoMaxV3(model, test_loader, neural_lr_start, neural_lr_stop, neural_lr_rule, \n",
    "                         neural_lr_decay_multiplier,\n",
    "                         neural_dynamic_iterations, device, printing = True)"
   ]
  },
  {
   "cell_type": "code",
   "execution_count": 7,
   "id": "5421fb13",
   "metadata": {},
   "outputs": [
    {
     "name": "stderr",
     "output_type": "stream",
     "text": [
      "3000it [01:48, 27.61it/s]\n",
      "3it [00:00, 26.02it/s]"
     ]
    },
    {
     "name": "stdout",
     "output_type": "stream",
     "text": [
      "Epoch : 1, Train Accuracy : 0.54125, Test Accuracy : 0.5452\n"
     ]
    },
    {
     "name": "stderr",
     "output_type": "stream",
     "text": [
      "3000it [01:51, 26.92it/s]\n",
      "3it [00:00, 25.79it/s]"
     ]
    },
    {
     "name": "stdout",
     "output_type": "stream",
     "text": [
      "Epoch : 2, Train Accuracy : 0.6094166666666667, Test Accuracy : 0.609\n"
     ]
    },
    {
     "name": "stderr",
     "output_type": "stream",
     "text": [
      "3000it [01:54, 26.13it/s]\n",
      "3it [00:00, 24.79it/s]"
     ]
    },
    {
     "name": "stdout",
     "output_type": "stream",
     "text": [
      "Epoch : 3, Train Accuracy : 0.6423, Test Accuracy : 0.6437\n"
     ]
    },
    {
     "name": "stderr",
     "output_type": "stream",
     "text": [
      "3000it [02:14, 22.38it/s]\n",
      "2it [00:00, 18.18it/s]"
     ]
    },
    {
     "name": "stdout",
     "output_type": "stream",
     "text": [
      "Epoch : 4, Train Accuracy : 0.6369333333333334, Test Accuracy : 0.6343\n"
     ]
    },
    {
     "name": "stderr",
     "output_type": "stream",
     "text": [
      "3000it [01:53, 26.32it/s]\n",
      "3it [00:00, 26.20it/s]"
     ]
    },
    {
     "name": "stdout",
     "output_type": "stream",
     "text": [
      "Epoch : 5, Train Accuracy : 0.6651833333333333, Test Accuracy : 0.6667\n"
     ]
    },
    {
     "name": "stderr",
     "output_type": "stream",
     "text": [
      "3000it [02:05, 23.94it/s]\n",
      "3it [00:00, 26.42it/s]"
     ]
    },
    {
     "name": "stdout",
     "output_type": "stream",
     "text": [
      "Epoch : 6, Train Accuracy : 0.6504, Test Accuracy : 0.6535\n"
     ]
    },
    {
     "name": "stderr",
     "output_type": "stream",
     "text": [
      "3000it [01:47, 27.87it/s]\n",
      "3it [00:00, 25.79it/s]"
     ]
    },
    {
     "name": "stdout",
     "output_type": "stream",
     "text": [
      "Epoch : 7, Train Accuracy : 0.6477, Test Accuracy : 0.6464\n"
     ]
    },
    {
     "name": "stderr",
     "output_type": "stream",
     "text": [
      "3000it [02:09, 23.15it/s]\n",
      "3it [00:00, 25.99it/s]"
     ]
    },
    {
     "name": "stdout",
     "output_type": "stream",
     "text": [
      "Epoch : 8, Train Accuracy : 0.6325, Test Accuracy : 0.6299\n"
     ]
    },
    {
     "name": "stderr",
     "output_type": "stream",
     "text": [
      "3000it [01:45, 28.37it/s]\n",
      "3it [00:00, 26.56it/s]"
     ]
    },
    {
     "name": "stdout",
     "output_type": "stream",
     "text": [
      "Epoch : 9, Train Accuracy : 0.6453666666666666, Test Accuracy : 0.6479\n"
     ]
    },
    {
     "name": "stderr",
     "output_type": "stream",
     "text": [
      "3000it [01:57, 25.46it/s]\n",
      "2it [00:00, 19.26it/s]"
     ]
    },
    {
     "name": "stdout",
     "output_type": "stream",
     "text": [
      "Epoch : 10, Train Accuracy : 0.6597166666666666, Test Accuracy : 0.6631\n"
     ]
    },
    {
     "name": "stderr",
     "output_type": "stream",
     "text": [
      "3000it [02:01, 24.71it/s]\n",
      "3it [00:00, 26.32it/s]"
     ]
    },
    {
     "name": "stdout",
     "output_type": "stream",
     "text": [
      "Epoch : 11, Train Accuracy : 0.642, Test Accuracy : 0.6421\n"
     ]
    },
    {
     "name": "stderr",
     "output_type": "stream",
     "text": [
      "3000it [01:45, 28.40it/s]\n",
      "3it [00:00, 26.27it/s]"
     ]
    },
    {
     "name": "stdout",
     "output_type": "stream",
     "text": [
      "Epoch : 12, Train Accuracy : 0.09871666666666666, Test Accuracy : 0.098\n"
     ]
    },
    {
     "name": "stderr",
     "output_type": "stream",
     "text": [
      "3000it [01:54, 26.26it/s]\n",
      "3it [00:00, 25.78it/s]"
     ]
    },
    {
     "name": "stdout",
     "output_type": "stream",
     "text": [
      "Epoch : 13, Train Accuracy : 0.09871666666666666, Test Accuracy : 0.098\n"
     ]
    },
    {
     "name": "stderr",
     "output_type": "stream",
     "text": [
      "3000it [01:51, 26.86it/s]\n",
      "3it [00:00, 26.66it/s]"
     ]
    },
    {
     "name": "stdout",
     "output_type": "stream",
     "text": [
      "Epoch : 14, Train Accuracy : 0.09871666666666666, Test Accuracy : 0.098\n"
     ]
    },
    {
     "name": "stderr",
     "output_type": "stream",
     "text": [
      "3000it [01:56, 25.79it/s]\n",
      "3it [00:00, 26.24it/s]"
     ]
    },
    {
     "name": "stdout",
     "output_type": "stream",
     "text": [
      "Epoch : 15, Train Accuracy : 0.09871666666666666, Test Accuracy : 0.098\n"
     ]
    },
    {
     "name": "stderr",
     "output_type": "stream",
     "text": [
      "3000it [01:50, 27.13it/s]\n",
      "2it [00:00, 16.74it/s]"
     ]
    },
    {
     "name": "stdout",
     "output_type": "stream",
     "text": [
      "Epoch : 16, Train Accuracy : 0.09871666666666666, Test Accuracy : 0.098\n"
     ]
    },
    {
     "name": "stderr",
     "output_type": "stream",
     "text": [
      "3000it [02:02, 24.49it/s]\n",
      "3it [00:00, 25.77it/s]"
     ]
    },
    {
     "name": "stdout",
     "output_type": "stream",
     "text": [
      "Epoch : 17, Train Accuracy : 0.09871666666666666, Test Accuracy : 0.098\n"
     ]
    },
    {
     "name": "stderr",
     "output_type": "stream",
     "text": [
      "3000it [01:46, 28.07it/s]\n",
      "2it [00:00, 16.06it/s]"
     ]
    },
    {
     "name": "stdout",
     "output_type": "stream",
     "text": [
      "Epoch : 18, Train Accuracy : 0.09871666666666666, Test Accuracy : 0.098\n"
     ]
    },
    {
     "name": "stderr",
     "output_type": "stream",
     "text": [
      "3000it [01:51, 26.81it/s]\n",
      "3it [00:00, 25.96it/s]"
     ]
    },
    {
     "name": "stdout",
     "output_type": "stream",
     "text": [
      "Epoch : 19, Train Accuracy : 0.09871666666666666, Test Accuracy : 0.098\n"
     ]
    },
    {
     "name": "stderr",
     "output_type": "stream",
     "text": [
      "3000it [01:55, 26.05it/s]\n",
      "3it [00:00, 26.56it/s]"
     ]
    },
    {
     "name": "stdout",
     "output_type": "stream",
     "text": [
      "Epoch : 20, Train Accuracy : 0.09871666666666666, Test Accuracy : 0.098\n"
     ]
    },
    {
     "name": "stderr",
     "output_type": "stream",
     "text": [
      "3000it [01:50, 27.15it/s]\n",
      "3it [00:00, 26.48it/s]"
     ]
    },
    {
     "name": "stdout",
     "output_type": "stream",
     "text": [
      "Epoch : 21, Train Accuracy : 0.09871666666666666, Test Accuracy : 0.098\n"
     ]
    },
    {
     "name": "stderr",
     "output_type": "stream",
     "text": [
      "3000it [01:55, 25.96it/s]\n",
      "3it [00:00, 26.10it/s]"
     ]
    },
    {
     "name": "stdout",
     "output_type": "stream",
     "text": [
      "Epoch : 22, Train Accuracy : 0.09871666666666666, Test Accuracy : 0.098\n"
     ]
    },
    {
     "name": "stderr",
     "output_type": "stream",
     "text": [
      "3000it [01:46, 28.11it/s]\n",
      "3it [00:00, 25.93it/s]"
     ]
    },
    {
     "name": "stdout",
     "output_type": "stream",
     "text": [
      "Epoch : 23, Train Accuracy : 0.09871666666666666, Test Accuracy : 0.098\n"
     ]
    },
    {
     "name": "stderr",
     "output_type": "stream",
     "text": [
      "3000it [01:49, 27.31it/s]\n",
      "3it [00:00, 26.08it/s]"
     ]
    },
    {
     "name": "stdout",
     "output_type": "stream",
     "text": [
      "Epoch : 24, Train Accuracy : 0.09871666666666666, Test Accuracy : 0.098\n"
     ]
    },
    {
     "name": "stderr",
     "output_type": "stream",
     "text": [
      "3000it [01:47, 27.83it/s]\n",
      "3it [00:00, 25.64it/s]"
     ]
    },
    {
     "name": "stdout",
     "output_type": "stream",
     "text": [
      "Epoch : 25, Train Accuracy : 0.09871666666666666, Test Accuracy : 0.098\n"
     ]
    },
    {
     "name": "stderr",
     "output_type": "stream",
     "text": [
      "3000it [01:51, 26.90it/s]\n",
      "3it [00:00, 25.85it/s]"
     ]
    },
    {
     "name": "stdout",
     "output_type": "stream",
     "text": [
      "Epoch : 26, Train Accuracy : 0.09871666666666666, Test Accuracy : 0.098\n"
     ]
    },
    {
     "name": "stderr",
     "output_type": "stream",
     "text": [
      "3000it [01:51, 26.87it/s]\n",
      "3it [00:00, 26.00it/s]"
     ]
    },
    {
     "name": "stdout",
     "output_type": "stream",
     "text": [
      "Epoch : 27, Train Accuracy : 0.09871666666666666, Test Accuracy : 0.098\n"
     ]
    },
    {
     "name": "stderr",
     "output_type": "stream",
     "text": [
      "3000it [01:50, 27.12it/s]\n",
      "3it [00:00, 25.81it/s]"
     ]
    },
    {
     "name": "stdout",
     "output_type": "stream",
     "text": [
      "Epoch : 28, Train Accuracy : 0.09871666666666666, Test Accuracy : 0.098\n"
     ]
    },
    {
     "name": "stderr",
     "output_type": "stream",
     "text": [
      "3000it [01:53, 26.50it/s]\n",
      "3it [00:00, 25.48it/s]"
     ]
    },
    {
     "name": "stdout",
     "output_type": "stream",
     "text": [
      "Epoch : 29, Train Accuracy : 0.09871666666666666, Test Accuracy : 0.098\n"
     ]
    },
    {
     "name": "stderr",
     "output_type": "stream",
     "text": [
      "3000it [01:53, 26.39it/s]\n",
      "3it [00:00, 26.16it/s]"
     ]
    },
    {
     "name": "stdout",
     "output_type": "stream",
     "text": [
      "Epoch : 30, Train Accuracy : 0.09871666666666666, Test Accuracy : 0.098\n"
     ]
    },
    {
     "name": "stderr",
     "output_type": "stream",
     "text": [
      "3000it [01:51, 26.94it/s]\n",
      "3it [00:00, 25.75it/s]"
     ]
    },
    {
     "name": "stdout",
     "output_type": "stream",
     "text": [
      "Epoch : 31, Train Accuracy : 0.09871666666666666, Test Accuracy : 0.098\n"
     ]
    },
    {
     "name": "stderr",
     "output_type": "stream",
     "text": [
      "3000it [01:50, 27.15it/s]\n",
      "3it [00:00, 25.00it/s]"
     ]
    },
    {
     "name": "stdout",
     "output_type": "stream",
     "text": [
      "Epoch : 32, Train Accuracy : 0.09871666666666666, Test Accuracy : 0.098\n"
     ]
    },
    {
     "name": "stderr",
     "output_type": "stream",
     "text": [
      "3000it [02:19, 21.47it/s]\n",
      "3it [00:00, 19.69it/s]"
     ]
    },
    {
     "name": "stdout",
     "output_type": "stream",
     "text": [
      "Epoch : 33, Train Accuracy : 0.09871666666666666, Test Accuracy : 0.098\n"
     ]
    },
    {
     "name": "stderr",
     "output_type": "stream",
     "text": [
      "3000it [02:33, 19.54it/s]\n",
      "3it [00:00, 19.97it/s]"
     ]
    },
    {
     "name": "stdout",
     "output_type": "stream",
     "text": [
      "Epoch : 34, Train Accuracy : 0.09871666666666666, Test Accuracy : 0.098\n"
     ]
    },
    {
     "name": "stderr",
     "output_type": "stream",
     "text": [
      "3000it [02:26, 20.41it/s]\n",
      "3it [00:00, 25.75it/s]"
     ]
    },
    {
     "name": "stdout",
     "output_type": "stream",
     "text": [
      "Epoch : 35, Train Accuracy : 0.09871666666666666, Test Accuracy : 0.098\n"
     ]
    },
    {
     "name": "stderr",
     "output_type": "stream",
     "text": [
      "3000it [02:28, 20.14it/s]\n",
      "2it [00:00, 19.53it/s]"
     ]
    },
    {
     "name": "stdout",
     "output_type": "stream",
     "text": [
      "Epoch : 36, Train Accuracy : 0.09871666666666666, Test Accuracy : 0.098\n"
     ]
    },
    {
     "name": "stderr",
     "output_type": "stream",
     "text": [
      "3000it [02:29, 20.06it/s]\n",
      "2it [00:00, 20.00it/s]"
     ]
    },
    {
     "name": "stdout",
     "output_type": "stream",
     "text": [
      "Epoch : 37, Train Accuracy : 0.09871666666666666, Test Accuracy : 0.098\n"
     ]
    },
    {
     "name": "stderr",
     "output_type": "stream",
     "text": [
      "3000it [02:34, 19.44it/s]\n",
      "2it [00:00, 18.74it/s]"
     ]
    },
    {
     "name": "stdout",
     "output_type": "stream",
     "text": [
      "Epoch : 38, Train Accuracy : 0.09871666666666666, Test Accuracy : 0.098\n"
     ]
    },
    {
     "name": "stderr",
     "output_type": "stream",
     "text": [
      "3000it [01:57, 25.45it/s]\n",
      "3it [00:00, 25.94it/s]"
     ]
    },
    {
     "name": "stdout",
     "output_type": "stream",
     "text": [
      "Epoch : 39, Train Accuracy : 0.09871666666666666, Test Accuracy : 0.098\n"
     ]
    },
    {
     "name": "stderr",
     "output_type": "stream",
     "text": [
      "3000it [01:59, 25.19it/s]\n",
      "3it [00:00, 26.38it/s]"
     ]
    },
    {
     "name": "stdout",
     "output_type": "stream",
     "text": [
      "Epoch : 40, Train Accuracy : 0.09871666666666666, Test Accuracy : 0.098\n"
     ]
    },
    {
     "name": "stderr",
     "output_type": "stream",
     "text": [
      "3000it [01:52, 26.56it/s]\n",
      "3it [00:00, 25.81it/s]"
     ]
    },
    {
     "name": "stdout",
     "output_type": "stream",
     "text": [
      "Epoch : 41, Train Accuracy : 0.09871666666666666, Test Accuracy : 0.098\n"
     ]
    },
    {
     "name": "stderr",
     "output_type": "stream",
     "text": [
      "3000it [01:53, 26.43it/s]\n",
      "3it [00:00, 20.11it/s]"
     ]
    },
    {
     "name": "stdout",
     "output_type": "stream",
     "text": [
      "Epoch : 42, Train Accuracy : 0.09871666666666666, Test Accuracy : 0.098\n"
     ]
    },
    {
     "name": "stderr",
     "output_type": "stream",
     "text": [
      "3000it [02:36, 19.23it/s]\n",
      "3it [00:00, 26.50it/s]"
     ]
    },
    {
     "name": "stdout",
     "output_type": "stream",
     "text": [
      "Epoch : 43, Train Accuracy : 0.09871666666666666, Test Accuracy : 0.098\n"
     ]
    },
    {
     "name": "stderr",
     "output_type": "stream",
     "text": [
      "3000it [02:41, 18.56it/s]\n",
      "2it [00:00, 17.79it/s]"
     ]
    },
    {
     "name": "stdout",
     "output_type": "stream",
     "text": [
      "Epoch : 44, Train Accuracy : 0.09871666666666666, Test Accuracy : 0.098\n"
     ]
    },
    {
     "name": "stderr",
     "output_type": "stream",
     "text": [
      "3000it [02:28, 20.18it/s]\n",
      "3it [00:00, 26.48it/s]"
     ]
    },
    {
     "name": "stdout",
     "output_type": "stream",
     "text": [
      "Epoch : 45, Train Accuracy : 0.09871666666666666, Test Accuracy : 0.098\n"
     ]
    },
    {
     "name": "stderr",
     "output_type": "stream",
     "text": [
      "3000it [02:28, 20.21it/s]\n",
      "2it [00:00, 17.63it/s]"
     ]
    },
    {
     "name": "stdout",
     "output_type": "stream",
     "text": [
      "Epoch : 46, Train Accuracy : 0.09871666666666666, Test Accuracy : 0.098\n"
     ]
    },
    {
     "name": "stderr",
     "output_type": "stream",
     "text": [
      "3000it [02:34, 19.44it/s]\n",
      "2it [00:00, 19.19it/s]"
     ]
    },
    {
     "name": "stdout",
     "output_type": "stream",
     "text": [
      "Epoch : 47, Train Accuracy : 0.09871666666666666, Test Accuracy : 0.098\n"
     ]
    },
    {
     "name": "stderr",
     "output_type": "stream",
     "text": [
      "3000it [02:38, 18.96it/s]\n",
      "2it [00:00, 19.17it/s]"
     ]
    },
    {
     "name": "stdout",
     "output_type": "stream",
     "text": [
      "Epoch : 48, Train Accuracy : 0.09871666666666666, Test Accuracy : 0.098\n"
     ]
    },
    {
     "name": "stderr",
     "output_type": "stream",
     "text": [
      "3000it [02:29, 20.07it/s]\n",
      "2it [00:00, 17.31it/s]"
     ]
    },
    {
     "name": "stdout",
     "output_type": "stream",
     "text": [
      "Epoch : 49, Train Accuracy : 0.09871666666666666, Test Accuracy : 0.098\n"
     ]
    },
    {
     "name": "stderr",
     "output_type": "stream",
     "text": [
      "3000it [02:23, 20.91it/s]\n"
     ]
    },
    {
     "name": "stdout",
     "output_type": "stream",
     "text": [
      "Epoch : 50, Train Accuracy : 0.09871666666666666, Test Accuracy : 0.098\n"
     ]
    }
   ],
   "source": [
    "trn_acc_list = []\n",
    "tst_acc_list = []\n",
    "\n",
    "n_epochs = 50\n",
    "\n",
    "for epoch_ in range(n_epochs):\n",
    "    lr = {'ff' : lr_start['ff'] * (0.99)**epoch_, 'fb' : lr_start['fb'] * (0.99)**epoch_}\n",
    "    for idx, (x, y) in tqdm(enumerate(train_loader)):\n",
    "        x, y = x.to(device), y.to(device)\n",
    "#         x = x.view(x.size(0),-1).T\n",
    "#         x = activation_inverse(2*x.view(x.size(0),-1).T - 1, \"sigmoid\")\n",
    "        x = activation_inverse(x.view(x.size(0),-1).T, \"sigmoid\")\n",
    "        y_one_hot = F.one_hot(y, 10).to(device).T\n",
    "\n",
    "        _ = model.batch_step(  x, y_one_hot, lr, neural_lr_start, neural_lr_stop, neural_lr_rule,\n",
    "                                    neural_lr_decay_multiplier, neural_dynamic_iterations, beta)\n",
    "\n",
    "    trn_acc = evaluateCorInfoMaxV4(  model, train_loader, neural_lr_start, neural_lr_stop, neural_lr_rule, \n",
    "                                     neural_lr_decay_multiplier,\n",
    "                                     neural_dynamic_iterations, device, printing = False)\n",
    "    tst_acc = evaluateCorInfoMaxV4(  model, test_loader, neural_lr_start, neural_lr_stop, neural_lr_rule, \n",
    "                                     neural_lr_decay_multiplier,\n",
    "                                     neural_dynamic_iterations, device, printing = False)\n",
    "    trn_acc_list.append(trn_acc)\n",
    "    tst_acc_list.append(tst_acc)\n",
    "    \n",
    "    print(\"Epoch : {}, Train Accuracy : {}, Test Accuracy : {}\".format(epoch_+1, trn_acc, tst_acc))"
   ]
  },
  {
   "cell_type": "code",
   "execution_count": 8,
   "id": "b11504b0",
   "metadata": {},
   "outputs": [
    {
     "data": {
      "text/plain": [
       "array([{'weight': tensor([[nan, nan, nan,  ..., nan, nan, nan],\n",
       "               [nan, nan, nan,  ..., nan, nan, nan],\n",
       "               [nan, nan, nan,  ..., nan, nan, nan],\n",
       "               ...,\n",
       "               [nan, nan, nan,  ..., nan, nan, nan],\n",
       "               [nan, nan, nan,  ..., nan, nan, nan],\n",
       "               [nan, nan, nan,  ..., nan, nan, nan]], device='cuda:0'), 'bias': tensor([[nan],\n",
       "               [nan],\n",
       "               [nan],\n",
       "               [nan],\n",
       "               [nan],\n",
       "               [nan],\n",
       "               [nan],\n",
       "               [nan],\n",
       "               [nan],\n",
       "               [nan],\n",
       "               [nan],\n",
       "               [nan],\n",
       "               [nan],\n",
       "               [nan],\n",
       "               [nan],\n",
       "               [nan],\n",
       "               [nan],\n",
       "               [nan],\n",
       "               [nan],\n",
       "               [nan],\n",
       "               [nan],\n",
       "               [nan],\n",
       "               [nan],\n",
       "               [nan],\n",
       "               [nan],\n",
       "               [nan],\n",
       "               [nan],\n",
       "               [nan],\n",
       "               [nan],\n",
       "               [nan],\n",
       "               [nan],\n",
       "               [nan],\n",
       "               [nan],\n",
       "               [nan],\n",
       "               [nan],\n",
       "               [nan],\n",
       "               [nan],\n",
       "               [nan],\n",
       "               [nan],\n",
       "               [nan],\n",
       "               [nan],\n",
       "               [nan],\n",
       "               [nan],\n",
       "               [nan],\n",
       "               [nan],\n",
       "               [nan],\n",
       "               [nan],\n",
       "               [nan],\n",
       "               [nan],\n",
       "               [nan],\n",
       "               [nan],\n",
       "               [nan],\n",
       "               [nan],\n",
       "               [nan],\n",
       "               [nan],\n",
       "               [nan],\n",
       "               [nan],\n",
       "               [nan],\n",
       "               [nan],\n",
       "               [nan],\n",
       "               [nan],\n",
       "               [nan],\n",
       "               [nan],\n",
       "               [nan],\n",
       "               [nan],\n",
       "               [nan],\n",
       "               [nan],\n",
       "               [nan],\n",
       "               [nan],\n",
       "               [nan],\n",
       "               [nan],\n",
       "               [nan],\n",
       "               [nan],\n",
       "               [nan],\n",
       "               [nan],\n",
       "               [nan],\n",
       "               [nan],\n",
       "               [nan],\n",
       "               [nan],\n",
       "               [nan],\n",
       "               [nan],\n",
       "               [nan],\n",
       "               [nan],\n",
       "               [nan],\n",
       "               [nan],\n",
       "               [nan],\n",
       "               [nan],\n",
       "               [nan],\n",
       "               [nan],\n",
       "               [nan],\n",
       "               [nan],\n",
       "               [nan],\n",
       "               [nan],\n",
       "               [nan],\n",
       "               [nan],\n",
       "               [nan],\n",
       "               [nan],\n",
       "               [nan],\n",
       "               [nan],\n",
       "               [nan],\n",
       "               [nan],\n",
       "               [nan],\n",
       "               [nan],\n",
       "               [nan],\n",
       "               [nan],\n",
       "               [nan],\n",
       "               [nan],\n",
       "               [nan],\n",
       "               [nan],\n",
       "               [nan],\n",
       "               [nan],\n",
       "               [nan],\n",
       "               [nan],\n",
       "               [nan],\n",
       "               [nan],\n",
       "               [nan],\n",
       "               [nan],\n",
       "               [nan],\n",
       "               [nan],\n",
       "               [nan],\n",
       "               [nan],\n",
       "               [nan],\n",
       "               [nan],\n",
       "               [nan],\n",
       "               [nan],\n",
       "               [nan],\n",
       "               [nan],\n",
       "               [nan],\n",
       "               [nan],\n",
       "               [nan],\n",
       "               [nan],\n",
       "               [nan],\n",
       "               [nan],\n",
       "               [nan],\n",
       "               [nan],\n",
       "               [nan],\n",
       "               [nan],\n",
       "               [nan],\n",
       "               [nan],\n",
       "               [nan],\n",
       "               [nan],\n",
       "               [nan],\n",
       "               [nan],\n",
       "               [nan],\n",
       "               [nan],\n",
       "               [nan],\n",
       "               [nan],\n",
       "               [nan],\n",
       "               [nan],\n",
       "               [nan],\n",
       "               [nan],\n",
       "               [nan],\n",
       "               [nan],\n",
       "               [nan],\n",
       "               [nan],\n",
       "               [nan],\n",
       "               [nan],\n",
       "               [nan],\n",
       "               [nan],\n",
       "               [nan],\n",
       "               [nan],\n",
       "               [nan],\n",
       "               [nan],\n",
       "               [nan],\n",
       "               [nan],\n",
       "               [nan],\n",
       "               [nan],\n",
       "               [nan],\n",
       "               [nan],\n",
       "               [nan],\n",
       "               [nan],\n",
       "               [nan],\n",
       "               [nan],\n",
       "               [nan],\n",
       "               [nan],\n",
       "               [nan],\n",
       "               [nan],\n",
       "               [nan],\n",
       "               [nan],\n",
       "               [nan],\n",
       "               [nan],\n",
       "               [nan],\n",
       "               [nan],\n",
       "               [nan],\n",
       "               [nan],\n",
       "               [nan],\n",
       "               [nan],\n",
       "               [nan],\n",
       "               [nan],\n",
       "               [nan],\n",
       "               [nan],\n",
       "               [nan],\n",
       "               [nan],\n",
       "               [nan],\n",
       "               [nan],\n",
       "               [nan],\n",
       "               [nan],\n",
       "               [nan],\n",
       "               [nan],\n",
       "               [nan],\n",
       "               [nan],\n",
       "               [nan],\n",
       "               [nan],\n",
       "               [nan],\n",
       "               [nan],\n",
       "               [nan],\n",
       "               [nan],\n",
       "               [nan],\n",
       "               [nan],\n",
       "               [nan],\n",
       "               [nan],\n",
       "               [nan],\n",
       "               [nan],\n",
       "               [nan],\n",
       "               [nan],\n",
       "               [nan],\n",
       "               [nan],\n",
       "               [nan],\n",
       "               [nan],\n",
       "               [nan],\n",
       "               [nan],\n",
       "               [nan],\n",
       "               [nan],\n",
       "               [nan],\n",
       "               [nan],\n",
       "               [nan],\n",
       "               [nan],\n",
       "               [nan],\n",
       "               [nan],\n",
       "               [nan],\n",
       "               [nan],\n",
       "               [nan],\n",
       "               [nan],\n",
       "               [nan],\n",
       "               [nan],\n",
       "               [nan],\n",
       "               [nan],\n",
       "               [nan],\n",
       "               [nan],\n",
       "               [nan],\n",
       "               [nan],\n",
       "               [nan],\n",
       "               [nan],\n",
       "               [nan],\n",
       "               [nan],\n",
       "               [nan],\n",
       "               [nan],\n",
       "               [nan],\n",
       "               [nan],\n",
       "               [nan],\n",
       "               [nan],\n",
       "               [nan],\n",
       "               [nan],\n",
       "               [nan],\n",
       "               [nan],\n",
       "               [nan],\n",
       "               [nan],\n",
       "               [nan],\n",
       "               [nan],\n",
       "               [nan],\n",
       "               [nan],\n",
       "               [nan],\n",
       "               [nan],\n",
       "               [nan],\n",
       "               [nan],\n",
       "               [nan],\n",
       "               [nan],\n",
       "               [nan],\n",
       "               [nan],\n",
       "               [nan],\n",
       "               [nan],\n",
       "               [nan],\n",
       "               [nan],\n",
       "               [nan],\n",
       "               [nan],\n",
       "               [nan],\n",
       "               [nan],\n",
       "               [nan],\n",
       "               [nan],\n",
       "               [nan],\n",
       "               [nan],\n",
       "               [nan],\n",
       "               [nan],\n",
       "               [nan],\n",
       "               [nan],\n",
       "               [nan],\n",
       "               [nan],\n",
       "               [nan],\n",
       "               [nan],\n",
       "               [nan],\n",
       "               [nan],\n",
       "               [nan],\n",
       "               [nan],\n",
       "               [nan],\n",
       "               [nan],\n",
       "               [nan],\n",
       "               [nan],\n",
       "               [nan],\n",
       "               [nan],\n",
       "               [nan],\n",
       "               [nan],\n",
       "               [nan],\n",
       "               [nan],\n",
       "               [nan],\n",
       "               [nan],\n",
       "               [nan],\n",
       "               [nan],\n",
       "               [nan],\n",
       "               [nan],\n",
       "               [nan],\n",
       "               [nan],\n",
       "               [nan],\n",
       "               [nan],\n",
       "               [nan],\n",
       "               [nan],\n",
       "               [nan],\n",
       "               [nan],\n",
       "               [nan],\n",
       "               [nan],\n",
       "               [nan],\n",
       "               [nan],\n",
       "               [nan],\n",
       "               [nan],\n",
       "               [nan],\n",
       "               [nan],\n",
       "               [nan],\n",
       "               [nan],\n",
       "               [nan],\n",
       "               [nan],\n",
       "               [nan],\n",
       "               [nan],\n",
       "               [nan],\n",
       "               [nan],\n",
       "               [nan],\n",
       "               [nan],\n",
       "               [nan],\n",
       "               [nan],\n",
       "               [nan],\n",
       "               [nan],\n",
       "               [nan],\n",
       "               [nan],\n",
       "               [nan],\n",
       "               [nan],\n",
       "               [nan],\n",
       "               [nan],\n",
       "               [nan],\n",
       "               [nan],\n",
       "               [nan],\n",
       "               [nan],\n",
       "               [nan],\n",
       "               [nan],\n",
       "               [nan],\n",
       "               [nan],\n",
       "               [nan],\n",
       "               [nan],\n",
       "               [nan],\n",
       "               [nan],\n",
       "               [nan],\n",
       "               [nan],\n",
       "               [nan],\n",
       "               [nan],\n",
       "               [nan],\n",
       "               [nan],\n",
       "               [nan],\n",
       "               [nan],\n",
       "               [nan],\n",
       "               [nan],\n",
       "               [nan],\n",
       "               [nan],\n",
       "               [nan],\n",
       "               [nan],\n",
       "               [nan],\n",
       "               [nan],\n",
       "               [nan],\n",
       "               [nan],\n",
       "               [nan],\n",
       "               [nan],\n",
       "               [nan],\n",
       "               [nan],\n",
       "               [nan],\n",
       "               [nan],\n",
       "               [nan],\n",
       "               [nan],\n",
       "               [nan],\n",
       "               [nan],\n",
       "               [nan],\n",
       "               [nan],\n",
       "               [nan],\n",
       "               [nan],\n",
       "               [nan],\n",
       "               [nan],\n",
       "               [nan],\n",
       "               [nan],\n",
       "               [nan],\n",
       "               [nan],\n",
       "               [nan],\n",
       "               [nan],\n",
       "               [nan],\n",
       "               [nan],\n",
       "               [nan],\n",
       "               [nan],\n",
       "               [nan],\n",
       "               [nan],\n",
       "               [nan],\n",
       "               [nan],\n",
       "               [nan],\n",
       "               [nan],\n",
       "               [nan],\n",
       "               [nan],\n",
       "               [nan],\n",
       "               [nan],\n",
       "               [nan],\n",
       "               [nan],\n",
       "               [nan],\n",
       "               [nan],\n",
       "               [nan],\n",
       "               [nan],\n",
       "               [nan],\n",
       "               [nan],\n",
       "               [nan],\n",
       "               [nan],\n",
       "               [nan],\n",
       "               [nan],\n",
       "               [nan],\n",
       "               [nan],\n",
       "               [nan],\n",
       "               [nan],\n",
       "               [nan],\n",
       "               [nan],\n",
       "               [nan],\n",
       "               [nan],\n",
       "               [nan],\n",
       "               [nan],\n",
       "               [nan],\n",
       "               [nan],\n",
       "               [nan],\n",
       "               [nan],\n",
       "               [nan],\n",
       "               [nan],\n",
       "               [nan],\n",
       "               [nan],\n",
       "               [nan],\n",
       "               [nan],\n",
       "               [nan],\n",
       "               [nan],\n",
       "               [nan],\n",
       "               [nan],\n",
       "               [nan],\n",
       "               [nan],\n",
       "               [nan],\n",
       "               [nan],\n",
       "               [nan],\n",
       "               [nan],\n",
       "               [nan],\n",
       "               [nan],\n",
       "               [nan],\n",
       "               [nan],\n",
       "               [nan],\n",
       "               [nan],\n",
       "               [nan],\n",
       "               [nan],\n",
       "               [nan],\n",
       "               [nan],\n",
       "               [nan],\n",
       "               [nan],\n",
       "               [nan],\n",
       "               [nan],\n",
       "               [nan],\n",
       "               [nan],\n",
       "               [nan],\n",
       "               [nan],\n",
       "               [nan],\n",
       "               [nan],\n",
       "               [nan],\n",
       "               [nan],\n",
       "               [nan],\n",
       "               [nan],\n",
       "               [nan],\n",
       "               [nan],\n",
       "               [nan],\n",
       "               [nan],\n",
       "               [nan],\n",
       "               [nan],\n",
       "               [nan],\n",
       "               [nan],\n",
       "               [nan],\n",
       "               [nan],\n",
       "               [nan],\n",
       "               [nan],\n",
       "               [nan],\n",
       "               [nan],\n",
       "               [nan],\n",
       "               [nan],\n",
       "               [nan],\n",
       "               [nan],\n",
       "               [nan],\n",
       "               [nan],\n",
       "               [nan],\n",
       "               [nan],\n",
       "               [nan]], device='cuda:0')}                                                      ,\n",
       "       {'weight': tensor([[nan, nan, nan,  ..., nan, nan, nan],\n",
       "               [nan, nan, nan,  ..., nan, nan, nan],\n",
       "               [nan, nan, nan,  ..., nan, nan, nan],\n",
       "               ...,\n",
       "               [nan, nan, nan,  ..., nan, nan, nan],\n",
       "               [nan, nan, nan,  ..., nan, nan, nan],\n",
       "               [nan, nan, nan,  ..., nan, nan, nan]], device='cuda:0'), 'bias': tensor([[nan],\n",
       "               [nan],\n",
       "               [nan],\n",
       "               [nan],\n",
       "               [nan],\n",
       "               [nan],\n",
       "               [nan],\n",
       "               [nan],\n",
       "               [nan],\n",
       "               [nan]], device='cuda:0')}                                                      ],\n",
       "      dtype=object)"
      ]
     },
     "execution_count": 8,
     "metadata": {},
     "output_type": "execute_result"
    }
   ],
   "source": [
    "model.Wff"
   ]
  },
  {
   "cell_type": "code",
   "execution_count": 9,
   "id": "1c9b11b3",
   "metadata": {},
   "outputs": [
    {
     "name": "stdout",
     "output_type": "stream",
     "text": [
      "Epoch : 50, Train Accuracy : 0.09871666666666666, Test Accuracy : 0.098\n"
     ]
    }
   ],
   "source": [
    "trn_acc = evaluateCorInfoMaxV4(  model, train_loader, neural_lr_start, neural_lr_stop, neural_lr_rule, \n",
    "                                 neural_lr_decay_multiplier,\n",
    "                                 neural_dynamic_iterations, device, printing = False)\n",
    "tst_acc = evaluateCorInfoMaxV4(  model, test_loader, neural_lr_start, neural_lr_stop, neural_lr_rule, \n",
    "                                 neural_lr_decay_multiplier,\n",
    "                                 neural_dynamic_iterations, device, printing = False)\n",
    "trn_acc_list.append(trn_acc)\n",
    "tst_acc_list.append(tst_acc)\n",
    "\n",
    "print(\"Epoch : {}, Train Accuracy : {}, Test Accuracy : {}\".format(epoch_+1, trn_acc, tst_acc))"
   ]
  },
  {
   "cell_type": "code",
   "execution_count": null,
   "id": "1ad465f4",
   "metadata": {},
   "outputs": [],
   "source": [
    "neural_lr_start = 0.1\n",
    "neural_lr_stop = 1e-3\n",
    "neural_lr_rule = \"divide_by_slow_loop_index\"\n",
    "neural_lr_decay_multiplier = 0.1\n",
    "neural_dynamic_iterations = 50\n",
    "output_sparsity = True\n",
    "STlambda_lr = 0.01\n",
    "\n",
    "trn_acc = evaluateCorInfoMaxV3(  model, train_loader, neural_lr_start, neural_lr_stop, neural_lr_rule, \n",
    "                                 neural_lr_decay_multiplier,\n",
    "                                 neural_dynamic_iterations, device, printing = False)\n",
    "tst_acc = evaluateCorInfoMaxV3(  model, test_loader, neural_lr_start, neural_lr_stop, neural_lr_rule, \n",
    "                                 neural_lr_decay_multiplier,\n",
    "                                 neural_dynamic_iterations, device, printing = False)\n",
    "trn_acc_list.append(trn_acc)\n",
    "tst_acc_list.append(tst_acc)\n",
    "print(\"Epoch : {}, Train Accuracy : {}, Test Accuracy : {}\".format(epoch_+1, trn_acc, tst_acc))"
   ]
  },
  {
   "cell_type": "code",
   "execution_count": null,
   "id": "45ff16b2",
   "metadata": {},
   "outputs": [],
   "source": [
    "print(\"Epoch : {}, Train Accuracy : {}, Test Accuracy : {}\".format(epoch_+1, trn_acc, tst_acc))"
   ]
  },
  {
   "cell_type": "code",
   "execution_count": null,
   "id": "3e7f8950",
   "metadata": {},
   "outputs": [],
   "source": []
  },
  {
   "cell_type": "code",
   "execution_count": null,
   "id": "4f229c18",
   "metadata": {},
   "outputs": [],
   "source": []
  },
  {
   "cell_type": "code",
   "execution_count": null,
   "id": "8d3d34ae",
   "metadata": {},
   "outputs": [],
   "source": []
  },
  {
   "cell_type": "code",
   "execution_count": null,
   "id": "0db52d94",
   "metadata": {},
   "outputs": [],
   "source": []
  },
  {
   "cell_type": "code",
   "execution_count": null,
   "id": "0727d327",
   "metadata": {},
   "outputs": [],
   "source": []
  }
 ],
 "metadata": {
  "kernelspec": {
   "display_name": "Python 3 (ipykernel)",
   "language": "python",
   "name": "python3"
  },
  "language_info": {
   "codemirror_mode": {
    "name": "ipython",
    "version": 3
   },
   "file_extension": ".py",
   "mimetype": "text/x-python",
   "name": "python",
   "nbconvert_exporter": "python",
   "pygments_lexer": "ipython3",
   "version": "3.8.8"
  }
 },
 "nbformat": 4,
 "nbformat_minor": 5
}
