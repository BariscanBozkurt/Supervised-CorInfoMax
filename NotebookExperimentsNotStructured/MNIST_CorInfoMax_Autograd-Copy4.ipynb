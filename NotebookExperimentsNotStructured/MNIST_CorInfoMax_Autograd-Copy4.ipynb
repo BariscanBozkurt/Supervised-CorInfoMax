{
 "cells": [
  {
   "cell_type": "code",
   "execution_count": 1,
   "id": "5fd7911f",
   "metadata": {},
   "outputs": [],
   "source": [
    "import sys\n",
    "sys.path.append(\"../src\")\n",
    "import torch\n",
    "import matplotlib.pyplot as plt\n",
    "import numpy as np\n",
    "import torchvision\n",
    "import torch.nn.functional as F\n",
    "\n",
    "import glob\n",
    "import os\n",
    "from datetime import datetime\n",
    "import time\n",
    "import math\n",
    "from tqdm import tqdm\n",
    "\n",
    "from itertools import repeat\n",
    "from torch.nn.parameter import Parameter\n",
    "import collections\n",
    "import matplotlib\n",
    "from torch_utils import *\n",
    "from ExplicitModels import *\n",
    "from visualization import *\n",
    "# matplotlib.use('Agg')"
   ]
  },
  {
   "cell_type": "code",
   "execution_count": 2,
   "id": "0481fdbb",
   "metadata": {},
   "outputs": [
    {
     "data": {
      "text/plain": [
       "device(type='cuda', index=0)"
      ]
     },
     "execution_count": 2,
     "metadata": {},
     "output_type": "execute_result"
    }
   ],
   "source": [
    "device = torch.device('cuda:0' if torch.cuda.is_available() else 'cpu')\n",
    "device"
   ]
  },
  {
   "cell_type": "code",
   "execution_count": 3,
   "id": "94c4836a",
   "metadata": {},
   "outputs": [],
   "source": [
    "transform = torchvision.transforms.Compose([torchvision.transforms.ToTensor(), \n",
    "                                            torchvision.transforms.Normalize(mean=(0.1306,), std=(0.3081,))])\n",
    "\n",
    "mnist_dset_train = torchvision.datasets.MNIST('./data', train=True, transform=transform, target_transform=None, download=True)\n",
    "train_loader = torch.utils.data.DataLoader(mnist_dset_train, batch_size=20, shuffle=True, num_workers=0)\n",
    "\n",
    "mnist_dset_test = torchvision.datasets.MNIST('./data', train=False, transform=transform, target_transform=None, download=True)\n",
    "test_loader = torch.utils.data.DataLoader(mnist_dset_test, batch_size=20, shuffle=False, num_workers=0)"
   ]
  },
  {
   "cell_type": "code",
   "execution_count": 4,
   "id": "fd835cdc",
   "metadata": {},
   "outputs": [],
   "source": [
    "# # activation = torch.sigmoid\n",
    "# def mysoftmax(x, dim = 0):\n",
    "#     return F.softmax(x, dim)\n",
    "\n",
    "# activation = F.relu\n",
    "\n",
    "# architecture = [784, 128, 64, 10]\n",
    "# lambda_ = 0.9999\n",
    "# epsilon = 0.01\n",
    "# neural_lr_start = 0.1\n",
    "# neural_lr_stop = 0.00\n",
    "# neural_lr_rule = \"divide_by_slow_loop_index\"\n",
    "# neural_lr_decay_multiplier = 0.005\n",
    "# neural_dynamic_iterations = 50\n",
    "\n",
    "# model = CorInfoMaxBiDirectional_wAutoGrad(architecture, lambda_, epsilon, activation, optimizer_type = \"sgd\",\n",
    "#                                           optim_lr_ff = 0.05, optim_lr_fb = 0.005, use_stepLR = True, \n",
    "#                                           stepLR_step_size = 10*3000)\n",
    "\n",
    "# # activation = torch.sigmoid\n",
    "# def mysoftmax(x, dim = 0):\n",
    "#     return F.softmax(x, dim)\n",
    "\n",
    "# activation = F.relu\n",
    "\n",
    "# architecture = [32*32*3, 1000, 10]\n",
    "# lambda_ = 0.9999\n",
    "# epsilon = 0.01\n",
    "# neural_lr_start = 0.1\n",
    "# neural_lr_stop = 0.00\n",
    "# neural_lr_rule = \"divide_by_slow_loop_index\"\n",
    "# neural_lr_decay_multiplier = 0.005\n",
    "# neural_dynamic_iterations = 50\n",
    "\n",
    "# model = CorInfoMaxBiDirectional_wAutoGrad(architecture, lambda_, epsilon, activation, optimizer_type = \"sgd\",\n",
    "#                                           optim_lr_ff = 0.01, optim_lr_fb = 0.001, use_stepLR = True, \n",
    "#                                           stepLR_step_size = 10*3000)\n",
    "\n",
    "# activation = torch.sigmoid\n",
    "def mysoftmax(x, dim = 0):\n",
    "    return F.softmax(x, dim)\n",
    "\n",
    "def kWTA(inp_vector, k = 1):\n",
    "    tmpx = torch.clone(inp_vector)\n",
    "    topval = tmpx.topk(k, dim=0)[0][k - 1]\n",
    "    topval = topval.repeat(tmpx.shape[0], 1)\n",
    "    comp = (inp_vector>=topval)\n",
    "    return comp*inp_vector\n",
    "\n",
    "def Sparsify_kWTA(inp_vector, sparsity = 0.1):\n",
    "    k = int(inp_vector.shape[0] * sparsity)\n",
    "    if k == 0:\n",
    "        k = 1\n",
    "    tmpx = torch.clone(inp_vector)\n",
    "    topval = tmpx.topk(k, dim=0)[0][k - 1]\n",
    "    topval = topval.repeat(tmpx.shape[0], 1)\n",
    "    comp = (inp_vector>=topval)\n",
    "    return comp*inp_vector\n",
    "\n",
    "activation = Sparsify_kWTA\n",
    "activation = torch.nn.LeakyReLU(0.0)\n",
    "activation = torch.sigmoid\n",
    "\n",
    "architecture = [784, 500, 10]\n",
    "lambda_ = 0.9999\n",
    "epsilon = 0.01\n",
    "neural_lr_start = 0.1\n",
    "neural_lr_stop = 0.00\n",
    "neural_lr_rule = \"constant\"\n",
    "neural_lr_decay_multiplier = 0.005\n",
    "neural_dynamic_iterations = 50\n",
    "\n",
    "model = CorInfoMaxBiDirectional_wAutoGrad(architecture, lambda_, epsilon, activation, optimizer_type = \"sgd\",\n",
    "                                          optim_lr_ff = 0.01, optim_lr_fb = 0.0001, \n",
    "                                          use_stepLR = True, sgd_weight_decay = 0.001, \n",
    "                                          stepLR_step_size = 10*3000)"
   ]
  },
  {
   "cell_type": "code",
   "execution_count": 5,
   "id": "1562863c",
   "metadata": {},
   "outputs": [],
   "source": [
    "# x, y = next(iter(train_loader))\n",
    "# x = x.view(x.size(0),-1).T\n",
    "# x, y = x.to(device), y.to(device)\n",
    "# y = F.one_hot(y, 10).to(device).T\n",
    "# neurons = model.init_neurons(x.size(1))\n",
    "# # neurons = model.fast_forward(x)\n",
    "# mode = \"train\"\n",
    "# if mode == \"train\":\n",
    "#     neurons[-1] = y.to(torch.float)\n",
    "\n",
    "\n",
    "# neurons = model.run_neural_dynamics( x, y, neurons, neural_lr_start, neural_lr_stop, lr_rule = neural_lr_rule,\n",
    "#                                     lr_decay_multiplier = neural_lr_decay_multiplier, \n",
    "#                                     neural_dynamic_iterations = neural_dynamic_iterations)"
   ]
  },
  {
   "cell_type": "code",
   "execution_count": 6,
   "id": "43fd8379",
   "metadata": {},
   "outputs": [],
   "source": [
    "# plt.plot(model.neural_dynamics_loss_list)"
   ]
  },
  {
   "cell_type": "code",
   "execution_count": 7,
   "id": "7fe5ae77",
   "metadata": {},
   "outputs": [],
   "source": [
    "# F.softmax(neurons[0], 0)[:,0]"
   ]
  },
  {
   "cell_type": "code",
   "execution_count": 8,
   "id": "f5ddb537",
   "metadata": {},
   "outputs": [],
   "source": [
    "# torch.sum(F.softmax(neurons[0], 0), 0)"
   ]
  },
  {
   "cell_type": "code",
   "execution_count": 9,
   "id": "4fe66593",
   "metadata": {},
   "outputs": [],
   "source": [
    "# optim_params = []\n",
    "# for idx in range(len(model.Wff)):\n",
    "#     for key_ in [\"weight\", \"bias\"]:\n",
    "#         optim_params.append(  {'params': model.Wff[idx][key_], 'lr': lr_start[\"ff\"]}  )"
   ]
  },
  {
   "cell_type": "code",
   "execution_count": 10,
   "id": "c7526f50",
   "metadata": {},
   "outputs": [],
   "source": [
    "# optimizer = torch.optim.Adam(optim_params, maximize = True)"
   ]
  },
  {
   "cell_type": "code",
   "execution_count": 11,
   "id": "e07503a8",
   "metadata": {},
   "outputs": [
    {
     "name": "stderr",
     "output_type": "stream",
     "text": [
      "3000it [02:43, 18.32it/s]\n",
      "2it [00:00, 14.30it/s]"
     ]
    },
    {
     "name": "stdout",
     "output_type": "stream",
     "text": [
      "Epoch : 1, Train Accuracy : 0.9018833333333334, Test Accuracy : 0.9044\n"
     ]
    },
    {
     "name": "stderr",
     "output_type": "stream",
     "text": [
      "3000it [02:42, 18.43it/s]\n",
      "2it [00:00, 14.32it/s]"
     ]
    },
    {
     "name": "stdout",
     "output_type": "stream",
     "text": [
      "Epoch : 2, Train Accuracy : 0.91705, Test Accuracy : 0.9188\n"
     ]
    },
    {
     "name": "stderr",
     "output_type": "stream",
     "text": [
      "3000it [02:43, 18.40it/s]\n",
      "2it [00:00, 14.32it/s]"
     ]
    },
    {
     "name": "stdout",
     "output_type": "stream",
     "text": [
      "Epoch : 3, Train Accuracy : 0.9219333333333334, Test Accuracy : 0.9223\n"
     ]
    },
    {
     "name": "stderr",
     "output_type": "stream",
     "text": [
      "3000it [02:42, 18.42it/s]\n",
      "2it [00:00, 14.65it/s]"
     ]
    },
    {
     "name": "stdout",
     "output_type": "stream",
     "text": [
      "Epoch : 4, Train Accuracy : 0.9250833333333334, Test Accuracy : 0.9239\n"
     ]
    },
    {
     "name": "stderr",
     "output_type": "stream",
     "text": [
      "3000it [02:43, 18.39it/s]\n",
      "2it [00:00, 14.07it/s]"
     ]
    },
    {
     "name": "stdout",
     "output_type": "stream",
     "text": [
      "Epoch : 5, Train Accuracy : 0.9260833333333334, Test Accuracy : 0.928\n"
     ]
    },
    {
     "name": "stderr",
     "output_type": "stream",
     "text": [
      "3000it [02:42, 18.44it/s]\n",
      "2it [00:00, 14.13it/s]"
     ]
    },
    {
     "name": "stdout",
     "output_type": "stream",
     "text": [
      "Epoch : 6, Train Accuracy : 0.9275666666666667, Test Accuracy : 0.9278\n"
     ]
    },
    {
     "name": "stderr",
     "output_type": "stream",
     "text": [
      "3000it [02:42, 18.44it/s]\n",
      "2it [00:00, 11.71it/s]"
     ]
    },
    {
     "name": "stdout",
     "output_type": "stream",
     "text": [
      "Epoch : 7, Train Accuracy : 0.9308166666666666, Test Accuracy : 0.9292\n"
     ]
    },
    {
     "name": "stderr",
     "output_type": "stream",
     "text": [
      "3000it [02:42, 18.42it/s]\n",
      "2it [00:00, 13.73it/s]"
     ]
    },
    {
     "name": "stdout",
     "output_type": "stream",
     "text": [
      "Epoch : 8, Train Accuracy : 0.9304, Test Accuracy : 0.9288\n"
     ]
    },
    {
     "name": "stderr",
     "output_type": "stream",
     "text": [
      "3000it [02:46, 18.06it/s]\n",
      "2it [00:00, 16.19it/s]"
     ]
    },
    {
     "name": "stdout",
     "output_type": "stream",
     "text": [
      "Epoch : 9, Train Accuracy : 0.9311333333333334, Test Accuracy : 0.9292\n"
     ]
    },
    {
     "name": "stderr",
     "output_type": "stream",
     "text": [
      "3000it [03:31, 14.16it/s]\n",
      "2it [00:00, 13.97it/s]"
     ]
    },
    {
     "name": "stdout",
     "output_type": "stream",
     "text": [
      "Epoch : 10, Train Accuracy : 0.9326333333333333, Test Accuracy : 0.9298\n"
     ]
    },
    {
     "name": "stderr",
     "output_type": "stream",
     "text": [
      "3000it [03:47, 13.21it/s]\n",
      "2it [00:00, 13.78it/s]"
     ]
    },
    {
     "name": "stdout",
     "output_type": "stream",
     "text": [
      "Epoch : 11, Train Accuracy : 0.93335, Test Accuracy : 0.9311\n"
     ]
    },
    {
     "name": "stderr",
     "output_type": "stream",
     "text": [
      "3000it [03:47, 13.18it/s]\n",
      "2it [00:00, 13.73it/s]"
     ]
    },
    {
     "name": "stdout",
     "output_type": "stream",
     "text": [
      "Epoch : 12, Train Accuracy : 0.9333, Test Accuracy : 0.9292\n"
     ]
    },
    {
     "name": "stderr",
     "output_type": "stream",
     "text": [
      "3000it [03:47, 13.19it/s]\n",
      "2it [00:00, 13.94it/s]"
     ]
    },
    {
     "name": "stdout",
     "output_type": "stream",
     "text": [
      "Epoch : 13, Train Accuracy : 0.9329, Test Accuracy : 0.9293\n"
     ]
    },
    {
     "name": "stderr",
     "output_type": "stream",
     "text": [
      "3000it [03:46, 13.26it/s]\n",
      "2it [00:00, 13.11it/s]"
     ]
    },
    {
     "name": "stdout",
     "output_type": "stream",
     "text": [
      "Epoch : 14, Train Accuracy : 0.90395, Test Accuracy : 0.8993\n"
     ]
    },
    {
     "name": "stderr",
     "output_type": "stream",
     "text": [
      "3000it [03:46, 13.26it/s]\n",
      "2it [00:00, 13.29it/s]"
     ]
    },
    {
     "name": "stdout",
     "output_type": "stream",
     "text": [
      "Epoch : 15, Train Accuracy : 0.9025833333333333, Test Accuracy : 0.8985\n"
     ]
    },
    {
     "name": "stderr",
     "output_type": "stream",
     "text": [
      "3000it [03:46, 13.24it/s]\n",
      "2it [00:00, 13.22it/s]"
     ]
    },
    {
     "name": "stdout",
     "output_type": "stream",
     "text": [
      "Epoch : 16, Train Accuracy : 0.89625, Test Accuracy : 0.8948\n"
     ]
    },
    {
     "name": "stderr",
     "output_type": "stream",
     "text": [
      "3000it [03:47, 13.18it/s]\n",
      "2it [00:00, 13.06it/s]"
     ]
    },
    {
     "name": "stdout",
     "output_type": "stream",
     "text": [
      "Epoch : 17, Train Accuracy : 0.8997666666666667, Test Accuracy : 0.8986\n"
     ]
    },
    {
     "name": "stderr",
     "output_type": "stream",
     "text": [
      "3000it [03:46, 13.22it/s]\n",
      "2it [00:00, 13.13it/s]"
     ]
    },
    {
     "name": "stdout",
     "output_type": "stream",
     "text": [
      "Epoch : 18, Train Accuracy : 0.8827666666666667, Test Accuracy : 0.8819\n"
     ]
    },
    {
     "name": "stderr",
     "output_type": "stream",
     "text": [
      "3000it [03:46, 13.22it/s]\n",
      "2it [00:00, 12.69it/s]"
     ]
    },
    {
     "name": "stdout",
     "output_type": "stream",
     "text": [
      "Epoch : 19, Train Accuracy : 0.7636666666666667, Test Accuracy : 0.7573\n"
     ]
    },
    {
     "name": "stderr",
     "output_type": "stream",
     "text": [
      "3000it [03:47, 13.19it/s]\n",
      "2it [00:00, 12.99it/s]"
     ]
    },
    {
     "name": "stdout",
     "output_type": "stream",
     "text": [
      "Epoch : 20, Train Accuracy : 0.7964666666666667, Test Accuracy : 0.7919\n"
     ]
    },
    {
     "name": "stderr",
     "output_type": "stream",
     "text": [
      "3000it [03:47, 13.20it/s]\n",
      "2it [00:00, 13.28it/s]"
     ]
    },
    {
     "name": "stdout",
     "output_type": "stream",
     "text": [
      "Epoch : 21, Train Accuracy : 0.8282666666666667, Test Accuracy : 0.8224\n"
     ]
    },
    {
     "name": "stderr",
     "output_type": "stream",
     "text": [
      "3000it [03:43, 13.42it/s]\n",
      "2it [00:00, 12.01it/s]"
     ]
    },
    {
     "name": "stdout",
     "output_type": "stream",
     "text": [
      "Epoch : 22, Train Accuracy : 0.8137666666666666, Test Accuracy : 0.8123\n"
     ]
    },
    {
     "name": "stderr",
     "output_type": "stream",
     "text": [
      "3000it [03:43, 13.42it/s]\n",
      "2it [00:00, 12.06it/s]"
     ]
    },
    {
     "name": "stdout",
     "output_type": "stream",
     "text": [
      "Epoch : 23, Train Accuracy : 0.7771, Test Accuracy : 0.7768\n"
     ]
    },
    {
     "name": "stderr",
     "output_type": "stream",
     "text": [
      "3000it [03:43, 13.44it/s]\n",
      "2it [00:00, 11.84it/s]"
     ]
    },
    {
     "name": "stdout",
     "output_type": "stream",
     "text": [
      "Epoch : 24, Train Accuracy : 0.5796333333333333, Test Accuracy : 0.5673\n"
     ]
    },
    {
     "name": "stderr",
     "output_type": "stream",
     "text": [
      "3000it [03:44, 13.37it/s]\n",
      "2it [00:00, 12.17it/s]"
     ]
    },
    {
     "name": "stdout",
     "output_type": "stream",
     "text": [
      "Epoch : 25, Train Accuracy : 0.6041, Test Accuracy : 0.5993\n"
     ]
    },
    {
     "name": "stderr",
     "output_type": "stream",
     "text": [
      "3000it [03:47, 13.20it/s]\n",
      "2it [00:00, 11.91it/s]"
     ]
    },
    {
     "name": "stdout",
     "output_type": "stream",
     "text": [
      "Epoch : 26, Train Accuracy : 0.3862, Test Accuracy : 0.3891\n"
     ]
    },
    {
     "name": "stderr",
     "output_type": "stream",
     "text": [
      "3000it [03:04, 16.29it/s]\n",
      "2it [00:00, 13.61it/s]"
     ]
    },
    {
     "name": "stdout",
     "output_type": "stream",
     "text": [
      "Epoch : 27, Train Accuracy : 0.23973333333333333, Test Accuracy : 0.2395\n"
     ]
    },
    {
     "name": "stderr",
     "output_type": "stream",
     "text": [
      "3000it [02:44, 18.26it/s]\n",
      "2it [00:00, 13.36it/s]"
     ]
    },
    {
     "name": "stdout",
     "output_type": "stream",
     "text": [
      "Epoch : 28, Train Accuracy : 0.48661666666666664, Test Accuracy : 0.4913\n"
     ]
    },
    {
     "name": "stderr",
     "output_type": "stream",
     "text": [
      "3000it [02:43, 18.34it/s]\n",
      "2it [00:00, 13.67it/s]"
     ]
    },
    {
     "name": "stdout",
     "output_type": "stream",
     "text": [
      "Epoch : 29, Train Accuracy : 0.1849, Test Accuracy : 0.1844\n"
     ]
    },
    {
     "name": "stderr",
     "output_type": "stream",
     "text": [
      "3000it [02:44, 18.29it/s]\n",
      "2it [00:00, 13.76it/s]"
     ]
    },
    {
     "name": "stdout",
     "output_type": "stream",
     "text": [
      "Epoch : 30, Train Accuracy : 0.09863333333333334, Test Accuracy : 0.0958\n"
     ]
    },
    {
     "name": "stderr",
     "output_type": "stream",
     "text": [
      "3000it [02:43, 18.35it/s]\n",
      "2it [00:00, 14.52it/s]"
     ]
    },
    {
     "name": "stdout",
     "output_type": "stream",
     "text": [
      "Epoch : 31, Train Accuracy : 0.7831833333333333, Test Accuracy : 0.7789\n"
     ]
    },
    {
     "name": "stderr",
     "output_type": "stream",
     "text": [
      "3000it [02:43, 18.30it/s]\n",
      "2it [00:00, 13.76it/s]"
     ]
    },
    {
     "name": "stdout",
     "output_type": "stream",
     "text": [
      "Epoch : 32, Train Accuracy : 0.79725, Test Accuracy : 0.7935\n"
     ]
    },
    {
     "name": "stderr",
     "output_type": "stream",
     "text": [
      "3000it [02:43, 18.35it/s]\n",
      "2it [00:00, 13.84it/s]"
     ]
    },
    {
     "name": "stdout",
     "output_type": "stream",
     "text": [
      "Epoch : 33, Train Accuracy : 0.7929333333333334, Test Accuracy : 0.7952\n"
     ]
    },
    {
     "name": "stderr",
     "output_type": "stream",
     "text": [
      "3000it [02:44, 18.21it/s]\n",
      "2it [00:00, 14.07it/s]"
     ]
    },
    {
     "name": "stdout",
     "output_type": "stream",
     "text": [
      "Epoch : 34, Train Accuracy : 0.72685, Test Accuracy : 0.7177\n"
     ]
    },
    {
     "name": "stderr",
     "output_type": "stream",
     "text": [
      "3000it [02:43, 18.31it/s]\n",
      "2it [00:00, 13.32it/s]"
     ]
    },
    {
     "name": "stdout",
     "output_type": "stream",
     "text": [
      "Epoch : 35, Train Accuracy : 0.8012833333333333, Test Accuracy : 0.8036\n"
     ]
    },
    {
     "name": "stderr",
     "output_type": "stream",
     "text": [
      "3000it [02:43, 18.34it/s]\n",
      "2it [00:00, 13.57it/s]"
     ]
    },
    {
     "name": "stdout",
     "output_type": "stream",
     "text": [
      "Epoch : 36, Train Accuracy : 0.7538833333333333, Test Accuracy : 0.7564\n"
     ]
    },
    {
     "name": "stderr",
     "output_type": "stream",
     "text": [
      "3000it [02:43, 18.34it/s]\n",
      "2it [00:00, 13.77it/s]"
     ]
    },
    {
     "name": "stdout",
     "output_type": "stream",
     "text": [
      "Epoch : 37, Train Accuracy : 0.79915, Test Accuracy : 0.8002\n"
     ]
    },
    {
     "name": "stderr",
     "output_type": "stream",
     "text": [
      "3000it [02:43, 18.36it/s]\n",
      "2it [00:00, 14.07it/s]"
     ]
    },
    {
     "name": "stdout",
     "output_type": "stream",
     "text": [
      "Epoch : 38, Train Accuracy : 0.6828833333333333, Test Accuracy : 0.6746\n"
     ]
    },
    {
     "name": "stderr",
     "output_type": "stream",
     "text": [
      "3000it [02:43, 18.35it/s]\n",
      "2it [00:00, 13.35it/s]"
     ]
    },
    {
     "name": "stdout",
     "output_type": "stream",
     "text": [
      "Epoch : 39, Train Accuracy : 0.6797666666666666, Test Accuracy : 0.6722\n"
     ]
    },
    {
     "name": "stderr",
     "output_type": "stream",
     "text": [
      "3000it [02:43, 18.31it/s]\n",
      "2it [00:00, 13.61it/s]"
     ]
    },
    {
     "name": "stdout",
     "output_type": "stream",
     "text": [
      "Epoch : 40, Train Accuracy : 0.7968666666666666, Test Accuracy : 0.7962\n"
     ]
    },
    {
     "name": "stderr",
     "output_type": "stream",
     "text": [
      "3000it [02:43, 18.31it/s]\n",
      "2it [00:00, 13.80it/s]"
     ]
    },
    {
     "name": "stdout",
     "output_type": "stream",
     "text": [
      "Epoch : 41, Train Accuracy : 0.8298, Test Accuracy : 0.8325\n"
     ]
    },
    {
     "name": "stderr",
     "output_type": "stream",
     "text": [
      "3000it [02:44, 18.26it/s]\n",
      "2it [00:00, 12.30it/s]"
     ]
    },
    {
     "name": "stdout",
     "output_type": "stream",
     "text": [
      "Epoch : 42, Train Accuracy : 0.8106, Test Accuracy : 0.8092\n"
     ]
    },
    {
     "name": "stderr",
     "output_type": "stream",
     "text": [
      "3000it [02:44, 18.28it/s]\n",
      "2it [00:00, 12.88it/s]"
     ]
    },
    {
     "name": "stdout",
     "output_type": "stream",
     "text": [
      "Epoch : 43, Train Accuracy : 0.8255166666666667, Test Accuracy : 0.8243\n"
     ]
    },
    {
     "name": "stderr",
     "output_type": "stream",
     "text": [
      "3000it [02:44, 18.24it/s]\n",
      "2it [00:00, 13.63it/s]"
     ]
    },
    {
     "name": "stdout",
     "output_type": "stream",
     "text": [
      "Epoch : 44, Train Accuracy : 0.7899166666666667, Test Accuracy : 0.7876\n"
     ]
    },
    {
     "name": "stderr",
     "output_type": "stream",
     "text": [
      "3000it [02:43, 18.38it/s]\n",
      "2it [00:00, 13.32it/s]"
     ]
    },
    {
     "name": "stdout",
     "output_type": "stream",
     "text": [
      "Epoch : 45, Train Accuracy : 0.7968333333333333, Test Accuracy : 0.7922\n"
     ]
    },
    {
     "name": "stderr",
     "output_type": "stream",
     "text": [
      "3000it [02:43, 18.39it/s]\n",
      "2it [00:00, 12.81it/s]"
     ]
    },
    {
     "name": "stdout",
     "output_type": "stream",
     "text": [
      "Epoch : 46, Train Accuracy : 0.7979, Test Accuracy : 0.7946\n"
     ]
    },
    {
     "name": "stderr",
     "output_type": "stream",
     "text": [
      "3000it [02:44, 18.27it/s]\n",
      "2it [00:00, 13.41it/s]"
     ]
    },
    {
     "name": "stdout",
     "output_type": "stream",
     "text": [
      "Epoch : 47, Train Accuracy : 0.09871666666666666, Test Accuracy : 0.098\n"
     ]
    },
    {
     "name": "stderr",
     "output_type": "stream",
     "text": [
      "3000it [02:44, 18.29it/s]\n",
      "2it [00:00, 13.80it/s]"
     ]
    },
    {
     "name": "stdout",
     "output_type": "stream",
     "text": [
      "Epoch : 48, Train Accuracy : 0.09871666666666666, Test Accuracy : 0.098\n"
     ]
    },
    {
     "name": "stderr",
     "output_type": "stream",
     "text": [
      "3000it [02:43, 18.33it/s]\n",
      "2it [00:00, 13.81it/s]"
     ]
    },
    {
     "name": "stdout",
     "output_type": "stream",
     "text": [
      "Epoch : 49, Train Accuracy : 0.09871666666666666, Test Accuracy : 0.098\n"
     ]
    },
    {
     "name": "stderr",
     "output_type": "stream",
     "text": [
      "3000it [02:43, 18.33it/s]\n"
     ]
    },
    {
     "name": "stdout",
     "output_type": "stream",
     "text": [
      "Epoch : 50, Train Accuracy : 0.09871666666666666, Test Accuracy : 0.098\n"
     ]
    }
   ],
   "source": [
    "trn_acc_list = []\n",
    "tst_acc_list = []\n",
    "\n",
    "n_epochs = 50\n",
    "\n",
    "for epoch_ in range(n_epochs):\n",
    "    if epoch_ > 12:\n",
    "        neural_lr_start = 0.05\n",
    "    if epoch_ > 17:\n",
    "        neural_lr_start = 0.03\n",
    "    for idx, (x, y) in tqdm(enumerate(train_loader)):\n",
    "        x, y = x.to(device), y.to(device)\n",
    "        #x = activation_inverse(x.view(x.size(0),-1).T, \"sigmoid\")\n",
    "        x = x.view(x.size(0),-1).T\n",
    "        y_one_hot = F.one_hot(y, 10).to(device).T\n",
    "        #y_one_hot = 0.94 * y_one_hot + 0.03 * torch.ones(*y_one_hot.shape, device = device)\n",
    "        y_one_hot = 1*y_one_hot\n",
    "        \n",
    "        model.batch_step(  x, y_one_hot, neural_lr_start, neural_lr_stop, neural_lr_rule,\n",
    "                           neural_lr_decay_multiplier, neural_dynamic_iterations,\n",
    "                         )\n",
    "\n",
    "    trn_acc = evaluatePC(model, train_loader, device, False, \n",
    "                         printing = False)\n",
    "    tst_acc = evaluatePC(model, test_loader, device, False, \n",
    "                         printing = False)\n",
    "    trn_acc_list.append(trn_acc)\n",
    "    tst_acc_list.append(tst_acc)\n",
    "    \n",
    "    print(\"Epoch : {}, Train Accuracy : {}, Test Accuracy : {}\".format(epoch_+1, trn_acc, tst_acc))"
   ]
  },
  {
   "cell_type": "code",
   "execution_count": null,
   "id": "7a7d56f3",
   "metadata": {},
   "outputs": [],
   "source": [
    "# def inverse_leaky_relu(x, negative_slope = 0.1):\n",
    "#     out = torch.zeros(*x.shape)\n",
    "#     out[x >]"
   ]
  },
  {
   "cell_type": "code",
   "execution_count": null,
   "id": "20113615",
   "metadata": {},
   "outputs": [],
   "source": [
    "Wfb[1]['weight'] @ yy + Wfb[1]['bias']"
   ]
  },
  {
   "cell_type": "code",
   "execution_count": null,
   "id": "40bc48ab",
   "metadata": {},
   "outputs": [],
   "source": [
    "torch.clip(Wfb[1]['weight'] @ yy + Wfb[1]['bias'], 1e-3, 1-1e-3)"
   ]
  },
  {
   "cell_type": "code",
   "execution_count": null,
   "id": "9d7da3a4",
   "metadata": {},
   "outputs": [],
   "source": [
    "model.Wfb[1]"
   ]
  },
  {
   "cell_type": "code",
   "execution_count": null,
   "id": "c2aa3ff1",
   "metadata": {},
   "outputs": [],
   "source": [
    "cc = 0\n",
    "yy = torch.randn(10, 1).to(device)\n",
    "yy[cc] = 4\n",
    "Wfb = model.Wfb\n",
    "out = torch.clip(Wfb[0]['weight'] @ activation_inverse(torch.clip(Wfb[1]['weight'] @ yy + Wfb[1]['bias'], 1e-3, 1-1e-3), 'sigmoid') + Wfb[0]['bias'], 1e-3, 1-1e-3).view(28 ,28)\n",
    "out = torch2numpy(out)\n",
    "plt.imshow(out)"
   ]
  },
  {
   "cell_type": "code",
   "execution_count": null,
   "id": "b5e2e1ca",
   "metadata": {},
   "outputs": [],
   "source": []
  },
  {
   "cell_type": "code",
   "execution_count": null,
   "id": "26994c95",
   "metadata": {},
   "outputs": [],
   "source": [
    "def accuracy_topk(output, target, topk=(1,)):\n",
    "    \"\"\"Computes the precision@k for the specified values of k\"\"\"\n",
    "    maxk = max(topk)\n",
    "    batch_size = target.size(0)\n",
    "\n",
    "    _, pred = output.topk(maxk, 1, True, True)\n",
    "    pred = pred.t()\n",
    "    correct = pred.eq(target.view(1, -1).expand_as(pred))\n",
    "\n",
    "    res = []\n",
    "    for k in topk:\n",
    "        correct_k = correct[:k].flatten().float().sum(0)\n",
    "        res.append(correct_k.mul_(100.0 / batch_size))\n",
    "        \n",
    "    result = [res_.item() for res_ in res]\n",
    "    if len(result) == 1:\n",
    "        result = result[0]\n",
    "    return result\n",
    "\n",
    "def evaluatePC_topk(model, loader, device, apply_activation_inverse = True, \n",
    "                    activation_type = \"sigmoid\", topk = [2], printing = True):\n",
    "    # Evaluate Predictive Coding Model on Classification Task\n",
    "    correct=0\n",
    "    phase = 'Train' if loader.dataset.train else 'Test'\n",
    "    \n",
    "    for x, y in loader:\n",
    "        if apply_activation_inverse:\n",
    "            x = activation_inverse(x.view(x.size(0),-1).T, activation_type).to(device)\n",
    "        else:\n",
    "            x = x.view(x.size(0),-1).T.to(device)\n",
    "        batch_size = x.size(1)\n",
    "        y = y.to(device)\n",
    "        \n",
    "        neurons = model.fast_forward(x)\n",
    "\n",
    "        #pred = torch.argmax(neurons[-1], dim=0).squeeze()  \n",
    "        pred = neurons[-1]\n",
    "        correct += accuracy_topk(pred.T, y, topk) * batch_size\n",
    "\n",
    "    acc = correct/len(loader.dataset) \n",
    "    if printing:\n",
    "        print(phase+' accuracy :\\t', acc)   \n",
    "    return acc\n",
    "\n",
    "trn_acc = evaluatePC_topk(model, train_loader, device, False, \n",
    "                     printing = True, topk = [2])\n",
    "tst_acc = evaluatePC_topk(model, test_loader, device, False, \n",
    "                     printing = True, topk = [2])"
   ]
  },
  {
   "cell_type": "code",
   "execution_count": null,
   "id": "c8101e29",
   "metadata": {},
   "outputs": [],
   "source": [
    "for g in model.optimizer.param_groups:\n",
    "    g['lr'] = g['lr']/100"
   ]
  },
  {
   "cell_type": "code",
   "execution_count": null,
   "id": "0629fa79",
   "metadata": {},
   "outputs": [],
   "source": [
    "\n",
    "\n",
    "for epoch_ in range(n_epochs):\n",
    "    for idx, (x, y) in tqdm(enumerate(train_loader)):\n",
    "        x, y = x.to(device), y.to(device)\n",
    "        #x = activation_inverse(x.view(x.size(0),-1).T, \"sigmoid\")\n",
    "        x = x.view(x.size(0),-1).T\n",
    "        y_one_hot = F.one_hot(y, 10).to(device).T\n",
    "        y_one_hot = 0.94 * y_one_hot + 0.03 * torch.ones(*y_one_hot.shape, device = device)\n",
    "        \n",
    "        model.batch_step(  x, y_one_hot, neural_lr_start, neural_lr_stop, neural_lr_rule,\n",
    "                           neural_lr_decay_multiplier, neural_dynamic_iterations,\n",
    "                         )\n",
    "\n",
    "    trn_acc = evaluatePC(model, train_loader, device, False, \n",
    "                         printing = False)\n",
    "    tst_acc = evaluatePC(model, test_loader, device, False, \n",
    "                         printing = False)\n",
    "    trn_acc_list.append(trn_acc)\n",
    "    tst_acc_list.append(tst_acc)\n",
    "    \n",
    "    print(\"Epoch : {}, Train Accuracy : {}, Test Accuracy : {}\".format(epoch_+1, trn_acc, tst_acc))"
   ]
  },
  {
   "cell_type": "code",
   "execution_count": null,
   "id": "e092a82a",
   "metadata": {},
   "outputs": [],
   "source": []
  }
 ],
 "metadata": {
  "kernelspec": {
   "display_name": "Python 3 (ipykernel)",
   "language": "python",
   "name": "python3"
  },
  "language_info": {
   "codemirror_mode": {
    "name": "ipython",
    "version": 3
   },
   "file_extension": ".py",
   "mimetype": "text/x-python",
   "name": "python",
   "nbconvert_exporter": "python",
   "pygments_lexer": "ipython3",
   "version": "3.8.8"
  }
 },
 "nbformat": 4,
 "nbformat_minor": 5
}
