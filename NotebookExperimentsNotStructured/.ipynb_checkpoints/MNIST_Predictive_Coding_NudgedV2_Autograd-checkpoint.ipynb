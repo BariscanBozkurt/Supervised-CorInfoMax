{
 "cells": [
  {
   "cell_type": "code",
   "execution_count": 1,
   "id": "5fd7911f",
   "metadata": {},
   "outputs": [],
   "source": [
    "import sys\n",
    "sys.path.append(\"../src\")\n",
    "import torch\n",
    "import matplotlib.pyplot as plt\n",
    "import numpy as np\n",
    "import torchvision\n",
    "import torch.nn.functional as F\n",
    "\n",
    "import glob\n",
    "import os\n",
    "from datetime import datetime\n",
    "import time\n",
    "import math\n",
    "from tqdm import tqdm\n",
    "\n",
    "from itertools import repeat\n",
    "from torch.nn.parameter import Parameter\n",
    "import collections\n",
    "import matplotlib\n",
    "from torch_utils import *\n",
    "from ExplicitModels import *\n",
    "from visualization import *\n",
    "# matplotlib.use('Agg')"
   ]
  },
  {
   "cell_type": "code",
   "execution_count": 2,
   "id": "0481fdbb",
   "metadata": {},
   "outputs": [
    {
     "data": {
      "text/plain": [
       "device(type='cuda', index=0)"
      ]
     },
     "execution_count": 2,
     "metadata": {},
     "output_type": "execute_result"
    }
   ],
   "source": [
    "device = torch.device('cuda:0' if torch.cuda.is_available() else 'cpu')\n",
    "device"
   ]
  },
  {
   "cell_type": "code",
   "execution_count": 3,
   "id": "94c4836a",
   "metadata": {},
   "outputs": [],
   "source": [
    "transform = torchvision.transforms.Compose([torchvision.transforms.ToTensor(), \n",
    "                                            ])\n",
    "\n",
    "mnist_dset_train = torchvision.datasets.MNIST('./data', train=True, transform=transform, target_transform=None, download=True)\n",
    "train_loader = torch.utils.data.DataLoader(mnist_dset_train, batch_size=20, shuffle=True, num_workers=0)\n",
    "\n",
    "mnist_dset_test = torchvision.datasets.MNIST('./data', train=False, transform=transform, target_transform=None, download=True)\n",
    "test_loader = torch.utils.data.DataLoader(mnist_dset_test, batch_size=20, shuffle=False, num_workers=0)"
   ]
  },
  {
   "cell_type": "code",
   "execution_count": 4,
   "id": "fd835cdc",
   "metadata": {},
   "outputs": [],
   "source": [
    "activation = F.relu\n",
    "architecture = [784, 128, 64, 10]\n",
    "supervised_lambda_weight = 1e-3\n",
    "neural_lr_start = 0.1 \n",
    "neural_lr_stop = 0.05 \n",
    "neural_lr_rule = \"constant\"\n",
    "neural_lr_decay_multiplier = 0.005\n",
    "neural_dynamic_iterations = 50\n",
    "\n",
    "model = SupervisedPredictiveCodingNudgedV2_wAutoGrad(architecture, activation, use_stepLR = True, \n",
    "                                                   sgd_nesterov = False, optimizer_type = \"sgd\", \n",
    "                                                   optim_lr = 1e-3, stepLR_step_size = 10*3000,)"
   ]
  },
  {
   "cell_type": "code",
   "execution_count": 5,
   "id": "5ad5663b",
   "metadata": {},
   "outputs": [
    {
     "data": {
      "text/plain": [
       "[tensor([[-0.4065, -0.2521,  0.0240,  ..., -0.1050,  0.4053, -0.1851],\n",
       "         [ 0.7824, -0.3216,  0.3561,  ..., -0.2324,  0.4564,  0.0102],\n",
       "         [-0.6351,  0.2116, -0.9630,  ...,  0.4356, -0.0604, -0.3615],\n",
       "         ...,\n",
       "         [ 0.2926,  0.4286, -0.1611,  ...,  0.5364,  0.3972,  0.4264],\n",
       "         [-0.2817, -0.8249,  0.1369,  ..., -0.4524, -0.3260, -0.7279],\n",
       "         [ 0.6582, -0.1643,  0.9694,  ...,  0.3801,  0.1113, -0.4113]],\n",
       "        device='cuda:0', requires_grad=True),\n",
       " tensor([[ 0.3254,  0.0820,  0.4948,  ..., -0.1353,  0.1411, -0.3452],\n",
       "         [-0.1938, -0.4379, -0.2750,  ..., -0.5289, -0.4620, -0.1291],\n",
       "         [-0.1118, -0.5597, -0.4030,  ...,  0.0115,  0.1684, -0.6941],\n",
       "         ...,\n",
       "         [-0.0267,  0.3980, -0.1327,  ...,  0.3149,  0.1355,  0.2369],\n",
       "         [ 0.0105,  0.5707,  0.3632,  ...,  0.8935,  0.1504, -0.0522],\n",
       "         [ 0.3472, -0.1301,  0.1932,  ...,  0.1809, -0.4278, -0.2052]],\n",
       "        device='cuda:0', requires_grad=True),\n",
       " tensor([[-0.4062, -0.7037, -0.6566, -0.3680,  0.0661, -0.4432, -1.1895, -0.5034,\n",
       "          -0.5750, -0.2091, -0.7300, -1.3063, -0.4811, -0.2081, -0.4203, -0.3149,\n",
       "           0.0289, -0.5588, -0.4382, -0.1425],\n",
       "         [-0.4313, -0.8361, -0.0685, -0.3087, -0.0885, -0.1589,  0.4450,  0.2247,\n",
       "          -0.1424, -0.1297, -0.6265, -0.2913,  0.1686,  0.0185, -0.2536, -0.6765,\n",
       "          -0.1780, -0.4318, -0.4595, -0.0487],\n",
       "         [ 0.1919, -0.3797, -0.3439, -0.3173, -0.5166,  0.2586, -0.2945, -0.0429,\n",
       "           0.2552,  0.5889, -0.0400, -0.0857,  0.2609, -0.3524,  0.0538, -0.1514,\n",
       "           0.1641, -0.0410,  0.0171, -0.1477],\n",
       "         [ 0.7000,  0.9963,  0.4478,  0.8428,  0.7153,  0.7031,  0.3571,  0.3907,\n",
       "           0.3837,  1.3462,  0.8637,  0.7126,  0.4534,  0.5419,  0.6943,  1.4870,\n",
       "           0.5618,  0.8058,  0.7740,  0.6549],\n",
       "         [-0.2412, -0.5435,  0.1740, -0.4414,  0.0104, -0.4127, -0.1541, -0.1677,\n",
       "          -0.3193, -0.5730, -0.3019, -0.5351,  0.0559, -0.2024, -0.2862, -0.5479,\n",
       "          -0.2173, -0.7083, -0.9371, -0.2832],\n",
       "         [ 0.1105,  0.2429,  0.1828,  0.7107, -0.1938,  0.0297,  0.1913,  0.1659,\n",
       "          -0.4739, -0.0495,  0.5886,  0.4758,  0.1829, -0.3531, -0.1928,  0.2525,\n",
       "          -0.5158,  0.1441, -0.2463,  0.2325],\n",
       "         [-0.1420, -0.0795,  0.1644,  0.0690, -0.0823,  0.0192, -0.0772,  0.0615,\n",
       "          -0.0233,  0.5657, -0.0595,  0.7001, -0.1130, -0.0390,  0.1465,  0.0360,\n",
       "           0.0256,  0.2818,  0.1226, -0.1920],\n",
       "         [-0.1316,  0.1581, -0.3753, -0.4386,  0.3058,  0.1004, -1.1486, -0.2852,\n",
       "           0.1397,  0.2506,  0.0358, -0.3796, -0.2567,  0.1848,  0.0846,  0.2058,\n",
       "           0.2610,  0.0291,  0.2568,  0.2362],\n",
       "         [-0.4765, -0.6427, -0.2600, -0.1988, -0.2639, -0.4856, -0.1947, -0.3398,\n",
       "          -0.4627, -0.1623, -0.2341, -0.4458, -0.2073, -0.1175, -0.4515, -0.1607,\n",
       "          -0.7285, -0.3112, -0.7878, -0.3053],\n",
       "         [ 0.1759,  0.2092, -0.0100,  0.9914,  0.4641,  0.6106,  0.2946,  0.1864,\n",
       "          -0.0856, -0.0204, -0.2190, -0.1756,  0.1880, -0.1865,  0.3160, -0.4941,\n",
       "           0.0046,  0.0098,  0.1040,  0.4636]], device='cuda:0',\n",
       "        requires_grad=True)]"
      ]
     },
     "execution_count": 5,
     "metadata": {},
     "output_type": "execute_result"
    }
   ],
   "source": [
    "# x, y = next(iter(train_loader))\n",
    "# x, y = x.to(device), y.to(device)\n",
    "# x = x.to(device).view(x.size(0),-1).T\n",
    "# y_one_hot = F.one_hot(y, 10).to(device).T\n",
    "\n",
    "# neurons = model.fast_forward(x, no_grad = True)\n",
    "# model.run_neural_dynamics(x, y_one_hot, neurons, supervised_lambda_weight, \n",
    "#                           neural_lr_start, neural_lr_stop, lr_rule = neural_lr_rule, \n",
    "#                           lr_decay_multiplier = neural_lr_decay_multiplier, \n",
    "#                           neural_dynamic_iterations = neural_dynamic_iterations)"
   ]
  },
  {
   "cell_type": "code",
   "execution_count": null,
   "id": "68d5baa8",
   "metadata": {},
   "outputs": [
    {
     "name": "stderr",
     "output_type": "stream",
     "text": [
      "3000it [02:44, 18.18it/s]\n",
      "2it [00:00, 16.33it/s]"
     ]
    },
    {
     "name": "stdout",
     "output_type": "stream",
     "text": [
      "Epoch : 1, Train Accuracy : 0.93705, Test Accuracy : 0.9355\n"
     ]
    },
    {
     "name": "stderr",
     "output_type": "stream",
     "text": [
      "3000it [02:46, 18.02it/s]\n",
      "2it [00:00, 14.91it/s]"
     ]
    },
    {
     "name": "stdout",
     "output_type": "stream",
     "text": [
      "Epoch : 2, Train Accuracy : 0.95085, Test Accuracy : 0.9489\n"
     ]
    },
    {
     "name": "stderr",
     "output_type": "stream",
     "text": [
      "3000it [02:53, 17.32it/s]\n",
      "2it [00:00, 16.18it/s]"
     ]
    },
    {
     "name": "stdout",
     "output_type": "stream",
     "text": [
      "Epoch : 3, Train Accuracy : 0.9595666666666667, Test Accuracy : 0.9577\n"
     ]
    },
    {
     "name": "stderr",
     "output_type": "stream",
     "text": [
      "3000it [02:52, 17.41it/s]\n",
      "2it [00:00, 15.47it/s]"
     ]
    },
    {
     "name": "stdout",
     "output_type": "stream",
     "text": [
      "Epoch : 4, Train Accuracy : 0.9657666666666667, Test Accuracy : 0.9625\n"
     ]
    },
    {
     "name": "stderr",
     "output_type": "stream",
     "text": [
      "3000it [02:45, 18.14it/s]\n",
      "2it [00:00, 15.95it/s]"
     ]
    },
    {
     "name": "stdout",
     "output_type": "stream",
     "text": [
      "Epoch : 5, Train Accuracy : 0.9694166666666667, Test Accuracy : 0.9648\n"
     ]
    },
    {
     "name": "stderr",
     "output_type": "stream",
     "text": [
      "3000it [02:50, 17.64it/s]\n",
      "2it [00:00, 15.62it/s]"
     ]
    },
    {
     "name": "stdout",
     "output_type": "stream",
     "text": [
      "Epoch : 6, Train Accuracy : 0.9716166666666667, Test Accuracy : 0.9659\n"
     ]
    },
    {
     "name": "stderr",
     "output_type": "stream",
     "text": [
      "3000it [02:45, 18.12it/s]\n",
      "2it [00:00, 16.63it/s]"
     ]
    },
    {
     "name": "stdout",
     "output_type": "stream",
     "text": [
      "Epoch : 7, Train Accuracy : 0.9745166666666667, Test Accuracy : 0.9687\n"
     ]
    },
    {
     "name": "stderr",
     "output_type": "stream",
     "text": [
      "182it [00:10, 17.83it/s]"
     ]
    }
   ],
   "source": [
    "trn_acc_list = []\n",
    "tst_acc_list = []\n",
    "random_sign = False\n",
    "n_epochs = 50\n",
    "\n",
    "for epoch_ in range(n_epochs):\n",
    "    for idx, (x, y) in tqdm(enumerate(train_loader)):\n",
    "        x, y = x.to(device), y.to(device)\n",
    "        x = x.to(device).view(x.size(0),-1).T\n",
    "        y_one_hot = F.one_hot(y, 10).to(device).T\n",
    "        #y_one_hot = 0.94 * y_one_hot + 0.03 * torch.ones(*y_one_hot.shape, device = device)\n",
    "        if random_sign:\n",
    "            rnd_sgn = 2*np.random.randint(2) - 1\n",
    "            supervised_lambda_weight = rnd_sgn * supervised_lambda_weight\n",
    "\n",
    "        model.batch_step(  x, y_one_hot, supervised_lambda_weight,\n",
    "                           neural_lr_start, neural_lr_stop, neural_lr_rule,\n",
    "                           neural_lr_decay_multiplier, neural_dynamic_iterations,\n",
    "                        )\n",
    "\n",
    "    trn_acc = evaluatePC(model, train_loader, device, False, \n",
    "                         printing = False)\n",
    "    tst_acc = evaluatePC(model, test_loader, device, False, \n",
    "                         printing = False)\n",
    "    trn_acc_list.append(trn_acc)\n",
    "    tst_acc_list.append(tst_acc)\n",
    "    \n",
    "    print(\"Epoch : {}, Train Accuracy : {}, Test Accuracy : {}\".format(epoch_+1, trn_acc, tst_acc))"
   ]
  }
 ],
 "metadata": {
  "kernelspec": {
   "display_name": "Python 3 (ipykernel)",
   "language": "python",
   "name": "python3"
  },
  "language_info": {
   "codemirror_mode": {
    "name": "ipython",
    "version": 3
   },
   "file_extension": ".py",
   "mimetype": "text/x-python",
   "name": "python",
   "nbconvert_exporter": "python",
   "pygments_lexer": "ipython3",
   "version": "3.8.8"
  }
 },
 "nbformat": 4,
 "nbformat_minor": 5
}
