{
 "cells": [
  {
   "cell_type": "code",
   "execution_count": 1,
   "id": "5fd7911f",
   "metadata": {},
   "outputs": [],
   "source": [
    "import sys\n",
    "sys.path.append(\"../src\")\n",
    "import torch\n",
    "import matplotlib.pyplot as plt\n",
    "import numpy as np\n",
    "import torchvision\n",
    "import torch.nn.functional as F\n",
    "\n",
    "import glob\n",
    "import os\n",
    "from datetime import datetime\n",
    "import time\n",
    "import math\n",
    "from tqdm import tqdm\n",
    "\n",
    "from itertools import repeat\n",
    "from torch.nn.parameter import Parameter\n",
    "import collections\n",
    "import matplotlib\n",
    "from torch_utils import *\n",
    "from ExplicitModels import *\n",
    "from visualization import *\n",
    "# matplotlib.use('Agg')"
   ]
  },
  {
   "cell_type": "code",
   "execution_count": 2,
   "id": "0481fdbb",
   "metadata": {},
   "outputs": [
    {
     "data": {
      "text/plain": [
       "device(type='cuda', index=0)"
      ]
     },
     "execution_count": 2,
     "metadata": {},
     "output_type": "execute_result"
    }
   ],
   "source": [
    "device = torch.device('cuda:0' if torch.cuda.is_available() else 'cpu')\n",
    "device"
   ]
  },
  {
   "cell_type": "code",
   "execution_count": 3,
   "id": "94c4836a",
   "metadata": {},
   "outputs": [],
   "source": [
    "transform = torchvision.transforms.Compose([torchvision.transforms.ToTensor(),])\n",
    "\n",
    "mnist_dset_train = torchvision.datasets.MNIST('./data', train=True, transform=transform, target_transform=None, download=True)\n",
    "train_loader = torch.utils.data.DataLoader(mnist_dset_train, batch_size=20, shuffle=True, num_workers=0)\n",
    "\n",
    "mnist_dset_test = torchvision.datasets.MNIST('./data', train=False, transform=transform, target_transform=None, download=True)\n",
    "test_loader = torch.utils.data.DataLoader(mnist_dset_test, batch_size=20, shuffle=False, num_workers=0)"
   ]
  },
  {
   "cell_type": "code",
   "execution_count": 4,
   "id": "fd835cdc",
   "metadata": {},
   "outputs": [],
   "source": [
    "# activation = F.relu\n",
    "# architecture = [784, 128, 64, 10]\n",
    "# lambda_ = 0.99999\n",
    "# epsilon = 0.2\n",
    "# supervised_lambda_weight = 1e-3\n",
    "# neural_lr_start = 0.001 \n",
    "# neural_lr_stop = 0.0005 \n",
    "# neural_lr_rule = \"constant\"\n",
    "# neural_lr_decay_multiplier = 0.005\n",
    "# neural_dynamic_iterations = 50\n",
    "activation = F.relu\n",
    "architecture = [784, 500, 64, 10]\n",
    "lambda_ = 0.99999\n",
    "epsilon = 0.01\n",
    "supervised_lambda_weight = 1e-3\n",
    "neural_lr_start = 0.1 \n",
    "neural_lr_stop = 0.0005 \n",
    "neural_lr_rule = \"constant\"\n",
    "neural_lr_decay_multiplier = 0.005\n",
    "neural_dynamic_iterations = 50\n",
    "\n",
    "model = CorInfoMaxNudged(architecture, lambda_, epsilon, activation, use_stepLR = True, \n",
    "                         sgd_nesterov = False, optimizer_type = \"sgd\", \n",
    "                         optim_lr = 1, stepLR_step_size = 10*3000,)"
   ]
  },
  {
   "cell_type": "code",
   "execution_count": 5,
   "id": "4c1c3cb1",
   "metadata": {},
   "outputs": [
    {
     "name": "stderr",
     "output_type": "stream",
     "text": [
      "3000it [03:07, 16.01it/s]\n",
      "2it [00:00, 11.36it/s]"
     ]
    },
    {
     "name": "stdout",
     "output_type": "stream",
     "text": [
      "Epoch : 1, Train Accuracy : 0.9467333333333333, Test Accuracy : 0.9464\n",
      "B_1 update difference : 4.271041393280029\n"
     ]
    },
    {
     "name": "stderr",
     "output_type": "stream",
     "text": [
      "3000it [03:06, 16.07it/s]\n",
      "1it [00:00,  9.46it/s]"
     ]
    },
    {
     "name": "stdout",
     "output_type": "stream",
     "text": [
      "Epoch : 2, Train Accuracy : 0.9616666666666667, Test Accuracy : 0.9597\n",
      "B_1 update difference : 2.5819623470306396\n"
     ]
    },
    {
     "name": "stderr",
     "output_type": "stream",
     "text": [
      "3000it [03:09, 15.82it/s]\n",
      "1it [00:00,  9.38it/s]"
     ]
    },
    {
     "name": "stdout",
     "output_type": "stream",
     "text": [
      "Epoch : 3, Train Accuracy : 0.9678, Test Accuracy : 0.9626\n",
      "B_1 update difference : 2.2160532474517822\n"
     ]
    },
    {
     "name": "stderr",
     "output_type": "stream",
     "text": [
      "3000it [03:09, 15.86it/s]\n",
      "2it [00:00, 11.61it/s]"
     ]
    },
    {
     "name": "stdout",
     "output_type": "stream",
     "text": [
      "Epoch : 4, Train Accuracy : 0.9743833333333334, Test Accuracy : 0.9682\n",
      "B_1 update difference : 2.0364468097686768\n"
     ]
    },
    {
     "name": "stderr",
     "output_type": "stream",
     "text": [
      "3000it [03:09, 15.87it/s]\n",
      "1it [00:00,  9.09it/s]"
     ]
    },
    {
     "name": "stdout",
     "output_type": "stream",
     "text": [
      "Epoch : 5, Train Accuracy : 0.9783666666666667, Test Accuracy : 0.9712\n",
      "B_1 update difference : 1.9727891683578491\n"
     ]
    },
    {
     "name": "stderr",
     "output_type": "stream",
     "text": [
      "3000it [03:11, 15.70it/s]\n",
      "2it [00:00, 14.08it/s]"
     ]
    },
    {
     "name": "stdout",
     "output_type": "stream",
     "text": [
      "Epoch : 6, Train Accuracy : 0.9811666666666666, Test Accuracy : 0.9722\n",
      "B_1 update difference : 1.9500651359558105\n"
     ]
    },
    {
     "name": "stderr",
     "output_type": "stream",
     "text": [
      "3000it [03:21, 14.87it/s]\n",
      "2it [00:00, 14.09it/s]"
     ]
    },
    {
     "name": "stdout",
     "output_type": "stream",
     "text": [
      "Epoch : 7, Train Accuracy : 0.9822833333333333, Test Accuracy : 0.9733\n",
      "B_1 update difference : 1.9284085035324097\n"
     ]
    },
    {
     "name": "stderr",
     "output_type": "stream",
     "text": [
      "3000it [03:21, 14.89it/s]\n",
      "2it [00:00, 13.99it/s]"
     ]
    },
    {
     "name": "stdout",
     "output_type": "stream",
     "text": [
      "Epoch : 8, Train Accuracy : 0.98465, Test Accuracy : 0.9746\n",
      "B_1 update difference : 1.924181580543518\n"
     ]
    },
    {
     "name": "stderr",
     "output_type": "stream",
     "text": [
      "3000it [03:22, 14.85it/s]\n",
      "2it [00:00, 13.80it/s]"
     ]
    },
    {
     "name": "stdout",
     "output_type": "stream",
     "text": [
      "Epoch : 9, Train Accuracy : 0.9855833333333334, Test Accuracy : 0.9757\n",
      "B_1 update difference : 1.934687852859497\n"
     ]
    },
    {
     "name": "stderr",
     "output_type": "stream",
     "text": [
      "3000it [03:20, 14.93it/s]\n",
      "1it [00:00,  8.61it/s]"
     ]
    },
    {
     "name": "stdout",
     "output_type": "stream",
     "text": [
      "Epoch : 10, Train Accuracy : 0.9872, Test Accuracy : 0.9764\n",
      "B_1 update difference : 1.957012414932251\n"
     ]
    },
    {
     "name": "stderr",
     "output_type": "stream",
     "text": [
      "3000it [03:25, 14.57it/s]\n",
      "2it [00:00, 13.05it/s]"
     ]
    },
    {
     "name": "stdout",
     "output_type": "stream",
     "text": [
      "Epoch : 11, Train Accuracy : 0.98825, Test Accuracy : 0.977\n",
      "B_1 update difference : 1.9953985214233398\n"
     ]
    },
    {
     "name": "stderr",
     "output_type": "stream",
     "text": [
      "3000it [03:31, 14.16it/s]\n",
      "2it [00:00, 13.75it/s]"
     ]
    },
    {
     "name": "stdout",
     "output_type": "stream",
     "text": [
      "Epoch : 12, Train Accuracy : 0.9887833333333333, Test Accuracy : 0.9777\n",
      "B_1 update difference : 2.008061170578003\n"
     ]
    },
    {
     "name": "stderr",
     "output_type": "stream",
     "text": [
      "3000it [03:32, 14.14it/s]\n",
      "2it [00:00, 13.28it/s]"
     ]
    },
    {
     "name": "stdout",
     "output_type": "stream",
     "text": [
      "Epoch : 13, Train Accuracy : 0.9895333333333334, Test Accuracy : 0.9777\n",
      "B_1 update difference : 2.0330214500427246\n"
     ]
    },
    {
     "name": "stderr",
     "output_type": "stream",
     "text": [
      "3000it [03:32, 14.13it/s]\n",
      "2it [00:00, 13.25it/s]"
     ]
    },
    {
     "name": "stdout",
     "output_type": "stream",
     "text": [
      "Epoch : 14, Train Accuracy : 0.9904166666666666, Test Accuracy : 0.9784\n",
      "B_1 update difference : 2.0702104568481445\n"
     ]
    },
    {
     "name": "stderr",
     "output_type": "stream",
     "text": [
      "3000it [03:31, 14.19it/s]\n",
      "2it [00:00, 13.36it/s]"
     ]
    },
    {
     "name": "stdout",
     "output_type": "stream",
     "text": [
      "Epoch : 15, Train Accuracy : 0.99085, Test Accuracy : 0.978\n",
      "B_1 update difference : 2.1264846324920654\n"
     ]
    },
    {
     "name": "stderr",
     "output_type": "stream",
     "text": [
      "3000it [03:28, 14.38it/s]\n",
      "2it [00:00, 13.36it/s]"
     ]
    },
    {
     "name": "stdout",
     "output_type": "stream",
     "text": [
      "Epoch : 16, Train Accuracy : 0.99135, Test Accuracy : 0.9787\n",
      "B_1 update difference : 2.2297093868255615\n"
     ]
    },
    {
     "name": "stderr",
     "output_type": "stream",
     "text": [
      "3000it [03:28, 14.40it/s]\n",
      "2it [00:00, 13.37it/s]"
     ]
    },
    {
     "name": "stdout",
     "output_type": "stream",
     "text": [
      "Epoch : 17, Train Accuracy : 0.9921833333333333, Test Accuracy : 0.9792\n",
      "B_1 update difference : 2.348259210586548\n"
     ]
    },
    {
     "name": "stderr",
     "output_type": "stream",
     "text": [
      "3000it [03:33, 14.05it/s]\n",
      "2it [00:00, 12.83it/s]"
     ]
    },
    {
     "name": "stdout",
     "output_type": "stream",
     "text": [
      "Epoch : 18, Train Accuracy : 0.9928333333333333, Test Accuracy : 0.9792\n",
      "B_1 update difference : 2.3753437995910645\n"
     ]
    },
    {
     "name": "stderr",
     "output_type": "stream",
     "text": [
      "3000it [03:37, 13.80it/s]\n",
      "2it [00:00, 12.94it/s]"
     ]
    },
    {
     "name": "stdout",
     "output_type": "stream",
     "text": [
      "Epoch : 19, Train Accuracy : 0.9931, Test Accuracy : 0.9784\n",
      "B_1 update difference : 2.346989631652832\n"
     ]
    },
    {
     "name": "stderr",
     "output_type": "stream",
     "text": [
      "3000it [03:36, 13.88it/s]\n",
      "2it [00:00, 13.07it/s]"
     ]
    },
    {
     "name": "stdout",
     "output_type": "stream",
     "text": [
      "Epoch : 20, Train Accuracy : 0.9929833333333333, Test Accuracy : 0.9785\n",
      "B_1 update difference : 2.370671272277832\n"
     ]
    },
    {
     "name": "stderr",
     "output_type": "stream",
     "text": [
      "3000it [03:35, 13.91it/s]\n",
      "2it [00:00, 12.81it/s]"
     ]
    },
    {
     "name": "stdout",
     "output_type": "stream",
     "text": [
      "Epoch : 21, Train Accuracy : 0.9935666666666667, Test Accuracy : 0.9802\n",
      "B_1 update difference : 2.460444211959839\n"
     ]
    },
    {
     "name": "stderr",
     "output_type": "stream",
     "text": [
      "3000it [03:35, 13.93it/s]\n",
      "2it [00:00, 12.83it/s]"
     ]
    },
    {
     "name": "stdout",
     "output_type": "stream",
     "text": [
      "Epoch : 22, Train Accuracy : 0.9938166666666667, Test Accuracy : 0.9804\n",
      "B_1 update difference : 2.5029842853546143\n"
     ]
    },
    {
     "name": "stderr",
     "output_type": "stream",
     "text": [
      "3000it [03:37, 13.81it/s]\n",
      "2it [00:00, 13.02it/s]"
     ]
    },
    {
     "name": "stdout",
     "output_type": "stream",
     "text": [
      "Epoch : 23, Train Accuracy : 0.9941333333333333, Test Accuracy : 0.9805\n",
      "B_1 update difference : 2.563155174255371\n"
     ]
    },
    {
     "name": "stderr",
     "output_type": "stream",
     "text": [
      "3000it [03:36, 13.85it/s]\n",
      "2it [00:00, 13.06it/s]"
     ]
    },
    {
     "name": "stdout",
     "output_type": "stream",
     "text": [
      "Epoch : 24, Train Accuracy : 0.9943833333333333, Test Accuracy : 0.9809\n",
      "B_1 update difference : 2.6102750301361084\n"
     ]
    },
    {
     "name": "stderr",
     "output_type": "stream",
     "text": [
      "3000it [03:38, 13.75it/s]\n",
      "2it [00:00, 12.60it/s]"
     ]
    },
    {
     "name": "stdout",
     "output_type": "stream",
     "text": [
      "Epoch : 25, Train Accuracy : 0.9943333333333333, Test Accuracy : 0.9801\n",
      "B_1 update difference : 2.6603448390960693\n"
     ]
    },
    {
     "name": "stderr",
     "output_type": "stream",
     "text": [
      "3000it [03:41, 13.57it/s]\n",
      "2it [00:00, 13.49it/s]"
     ]
    },
    {
     "name": "stdout",
     "output_type": "stream",
     "text": [
      "Epoch : 26, Train Accuracy : 0.9949333333333333, Test Accuracy : 0.9809\n",
      "B_1 update difference : 2.730543375015259\n"
     ]
    },
    {
     "name": "stderr",
     "output_type": "stream",
     "text": [
      "3000it [03:33, 14.02it/s]\n",
      "2it [00:00, 12.85it/s]"
     ]
    },
    {
     "name": "stdout",
     "output_type": "stream",
     "text": [
      "Epoch : 27, Train Accuracy : 0.9948333333333333, Test Accuracy : 0.9807\n",
      "B_1 update difference : 2.7806100845336914\n"
     ]
    },
    {
     "name": "stderr",
     "output_type": "stream",
     "text": [
      "3000it [03:32, 14.14it/s]\n",
      "2it [00:00, 13.15it/s]"
     ]
    },
    {
     "name": "stdout",
     "output_type": "stream",
     "text": [
      "Epoch : 28, Train Accuracy : 0.9951166666666666, Test Accuracy : 0.9809\n",
      "B_1 update difference : 2.853874444961548\n"
     ]
    },
    {
     "name": "stderr",
     "output_type": "stream",
     "text": [
      "3000it [03:30, 14.25it/s]\n",
      "2it [00:00, 13.30it/s]"
     ]
    },
    {
     "name": "stdout",
     "output_type": "stream",
     "text": [
      "Epoch : 29, Train Accuracy : 0.9953833333333333, Test Accuracy : 0.9813\n",
      "B_1 update difference : 2.9008407592773438\n"
     ]
    },
    {
     "name": "stderr",
     "output_type": "stream",
     "text": [
      "3000it [03:36, 13.89it/s]\n",
      "2it [00:00, 13.02it/s]"
     ]
    },
    {
     "name": "stdout",
     "output_type": "stream",
     "text": [
      "Epoch : 30, Train Accuracy : 0.9953666666666666, Test Accuracy : 0.9808\n",
      "B_1 update difference : 2.9895763397216797\n"
     ]
    },
    {
     "name": "stderr",
     "output_type": "stream",
     "text": [
      "3000it [03:40, 13.62it/s]\n",
      "2it [00:00, 12.99it/s]"
     ]
    },
    {
     "name": "stdout",
     "output_type": "stream",
     "text": [
      "Epoch : 31, Train Accuracy : 0.9956333333333334, Test Accuracy : 0.9814\n",
      "B_1 update difference : 3.0436720848083496\n"
     ]
    },
    {
     "name": "stderr",
     "output_type": "stream",
     "text": [
      "3000it [03:37, 13.77it/s]\n",
      "2it [00:00, 12.55it/s]"
     ]
    },
    {
     "name": "stdout",
     "output_type": "stream",
     "text": [
      "Epoch : 32, Train Accuracy : 0.99585, Test Accuracy : 0.9809\n",
      "B_1 update difference : 3.0926666259765625\n"
     ]
    },
    {
     "name": "stderr",
     "output_type": "stream",
     "text": [
      "3000it [03:42, 13.46it/s]\n",
      "2it [00:00, 13.20it/s]"
     ]
    },
    {
     "name": "stdout",
     "output_type": "stream",
     "text": [
      "Epoch : 33, Train Accuracy : 0.9957, Test Accuracy : 0.9813\n",
      "B_1 update difference : 3.1691946983337402\n"
     ]
    },
    {
     "name": "stderr",
     "output_type": "stream",
     "text": [
      "3000it [03:43, 13.44it/s]\n",
      "2it [00:00, 13.88it/s]"
     ]
    },
    {
     "name": "stdout",
     "output_type": "stream",
     "text": [
      "Epoch : 34, Train Accuracy : 0.9961166666666667, Test Accuracy : 0.9812\n",
      "B_1 update difference : 3.2420918941497803\n"
     ]
    },
    {
     "name": "stderr",
     "output_type": "stream",
     "text": [
      "3000it [03:38, 13.74it/s]\n",
      "1it [00:00,  9.85it/s]"
     ]
    },
    {
     "name": "stdout",
     "output_type": "stream",
     "text": [
      "Epoch : 35, Train Accuracy : 0.9960833333333333, Test Accuracy : 0.9814\n",
      "B_1 update difference : 3.3326056003570557\n"
     ]
    },
    {
     "name": "stderr",
     "output_type": "stream",
     "text": [
      "3000it [03:23, 14.72it/s]\n",
      "1it [00:00,  9.44it/s]"
     ]
    },
    {
     "name": "stdout",
     "output_type": "stream",
     "text": [
      "Epoch : 36, Train Accuracy : 0.9960666666666667, Test Accuracy : 0.9819\n",
      "B_1 update difference : 3.4760079383850098\n"
     ]
    },
    {
     "name": "stderr",
     "output_type": "stream",
     "text": [
      "3000it [03:31, 14.20it/s]\n",
      "2it [00:00, 12.80it/s]"
     ]
    },
    {
     "name": "stdout",
     "output_type": "stream",
     "text": [
      "Epoch : 37, Train Accuracy : 0.9962666666666666, Test Accuracy : 0.9818\n",
      "B_1 update difference : 3.617910385131836\n"
     ]
    },
    {
     "name": "stderr",
     "output_type": "stream",
     "text": [
      "3000it [03:43, 13.42it/s]\n",
      "1it [00:00,  9.71it/s]"
     ]
    },
    {
     "name": "stdout",
     "output_type": "stream",
     "text": [
      "Epoch : 38, Train Accuracy : 0.9963166666666666, Test Accuracy : 0.9815\n",
      "B_1 update difference : 3.7039270401000977\n"
     ]
    },
    {
     "name": "stderr",
     "output_type": "stream",
     "text": [
      "3000it [03:35, 13.95it/s]\n",
      "2it [00:00, 12.62it/s]"
     ]
    },
    {
     "name": "stdout",
     "output_type": "stream",
     "text": [
      "Epoch : 39, Train Accuracy : 0.99645, Test Accuracy : 0.9812\n",
      "B_1 update difference : 3.7534494400024414\n"
     ]
    },
    {
     "name": "stderr",
     "output_type": "stream",
     "text": [
      "3000it [03:41, 13.51it/s]\n",
      "2it [00:00, 12.69it/s]"
     ]
    },
    {
     "name": "stdout",
     "output_type": "stream",
     "text": [
      "Epoch : 40, Train Accuracy : 0.9965166666666667, Test Accuracy : 0.9812\n",
      "B_1 update difference : 3.8040812015533447\n"
     ]
    },
    {
     "name": "stderr",
     "output_type": "stream",
     "text": [
      "3000it [03:43, 13.40it/s]\n",
      "2it [00:00, 12.67it/s]"
     ]
    },
    {
     "name": "stdout",
     "output_type": "stream",
     "text": [
      "Epoch : 41, Train Accuracy : 0.9966166666666667, Test Accuracy : 0.9821\n",
      "B_1 update difference : 3.830155611038208\n"
     ]
    },
    {
     "name": "stderr",
     "output_type": "stream",
     "text": [
      "3000it [03:42, 13.49it/s]\n",
      "2it [00:00, 12.57it/s]"
     ]
    },
    {
     "name": "stdout",
     "output_type": "stream",
     "text": [
      "Epoch : 42, Train Accuracy : 0.9967, Test Accuracy : 0.9812\n",
      "B_1 update difference : 3.8925235271453857\n"
     ]
    },
    {
     "name": "stderr",
     "output_type": "stream",
     "text": [
      "3000it [03:46, 13.26it/s]\n",
      "2it [00:00, 12.27it/s]"
     ]
    },
    {
     "name": "stdout",
     "output_type": "stream",
     "text": [
      "Epoch : 43, Train Accuracy : 0.9966166666666667, Test Accuracy : 0.9818\n",
      "B_1 update difference : 4.006849765777588\n"
     ]
    },
    {
     "name": "stderr",
     "output_type": "stream",
     "text": [
      "3000it [03:44, 13.37it/s]\n",
      "2it [00:00, 12.30it/s]"
     ]
    },
    {
     "name": "stdout",
     "output_type": "stream",
     "text": [
      "Epoch : 44, Train Accuracy : 0.9966666666666667, Test Accuracy : 0.9813\n",
      "B_1 update difference : 4.0641608238220215\n"
     ]
    },
    {
     "name": "stderr",
     "output_type": "stream",
     "text": [
      "3000it [03:46, 13.25it/s]\n",
      "2it [00:00, 12.35it/s]"
     ]
    },
    {
     "name": "stdout",
     "output_type": "stream",
     "text": [
      "Epoch : 45, Train Accuracy : 0.9966, Test Accuracy : 0.9812\n",
      "B_1 update difference : 4.135858535766602\n"
     ]
    },
    {
     "name": "stderr",
     "output_type": "stream",
     "text": [
      "3000it [03:33, 14.05it/s]\n",
      "1it [00:00,  8.89it/s]"
     ]
    },
    {
     "name": "stdout",
     "output_type": "stream",
     "text": [
      "Epoch : 46, Train Accuracy : 0.9968333333333333, Test Accuracy : 0.9813\n",
      "B_1 update difference : 4.254339218139648\n"
     ]
    },
    {
     "name": "stderr",
     "output_type": "stream",
     "text": [
      "3000it [03:36, 13.88it/s]\n",
      "2it [00:00, 13.02it/s]"
     ]
    },
    {
     "name": "stdout",
     "output_type": "stream",
     "text": [
      "Epoch : 47, Train Accuracy : 0.9968833333333333, Test Accuracy : 0.9814\n",
      "B_1 update difference : 4.496694087982178\n"
     ]
    },
    {
     "name": "stderr",
     "output_type": "stream",
     "text": [
      "3000it [03:41, 13.54it/s]\n",
      "2it [00:00, 12.33it/s]"
     ]
    },
    {
     "name": "stdout",
     "output_type": "stream",
     "text": [
      "Epoch : 48, Train Accuracy : 0.9969833333333333, Test Accuracy : 0.9826\n",
      "B_1 update difference : 4.774127960205078\n"
     ]
    },
    {
     "name": "stderr",
     "output_type": "stream",
     "text": [
      "3000it [03:45, 13.28it/s]\n",
      "2it [00:00, 12.60it/s]"
     ]
    },
    {
     "name": "stdout",
     "output_type": "stream",
     "text": [
      "Epoch : 49, Train Accuracy : 0.9969333333333333, Test Accuracy : 0.9821\n",
      "B_1 update difference : 4.8777947425842285\n"
     ]
    },
    {
     "name": "stderr",
     "output_type": "stream",
     "text": [
      "3000it [03:45, 13.30it/s]\n"
     ]
    },
    {
     "name": "stdout",
     "output_type": "stream",
     "text": [
      "Epoch : 50, Train Accuracy : 0.9968333333333333, Test Accuracy : 0.9823\n",
      "B_1 update difference : 4.912868499755859\n"
     ]
    }
   ],
   "source": [
    "trn_acc_list = []\n",
    "tst_acc_list = []\n",
    "random_sign = False\n",
    "n_epochs = 50\n",
    "\n",
    "for epoch_ in range(n_epochs):\n",
    "    Bcopy = torch.clone(model.B[0][\"weight\"])\n",
    "    for idx, (x, y) in tqdm(enumerate(train_loader)):\n",
    "        x, y = x.to(device), y.to(device)\n",
    "        x = x.to(device).view(x.size(0),-1).T\n",
    "        y_one_hot = F.one_hot(y, 10).to(device).T\n",
    "        #y_one_hot = 0.94 * y_one_hot + 0.03 * torch.ones(*y_one_hot.shape, device = device)\n",
    "        if random_sign:\n",
    "            rnd_sgn = 2*np.random.randint(2) - 1\n",
    "            supervised_lambda_weight = rnd_sgn * supervised_lambda_weight\n",
    "\n",
    "        model.batch_step(  x, y_one_hot, supervised_lambda_weight,\n",
    "                           neural_lr_start, neural_lr_stop, neural_lr_rule,\n",
    "                           neural_lr_decay_multiplier, neural_dynamic_iterations,\n",
    "                        )\n",
    "\n",
    "    trn_acc = evaluatePC(model, train_loader, device, False, \n",
    "                         printing = False)\n",
    "    tst_acc = evaluatePC(model, test_loader, device, False, \n",
    "                         printing = False)\n",
    "    trn_acc_list.append(trn_acc)\n",
    "    tst_acc_list.append(tst_acc)\n",
    "    \n",
    "    print(\"Epoch : {}, Train Accuracy : {}, Test Accuracy : {}\".format(epoch_+1, trn_acc, tst_acc))\n",
    "    print(\"B_1 update difference : {}\".format(torch.norm(model.B[0]['weight'] - Bcopy)))"
   ]
  },
  {
   "cell_type": "code",
   "execution_count": 6,
   "id": "47c0cf18",
   "metadata": {},
   "outputs": [
    {
     "data": {
      "image/png": "[encoded data removed]",
      "text/plain": [
       "<Figure size 864x576 with 1 Axes>"
      ]
     },
     "metadata": {
      "needs_background": "light"
     },
     "output_type": "display_data"
    }
   ],
   "source": [
    "plot_convergence_plot(trn_acc_list, xlabel = 'Number of Epochs', ylabel = 'Accuracy %',\n",
    "                      title = 'CorInfoMax Train Accuracy w.r.t. Epochs', \n",
    "                      figsize = (12,8), fontsize = 25, linewidth = 3)"
   ]
  },
  {
   "cell_type": "code",
   "execution_count": 7,
   "id": "3a316d5e",
   "metadata": {},
   "outputs": [
    {
     "data": {
      "image/png": "[encoded data removed]",
      "text/plain": [
       "<Figure size 864x576 with 1 Axes>"
      ]
     },
     "metadata": {
      "needs_background": "light"
     },
     "output_type": "display_data"
    }
   ],
   "source": [
    "plot_convergence_plot(tst_acc_list, xlabel = 'Number of Epochs', ylabel = 'Accuracy %',\n",
    "                      title = 'CorInfoMax Test Accuracy w.r.t. Epochs', \n",
    "                      figsize = (12,8), fontsize = 25, linewidth = 3)"
   ]
  },
  {
   "cell_type": "code",
   "execution_count": 8,
   "id": "845b41ef",
   "metadata": {},
   "outputs": [
    {
     "data": {
      "text/plain": [
       "<matplotlib.image.AxesImage at 0x2ab084c0fa60>"
      ]
     },
     "execution_count": 8,
     "metadata": {},
     "output_type": "execute_result"
    },
    {
     "data": {
      "image/png": "[encoded data removed]",
      "text/plain": [
       "<Figure size 432x288 with 1 Axes>"
      ]
     },
     "metadata": {
      "needs_background": "light"
     },
     "output_type": "display_data"
    }
   ],
   "source": [
    "plt.imshow(torch2numpy(model.B[0]['weight']))"
   ]
  },
  {
   "cell_type": "code",
   "execution_count": 9,
   "id": "951e0d44",
   "metadata": {},
   "outputs": [
    {
     "data": {
      "text/plain": [
       "array([[ 5.716399  , -0.049982  , -0.03929942, ...,  0.22322418,\n",
       "        -0.36075032,  0.06415747],\n",
       "       [-0.049982  ,  5.679263  ,  0.41047487, ...,  0.36694136,\n",
       "         0.09405217, -0.12705436],\n",
       "       [-0.03929942,  0.41047487,  5.765897  , ..., -0.08526605,\n",
       "        -0.20707147, -0.0348618 ],\n",
       "       ...,\n",
       "       [ 0.22322418,  0.36694136, -0.08526605, ...,  3.6762593 ,\n",
       "        -0.27690554, -0.02166144],\n",
       "       [-0.36075032,  0.09405217, -0.20707147, ..., -0.27690554,\n",
       "         6.023473  , -0.27266186],\n",
       "       [ 0.06415747, -0.12705436, -0.0348618 , ..., -0.02166144,\n",
       "        -0.27266186,  5.8084693 ]], dtype=float32)"
      ]
     },
     "execution_count": 9,
     "metadata": {},
     "output_type": "execute_result"
    }
   ],
   "source": [
    "torch2numpy(model.B[0]['weight'])"
   ]
  },
  {
   "cell_type": "code",
   "execution_count": 17,
   "id": "0a86f051",
   "metadata": {},
   "outputs": [
    {
     "data": {
      "text/plain": [
       "tensor([[-0.0003, -0.0213, -0.0094,  ..., -0.0170, -0.0083,  0.0116],\n",
       "        [-0.0115, -0.0043,  0.0385,  ..., -0.0256, -0.0101,  0.0402],\n",
       "        [ 0.0062, -0.0026, -0.0038,  ..., -0.0062,  0.0312, -0.0062],\n",
       "        ...,\n",
       "        [-0.0327,  0.0172,  0.0859,  ..., -0.0274, -0.0077,  0.1085],\n",
       "        [-0.0180, -0.0393, -0.0425,  ..., -0.0113,  0.0153,  0.0442],\n",
       "        [-0.0353, -0.0339,  0.0746,  ..., -0.0232,  0.0089,  0.0485]],\n",
       "       device='cuda:0', grad_fn=<PermuteBackward0>)"
      ]
     },
     "execution_count": 17,
     "metadata": {},
     "output_type": "execute_result"
    }
   ],
   "source": [
    "torch.svd(model.Wff[0]['weight'])[2].T"
   ]
  },
  {
   "cell_type": "code",
   "execution_count": null,
   "id": "bc4b5528",
   "metadata": {},
   "outputs": [],
   "source": []
  },
  {
   "cell_type": "code",
   "execution_count": null,
   "id": "876fd719",
   "metadata": {},
   "outputs": [],
   "source": []
  },
  {
   "cell_type": "code",
   "execution_count": null,
   "id": "5c3d59ef",
   "metadata": {},
   "outputs": [],
   "source": [
    "activation = F.relu\n",
    "architecture = [784, 128, 64, 10]\n",
    "lambda_ = 0.9999\n",
    "epsilon = 0.01\n",
    "supervised_lambda_weight = 1e-3\n",
    "neural_lr_start = 0.001 \n",
    "neural_lr_stop = 0.0005 \n",
    "neural_lr_rule = \"constant\"\n",
    "neural_lr_decay_multiplier = 0.005\n",
    "neural_dynamic_iterations = 50\n",
    "\n",
    "model = CorInfoMaxNudged(architecture, lambda_, epsilon, activation, use_stepLR = True, \n",
    "                         sgd_nesterov = False, optimizer_type = \"sgd\", \n",
    "                         optim_lr = 1e-3, stepLR_step_size = 10*3000,)\n",
    "\n",
    "x, y = next(iter(train_loader))\n",
    "x, y = x.to(device), y.to(device)\n",
    "x = x.to(device).view(x.size(0),-1).T\n",
    "y_one_hot = F.one_hot(y, 10).to(device).T\n",
    "\n",
    "neurons = model.fast_forward(x, no_grad = True)\n",
    "model.run_neural_dynamics(x, y_one_hot, neurons, supervised_lambda_weight, \n",
    "                          neural_lr_start, neural_lr_stop, lr_rule = neural_lr_rule, \n",
    "                          lr_decay_multiplier = neural_lr_decay_multiplier, \n",
    "                          neural_dynamic_iterations = neural_dynamic_iterations)"
   ]
  },
  {
   "cell_type": "code",
   "execution_count": null,
   "id": "1ab4bf43",
   "metadata": {},
   "outputs": [],
   "source": [
    "mbs = x.size(1)\n",
    "for jj in range(len(neurons)):\n",
    "    neurons[jj] = neurons[jj].requires_grad_()\n",
    "corinfo_cost = model.CorInfo_Cost(x, y, neurons)\n",
    "init_grads = torch.tensor([1 for i in range(mbs)], dtype=torch.float, device=device, requires_grad=True) #Initializing gradients\n",
    "grads = torch.autograd.grad(corinfo_cost, neurons, grad_outputs=init_grads, create_graph=False) # dPhi/ds"
   ]
  },
  {
   "cell_type": "code",
   "execution_count": null,
   "id": "bc2b99d7",
   "metadata": {},
   "outputs": [],
   "source": [
    "one_over_epsilon = model.one_over_epsilon\n",
    "gam_ = model.gam_\n",
    "\n",
    "x, y = next(iter(train_loader))\n",
    "x, y = x.to(device), y.to(device)\n",
    "x = x.to(device).view(x.size(0),-1).T\n",
    "y_one_hot = F.one_hot(y, 10).to(device).T\n",
    "\n",
    "Wff = model.Wff\n",
    "B = model.B\n",
    "\n",
    "neurons = model.fast_forward(x, no_grad = True)\n",
    "\n",
    "layers = [x] + neurons\n",
    "for jj in range(len(Wff)):\n",
    "    if jj == 0:\n",
    "        error = - one_over_epsilon * (layers[jj + 1] - (Wff[jj]['weight'] @ layers[jj] + Wff[jj]['bias'])) \n",
    "    else:\n",
    "        error = - one_over_epsilon * (layers[jj + 1] - (Wff[jj]['weight'] @ model.activation(layers[jj]) + Wff[jj]['bias']))\n",
    "\n",
    "    lateral_term = gam_ * 0.5 * (layers[jj + 1].T @ B[jj]['weight'] @ layers[jj + 1])\n",
    "    corinfo_cost = torch.sum(error * error, 0)\n",
    "    \n"
   ]
  },
  {
   "cell_type": "code",
   "execution_count": null,
   "id": "7159306a",
   "metadata": {},
   "outputs": [],
   "source": [
    "error.shape\n",
    "torch.sum(error * error, 0).shape"
   ]
  },
  {
   "cell_type": "code",
   "execution_count": null,
   "id": "3592a711",
   "metadata": {},
   "outputs": [],
   "source": [
    "outer_prod_broadcasting((B[jj]['weight'] @ layers[jj + 1]), layers[jj + 1].T).shape"
   ]
  },
  {
   "cell_type": "code",
   "execution_count": null,
   "id": "aac8cf4b",
   "metadata": {},
   "outputs": [],
   "source": [
    "layers[jj + 1][:,2].T @ B[jj]['weight'] @ layers[jj + 1][:,2]"
   ]
  },
  {
   "cell_type": "code",
   "execution_count": null,
   "id": "a8c09111",
   "metadata": {},
   "outputs": [],
   "source": [
    "torch.sum((B[jj]['weight'] @ layers[jj + 1]) * layers[jj + 1], 0)"
   ]
  },
  {
   "cell_type": "code",
   "execution_count": null,
   "id": "efb89c4d",
   "metadata": {},
   "outputs": [],
   "source": [
    "(B[jj]['weight'] @ layers[jj + 1]).shape, layers[jj + 1].shape"
   ]
  },
  {
   "cell_type": "code",
   "execution_count": null,
   "id": "68d5baa8",
   "metadata": {},
   "outputs": [],
   "source": [
    "trn_acc_list = []\n",
    "tst_acc_list = []\n",
    "random_sign = False\n",
    "n_epochs = 50\n",
    "\n",
    "for epoch_ in range(n_epochs):\n",
    "    for idx, (x, y) in tqdm(enumerate(train_loader)):\n",
    "        x, y = x.to(device), y.to(device)\n",
    "        x = x.to(device).view(x.size(0),-1).T\n",
    "        y_one_hot = F.one_hot(y, 10).to(device).T\n",
    "        #y_one_hot = 0.94 * y_one_hot + 0.03 * torch.ones(*y_one_hot.shape, device = device)\n",
    "        if random_sign:\n",
    "            rnd_sgn = 2*np.random.randint(2) - 1\n",
    "            supervised_lambda_weight = rnd_sgn * supervised_lambda_weight\n",
    "\n",
    "        model.batch_step(  x, y_one_hot, supervised_lambda_weight,\n",
    "                           neural_lr_start, neural_lr_stop, neural_lr_rule,\n",
    "                           neural_lr_decay_multiplier, neural_dynamic_iterations,\n",
    "                        )\n",
    "\n",
    "    trn_acc = evaluatePC(model, train_loader, device, False, \n",
    "                         printing = False)\n",
    "    tst_acc = evaluatePC(model, test_loader, device, False, \n",
    "                         printing = False)\n",
    "    trn_acc_list.append(trn_acc)\n",
    "    tst_acc_list.append(tst_acc)\n",
    "    \n",
    "    print(\"Epoch : {}, Train Accuracy : {}, Test Accuracy : {}\".format(epoch_+1, trn_acc, tst_acc))"
   ]
  }
 ],
 "metadata": {
  "kernelspec": {
   "display_name": "Python 3 (ipykernel)",
   "language": "python",
   "name": "python3"
  },
  "language_info": {
   "codemirror_mode": {
    "name": "ipython",
    "version": 3
   },
   "file_extension": ".py",
   "mimetype": "text/x-python",
   "name": "python",
   "nbconvert_exporter": "python",
   "pygments_lexer": "ipython3",
   "version": "3.8.8"
  }
 },
 "nbformat": 4,
 "nbformat_minor": 5
}
