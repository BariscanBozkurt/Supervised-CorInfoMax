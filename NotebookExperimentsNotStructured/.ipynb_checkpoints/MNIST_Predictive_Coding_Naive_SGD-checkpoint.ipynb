{
 "cells": [
  {
   "cell_type": "code",
   "execution_count": 1,
   "id": "5fd7911f",
   "metadata": {},
   "outputs": [],
   "source": [
    "import sys\n",
    "sys.path.append(\"../src\")\n",
    "import torch\n",
    "import matplotlib.pyplot as plt\n",
    "import numpy as np\n",
    "import torchvision\n",
    "import torch.nn.functional as F\n",
    "\n",
    "import glob\n",
    "import os\n",
    "from datetime import datetime\n",
    "import time\n",
    "import math\n",
    "from tqdm import tqdm\n",
    "\n",
    "from itertools import repeat\n",
    "from torch.nn.parameter import Parameter\n",
    "import collections\n",
    "import matplotlib\n",
    "from torch_utils import *\n",
    "from ExplicitModels import *\n",
    "from visualization import *\n",
    "# matplotlib.use('Agg')"
   ]
  },
  {
   "cell_type": "code",
   "execution_count": 2,
   "id": "0481fdbb",
   "metadata": {},
   "outputs": [
    {
     "data": {
      "text/plain": [
       "device(type='cuda', index=0)"
      ]
     },
     "execution_count": 2,
     "metadata": {},
     "output_type": "execute_result"
    }
   ],
   "source": [
    "device = torch.device('cuda:0' if torch.cuda.is_available() else 'cpu')\n",
    "device"
   ]
  },
  {
   "cell_type": "code",
   "execution_count": 3,
   "id": "94c4836a",
   "metadata": {},
   "outputs": [],
   "source": [
    "transform = torchvision.transforms.Compose([torchvision.transforms.ToTensor(), \n",
    "                                            torchvision.transforms.Normalize(mean=(0.0,), std=(1.0,))])\n",
    "\n",
    "mnist_dset_train = torchvision.datasets.MNIST('./data', train=True, transform=transform, target_transform=None, download=True)\n",
    "train_loader = torch.utils.data.DataLoader(mnist_dset_train, batch_size=20, shuffle=True, num_workers=0)\n",
    "\n",
    "mnist_dset_test = torchvision.datasets.MNIST('./data', train=False, transform=transform, target_transform=None, download=True)\n",
    "test_loader = torch.utils.data.DataLoader(mnist_dset_test, batch_size=20, shuffle=False, num_workers=0)"
   ]
  },
  {
   "cell_type": "code",
   "execution_count": 4,
   "id": "fd835cdc",
   "metadata": {},
   "outputs": [],
   "source": [
    "# activation_type = \"sigmoid\"\n",
    "# architecture = [784, 500, 500, 10]\n",
    "\n",
    "# x,y = next(iter(train_loader))\n",
    "# x = x.view(x.size(0),-1).to(device).T\n",
    "# y_one_hot = F.one_hot(y, 10).to(device).T\n",
    "\n",
    "# neural_lr_start = 0.1\n",
    "# neural_lr_stop = 0.05\n",
    "# neural_lr_rule = \"constant\"\n",
    "# neural_lr_decay_multiplier = 0.01\n",
    "# neural_dynamic_iterations = 50\n",
    "\n",
    "# lr_start = {'ff' : 0.001}\n",
    "\n",
    "# model = SupervisedPredictiveCoding(architecture, activation_type)"
   ]
  },
  {
   "cell_type": "code",
   "execution_count": 5,
   "id": "41771576",
   "metadata": {},
   "outputs": [],
   "source": [
    "# trn_acc_list = []\n",
    "# tst_acc_list = []\n",
    "# pc_train_loss = []\n",
    "\n",
    "# n_epochs = 1\n",
    "# lr = lr_start\n",
    "# for epoch_ in range(n_epochs):\n",
    "#     lr = {'ff' : lr_start['ff'] * (0.9)**epoch_}\n",
    "#     for idx, (x, y) in tqdm(enumerate(train_loader)):\n",
    "#         x, y = x.to(device), y.to(device)\n",
    "#         x = activation_inverse(x.view(x.size(0),-1).T, \"sigmoid\")\n",
    "#         y_one_hot = F.one_hot(y, 10).to(device).T\n",
    "#         y_one_hot = 0.94 * y_one_hot + 0.03 * torch.ones(*y_one_hot.shape, device = device)\n",
    "#         _, pc_loss = model.batch_step( x, y_one_hot, lr, neural_lr_start, neural_lr_stop, neural_lr_rule,\n",
    "#                                        neural_lr_decay_multiplier, neural_dynamic_iterations,\n",
    "#                                        optimizer = \"sgd\")\n",
    "        \n",
    "#         pc_train_loss.append(pc_loss)\n",
    "        \n",
    "#     trn_acc = evaluatePC(model, train_loader, device, activation_type = activation_type, printing = False)\n",
    "#     tst_acc = evaluatePC(model, test_loader, device, activation_type = activation_type, printing = False)\n",
    "#     trn_acc_list.append(trn_acc)\n",
    "#     tst_acc_list.append(tst_acc)\n",
    "    \n",
    "#     print(\"Epoch : {}, Train Accuracy : {}, Test Accuracy : {}\".format(epoch_+1, trn_acc, tst_acc))"
   ]
  },
  {
   "cell_type": "code",
   "execution_count": 6,
   "id": "0f1d2266",
   "metadata": {},
   "outputs": [],
   "source": [
    "# plt.figure(figsize=(13, 5), dpi=80)\n",
    "# plt.subplot(1, 2, 1)\n",
    "# plt.plot(-np.array(pc_train_loss)[1:400])\n",
    "# plt.grid()\n",
    "# plt.ylabel(\"PC loss\", fontsize = 25)\n",
    "# plt.xlabel(\"Number of Batch Steps\", fontsize = 25)\n",
    "# plt.xticks(fontsize=15)\n",
    "# plt.yticks(fontsize=15)\n",
    "# # plt.show()\n",
    "\n",
    "# plt.subplot(1, 2, 2)\n",
    "# plt.plot(-np.array(pc_train_loss)[1:-1])\n",
    "# plt.grid()\n",
    "# plt.ylabel(\"PC loss\", fontsize = 25)\n",
    "# plt.xlabel(\"Number of Batch Steps\", fontsize = 25)\n",
    "# plt.xticks(fontsize=15)\n",
    "# plt.yticks(fontsize=15)\n",
    "\n",
    "# plt.suptitle(\"SGD with Learning Rate 0.001. Trainin Accuracy : {}\".format(trn_acc_list[-1]), fontsize = 25)\n",
    "# plt.show()"
   ]
  },
  {
   "cell_type": "code",
   "execution_count": 7,
   "id": "5f5f739d",
   "metadata": {},
   "outputs": [],
   "source": [
    "activation_type = \"sigmoid\"\n",
    "architecture = [784, 500, 500, 10]\n",
    "\n",
    "x,y = next(iter(train_loader))\n",
    "x = x.view(x.size(0),-1).to(device).T\n",
    "y_one_hot = F.one_hot(y, 10).to(device).T\n",
    "\n",
    "neural_lr_start = 0.1\n",
    "neural_lr_stop = 0.05\n",
    "neural_lr_rule = \"constant\"\n",
    "neural_lr_decay_multiplier = 0.01\n",
    "neural_dynamic_iterations = 50\n",
    "\n",
    "lr_start = {'ff' : 0.01}\n",
    "\n",
    "model = SupervisedPredictiveCoding(architecture, activation_type)"
   ]
  },
  {
   "cell_type": "code",
   "execution_count": null,
   "id": "4d1573a4",
   "metadata": {},
   "outputs": [
    {
     "name": "stderr",
     "output_type": "stream",
     "text": [
      "3000it [02:55, 17.14it/s]\n",
      "2it [00:00, 16.29it/s]"
     ]
    },
    {
     "name": "stdout",
     "output_type": "stream",
     "text": [
      "Epoch : 1, Train Accuracy : 0.1738, Test Accuracy : 0.1736\n"
     ]
    },
    {
     "name": "stderr",
     "output_type": "stream",
     "text": [
      "3000it [02:39, 18.81it/s]\n",
      "2it [00:00, 15.83it/s]"
     ]
    },
    {
     "name": "stdout",
     "output_type": "stream",
     "text": [
      "Epoch : 2, Train Accuracy : 0.28386666666666666, Test Accuracy : 0.2862\n"
     ]
    },
    {
     "name": "stderr",
     "output_type": "stream",
     "text": [
      "3000it [02:53, 17.34it/s]\n",
      "2it [00:00, 17.77it/s]"
     ]
    },
    {
     "name": "stdout",
     "output_type": "stream",
     "text": [
      "Epoch : 3, Train Accuracy : 0.21878333333333333, Test Accuracy : 0.2217\n"
     ]
    },
    {
     "name": "stderr",
     "output_type": "stream",
     "text": [
      "3000it [01:27, 34.13it/s]\n",
      "4it [00:00, 30.99it/s]"
     ]
    },
    {
     "name": "stdout",
     "output_type": "stream",
     "text": [
      "Epoch : 4, Train Accuracy : 0.31795, Test Accuracy : 0.3033\n"
     ]
    },
    {
     "name": "stderr",
     "output_type": "stream",
     "text": [
      "3000it [01:22, 36.55it/s]\n",
      "4it [00:00, 32.68it/s]"
     ]
    },
    {
     "name": "stdout",
     "output_type": "stream",
     "text": [
      "Epoch : 5, Train Accuracy : 0.30325, Test Accuracy : 0.2981\n"
     ]
    },
    {
     "name": "stderr",
     "output_type": "stream",
     "text": [
      "3000it [01:26, 34.74it/s]\n",
      "4it [00:00, 33.04it/s]"
     ]
    },
    {
     "name": "stdout",
     "output_type": "stream",
     "text": [
      "Epoch : 6, Train Accuracy : 0.39626666666666666, Test Accuracy : 0.3949\n"
     ]
    },
    {
     "name": "stderr",
     "output_type": "stream",
     "text": [
      "3000it [02:36, 19.13it/s]\n",
      "2it [00:00, 16.97it/s]"
     ]
    },
    {
     "name": "stdout",
     "output_type": "stream",
     "text": [
      "Epoch : 7, Train Accuracy : 0.4538, Test Accuracy : 0.4553\n"
     ]
    },
    {
     "name": "stderr",
     "output_type": "stream",
     "text": [
      "3000it [02:47, 17.88it/s]\n",
      "2it [00:00, 16.06it/s]"
     ]
    },
    {
     "name": "stdout",
     "output_type": "stream",
     "text": [
      "Epoch : 8, Train Accuracy : 0.41028333333333333, Test Accuracy : 0.4092\n"
     ]
    },
    {
     "name": "stderr",
     "output_type": "stream",
     "text": [
      "1213it [01:03, 18.78it/s]"
     ]
    }
   ],
   "source": [
    "trn_acc_list = []\n",
    "tst_acc_list = []\n",
    "pc_train_loss = []\n",
    "\n",
    "n_epochs = 10\n",
    "lr = lr_start\n",
    "for epoch_ in range(n_epochs):\n",
    "    lr = {'ff' : lr_start['ff'] * (0.9)**epoch_}\n",
    "    for idx, (x, y) in tqdm(enumerate(train_loader)):\n",
    "        x, y = x.to(device), y.to(device)\n",
    "        x = activation_inverse(x.view(x.size(0),-1).T, \"sigmoid\")\n",
    "        y_one_hot = F.one_hot(y, 10).to(device).T\n",
    "        y_one_hot = 0.94 * y_one_hot + 0.03 * torch.ones(*y_one_hot.shape, device = device)\n",
    "        _, pc_loss = model.batch_step( x, y_one_hot, lr, neural_lr_start, neural_lr_stop, neural_lr_rule,\n",
    "                                       neural_lr_decay_multiplier, neural_dynamic_iterations,\n",
    "                                       optimizer = \"sgd\")\n",
    "        \n",
    "        pc_train_loss.append(pc_loss)\n",
    "        \n",
    "    trn_acc = evaluatePC(model, train_loader, device, activation_type = activation_type, printing = False)\n",
    "    tst_acc = evaluatePC(model, test_loader, device, activation_type = activation_type, printing = False)\n",
    "    trn_acc_list.append(trn_acc)\n",
    "    tst_acc_list.append(tst_acc)\n",
    "    \n",
    "    print(\"Epoch : {}, Train Accuracy : {}, Test Accuracy : {}\".format(epoch_+1, trn_acc, tst_acc))"
   ]
  },
  {
   "cell_type": "code",
   "execution_count": null,
   "id": "429bce58",
   "metadata": {},
   "outputs": [],
   "source": [
    "plt.figure(figsize=(13, 5), dpi=80)\n",
    "plt.subplot(1, 2, 1)\n",
    "plt.plot(-np.array(pc_train_loss)[1:400])\n",
    "plt.grid()\n",
    "plt.ylabel(\"PC loss\", fontsize = 25)\n",
    "plt.xlabel(\"Number of Batch Steps\", fontsize = 25)\n",
    "plt.xticks(fontsize=15)\n",
    "plt.yticks(fontsize=15)\n",
    "# plt.show()\n",
    "\n",
    "plt.subplot(1, 2, 2)\n",
    "plt.plot(-np.array(pc_train_loss)[1:-1])\n",
    "plt.grid()\n",
    "plt.ylabel(\"PC loss\", fontsize = 25)\n",
    "plt.xlabel(\"Number of Batch Steps\", fontsize = 25)\n",
    "plt.xticks(fontsize=15)\n",
    "plt.yticks(fontsize=15)\n",
    "\n",
    "plt.suptitle(\"SGD with Learning Rate 0.005. Trainin Accuracy : {}\".format(trn_acc_list[-1]), fontsize = 25)\n",
    "plt.show()"
   ]
  },
  {
   "cell_type": "code",
   "execution_count": null,
   "id": "202708bb",
   "metadata": {},
   "outputs": [],
   "source": [
    "plot_convergence_plot(trn_acc_list, xlabel = 'Number of Epochs', ylabel = 'Accuracy %',\n",
    "                      title = 'PC Train Accuracy w.r.t. Epochs', \n",
    "                      figsize = (12,8), fontsize = 25, linewidth = 3)"
   ]
  },
  {
   "cell_type": "code",
   "execution_count": null,
   "id": "63978453",
   "metadata": {},
   "outputs": [],
   "source": [
    "plot_convergence_plot(tst_acc_list, xlabel = 'Number of Epochs', ylabel = 'Accuracy %',\n",
    "                      title = 'PC Test Accuracy w.r.t. Epochs', \n",
    "                      figsize = (12,8), fontsize = 25, linewidth = 3)"
   ]
  }
 ],
 "metadata": {
  "kernelspec": {
   "display_name": "Python 3 (ipykernel)",
   "language": "python",
   "name": "python3"
  },
  "language_info": {
   "codemirror_mode": {
    "name": "ipython",
    "version": 3
   },
   "file_extension": ".py",
   "mimetype": "text/x-python",
   "name": "python",
   "nbconvert_exporter": "python",
   "pygments_lexer": "ipython3",
   "version": "3.8.8"
  }
 },
 "nbformat": 4,
 "nbformat_minor": 5
}
