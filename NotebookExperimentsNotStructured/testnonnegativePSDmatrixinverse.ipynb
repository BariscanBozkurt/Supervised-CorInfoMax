{
 "cells": [
  {
   "cell_type": "code",
   "execution_count": 1,
   "metadata": {
    "id": "eeZy7W1poEdk"
   },
   "outputs": [],
   "source": [
    "import numpy as np\n",
    "import matplotlib.pyplot as plt"
   ]
  },
  {
   "cell_type": "code",
   "execution_count": 6,
   "metadata": {},
   "outputs": [],
   "source": [
    "from IPython.display import Math, display\n",
    "########### LATEX Style Display Matrix ###############\n",
    "def display_matrix(array):\n",
    "    \"\"\"Display given numpy array with Latex format in Jupyter Notebook.\n",
    "    Args:\n",
    "        array (numpy array): Array to be displayed\n",
    "    \"\"\"\n",
    "    data = \"\"\n",
    "    for line in array:\n",
    "        if len(line) == 1:\n",
    "            data += \" %.3f &\" % line + r\" \\\\\\n\"\n",
    "            continue\n",
    "        for element in line:\n",
    "            data += \" %.3f &\" % element\n",
    "        data += r\" \\\\\" + \"\\n\"\n",
    "    display(Math(\"\\\\begin{bmatrix} \\n%s\\\\end{bmatrix}\" % data))"
   ]
  },
  {
   "cell_type": "code",
   "execution_count": 2,
   "metadata": {
    "id": "xfPYO37EoKBb"
   },
   "outputs": [],
   "source": [
    "r=4\n",
    "N=10000"
   ]
  },
  {
   "cell_type": "code",
   "execution_count": 3,
   "metadata": {
    "id": "EGUZ3KpqoSWA"
   },
   "outputs": [],
   "source": [
    "lambd=float(0.9999)"
   ]
  },
  {
   "cell_type": "code",
   "execution_count": 4,
   "metadata": {
    "id": "LqzIK7XgoV7w"
   },
   "outputs": [],
   "source": [
    "D=lambd**(1.0*np.arange(N))"
   ]
  },
  {
   "cell_type": "code",
   "execution_count": 5,
   "metadata": {
    "colab": {
     "base_uri": "https://localhost:8080/",
     "height": 447
    },
    "id": "hi0ipOIYonoF",
    "outputId": "8f48c3e4-f8ba-430c-d681-5a7cfd652425"
   },
   "outputs": [
    {
     "data": {
      "text/plain": [
       "[<matplotlib.lines.Line2D at 0x2ae02a214880>]"
      ]
     },
     "execution_count": 5,
     "metadata": {},
     "output_type": "execute_result"
    },
    {
     "data": {
      "image/png": "[encoded data removed]",
      "text/plain": [
       "<Figure size 432x288 with 1 Axes>"
      ]
     },
     "metadata": {
      "needs_background": "light"
     },
     "output_type": "display_data"
    }
   ],
   "source": [
    "plt.plot(D)"
   ]
  },
  {
   "cell_type": "code",
   "execution_count": 7,
   "metadata": {},
   "outputs": [
    {
     "data": {
      "text/latex": [
       "$\\displaystyle \\begin{bmatrix} \n",
       " 9.118 & -2.734 & -2.715 & -2.721 & \\\\\n",
       " -2.734 & 9.130 & -2.727 & -2.715 & \\\\\n",
       " -2.715 & -2.727 & 9.068 & -2.759 & \\\\\n",
       " -2.721 & -2.715 & -2.759 & 9.148 & \\\\\n",
       "\\end{bmatrix}$"
      ],
      "text/plain": [
       "<IPython.core.display.Math object>"
      ]
     },
     "metadata": {},
     "output_type": "display_data"
    }
   ],
   "source": [
    "H=np.random.rand(r,N)\n",
    "RH=H@H.T/N\n",
    "BH = np.linalg.inv(RH)\n",
    "\n",
    "display_matrix(BH)"
   ]
  },
  {
   "cell_type": "code",
   "execution_count": 50,
   "metadata": {},
   "outputs": [],
   "source": [
    "B = BH\n",
    "B = np.eye(r)\n",
    "lambd = 0.999 \n",
    "gam=(1-lambd)/lambd\n",
    "for k in range(10000):\n",
    "    h = H[:,k]\n",
    "    z= B @ h\n",
    "    B_update = np.outer(z, z)\n",
    "    B = (1 / lambd) * (B - gam * B_update)"
   ]
  },
  {
   "cell_type": "code",
   "execution_count": 51,
   "metadata": {},
   "outputs": [
    {
     "data": {
      "text/plain": [
       "array([[1.02173038, 1.02551994, 1.09333009, 0.96205711],\n",
       "       [1.02551994, 0.97901107, 0.82370064, 1.10466634],\n",
       "       [1.09333009, 0.82370064, 0.97360581, 0.98274164],\n",
       "       [0.96205711, 1.10466634, 0.98274164, 1.01806452]])"
      ]
     },
     "execution_count": 51,
     "metadata": {},
     "output_type": "execute_result"
    }
   ],
   "source": [
    "B / BH"
   ]
  },
  {
   "cell_type": "code",
   "execution_count": 119,
   "metadata": {
    "id": "XTVATDU4oyHL"
   },
   "outputs": [],
   "source": [
    "H=np.random.rand(r,N)\n",
    "RH=H@np.diag(D)@H.T*(1-lambd)"
   ]
  },
  {
   "cell_type": "code",
   "execution_count": 120,
   "metadata": {
    "colab": {
     "base_uri": "https://localhost:8080/"
    },
    "id": "BK1YTllMpeiR",
    "outputId": "da98bb8f-1bad-45fc-9a32-3c7386d758f4"
   },
   "outputs": [
    {
     "data": {
      "text/plain": [
       "array([[0.21028091, 0.15817488, 0.15802188, 0.15841528],\n",
       "       [0.15817488, 0.21118517, 0.15829724, 0.15808247],\n",
       "       [0.15802188, 0.15829724, 0.21295493, 0.15827601],\n",
       "       [0.15841528, 0.15808247, 0.15827601, 0.21111535]])"
      ]
     },
     "execution_count": 120,
     "metadata": {},
     "output_type": "execute_result"
    }
   ],
   "source": [
    "RH"
   ]
  },
  {
   "cell_type": "code",
   "execution_count": 205,
   "metadata": {
    "id": "OVioHaa94hps"
   },
   "outputs": [],
   "source": [
    "RH=H@H.T/N"
   ]
  },
  {
   "cell_type": "code",
   "execution_count": 206,
   "metadata": {
    "colab": {
     "base_uri": "https://localhost:8080/"
    },
    "id": "p21KE3SpppPM",
    "outputId": "585936e0-5587-4b6a-ca87-46ebe26e3a59"
   },
   "outputs": [
    {
     "data": {
      "text/plain": [
       "array([[ 9.25170253, -2.76044729, -2.68618602, -2.85591277],\n",
       "       [-2.76044729,  9.16664377, -2.71846851, -2.75751428],\n",
       "       [-2.68618602, -2.71846851,  8.99124426, -2.68922162],\n",
       "       [-2.85591277, -2.75751428, -2.68922162,  9.22006253]])"
      ]
     },
     "execution_count": 206,
     "metadata": {},
     "output_type": "execute_result"
    }
   ],
   "source": [
    "np.linalg.inv(RH)"
   ]
  },
  {
   "cell_type": "code",
   "execution_count": 207,
   "metadata": {
    "id": "_gNSw9QupsHU"
   },
   "outputs": [],
   "source": [
    "B=np.linalg.inv(H@H.T/N)#np.linalg.inv(RH)"
   ]
  },
  {
   "cell_type": "code",
   "execution_count": 208,
   "metadata": {
    "colab": {
     "base_uri": "https://localhost:8080/"
    },
    "id": "eoaE6gg206-u",
    "outputId": "32f0fb63-e5fd-4efa-dd12-1b8b3da0ddca"
   },
   "outputs": [
    {
     "data": {
      "text/plain": [
       "0.000100010001000089"
      ]
     },
     "execution_count": 208,
     "metadata": {},
     "output_type": "execute_result"
    }
   ],
   "source": [
    "gam=(1-lambd)/lambd\n",
    "gam"
   ]
  },
  {
   "cell_type": "code",
   "execution_count": 15,
   "metadata": {
    "id": "QfDd83OlzbLG"
   },
   "outputs": [],
   "source": [
    "for k in range(100):\n",
    "  h=H[:,N-k-1]\n",
    "  z=B@h\n",
    "  B=1/lambd*(B-1/(1/gam+z.T@h)*z@z.T)"
   ]
  },
  {
   "cell_type": "code",
   "execution_count": 16,
   "metadata": {},
   "outputs": [
    {
     "data": {
      "text/plain": [
       "0.9123656161176891"
      ]
     },
     "execution_count": 16,
     "metadata": {},
     "output_type": "execute_result"
    }
   ],
   "source": [
    "z @ z.T"
   ]
  },
  {
   "cell_type": "code",
   "execution_count": 212,
   "metadata": {
    "colab": {
     "base_uri": "https://localhost:8080/"
    },
    "id": "dLLHmmgrzxbr",
    "outputId": "d1090692-673c-4ca4-b7a5-d2b03aa8a2bb"
   },
   "outputs": [
    {
     "data": {
      "text/plain": [
       "array([[ 8.71515885, -3.53966475, -3.46390322, -3.63705885],\n",
       "       [-3.53966475,  8.62838171, -3.49683789, -3.53667248],\n",
       "       [-3.46390322, -3.49683789,  8.44943871, -3.46700015],\n",
       "       [-3.63705885, -3.53667248, -3.46700015,  8.68287966]])"
      ]
     },
     "execution_count": 212,
     "metadata": {},
     "output_type": "execute_result"
    }
   ],
   "source": [
    "B"
   ]
  },
  {
   "cell_type": "code",
   "execution_count": 112,
   "metadata": {
    "colab": {
     "base_uri": "https://localhost:8080/"
    },
    "id": "mw-cHEo5zysZ",
    "outputId": "4e684a1e-9d6b-4b7f-96c3-2866404fede4"
   },
   "outputs": [
    {
     "data": {
      "text/plain": [
       "array([[ 9.34856025, -2.89279308, -2.68813321, -2.9146026 ],\n",
       "       [-2.89279308,  9.16855251, -2.62698253, -2.68994685],\n",
       "       [-2.68813321, -2.62698253,  9.22678604, -2.91837489],\n",
       "       [-2.9146026 , -2.68994685, -2.91837489,  9.39344454]])"
      ]
     },
     "execution_count": 112,
     "metadata": {},
     "output_type": "execute_result"
    }
   ],
   "source": [
    "np.linalg.pinv(H@H.T/N)"
   ]
  },
  {
   "cell_type": "code",
   "execution_count": 38,
   "metadata": {
    "colab": {
     "base_uri": "https://localhost:8080/"
    },
    "id": "F35wtEv90KsQ",
    "outputId": "f366538b-4f6e-485d-ef9e-4df2f47e48b3"
   },
   "outputs": [
    {
     "data": {
      "text/plain": [
       "0.0010010010010010019"
      ]
     },
     "execution_count": 38,
     "metadata": {},
     "output_type": "execute_result"
    }
   ],
   "source": [
    "(1-lambd)/lambd"
   ]
  },
  {
   "cell_type": "code",
   "execution_count": null,
   "metadata": {
    "id": "4Pwz_aU60Maq"
   },
   "outputs": [],
   "source": []
  }
 ],
 "metadata": {
  "colab": {
   "provenance": []
  },
  "kernelspec": {
   "display_name": "Python 3 (ipykernel)",
   "language": "python",
   "name": "python3"
  },
  "language_info": {
   "codemirror_mode": {
    "name": "ipython",
    "version": 3
   },
   "file_extension": ".py",
   "mimetype": "text/x-python",
   "name": "python",
   "nbconvert_exporter": "python",
   "pygments_lexer": "ipython3",
   "version": "3.8.8"
  }
 },
 "nbformat": 4,
 "nbformat_minor": 1
}
