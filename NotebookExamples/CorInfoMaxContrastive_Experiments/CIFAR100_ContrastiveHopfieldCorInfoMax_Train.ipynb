{
 "cells": [
  {
   "cell_type": "code",
   "execution_count": 1,
   "id": "89b20c38",
   "metadata": {},
   "outputs": [],
   "source": [
    "import sys\n",
    "sys.path.append(\"../../src\")\n",
    "import torch\n",
    "import matplotlib.pyplot as plt\n",
    "import numpy as np\n",
    "import torchvision\n",
    "import torch.nn.functional as F\n",
    "\n",
    "import glob\n",
    "import os\n",
    "from datetime import datetime\n",
    "import time\n",
    "import math\n",
    "from tqdm import tqdm\n",
    "\n",
    "from itertools import repeat\n",
    "from torch.nn.parameter import Parameter\n",
    "import collections\n",
    "import matplotlib\n",
    "from torch_utils import *\n",
    "from ContrastiveModels import *\n",
    "from visualization import *\n",
    "# matplotlib.use('Agg')"
   ]
  },
  {
   "cell_type": "code",
   "execution_count": 2,
   "id": "ef0c0a15",
   "metadata": {},
   "outputs": [
    {
     "data": {
      "text/plain": [
       "device(type='cuda', index=0)"
      ]
     },
     "execution_count": 2,
     "metadata": {},
     "output_type": "execute_result"
    }
   ],
   "source": [
    "device = torch.device('cuda:0' if torch.cuda.is_available() else 'cpu')\n",
    "device"
   ]
  },
  {
   "cell_type": "code",
   "execution_count": 3,
   "id": "128dc72a",
   "metadata": {},
   "outputs": [
    {
     "name": "stdout",
     "output_type": "stream",
     "text": [
      "Files already downloaded and verified\n",
      "Files already downloaded and verified\n"
     ]
    }
   ],
   "source": [
    "transform = torchvision.transforms.Compose([torchvision.transforms.ToTensor(), \n",
    "                                            torchvision.transforms.Normalize(mean=(0.4914, 0.4822, 0.4465), \n",
    "                                            std=(3*0.2023, 3*0.1994, 3*0.2010))])\n",
    "\n",
    "cifar_dset_train = torchvision.datasets.CIFAR100('../../data', train=True, transform=transform, target_transform=None, download=True)\n",
    "train_loader = torch.utils.data.DataLoader(cifar_dset_train, batch_size=20, shuffle=True, num_workers=0)\n",
    "\n",
    "cifar_dset_test = torchvision.datasets.CIFAR100('../../data', train=False, transform=transform, target_transform=None, download=True)\n",
    "test_loader = torch.utils.data.DataLoader(cifar_dset_test, batch_size=20, shuffle=False, num_workers=0)"
   ]
  },
  {
   "cell_type": "code",
   "execution_count": 4,
   "id": "8c77e36f",
   "metadata": {},
   "outputs": [],
   "source": [
    "activation = hard_sigmoid\n",
    "architecture = [int(32*32*3), 2000, 1000, 100]\n",
    "\n",
    "beta = 1\n",
    "lambda_ = 0.99999\n",
    "epsilon = 0.15\n",
    "one_over_epsilon = 1 / epsilon\n",
    "lr_start =  {'ff' : np.array([0.16, 0.13, 0.08]), 'fb': np.array([np.nan, 0.06, 0.04])}\n",
    "\n",
    "neural_lr_start = 0.06\n",
    "neural_lr_stop = 0.001\n",
    "neural_lr_rule = \"constant\"\n",
    "neural_lr_decay_multiplier = 0.01\n",
    "neural_dynamic_iterations_nudged = 20\n",
    "neural_dynamic_iterations_free = 50\n",
    "hopfield_g = 0.1\n",
    "use_random_sign_beta = True\n",
    "use_three_phase = False\n",
    "weight_decay = False\n",
    "\n",
    "model = ContrastiveCorInfoMaxHopfield(architecture = architecture, lambda_ = lambda_, \n",
    "                                      epsilon = epsilon, activation = activation)"
   ]
  },
  {
   "cell_type": "code",
   "execution_count": 6,
   "id": "5c6107ac",
   "metadata": {},
   "outputs": [
    {
     "name": "stderr",
     "output_type": "stream",
     "text": [
      "2500it [04:18,  9.66it/s]\n",
      "0it [00:00, ?it/s]"
     ]
    },
    {
     "name": "stdout",
     "output_type": "stream",
     "text": [
      "Epoch : 1, (top (1, 5)) Train Accuracy : [0.03582 0.11042], Test Accuracy : [0.0354 0.1049]\n",
      "Free Information ratio: [0.49141014 0.02796377]\n",
      "Nudged Information ratio: [0.49141023 0.02796373]\n"
     ]
    },
    {
     "name": "stderr",
     "output_type": "stream",
     "text": [
      "2500it [04:19,  9.62it/s]\n",
      "0it [00:00, ?it/s]"
     ]
    },
    {
     "name": "stdout",
     "output_type": "stream",
     "text": [
      "Epoch : 2, (top (1, 5)) Train Accuracy : [0.05852 0.16064], Test Accuracy : [0.0561 0.1602]\n",
      "Free Information ratio: [0.53715104 0.04294404]\n",
      "Nudged Information ratio: [0.53715114 0.04294397]\n"
     ]
    },
    {
     "name": "stderr",
     "output_type": "stream",
     "text": [
      "2500it [04:20,  9.61it/s]\n",
      "0it [00:00, ?it/s]"
     ]
    },
    {
     "name": "stdout",
     "output_type": "stream",
     "text": [
      "Epoch : 3, (top (1, 5)) Train Accuracy : [0.0779  0.18434], Test Accuracy : [0.0762 0.1794]\n",
      "Free Information ratio: [0.59552064 0.05321768]\n",
      "Nudged Information ratio: [0.59552064 0.05321755]\n"
     ]
    },
    {
     "name": "stderr",
     "output_type": "stream",
     "text": [
      "2500it [04:19,  9.62it/s]\n",
      "0it [00:00, ?it/s]"
     ]
    },
    {
     "name": "stdout",
     "output_type": "stream",
     "text": [
      "Epoch : 4, (top (1, 5)) Train Accuracy : [0.09194 0.21548], Test Accuracy : [0.0828 0.2059]\n",
      "Free Information ratio: [0.67832134 0.06655728]\n",
      "Nudged Information ratio: [0.67832126 0.06655709]\n"
     ]
    },
    {
     "name": "stderr",
     "output_type": "stream",
     "text": [
      "2500it [04:19,  9.62it/s]\n",
      "0it [00:00, ?it/s]"
     ]
    },
    {
     "name": "stdout",
     "output_type": "stream",
     "text": [
      "Epoch : 5, (top (1, 5)) Train Accuracy : [0.10452 0.23564], Test Accuracy : [0.0944 0.2262]\n",
      "Free Information ratio: [0.68065983 0.06767387]\n",
      "Nudged Information ratio: [0.68065958 0.0676736 ]\n"
     ]
    },
    {
     "name": "stderr",
     "output_type": "stream",
     "text": [
      "2500it [04:19,  9.63it/s]\n",
      "0it [00:00, ?it/s]"
     ]
    },
    {
     "name": "stdout",
     "output_type": "stream",
     "text": [
      "Epoch : 6, (top (1, 5)) Train Accuracy : [0.11842 0.26212], Test Accuracy : [0.109  0.2471]\n",
      "Free Information ratio: [0.7803231  0.08142731]\n",
      "Nudged Information ratio: [0.7803229  0.08142702]\n"
     ]
    },
    {
     "name": "stderr",
     "output_type": "stream",
     "text": [
      "2500it [04:19,  9.64it/s]\n",
      "0it [00:00, ?it/s]"
     ]
    },
    {
     "name": "stdout",
     "output_type": "stream",
     "text": [
      "Epoch : 7, (top (1, 5)) Train Accuracy : [0.13414 0.27994], Test Accuracy : [0.1198 0.2582]\n",
      "Free Information ratio: [0.78247603 0.08678753]\n",
      "Nudged Information ratio: [0.78247561 0.08678712]\n"
     ]
    },
    {
     "name": "stderr",
     "output_type": "stream",
     "text": [
      "2500it [04:19,  9.64it/s]\n",
      "0it [00:00, ?it/s]"
     ]
    },
    {
     "name": "stdout",
     "output_type": "stream",
     "text": [
      "Epoch : 8, (top (1, 5)) Train Accuracy : [0.14856 0.30006], Test Accuracy : [0.1322 0.2753]\n",
      "Free Information ratio: [0.83327643 0.09126887]\n",
      "Nudged Information ratio: [0.83327587 0.09126839]\n"
     ]
    },
    {
     "name": "stderr",
     "output_type": "stream",
     "text": [
      "2500it [04:19,  9.63it/s]\n",
      "0it [00:00, ?it/s]"
     ]
    },
    {
     "name": "stdout",
     "output_type": "stream",
     "text": [
      "Epoch : 9, (top (1, 5)) Train Accuracy : [0.16012 0.3144 ], Test Accuracy : [0.1432 0.2952]\n",
      "Free Information ratio: [0.80797452 0.08654642]\n",
      "Nudged Information ratio: [0.80797392 0.08654587]\n"
     ]
    },
    {
     "name": "stderr",
     "output_type": "stream",
     "text": [
      "2500it [04:19,  9.63it/s]\n",
      "0it [00:00, ?it/s]"
     ]
    },
    {
     "name": "stdout",
     "output_type": "stream",
     "text": [
      "Epoch : 10, (top (1, 5)) Train Accuracy : [0.16844 0.32118], Test Accuracy : [0.1464 0.297 ]\n",
      "Free Information ratio: [0.9472003  0.10963241]\n",
      "Nudged Information ratio: [0.94719959 0.10963185]\n"
     ]
    },
    {
     "name": "stderr",
     "output_type": "stream",
     "text": [
      "2500it [04:19,  9.62it/s]\n",
      "0it [00:00, ?it/s]"
     ]
    },
    {
     "name": "stdout",
     "output_type": "stream",
     "text": [
      "Epoch : 11, (top (1, 5)) Train Accuracy : [0.17614 0.33122], Test Accuracy : [0.1516 0.3033]\n",
      "Free Information ratio: [0.86294278 0.1031989 ]\n",
      "Nudged Information ratio: [0.86294185 0.10319813]\n"
     ]
    },
    {
     "name": "stderr",
     "output_type": "stream",
     "text": [
      "2500it [04:19,  9.62it/s]\n",
      "0it [00:00, ?it/s]"
     ]
    },
    {
     "name": "stdout",
     "output_type": "stream",
     "text": [
      "Epoch : 12, (top (1, 5)) Train Accuracy : [0.1868 0.3473], Test Accuracy : [0.156 0.317]\n",
      "Free Information ratio: [0.85497915 0.09726416]\n",
      "Nudged Information ratio: [0.85497807 0.0972633 ]\n"
     ]
    },
    {
     "name": "stderr",
     "output_type": "stream",
     "text": [
      "2500it [04:19,  9.62it/s]\n",
      "0it [00:00, ?it/s]"
     ]
    },
    {
     "name": "stdout",
     "output_type": "stream",
     "text": [
      "Epoch : 13, (top (1, 5)) Train Accuracy : [0.19146 0.3573 ], Test Accuracy : [0.1617 0.3259]\n",
      "Free Information ratio: [0.95852491 0.11498125]\n",
      "Nudged Information ratio: [0.95852372 0.11498025]\n"
     ]
    },
    {
     "name": "stderr",
     "output_type": "stream",
     "text": [
      "2500it [04:20,  9.61it/s]\n",
      "0it [00:00, ?it/s]"
     ]
    },
    {
     "name": "stdout",
     "output_type": "stream",
     "text": [
      "Epoch : 14, (top (1, 5)) Train Accuracy : [0.20132 0.3622 ], Test Accuracy : [0.1716 0.33  ]\n",
      "Free Information ratio: [0.92046303 0.10840224]\n",
      "Nudged Information ratio: [0.92046188 0.10840118]\n"
     ]
    },
    {
     "name": "stderr",
     "output_type": "stream",
     "text": [
      "2500it [04:31,  9.20it/s]\n",
      "0it [00:00, ?it/s]"
     ]
    },
    {
     "name": "stdout",
     "output_type": "stream",
     "text": [
      "Epoch : 15, (top (1, 5)) Train Accuracy : [0.20666 0.37338], Test Accuracy : [0.1741 0.337 ]\n",
      "Free Information ratio: [0.97130478 0.11919089]\n",
      "Nudged Information ratio: [0.97130362 0.11918985]\n"
     ]
    },
    {
     "name": "stderr",
     "output_type": "stream",
     "text": [
      "2500it [04:19,  9.62it/s]\n",
      "0it [00:00, ?it/s]"
     ]
    },
    {
     "name": "stdout",
     "output_type": "stream",
     "text": [
      "Epoch : 16, (top (1, 5)) Train Accuracy : [0.21798 0.37108], Test Accuracy : [0.1827 0.3402]\n",
      "Free Information ratio: [1.04854301 0.13113598]\n",
      "Nudged Information ratio: [1.04854184 0.1311349 ]\n"
     ]
    },
    {
     "name": "stderr",
     "output_type": "stream",
     "text": [
      "2500it [04:19,  9.62it/s]\n",
      "0it [00:00, ?it/s]"
     ]
    },
    {
     "name": "stdout",
     "output_type": "stream",
     "text": [
      "Epoch : 17, (top (1, 5)) Train Accuracy : [0.22184 0.37554], Test Accuracy : [0.1869 0.3418]\n",
      "Free Information ratio: [0.97255353 0.1180665 ]\n",
      "Nudged Information ratio: [0.97255221 0.11806526]\n"
     ]
    },
    {
     "name": "stderr",
     "output_type": "stream",
     "text": [
      "2500it [04:19,  9.62it/s]\n",
      "0it [00:00, ?it/s]"
     ]
    },
    {
     "name": "stdout",
     "output_type": "stream",
     "text": [
      "Epoch : 18, (top (1, 5)) Train Accuracy : [0.22336 0.38708], Test Accuracy : [0.1836 0.349 ]\n",
      "Free Information ratio: [0.93235753 0.11839073]\n",
      "Nudged Information ratio: [0.9323561  0.11838947]\n"
     ]
    },
    {
     "name": "stderr",
     "output_type": "stream",
     "text": [
      "2500it [04:21,  9.56it/s]\n",
      "0it [00:00, ?it/s]"
     ]
    },
    {
     "name": "stdout",
     "output_type": "stream",
     "text": [
      "Epoch : 19, (top (1, 5)) Train Accuracy : [0.2291 0.392 ], Test Accuracy : [0.1884 0.3481]\n",
      "Free Information ratio: [0.9572057  0.11624499]\n",
      "Nudged Information ratio: [0.95720427 0.11624363]\n"
     ]
    },
    {
     "name": "stderr",
     "output_type": "stream",
     "text": [
      "2500it [04:20,  9.61it/s]\n",
      "0it [00:00, ?it/s]"
     ]
    },
    {
     "name": "stdout",
     "output_type": "stream",
     "text": [
      "Epoch : 20, (top (1, 5)) Train Accuracy : [0.23744 0.39846], Test Accuracy : [0.1951 0.3546]\n",
      "Free Information ratio: [0.97461091 0.12115503]\n",
      "Nudged Information ratio: [0.97460922 0.12115347]\n"
     ]
    },
    {
     "name": "stderr",
     "output_type": "stream",
     "text": [
      "2500it [04:20,  9.61it/s]\n",
      "0it [00:00, ?it/s]"
     ]
    },
    {
     "name": "stdout",
     "output_type": "stream",
     "text": [
      "Epoch : 21, (top (1, 5)) Train Accuracy : [0.25256 0.41304], Test Accuracy : [0.2047 0.3698]\n",
      "Free Information ratio: [0.91814682 0.10789619]\n",
      "Nudged Information ratio: [0.91814514 0.10789457]\n"
     ]
    },
    {
     "name": "stderr",
     "output_type": "stream",
     "text": [
      "2500it [04:20,  9.61it/s]\n",
      "0it [00:00, ?it/s]"
     ]
    },
    {
     "name": "stdout",
     "output_type": "stream",
     "text": [
      "Epoch : 22, (top (1, 5)) Train Accuracy : [0.25294 0.41786], Test Accuracy : [0.2057 0.3755]\n",
      "Free Information ratio: [0.91385566 0.10800601]\n",
      "Nudged Information ratio: [0.91385397 0.10800436]\n"
     ]
    },
    {
     "name": "stderr",
     "output_type": "stream",
     "text": [
      "2500it [04:19,  9.62it/s]\n",
      "0it [00:00, ?it/s]"
     ]
    },
    {
     "name": "stdout",
     "output_type": "stream",
     "text": [
      "Epoch : 23, (top (1, 5)) Train Accuracy : [0.25378 0.41718], Test Accuracy : [0.2063 0.3762]\n",
      "Free Information ratio: [0.8939077  0.10577874]\n",
      "Nudged Information ratio: [0.89390575 0.10577686]\n"
     ]
    },
    {
     "name": "stderr",
     "output_type": "stream",
     "text": [
      "2500it [04:20,  9.61it/s]\n",
      "0it [00:00, ?it/s]"
     ]
    },
    {
     "name": "stdout",
     "output_type": "stream",
     "text": [
      "Epoch : 24, (top (1, 5)) Train Accuracy : [0.25588 0.41918], Test Accuracy : [0.206  0.3752]\n",
      "Free Information ratio: [0.94582479 0.10819518]\n",
      "Nudged Information ratio: [0.9458229  0.10819329]\n"
     ]
    },
    {
     "name": "stderr",
     "output_type": "stream",
     "text": [
      "2500it [04:20,  9.60it/s]\n",
      "0it [00:00, ?it/s]"
     ]
    },
    {
     "name": "stdout",
     "output_type": "stream",
     "text": [
      "Epoch : 25, (top (1, 5)) Train Accuracy : [0.25558 0.4179 ], Test Accuracy : [0.2058 0.374 ]\n",
      "Free Information ratio: [0.912628   0.10190736]\n",
      "Nudged Information ratio: [0.9126262  0.10190553]\n"
     ]
    },
    {
     "name": "stderr",
     "output_type": "stream",
     "text": [
      "2500it [04:20,  9.60it/s]\n",
      "0it [00:00, ?it/s]"
     ]
    },
    {
     "name": "stdout",
     "output_type": "stream",
     "text": [
      "Epoch : 26, (top (1, 5)) Train Accuracy : [0.25752 0.42094], Test Accuracy : [0.2045 0.3773]\n",
      "Free Information ratio: [0.87679665 0.10222633]\n",
      "Nudged Information ratio: [0.8767946  0.10222434]\n"
     ]
    },
    {
     "name": "stderr",
     "output_type": "stream",
     "text": [
      "2500it [04:20,  9.59it/s]\n",
      "0it [00:00, ?it/s]"
     ]
    },
    {
     "name": "stdout",
     "output_type": "stream",
     "text": [
      "Epoch : 27, (top (1, 5)) Train Accuracy : [0.25722 0.42152], Test Accuracy : [0.2072 0.378 ]\n",
      "Free Information ratio: [0.92044971 0.10397874]\n",
      "Nudged Information ratio: [0.92044764 0.10397666]\n"
     ]
    },
    {
     "name": "stderr",
     "output_type": "stream",
     "text": [
      "2500it [04:20,  9.60it/s]\n",
      "0it [00:00, ?it/s]"
     ]
    },
    {
     "name": "stdout",
     "output_type": "stream",
     "text": [
      "Epoch : 28, (top (1, 5)) Train Accuracy : [0.25856 0.42412], Test Accuracy : [0.2061 0.3791]\n",
      "Free Information ratio: [0.87112747 0.09916928]\n",
      "Nudged Information ratio: [0.87112523 0.09916703]\n"
     ]
    },
    {
     "name": "stderr",
     "output_type": "stream",
     "text": [
      "2500it [04:20,  9.60it/s]\n",
      "0it [00:00, ?it/s]"
     ]
    },
    {
     "name": "stdout",
     "output_type": "stream",
     "text": [
      "Epoch : 29, (top (1, 5)) Train Accuracy : [0.25924 0.42422], Test Accuracy : [0.2072 0.3791]\n",
      "Free Information ratio: [0.87421484 0.10138531]\n",
      "Nudged Information ratio: [0.87421285 0.10138316]\n"
     ]
    },
    {
     "name": "stderr",
     "output_type": "stream",
     "text": [
      "2500it [04:20,  9.61it/s]\n",
      "0it [00:00, ?it/s]"
     ]
    },
    {
     "name": "stdout",
     "output_type": "stream",
     "text": [
      "Epoch : 30, (top (1, 5)) Train Accuracy : [0.25984 0.42542], Test Accuracy : [0.2076 0.3801]\n",
      "Free Information ratio: [0.84571259 0.09818927]\n",
      "Nudged Information ratio: [0.84571046 0.09818687]\n"
     ]
    },
    {
     "name": "stderr",
     "output_type": "stream",
     "text": [
      "2500it [04:20,  9.60it/s]\n",
      "0it [00:00, ?it/s]"
     ]
    },
    {
     "name": "stdout",
     "output_type": "stream",
     "text": [
      "Epoch : 31, (top (1, 5)) Train Accuracy : [0.2603  0.42394], Test Accuracy : [0.2067 0.3783]\n",
      "Free Information ratio: [0.87816482 0.10164463]\n",
      "Nudged Information ratio: [0.87816281 0.1016423 ]\n"
     ]
    },
    {
     "name": "stderr",
     "output_type": "stream",
     "text": [
      "2500it [04:20,  9.60it/s]\n",
      "0it [00:00, ?it/s]"
     ]
    },
    {
     "name": "stdout",
     "output_type": "stream",
     "text": [
      "Epoch : 32, (top (1, 5)) Train Accuracy : [0.26012 0.4236 ], Test Accuracy : [0.2078 0.379 ]\n",
      "Free Information ratio: [0.86653073 0.09869923]\n",
      "Nudged Information ratio: [0.86652862 0.09869679]\n"
     ]
    },
    {
     "name": "stderr",
     "output_type": "stream",
     "text": [
      "2500it [04:22,  9.53it/s]\n",
      "0it [00:00, ?it/s]"
     ]
    },
    {
     "name": "stdout",
     "output_type": "stream",
     "text": [
      "Epoch : 33, (top (1, 5)) Train Accuracy : [0.26142 0.42474], Test Accuracy : [0.208 0.379]\n",
      "Free Information ratio: [0.8021536  0.09275154]\n",
      "Nudged Information ratio: [0.80215132 0.09274888]\n"
     ]
    },
    {
     "name": "stderr",
     "output_type": "stream",
     "text": [
      "2500it [04:21,  9.54it/s]\n",
      "0it [00:00, ?it/s]"
     ]
    },
    {
     "name": "stdout",
     "output_type": "stream",
     "text": [
      "Epoch : 34, (top (1, 5)) Train Accuracy : [0.26094 0.42428], Test Accuracy : [0.2074 0.3787]\n",
      "Free Information ratio: [0.83950543 0.0921206 ]\n",
      "Nudged Information ratio: [0.83950324 0.09211811]\n"
     ]
    },
    {
     "name": "stderr",
     "output_type": "stream",
     "text": [
      "2500it [04:21,  9.54it/s]\n",
      "0it [00:00, ?it/s]"
     ]
    },
    {
     "name": "stdout",
     "output_type": "stream",
     "text": [
      "Epoch : 35, (top (1, 5)) Train Accuracy : [0.26122 0.42552], Test Accuracy : [0.207  0.3808]\n",
      "Free Information ratio: [0.88338218 0.09998862]\n",
      "Nudged Information ratio: [0.88338025 0.09998617]\n"
     ]
    },
    {
     "name": "stderr",
     "output_type": "stream",
     "text": [
      "2500it [04:21,  9.55it/s]\n",
      "0it [00:00, ?it/s]"
     ]
    },
    {
     "name": "stdout",
     "output_type": "stream",
     "text": [
      "Epoch : 36, (top (1, 5)) Train Accuracy : [0.26158 0.42596], Test Accuracy : [0.2073 0.3784]\n",
      "Free Information ratio: [0.8613922  0.10109623]\n",
      "Nudged Information ratio: [0.86138998 0.10109355]\n"
     ]
    },
    {
     "name": "stderr",
     "output_type": "stream",
     "text": [
      "2500it [04:21,  9.55it/s]\n",
      "0it [00:00, ?it/s]"
     ]
    },
    {
     "name": "stdout",
     "output_type": "stream",
     "text": [
      "Epoch : 37, (top (1, 5)) Train Accuracy : [0.26162 0.42512], Test Accuracy : [0.2078 0.3789]\n",
      "Free Information ratio: [0.83397205 0.09614007]\n",
      "Nudged Information ratio: [0.83396975 0.09613735]\n"
     ]
    },
    {
     "name": "stderr",
     "output_type": "stream",
     "text": [
      "2500it [04:21,  9.57it/s]\n",
      "0it [00:00, ?it/s]"
     ]
    },
    {
     "name": "stdout",
     "output_type": "stream",
     "text": [
      "Epoch : 38, (top (1, 5)) Train Accuracy : [0.2619 0.4258], Test Accuracy : [0.208  0.3784]\n",
      "Free Information ratio: [0.85791955 0.09407373]\n",
      "Nudged Information ratio: [0.85791716 0.09407093]\n"
     ]
    },
    {
     "name": "stderr",
     "output_type": "stream",
     "text": [
      "2500it [04:21,  9.57it/s]\n",
      "0it [00:00, ?it/s]"
     ]
    },
    {
     "name": "stdout",
     "output_type": "stream",
     "text": [
      "Epoch : 39, (top (1, 5)) Train Accuracy : [0.26196 0.42578], Test Accuracy : [0.2078 0.3793]\n",
      "Free Information ratio: [0.84936801 0.09419684]\n",
      "Nudged Information ratio: [0.84936576 0.09419396]\n"
     ]
    },
    {
     "name": "stderr",
     "output_type": "stream",
     "text": [
      "0it [00:00, ?it/s]95it/s]"
     ]
    },
    {
     "name": "stdout",
     "output_type": "stream",
     "text": [
      "Epoch : 40, (top (1, 5)) Train Accuracy : [0.26206 0.4265 ], Test Accuracy : [0.2075 0.3791]\n",
      "Free Information ratio: [0.88846852 0.10088112]\n",
      "Nudged Information ratio: [0.88846621 0.10087833]\n"
     ]
    },
    {
     "name": "stderr",
     "output_type": "stream",
     "text": [
      "2500it [04:20,  9.58it/s]\n",
      "0it [00:00, ?it/s]"
     ]
    },
    {
     "name": "stdout",
     "output_type": "stream",
     "text": [
      "Epoch : 41, (top (1, 5)) Train Accuracy : [0.2622  0.42678], Test Accuracy : [0.2076 0.379 ]\n",
      "Free Information ratio: [0.84727296 0.09559187]\n",
      "Nudged Information ratio: [0.84727048 0.09558887]\n"
     ]
    },
    {
     "name": "stderr",
     "output_type": "stream",
     "text": [
      "599it [01:03,  9.98it/s]IOPub message rate exceeded.\n",
      "The notebook server will temporarily stop sending output\n",
      "to the client in order to avoid crashing it.\n",
      "To change this limit, set the config variable\n",
      "`--NotebookApp.iopub_msg_rate_limit`.\n",
      "\n",
      "Current values:\n",
      "NotebookApp.iopub_msg_rate_limit=1000.0 (msgs/sec)\n",
      "NotebookApp.rate_limit_window=3.0 (secs)\n",
      "\n",
      "2500it [04:20,  9.59it/s]\n",
      "0it [00:00, ?it/s]"
     ]
    },
    {
     "name": "stdout",
     "output_type": "stream",
     "text": [
      "Epoch : 46, (top (1, 5)) Train Accuracy : [0.26298 0.42758], Test Accuracy : [0.2084 0.38  ]\n",
      "Free Information ratio: [0.77653911 0.08865997]\n",
      "Nudged Information ratio: [0.77653636 0.08865644]\n"
     ]
    },
    {
     "name": "stderr",
     "output_type": "stream",
     "text": [
      "98it [00:11,  9.96it/s]IOPub message rate exceeded.\n",
      "The notebook server will temporarily stop sending output\n",
      "to the client in order to avoid crashing it.\n",
      "To change this limit, set the config variable\n",
      "`--NotebookApp.iopub_msg_rate_limit`.\n",
      "\n",
      "Current values:\n",
      "NotebookApp.iopub_msg_rate_limit=1000.0 (msgs/sec)\n",
      "NotebookApp.rate_limit_window=3.0 (secs)\n",
      "\n",
      "2500it [04:20,  9.59it/s]\n",
      "0it [00:00, ?it/s]"
     ]
    },
    {
     "name": "stdout",
     "output_type": "stream",
     "text": [
      "Epoch : 47, (top (1, 5)) Train Accuracy : [0.26298 0.42778], Test Accuracy : [0.2079 0.3806]\n",
      "Free Information ratio: [0.7440799  0.08098665]\n",
      "Nudged Information ratio: [0.74407711 0.08098305]\n"
     ]
    },
    {
     "name": "stderr",
     "output_type": "stream",
     "text": [
      "802it [01:24,  9.92it/s]IOPub message rate exceeded.\n",
      "The notebook server will temporarily stop sending output\n",
      "to the client in order to avoid crashing it.\n",
      "To change this limit, set the config variable\n",
      "`--NotebookApp.iopub_msg_rate_limit`.\n",
      "\n",
      "Current values:\n",
      "NotebookApp.iopub_msg_rate_limit=1000.0 (msgs/sec)\n",
      "NotebookApp.rate_limit_window=3.0 (secs)\n",
      "\n"
     ]
    }
   ],
   "source": [
    "trn_acc_list = []\n",
    "tst_acc_list = []\n",
    "\n",
    "n_epochs = 50\n",
    "lr = lr_start\n",
    "for epoch_ in range(n_epochs):\n",
    "    if epoch_ < 20:\n",
    "        lr = {'ff' : lr_start['ff'] * (0.99)**epoch_, 'fb' : lr_start['fb'] * (0.99)**epoch_}\n",
    "    else:\n",
    "        lr = {'ff' : lr_start['ff'] * (0.9)**epoch_, 'fb' : lr_start['fb'] * (0.9)**epoch_}\n",
    "    for idx, (x, y) in tqdm(enumerate(train_loader)):\n",
    "        x, y = x.to(device), y.to(device)\n",
    "        x = x.view(x.size(0),-1).T\n",
    "        y_one_hot = F.one_hot(y, 100).to(device).T\n",
    "        take_debug_logs_ = (idx % 500 == 0)\n",
    "        if use_random_sign_beta:\n",
    "            rnd_sgn = 2*np.random.randint(2) - 1\n",
    "            beta = rnd_sgn*beta\n",
    "            \n",
    "        neurons = model.batch_step_hopfield( x, y_one_hot, hopfield_g, \n",
    "                                             lr, neural_lr_start, neural_lr_stop, neural_lr_rule, \n",
    "                                             neural_lr_decay_multiplier, neural_dynamic_iterations_free,\n",
    "                                             neural_dynamic_iterations_nudged, beta, \n",
    "                                             use_three_phase, take_debug_logs_, weight_decay)\n",
    "    \n",
    "    trn_acc = evaluateContrastiveCorInfoMaxHopfield_topk( model, train_loader, hopfield_g, neural_lr_start, \n",
    "                                                            neural_lr_stop, neural_lr_rule, \n",
    "                                                            neural_lr_decay_multiplier, \n",
    "                                                            neural_dynamic_iterations_free, \n",
    "                                                            device, topk = (1,5), printing = False)\n",
    "    tst_acc = evaluateContrastiveCorInfoMaxHopfield_topk( model, test_loader, hopfield_g, neural_lr_start, \n",
    "                                                            neural_lr_stop, neural_lr_rule, \n",
    "                                                            neural_lr_decay_multiplier, \n",
    "                                                            neural_dynamic_iterations_free, \n",
    "                                                            device, topk = (1, 5), printing = False)\n",
    "    trn_acc_list.append(trn_acc)\n",
    "    tst_acc_list.append(tst_acc)\n",
    "    \n",
    "    print(\"Epoch : {}, (top {}) Train Accuracy : {}, Test Accuracy : {}\".format( epoch_+1,(1,5), trn_acc, tst_acc))\n",
    "    print(\"Free Information ratio: {}\".format(np.array(model.layerwise_forward_corinfo_list_free)[-1] / np.array(model.layerwise_backward_corinfo_list_free)[-1]))\n",
    "    print(\"Nudged Information ratio: {}\".format(np.array(model.layerwise_forward_corinfo_list_nudged)[-1] / np.array(model.layerwise_backward_corinfo_list_nudged)[-1]))"
   ]
  }
 ],
 "metadata": {
  "kernelspec": {
   "display_name": "Python 3 (ipykernel)",
   "language": "python",
   "name": "python3"
  },
  "language_info": {
   "codemirror_mode": {
    "name": "ipython",
    "version": 3
   },
   "file_extension": ".py",
   "mimetype": "text/x-python",
   "name": "python",
   "nbconvert_exporter": "python",
   "pygments_lexer": "ipython3",
   "version": "3.8.8"
  }
 },
 "nbformat": 4,
 "nbformat_minor": 5
}
