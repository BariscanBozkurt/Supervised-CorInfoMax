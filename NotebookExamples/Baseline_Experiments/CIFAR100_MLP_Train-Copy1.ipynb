{
 "cells": [
  {
   "cell_type": "code",
   "execution_count": 1,
   "id": "5797832a",
   "metadata": {},
   "outputs": [],
   "source": [
    "import sys\n",
    "sys.path.append(\"../../src\")\n",
    "import torch\n",
    "import matplotlib.pyplot as plt\n",
    "import numpy as np\n",
    "import torchvision\n",
    "import torch.nn.functional as F\n",
    "\n",
    "import glob\n",
    "import os\n",
    "from datetime import datetime\n",
    "import time\n",
    "import math\n",
    "from tqdm import tqdm\n",
    "\n",
    "from itertools import repeat\n",
    "from torch.nn.parameter import Parameter\n",
    "import collections\n",
    "import matplotlib\n",
    "from torch_utils import *\n",
    "from ANN import MLP\n",
    "from visualization import *\n",
    "# matplotlib.use('Agg')"
   ]
  },
  {
   "cell_type": "code",
   "execution_count": 2,
   "id": "dcc4b91c",
   "metadata": {},
   "outputs": [
    {
     "data": {
      "text/plain": [
       "device(type='cuda', index=0)"
      ]
     },
     "execution_count": 2,
     "metadata": {},
     "output_type": "execute_result"
    }
   ],
   "source": [
    "device = torch.device('cuda:0' if torch.cuda.is_available() else 'cpu')\n",
    "device"
   ]
  },
  {
   "cell_type": "code",
   "execution_count": 3,
   "id": "2a9edadb",
   "metadata": {},
   "outputs": [
    {
     "name": "stdout",
     "output_type": "stream",
     "text": [
      "Files already downloaded and verified\n",
      "Files already downloaded and verified\n"
     ]
    }
   ],
   "source": [
    "transform = torchvision.transforms.Compose([torchvision.transforms.ToTensor(), \n",
    "                                            torchvision.transforms.Normalize(mean=(0.4914, 0.4822, 0.4465), \n",
    "                                            std=(3*0.2023, 3*0.1994, 3*0.2010))])\n",
    "\n",
    "cifar_dset_train = torchvision.datasets.CIFAR100('../../data', train=True, transform=transform, target_transform=None, download=True)\n",
    "train_loader = torch.utils.data.DataLoader(cifar_dset_train, batch_size=20, shuffle=True, num_workers=0)\n",
    "\n",
    "cifar_dset_test = torchvision.datasets.CIFAR100('../../data', train=False, transform=transform, target_transform=None, download=True)\n",
    "test_loader = torch.utils.data.DataLoader(cifar_dset_test, batch_size=20, shuffle=False, num_workers=0)"
   ]
  },
  {
   "cell_type": "code",
   "execution_count": 4,
   "id": "eb51868d",
   "metadata": {},
   "outputs": [],
   "source": [
    "device = \"cuda\"\n",
    "# criterion = torch.nn.MSELoss().to(device)\n",
    "criterion = torch.nn.CrossEntropyLoss()\n",
    "activation = F.relu\n",
    "architecture = [int(32*32*3), 2000, 1000, 1000, 1000, 100]\n",
    "model = MLP(architecture, activation = activation, final_layer_activation = False).to(device)"
   ]
  },
  {
   "cell_type": "code",
   "execution_count": 5,
   "id": "a5556d5a",
   "metadata": {},
   "outputs": [
    {
     "name": "stdout",
     "output_type": "stream",
     "text": [
      "Accuracy :\t 0.0131\n"
     ]
    },
    {
     "data": {
      "text/plain": [
       "0.0131"
      ]
     },
     "execution_count": 5,
     "metadata": {},
     "output_type": "execute_result"
    }
   ],
   "source": [
    "evaluateClassification(model, train_loader, \"cuda\")"
   ]
  },
  {
   "cell_type": "code",
   "execution_count": 6,
   "id": "49f2c777",
   "metadata": {},
   "outputs": [
    {
     "name": "stderr",
     "output_type": "stream",
     "text": [
      "2500it [00:37, 65.91it/s]\n",
      "7it [00:00, 67.38it/s]"
     ]
    },
    {
     "name": "stdout",
     "output_type": "stream",
     "text": [
      "Epoch : 1, (top (1, 5)) Train Accuracy : [0.1747  0.43866], Test Accuracy : [0.1613 0.4132]\n"
     ]
    },
    {
     "name": "stderr",
     "output_type": "stream",
     "text": [
      "2500it [00:39, 63.88it/s]\n",
      "7it [00:00, 65.93it/s]"
     ]
    },
    {
     "name": "stdout",
     "output_type": "stream",
     "text": [
      "Epoch : 2, (top (1, 5)) Train Accuracy : [0.22982 0.51766], Test Accuracy : [0.2074 0.4716]\n"
     ]
    },
    {
     "name": "stderr",
     "output_type": "stream",
     "text": [
      "2500it [00:39, 62.94it/s]\n",
      "7it [00:00, 63.21it/s]"
     ]
    },
    {
     "name": "stdout",
     "output_type": "stream",
     "text": [
      "Epoch : 3, (top (1, 5)) Train Accuracy : [0.27178 0.56864], Test Accuracy : [0.224  0.4991]\n"
     ]
    },
    {
     "name": "stderr",
     "output_type": "stream",
     "text": [
      "2500it [00:39, 63.97it/s]\n",
      "6it [00:00, 59.93it/s]"
     ]
    },
    {
     "name": "stdout",
     "output_type": "stream",
     "text": [
      "Epoch : 4, (top (1, 5)) Train Accuracy : [0.31292 0.62422], Test Accuracy : [0.2414 0.5228]\n"
     ]
    },
    {
     "name": "stderr",
     "output_type": "stream",
     "text": [
      "2500it [00:38, 65.47it/s]\n",
      "7it [00:00, 62.03it/s]"
     ]
    },
    {
     "name": "stdout",
     "output_type": "stream",
     "text": [
      "Epoch : 5, (top (1, 5)) Train Accuracy : [0.3512  0.66758], Test Accuracy : [0.2546 0.5399]\n"
     ]
    },
    {
     "name": "stderr",
     "output_type": "stream",
     "text": [
      "2500it [00:37, 66.04it/s]\n",
      "7it [00:00, 59.31it/s]"
     ]
    },
    {
     "name": "stdout",
     "output_type": "stream",
     "text": [
      "Epoch : 6, (top (1, 5)) Train Accuracy : [0.39106 0.71024], Test Accuracy : [0.2577 0.5469]\n"
     ]
    },
    {
     "name": "stderr",
     "output_type": "stream",
     "text": [
      "2500it [00:39, 63.73it/s]\n",
      "7it [00:00, 68.90it/s]"
     ]
    },
    {
     "name": "stdout",
     "output_type": "stream",
     "text": [
      "Epoch : 7, (top (1, 5)) Train Accuracy : [0.44478 0.76126], Test Accuracy : [0.2765 0.5616]\n"
     ]
    },
    {
     "name": "stderr",
     "output_type": "stream",
     "text": [
      "2500it [00:40, 61.92it/s]\n",
      "7it [00:00, 61.74it/s]"
     ]
    },
    {
     "name": "stdout",
     "output_type": "stream",
     "text": [
      "Epoch : 8, (top (1, 5)) Train Accuracy : [0.49852 0.80228], Test Accuracy : [0.282  0.5698]\n"
     ]
    },
    {
     "name": "stderr",
     "output_type": "stream",
     "text": [
      "2500it [00:40, 61.60it/s]\n",
      "10it [00:00, 96.04it/s]"
     ]
    },
    {
     "name": "stdout",
     "output_type": "stream",
     "text": [
      "Epoch : 9, (top (1, 5)) Train Accuracy : [0.55276 0.84092], Test Accuracy : [0.2812 0.5652]\n"
     ]
    },
    {
     "name": "stderr",
     "output_type": "stream",
     "text": [
      "2500it [00:25, 96.77it/s] \n",
      "10it [00:00, 97.24it/s]"
     ]
    },
    {
     "name": "stdout",
     "output_type": "stream",
     "text": [
      "Epoch : 10, (top (1, 5)) Train Accuracy : [0.60824 0.88132], Test Accuracy : [0.2853 0.5675]\n"
     ]
    },
    {
     "name": "stderr",
     "output_type": "stream",
     "text": [
      "2500it [00:25, 99.36it/s] \n",
      "11it [00:00, 106.23it/s]"
     ]
    },
    {
     "name": "stdout",
     "output_type": "stream",
     "text": [
      "Epoch : 11, (top (1, 5)) Train Accuracy : [0.6861  0.91582], Test Accuracy : [0.2872 0.5675]\n"
     ]
    },
    {
     "name": "stderr",
     "output_type": "stream",
     "text": [
      "2500it [00:25, 99.22it/s] \n",
      "10it [00:00, 96.12it/s]"
     ]
    },
    {
     "name": "stdout",
     "output_type": "stream",
     "text": [
      "Epoch : 12, (top (1, 5)) Train Accuracy : [0.72836 0.93906], Test Accuracy : [0.2797 0.5605]\n"
     ]
    },
    {
     "name": "stderr",
     "output_type": "stream",
     "text": [
      "2500it [00:25, 97.38it/s] \n",
      "10it [00:00, 97.17it/s]"
     ]
    },
    {
     "name": "stdout",
     "output_type": "stream",
     "text": [
      "Epoch : 13, (top (1, 5)) Train Accuracy : [0.78612 0.95792], Test Accuracy : [0.287  0.5566]\n"
     ]
    },
    {
     "name": "stderr",
     "output_type": "stream",
     "text": [
      "2500it [00:26, 95.43it/s]\n",
      "10it [00:00, 95.24it/s]"
     ]
    },
    {
     "name": "stdout",
     "output_type": "stream",
     "text": [
      "Epoch : 14, (top (1, 5)) Train Accuracy : [0.83804 0.9765 ], Test Accuracy : [0.2854 0.5577]\n"
     ]
    },
    {
     "name": "stderr",
     "output_type": "stream",
     "text": [
      "2500it [00:26, 95.50it/s] \n",
      "10it [00:00, 96.01it/s]"
     ]
    },
    {
     "name": "stdout",
     "output_type": "stream",
     "text": [
      "Epoch : 15, (top (1, 5)) Train Accuracy : [0.87718 0.98682], Test Accuracy : [0.2805 0.554 ]\n"
     ]
    },
    {
     "name": "stderr",
     "output_type": "stream",
     "text": [
      "2500it [00:25, 97.23it/s] \n",
      "20it [00:00, 196.81it/s]"
     ]
    },
    {
     "name": "stdout",
     "output_type": "stream",
     "text": [
      "Epoch : 16, (top (1, 5)) Train Accuracy : [0.90504 0.99174], Test Accuracy : [0.278  0.5533]\n"
     ]
    },
    {
     "name": "stderr",
     "output_type": "stream",
     "text": [
      "2500it [00:12, 196.70it/s]\n",
      "20it [00:00, 198.21it/s]"
     ]
    },
    {
     "name": "stdout",
     "output_type": "stream",
     "text": [
      "Epoch : 17, (top (1, 5)) Train Accuracy : [0.92316 0.99424], Test Accuracy : [0.2789 0.5523]\n"
     ]
    },
    {
     "name": "stderr",
     "output_type": "stream",
     "text": [
      "2500it [00:12, 195.65it/s]\n",
      "20it [00:00, 198.78it/s]"
     ]
    },
    {
     "name": "stdout",
     "output_type": "stream",
     "text": [
      "Epoch : 18, (top (1, 5)) Train Accuracy : [0.9342  0.99626], Test Accuracy : [0.2755 0.5444]\n"
     ]
    },
    {
     "name": "stderr",
     "output_type": "stream",
     "text": [
      "2500it [00:12, 196.53it/s]\n",
      "20it [00:00, 197.22it/s]"
     ]
    },
    {
     "name": "stdout",
     "output_type": "stream",
     "text": [
      "Epoch : 19, (top (1, 5)) Train Accuracy : [0.94102 0.99776], Test Accuracy : [0.2739 0.5436]\n"
     ]
    },
    {
     "name": "stderr",
     "output_type": "stream",
     "text": [
      "2500it [00:12, 196.54it/s]\n"
     ]
    },
    {
     "name": "stdout",
     "output_type": "stream",
     "text": [
      "Epoch : 20, (top (1, 5)) Train Accuracy : [0.94648 0.99796], Test Accuracy : [0.2765 0.5487]\n"
     ]
    }
   ],
   "source": [
    "# # specify optimizer (stochastic gradient descent) and learning rate\n",
    "# optimizer = torch.optim.SGD(model.parameters(),lr = 0.001, momentum = 0.0)\n",
    "optimizer = torch.optim.Adam(model.parameters(), lr=1e-4)\n",
    "trn_acc_list = []\n",
    "tst_acc_list = []\n",
    "\n",
    "n_epochs = 20\n",
    "for epoch_ in range(n_epochs):\n",
    "    model.train()\n",
    "    for idx, (x, y) in tqdm(enumerate(train_loader)):\n",
    "        x, y = x.to(device), y.to(device)\n",
    "        y_one_hot = F.one_hot(y, num_classes=model.nc)\n",
    "        optimizer.zero_grad()\n",
    "        y_hat = model(x)\n",
    "        loss = criterion(y_hat,y) # Use this if criterion = torch.nn.CrossEntropyLoss()\n",
    "        #loss = criterion(y_hat,y_one_hot.to(torch.float32)) # Use this if criterion = torch.nn.MSELoss().to(device)\n",
    "        # backward pass: compute gradient of the loss with respect to model parameters\n",
    "        loss.backward()\n",
    "        # perform a single optimization step (parameter update)\n",
    "        optimizer.step()\n",
    "    trn_acc = evaluateClassification_topk(model, train_loader, device, (1,5), False)\n",
    "    tst_acc = evaluateClassification_topk(model, test_loader, device, (1,5), False)\n",
    "    trn_acc_list.append(trn_acc)\n",
    "    tst_acc_list.append(tst_acc)\n",
    "    \n",
    "    print(\"Epoch : {}, (top {}) Train Accuracy : {}, Test Accuracy : {}\".format( epoch_+1,(1,5), trn_acc, tst_acc))"
   ]
  },
  {
   "cell_type": "code",
   "execution_count": 7,
   "id": "56bc7b00",
   "metadata": {},
   "outputs": [
    {
     "data": {
      "image/png": "[encoded data removed]",
      "text/plain": [
       "<Figure size 864x576 with 1 Axes>"
      ]
     },
     "metadata": {
      "needs_background": "light"
     },
     "output_type": "display_data"
    }
   ],
   "source": [
    "plot_convergence_plot(trn_acc_list, xlabel = 'Number of Epochs', ylabel = 'Accuracy %',\n",
    "                      title = 'MLP Train Accuracy w.r.t. Epochs', \n",
    "                      figsize = (12,8), fontsize = 25, linewidth = 3)"
   ]
  },
  {
   "cell_type": "code",
   "execution_count": 8,
   "id": "3c1e4572",
   "metadata": {},
   "outputs": [
    {
     "data": {
      "image/png": "[encoded data removed]",
      "text/plain": [
       "<Figure size 864x576 with 1 Axes>"
      ]
     },
     "metadata": {
      "needs_background": "light"
     },
     "output_type": "display_data"
    }
   ],
   "source": [
    "plot_convergence_plot(tst_acc_list, xlabel = 'Number of Epochs', ylabel = 'Accuracy %',\n",
    "                      title = 'MLP Test Accuracy w.r.t. Epochs', \n",
    "                      figsize = (12,8), fontsize = 25, linewidth = 3)"
   ]
  },
  {
   "cell_type": "code",
   "execution_count": 9,
   "id": "f9ff9396",
   "metadata": {},
   "outputs": [
    {
     "name": "stdout",
     "output_type": "stream",
     "text": [
      "Epoch : 20, (top (1, 5)) Train Accuracy : [0.94648 0.99796], Test Accuracy : [0.2765 0.5487]\n"
     ]
    }
   ],
   "source": [
    "print(\"Epoch : {}, (top {}) Train Accuracy : {}, Test Accuracy : {}\".format( epoch_+1,(1,5), trn_acc, tst_acc))"
   ]
  },
  {
   "cell_type": "code",
   "execution_count": 10,
   "id": "1230778d",
   "metadata": {},
   "outputs": [],
   "source": [
    "def evaluateClassification_topk(model, loader, device, topk = (1,), printing = True):\n",
    "    # Evaluate Artificial Neural Network on Classification Task\n",
    "    model.eval()\n",
    "    correct = 0\n",
    "    for x, y in loader:\n",
    "        x, y = x.to(device), y.to(device)\n",
    "        \n",
    "        y_hat = model(x)\n",
    "        \n",
    "        pred = torch.argmax(y_hat, dim=1)#.squeeze()  \n",
    "        correct += topk_accuracy(y_hat.T, y, topk)[1]\n",
    "\n",
    "    acc = correct/len(loader.dataset) \n",
    "    if printing:\n",
    "        print('Accuracy :\\t', acc)   \n",
    "    return acc"
   ]
  },
  {
   "cell_type": "code",
   "execution_count": 11,
   "id": "d8b28c17",
   "metadata": {},
   "outputs": [
    {
     "data": {
      "text/plain": [
       "array([0.94648, 0.99796])"
      ]
     },
     "execution_count": 11,
     "metadata": {},
     "output_type": "execute_result"
    }
   ],
   "source": [
    "evaluateClassification_topk(model, train_loader, device, (1,5), False)"
   ]
  },
  {
   "cell_type": "code",
   "execution_count": null,
   "id": "2ef6070b",
   "metadata": {},
   "outputs": [],
   "source": []
  }
 ],
 "metadata": {
  "kernelspec": {
   "display_name": "Python 3 (ipykernel)",
   "language": "python",
   "name": "python3"
  },
  "language_info": {
   "codemirror_mode": {
    "name": "ipython",
    "version": 3
   },
   "file_extension": ".py",
   "mimetype": "text/x-python",
   "name": "python",
   "nbconvert_exporter": "python",
   "pygments_lexer": "ipython3",
   "version": "3.8.8"
  }
 },
 "nbformat": 4,
 "nbformat_minor": 5
}
