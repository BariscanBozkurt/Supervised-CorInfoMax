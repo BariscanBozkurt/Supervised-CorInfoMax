{
 "cells": [
  {
   "cell_type": "markdown",
   "metadata": {
    "id": "c9dL_PWHQbpE"
   },
   "source": [
    "# Import Required Libraries"
   ]
  },
  {
   "cell_type": "code",
   "execution_count": 1,
   "metadata": {
    "id": "6lu9-cpvOfam"
   },
   "outputs": [],
   "source": [
    "import torch\n",
    "import matplotlib.pyplot as plt\n",
    "import numpy as np\n",
    "import torchvision\n",
    "import torch.nn.functional as F\n",
    "import argparse\n",
    "import matplotlib\n",
    "import pandas as pd\n",
    "\n",
    "from tqdm import tqdm\n",
    "import glob\n",
    "import os\n",
    "from datetime import datetime\n",
    "from itertools import product\n",
    "import time\n",
    "import math\n",
    "\n",
    "import warnings\n",
    "warnings.filterwarnings(\"ignore\")"
   ]
  },
  {
   "cell_type": "code",
   "execution_count": 2,
   "metadata": {
    "id": "YfZLQ92y4HFv"
   },
   "outputs": [],
   "source": [
    "def hard_sigmoid(x):\n",
    "    # Source : https://github.com/Laborieux-Axel/Equilibrium-Propagation/\n",
    "    return (1+F.hardtanh(2*x-1))*0.5\n",
    "\n",
    "def outer_prod_broadcasting(A, B):\n",
    "    \"\"\"Broadcasting trick\"\"\"\n",
    "    return A[...,None]*B[:,None]\n",
    "\n",
    "def torch2numpy(x):\n",
    "    return x.detach().cpu().numpy()\n",
    "\n",
    "def antisparse_clip(x):\n",
    "    return torch.clip(x, -1, 1)\n",
    "\n",
    "def evaluateContrastiveCorInfoMaxHopfield(model, loader, hopfield_g, neural_lr_start, neural_lr_stop,\n",
    "                                          neural_lr_rule, neural_lr_decay_multiplier,\n",
    "                                          T, device, printing = True):\n",
    "    # Evaluate the Contrastive CorInfoMax Hopfield model on a dataloader with T steps for the dynamics for the classification task\n",
    "    correct = 0\n",
    "    phase = 'Train' if loader.dataset.train else 'Test'\n",
    "\n",
    "    for x, y in loader:\n",
    "        x = x.view(x.size(0),-1).to(device).T\n",
    "        y = y.to(device)\n",
    "\n",
    "        neurons = model.init_neurons(x.size(1), device = model.device)\n",
    "\n",
    "        # dynamics for T time steps\n",
    "        neurons, _, _ = model.run_neural_dynamics_hopfield(x, 0, neurons, hopfield_g, neural_lr_start, neural_lr_stop, neural_lr_rule, neural_lr_decay_multiplier, T, beta = 0)\n",
    "\n",
    "        pred = torch.argmax(neurons[-1], dim=0).squeeze()\n",
    "        correct += (y == pred).sum().item()\n",
    "\n",
    "    acc = correct/len(loader.dataset)\n",
    "    if printing:\n",
    "        print(phase+' accuracy :\\t', acc)\n",
    "    return acc\n",
    "\n",
    "class ContrastiveCorInfoMaxHopfield():\n",
    "\n",
    "    def __init__(self, architecture, lambda_, epsilon, activation = hard_sigmoid, device = None):\n",
    "\n",
    "        self.architecture = architecture\n",
    "        self.lambda_ = lambda_\n",
    "        self.gam_ = (1 - lambda_) / lambda_\n",
    "        self.epsilon = epsilon\n",
    "        self.one_over_epsilon = 1 / epsilon\n",
    "        self.activation = activation\n",
    "        if device is None:\n",
    "            self.device = torch.device('cuda:0' if torch.cuda.is_available() else 'cpu')\n",
    "        else:\n",
    "            self.device = device\n",
    "\n",
    "        # Feedforward Synapses Initialization\n",
    "        Wff = []\n",
    "        for idx in range(len(architecture)-1):\n",
    "            weight = torch.randn(architecture[idx + 1], architecture[idx], requires_grad = False).to(self.device)\n",
    "            torch.nn.init.xavier_uniform_(weight)\n",
    "\n",
    "            Wff.append({'weight': weight})\n",
    "        Wff = np.array(Wff)\n",
    "\n",
    "        # Feedback Synapses Initialization\n",
    "        Wfb = []\n",
    "        for idx in range(len(architecture)-1):\n",
    "            weight = torch.eye(architecture[idx], architecture[idx + 1], requires_grad = False).to(self.device)\n",
    "            torch.nn.init.xavier_uniform_(weight)\n",
    "\n",
    "            Wfb.append({'weight': weight})\n",
    "        Wfb = np.array(Wfb)\n",
    "\n",
    "        # Lateral Synapses Initialization\n",
    "        B = []\n",
    "        for idx in range(len(architecture)-1):\n",
    "            weight = torch.randn(architecture[idx + 1], architecture[idx + 1], requires_grad = False).to(self.device)\n",
    "            torch.nn.init.xavier_uniform_(weight)\n",
    "            weight = weight @ weight.T\n",
    "            # weight = 1.0*torch.eye(architecture[idx + 1] + 1, architecture[idx + 1] + 1, requires_grad = False).to(self.device)\n",
    "            B.append({'weight': weight})\n",
    "        B = np.array(B)\n",
    "\n",
    "        # Correlation Matrices (Only for debugging)\n",
    "        Rfree = []\n",
    "        for idx in range(len(architecture) - 1):\n",
    "            weight = 1.0*torch.eye(architecture[idx + 1], architecture[idx + 1], requires_grad = False).to(self.device)\n",
    "            Rfree.append({'weight': weight})\n",
    "\n",
    "        Rfree = np.array(Rfree)\n",
    "\n",
    "        # Correlation Matrices (Only for debugging)\n",
    "        Rnudged = []\n",
    "        for idx in range(len(architecture) - 1):\n",
    "            weight = 1.0*torch.eye(architecture[idx + 1], architecture[idx + 1], requires_grad = False).to(self.device)\n",
    "            Rnudged.append({'weight': weight})\n",
    "\n",
    "        Rnudged = np.array(Rnudged)\n",
    "\n",
    "        self.Wff = Wff\n",
    "        self.Wfb = Wfb\n",
    "        self.B = B\n",
    "        self.Rfree = Rfree\n",
    "        self.Rnudged = Rnudged\n",
    "\n",
    "        ############ Some Debugging Logs ##########################\n",
    "        self.forward_backward_angles = []\n",
    "        self.layerwise_forward_corinfo_list_free = []\n",
    "        self.layerwise_backward_corinfo_list_free = []\n",
    "        self.layerwise_forward_corinfo_list_nudged = []\n",
    "        self.layerwise_backward_corinfo_list_nudged = []\n",
    "\n",
    "        self.neural_dynamics_free_forward_info_list = []\n",
    "        self.neural_dynamics_free_backward_info_list = []\n",
    "        self.neural_dynamics_nudged_forward_info_list = []\n",
    "        self.neural_dynamics_nudged_backward_info_list = []\n",
    "\n",
    "    ###############################################################\n",
    "    ############### HELPER METHODS ################################\n",
    "    ###############################################################\n",
    "    def copy_neurons(self, neurons):\n",
    "        copy = []\n",
    "        for n in neurons:\n",
    "            copy.append(torch.empty_like(n).copy_(n.data))#.requires_grad_())\n",
    "        return copy\n",
    "\n",
    "    def init_neurons(self, mbs, random_initialize = False, device = 'cuda'):\n",
    "        # Initializing the neurons\n",
    "        if random_initialize:\n",
    "            neurons = []\n",
    "            append = neurons.append\n",
    "            for size in self.architecture[1:]:\n",
    "                append(torch.randn((mbs, size), requires_grad=False, device=device).T)\n",
    "        else:\n",
    "            neurons = []\n",
    "            append = neurons.append\n",
    "            for size in self.architecture[1:]:\n",
    "                append(torch.zeros((mbs, size), requires_grad=False, device=device).T)\n",
    "        return neurons\n",
    "\n",
    "    ###############################################################\n",
    "    ############### REQUIRED FUNCTIONS FOR DEBUGGING ##############\n",
    "    ###############################################################\n",
    "    def angle_between_two_matrices(self, A, B):\n",
    "        \"\"\"Computes the angle between two matrices A and B.\n",
    "\n",
    "        Args:\n",
    "            A (torch.Tensor): Pytorch tensor of size m times n\n",
    "            B (torch.Tensor): Pytorch tensor of size m times n\n",
    "\n",
    "        Returns:\n",
    "            angle: angle between the matrices A and B. The formula is given by the following:\n",
    "                (180/pi) * acos[ Tr(A @ B.T) / sqrt(Tr(A @ A.T) * Tr(B @ B.T))]\n",
    "        \"\"\"\n",
    "\n",
    "        angle = (180 / torch.pi) * torch.acos(torch.trace(A @ B.T) / torch.sqrt(torch.trace(A @ A.T) * torch.trace(B @ B.T)))\n",
    "        return angle\n",
    "\n",
    "    def layerwise_forward_and_backward_correlative_information(self, layers, phase = \"free\"):\n",
    "        Wff = self.Wff\n",
    "        Wfb = self.Wfb\n",
    "        if phase == \"free\":\n",
    "            R = self.Rfree\n",
    "        elif phase == \"nudged\":\n",
    "            R = self.Rnudged\n",
    "        epsilon = self.epsilon\n",
    "        one_over_epsilon = self.one_over_epsilon\n",
    "        device = self.device\n",
    "        architecture = self.architecture\n",
    "\n",
    "        # epsilon_tensor = torch.Tensor([epsilon]).to(device)\n",
    "        batch_size = layers[0].shape[1]\n",
    "        batch_size_sqrt_root = np.sqrt(batch_size)\n",
    "        log_epsilon = np.log(epsilon)\n",
    "\n",
    "        forward_info_list = []\n",
    "        backward_info_list = []\n",
    "\n",
    "        for jj in range(len(architecture) - 2):\n",
    "            Identity_Matrix = epsilon * torch.eye(*R[jj + 1]['weight'].shape).to(device)\n",
    "            forward_info_jj= (torch.logdet(R[jj + 1]['weight'] + Identity_Matrix) - (1 / batch_size) * (one_over_epsilon * torch.norm(layers[jj + 2] - Wff[jj + 1]['weight'] @ layers[jj + 1]) ** 2 - layers[jj + 2].shape[0] * log_epsilon)).item()\n",
    "\n",
    "            forward_info_list.append(forward_info_jj)\n",
    "\n",
    "        for jj in range(len(architecture) - 2):\n",
    "            Identity_Matrix = epsilon * torch.eye(*R[jj]['weight'].shape).to(device)\n",
    "            backward_info_jj = (torch.logdet(R[jj]['weight'] + Identity_Matrix) - (1 / batch_size) * (one_over_epsilon * torch.norm((layers[jj + 1]) - Wfb[jj + 1]['weight'] @ layers[jj + 2]) ** 2 - (layers[jj + 1].shape[0] + 1) * log_epsilon)).item()\n",
    "\n",
    "            backward_info_list.append(backward_info_jj)\n",
    "\n",
    "        return forward_info_list, backward_info_list\n",
    "\n",
    "    ###############################################################\n",
    "    ############### NEURAL DYNAMICS ALGORITHMS ####################\n",
    "    ###############################################################\n",
    "    def run_neural_dynamics_hopfield(self, x, y, neurons, hopfield_g, neural_lr_start, neural_lr_stop,\n",
    "                                     lr_rule = \"constant\", lr_decay_multiplier = 0.1,\n",
    "                                     neural_dynamic_iterations = 10, beta = 1, take_debug_logs = False):\n",
    "\n",
    "        # if take_debug_logs:\n",
    "        if beta != 0:\n",
    "            phase = \"free\"\n",
    "        else:\n",
    "            phase = \"nudged\"\n",
    "        forward_info = []\n",
    "        backward_info = []\n",
    "\n",
    "        Wff = self.Wff\n",
    "        Wfb = self.Wfb\n",
    "        B = self.B\n",
    "        gam_ = self.gam_\n",
    "        epsilon = self.epsilon\n",
    "        one_over_epsilon = self.one_over_epsilon\n",
    "\n",
    "        neurons_intermediate = self.copy_neurons(neurons)\n",
    "        layers = [x] + neurons  # concatenate the input to other layers\n",
    "        for iter_count in range(neural_dynamic_iterations):\n",
    "\n",
    "            if lr_rule == \"constant\":\n",
    "                neural_lr = neural_lr_start\n",
    "            elif lr_rule == \"divide_by_loop_index\":\n",
    "                neural_lr = max(neural_lr_start / (iter_count + 1), neural_lr_stop)\n",
    "            elif lr_rule == \"divide_by_slow_loop_index\":\n",
    "                neural_lr = max(neural_lr_start / (iter_count * lr_decay_multiplier + 1), neural_lr_stop)\n",
    "\n",
    "            with torch.no_grad():\n",
    "                for jj in range(len(neurons)):\n",
    "                    if jj == len(neurons) - 1:\n",
    "\n",
    "                        basal_voltage = Wff[jj]['weight'] @ layers[jj] #+ Wff[jj]['bias']\n",
    "                        apical_voltage = (gam_ * B[jj]['weight'] @ ( layers[jj + 1]) + hopfield_g * layers[jj + 1]) - beta * (layers[jj + 1] - y)\n",
    "                        gradient_neurons = -hopfield_g * neurons_intermediate[jj] + one_over_epsilon * (basal_voltage - neurons_intermediate[jj]) + (apical_voltage - neurons_intermediate[jj])\n",
    "                        neurons_intermediate[jj] = neurons_intermediate[jj] + neural_lr * gradient_neurons\n",
    "                        neurons[jj] = self.activation(neurons_intermediate[jj])\n",
    "\n",
    "                    else:\n",
    "\n",
    "                        basal_voltage = Wff[jj]['weight'] @ layers[jj] #+ Wff[jj]['bias']\n",
    "                        apical_voltage = epsilon * (2 * gam_ * B[jj]['weight'] @ (layers[jj + 1]) + hopfield_g * layers[jj + 1]) + (Wfb[jj + 1]['weight'] @ layers[jj + 2])\n",
    "                        gradient_neurons = - hopfield_g * neurons_intermediate[jj] + one_over_epsilon * (basal_voltage - neurons_intermediate[jj]) + one_over_epsilon * (apical_voltage - neurons_intermediate[jj])\n",
    "                        neurons_intermediate[jj] = neurons_intermediate[jj] + neural_lr * gradient_neurons\n",
    "                        neurons[jj] = self.activation(neurons_intermediate[jj])\n",
    "                    layers = [x] + neurons  # concatenate the input to other layers\n",
    "\n",
    "            if take_debug_logs:\n",
    "                info_measures = self.layerwise_forward_and_backward_correlative_information(layers, phase)\n",
    "                forward_info.append(np.sum(info_measures[0]))\n",
    "                backward_info.append(np.sum(info_measures[1]))\n",
    "\n",
    "        return neurons, forward_info, backward_info\n",
    "\n",
    "    ###############################################################\n",
    "    ############### BATCH STEP ALGORITHMS #########################\n",
    "    ###############################################################\n",
    "    def batch_step_hopfield(self, x, y, hopfield_g, lr, neural_lr_start, neural_lr_stop, neural_lr_rule = \"constant\",\n",
    "                            neural_lr_decay_multiplier = 0.1, neural_dynamic_iterations_free = 20,\n",
    "                            neural_dynamic_iterations_nudged = 10, beta = 1, use_three_phase = False,\n",
    "                            take_debug_logs = False, weight_decay = False):\n",
    "\n",
    "        Wff, Wfb, B = self.Wff, self.Wfb, self.B\n",
    "        lambda_ = self.lambda_\n",
    "        gam_ = self.gam_\n",
    "        epsilon = self.epsilon\n",
    "\n",
    "        Rfree = self.Rfree # For debugging to check the correlation matrices vs inverse correlation matrices\n",
    "        Rnudged = self.Rnudged # For debugging to check the correlation matrices vs inverse correlation matrices\n",
    "\n",
    "        # neurons = self.init_neurons(x.size(1), device = self.device)\n",
    "        neurons = self.init_neurons(x.size(1), device = self.device)\n",
    "\n",
    "        (neurons,\n",
    "         free_forward_info,\n",
    "         free_backward_info\n",
    "        ) = self.run_neural_dynamics_hopfield(x, y, neurons, hopfield_g, neural_lr_start, neural_lr_stop, neural_lr_rule,\n",
    "                                             neural_lr_decay_multiplier, neural_dynamic_iterations_free, 0, take_debug_logs)\n",
    "\n",
    "\n",
    "        neurons1 = neurons.copy()\n",
    "        layers_free_ = [x] + neurons1\n",
    "\n",
    "        for jj in range(len(B)):\n",
    "\n",
    "            Rfree[jj]['weight'] = lambda_ * Rfree[jj]['weight'] + (1 - lambda_) * torch.mean(outer_prod_broadcasting(neurons1[jj].T, neurons1[jj].T), axis = 0)\n",
    "\n",
    "        (neurons,\n",
    "         nudged_forward_info,\n",
    "         nudged_backward_info\n",
    "        ) = self.run_neural_dynamics_hopfield(x, y, neurons, hopfield_g, neural_lr_start, neural_lr_stop, neural_lr_rule,\n",
    "                                              neural_lr_decay_multiplier, neural_dynamic_iterations_nudged, beta, take_debug_logs)\n",
    "\n",
    "\n",
    "        neurons2 = neurons.copy()\n",
    "\n",
    "        if use_three_phase:\n",
    "            neurons, _, _ = self.run_neural_dynamics_hopfield(x, y, neurons, hopfield_g, neural_lr_start, neural_lr_stop, neural_lr_rule,\n",
    "                                                              neural_lr_decay_multiplier, neural_dynamic_iterations_nudged, -beta, take_debug_logs)\n",
    "\n",
    "            neurons3 = neurons.copy()\n",
    "\n",
    "            layers_free = [x] + neurons3\n",
    "        else:\n",
    "            layers_free = [x] + neurons1\n",
    "\n",
    "        layers_nudged = [x] + neurons2\n",
    "\n",
    "        ## Compute forward errors\n",
    "        forward_errors_free = [layers_free[jj + 1] - (Wff[jj]['weight'] @ layers_free[jj]) for jj in range(len(Wff))]\n",
    "        forward_errors_nudged = [layers_nudged[jj + 1] - (Wff[jj]['weight'] @ layers_nudged[jj]) for jj in range(len(Wff))]\n",
    "        ## Compute backward errors\n",
    "        backward_errors_free = [(layers_free[jj]) - (Wfb[jj]['weight'] @ layers_free[jj + 1]) for jj in range(1, len(Wfb))]\n",
    "        backward_errors_nudged = [(layers_nudged[jj]) - (Wfb[jj]['weight'] @ layers_nudged[jj + 1]) for jj in range(1, len(Wfb))]\n",
    "\n",
    "        ### Learning updates for feed-forward and backward weights\n",
    "        for jj in range(len(Wff)):\n",
    "            Wff[jj]['weight'] += -(1/(beta * (int(use_three_phase) + 1))) * lr['ff'][jj] * torch.mean(outer_prod_broadcasting(forward_errors_free[jj].T, layers_free[jj].T) - outer_prod_broadcasting(forward_errors_nudged[jj].T, layers_nudged[jj].T), axis = 0)\n",
    "            if weight_decay:\n",
    "                Wff[jj]['weight'] -= lr['ff'][jj] * epsilon * Wff[jj]['weight']\n",
    "\n",
    "        for jj in range(1, len(Wfb)):\n",
    "            Wfb[jj]['weight'] += -(1/(beta * (int(use_three_phase) + 1))) * lr['fb'][jj] * torch.mean(outer_prod_broadcasting(backward_errors_free[jj - 1].T, layers_free[jj + 1].T) - outer_prod_broadcasting(backward_errors_nudged[jj - 1].T, layers_nudged[jj + 1].T), axis = 0)\n",
    "            if weight_decay:\n",
    "                Wfb[jj]['weight'] -= lr['fb'][jj] * epsilon * Wfb[jj]['weight']\n",
    "        ### Lateral Weight Updates\n",
    "        for jj in range(len(B)):\n",
    "            z = B[jj]['weight'] @ (neurons2[jj])\n",
    "            B_update = torch.mean(outer_prod_broadcasting(z.T, z.T), axis = 0)\n",
    "            B[jj]['weight'] = (1 / lambda_) * (B[jj]['weight'] - gam_ * B_update)\n",
    "\n",
    "            Rnudged[jj]['weight'] = lambda_ * Rnudged[jj]['weight'] + (1 - lambda_) * torch.mean(outer_prod_broadcasting(neurons2[jj].T, neurons2[jj].T), axis = 0)\n",
    "\n",
    "        self.B = B\n",
    "        self.Wff = Wff\n",
    "        self.Wfb = Wfb\n",
    "        self.Rfree = Rfree\n",
    "        self.Rnudged = Rnudged\n",
    "\n",
    "        if take_debug_logs:\n",
    "            instant_forward_backward_angles = []\n",
    "            for jj in range(1, len(Wff)):\n",
    "                instant_forward_backward_angles.append(self.angle_between_two_matrices(self.Wff[jj]['weight'], self.Wfb[jj]['weight'].T).item())\n",
    "\n",
    "            self.forward_backward_angles.append(instant_forward_backward_angles)\n",
    "\n",
    "            (forward_info_list_free,\n",
    "             backward_info_list_free,\n",
    "            ) = self.layerwise_forward_and_backward_correlative_information(layers_free_, \"free\")\n",
    "\n",
    "            (forward_info_list_nudged,\n",
    "             backward_info_list_nudged,\n",
    "            ) = self.layerwise_forward_and_backward_correlative_information(layers_free_, \"nudged\")\n",
    "\n",
    "            self.layerwise_forward_corinfo_list_free.append(forward_info_list_free)\n",
    "            self.layerwise_backward_corinfo_list_free.append(backward_info_list_free)\n",
    "            self.layerwise_forward_corinfo_list_nudged.append(forward_info_list_nudged)\n",
    "            self.layerwise_backward_corinfo_list_nudged.append(backward_info_list_nudged)\n",
    "\n",
    "            self.neural_dynamics_free_forward_info_list.append(free_forward_info)\n",
    "            self.neural_dynamics_free_backward_info_list.append(free_backward_info)\n",
    "            self.neural_dynamics_nudged_forward_info_list.append(nudged_forward_info)\n",
    "            self.neural_dynamics_nudged_backward_info_list.append(nudged_backward_info)\n",
    "        return neurons\n",
    "\n",
    "    def save_model_weights(self, pickle_name = \"CorInfoWeights\"):\n",
    "        Wff_save = []\n",
    "        for idx in range(len(self.Wff)):\n",
    "            weight = torch2numpy(self.Wff[idx]['weight'])\n",
    "            Wff_save.append({'weight': weight})\n",
    "\n",
    "        Wfb_save = []\n",
    "        for idx in range(len(self.Wfb)):\n",
    "            weight = torch2numpy(self.Wfb[idx]['weight'])\n",
    "            Wfb_save.append({'weight': weight})\n",
    "\n",
    "        B_save = []\n",
    "        for idx in range(len(self.B)):\n",
    "            weight = torch2numpy(self.B[idx]['weight'])\n",
    "            B_save.append({'weight': weight})\n",
    "\n",
    "        model_params = pd.DataFrame(columns = ['Wff', 'Wfb', 'B'])\n",
    "\n",
    "        model_params['Wff'] = Wff_save\n",
    "        model_params['Wfb'] = Wfb_save\n",
    "        model_params['B'] = B_save\n",
    "\n",
    "        model_params.to_pickle(pickle_name + \".pkl\")\n",
    "\n",
    "    def load_model_weights(self, pickle_name):\n",
    "        model_params_load = pd.read_pickle(pickle_name + \".pkl\")\n",
    "        for idx in range(len(self.Wff)):\n",
    "            self.Wff[idx]['weight'] = torch.tensor(model_params_load['Wff'].iloc[idx]['weight'], requires_grad = False).to(self.device)\n",
    "\n",
    "        for idx in range(len(self.Wfb)):\n",
    "            self.Wfb[idx]['weight'] = torch.tensor(model_params_load['Wfb'].iloc[idx]['weight'], requires_grad = False).to(self.device)\n",
    "\n",
    "        for idx in range(len(self.B)):\n",
    "            self.B[idx]['weight'] = torch.tensor(model_params_load['B'].iloc[idx]['weight'], requires_grad = False).to(self.device)\n"
   ]
  },
  {
   "cell_type": "code",
   "execution_count": 3,
   "metadata": {
    "colab": {
     "base_uri": "https://localhost:8080/"
    },
    "id": "1_GCfdXnOjab",
    "outputId": "72bba4fc-d994-4ed0-af6b-b812944d8a03"
   },
   "outputs": [
    {
     "name": "stdout",
     "output_type": "stream",
     "text": [
      "The results will be saved in simulation_results_CorInfoMax_MNIST_4120905.pkl\n",
      "Using device cuda\n"
     ]
    }
   ],
   "source": [
    "dataset_to_be_used = \"MNIST\" # Options: \"MNIST\", \"FashionMNIST\", \"CIFAR10\". We might add more later\n",
    "\n",
    "# Generate a unique name for the pickle to be saved for the simulation results\n",
    "pickle_name_for_results = \"simulation_results_CorInfoMax_\"+dataset_to_be_used+\"_\"+str(np.random.randint(5000000))+\".pkl\"\n",
    "print(\"The results will be saved in\", pickle_name_for_results)\n",
    "\n",
    "device = torch.device('cuda' if torch.cuda.is_available() else 'cpu')\n",
    "print(\"Using device\", device)"
   ]
  },
  {
   "cell_type": "markdown",
   "metadata": {
    "id": "zanNgI_fRry4"
   },
   "source": [
    "# Load Dataset"
   ]
  },
  {
   "cell_type": "code",
   "execution_count": 4,
   "metadata": {
    "colab": {
     "base_uri": "https://localhost:8080/"
    },
    "id": "gBGSStniP3Sw",
    "outputId": "3ea733f8-07d4-4e9c-c0ec-b707f649dead"
   },
   "outputs": [],
   "source": [
    "if dataset_to_be_used == \"MNIST\":\n",
    "    transform = torchvision.transforms.Compose([torchvision.transforms.ToTensor(),\n",
    "                                                torchvision.transforms.Normalize(mean=(0.0,), std=(1.0,))])\n",
    "\n",
    "    mnist_dset_train = torchvision.datasets.MNIST('data', train=True, transform=transform, target_transform=None, download=True)\n",
    "    train_loader = torch.utils.data.DataLoader(mnist_dset_train, batch_size=20, shuffle=True, num_workers=0)\n",
    "\n",
    "    mnist_dset_test = torchvision.datasets.MNIST('data', train=False, transform=transform, target_transform=None, download=True)\n",
    "    test_loader = torch.utils.data.DataLoader(mnist_dset_test, batch_size=20, shuffle=False, num_workers=0)\n",
    "\n",
    "elif dataset_to_be_used == \"FashionMNIST\":\n",
    "    transform = torchvision.transforms.Compose([torchvision.transforms.ToTensor(),\n",
    "                                                torchvision.transforms.Normalize(mean=(0.0,), std=(1.0,))])\n",
    "\n",
    "    mnist_dset_train = torchvision.datasets.FashionMNIST('data', train=True, transform=transform, target_transform=None, download=True)\n",
    "    train_loader = torch.utils.data.DataLoader(mnist_dset_train, batch_size=20, shuffle=True, num_workers=0)\n",
    "\n",
    "    mnist_dset_test = torchvision.datasets.FashionMNIST('data', train=False, transform=transform, target_transform=None, download=True)\n",
    "    test_loader = torch.utils.data.DataLoader(mnist_dset_test, batch_size=20, shuffle=False, num_workers=0)\n",
    "elif dataset_to_be_used == \"CIFAR10\":\n",
    "    transform = torchvision.transforms.Compose([torchvision.transforms.ToTensor(),\n",
    "                                                torchvision.transforms.Normalize(mean=(0.4914, 0.4822, 0.4465),\n",
    "                                                std=(3*0.2023, 3*0.1994, 3*0.2010))])\n",
    "\n",
    "    cifar_dset_train = torchvision.datasets.CIFAR10('data', train=True, transform=transform, target_transform=None, download=True)\n",
    "    train_loader = torch.utils.data.DataLoader(cifar_dset_train, batch_size=20, shuffle=True, num_workers=0)\n",
    "\n",
    "    cifar_dset_test = torchvision.datasets.CIFAR10('data', train=False, transform=transform, target_transform=None, download=True)\n",
    "    test_loader = torch.utils.data.DataLoader(cifar_dset_test, batch_size=20, shuffle=False, num_workers=0)\n",
    "\n",
    "else:\n",
    "    print(\"No such dataset is available for now!!\")"
   ]
  },
  {
   "cell_type": "markdown",
   "metadata": {
    "id": "WAX-oOJGSUA5"
   },
   "source": [
    "# Below Commented Dictionaries Includes Some Hyperparameter Selections for Each Dataset. Do not Change This Commented Part. Instead, a copy exists below to be used in the simulation. You can experiment with them."
   ]
  },
  {
   "cell_type": "code",
   "execution_count": 5,
   "metadata": {
    "id": "BxHk0QgqQKzs"
   },
   "outputs": [],
   "source": [
    "# mnist_hyper_param_dict = {\n",
    "#     \"activation\": hard_sigmoid,\n",
    "#     \"architecture\" : [784, 500, 10],\n",
    "#     \"beta\" : 1,\n",
    "#     \"lambda_\" : 0.99995,\n",
    "#     \"epsilon\" : 0.15,\n",
    "#     \"lr_start\" : {'ff' : np.array([0.3, 0.15]), 'fb': np.array([0.15, 0.1])},\n",
    "#     \"lr_decay_multiplier\" : 0.95,\n",
    "#     \"neural_lr_start\" : 0.1,\n",
    "#     \"neural_lr_stop\" : 0.001,\n",
    "#     \"neural_lr_rule\" : \"constant\",\n",
    "#     \"neural_lr_decay_multiplier\" : 0.01,\n",
    "#     \"neural_dynamic_iterations_free\" : 30,\n",
    "#     \"neural_dynamic_iterations_nudged\" : 10,\n",
    "#     \"hopfield_g\" : 0.1,\n",
    "#     \"use_random_sign_beta\" : True,\n",
    "#     \"use_three_phase\" : False\n",
    "# }\n",
    "\n",
    "# fashionmnist_hyper_param_dict = {\n",
    "#     \"activation\": hard_sigmoid,\n",
    "#     \"architecture\" : [784, 500, 10],\n",
    "#     \"beta\" : 1,\n",
    "#     \"lambda_\" : 0.99995,\n",
    "#     \"epsilon\" : 0.15,\n",
    "#     \"lr_start\" : {'ff' : np.array([0.2, 0.15]), 'fb': np.array([0.15, 0.1])},\n",
    "#     \"lr_decay_multiplier\" : 0.95,\n",
    "#     \"neural_lr_start\" : 0.1,\n",
    "#     \"neural_lr_stop\" : 0.001,\n",
    "#     \"neural_lr_rule\" : \"constant\",\n",
    "#     \"neural_lr_decay_multiplier\" : 0.01,\n",
    "#     \"neural_dynamic_iterations_free\" : 30,\n",
    "#     \"neural_dynamic_iterations_nudged\" : 10,\n",
    "#     \"hopfield_g\" : 0.1,\n",
    "#     \"use_random_sign_beta\" : True,\n",
    "#     \"use_three_phase\" : False\n",
    "# }\n",
    "\n",
    "# cifar_hyper_param_dict = {\n",
    "#     \"activation\": hard_sigmoid,\n",
    "#     \"architecture\" : [int(32*32*3), 500, 10],\n",
    "#     \"beta\" : 1,\n",
    "#     \"lambda_\" : 0.99995,\n",
    "#     \"epsilon\" : 0.15,\n",
    "#     \"lr_start\" : {'ff' : np.array([0.07, 0.03]), 'fb': np.array([np.nan, 0.02])},\n",
    "#     \"lr_decay_multiplier\" : 0.95,\n",
    "#     \"neural_lr_start\" : 0.1,\n",
    "#     \"neural_lr_stop\" : 0.001,\n",
    "#     \"neural_lr_rule\" : \"constant\",\n",
    "#     \"neural_lr_decay_multiplier\" : 0.01,\n",
    "#     \"neural_dynamic_iterations_free\" : 30,\n",
    "#     \"neural_dynamic_iterations_nudged\" : 10,\n",
    "#     \"hopfield_g\" : 0.1,\n",
    "#     \"use_random_sign_beta\" : True,\n",
    "#     \"use_three_phase\" : False\n",
    "# }"
   ]
  },
  {
   "cell_type": "markdown",
   "metadata": {
    "id": "gEHGuJLfUeFx"
   },
   "source": [
    "# Hyper - Parameter Selection"
   ]
  },
  {
   "cell_type": "code",
   "execution_count": 6,
   "metadata": {
    "id": "tSQcbD0SUHmL"
   },
   "outputs": [],
   "source": [
    "mnist_hyper_param_dict = {\n",
    "    \"activation\": hard_sigmoid,\n",
    "    \"architecture\" : [784, 500, 10],\n",
    "    \"beta\" : 1,\n",
    "    \"lambda_\" : 0.99995,\n",
    "    \"epsilon\" : 0.15,\n",
    "    \"lr_start\" : {'ff' : np.array([0.3, 0.15]), 'fb': np.array([0.15, 0.1])},\n",
    "    \"lr_decay_multiplier\" : 0.95,\n",
    "    \"neural_lr_start\" : 0.1,\n",
    "    \"neural_lr_stop\" : 0.001,\n",
    "    \"neural_lr_rule\" : \"constant\",\n",
    "    \"neural_lr_decay_multiplier\" : 0.01,\n",
    "    \"neural_dynamic_iterations_free\" : 30,\n",
    "    \"neural_dynamic_iterations_nudged\" : 10,\n",
    "    \"hopfield_g\" : 0.1,\n",
    "    \"use_random_sign_beta\" : True,\n",
    "    \"use_three_phase\" : False\n",
    "}\n",
    "\n",
    "fashionmnist_hyper_param_dict = {\n",
    "    \"activation\": hard_sigmoid,\n",
    "    \"architecture\" : [784, 500, 10],\n",
    "    \"beta\" : 1,\n",
    "    \"lambda_\" : 0.99995,\n",
    "    \"epsilon\" : 0.15,\n",
    "    \"lr_start\" : {'ff' : np.array([0.2, 0.15]), 'fb': np.array([0.15, 0.1])},\n",
    "    \"lr_decay_multiplier\" : 0.95,\n",
    "    \"neural_lr_start\" : 0.1,\n",
    "    \"neural_lr_stop\" : 0.001,\n",
    "    \"neural_lr_rule\" : \"constant\",\n",
    "    \"neural_lr_decay_multiplier\" : 0.01,\n",
    "    \"neural_dynamic_iterations_free\" : 30,\n",
    "    \"neural_dynamic_iterations_nudged\" : 10,\n",
    "    \"hopfield_g\" : 0.1,\n",
    "    \"use_random_sign_beta\" : True,\n",
    "    \"use_three_phase\" : False\n",
    "}\n",
    "\n",
    "# cifar_hyper_param_dict = {\n",
    "#     \"activation\": hard_sigmoid,\n",
    "#     \"architecture\" : [int(32*32*3), 1000, 1000, 500, 10],\n",
    "#     \"beta\" : 0.5,\n",
    "#     \"lambda_\" : 0.99999,\n",
    "#     \"epsilon\" : 0.15,\n",
    "#     \"lr_start\" : {'ff' : np.array([0.25 , 0.14 , 0.075, 0.045]), 'fb': np.array([  np.nan, 0.095, 0.075, 0.04 ])},\n",
    "#     \"lr_decay_multiplier\" : 0.95,\n",
    "#     \"neural_lr_start\" : 0.03,\n",
    "#     \"neural_lr_stop\" : 0.001,\n",
    "#     \"neural_lr_rule\" : \"constant\",\n",
    "#     \"neural_lr_decay_multiplier\" : 0.01,\n",
    "#     \"neural_dynamic_iterations_free\" : 80,\n",
    "#     \"neural_dynamic_iterations_nudged\" : 15,\n",
    "#     \"hopfield_g\" : 0.1,\n",
    "#     \"use_random_sign_beta\" : True,\n",
    "#     \"use_three_phase\" : False\n",
    "# }\n",
    "\n",
    "cifar_hyper_param_dict = {\n",
    "    \"activation\": hard_sigmoid,\n",
    "    \"architecture\" : [int(32*32*3), 1000, 10],\n",
    "    \"beta\" : 1,\n",
    "    \"lambda_\" : 0.99995,\n",
    "    \"epsilon\" : 0.15,\n",
    "    \"lr_start\" : {'ff' : np.array([0.07, 0.03]), 'fb': np.array([np.nan, 0.02])},\n",
    "    \"lr_decay_multiplier\" : 0.95,\n",
    "    \"neural_lr_start\" : 0.1,\n",
    "    \"neural_lr_stop\" : 0.001,\n",
    "    \"neural_lr_rule\" : \"constant\",\n",
    "    \"neural_lr_decay_multiplier\" : 0.01,\n",
    "    \"neural_dynamic_iterations_free\" : 30,\n",
    "    \"neural_dynamic_iterations_nudged\" : 10,\n",
    "    \"hopfield_g\" : 0.1,\n",
    "    \"use_random_sign_beta\" : True,\n",
    "    \"use_three_phase\" : False\n",
    "}"
   ]
  },
  {
   "cell_type": "code",
   "execution_count": 7,
   "metadata": {
    "id": "rzXFQ12NUiNl"
   },
   "outputs": [],
   "source": [
    "if dataset_to_be_used == \"MNIST\":\n",
    "    activation = mnist_hyper_param_dict[\"activation\"]\n",
    "    architecture = mnist_hyper_param_dict[\"architecture\"]\n",
    "    beta = mnist_hyper_param_dict[\"beta\"]\n",
    "    lambda_ = mnist_hyper_param_dict[\"lambda_\"]\n",
    "    epsilon = mnist_hyper_param_dict[\"epsilon\"]\n",
    "    lr_start = mnist_hyper_param_dict[\"lr_start\"]\n",
    "    lr_decay_multiplier = mnist_hyper_param_dict[\"lr_decay_multiplier\"]\n",
    "    neural_lr_start = mnist_hyper_param_dict[\"neural_lr_start\"]\n",
    "    neural_lr_stop = mnist_hyper_param_dict[\"neural_lr_stop\"]\n",
    "    neural_lr_rule = mnist_hyper_param_dict[\"neural_lr_rule\"]\n",
    "    neural_lr_decay_multiplier = mnist_hyper_param_dict[\"neural_lr_decay_multiplier\"]\n",
    "    neural_dynamic_iterations_free = mnist_hyper_param_dict[\"neural_dynamic_iterations_free\"]\n",
    "    neural_dynamic_iterations_nudged = mnist_hyper_param_dict[\"neural_dynamic_iterations_nudged\"]\n",
    "    hopfield_g = mnist_hyper_param_dict[\"hopfield_g\"]\n",
    "    use_random_sign_beta = mnist_hyper_param_dict[\"use_random_sign_beta\"]\n",
    "    use_three_phase = mnist_hyper_param_dict[\"use_three_phase\"]\n",
    "\n",
    "elif dataset_to_be_used == \"FashionMNIST\":\n",
    "    activation = fashionmnist_hyper_param_dict[\"activation\"]\n",
    "    architecture = fashionmnist_hyper_param_dict[\"architecture\"]\n",
    "    beta = fashionmnist_hyper_param_dict[\"beta\"]\n",
    "    lambda_ = fashionmnist_hyper_param_dict[\"lambda_\"]\n",
    "    epsilon = fashionmnist_hyper_param_dict[\"epsilon\"]\n",
    "    lr_start = fashionmnist_hyper_param_dict[\"lr_start\"]\n",
    "    lr_decay_multiplier = fashionmnist_hyper_param_dict[\"lr_decay_multiplier\"]\n",
    "    neural_lr_start = fashionmnist_hyper_param_dict[\"neural_lr_start\"]\n",
    "    neural_lr_stop = fashionmnist_hyper_param_dict[\"neural_lr_stop\"]\n",
    "    neural_lr_rule = fashionmnist_hyper_param_dict[\"neural_lr_rule\"]\n",
    "    neural_lr_decay_multiplier = fashionmnist_hyper_param_dict[\"neural_lr_decay_multiplier\"]\n",
    "    neural_dynamic_iterations_free = fashionmnist_hyper_param_dict[\"neural_dynamic_iterations_free\"]\n",
    "    neural_dynamic_iterations_nudged = fashionmnist_hyper_param_dict[\"neural_dynamic_iterations_nudged\"]\n",
    "    hopfield_g = fashionmnist_hyper_param_dict[\"hopfield_g\"]\n",
    "    use_random_sign_beta = fashionmnist_hyper_param_dict[\"use_random_sign_beta\"]\n",
    "    use_three_phase = fashionmnist_hyper_param_dict[\"use_three_phase\"]\n",
    "\n",
    "elif dataset_to_be_used == \"CIFAR10\":\n",
    "    activation = cifar_hyper_param_dict[\"activation\"]\n",
    "    architecture = cifar_hyper_param_dict[\"architecture\"]\n",
    "    beta = cifar_hyper_param_dict[\"beta\"]\n",
    "    lambda_ = cifar_hyper_param_dict[\"lambda_\"]\n",
    "    epsilon = cifar_hyper_param_dict[\"epsilon\"]\n",
    "    lr_start = cifar_hyper_param_dict[\"lr_start\"]\n",
    "    lr_decay_multiplier = cifar_hyper_param_dict[\"lr_decay_multiplier\"]\n",
    "    neural_lr_start = cifar_hyper_param_dict[\"neural_lr_start\"]\n",
    "    neural_lr_stop = cifar_hyper_param_dict[\"neural_lr_stop\"]\n",
    "    neural_lr_rule = cifar_hyper_param_dict[\"neural_lr_rule\"]\n",
    "    neural_lr_decay_multiplier = cifar_hyper_param_dict[\"neural_lr_decay_multiplier\"]\n",
    "    neural_dynamic_iterations_free = cifar_hyper_param_dict[\"neural_dynamic_iterations_free\"]\n",
    "    neural_dynamic_iterations_nudged = cifar_hyper_param_dict[\"neural_dynamic_iterations_nudged\"]\n",
    "    hopfield_g = cifar_hyper_param_dict[\"hopfield_g\"]\n",
    "    use_random_sign_beta = cifar_hyper_param_dict[\"use_random_sign_beta\"]\n",
    "    use_three_phase = cifar_hyper_param_dict[\"use_three_phase\"]"
   ]
  },
  {
   "cell_type": "code",
   "execution_count": 8,
   "metadata": {},
   "outputs": [],
   "source": [
    "hidden_size = architecture[1]"
   ]
  },
  {
   "cell_type": "code",
   "execution_count": 9,
   "metadata": {
    "id": "eq91UqBbWD4l"
   },
   "outputs": [],
   "source": [
    "n_epochs = 15\n",
    "seed_list = [10*j for j in range(5)]"
   ]
  },
  {
   "cell_type": "code",
   "execution_count": 10,
   "metadata": {},
   "outputs": [
    {
     "name": "stdout",
     "output_type": "stream",
     "text": [
      "Forward Eigenvalue ratio:  0.936\n",
      "Backward Eigenvalue ratio:  0.988\n"
     ]
    },
    {
     "data": {
      "image/png": "[encoded data removed]",
      "text/plain": [
       "<Figure size 504x504 with 1 Axes>"
      ]
     },
     "metadata": {
      "needs_background": "light"
     },
     "output_type": "display_data"
    },
    {
     "data": {
      "image/png": "[encoded data removed]",
      "text/plain": [
       "<Figure size 504x504 with 1 Axes>"
      ]
     },
     "metadata": {
      "needs_background": "light"
     },
     "output_type": "display_data"
    }
   ],
   "source": [
    "model = ContrastiveCorInfoMaxHopfield(architecture = architecture, lambda_ = lambda_,\n",
    "                                        epsilon = epsilon, activation = activation)\n",
    "\n",
    "hidden_layer_forward_error_corr = torch.zeros(hidden_size,hidden_size).to(device)\n",
    "hidden_layer_backward_error_corr = torch.zeros(hidden_size,hidden_size).to(device)\n",
    "for x, y in test_loader:\n",
    "    x = x.view(x.size(0),-1).to(device).T\n",
    "    y = y.to(device)\n",
    "\n",
    "    mbs = x.size(1)\n",
    "    neurons = model.init_neurons(x.size(1), device = model.device)\n",
    "\n",
    "    # dynamics for T time steps\n",
    "    neurons, _, _ = model.run_neural_dynamics_hopfield(x, 0, neurons, \n",
    "                                                       hopfield_g, neural_lr_start, neural_lr_stop, \n",
    "                                                       neural_lr_rule, neural_lr_decay_multiplier, \n",
    "                                                       neural_dynamic_iterations_free, beta = 0) \n",
    "    layers_free = [x] + neurons\n",
    "    forward_errors_free = [layers_free[jj + 1] - (model.Wff[jj]['weight'] @ layers_free[jj]) for jj in range(len(model.Wff))]\n",
    "\n",
    "    backward_errors_free = [(layers_free[jj]) - (model.Wfb[jj]['weight'] @ layers_free[jj + 1]) for jj in range(1, len(model.Wfb))]\n",
    "\n",
    "    hidden_layer_forward_error_corr += torch.sum(outer_prod_broadcasting(forward_errors_free[0].T, forward_errors_free[0].T), axis = 0)\n",
    "    hidden_layer_backward_error_corr += torch.sum(outer_prod_broadcasting(backward_errors_free[0].T, backward_errors_free[0].T), axis = 0)\n",
    "\n",
    "hidden_layer_forward_error_corr = hidden_layer_forward_error_corr / (len(test_loader)  * test_loader.batch_size)\n",
    "hidden_layer_backward_error_corr = hidden_layer_backward_error_corr / (len(test_loader)  * test_loader.batch_size)\n",
    "\n",
    "print(\"Forward Eigenvalue ratio: \", (np.linalg.eig(torch2numpy(hidden_layer_forward_error_corr ))[0] < epsilon).sum() / hidden_size)\n",
    "print(\"Backward Eigenvalue ratio: \", (np.linalg.eig(torch2numpy(hidden_layer_backward_error_corr ))[0] < epsilon).sum() / hidden_size)\n",
    "    \n",
    "plt.figure(figsize = (7,7))\n",
    "plt.semilogy(np.linalg.eig(torch2numpy(hidden_layer_backward_error_corr ))[0])\n",
    "plt.axhline(y=0.15, color='r', linestyle='-')\n",
    "plt.grid()\n",
    "plt.ylabel(\"Eigenvalues\", fontsize =  20)\n",
    "plt.xticks(fontsize=20)\n",
    "plt.yticks(fontsize=20)\n",
    "plt.title(\"Backward Error Eigenvalues\", fontsize =  20)\n",
    "plt.show()\n",
    "\n",
    "plt.figure(figsize = (7,7))\n",
    "plt.semilogy(np.linalg.eig(torch2numpy(hidden_layer_forward_error_corr ))[0])\n",
    "plt.axhline(y=0.15, color='r', linestyle='-')\n",
    "plt.grid()\n",
    "plt.ylabel(\"Eigenvalues\", fontsize =  20)\n",
    "plt.title(\"Forward Error Eigenvalues\", fontsize =  20)\n",
    "plt.xticks(fontsize=20)\n",
    "plt.yticks(fontsize=20)\n",
    "plt.show()"
   ]
  },
  {
   "cell_type": "code",
   "execution_count": 11,
   "metadata": {
    "colab": {
     "background_save": true,
     "base_uri": "https://localhost:8080/"
    },
    "id": "4-Iu8uYlViR0",
    "outputId": "16ee172a-754b-4cf3-e6cd-0f82b0754f31",
    "scrolled": true
   },
   "outputs": [
    {
     "name": "stderr",
     "output_type": "stream",
     "text": [
      "3000it [00:59, 50.24it/s]\n",
      "0it [00:00, ?it/s]"
     ]
    },
    {
     "name": "stdout",
     "output_type": "stream",
     "text": [
      "Forward Eigenvalue ratio:  0.942\n",
      "Backward Eigenvalue ratio:  0.972\n",
      "Epoch : 1, Train Accuracy : 0.9140333333333334, Test Accuracy : 0.917\n"
     ]
    },
    {
     "name": "stderr",
     "output_type": "stream",
     "text": [
      "3000it [00:59, 50.36it/s]\n",
      "0it [00:00, ?it/s]"
     ]
    },
    {
     "name": "stdout",
     "output_type": "stream",
     "text": [
      "Forward Eigenvalue ratio:  0.938\n",
      "Backward Eigenvalue ratio:  0.97\n",
      "Epoch : 2, Train Accuracy : 0.9328333333333333, Test Accuracy : 0.9358\n"
     ]
    },
    {
     "name": "stderr",
     "output_type": "stream",
     "text": [
      "3000it [00:59, 50.37it/s]\n",
      "0it [00:00, ?it/s]"
     ]
    },
    {
     "name": "stdout",
     "output_type": "stream",
     "text": [
      "Forward Eigenvalue ratio:  0.932\n",
      "Backward Eigenvalue ratio:  0.968\n",
      "Epoch : 3, Train Accuracy : 0.9445833333333333, Test Accuracy : 0.9458\n"
     ]
    },
    {
     "name": "stderr",
     "output_type": "stream",
     "text": [
      "3000it [00:59, 50.46it/s]\n",
      "0it [00:00, ?it/s]"
     ]
    },
    {
     "name": "stdout",
     "output_type": "stream",
     "text": [
      "Forward Eigenvalue ratio:  0.932\n",
      "Backward Eigenvalue ratio:  0.966\n",
      "Epoch : 4, Train Accuracy : 0.9504166666666667, Test Accuracy : 0.9498\n"
     ]
    },
    {
     "name": "stderr",
     "output_type": "stream",
     "text": [
      "3000it [00:59, 50.37it/s]\n",
      "0it [00:00, ?it/s]"
     ]
    },
    {
     "name": "stdout",
     "output_type": "stream",
     "text": [
      "Forward Eigenvalue ratio:  0.928\n",
      "Backward Eigenvalue ratio:  0.966\n",
      "Epoch : 5, Train Accuracy : 0.95725, Test Accuracy : 0.9566\n"
     ]
    },
    {
     "name": "stderr",
     "output_type": "stream",
     "text": [
      "3000it [00:59, 50.18it/s]\n",
      "0it [00:00, ?it/s]"
     ]
    },
    {
     "name": "stdout",
     "output_type": "stream",
     "text": [
      "Forward Eigenvalue ratio:  0.928\n",
      "Backward Eigenvalue ratio:  0.964\n",
      "Epoch : 6, Train Accuracy : 0.9596333333333333, Test Accuracy : 0.9586\n"
     ]
    },
    {
     "name": "stderr",
     "output_type": "stream",
     "text": [
      "3000it [00:59, 50.16it/s]\n",
      "0it [00:00, ?it/s]"
     ]
    },
    {
     "name": "stdout",
     "output_type": "stream",
     "text": [
      "Forward Eigenvalue ratio:  0.928\n",
      "Backward Eigenvalue ratio:  0.964\n",
      "Epoch : 7, Train Accuracy : 0.9628, Test Accuracy : 0.9609\n"
     ]
    },
    {
     "name": "stderr",
     "output_type": "stream",
     "text": [
      "3000it [01:00, 49.91it/s]\n",
      "0it [00:00, ?it/s]"
     ]
    },
    {
     "name": "stdout",
     "output_type": "stream",
     "text": [
      "Forward Eigenvalue ratio:  0.928\n",
      "Backward Eigenvalue ratio:  0.964\n",
      "Epoch : 8, Train Accuracy : 0.9654666666666667, Test Accuracy : 0.9628\n"
     ]
    },
    {
     "name": "stderr",
     "output_type": "stream",
     "text": [
      "3000it [01:00, 50.00it/s]\n",
      "0it [00:00, ?it/s]"
     ]
    },
    {
     "name": "stdout",
     "output_type": "stream",
     "text": [
      "Forward Eigenvalue ratio:  0.926\n",
      "Backward Eigenvalue ratio:  0.962\n",
      "Epoch : 9, Train Accuracy : 0.9673666666666667, Test Accuracy : 0.9647\n"
     ]
    },
    {
     "name": "stderr",
     "output_type": "stream",
     "text": [
      "3000it [00:59, 50.14it/s]\n",
      "0it [00:00, ?it/s]"
     ]
    },
    {
     "name": "stdout",
     "output_type": "stream",
     "text": [
      "Forward Eigenvalue ratio:  0.926\n",
      "Backward Eigenvalue ratio:  0.962\n",
      "Epoch : 10, Train Accuracy : 0.96815, Test Accuracy : 0.9636\n"
     ]
    },
    {
     "name": "stderr",
     "output_type": "stream",
     "text": [
      "3000it [00:59, 50.41it/s]\n",
      "0it [00:00, ?it/s]"
     ]
    },
    {
     "name": "stdout",
     "output_type": "stream",
     "text": [
      "Forward Eigenvalue ratio:  0.924\n",
      "Backward Eigenvalue ratio:  0.962\n",
      "Epoch : 11, Train Accuracy : 0.96985, Test Accuracy : 0.965\n"
     ]
    },
    {
     "name": "stderr",
     "output_type": "stream",
     "text": [
      "3000it [00:59, 50.29it/s]\n",
      "0it [00:00, ?it/s]"
     ]
    },
    {
     "name": "stdout",
     "output_type": "stream",
     "text": [
      "Forward Eigenvalue ratio:  0.922\n",
      "Backward Eigenvalue ratio:  0.958\n",
      "Epoch : 12, Train Accuracy : 0.9707166666666667, Test Accuracy : 0.9661\n"
     ]
    },
    {
     "name": "stderr",
     "output_type": "stream",
     "text": [
      "3000it [00:59, 50.18it/s]\n",
      "0it [00:00, ?it/s]"
     ]
    },
    {
     "name": "stdout",
     "output_type": "stream",
     "text": [
      "Forward Eigenvalue ratio:  0.922\n",
      "Backward Eigenvalue ratio:  0.958\n",
      "Epoch : 13, Train Accuracy : 0.9711, Test Accuracy : 0.9666\n"
     ]
    },
    {
     "name": "stderr",
     "output_type": "stream",
     "text": [
      "3000it [00:59, 50.18it/s]\n",
      "0it [00:00, ?it/s]"
     ]
    },
    {
     "name": "stdout",
     "output_type": "stream",
     "text": [
      "Forward Eigenvalue ratio:  0.92\n",
      "Backward Eigenvalue ratio:  0.958\n",
      "Epoch : 14, Train Accuracy : 0.9724666666666667, Test Accuracy : 0.9671\n"
     ]
    },
    {
     "name": "stderr",
     "output_type": "stream",
     "text": [
      "3000it [00:59, 50.10it/s]\n"
     ]
    },
    {
     "name": "stdout",
     "output_type": "stream",
     "text": [
      "Forward Eigenvalue ratio:  0.92\n",
      "Backward Eigenvalue ratio:  0.958\n",
      "Epoch : 15, Train Accuracy : 0.97305, Test Accuracy : 0.967\n"
     ]
    }
   ],
   "source": [
    "RESULTS_DF = pd.DataFrame( columns = ['setting_number', 'seed', 'Model', 'Hyperparams', 'Trn_ACC_list', 'Tst_ACC_list', 'forward_backward_weight_angle_list'])\n",
    "\n",
    "setting_number = 1\n",
    "hyperparams_dict = {\"lr_start\" : lr_start, \"lr_decay_multiplier\" : lr_decay_multiplier,\n",
    "                    \"neural_dynamic_iterations_free\" : neural_dynamic_iterations_free,\n",
    "                    \"neural_dynamic_iterations_nudged\" : neural_dynamic_iterations_nudged,\n",
    "                    \"neural_lr_rule\" : neural_lr_rule, \"neural_lr\" : neural_lr_start,\n",
    "                    \"epsilon\" : epsilon, \"lambda\" : lambda_,\n",
    "                    \"architecture\" : architecture,\n",
    "                    \"three_phase\" : use_three_phase}\n",
    "# for seed_ in seed_list:\n",
    "#     np.random.seed(seed_)\n",
    "#     torch.manual_seed(seed_)\n",
    "\n",
    "trn_acc_list = []\n",
    "tst_acc_list = []\n",
    "model = ContrastiveCorInfoMaxHopfield(architecture = architecture, lambda_ = lambda_,\n",
    "                                        epsilon = epsilon, activation = activation)\n",
    "debug_iteration_point = 1\n",
    "\n",
    "\n",
    "for epoch_ in range(n_epochs):\n",
    "    if epoch_ < 15:\n",
    "        lr = {'ff' : lr_start['ff'] * (lr_decay_multiplier)**epoch_, 'fb' : lr_start['fb'] * (lr_decay_multiplier)**epoch_}\n",
    "    else:\n",
    "        lr = {'ff' : lr_start['ff'] * (0.9)**epoch_, 'fb' : lr_start['fb'] * (0.9)**epoch_}\n",
    "    for idx, (x, y) in tqdm(enumerate(train_loader)):\n",
    "        x, y = x.to(device), y.to(device)\n",
    "        x = x.view(x.size(0),-1).T\n",
    "        y_one_hot = F.one_hot(y, 10).to(device).T\n",
    "        take_debug_logs_ = (idx % 500 == 0)\n",
    "        if use_random_sign_beta:\n",
    "            rnd_sgn = 2*np.random.randint(2) - 1\n",
    "            beta = rnd_sgn*beta\n",
    "\n",
    "        neurons = model.batch_step_hopfield( x, y_one_hot, hopfield_g,\n",
    "                                            lr, neural_lr_start, neural_lr_stop, neural_lr_rule,\n",
    "                                            neural_lr_decay_multiplier, neural_dynamic_iterations_free,\n",
    "                                            neural_dynamic_iterations_nudged, beta,\n",
    "                                            use_three_phase, take_debug_logs_)\n",
    "\n",
    "    trn_acc = evaluateContrastiveCorInfoMaxHopfield(model, train_loader, hopfield_g, neural_lr_start,\n",
    "                                                    neural_lr_stop, neural_lr_rule,\n",
    "                                                    neural_lr_decay_multiplier,\n",
    "                                                    neural_dynamic_iterations_free,\n",
    "                                                    device, printing = False)\n",
    "    tst_acc = evaluateContrastiveCorInfoMaxHopfield(model, test_loader, hopfield_g, neural_lr_start,\n",
    "                                                    neural_lr_stop, neural_lr_rule,\n",
    "                                                    neural_lr_decay_multiplier,\n",
    "                                                    neural_dynamic_iterations_free,\n",
    "                                                    device, printing = False)\n",
    "    hidden_layer_forward_error_corr = torch.zeros(hidden_size,hidden_size).to(device)\n",
    "    hidden_layer_backward_error_corr = torch.zeros(hidden_size,hidden_size).to(device)\n",
    "    for x, y in test_loader:\n",
    "        x = x.view(x.size(0),-1).to(device).T\n",
    "        y = y.to(device)\n",
    "\n",
    "        mbs = x.size(1)\n",
    "        neurons = model.init_neurons(x.size(1), device = model.device)\n",
    "\n",
    "        # dynamics for T time steps\n",
    "        neurons, _, _ = model.run_neural_dynamics_hopfield(x, 0, neurons, \n",
    "                                                           hopfield_g, neural_lr_start, neural_lr_stop, \n",
    "                                                           neural_lr_rule, neural_lr_decay_multiplier, \n",
    "                                                           neural_dynamic_iterations_free, beta = 0) \n",
    "        layers_free = [x] + neurons\n",
    "        forward_errors_free = [layers_free[jj + 1] - (model.Wff[jj]['weight'] @ layers_free[jj]) for jj in range(len(model.Wff))]\n",
    "\n",
    "        backward_errors_free = [(layers_free[jj]) - (model.Wfb[jj]['weight'] @ layers_free[jj + 1]) for jj in range(1, len(model.Wfb))]\n",
    "    \n",
    "        hidden_layer_forward_error_corr += torch.sum(outer_prod_broadcasting(forward_errors_free[0].T, forward_errors_free[0].T), axis = 0)\n",
    "        hidden_layer_backward_error_corr += torch.sum(outer_prod_broadcasting(backward_errors_free[0].T, backward_errors_free[0].T), axis = 0)\n",
    "\n",
    "    print(\"Forward Eigenvalue ratio: \", (np.linalg.eig(torch2numpy(hidden_layer_forward_error_corr / (len(test_loader)  * test_loader.batch_size)))[0] < epsilon).sum() / hidden_size)\n",
    "    print(\"Backward Eigenvalue ratio: \", (np.linalg.eig(torch2numpy(hidden_layer_backward_error_corr / (len(test_loader)  * test_loader.batch_size)))[0] < epsilon).sum() / hidden_size)\n",
    "    trn_acc_list.append(trn_acc)\n",
    "    tst_acc_list.append(tst_acc)\n",
    "    print(\"Epoch : {}, Train Accuracy : {}, Test Accuracy : {}\".format(epoch_+1, trn_acc, tst_acc))\n",
    "\n"
   ]
  },
  {
   "cell_type": "code",
   "execution_count": 12,
   "metadata": {},
   "outputs": [],
   "source": [
    "hidden_layer_forward_error_corr = torch.zeros(hidden_size,hidden_size).to(device)\n",
    "hidden_layer_backward_error_corr = torch.zeros(hidden_size,hidden_size).to(device)\n",
    "\n",
    "hidden_layer_forward_error_mean = torch.zeros(hidden_size).to(device)\n",
    "for x, y in test_loader:\n",
    "    x = x.view(x.size(0),-1).to(device).T\n",
    "    y = y.to(device)\n",
    "    \n",
    "    mbs = x.size(1)\n",
    "    neurons = model.init_neurons(x.size(1), device = model.device)\n",
    "\n",
    "    # dynamics for T time steps\n",
    "    neurons, _, _ = model.run_neural_dynamics_hopfield(x, 0, neurons, \n",
    "                                                       hopfield_g, neural_lr_start, neural_lr_stop, \n",
    "                                                       neural_lr_rule, neural_lr_decay_multiplier, \n",
    "                                                       neural_dynamic_iterations_free, beta = 0) \n",
    "    layers_free = [x] + neurons\n",
    "    forward_errors_free = [layers_free[jj + 1] - (model.Wff[jj]['weight'] @ layers_free[jj]) for jj in range(len(model.Wff))]\n",
    "\n",
    "    backward_errors_free = [(layers_free[jj]) - (model.Wfb[jj]['weight'] @ layers_free[jj + 1]) for jj in range(1, len(model.Wfb))]\n",
    "    \n",
    "    hidden_layer_forward_error_corr += torch.sum(outer_prod_broadcasting(forward_errors_free[0].T, forward_errors_free[0].T), axis = 0)\n",
    "    hidden_layer_backward_error_corr += torch.sum(outer_prod_broadcasting(backward_errors_free[0].T, backward_errors_free[0].T), axis = 0)\n",
    "    \n",
    "    hidden_layer_forward_error_mean += forward_errors_free[0].sum(axis = 1)\n",
    "    \n",
    "hidden_layer_forward_error_corr = hidden_layer_forward_error_corr / (len(test_loader)  * test_loader.batch_size)\n",
    "hidden_layer_backward_error_corr = hidden_layer_backward_error_corr / (len(test_loader)  * test_loader.batch_size)\n",
    "hidden_layer_forward_error_mean = hidden_layer_forward_error_mean / (len(test_loader)  * test_loader.batch_size)"
   ]
  },
  {
   "cell_type": "code",
   "execution_count": 13,
   "metadata": {},
   "outputs": [
    {
     "data": {
      "text/plain": [
       "tensor([-1.7935e-01, -2.7218e-01, -6.4401e-02,  9.8454e-01,  1.7719e-01,\n",
       "         3.3096e-01,  1.1483e-01,  1.0943e-01,  9.0388e-02,  1.1203e-01,\n",
       "         7.0240e-02, -3.2325e-01,  1.2479e-01,  4.4482e-01,  1.7229e-02,\n",
       "         2.1181e-01,  1.2930e-01, -3.2073e-01,  2.4697e-01, -1.4887e-01,\n",
       "         2.3850e-01,  9.4724e-02, -4.2990e-02, -4.5572e-01,  6.7241e-01,\n",
       "        -6.2181e-02,  3.7488e-01,  2.9073e-02, -3.4055e-01,  2.2928e-01,\n",
       "        -7.2960e-02, -1.7965e-03,  2.3178e-02,  1.3814e-01, -1.3304e-01,\n",
       "        -8.9300e-01, -1.2813e-01, -6.1177e-02, -1.1740e-01,  7.4516e-01,\n",
       "        -8.7182e-01,  2.9891e-01,  9.7598e-02,  3.1124e-01, -2.8044e-01,\n",
       "         4.1958e-01, -1.2056e+00, -6.7717e-02, -3.0093e-01,  5.0888e-02,\n",
       "        -8.2024e-02,  7.1789e-02, -1.4002e-02,  2.5330e-01, -8.7239e-01,\n",
       "         8.6134e-02, -3.4350e-01,  3.5947e-02,  2.1294e-01, -1.6662e-01,\n",
       "         8.0996e-02, -8.2221e-02,  1.4988e-01,  2.6508e-01,  5.3883e-02,\n",
       "         1.6317e-02,  5.8287e-01, -2.1905e-02, -4.0747e-01,  1.2460e-01,\n",
       "        -9.6613e-02, -1.9236e-01, -3.2450e-01, -3.2889e-02, -4.4457e-01,\n",
       "         2.3137e-01, -1.1017e-01,  3.1952e-01, -1.5223e-01, -5.1617e-01,\n",
       "        -3.8220e-01, -5.1822e-02, -1.2757e-01, -6.5503e-01, -8.4223e-02,\n",
       "        -3.5396e-01, -3.4249e-01,  9.5190e-02,  6.3218e-01, -1.5755e-01,\n",
       "         4.9527e-02,  1.8590e-01,  8.4903e-02,  1.6298e-01, -1.6759e-01,\n",
       "        -1.3082e-01, -9.7609e-01,  1.5264e-02,  3.8476e-01,  1.6853e-02,\n",
       "        -1.5090e-01, -3.9085e-01, -2.0654e-01, -1.7482e-01,  3.8689e-02,\n",
       "        -3.9135e-03,  1.7259e-01, -1.5220e-01, -1.5840e-01,  2.5843e-01,\n",
       "         6.7415e-02,  9.8412e-02, -1.0191e-01,  2.7951e-01,  2.1766e-01,\n",
       "         2.5048e-02,  2.8616e-01,  4.4096e-01,  2.5570e-02, -5.1334e-02,\n",
       "        -5.6821e-03, -3.4135e-01,  2.8080e-02,  1.1290e-01,  5.5003e-02,\n",
       "        -2.8512e-01,  1.7839e-01,  9.5726e-02, -1.6122e-01, -2.0128e-01,\n",
       "         6.0302e-01,  3.4624e-01, -6.8466e-02, -4.3786e-01, -1.1733e+00,\n",
       "        -3.7153e-02, -1.4835e+00,  3.4385e-01, -1.2512e-01,  4.2822e-02,\n",
       "         8.4837e-02,  9.9269e-02, -2.2044e-01,  1.7444e-01,  9.1293e-02,\n",
       "         4.3338e-02, -3.9728e-01, -6.5048e-02, -5.2689e-03,  1.1391e-01,\n",
       "         3.9994e-03, -1.1782e-01, -1.4858e+00,  5.8974e-02, -4.5627e-01,\n",
       "        -2.0927e-01,  6.9950e-01, -2.4433e-01, -4.8072e-01, -1.2284e-02,\n",
       "        -3.0725e-02, -2.7840e-01, -3.8974e-01,  2.7283e-02, -2.0438e-01,\n",
       "         4.8493e-02, -5.2956e-01, -1.3905e-01, -1.9478e-01, -1.0520e-01,\n",
       "        -1.1278e+00,  1.8074e-01, -3.9004e-01,  3.9155e-01,  2.4510e-01,\n",
       "        -6.8134e-02,  7.9292e-01, -1.6232e-01, -7.9593e-02,  6.4940e-02,\n",
       "         1.5244e-01, -1.4702e-01,  4.9583e-02, -2.1726e-01,  1.0861e-01,\n",
       "        -2.4465e-01, -1.2073e-01,  4.8108e-01, -4.4630e-02,  2.2576e-01,\n",
       "        -7.9094e-02, -2.6623e-01,  6.5447e-01, -1.3083e+00,  1.5508e-01,\n",
       "        -1.8821e-01,  2.3620e-01,  4.3154e-01,  5.3419e-02, -1.2743e-01,\n",
       "        -7.0930e-01,  1.4581e-01, -3.2544e-01,  6.9274e-01,  3.9257e-01,\n",
       "        -6.9027e-02, -5.8350e-01, -2.3677e-01, -3.4287e-02,  2.3127e-01,\n",
       "         9.5906e-02,  1.1220e-02, -3.2499e-01, -1.6955e-01, -4.0751e-01,\n",
       "         3.7039e-01, -1.7270e-01,  2.1577e-01, -9.1047e-02, -3.7915e-01,\n",
       "        -2.5153e-02,  1.0513e-01, -9.8434e-02,  4.7883e-01,  3.2301e-01,\n",
       "         3.6592e-01, -1.2239e-01, -9.1876e-02,  3.0765e-01,  2.7165e-01,\n",
       "        -1.4321e-01,  7.4458e-02,  5.2122e-01, -6.0729e-02,  4.8226e-02,\n",
       "        -3.9754e-01,  6.3824e-02,  1.6961e-01,  6.2114e-01,  1.1180e-01,\n",
       "         1.4143e-01,  1.4181e-01,  2.4804e-01,  1.9421e-02,  2.4756e-02,\n",
       "         8.3104e-02,  5.8218e-01, -4.2478e-02, -1.3205e-02,  2.9507e-01,\n",
       "        -2.4835e-01, -8.0691e-02, -1.8038e-01,  1.5016e-01,  7.1718e-02,\n",
       "         2.3924e-01, -8.9718e-02, -2.2855e-01, -2.8252e-01,  1.2009e-01,\n",
       "        -5.4436e-01, -1.3967e+00, -3.9705e-01,  2.4734e-01, -8.2144e-02,\n",
       "         6.2860e-01,  2.4366e-01,  6.2624e-02,  1.6305e-01, -2.9980e-01,\n",
       "        -5.2881e-01,  1.1752e-01,  2.3346e-01,  1.0389e-01,  3.3930e-01,\n",
       "         4.9791e-02, -7.4852e-02, -6.3287e-01, -1.9316e-01, -2.7346e-01,\n",
       "        -5.5068e-02, -1.6611e-01, -4.1470e-01,  6.0760e-01,  1.4602e-04,\n",
       "         6.1108e-01, -4.8667e-01,  5.2115e-02, -2.8929e-02, -3.0296e-01,\n",
       "         7.8166e-02,  4.7841e-01, -7.4080e-02, -8.1930e-02, -2.3226e-01,\n",
       "         1.2660e-01, -9.8688e-02,  1.9598e-01,  1.6391e-01,  9.7913e-03,\n",
       "         3.4189e-01,  1.9063e-01,  4.0229e-01, -2.9184e-01, -9.3975e-02,\n",
       "         2.3863e-01,  4.0121e-02, -2.0791e-01,  2.9510e-02,  1.1426e-01,\n",
       "        -4.4320e-04, -6.6641e-01,  1.8801e-01, -1.5165e-01,  3.9983e-01,\n",
       "         4.3867e-03,  5.6130e-01, -2.4757e-01,  1.4251e-01, -4.3275e-01,\n",
       "        -1.0597e-01,  1.3913e-01, -1.7655e-01, -4.3069e-02,  5.7373e-03,\n",
       "        -3.7197e-02, -6.6193e-01, -9.9920e-02,  2.7693e-01, -2.6823e-01,\n",
       "        -7.6124e-01, -1.5180e-01,  3.0998e-01,  1.2641e-01,  7.9894e-02,\n",
       "        -1.7190e-01, -2.4646e-01, -8.7084e-01, -5.0757e-02,  5.7550e-01,\n",
       "        -4.1055e-01, -1.8431e-01, -2.2748e-01,  2.8150e-01, -6.5522e-02,\n",
       "        -1.9364e+00,  1.2715e-01, -2.1062e-01, -1.5137e-01, -1.3594e-01,\n",
       "        -1.4714e-01, -2.1712e-02,  4.5569e-01, -9.4038e-02, -9.8344e-02,\n",
       "        -2.0766e-01,  2.2297e-01,  1.7191e-01, -3.5662e-02,  4.7064e-01,\n",
       "         4.9613e-02, -1.4781e-01, -1.9697e-01, -2.4177e-01,  2.1561e-01,\n",
       "         1.1975e-01, -3.4712e-01,  3.4218e-01,  1.7225e-01,  1.1234e-01,\n",
       "        -2.5513e-02, -1.0918e-01, -6.3739e-01, -6.1212e-03,  3.0718e-01,\n",
       "        -3.5295e-01,  1.2959e-01,  7.8714e-02,  2.6409e-03, -5.8964e-02,\n",
       "        -7.7277e-01,  1.7708e-01, -9.4990e-02, -5.8043e-02,  9.5522e-01,\n",
       "         5.2391e-01, -1.1730e-01, -1.5987e-01, -1.0387e+00,  1.2970e-02,\n",
       "        -7.4796e-01,  1.6921e-01,  8.3295e-02,  3.8767e-01,  3.0717e-01,\n",
       "         7.3497e-02, -1.7358e-01,  2.4322e-01, -8.5318e-02, -2.4529e-02,\n",
       "        -6.3559e-01, -5.4472e-01, -8.2435e-02, -9.0924e-02, -1.6363e-01,\n",
       "        -8.0211e-02, -2.9638e-01,  4.5886e-02, -1.3321e-02,  4.5077e-01,\n",
       "         1.2050e+00,  4.6841e-04, -3.1477e-01,  9.3327e-01,  5.6274e-01,\n",
       "        -2.8183e-01, -6.2796e-01,  2.5164e-01, -3.5019e-01,  1.1737e-01,\n",
       "        -2.2283e-01, -6.9180e-02, -2.4193e-01,  5.4336e-02,  2.4353e-02,\n",
       "        -5.4656e-03, -3.5378e-01,  3.0285e-01, -1.5079e-01,  2.2989e-03,\n",
       "        -8.3045e-02,  1.0300e-01, -3.3057e-01,  7.4846e-02, -9.9570e-02,\n",
       "        -8.2150e-01,  1.2718e-01, -1.6762e-02, -3.4492e-01,  1.7110e-01,\n",
       "        -1.9364e-01,  1.6779e-01, -3.1011e-01, -2.3775e-01,  1.8542e-01,\n",
       "         3.0005e-01,  4.5802e-03, -8.5115e-01,  3.3744e-01, -1.0622e-01,\n",
       "         6.3031e-01, -1.1382e-01, -7.0371e-02,  1.6929e-01,  1.5095e-01,\n",
       "         4.5014e-02,  2.4888e-01, -1.5211e-01, -1.2340e+00, -9.3451e-02,\n",
       "         7.8713e-02,  1.8741e-01, -1.3775e-01,  1.6889e-01, -1.2209e-01,\n",
       "        -1.0820e-01,  3.6025e-01, -1.6717e-01, -2.8073e-01,  5.2374e-01,\n",
       "         8.8810e-02, -1.0103e-01, -6.7604e-02,  5.9050e-01,  3.5771e-01,\n",
       "         1.5464e-01, -5.9924e-02, -2.9019e-01, -1.8018e-01,  5.8452e-01,\n",
       "         2.6196e-01, -1.9960e-01, -1.2600e-01, -5.8820e-02,  2.2048e-01,\n",
       "        -2.2923e-01, -2.6101e-02, -7.9186e-01, -6.2721e-01,  1.5946e-01,\n",
       "         2.1870e-01,  1.3852e-01, -5.8343e-02, -5.5828e-01,  5.0340e-02,\n",
       "         5.8072e-01, -1.0481e-01, -1.3810e+00, -1.5339e-01, -2.6990e-01],\n",
       "       device='cuda:0')"
      ]
     },
     "execution_count": 13,
     "metadata": {},
     "output_type": "execute_result"
    }
   ],
   "source": [
    "hidden_layer_forward_error_mean"
   ]
  },
  {
   "cell_type": "code",
   "execution_count": 14,
   "metadata": {},
   "outputs": [
    {
     "data": {
      "text/plain": [
       "<matplotlib.image.AxesImage at 0x2b8c5d7436a0>"
      ]
     },
     "execution_count": 14,
     "metadata": {},
     "output_type": "execute_result"
    },
    {
     "data": {
      "image/png": "[encoded data removed]",
      "text/plain": [
       "<Figure size 432x288 with 1 Axes>"
      ]
     },
     "metadata": {
      "needs_background": "light"
     },
     "output_type": "display_data"
    }
   ],
   "source": [
    "plt.imshow(torch2numpy(hidden_layer_forward_error_corr)[:50,:50])"
   ]
  },
  {
   "cell_type": "code",
   "execution_count": 15,
   "metadata": {},
   "outputs": [
    {
     "data": {
      "text/plain": [
       "0.86"
      ]
     },
     "execution_count": 15,
     "metadata": {},
     "output_type": "execute_result"
    }
   ],
   "source": [
    "(np.diag(torch2numpy(hidden_layer_forward_error_corr)) > epsilon).sum() / hidden_size"
   ]
  },
  {
   "cell_type": "code",
   "execution_count": 16,
   "metadata": {},
   "outputs": [
    {
     "data": {
      "text/plain": [
       "0.92"
      ]
     },
     "execution_count": 16,
     "metadata": {},
     "output_type": "execute_result"
    }
   ],
   "source": [
    "(np.linalg.eig(torch2numpy(hidden_layer_forward_error_corr))[0] < epsilon).sum() / hidden_size"
   ]
  },
  {
   "cell_type": "code",
   "execution_count": 17,
   "metadata": {},
   "outputs": [
    {
     "data": {
      "text/plain": [
       "0.958"
      ]
     },
     "execution_count": 17,
     "metadata": {},
     "output_type": "execute_result"
    }
   ],
   "source": [
    "(np.linalg.eig(torch2numpy(hidden_layer_backward_error_corr ))[0] < epsilon).sum() / hidden_size"
   ]
  },
  {
   "cell_type": "code",
   "execution_count": 24,
   "metadata": {},
   "outputs": [
    {
     "data": {
      "image/png": "[encoded data removed]",
      "text/plain": [
       "<Figure size 504x504 with 1 Axes>"
      ]
     },
     "metadata": {
      "needs_background": "light"
     },
     "output_type": "display_data"
    }
   ],
   "source": [
    "plt.figure(figsize = (7,7))\n",
    "plt.semilogy(np.linalg.eig(torch2numpy(hidden_layer_backward_error_corr ))[0])\n",
    "plt.axhline(y=0.15, color='r', linestyle='-')\n",
    "plt.grid()\n",
    "plt.ylabel(\"Eigenvalues\", fontsize =  20)\n",
    "plt.xticks(fontsize=20)\n",
    "plt.yticks(fontsize=20)\n",
    "plt.title(\"Backward Error Eigenvalues\", fontsize =  20)\n",
    "plt.show()"
   ]
  },
  {
   "cell_type": "code",
   "execution_count": 25,
   "metadata": {},
   "outputs": [
    {
     "data": {
      "image/png": "[encoded data removed]",
      "text/plain": [
       "<Figure size 504x504 with 1 Axes>"
      ]
     },
     "metadata": {
      "needs_background": "light"
     },
     "output_type": "display_data"
    }
   ],
   "source": [
    "plt.figure(figsize = (7,7))\n",
    "plt.semilogy(np.linalg.eig(torch2numpy(hidden_layer_forward_error_corr ))[0])\n",
    "plt.axhline(y=0.15, color='r', linestyle='-')\n",
    "plt.grid()\n",
    "plt.ylabel(\"Eigenvalues\", fontsize =  20)\n",
    "plt.title(\"Forward Error Eigenvalues\", fontsize =  20)\n",
    "plt.xticks(fontsize=20)\n",
    "plt.yticks(fontsize=20)\n",
    "plt.show()"
   ]
  },
  {
   "cell_type": "code",
   "execution_count": 20,
   "metadata": {},
   "outputs": [
    {
     "data": {
      "text/plain": [
       "tensor(-880.6201, device='cuda:0')"
      ]
     },
     "execution_count": 20,
     "metadata": {},
     "output_type": "execute_result"
    }
   ],
   "source": [
    "torch.logdet(hidden_layer_backward_error_corr + epsilon * torch.eye(hidden_size).to(device))"
   ]
  },
  {
   "cell_type": "code",
   "execution_count": 21,
   "metadata": {},
   "outputs": [
    {
     "data": {
      "text/plain": [
       "tensor(0.5223, device='cuda:0')"
      ]
     },
     "execution_count": 21,
     "metadata": {},
     "output_type": "execute_result"
    }
   ],
   "source": [
    "(torch.logdet(hidden_layer_backward_error_corr + epsilon * torch.eye(hidden_size).to(device)) - (torch.logdet(epsilon * torch.eye(hidden_size).to(device)) + (1/epsilon) * torch.trace(hidden_layer_backward_error_corr)))/ torch.logdet(hidden_layer_backward_error_corr + epsilon * torch.eye(hidden_size).to(device))"
   ]
  },
  {
   "cell_type": "code",
   "execution_count": 27,
   "metadata": {},
   "outputs": [
    {
     "data": {
      "text/plain": [
       "tensor(1.8967, device='cuda:0')"
      ]
     },
     "execution_count": 27,
     "metadata": {},
     "output_type": "execute_result"
    }
   ],
   "source": [
    "(torch.logdet(hidden_layer_forward_error_corr + epsilon * torch.eye(hidden_size).to(device)) - (torch.logdet(epsilon * torch.eye(hidden_size).to(device)) + (1/epsilon) * torch.trace(hidden_layer_forward_error_corr)))/ torch.logdet(hidden_layer_forward_error_corr + epsilon * torch.eye(hidden_size).to(device))"
   ]
  },
  {
   "cell_type": "code",
   "execution_count": 35,
   "metadata": {},
   "outputs": [
    {
     "data": {
      "text/plain": [
       "(array([ 82., 105.,  91.,  47.,  40.,  28.,  25.,  17.,   7.,  14.,   3.,\n",
       "          7.,   2.,   3.,   6.,   2.,   4.,   3.,   1.,   2.,   1.,   3.,\n",
       "          1.,   0.,   1.,   0.,   0.,   0.,   2.,   1.,   1.,   0.,   0.,\n",
       "          0.,   0.,   0.,   0.,   0.,   0.,   0.,   0.,   0.,   0.,   0.,\n",
       "          0.,   0.,   0.,   0.,   0.,   1.]),\n",
       " array([0.05983601, 0.16184196, 0.26384792, 0.36585388, 0.46785983,\n",
       "        0.56986576, 0.6718717 , 0.7738777 , 0.87588364, 0.9778896 ,\n",
       "        1.0798956 , 1.1819016 , 1.2839075 , 1.3859135 , 1.4879194 ,\n",
       "        1.5899254 , 1.6919314 , 1.7939373 , 1.8959433 , 1.9979492 ,\n",
       "        2.099955  , 2.201961  , 2.303967  , 2.405973  , 2.507979  ,\n",
       "        2.6099849 , 2.7119908 , 2.8139968 , 2.9160028 , 3.0180087 ,\n",
       "        3.1200147 , 3.2220206 , 3.3240266 , 3.4260325 , 3.5280385 ,\n",
       "        3.6300445 , 3.7320504 , 3.8340564 , 3.9360623 , 4.0380683 ,\n",
       "        4.1400743 , 4.24208   , 4.344086  , 4.446092  , 4.548098  ,\n",
       "        4.650104  , 4.75211   , 4.854116  , 4.956122  , 5.058128  ,\n",
       "        5.160134  ], dtype=float32),\n",
       " <BarContainer object of 50 artists>)"
      ]
     },
     "execution_count": 35,
     "metadata": {},
     "output_type": "execute_result"
    },
    {
     "data": {
      "image/png": "[encoded data removed]",
      "text/plain": [
       "<Figure size 432x288 with 1 Axes>"
      ]
     },
     "metadata": {
      "needs_background": "light"
     },
     "output_type": "display_data"
    }
   ],
   "source": [
    "plt.hist(torch2numpy(torch.diag(hidden_layer_forward_error_corr)), bins= 50)"
   ]
  },
  {
   "cell_type": "code",
   "execution_count": 23,
   "metadata": {},
   "outputs": [
    {
     "data": {
      "text/plain": [
       "tensor(1.8967, device='cuda:0')"
      ]
     },
     "execution_count": 23,
     "metadata": {},
     "output_type": "execute_result"
    }
   ],
   "source": [
    "(torch.logdet(hidden_layer_forward_error_corr + epsilon * torch.eye(hidden_size).to(device)) - (torch.logdet(epsilon * torch.eye(hidden_size)) + (1 / epsilon) * torch.trace(hidden_layer_forward_error_corr))) / torch.logdet(hidden_layer_forward_error_corr + epsilon * torch.eye(hidden_size).to(device))"
   ]
  },
  {
   "cell_type": "code",
   "execution_count": 45,
   "metadata": {},
   "outputs": [
    {
     "data": {
      "text/plain": [
       "tensor(-1553.8209, device='cuda:0')"
      ]
     },
     "execution_count": 45,
     "metadata": {},
     "output_type": "execute_result"
    }
   ],
   "source": [
    "torch.logdet(hidden_layer_forward_error_corr + epsilon * torch.eye(hidden_size).to(device))"
   ]
  },
  {
   "cell_type": "code",
   "execution_count": 46,
   "metadata": {},
   "outputs": [
    {
     "data": {
      "text/plain": [
       "tensor(-1897.1196)"
      ]
     },
     "execution_count": 46,
     "metadata": {},
     "output_type": "execute_result"
    }
   ],
   "source": [
    "torch.logdet(epsilon * torch.eye(hidden_size))"
   ]
  },
  {
   "cell_type": "code",
   "execution_count": 47,
   "metadata": {},
   "outputs": [
    {
     "data": {
      "text/plain": [
       "tensor(5125.2539, device='cuda:0')"
      ]
     },
     "execution_count": 47,
     "metadata": {},
     "output_type": "execute_result"
    }
   ],
   "source": [
    "(1 / epsilon) * torch.trace(hidden_layer_forward_error_corr)"
   ]
  },
  {
   "cell_type": "code",
   "execution_count": null,
   "metadata": {},
   "outputs": [],
   "source": [
    "(np.linalg.eig(torch2numpy(hidden_layer_forward_error_corr) - epsilon * np.eye(hidden_size,hidden_size))[0] > 0).sum() / hidden_size"
   ]
  },
  {
   "cell_type": "code",
   "execution_count": null,
   "metadata": {},
   "outputs": [],
   "source": [
    "layers_free = [x] + neurons\n",
    "forward_errors_free = [layers_free[jj + 1] - (model.Wff[jj]['weight'] @ layers_free[jj]) for jj in range(len(model.Wff))]\n",
    "\n",
    "backward_errors_free = [(layers_free[jj]) - (model.Wfb[jj]['weight'] @ layers_free[jj + 1]) for jj in range(1, len(model.Wfb))]"
   ]
  },
  {
   "cell_type": "code",
   "execution_count": null,
   "metadata": {},
   "outputs": [],
   "source": [
    "backward_errors_free[0].shape"
   ]
  },
  {
   "cell_type": "code",
   "execution_count": null,
   "metadata": {},
   "outputs": [],
   "source": [
    "x.shape"
   ]
  },
  {
   "cell_type": "code",
   "execution_count": null,
   "metadata": {},
   "outputs": [],
   "source": [
    "torch.sum(outer_prod_broadcasting(forward_errors_free[0].T, forward_errors_free[0].T), axis = 0).shape"
   ]
  },
  {
   "cell_type": "code",
   "execution_count": null,
   "metadata": {},
   "outputs": [],
   "source": [
    "backward_errors_free[0]"
   ]
  }
 ],
 "metadata": {
  "accelerator": "GPU",
  "colab": {
   "provenance": []
  },
  "gpuClass": "standard",
  "kernelspec": {
   "display_name": "Python 3 (ipykernel)",
   "language": "python",
   "name": "python3"
  },
  "language_info": {
   "codemirror_mode": {
    "name": "ipython",
    "version": 3
   },
   "file_extension": ".py",
   "mimetype": "text/x-python",
   "name": "python",
   "nbconvert_exporter": "python",
   "pygments_lexer": "ipython3",
   "version": "3.8.8"
  }
 },
 "nbformat": 4,
 "nbformat_minor": 1
}
